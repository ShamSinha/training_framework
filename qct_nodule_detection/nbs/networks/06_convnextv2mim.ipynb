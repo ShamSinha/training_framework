{
 "cells": [
  {
   "cell_type": "code",
   "execution_count": 4,
   "id": "15dd174c",
   "metadata": {},
   "outputs": [],
   "source": [
    "import torch\n",
    "from medct.convnextv2mim import ConvNextV2Config3d, ConvNextV2ForMaskedImageModeling, mask_patches"
   ]
  },
  {
   "cell_type": "code",
   "execution_count": 5,
   "id": "871f6500",
   "metadata": {},
   "outputs": [
    {
     "name": "stdout",
     "output_type": "stream",
     "text": [
      "tensor(0.7994, grad_fn=<DivBackward0>)\n"
     ]
    }
   ],
   "source": [
    "config = ConvNextV2Config3d(num_channels=1, image_size=(96, 192, 192), patch_size=(8, 16, 16), hidden_sizes=[40, 80], depths=[2, 2])\n",
    "model = ConvNextV2ForMaskedImageModeling(config)\n",
    "bool_masked_pos = mask_patches(model.num_patches, 0.4)\n",
    "out = model(torch.randn((1, 1, )+model.config.image_size), bool_masked_pos=bool_masked_pos)\n",
    "print(out.loss)"
   ]
  }
 ],
 "metadata": {
  "kernelspec": {
   "display_name": "Python (qct_deep)",
   "language": "python",
   "name": "qct_deep"
  },
  "language_info": {
   "codemirror_mode": {
    "name": "ipython",
    "version": 3
   },
   "file_extension": ".py",
   "mimetype": "text/x-python",
   "name": "python",
   "nbconvert_exporter": "python",
   "pygments_lexer": "ipython3",
   "version": "3.9.18"
  }
 },
 "nbformat": 4,
 "nbformat_minor": 5
}
