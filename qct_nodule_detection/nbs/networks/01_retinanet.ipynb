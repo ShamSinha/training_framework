{
 "cells": [
  {
   "cell_type": "code",
   "execution_count": 2,
   "id": "9a703a23",
   "metadata": {},
   "outputs": [],
   "source": [
    "#| default_exp networks/monai_retina3d"
   ]
  },
  {
   "cell_type": "code",
   "execution_count": 31,
   "id": "43403db2",
   "metadata": {},
   "outputs": [],
   "source": [
    "#| export \n",
    "import monai\n",
    "from monai.apps.detection.networks.retinanet_detector import RetinaNetDetector\n",
    "from monai.apps.detection.networks.retinanet_network import RetinaNet"
   ]
  },
  {
   "cell_type": "code",
   "execution_count": 32,
   "id": "c95613af",
   "metadata": {},
   "outputs": [],
   "source": [
    "import hydra"
   ]
  },
  {
   "cell_type": "code",
   "execution_count": 33,
   "id": "18f15a59",
   "metadata": {},
   "outputs": [],
   "source": [
    "hydra.core.global_hydra.GlobalHydra.instance().clear()\n",
    "hydra.initialize(\"../../hydra_configs/\", version_base=\"1.2\")\n",
    "cfg = hydra.compose(\"model/net/monai_retinanet.yaml\")"
   ]
  },
  {
   "cell_type": "code",
   "execution_count": 34,
   "id": "956dc338",
   "metadata": {},
   "outputs": [
    {
     "data": {
      "text/plain": [
       "{'model_cfg': {'spatial_dims': 3}, 'backbone': ResNet(\n",
       "  (conv1): Conv3d(3, 64, kernel_size=(7, 7, 7), stride=(2, 2, 1), padding=(3, 3, 3), bias=False)\n",
       "  (bn1): BatchNorm3d(64, eps=1e-05, momentum=0.1, affine=True, track_running_stats=True)\n",
       "  (relu): ReLU(inplace=True)\n",
       "  (maxpool): MaxPool3d(kernel_size=3, stride=2, padding=1, dilation=1, ceil_mode=False)\n",
       "  (layer1): Sequential(\n",
       "    (0): ResNetBlock(\n",
       "      (conv1): Conv3d(64, 64, kernel_size=(3, 3, 3), stride=(1, 1, 1), padding=(1, 1, 1), bias=False)\n",
       "      (bn1): BatchNorm3d(64, eps=1e-05, momentum=0.1, affine=True, track_running_stats=True)\n",
       "      (relu): ReLU(inplace=True)\n",
       "      (conv2): Conv3d(64, 64, kernel_size=(3, 3, 3), stride=(1, 1, 1), padding=(1, 1, 1), bias=False)\n",
       "      (bn2): BatchNorm3d(64, eps=1e-05, momentum=0.1, affine=True, track_running_stats=True)\n",
       "    )\n",
       "  )\n",
       "  (layer2): Sequential(\n",
       "    (0): ResNetBlock(\n",
       "      (conv1): Conv3d(64, 128, kernel_size=(3, 3, 3), stride=(2, 2, 2), padding=(1, 1, 1), bias=False)\n",
       "      (bn1): BatchNorm3d(128, eps=1e-05, momentum=0.1, affine=True, track_running_stats=True)\n",
       "      (relu): ReLU(inplace=True)\n",
       "      (conv2): Conv3d(128, 128, kernel_size=(3, 3, 3), stride=(1, 1, 1), padding=(1, 1, 1), bias=False)\n",
       "      (bn2): BatchNorm3d(128, eps=1e-05, momentum=0.1, affine=True, track_running_stats=True)\n",
       "      (downsample): Sequential(\n",
       "        (0): Conv3d(64, 128, kernel_size=(1, 1, 1), stride=(2, 2, 2))\n",
       "        (1): BatchNorm3d(128, eps=1e-05, momentum=0.1, affine=True, track_running_stats=True)\n",
       "      )\n",
       "    )\n",
       "  )\n",
       "  (layer3): Sequential(\n",
       "    (0): ResNetBlock(\n",
       "      (conv1): Conv3d(128, 256, kernel_size=(3, 3, 3), stride=(2, 2, 2), padding=(1, 1, 1), bias=False)\n",
       "      (bn1): BatchNorm3d(256, eps=1e-05, momentum=0.1, affine=True, track_running_stats=True)\n",
       "      (relu): ReLU(inplace=True)\n",
       "      (conv2): Conv3d(256, 256, kernel_size=(3, 3, 3), stride=(1, 1, 1), padding=(1, 1, 1), bias=False)\n",
       "      (bn2): BatchNorm3d(256, eps=1e-05, momentum=0.1, affine=True, track_running_stats=True)\n",
       "      (downsample): Sequential(\n",
       "        (0): Conv3d(128, 256, kernel_size=(1, 1, 1), stride=(2, 2, 2))\n",
       "        (1): BatchNorm3d(256, eps=1e-05, momentum=0.1, affine=True, track_running_stats=True)\n",
       "      )\n",
       "    )\n",
       "  )\n",
       "  (layer4): Sequential(\n",
       "    (0): ResNetBlock(\n",
       "      (conv1): Conv3d(256, 512, kernel_size=(3, 3, 3), stride=(2, 2, 2), padding=(1, 1, 1), bias=False)\n",
       "      (bn1): BatchNorm3d(512, eps=1e-05, momentum=0.1, affine=True, track_running_stats=True)\n",
       "      (relu): ReLU(inplace=True)\n",
       "      (conv2): Conv3d(512, 512, kernel_size=(3, 3, 3), stride=(1, 1, 1), padding=(1, 1, 1), bias=False)\n",
       "      (bn2): BatchNorm3d(512, eps=1e-05, momentum=0.1, affine=True, track_running_stats=True)\n",
       "      (downsample): Sequential(\n",
       "        (0): Conv3d(256, 512, kernel_size=(1, 1, 1), stride=(2, 2, 2))\n",
       "        (1): BatchNorm3d(512, eps=1e-05, momentum=0.1, affine=True, track_running_stats=True)\n",
       "      )\n",
       "    )\n",
       "  )\n",
       "  (avgpool): AdaptiveAvgPool3d(output_size=(1, 1, 1))\n",
       "  (fc): Linear(in_features=512, out_features=400, bias=True)\n",
       "), 'fpn_params': {'returned_layers': [1, 2, 3]}, 'fe': BackboneWithFPN(\n",
       "  (body): IntermediateLayerGetter(\n",
       "    (conv1): Conv3d(3, 64, kernel_size=(7, 7, 7), stride=(2, 2, 1), padding=(3, 3, 3), bias=False)\n",
       "    (bn1): BatchNorm3d(64, eps=1e-05, momentum=0.1, affine=True, track_running_stats=True)\n",
       "    (relu): ReLU(inplace=True)\n",
       "    (maxpool): MaxPool3d(kernel_size=3, stride=2, padding=1, dilation=1, ceil_mode=False)\n",
       "    (layer1): Sequential(\n",
       "      (0): ResNetBlock(\n",
       "        (conv1): Conv3d(64, 64, kernel_size=(3, 3, 3), stride=(1, 1, 1), padding=(1, 1, 1), bias=False)\n",
       "        (bn1): BatchNorm3d(64, eps=1e-05, momentum=0.1, affine=True, track_running_stats=True)\n",
       "        (relu): ReLU(inplace=True)\n",
       "        (conv2): Conv3d(64, 64, kernel_size=(3, 3, 3), stride=(1, 1, 1), padding=(1, 1, 1), bias=False)\n",
       "        (bn2): BatchNorm3d(64, eps=1e-05, momentum=0.1, affine=True, track_running_stats=True)\n",
       "      )\n",
       "    )\n",
       "    (layer2): Sequential(\n",
       "      (0): ResNetBlock(\n",
       "        (conv1): Conv3d(64, 128, kernel_size=(3, 3, 3), stride=(2, 2, 2), padding=(1, 1, 1), bias=False)\n",
       "        (bn1): BatchNorm3d(128, eps=1e-05, momentum=0.1, affine=True, track_running_stats=True)\n",
       "        (relu): ReLU(inplace=True)\n",
       "        (conv2): Conv3d(128, 128, kernel_size=(3, 3, 3), stride=(1, 1, 1), padding=(1, 1, 1), bias=False)\n",
       "        (bn2): BatchNorm3d(128, eps=1e-05, momentum=0.1, affine=True, track_running_stats=True)\n",
       "        (downsample): Sequential(\n",
       "          (0): Conv3d(64, 128, kernel_size=(1, 1, 1), stride=(2, 2, 2))\n",
       "          (1): BatchNorm3d(128, eps=1e-05, momentum=0.1, affine=True, track_running_stats=True)\n",
       "        )\n",
       "      )\n",
       "    )\n",
       "    (layer3): Sequential(\n",
       "      (0): ResNetBlock(\n",
       "        (conv1): Conv3d(128, 256, kernel_size=(3, 3, 3), stride=(2, 2, 2), padding=(1, 1, 1), bias=False)\n",
       "        (bn1): BatchNorm3d(256, eps=1e-05, momentum=0.1, affine=True, track_running_stats=True)\n",
       "        (relu): ReLU(inplace=True)\n",
       "        (conv2): Conv3d(256, 256, kernel_size=(3, 3, 3), stride=(1, 1, 1), padding=(1, 1, 1), bias=False)\n",
       "        (bn2): BatchNorm3d(256, eps=1e-05, momentum=0.1, affine=True, track_running_stats=True)\n",
       "        (downsample): Sequential(\n",
       "          (0): Conv3d(128, 256, kernel_size=(1, 1, 1), stride=(2, 2, 2))\n",
       "          (1): BatchNorm3d(256, eps=1e-05, momentum=0.1, affine=True, track_running_stats=True)\n",
       "        )\n",
       "      )\n",
       "    )\n",
       "  )\n",
       "  (fpn): FeaturePyramidNetwork(\n",
       "    (inner_blocks): ModuleList(\n",
       "      (0): Conv3d(64, 256, kernel_size=(1, 1, 1), stride=(1, 1, 1))\n",
       "      (1): Conv3d(128, 256, kernel_size=(1, 1, 1), stride=(1, 1, 1))\n",
       "      (2): Conv3d(256, 256, kernel_size=(1, 1, 1), stride=(1, 1, 1))\n",
       "    )\n",
       "    (layer_blocks): ModuleList(\n",
       "      (0-2): 3 x Conv3d(256, 256, kernel_size=(3, 3, 3), stride=(1, 1, 1), padding=(1, 1, 1))\n",
       "    )\n",
       "    (extra_blocks): LastLevelMaxPool(\n",
       "      (maxpool): MaxPool3d(kernel_size=1, stride=2, padding=0, dilation=1, ceil_mode=False)\n",
       "    )\n",
       "  )\n",
       "), 'anchor_params': AnchorGeneratorBasedonStride(), 'classes': ['nodule'], 'train_cfg': {'matcher': {'name': 'set_atss_matcher', 'attr': {'num_candidates': 12, 'center_in_gt': False}}, 'sampler': {'name': 'set_hard_negative_sampler', 'attr': {'batch_size_per_image': 500, 'positive_fraction': 0.15, 'min_neg': 400, 'pool_size': 40}}, 'reg_loss': {'box_loss': RegLoss(), 'encode_gt': False, 'decode_pred': True}, 'cls_loss': None}, 'loss_weight': 'auto'}"
      ]
     },
     "execution_count": 34,
     "metadata": {},
     "output_type": "execute_result"
    }
   ],
   "source": [
    "cfg = cfg.model.net\n",
    "cfg = hydra.utils.instantiate(cfg)\n",
    "cfg"
   ]
  },
  {
   "cell_type": "code",
   "execution_count": 5,
   "id": "9f714e97",
   "metadata": {},
   "outputs": [],
   "source": [
    "backbone = cfg.backbone"
   ]
  },
  {
   "cell_type": "code",
   "execution_count": 6,
   "id": "9c5213af",
   "metadata": {
    "scrolled": true
   },
   "outputs": [
    {
     "data": {
      "text/plain": [
       "ResNet(\n",
       "  (conv1): Conv3d(3, 64, kernel_size=(7, 7, 7), stride=(2, 2, 1), padding=(3, 3, 3), bias=False)\n",
       "  (bn1): BatchNorm3d(64, eps=1e-05, momentum=0.1, affine=True, track_running_stats=True)\n",
       "  (relu): ReLU(inplace=True)\n",
       "  (maxpool): MaxPool3d(kernel_size=3, stride=2, padding=1, dilation=1, ceil_mode=False)\n",
       "  (layer1): Sequential(\n",
       "    (0): ResNetBlock(\n",
       "      (conv1): Conv3d(64, 64, kernel_size=(3, 3, 3), stride=(1, 1, 1), padding=(1, 1, 1), bias=False)\n",
       "      (bn1): BatchNorm3d(64, eps=1e-05, momentum=0.1, affine=True, track_running_stats=True)\n",
       "      (relu): ReLU(inplace=True)\n",
       "      (conv2): Conv3d(64, 64, kernel_size=(3, 3, 3), stride=(1, 1, 1), padding=(1, 1, 1), bias=False)\n",
       "      (bn2): BatchNorm3d(64, eps=1e-05, momentum=0.1, affine=True, track_running_stats=True)\n",
       "    )\n",
       "  )\n",
       "  (layer2): Sequential(\n",
       "    (0): ResNetBlock(\n",
       "      (conv1): Conv3d(64, 128, kernel_size=(3, 3, 3), stride=(2, 2, 2), padding=(1, 1, 1), bias=False)\n",
       "      (bn1): BatchNorm3d(128, eps=1e-05, momentum=0.1, affine=True, track_running_stats=True)\n",
       "      (relu): ReLU(inplace=True)\n",
       "      (conv2): Conv3d(128, 128, kernel_size=(3, 3, 3), stride=(1, 1, 1), padding=(1, 1, 1), bias=False)\n",
       "      (bn2): BatchNorm3d(128, eps=1e-05, momentum=0.1, affine=True, track_running_stats=True)\n",
       "      (downsample): Sequential(\n",
       "        (0): Conv3d(64, 128, kernel_size=(1, 1, 1), stride=(2, 2, 2))\n",
       "        (1): BatchNorm3d(128, eps=1e-05, momentum=0.1, affine=True, track_running_stats=True)\n",
       "      )\n",
       "    )\n",
       "  )\n",
       "  (layer3): Sequential(\n",
       "    (0): ResNetBlock(\n",
       "      (conv1): Conv3d(128, 256, kernel_size=(3, 3, 3), stride=(2, 2, 2), padding=(1, 1, 1), bias=False)\n",
       "      (bn1): BatchNorm3d(256, eps=1e-05, momentum=0.1, affine=True, track_running_stats=True)\n",
       "      (relu): ReLU(inplace=True)\n",
       "      (conv2): Conv3d(256, 256, kernel_size=(3, 3, 3), stride=(1, 1, 1), padding=(1, 1, 1), bias=False)\n",
       "      (bn2): BatchNorm3d(256, eps=1e-05, momentum=0.1, affine=True, track_running_stats=True)\n",
       "      (downsample): Sequential(\n",
       "        (0): Conv3d(128, 256, kernel_size=(1, 1, 1), stride=(2, 2, 2))\n",
       "        (1): BatchNorm3d(256, eps=1e-05, momentum=0.1, affine=True, track_running_stats=True)\n",
       "      )\n",
       "    )\n",
       "  )\n",
       "  (layer4): Sequential(\n",
       "    (0): ResNetBlock(\n",
       "      (conv1): Conv3d(256, 512, kernel_size=(3, 3, 3), stride=(2, 2, 2), padding=(1, 1, 1), bias=False)\n",
       "      (bn1): BatchNorm3d(512, eps=1e-05, momentum=0.1, affine=True, track_running_stats=True)\n",
       "      (relu): ReLU(inplace=True)\n",
       "      (conv2): Conv3d(512, 512, kernel_size=(3, 3, 3), stride=(1, 1, 1), padding=(1, 1, 1), bias=False)\n",
       "      (bn2): BatchNorm3d(512, eps=1e-05, momentum=0.1, affine=True, track_running_stats=True)\n",
       "      (downsample): Sequential(\n",
       "        (0): Conv3d(256, 512, kernel_size=(1, 1, 1), stride=(2, 2, 2))\n",
       "        (1): BatchNorm3d(512, eps=1e-05, momentum=0.1, affine=True, track_running_stats=True)\n",
       "      )\n",
       "    )\n",
       "  )\n",
       "  (avgpool): AdaptiveAvgPool3d(output_size=(1, 1, 1))\n",
       "  (fc): Linear(in_features=512, out_features=400, bias=True)\n",
       ")"
      ]
     },
     "execution_count": 6,
     "metadata": {},
     "output_type": "execute_result"
    }
   ],
   "source": [
    "backbone"
   ]
  },
  {
   "cell_type": "code",
   "execution_count": 7,
   "id": "c4fb184b",
   "metadata": {
    "scrolled": true
   },
   "outputs": [],
   "source": [
    "feature_extractor = cfg.fe"
   ]
  },
  {
   "cell_type": "code",
   "execution_count": 8,
   "id": "f459db7c",
   "metadata": {
    "scrolled": true
   },
   "outputs": [
    {
     "data": {
      "text/plain": [
       "BackboneWithFPN(\n",
       "  (body): IntermediateLayerGetter(\n",
       "    (conv1): Conv3d(3, 64, kernel_size=(7, 7, 7), stride=(2, 2, 1), padding=(3, 3, 3), bias=False)\n",
       "    (bn1): BatchNorm3d(64, eps=1e-05, momentum=0.1, affine=True, track_running_stats=True)\n",
       "    (relu): ReLU(inplace=True)\n",
       "    (maxpool): MaxPool3d(kernel_size=3, stride=2, padding=1, dilation=1, ceil_mode=False)\n",
       "    (layer1): Sequential(\n",
       "      (0): ResNetBlock(\n",
       "        (conv1): Conv3d(64, 64, kernel_size=(3, 3, 3), stride=(1, 1, 1), padding=(1, 1, 1), bias=False)\n",
       "        (bn1): BatchNorm3d(64, eps=1e-05, momentum=0.1, affine=True, track_running_stats=True)\n",
       "        (relu): ReLU(inplace=True)\n",
       "        (conv2): Conv3d(64, 64, kernel_size=(3, 3, 3), stride=(1, 1, 1), padding=(1, 1, 1), bias=False)\n",
       "        (bn2): BatchNorm3d(64, eps=1e-05, momentum=0.1, affine=True, track_running_stats=True)\n",
       "      )\n",
       "    )\n",
       "    (layer2): Sequential(\n",
       "      (0): ResNetBlock(\n",
       "        (conv1): Conv3d(64, 128, kernel_size=(3, 3, 3), stride=(2, 2, 2), padding=(1, 1, 1), bias=False)\n",
       "        (bn1): BatchNorm3d(128, eps=1e-05, momentum=0.1, affine=True, track_running_stats=True)\n",
       "        (relu): ReLU(inplace=True)\n",
       "        (conv2): Conv3d(128, 128, kernel_size=(3, 3, 3), stride=(1, 1, 1), padding=(1, 1, 1), bias=False)\n",
       "        (bn2): BatchNorm3d(128, eps=1e-05, momentum=0.1, affine=True, track_running_stats=True)\n",
       "        (downsample): Sequential(\n",
       "          (0): Conv3d(64, 128, kernel_size=(1, 1, 1), stride=(2, 2, 2))\n",
       "          (1): BatchNorm3d(128, eps=1e-05, momentum=0.1, affine=True, track_running_stats=True)\n",
       "        )\n",
       "      )\n",
       "    )\n",
       "    (layer3): Sequential(\n",
       "      (0): ResNetBlock(\n",
       "        (conv1): Conv3d(128, 256, kernel_size=(3, 3, 3), stride=(2, 2, 2), padding=(1, 1, 1), bias=False)\n",
       "        (bn1): BatchNorm3d(256, eps=1e-05, momentum=0.1, affine=True, track_running_stats=True)\n",
       "        (relu): ReLU(inplace=True)\n",
       "        (conv2): Conv3d(256, 256, kernel_size=(3, 3, 3), stride=(1, 1, 1), padding=(1, 1, 1), bias=False)\n",
       "        (bn2): BatchNorm3d(256, eps=1e-05, momentum=0.1, affine=True, track_running_stats=True)\n",
       "        (downsample): Sequential(\n",
       "          (0): Conv3d(128, 256, kernel_size=(1, 1, 1), stride=(2, 2, 2))\n",
       "          (1): BatchNorm3d(256, eps=1e-05, momentum=0.1, affine=True, track_running_stats=True)\n",
       "        )\n",
       "      )\n",
       "    )\n",
       "  )\n",
       "  (fpn): FeaturePyramidNetwork(\n",
       "    (inner_blocks): ModuleList(\n",
       "      (0): Conv3d(64, 256, kernel_size=(1, 1, 1), stride=(1, 1, 1))\n",
       "      (1): Conv3d(128, 256, kernel_size=(1, 1, 1), stride=(1, 1, 1))\n",
       "      (2): Conv3d(256, 256, kernel_size=(1, 1, 1), stride=(1, 1, 1))\n",
       "    )\n",
       "    (layer_blocks): ModuleList(\n",
       "      (0-2): 3 x Conv3d(256, 256, kernel_size=(3, 3, 3), stride=(1, 1, 1), padding=(1, 1, 1))\n",
       "    )\n",
       "    (extra_blocks): LastLevelMaxPool(\n",
       "      (maxpool): MaxPool3d(kernel_size=1, stride=2, padding=0, dilation=1, ceil_mode=False)\n",
       "    )\n",
       "  )\n",
       ")"
      ]
     },
     "execution_count": 8,
     "metadata": {},
     "output_type": "execute_result"
    }
   ],
   "source": [
    "feature_extractor"
   ]
  },
  {
   "cell_type": "markdown",
   "id": "9f1def87",
   "metadata": {},
   "source": [
    "> Count total flops here. "
   ]
  },
  {
   "cell_type": "code",
   "execution_count": 9,
   "id": "5d628985",
   "metadata": {},
   "outputs": [
    {
     "data": {
      "text/plain": [
       "(32, 32, 16)"
      ]
     },
     "execution_count": 9,
     "metadata": {},
     "output_type": "execute_result"
    }
   ],
   "source": [
    "size_divisible = tuple(2 * s * 2 ** max(cfg.fpn_params.returned_layers) for s in feature_extractor.body.conv1.stride)\n",
    "size_divisible"
   ]
  },
  {
   "cell_type": "code",
   "execution_count": 10,
   "id": "f6390713",
   "metadata": {},
   "outputs": [
    {
     "data": {
      "text/plain": [
       "1"
      ]
     },
     "execution_count": 10,
     "metadata": {},
     "output_type": "execute_result"
    }
   ],
   "source": [
    "anchor_generator = cfg.anchor_params\n",
    "num_anchors = anchor_generator.num_anchors_per_location()[0]\n",
    "num_anchors"
   ]
  },
  {
   "cell_type": "code",
   "execution_count": 11,
   "id": "514037aa",
   "metadata": {},
   "outputs": [],
   "source": [
    "network = RetinaNet(\n",
    "    spatial_dims=cfg.model_cfg.spatial_dims,\n",
    "    num_classes=len(cfg.classes),\n",
    "    num_anchors=num_anchors,\n",
    "    feature_extractor=feature_extractor,\n",
    "    size_divisible=size_divisible,\n",
    ")"
   ]
  },
  {
   "cell_type": "code",
   "execution_count": 12,
   "id": "64d27a84",
   "metadata": {},
   "outputs": [
    {
     "name": "stdout",
     "output_type": "stream",
     "text": [
      "23283783\n"
     ]
    }
   ],
   "source": [
    "tparams = 0\n",
    "for name, params in network.named_parameters(): tparams+=params.numel()\n",
    "print(tparams)"
   ]
  },
  {
   "cell_type": "markdown",
   "id": "90bf70ed",
   "metadata": {},
   "source": [
    "#  FPN"
   ]
  },
  {
   "cell_type": "code",
   "execution_count": 22,
   "id": "ff5a15e3",
   "metadata": {},
   "outputs": [],
   "source": [
    "fpn_params = dict(\n",
    "    __class_fullname__=\"voxdet.networks.fpn.resnet_fpn3d_feature_extractor\", \n",
    "    out_channels=256, \n",
    "    returned_layers=[1, 2, 3]\n",
    ")\n",
    "\n",
    "model_cfg = dict(\n",
    "  spatial_dims = 3,\n",
    "  pretrained_backbone = False,\n",
    "  trainable_backbone_layers = None, \n",
    "  returned_layers = [1, 2],\n",
    ")\n",
    "\n",
    "backbone_cfg_own = dict(\n",
    "    __class_fullname__ = \"voxdet.networks.res_se_net.resnet10\", \n",
    "    ic = 1, \n",
    "    c1_ks=(7, 7, 7), \n",
    "    c1_stride = (1, 2, 2), \n",
    "    base_pool=False)"
   ]
  },
  {
   "cell_type": "code",
   "execution_count": 23,
   "id": "2916658b",
   "metadata": {},
   "outputs": [],
   "source": [
    "from voxdet.networks.fpn import resnet_fpn3d_feature_extractor\n",
    "from voxdet.utils import locate_cls\n"
   ]
  },
  {
   "cell_type": "code",
   "execution_count": 24,
   "id": "99c42fae",
   "metadata": {
    "scrolled": true
   },
   "outputs": [
    {
     "data": {
      "text/plain": [
       "BackbonewithFPN3D(\n",
       "  (body): IntermediateLayerGetter(\n",
       "    (base): Sequential(\n",
       "      (0): Conv3d(1, 64, kernel_size=(7, 7, 7), stride=(1, 2, 2), padding=(3, 3, 3), bias=False)\n",
       "      (1): BatchNorm3d(64, eps=1e-05, momentum=0.1, affine=True, track_running_stats=True)\n",
       "      (2): GeneralRelu: leak:0.1-sub:0.4-maxv:None\n",
       "    )\n",
       "    (layer1): ResStage(\n",
       "      (block0): ResBlock(\n",
       "        (convs): Sequential(\n",
       "          (0): Sequential(\n",
       "            (0): Conv3d(64, 64, kernel_size=(3, 3, 3), stride=(1, 1, 1), padding=(1, 1, 1), bias=False)\n",
       "            (1): BatchNorm3d(64, eps=1e-05, momentum=0.1, affine=True, track_running_stats=True)\n",
       "            (2): GeneralRelu: leak:0.1-sub:0.4-maxv:None\n",
       "          )\n",
       "          (1): Sequential(\n",
       "            (0): Conv3d(64, 64, kernel_size=(3, 3, 3), stride=(1, 1, 1), padding=(1, 1, 1), bias=False)\n",
       "            (1): BatchNorm3d(64, eps=1e-05, momentum=0.1, affine=True, track_running_stats=True)\n",
       "          )\n",
       "        )\n",
       "        (act): GeneralRelu: leak:0.1-sub:0.4-maxv:None\n",
       "      )\n",
       "    )\n",
       "    (layer2): ResStage(\n",
       "      (block0): ResBlock(\n",
       "        (convs): Sequential(\n",
       "          (0): Sequential(\n",
       "            (0): Conv3d(64, 128, kernel_size=(3, 3, 3), stride=(2, 2, 2), padding=(1, 1, 1), bias=False)\n",
       "            (1): BatchNorm3d(128, eps=1e-05, momentum=0.1, affine=True, track_running_stats=True)\n",
       "            (2): GeneralRelu: leak:0.1-sub:0.4-maxv:None\n",
       "          )\n",
       "          (1): Sequential(\n",
       "            (0): Conv3d(128, 128, kernel_size=(3, 3, 3), stride=(1, 1, 1), padding=(1, 1, 1), bias=False)\n",
       "            (1): BatchNorm3d(128, eps=1e-05, momentum=0.1, affine=True, track_running_stats=True)\n",
       "          )\n",
       "        )\n",
       "        (downsample): Sequential(\n",
       "          (0): Conv3d(64, 128, kernel_size=(1, 1, 1), stride=(2, 2, 2))\n",
       "          (1): BatchNorm3d(128, eps=1e-05, momentum=0.1, affine=True, track_running_stats=True)\n",
       "        )\n",
       "        (act): GeneralRelu: leak:0.1-sub:0.4-maxv:None\n",
       "      )\n",
       "    )\n",
       "    (layer3): ResStage(\n",
       "      (block0): ResBlock(\n",
       "        (convs): Sequential(\n",
       "          (0): Sequential(\n",
       "            (0): Conv3d(128, 256, kernel_size=(3, 3, 3), stride=(2, 2, 2), padding=(1, 1, 1), bias=False)\n",
       "            (1): BatchNorm3d(256, eps=1e-05, momentum=0.1, affine=True, track_running_stats=True)\n",
       "            (2): GeneralRelu: leak:0.1-sub:0.4-maxv:None\n",
       "          )\n",
       "          (1): Sequential(\n",
       "            (0): Conv3d(256, 256, kernel_size=(3, 3, 3), stride=(1, 1, 1), padding=(1, 1, 1), bias=False)\n",
       "            (1): BatchNorm3d(256, eps=1e-05, momentum=0.1, affine=True, track_running_stats=True)\n",
       "          )\n",
       "        )\n",
       "        (downsample): Sequential(\n",
       "          (0): Conv3d(128, 256, kernel_size=(1, 1, 1), stride=(2, 2, 2))\n",
       "          (1): BatchNorm3d(256, eps=1e-05, momentum=0.1, affine=True, track_running_stats=True)\n",
       "        )\n",
       "        (act): GeneralRelu: leak:0.1-sub:0.4-maxv:None\n",
       "      )\n",
       "    )\n",
       "  )\n",
       "  (fpn): FeaturePyramidNetwork(\n",
       "    (inner_blocks): ModuleList(\n",
       "      (0): Conv3d(64, 256, kernel_size=(1, 1, 1), stride=(1, 1, 1))\n",
       "      (1): Conv3d(128, 256, kernel_size=(1, 1, 1), stride=(1, 1, 1))\n",
       "      (2): Conv3d(256, 256, kernel_size=(1, 1, 1), stride=(1, 1, 1))\n",
       "    )\n",
       "    (layer_blocks): ModuleList(\n",
       "      (0-2): 3 x Conv3d(256, 256, kernel_size=(3, 3, 3), stride=(1, 1, 1), padding=(1, 1, 1))\n",
       "    )\n",
       "  )\n",
       ")"
      ]
     },
     "execution_count": 24,
     "metadata": {},
     "output_type": "execute_result"
    }
   ],
   "source": [
    "fe = locate_cls(fpn_params, return_partial=True)(backbone=locate_cls(backbone_cfg_own))\n",
    "fe"
   ]
  },
  {
   "cell_type": "code",
   "execution_count": 25,
   "id": "560cf021",
   "metadata": {},
   "outputs": [
    {
     "data": {
      "text/plain": [
       "(16, 32, 32)"
      ]
     },
     "execution_count": 25,
     "metadata": {},
     "output_type": "execute_result"
    }
   ],
   "source": [
    "size_divisible = tuple(2 * s * 2 ** max(fpn_params[\"returned_layers\"]) for s in fe.body.base[0].stride)\n",
    "size_divisible\n"
   ]
  },
  {
   "cell_type": "code",
   "execution_count": 13,
   "id": "85861c25",
   "metadata": {},
   "outputs": [],
   "source": [
    "#| export\n",
    "def _get_retina_model(cfg):\n",
    "    \n",
    "    fe = cfg.fe\n",
    "    anchor_generator = cfg.anchor_params\n",
    "    classes = cfg.classes\n",
    "    \n",
    "    fpn_params_cfg = cfg.fpn_params if 'fpn_params' in cfg else None\n",
    "    spatial_dims = cfg.model_cfg.spatial_dims if 'spatial_dims' in cfg.model_cfg else 3\n",
    "    \n",
    "    if hasattr(fe.body , \"embeddings\") : \n",
    "        if hasattr(fe.body.embeddings, \"projection\"):\n",
    "            size_divisible = tuple(2 * s * 2 ** max([1,2]) for s in fe.body.embeddings.projection.stride)\n",
    "        elif hasattr(fe.body.embeddings, \"patch_embeddings\"):\n",
    "            size_divisible = tuple(2 * s * 2 ** max([1,2]) for s in fe.body.embeddings.patch_embeddings.stride)\n",
    "        else:\n",
    "            raise NotImplementedError(\"fix this\")\n",
    "\n",
    "    elif hasattr(fe.body, \"conv1\") :\n",
    "        size_divisible = tuple(2 * s * 2 ** max(fpn_params_cfg.returned_layers) for s in fe.body.conv1.stride)\n",
    "    else:\n",
    "        size_divisible = tuple(2 * s * 2 ** max(fpn_params_cfg.returned_layers) for s in fe.body.base[0].stride)\n",
    "            \n",
    "    num_anchors = anchor_generator.num_anchors_per_location()[0]\n",
    "    network = RetinaNet(\n",
    "        spatial_dims = spatial_dims,\n",
    "        num_classes=len(classes),\n",
    "        num_anchors=num_anchors,\n",
    "        feature_extractor=fe,\n",
    "        size_divisible=size_divisible,\n",
    "    )\n",
    "    return network, anchor_generator\n"
   ]
  },
  {
   "cell_type": "code",
   "execution_count": 14,
   "id": "eea2f85d",
   "metadata": {},
   "outputs": [
    {
     "data": {
      "text/plain": [
       "{'model_cfg': {'spatial_dims': 3}, 'backbone': ResNet(\n",
       "  (conv1): Conv3d(3, 64, kernel_size=(7, 7, 7), stride=(2, 2, 1), padding=(3, 3, 3), bias=False)\n",
       "  (bn1): BatchNorm3d(64, eps=1e-05, momentum=0.1, affine=True, track_running_stats=True)\n",
       "  (relu): ReLU(inplace=True)\n",
       "  (maxpool): MaxPool3d(kernel_size=3, stride=2, padding=1, dilation=1, ceil_mode=False)\n",
       "  (layer1): Sequential(\n",
       "    (0): ResNetBlock(\n",
       "      (conv1): Conv3d(64, 64, kernel_size=(3, 3, 3), stride=(1, 1, 1), padding=(1, 1, 1), bias=False)\n",
       "      (bn1): BatchNorm3d(64, eps=1e-05, momentum=0.1, affine=True, track_running_stats=True)\n",
       "      (relu): ReLU(inplace=True)\n",
       "      (conv2): Conv3d(64, 64, kernel_size=(3, 3, 3), stride=(1, 1, 1), padding=(1, 1, 1), bias=False)\n",
       "      (bn2): BatchNorm3d(64, eps=1e-05, momentum=0.1, affine=True, track_running_stats=True)\n",
       "    )\n",
       "  )\n",
       "  (layer2): Sequential(\n",
       "    (0): ResNetBlock(\n",
       "      (conv1): Conv3d(64, 128, kernel_size=(3, 3, 3), stride=(2, 2, 2), padding=(1, 1, 1), bias=False)\n",
       "      (bn1): BatchNorm3d(128, eps=1e-05, momentum=0.1, affine=True, track_running_stats=True)\n",
       "      (relu): ReLU(inplace=True)\n",
       "      (conv2): Conv3d(128, 128, kernel_size=(3, 3, 3), stride=(1, 1, 1), padding=(1, 1, 1), bias=False)\n",
       "      (bn2): BatchNorm3d(128, eps=1e-05, momentum=0.1, affine=True, track_running_stats=True)\n",
       "      (downsample): Sequential(\n",
       "        (0): Conv3d(64, 128, kernel_size=(1, 1, 1), stride=(2, 2, 2))\n",
       "        (1): BatchNorm3d(128, eps=1e-05, momentum=0.1, affine=True, track_running_stats=True)\n",
       "      )\n",
       "    )\n",
       "  )\n",
       "  (layer3): Sequential(\n",
       "    (0): ResNetBlock(\n",
       "      (conv1): Conv3d(128, 256, kernel_size=(3, 3, 3), stride=(2, 2, 2), padding=(1, 1, 1), bias=False)\n",
       "      (bn1): BatchNorm3d(256, eps=1e-05, momentum=0.1, affine=True, track_running_stats=True)\n",
       "      (relu): ReLU(inplace=True)\n",
       "      (conv2): Conv3d(256, 256, kernel_size=(3, 3, 3), stride=(1, 1, 1), padding=(1, 1, 1), bias=False)\n",
       "      (bn2): BatchNorm3d(256, eps=1e-05, momentum=0.1, affine=True, track_running_stats=True)\n",
       "      (downsample): Sequential(\n",
       "        (0): Conv3d(128, 256, kernel_size=(1, 1, 1), stride=(2, 2, 2))\n",
       "        (1): BatchNorm3d(256, eps=1e-05, momentum=0.1, affine=True, track_running_stats=True)\n",
       "      )\n",
       "    )\n",
       "  )\n",
       "  (layer4): Sequential(\n",
       "    (0): ResNetBlock(\n",
       "      (conv1): Conv3d(256, 512, kernel_size=(3, 3, 3), stride=(2, 2, 2), padding=(1, 1, 1), bias=False)\n",
       "      (bn1): BatchNorm3d(512, eps=1e-05, momentum=0.1, affine=True, track_running_stats=True)\n",
       "      (relu): ReLU(inplace=True)\n",
       "      (conv2): Conv3d(512, 512, kernel_size=(3, 3, 3), stride=(1, 1, 1), padding=(1, 1, 1), bias=False)\n",
       "      (bn2): BatchNorm3d(512, eps=1e-05, momentum=0.1, affine=True, track_running_stats=True)\n",
       "      (downsample): Sequential(\n",
       "        (0): Conv3d(256, 512, kernel_size=(1, 1, 1), stride=(2, 2, 2))\n",
       "        (1): BatchNorm3d(512, eps=1e-05, momentum=0.1, affine=True, track_running_stats=True)\n",
       "      )\n",
       "    )\n",
       "  )\n",
       "  (avgpool): AdaptiveAvgPool3d(output_size=(1, 1, 1))\n",
       "  (fc): Linear(in_features=512, out_features=400, bias=True)\n",
       "), 'fpn_params': {'returned_layers': [1, 2, 3]}, 'fe': BackboneWithFPN(\n",
       "  (body): IntermediateLayerGetter(\n",
       "    (conv1): Conv3d(3, 64, kernel_size=(7, 7, 7), stride=(2, 2, 1), padding=(3, 3, 3), bias=False)\n",
       "    (bn1): BatchNorm3d(64, eps=1e-05, momentum=0.1, affine=True, track_running_stats=True)\n",
       "    (relu): ReLU(inplace=True)\n",
       "    (maxpool): MaxPool3d(kernel_size=3, stride=2, padding=1, dilation=1, ceil_mode=False)\n",
       "    (layer1): Sequential(\n",
       "      (0): ResNetBlock(\n",
       "        (conv1): Conv3d(64, 64, kernel_size=(3, 3, 3), stride=(1, 1, 1), padding=(1, 1, 1), bias=False)\n",
       "        (bn1): BatchNorm3d(64, eps=1e-05, momentum=0.1, affine=True, track_running_stats=True)\n",
       "        (relu): ReLU(inplace=True)\n",
       "        (conv2): Conv3d(64, 64, kernel_size=(3, 3, 3), stride=(1, 1, 1), padding=(1, 1, 1), bias=False)\n",
       "        (bn2): BatchNorm3d(64, eps=1e-05, momentum=0.1, affine=True, track_running_stats=True)\n",
       "      )\n",
       "    )\n",
       "    (layer2): Sequential(\n",
       "      (0): ResNetBlock(\n",
       "        (conv1): Conv3d(64, 128, kernel_size=(3, 3, 3), stride=(2, 2, 2), padding=(1, 1, 1), bias=False)\n",
       "        (bn1): BatchNorm3d(128, eps=1e-05, momentum=0.1, affine=True, track_running_stats=True)\n",
       "        (relu): ReLU(inplace=True)\n",
       "        (conv2): Conv3d(128, 128, kernel_size=(3, 3, 3), stride=(1, 1, 1), padding=(1, 1, 1), bias=False)\n",
       "        (bn2): BatchNorm3d(128, eps=1e-05, momentum=0.1, affine=True, track_running_stats=True)\n",
       "        (downsample): Sequential(\n",
       "          (0): Conv3d(64, 128, kernel_size=(1, 1, 1), stride=(2, 2, 2))\n",
       "          (1): BatchNorm3d(128, eps=1e-05, momentum=0.1, affine=True, track_running_stats=True)\n",
       "        )\n",
       "      )\n",
       "    )\n",
       "    (layer3): Sequential(\n",
       "      (0): ResNetBlock(\n",
       "        (conv1): Conv3d(128, 256, kernel_size=(3, 3, 3), stride=(2, 2, 2), padding=(1, 1, 1), bias=False)\n",
       "        (bn1): BatchNorm3d(256, eps=1e-05, momentum=0.1, affine=True, track_running_stats=True)\n",
       "        (relu): ReLU(inplace=True)\n",
       "        (conv2): Conv3d(256, 256, kernel_size=(3, 3, 3), stride=(1, 1, 1), padding=(1, 1, 1), bias=False)\n",
       "        (bn2): BatchNorm3d(256, eps=1e-05, momentum=0.1, affine=True, track_running_stats=True)\n",
       "        (downsample): Sequential(\n",
       "          (0): Conv3d(128, 256, kernel_size=(1, 1, 1), stride=(2, 2, 2))\n",
       "          (1): BatchNorm3d(256, eps=1e-05, momentum=0.1, affine=True, track_running_stats=True)\n",
       "        )\n",
       "      )\n",
       "    )\n",
       "  )\n",
       "  (fpn): FeaturePyramidNetwork(\n",
       "    (inner_blocks): ModuleList(\n",
       "      (0): Conv3d(64, 256, kernel_size=(1, 1, 1), stride=(1, 1, 1))\n",
       "      (1): Conv3d(128, 256, kernel_size=(1, 1, 1), stride=(1, 1, 1))\n",
       "      (2): Conv3d(256, 256, kernel_size=(1, 1, 1), stride=(1, 1, 1))\n",
       "    )\n",
       "    (layer_blocks): ModuleList(\n",
       "      (0-2): 3 x Conv3d(256, 256, kernel_size=(3, 3, 3), stride=(1, 1, 1), padding=(1, 1, 1))\n",
       "    )\n",
       "    (extra_blocks): LastLevelMaxPool(\n",
       "      (maxpool): MaxPool3d(kernel_size=1, stride=2, padding=0, dilation=1, ceil_mode=False)\n",
       "    )\n",
       "  )\n",
       "), 'anchor_params': AnchorGeneratorBasedonStride(), 'classes': ['nodule'], 'train_cfg': {'matcher': {'name': 'set_atss_matcher', 'attr': {'num_candidates': 12, 'center_in_gt': False}}, 'sampler': {'name': 'set_hard_negative_sampler', 'attr': {'batch_size_per_image': 500, 'positive_fraction': 0.15, 'min_neg': 400, 'pool_size': 40}}, 'reg_loss': {'box_loss': RegLoss(), 'encode_gt': False, 'decode_pred': True}, 'cls_loss': None}, 'loss_weight': 'auto'}"
      ]
     },
     "execution_count": 14,
     "metadata": {},
     "output_type": "execute_result"
    }
   ],
   "source": [
    "cfg"
   ]
  },
  {
   "cell_type": "code",
   "execution_count": 22,
   "id": "1d3ebee0",
   "metadata": {},
   "outputs": [],
   "source": [
    "network, anchor_generator = _get_retina_model(cfg)\n",
    "model = RetinaNetDetector(network, anchor_generator)"
   ]
  },
  {
   "cell_type": "code",
   "execution_count": 19,
   "id": "120a6d98",
   "metadata": {
    "scrolled": true
   },
   "outputs": [],
   "source": [
    "import torch"
   ]
  },
  {
   "cell_type": "code",
   "execution_count": 38,
   "id": "9331e02c",
   "metadata": {},
   "outputs": [
    {
     "data": {
      "text/plain": [
       "tensor(0.2014)"
      ]
     },
     "execution_count": 38,
     "metadata": {},
     "output_type": "execute_result"
    }
   ],
   "source": [
    ">>> target = torch.ones([10, 64], dtype=torch.float32)  # 64 classes, batch size = 10\n",
    ">>> output = torch.full([10, 64], 1.5)  # A prediction (logit)\n",
    ">>> pos_weight = torch.ones([64])  # All weights are equal to 1\n",
    ">>> criterion = torch.nn.BCEWithLogitsLoss(pos_weight=pos_weight)\n",
    ">>> criterion(output, target)  # -log(sigmoid(1.5))\n"
   ]
  },
  {
   "cell_type": "code",
   "execution_count": 37,
   "id": "e59b5e09",
   "metadata": {
    "scrolled": true
   },
   "outputs": [
    {
     "data": {
      "text/plain": [
       "tensor([3, 4, 4])"
      ]
     },
     "execution_count": 37,
     "metadata": {},
     "output_type": "execute_result"
    }
   ],
   "source": [
    "target"
   ]
  },
  {
   "cell_type": "code",
   "execution_count": 36,
   "id": "b031c20b",
   "metadata": {},
   "outputs": [],
   "source": [
    "target = torch.empty(3, dtype=torch.long).random_(5)"
   ]
  },
  {
   "cell_type": "code",
   "execution_count": 40,
   "id": "8ee0c46f",
   "metadata": {
    "scrolled": true
   },
   "outputs": [],
   "source": [
    "input = torch.randn(3, 5, requires_grad=True)"
   ]
  },
  {
   "cell_type": "code",
   "execution_count": 42,
   "id": "4d5c4e0d",
   "metadata": {},
   "outputs": [
    {
     "data": {
      "text/plain": [
       "torch.Size([3, 5])"
      ]
     },
     "execution_count": 42,
     "metadata": {},
     "output_type": "execute_result"
    }
   ],
   "source": [
    "input.shape"
   ]
  },
  {
   "cell_type": "code",
   "execution_count": 51,
   "id": "6f9eb6bc",
   "metadata": {},
   "outputs": [],
   "source": [
    ">>> loss = torch.nn.BCEWithLogitsLoss()\n",
    ">>> input = torch.randn(3, requires_grad=True)\n",
    ">>> c = torch.empty(3).random_(1)\n",
    ">>> output = loss(input, target)"
   ]
  },
  {
   "cell_type": "code",
   "execution_count": 73,
   "id": "e13bf178",
   "metadata": {},
   "outputs": [
    {
     "data": {
      "text/plain": [
       "tensor([0, 0, 0], dtype=torch.int32)"
      ]
     },
     "execution_count": 73,
     "metadata": {},
     "output_type": "execute_result"
    }
   ],
   "source": [
    "c.int16()"
   ]
  },
  {
   "cell_type": "code",
   "execution_count": 52,
   "id": "0921a67a",
   "metadata": {},
   "outputs": [
    {
     "data": {
      "text/plain": [
       "tensor(0.7725, grad_fn=<BinaryCrossEntropyWithLogitsBackward0>)"
      ]
     },
     "execution_count": 52,
     "metadata": {},
     "output_type": "execute_result"
    }
   ],
   "source": [
    "output"
   ]
  },
  {
   "cell_type": "code",
   "execution_count": 63,
   "id": "361b1708",
   "metadata": {},
   "outputs": [],
   "source": [
    "# Example of target with class indices\n",
    "loss = torch.nn.CrossEntropyLoss()\n",
    "input = torch.randn(3, 2, requires_grad=True)\n",
    "target = torch.empty(3, dtype=torch.long).random_(1)\n",
    "output = loss(input, target)\n",
    "output.backward()\n",
    "# # Example of target with class probabilities\n",
    "# input = torch.randn(3, 5, requires_grad=True)\n",
    "# target = torch.randn(3, 5).softmax(dim=1)\n",
    "# output = loss(input, target)\n",
    "# output.backward()"
   ]
  },
  {
   "cell_type": "code",
   "execution_count": 65,
   "id": "051a0fdf",
   "metadata": {
    "scrolled": true
   },
   "outputs": [
    {
     "name": "stdout",
     "output_type": "stream",
     "text": [
      "tensor([[ -0.,   0.],\n",
      "        [ -1.,   1.],\n",
      "        [ -2.,   2.],\n",
      "        [ -3.,   3.],\n",
      "        [ -4.,   4.],\n",
      "        [ -5.,   5.],\n",
      "        [ -6.,   6.],\n",
      "        [ -7.,   7.],\n",
      "        [ -8.,   8.],\n",
      "        [ -9.,   9.],\n",
      "        [-10.,  10.],\n",
      "        [-11.,  11.],\n",
      "        [-12.,  12.],\n",
      "        [-13.,  13.],\n",
      "        [-14.,  14.],\n",
      "        [-15.,  15.],\n",
      "        [-16.,  16.],\n",
      "        [-17.,  17.],\n",
      "        [-18.,  18.],\n",
      "        [-19.,  19.],\n",
      "        [-20.,  20.],\n",
      "        [-21.,  21.],\n",
      "        [-22.,  22.],\n",
      "        [-23.,  23.],\n",
      "        [-24.,  24.],\n",
      "        [-25.,  25.],\n",
      "        [-26.,  26.],\n",
      "        [-27.,  27.],\n",
      "        [-28.,  28.],\n",
      "        [-29.,  29.],\n",
      "        [-30.,  30.],\n",
      "        [-31.,  31.],\n",
      "        [-32.,  32.],\n",
      "        [-33.,  33.],\n",
      "        [-34.,  34.],\n",
      "        [-35.,  35.],\n",
      "        [-36.,  36.],\n",
      "        [-37.,  37.],\n",
      "        [-38.,  38.],\n",
      "        [-39.,  39.],\n",
      "        [-40.,  40.],\n",
      "        [-41.,  41.],\n",
      "        [-42.,  42.],\n",
      "        [-43.,  43.],\n",
      "        [-44.,  44.],\n",
      "        [-45.,  45.],\n",
      "        [-46.,  46.],\n",
      "        [-47.,  47.],\n",
      "        [-48.,  48.],\n",
      "        [-49.,  49.],\n",
      "        [-50.,  50.],\n",
      "        [-51.,  51.],\n",
      "        [-52.,  52.],\n",
      "        [-53.,  53.],\n",
      "        [-54.,  54.],\n",
      "        [-55.,  55.],\n",
      "        [-56.,  56.],\n",
      "        [-57.,  57.],\n",
      "        [-58.,  58.],\n",
      "        [-59.,  59.],\n",
      "        [-60.,  60.],\n",
      "        [-61.,  61.],\n",
      "        [-62.,  62.],\n",
      "        [-63.,  63.]])\n",
      "torch.Size([64, 2])\n"
     ]
    }
   ],
   "source": [
    "import torch\n",
    "\n",
    "# Sample tensor of shape [64, 1]\n",
    "tensor = torch.arange(64, dtype=torch.float32).view(64, 1)\n",
    "\n",
    "# Create the new tensor with [-a, a]\n",
    "new_tensor = torch.cat((-tensor, tensor), dim=1)\n",
    "\n",
    "# Print the result\n",
    "print(new_tensor)\n",
    "print(new_tensor.shape)\n"
   ]
  },
  {
   "cell_type": "code",
   "execution_count": 69,
   "id": "aed9f61f",
   "metadata": {},
   "outputs": [
    {
     "data": {
      "text/plain": [
       "torch.Size([64])"
      ]
     },
     "execution_count": 69,
     "metadata": {},
     "output_type": "execute_result"
    }
   ],
   "source": [
    "tensor.squeeze()"
   ]
  },
  {
   "cell_type": "code",
   "execution_count": 71,
   "id": "e6b10546",
   "metadata": {},
   "outputs": [
    {
     "data": {
      "text/plain": [
       "torch.Size([64, 1])"
      ]
     },
     "execution_count": 71,
     "metadata": {},
     "output_type": "execute_result"
    }
   ],
   "source": [
    "tensor.shape"
   ]
  },
  {
   "cell_type": "code",
   "execution_count": 77,
   "id": "be80fcdd",
   "metadata": {},
   "outputs": [
    {
     "data": {
      "text/plain": [
       "tensor([ 0,  1,  2,  3,  4,  5,  6,  7,  8,  9, 10, 11, 12, 13, 14, 15, 16, 17,\n",
       "        18, 19, 20, 21, 22, 23, 24, 25, 26, 27, 28, 29, 30, 31, 32, 33, 34, 35,\n",
       "        36, 37, 38, 39, 40, 41, 42, 43, 44, 45, 46, 47, 48, 49, 50, 51, 52, 53,\n",
       "        54, 55, 56, 57, 58, 59, 60, 61, 62, 63], dtype=torch.int32)"
      ]
     },
     "execution_count": 77,
     "metadata": {},
     "output_type": "execute_result"
    }
   ],
   "source": [
    "tensor.int().squeeze()"
   ]
  },
  {
   "cell_type": "markdown",
   "id": "f3e8c962",
   "metadata": {},
   "source": [
    "> In monai, once you get the model and anchor generator, we have to set up other trainer things like \n",
    "- which matcher to use. \n",
    "- which balancer to use. "
   ]
  },
  {
   "cell_type": "markdown",
   "id": "f7e61bdf",
   "metadata": {},
   "source": [
    "## ATSS Matcher"
   ]
  },
  {
   "cell_type": "code",
   "execution_count": 23,
   "id": "074f6443",
   "metadata": {},
   "outputs": [],
   "source": [
    "matcher = cfg.train_cfg.matcher"
   ]
  },
  {
   "cell_type": "code",
   "execution_count": 24,
   "id": "2ed9811a",
   "metadata": {},
   "outputs": [
    {
     "data": {
      "text/plain": [
       "{'name': 'set_atss_matcher', 'attr': {'num_candidates': 12, 'center_in_gt': False}}"
      ]
     },
     "execution_count": 24,
     "metadata": {},
     "output_type": "execute_result"
    }
   ],
   "source": [
    "matcher"
   ]
  },
  {
   "cell_type": "code",
   "execution_count": 25,
   "id": "18b7851d",
   "metadata": {},
   "outputs": [
    {
     "name": "stdout",
     "output_type": "stream",
     "text": [
      "2024-05-16 00:53:04,541 - Running ATSS Matching with num_candidates=12 and center_in_gt False.\n",
      "Loaded\n"
     ]
    }
   ],
   "source": [
    "getattr(model, matcher[\"name\"])(**matcher[\"attr\"])\n",
    "print(\"Loaded\")"
   ]
  },
  {
   "cell_type": "markdown",
   "id": "f7a106cf",
   "metadata": {},
   "source": [
    "## Sampler "
   ]
  },
  {
   "cell_type": "code",
   "execution_count": 26,
   "id": "3794b72d",
   "metadata": {},
   "outputs": [],
   "source": [
    "sampler = cfg.train_cfg.sampler"
   ]
  },
  {
   "cell_type": "code",
   "execution_count": 27,
   "id": "a639ca1c",
   "metadata": {},
   "outputs": [
    {
     "data": {
      "text/plain": [
       "{'name': 'set_hard_negative_sampler', 'attr': {'batch_size_per_image': 500, 'positive_fraction': 0.15, 'min_neg': 400, 'pool_size': 40}}"
      ]
     },
     "execution_count": 27,
     "metadata": {},
     "output_type": "execute_result"
    }
   ],
   "source": [
    "sampler"
   ]
  },
  {
   "cell_type": "code",
   "execution_count": 28,
   "id": "b8400fb0",
   "metadata": {},
   "outputs": [
    {
     "name": "stdout",
     "output_type": "stream",
     "text": [
      "2024-05-16 00:53:05,992 - Sampling hard negatives on a per batch basis\n",
      "Loaded\n"
     ]
    }
   ],
   "source": [
    "getattr(model, sampler[\"name\"])(**sampler[\"attr\"])\n",
    "print(\"Loaded\")"
   ]
  },
  {
   "cell_type": "markdown",
   "id": "258cce3b",
   "metadata": {},
   "source": [
    "## Regession and classification loss "
   ]
  },
  {
   "cell_type": "code",
   "execution_count": 29,
   "id": "9920346a",
   "metadata": {},
   "outputs": [],
   "source": [
    "loss = cfg.train_cfg.reg_loss"
   ]
  },
  {
   "cell_type": "code",
   "execution_count": 30,
   "id": "f61df1af",
   "metadata": {},
   "outputs": [
    {
     "data": {
      "text/plain": [
       "{'box_loss': RegLoss(), 'encode_gt': False, 'decode_pred': True}"
      ]
     },
     "execution_count": 30,
     "metadata": {},
     "output_type": "execute_result"
    }
   ],
   "source": [
    "loss"
   ]
  },
  {
   "cell_type": "code",
   "execution_count": 37,
   "id": "6c38bb7f",
   "metadata": {},
   "outputs": [],
   "source": [
    "#| export \n",
    "def retina_detector(cfg):\n",
    "    network, anchor_generator = _get_retina_model(cfg)\n",
    "    model = RetinaNetDetector(network, anchor_generator)\n",
    "    model.set_sliding_window_inferer(**cfg.infer_cfg, sw_device=None, device= None, progress=False)\n",
    "\n",
    "    if not hasattr(cfg, \"train_cfg\"): return model \n",
    "    \n",
    "    if hasattr(cfg.train_cfg, \"matcher\"): \n",
    "        matcher = cfg.train_cfg.matcher\n",
    "        getattr(model, matcher[\"name\"])(**matcher[\"attr\"])\n",
    "    \n",
    "    if hasattr(cfg.train_cfg, \"sampler\"): \n",
    "        sampler = cfg.train_cfg.sampler\n",
    "        getattr(model, sampler[\"name\"])(**sampler[\"attr\"])\n",
    "    \n",
    "    model.set_box_selector_parameters(nms_thresh=0.1)\n",
    "    \n",
    "    if hasattr(cfg.train_cfg, \"reg_loss\") and (cfg.train_cfg.reg_loss is not None):\n",
    "        reg_loss = cfg.train_cfg.reg_loss\n",
    "        getattr(model, \"set_box_regression_loss\")(**reg_loss)\n",
    "\n",
    "    if hasattr(cfg.train_cfg, \"cls_loss\") and (cfg.train_cfg.cls_loss is not None):\n",
    "        cls_loss = cfg.train_cfg.cls_loss\n",
    "        getattr(model, \"set_cls_loss\")(**cls_loss)\n",
    "\n",
    "    return model"
   ]
  },
  {
   "cell_type": "code",
   "execution_count": null,
   "id": "c75b12bb",
   "metadata": {},
   "outputs": [],
   "source": [
    "#| hide\n",
    "import nbdev; nbdev.nbdev_export()"
   ]
  },
  {
   "cell_type": "code",
   "execution_count": null,
   "id": "06e138b4",
   "metadata": {},
   "outputs": [],
   "source": []
  }
 ],
 "metadata": {
  "kernelspec": {
   "display_name": "Python 3 (ipykernel)",
   "language": "python",
   "name": "python3"
  },
  "language_info": {
   "codemirror_mode": {
    "name": "ipython",
    "version": 3
   },
   "file_extension": ".py",
   "mimetype": "text/x-python",
   "name": "python",
   "nbconvert_exporter": "python",
   "pygments_lexer": "ipython3",
   "version": "3.9.15"
  }
 },
 "nbformat": 4,
 "nbformat_minor": 5
}
