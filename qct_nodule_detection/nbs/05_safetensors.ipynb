{
 "cells": [
  {
   "cell_type": "code",
   "execution_count": 1,
   "id": "40e182e5",
   "metadata": {},
   "outputs": [],
   "source": [
    "#| default_exp safe_ds"
   ]
  },
  {
   "cell_type": "code",
   "execution_count": 2,
   "id": "867880eb",
   "metadata": {},
   "outputs": [],
   "source": [
    "%load_ext autoreload\n",
    "%autoreload 2"
   ]
  },
  {
   "cell_type": "code",
   "execution_count": 4,
   "id": "3b7f31bf",
   "metadata": {},
   "outputs": [
    {
     "name": "stderr",
     "output_type": "stream",
     "text": [
      "/tmp/ipykernel_4081557/3380558261.py:3: DeprecationWarning: \n",
      "Pyarrow will become a required dependency of pandas in the next major release of pandas (pandas 3.0),\n",
      "(to allow more performant data types, such as the Arrow string type, and better interoperability with other libraries)\n",
      "but was not found to be installed on your system.\n",
      "If this would cause problems for you,\n",
      "please provide us feedback at https://github.com/pandas-dev/pandas/issues/54466\n",
      "        \n",
      "  import pandas as pd\n"
     ]
    }
   ],
   "source": [
    "#| export \n",
    "import torch\n",
    "import pandas as pd\n",
    "import numpy as np\n",
    "import fastcore.all as fc\n",
    "import pytorch_lightning as pl\n",
    "\n",
    "from pathlib import Path\n",
    "from functools import partial\n",
    "from typing import Union, List\n",
    "from safetensors.numpy import load_file\n",
    "from torchvision.transforms import Compose\n",
    "from omegaconf import OmegaConf, ListConfig\n",
    "\n",
    "from voxdet.utils import locate_cls"
   ]
  },
  {
   "cell_type": "code",
   "execution_count": 5,
   "id": "584885fc",
   "metadata": {},
   "outputs": [],
   "source": [
    "import fastcore.all as fc\n",
    "from tqdm import tqdm\n",
    "from safetensors.numpy import save_file\n",
    "\n",
    "# from voxdet.tfsm.med import CropLung\n",
    "from voxdet.tfsm.standard import StandardT\n",
    "from voxdet.tfsm.voxt import RandPosCrop, Norm3d"
   ]
  },
  {
   "cell_type": "code",
   "execution_count": 19,
   "id": "7ce5a0b8",
   "metadata": {},
   "outputs": [
    {
     "data": {
      "text/plain": [
       "(36,\n",
       " Path('/cache/fast_data_nas8/cache_3d/qct_det_cache_new/lidc_cache/1.3.6.1.4.1.14519.5.2.1.6279.6001.144883090372691745980459537053.safetensors'))"
      ]
     },
     "execution_count": 19,
     "metadata": {},
     "output_type": "execute_result"
    }
   ],
   "source": [
    "files = list(fc.Path(\"/cache/fast_data_nas8/cache_3d/qct_det_cache_new/lidc_cache/\").glob(\"*.safetensors\"))\n",
    "len(files), files[0]"
   ]
  },
  {
   "cell_type": "code",
   "execution_count": 6,
   "id": "e29c3346",
   "metadata": {},
   "outputs": [],
   "source": [
    "#tt = np.concatenate([load_file(file_name)[\"boxes\"] for file_name in tqdm(files)])"
   ]
  },
  {
   "cell_type": "code",
   "execution_count": 20,
   "id": "19b5df20",
   "metadata": {},
   "outputs": [
    {
     "name": "stdout",
     "output_type": "stream",
     "text": [
      "CPU times: user 6.32 ms, sys: 91.3 ms, total: 97.6 ms\n",
      "Wall time: 726 ms\n"
     ]
    }
   ],
   "source": [
    "%%time \n",
    "file_name = files[np.random.randint(len(files))]\n",
    "fl = load_file(file_name)"
   ]
  },
  {
   "cell_type": "code",
   "execution_count": 21,
   "id": "99a4e6c0",
   "metadata": {},
   "outputs": [
    {
     "data": {
      "text/plain": [
       "Path('/cache/fast_data_nas8/cache_3d/qct_det_cache_new/lidc_cache/1.3.6.1.4.1.14519.5.2.1.6279.6001.144883090372691745980459537053.safetensors')"
      ]
     },
     "execution_count": 21,
     "metadata": {},
     "output_type": "execute_result"
    }
   ],
   "source": [
    "file_name"
   ]
  },
  {
   "cell_type": "code",
   "execution_count": 22,
   "id": "4434d549",
   "metadata": {},
   "outputs": [
    {
     "data": {
      "text/plain": [
       "array([[179.5,  93.5,  29.5, 193.5, 120.5,  67.5],\n",
       "       [144.5,  82.5, 372.5, 146.5,  88.5, 378.5],\n",
       "       [ 94.5, 212.5,  76.5,  96.5, 223.5,  92.5]])"
      ]
     },
     "execution_count": 22,
     "metadata": {},
     "output_type": "execute_result"
    }
   ],
   "source": [
    "fl[\"boxes\"]"
   ]
  },
  {
   "cell_type": "markdown",
   "id": "37bf8ed0",
   "metadata": {},
   "source": [
    "## Visualize the nodules."
   ]
  },
  {
   "cell_type": "code",
   "execution_count": 6,
   "id": "cf8c6230",
   "metadata": {},
   "outputs": [],
   "source": [
    "from voxdet.retina_test import convert2int, draw_on_ct\n",
    "from qct_utils.ctvis.viewer import plot_scans"
   ]
  },
  {
   "cell_type": "code",
   "execution_count": 9,
   "id": "0f4ecbfb",
   "metadata": {},
   "outputs": [],
   "source": [
    "wrong_lung_seg_sids = [\"1.3.6.1.4.1.14519.5.2.1.6279.6001.157537616155071783765339942952\",\n",
    "                 \"1.3.6.1.4.1.14519.5.2.1.6279.6001.312704771348460502013249647868\",\n",
    "                 \"1.3.6.1.4.1.14519.5.2.1.6279.6001.144883090372691745980459537053\",\n",
    "                 \"1.3.6.1.4.1.14519.5.2.1.6279.6001.618434772073433276874225174904\",\n",
    "                 \"1.3.6.1.4.1.14519.5.2.1.6279.6001.300246184547502297539521283806\",\n",
    "                 \"1.3.6.1.4.1.14519.5.2.1.6279.6001.202283133206014258077705539227\"]"
   ]
  },
  {
   "cell_type": "code",
   "execution_count": 10,
   "id": "145be38e",
   "metadata": {},
   "outputs": [
    {
     "data": {
      "text/plain": [
       "array([[ 54, 232, 328,  58, 244, 340],\n",
       "       [ 43, 219, 254,  49, 254, 272],\n",
       "       [ 34, 182, 172,  38, 190, 181],\n",
       "       [ 27, 234, 272,  31, 244, 280],\n",
       "       [ 21, 222,  89,  25, 235, 102]])"
      ]
     },
     "execution_count": 10,
     "metadata": {},
     "output_type": "execute_result"
    }
   ],
   "source": [
    "# file_name = files[np.random.randint(len(files))]\n",
    "file_name = f'/cache/shubham/lidc_cache/{wrong_lung_seg_sids[0]}.safetensors'\n",
    "fl = load_file(file_name)\n",
    "boxes = convert2int(fl[\"boxes\"])\n",
    "img = fl[\"images\"]\n",
    "boxes"
   ]
  },
  {
   "cell_type": "code",
   "execution_count": 11,
   "id": "9a1aed96",
   "metadata": {},
   "outputs": [
    {
     "data": {
      "text/plain": [
       "'/cache/shubham/lidc_cache/1.3.6.1.4.1.14519.5.2.1.6279.6001.157537616155071783765339942952.safetensors'"
      ]
     },
     "execution_count": 11,
     "metadata": {},
     "output_type": "execute_result"
    }
   ],
   "source": [
    "file_name"
   ]
  },
  {
   "cell_type": "code",
   "execution_count": 43,
   "id": "84f94fce",
   "metadata": {},
   "outputs": [],
   "source": [
    "# for file in tqdm(files):\n",
    "#     fl = load_file(file_name)\n",
    "#     boxes = convert2int(fl[\"boxes\"])\n",
    "#     if np.any(boxes<0): breakpoint()"
   ]
  },
  {
   "cell_type": "code",
   "execution_count": 50,
   "id": "c38157d9",
   "metadata": {},
   "outputs": [],
   "source": [
    "lung_mask = np.load(f\"/cache/fast_data_nas8/qct/shubham/lidc_lung_sep_safetensors/lung_mask_cache/{wrong_lung_seg}_lung_mask.npy\")\n"
   ]
  },
  {
   "cell_type": "code",
   "execution_count": 51,
   "id": "f286ba87",
   "metadata": {},
   "outputs": [
    {
     "data": {
      "text/plain": [
       "(240, 512, 512)"
      ]
     },
     "execution_count": 51,
     "metadata": {},
     "output_type": "execute_result"
    }
   ],
   "source": [
    "lung_mask.shape"
   ]
  },
  {
   "cell_type": "code",
   "execution_count": 58,
   "id": "8e9287f3",
   "metadata": {},
   "outputs": [
    {
     "data": {
      "image/png": "[encoded data removed]",
      "text/plain": [
       "<PIL.Image.Image image mode=RGB size=320x320>"
      ]
     },
     "execution_count": 58,
     "metadata": {},
     "output_type": "execute_result"
    }
   ],
   "source": [
    "from voxdet.utils import vis, hu_to_lung_window\n",
    "\n",
    "vis(lung_mask*255, size=64, window=False)"
   ]
  },
  {
   "cell_type": "code",
   "execution_count": 59,
   "id": "3b98f77c",
   "metadata": {},
   "outputs": [
    {
     "data": {
      "image/png": "[encoded data removed]",
      "text/plain": [
       "<PIL.Image.Image image mode=RGB size=320x320>"
      ]
     },
     "execution_count": 59,
     "metadata": {},
     "output_type": "execute_result"
    }
   ],
   "source": [
    "left_lung = lung_mask.copy()\n",
    "left_lung[left_lung == 1] = 0\n",
    "vis(left_lung*255, size=64, window=False)"
   ]
  },
  {
   "cell_type": "code",
   "execution_count": 60,
   "id": "b22d106b",
   "metadata": {},
   "outputs": [
    {
     "data": {
      "image/png": "[encoded data removed]",
      "text/plain": [
       "<PIL.Image.Image image mode=RGB size=320x320>"
      ]
     },
     "execution_count": 60,
     "metadata": {},
     "output_type": "execute_result"
    }
   ],
   "source": [
    "right_lung = lung_mask.copy()\n",
    "right_lung[right_lung == 2] = 0\n",
    "vis(right_lung*255, size=64, window=False)"
   ]
  },
  {
   "cell_type": "code",
   "execution_count": 61,
   "id": "7db1b2d2",
   "metadata": {},
   "outputs": [],
   "source": [
    "dimg = draw_on_ct(img, boxes)"
   ]
  },
  {
   "cell_type": "code",
   "execution_count": 62,
   "id": "cd536aee",
   "metadata": {},
   "outputs": [
    {
     "data": {
      "application/vnd.jupyter.widget-view+json": {
       "model_id": "c38cbb3649ab458c830af359fea5b606",
       "version_major": 2,
       "version_minor": 0
      },
      "text/plain": [
       "interactive(children=(RadioButtons(description='Slice plane selection:', index=2, options=('y-z', 'z-x', 'x-y'…"
      ]
     },
     "metadata": {},
     "output_type": "display_data"
    }
   ],
   "source": [
    "plot_scans([dimg, img], [\"scan\", \"raw\"])"
   ]
  },
  {
   "cell_type": "code",
   "execution_count": 21,
   "id": "f9ecb7e9",
   "metadata": {},
   "outputs": [
    {
     "data": {
      "text/plain": [
       "(#0) []"
      ]
     },
     "execution_count": 21,
     "metadata": {},
     "output_type": "execute_result"
    }
   ],
   "source": [
    "fc.L([i.name[:-7] for i in fc.L(Path(\"/qct_cache/\").glob(\"*.safetensors\"))])"
   ]
  },
  {
   "cell_type": "code",
   "execution_count": 22,
   "id": "3f8934a7",
   "metadata": {},
   "outputs": [],
   "source": [
    "#| export\n",
    "def get_scan_ids_inside_folder(folder_path: Union[str, List[str]], ext: str=\".nii.gz\"):\n",
    "    def _run(folder): return fc.L([i.name[:-7] for i in fc.L(Path(folder).glob(f\"*{ext}\"))])\n",
    "    return _run(folder_path) if isinstance(folder_path, str) else [j for i in folder_path for j in _run(i)]"
   ]
  },
  {
   "cell_type": "code",
   "execution_count": 23,
   "id": "339edc5c",
   "metadata": {},
   "outputs": [
    {
     "data": {
      "text/plain": [
       "(#0) []"
      ]
     },
     "execution_count": 23,
     "metadata": {},
     "output_type": "execute_result"
    }
   ],
   "source": [
    "get_scan_ids_inside_folder(\"/qct_cache\", ext=\".safetensors\")"
   ]
  },
  {
   "cell_type": "code",
   "execution_count": 24,
   "id": "ca3fd4c6",
   "metadata": {},
   "outputs": [],
   "source": [
    "#| export \n",
    "def get_scan_ids_from_txt(file_path: str):\n",
    "    files = [i.split()[0] for i in open(file_path, \"r\")]\n",
    "    return files"
   ]
  },
  {
   "cell_type": "code",
   "execution_count": 25,
   "id": "aa1d2c27",
   "metadata": {},
   "outputs": [
    {
     "data": {
      "text/plain": [
       "(1040, '1.3.6.1.4.1.14519.5.2.1.6279.6001.190188259083742759886805142125')"
      ]
     },
     "execution_count": 25,
     "metadata": {},
     "output_type": "execute_result"
    }
   ],
   "source": [
    "#| hide\n",
    "scans = get_scan_ids_from_txt(\"/home/users/vanapalli.prakash/foundations/qct_nodule_detection/deps/qct_data/annotations/stratified_splits/lidc/train.txt\")\n",
    "len(scans), scans[0]"
   ]
  },
  {
   "cell_type": "code",
   "execution_count": 26,
   "id": "bbe7b79d",
   "metadata": {},
   "outputs": [
    {
     "data": {
      "text/plain": [
       "(#0) []"
      ]
     },
     "execution_count": 26,
     "metadata": {},
     "output_type": "execute_result"
    }
   ],
   "source": [
    "fc.L([i.name[:-12] for i in fc.L(Path(\"/qct_cache\").glob(\"*.safetensors\"))])"
   ]
  },
  {
   "cell_type": "code",
   "execution_count": 27,
   "id": "30b1996f",
   "metadata": {},
   "outputs": [],
   "source": [
    "#| export\n",
    "def get_scan_ids_inside_folder(folder_path: Union[str, List[str]], ext: str=\".nii.gz\"):\n",
    "    def _run(folder): \n",
    "        if ext == '.safetensors':\n",
    "            return fc.L([i.name[:-12] for i in fc.L(Path(folder).glob(f\"*{ext}\"))])\n",
    "        if ext == \".nii.gz\":\n",
    "            return fc.L([i.name[:-7] for i in fc.L(Path(folder).glob(f\"*{ext}\"))])\n",
    "        else:\n",
    "            raise NotImplementedError\n",
    "    return _run(folder_path) if isinstance(folder_path, str) else [j for i in folder_path for j in _run(i)]"
   ]
  },
  {
   "cell_type": "code",
   "execution_count": 28,
   "id": "371ab996",
   "metadata": {},
   "outputs": [
    {
     "data": {
      "text/plain": [
       "(#531) ['1.3.6.1.4.1.14519.5.2.1.6279.6001.157537616155071783765339942952_left','1.3.6.1.4.1.14519.5.2.1.6279.6001.143813757344903170810482790787','1.3.6.1.4.1.14519.5.2.1.6279.6001.226383054119800793308721198594_right','1.3.6.1.4.1.14519.5.2.1.6279.6001.428038562098395445838061018440_right','1.3.6.1.4.1.14519.5.2.1.6279.6001.340202188094259402036602717327_left','1.3.6.1.4.1.14519.5.2.1.6279.6001.244447966386688625240438849169_right','1.3.6.1.4.1.14519.5.2.1.6279.6001.259124675432205040899951626253','1.3.6.1.4.1.14519.5.2.1.6279.6001.712472578497712558367294720243_left','1.3.6.1.4.1.14519.5.2.1.6279.6001.122763913896761494371822656720','1.3.6.1.4.1.14519.5.2.1.6279.6001.406508755509460310384282367044_right'...]"
      ]
     },
     "execution_count": 28,
     "metadata": {},
     "output_type": "execute_result"
    }
   ],
   "source": [
    "get_scan_ids_inside_folder(\"//cache/fast_data_nas8/cache_3d/qct_det_cache_new/lidc_cache/folds_0\", ext=\".safetensors\")"
   ]
  },
  {
   "cell_type": "code",
   "execution_count": 29,
   "id": "533ec615",
   "metadata": {},
   "outputs": [
    {
     "data": {
      "text/plain": [
       "0      1.3.6.1.4.1.14519.5.2.1.6279.6001.170765551637...\n",
       "1      1.3.6.1.4.1.14519.5.2.1.6279.6001.340202188094...\n",
       "2      1.3.6.1.4.1.14519.5.2.1.6279.6001.149463915556...\n",
       "3      1.3.6.1.4.1.14519.5.2.1.6279.6001.286524966129...\n",
       "4      1.3.6.1.4.1.14519.5.2.1.6279.6001.797637294244...\n",
       "                             ...                        \n",
       "172    1.3.6.1.4.1.14519.5.2.1.6279.6001.566816709786...\n",
       "173    1.3.6.1.4.1.14519.5.2.1.6279.6001.173556680294...\n",
       "174    1.3.6.1.4.1.14519.5.2.1.6279.6001.323753921818...\n",
       "175    1.3.6.1.4.1.14519.5.2.1.6279.6001.240630002689...\n",
       "176    1.3.6.1.4.1.14519.5.2.1.6279.6001.141174904898...\n",
       "Name: scans, Length: 177, dtype: object"
      ]
     },
     "execution_count": 29,
     "metadata": {},
     "output_type": "execute_result"
    }
   ],
   "source": [
    "import pandas as pd\n",
    "pd.read_csv(fc.Path(\"../studies/only_lidc/folds1/folds_0.csv\"))[\"scans\"]"
   ]
  },
  {
   "cell_type": "code",
   "execution_count": 9,
   "id": "4c4e6e33",
   "metadata": {},
   "outputs": [],
   "source": [
    "#| export \n",
    "class SafeTensorsDS(torch.utils.data.Dataset):\n",
    "    def __init__(self, root: Union[str, List[str]], include: Union[str, List[str]]=None, individual_lung: bool = False):\n",
    "        super().__init__()\n",
    "        self.root = root\n",
    "        # self.transforms = Compose(transforms) if transforms is not None else transforms\n",
    "        if not individual_lung : \n",
    "            self.imgs = list(Path(root).glob(\"*.safetensors\")) if isinstance(self.root, str) else \\\n",
    "            [j for i in self.root for j in list(Path(i).glob(\"*.safetensors\"))]\n",
    "        else :\n",
    "            self.imgs = list(Path(root).glob(\"*left.safetensors\")) + list(Path(root).glob(\"*right.safetensors\"))  if isinstance(self.root, str) else \\\n",
    "            [j for i in self.root for j in list(Path(i).glob(\"*left.safetensors\"))] + [j for i in self.root for j in list(Path(i).glob(\"*right.safetensors\"))]\n",
    "\n",
    "        if include is not None:\n",
    "            if isinstance(include, list):\n",
    "                \n",
    "                if fc.Path(include[0]).suffix ==\".csv\":\n",
    "                    series_ids = fc.L([j for i in include for j in pd.read_csv(i)[\"scans\"].values])\n",
    "                if fc.Path(include[0]).suffix ==\".txt\":\n",
    "                    series_ids = fc.L([j for i in include for j in get_scan_ids_from_txt(i)])\n",
    "            elif isinstance(include, str):\n",
    "                series_ids = get_scan_ids_from_txt(include) if \".txt\" in include else get_scan_ids_inside_folder(include)\n",
    "\n",
    "            if individual_lung:\n",
    "                series_ids = [s + suffix for s in series_ids for suffix in [\"_left\", \"_right\"]]\n",
    "\n",
    "            self.imgs = [i for i in self.imgs if i.stem in series_ids]\n",
    "\n",
    "        print(f\"total images: {len(self.imgs)}\")\n",
    "        if len(self.imgs)==0: raise ValueError(f\"there are no images with `.safetensors` as extensions in {self.root}\")\n",
    "        \n",
    "    def __getitem__(self, idx):\n",
    "        fl = load_file(self.imgs[idx])\n",
    "        fl[\"series_id\"] = self.imgs[idx].stem\n",
    "        # if self.transforms is not None: fl = self.transforms(fl)\n",
    "        return fl\n",
    "    \n",
    "    def __len__(self): return len(self.imgs)"
   ]
  },
  {
   "cell_type": "code",
   "execution_count": 31,
   "id": "23892e72",
   "metadata": {},
   "outputs": [
    {
     "data": {
      "text/plain": [
       "[Path('../studies/only_lidc/folds1/folds_0'),\n",
       " Path('../studies/only_lidc/folds1/folds_1'),\n",
       " Path('../studies/only_lidc/folds1/folds_2'),\n",
       " Path('../studies/only_lidc/folds1/folds_3')]"
      ]
     },
     "execution_count": 31,
     "metadata": {},
     "output_type": "execute_result"
    }
   ],
   "source": [
    "#ds = SafeTensorsDS(root=[f\"/home/users/vanapalli.prakash/lidc3/folds_{i}\" for i in range(4)])\n",
    "#train_txt = \"/home/users/vanapalli.prakash/foundations/qct_nodule_detection/deps/qct_data/annotations/stratified_splits/lidc/train.txt\"\n",
    "train_txt = [i for i in fc.Path(\"../studies/only_lidc/folds1/\").glob(\"*.csv\")]\n",
    "train_txt\n",
    "\n",
    "train_txt = [fc.Path(f\"../studies/only_lidc/folds1/folds_{i}\") for i in range(4)]\n",
    "train_txt\n",
    "\n",
    "# ds = SafeTensorsDS(root=\"/qct_cache/lidc_cache_qct/\", include=train_txt)\n",
    "# len(ds)"
   ]
  },
  {
   "cell_type": "code",
   "execution_count": null,
   "id": "fc436d6b",
   "metadata": {},
   "outputs": [],
   "source": []
  },
  {
   "cell_type": "code",
   "execution_count": 32,
   "id": "1f0ca2b0",
   "metadata": {},
   "outputs": [
    {
     "ename": "NameError",
     "evalue": "name 'ds' is not defined",
     "output_type": "error",
     "traceback": [
      "\u001b[0;31m---------------------------------------------------------------------------\u001b[0m",
      "\u001b[0;31mNameError\u001b[0m                                 Traceback (most recent call last)",
      "File \u001b[0;32m<timed exec>:1\u001b[0m\n",
      "\u001b[0;31mNameError\u001b[0m: name 'ds' is not defined"
     ]
    }
   ],
   "source": [
    "%time fl = ds[0]"
   ]
  },
  {
   "cell_type": "code",
   "execution_count": 33,
   "id": "e4e4fc08",
   "metadata": {},
   "outputs": [],
   "source": [
    "from voxdet.tfsm.erase import RandomErase\n",
    "from voxdet.tfsm.flip import RandFlip\n",
    "from voxdet.tfsm.mip import MIP"
   ]
  },
  {
   "cell_type": "code",
   "execution_count": 28,
   "id": "3310ab49",
   "metadata": {},
   "outputs": [],
   "source": [
    "tt =  [#StandardT(src_mode=\"yxzhwd\", img_src_mode=\"zyx\"), \n",
    "       #CropLung(model_ckpt=\"../resources/unet_r231-d5d2fc3d_v0.0.1.pth\"),\n",
    "       Norm3d(a_min =  -1024.0, a_max = 300.0, b_min = 0.0, b_max= 1.0, clip= True),\n",
    "       MIP(num_slices=5, stride=1, mode=\"max\", return_stacked_img=True),\n",
    "       RandPosCrop(crop_size=(92, 192, 192)), \n",
    "       RandomErase(patch_size=(8, 16, 16), use_bbox=True, mask_perc=0.1, mask_filler=\"zeros\", p=0.2),\n",
    "       RandFlip(axis=[1, 2], p=[0.2, 0.2])\n",
    "      ]\n",
    "tt = Compose(tt)"
   ]
  },
  {
   "cell_type": "code",
   "execution_count": 29,
   "id": "808524da",
   "metadata": {},
   "outputs": [
    {
     "name": "stdout",
     "output_type": "stream",
     "text": [
      "CPU times: user 230 ms, sys: 808 ms, total: 1.04 s\n",
      "Wall time: 1.05 s\n"
     ]
    }
   ],
   "source": [
    "%time ft = tt(fl)"
   ]
  },
  {
   "cell_type": "code",
   "execution_count": 12,
   "id": "c6d36d75-a2f2-4c74-bd2f-4363c01467ab",
   "metadata": {},
   "outputs": [],
   "source": [
    "#| export \n",
    "from copy import deepcopy\n",
    "class MyCollateFn:\n",
    "    def __init__(self, transform , train):\n",
    "        self.transform = transform\n",
    "        self.train = train\n",
    "    \n",
    "    def __call__(self, batch):\n",
    "        # Apply transformation to each item in the batch if needed\n",
    "\n",
    "        transform = deepcopy(self.transform)\n",
    "        if self.train :\n",
    "            transform[4].crop_size_index = np.random.choice(len(transform[4].crop_size))\n",
    "        transform = Compose(transform) if transform is not None else transform\n",
    "        batch = [transform(item) for item in batch]\n",
    "    \n",
    "        series_id = []\n",
    "        images = []\n",
    "        for i in batch :\n",
    "            if isinstance(i[\"images\"] , list) :\n",
    "                series_id.append([i[\"series_id\"]]*len(i[\"images\"]))\n",
    "                images.extend(i[\"images\"])\n",
    "            else :\n",
    "                series_id.append(i[\"series_id\"])\n",
    "                images.append(i[\"images\"])\n",
    "    \n",
    "        images = [torch.Tensor(i.astype(np.float32)).unsqueeze(0) if len(i.shape) == 3 else torch.Tensor(i.astype(np.float32)) for i in images]\n",
    "        if self.train: images = torch.cat([i.unsqueeze(0) for i in images])  \n",
    "    \n",
    "        boxes = []\n",
    "        for i in batch :\n",
    "            if isinstance(i[\"boxes\"] , list) :\n",
    "                boxes.extend(i[\"boxes\"])\n",
    "            else :\n",
    "                boxes.append(i[\"boxes\"])\n",
    "    \n",
    "        labels = []\n",
    "        for i in range(len(boxes)) :\n",
    "            labels.append(np.zeros(boxes[i].shape[0]))\n",
    "    \n",
    "        boxes = [torch.Tensor(b.astype(np.float32)) for b in boxes]\n",
    "        labels = [torch.Tensor(l.astype(np.float32)) for l in labels]\n",
    "\n",
    "        return images, boxes, labels, series_id\n"
   ]
  },
  {
   "cell_type": "code",
   "execution_count": null,
   "id": "9ce883b9-c8d7-431c-be11-304666f29561",
   "metadata": {},
   "outputs": [],
   "source": [
    "# #| export \n",
    "# collate_safetensors_train = MyCollateFn(transform=train_transform, train= True)\n",
    "# collate_safetensors_train = MyCollateFn(transform=val_transform, train= False)"
   ]
  },
  {
   "cell_type": "code",
   "execution_count": 31,
   "id": "eb123a8d",
   "metadata": {},
   "outputs": [],
   "source": [
    "# #| export \n",
    "# collate_safetensors_train = partial(collate_safetensors, train=True)\n",
    "# collate_safetensors_val = partial(collate_safetensors, train=False)"
   ]
  },
  {
   "cell_type": "code",
   "execution_count": 33,
   "id": "6b63ad52",
   "metadata": {},
   "outputs": [
    {
     "name": "stdout",
     "output_type": "stream",
     "text": [
      "total images: 1017\n"
     ]
    },
    {
     "data": {
      "text/plain": [
       "1017"
      ]
     },
     "execution_count": 33,
     "metadata": {},
     "output_type": "execute_result"
    }
   ],
   "source": [
    "train_txt = [i for i in fc.Path(\"/home/users/vanapalli.prakash/foundations/qct_nodule_detection/studies/only_lidc/folds1/\").glob(\"*.csv\")]\n",
    "ds = SafeTensorsDS(root=\"/qct_cache/lidc_cache_qct/\", include=train_txt, transforms=tt.transforms)\n",
    "len(ds)"
   ]
  },
  {
   "cell_type": "code",
   "execution_count": 34,
   "id": "61201817",
   "metadata": {},
   "outputs": [],
   "source": [
    "dl = torch.utils.data.DataLoader(ds, batch_size=16, shuffle=True, num_workers=16, collate_fn=collate_safetensors)"
   ]
  },
  {
   "cell_type": "code",
   "execution_count": null,
   "id": "ec2a2b26",
   "metadata": {},
   "outputs": [
    {
     "name": "stderr",
     "output_type": "stream",
     "text": [
      "\r\n",
      "  0%|                                                                                                                         | 0/35 [00:00<?, ?it/s]"
     ]
    }
   ],
   "source": [
    "%time for d in tqdm(dl): break "
   ]
  },
  {
   "cell_type": "code",
   "execution_count": 61,
   "id": "a9d3c814",
   "metadata": {},
   "outputs": [
    {
     "data": {
      "text/plain": [
       "torch.Size([12, 1, 92, 192, 192])"
      ]
     },
     "execution_count": 61,
     "metadata": {},
     "output_type": "execute_result"
    }
   ],
   "source": [
    "d[0].shape"
   ]
  },
  {
   "cell_type": "code",
   "execution_count": 34,
   "id": "463e4f21",
   "metadata": {},
   "outputs": [],
   "source": [
    "#dl = torch.utils.data.DataLoader(ds, batch_size=8, shuffle=True, num_workers=8, collate_fn=collate_safetensors)"
   ]
  },
  {
   "cell_type": "code",
   "execution_count": 35,
   "id": "191bdb61",
   "metadata": {},
   "outputs": [],
   "source": [
    "#%time for d in tqdm(dl): pass "
   ]
  },
  {
   "cell_type": "code",
   "execution_count": 36,
   "id": "9dcfa070",
   "metadata": {},
   "outputs": [],
   "source": [
    "#dl = torch.utils.data.DataLoader(ds, batch_size=12, shuffle=True, num_workers=12, collate_fn=collate_safetensors)"
   ]
  },
  {
   "cell_type": "code",
   "execution_count": 37,
   "id": "82ceabb4",
   "metadata": {},
   "outputs": [],
   "source": [
    "#%time for d in tqdm(dl): pass "
   ]
  },
  {
   "cell_type": "code",
   "execution_count": 38,
   "id": "4ec2ba98",
   "metadata": {},
   "outputs": [],
   "source": [
    "#dl = torch.utils.data.DataLoader(ds, batch_size=16, shuffle=True, num_workers=8, collate_fn=collate_safetensors)"
   ]
  },
  {
   "cell_type": "code",
   "execution_count": 39,
   "id": "82819f90",
   "metadata": {},
   "outputs": [],
   "source": [
    "#%time for d in tqdm(dl): pass "
   ]
  },
  {
   "cell_type": "markdown",
   "id": "60876eaf",
   "metadata": {},
   "source": [
    "## Lightning DataModule"
   ]
  },
  {
   "cell_type": "code",
   "execution_count": 41,
   "id": "cb090420",
   "metadata": {},
   "outputs": [],
   "source": [
    "resolution = (1.0, 1.0, 1.0)\n",
    "roi_size = (96, 192, 192)\n",
    "train_transforms = [\n",
    "    dict(\n",
    "        __class_fullname__=\"voxdet.tfsm.voxt.RandPosCrop\",\n",
    "        crop_size=roi_size, # removed multi_view argument from here; decision is made inside the RandPosCrop class itself.\n",
    "    ),\n",
    "    dict(\n",
    "        __class_fullname__=\"voxdet.tfsm.erase.RandomErase\",\n",
    "        patch_size=(8, 16, 16),\n",
    "        use_bbox=True,\n",
    "        mask_perc=0.1, # %age of patches selected from the nodule crop\n",
    "        mask_filler=\"zeros\",\n",
    "        p=0.2 # prob of applying tfsm\n",
    "    ),\n",
    "    dict(\n",
    "        __class_fullname__=\"voxdet.tfsm.flip.RandFlip\",\n",
    "        axis=[1, 2], # (axis_dim, axis): (0, depth), (1, horizontal), (2, vertical); list of axes determines order in which flip tfsms are applied\n",
    "        p=[0.2, 0.2] # prob of applying respective flip tfsms\n",
    "    ),\n",
    "]\n",
    "\n",
    "\n",
    "train_data = dict(\n",
    "  ds_paths=\"/qct_cache/lidc_cache_qct/\",\n",
    "  transform=train_transforms,\n",
    "  dl = dict(\n",
    "    batch_size=8, \n",
    "    num_workers=8, \n",
    "    shuffle=True,\n",
    "    pin_memory=False\n",
    "))"
   ]
  },
  {
   "cell_type": "code",
   "execution_count": 42,
   "id": "f57b8ae6",
   "metadata": {},
   "outputs": [],
   "source": [
    "from omegaconf import OmegaConf\n",
    "conf = OmegaConf.create()\n",
    "conf.update(train_data)"
   ]
  },
  {
   "cell_type": "code",
   "execution_count": 43,
   "id": "3b046c52",
   "metadata": {},
   "outputs": [
    {
     "data": {
      "text/plain": [
       "voxdet.tfsm.voxt.RandPosCrop(crop_size=[96, 192, 192])"
      ]
     },
     "execution_count": 43,
     "metadata": {},
     "output_type": "execute_result"
    }
   ],
   "source": [
    "locate_cls(conf.transform[0])"
   ]
  },
  {
   "cell_type": "code",
   "execution_count": 44,
   "id": "66020370",
   "metadata": {},
   "outputs": [
    {
     "data": {
      "text/plain": [
       "False"
      ]
     },
     "execution_count": 44,
     "metadata": {},
     "output_type": "execute_result"
    }
   ],
   "source": [
    "\"include\" in conf.keys()"
   ]
  },
  {
   "cell_type": "code",
   "execution_count": null,
   "id": "9c1777eb",
   "metadata": {},
   "outputs": [],
   "source": []
  },
  {
   "cell_type": "code",
   "execution_count": 37,
   "id": "5478f6a2",
   "metadata": {},
   "outputs": [],
   "source": [
    "#| export \n",
    "class SafeTensorDL(pl.LightningDataModule):\n",
    "    def __init__(self, ts: dict, vs: dict=None): \n",
    "        super().__init__(); fc.store_attr();\n",
    "        self.tds = self.load_ds(self.ts)\n",
    "        self.vds = self.load_ds(self.vs)\n",
    "\n",
    "        # train_transforms =  [i for i in self.ts.transform]\n",
    "        # val_transforms =  [i for i in self.vs.transform]\n",
    "\n",
    "        self.collate_safetensors_train = MyCollateFn(transform=self.ts.transform, train= True)\n",
    "        self.collate_safetensors_val = MyCollateFn(transform=self.vs.transform, train= False)\n",
    "        \n",
    "        #if self.vs is not None:\n",
    "        #    vs_include = self.vs[\"include\"] if \"include\" in self.vs.keys() else None\n",
    "        #    self.vds = SafeTensorsDS(vs.ds_paths, [locate_cls(i) for i in self.vs.transform], include=vs_include)\n",
    "    def load_ds(self, ts):\n",
    "        ts_dspaths = ts[\"ds_paths\"] if \"ds_paths\" in ts.keys() else None\n",
    "        if isinstance(ts_dspaths, ListConfig):\n",
    "            ts_dspaths = OmegaConf.to_container(ts_dspaths, resolve=True)\n",
    "        \n",
    "        ts_include = ts[\"include\"] if \"include\" in ts.keys() else None\n",
    "        if isinstance(ts_include, ListConfig):\n",
    "            ts_include = OmegaConf.to_container(ts_include, resolve=True)\n",
    "\n",
    "        if isinstance(ts_dspaths, str):\n",
    "            tds = SafeTensorsDS(ts_dspaths, include=ts_include, individual_lung = ts.individual_lung)\n",
    "        elif isinstance(ts_dspaths, list):\n",
    "            assert len(ts_dspaths) == len(ts_include), \"both ds_paths and ts include should be of same size and shape\"\n",
    "            tds = torch.utils.data.ConcatDataset([SafeTensorsDS(k, include=[v], individual_lung = w) for k, v , w in zip(ts_dspaths, ts_include, ts.individual_lung)])\n",
    "        else:\n",
    "            raise NotImplementedError \n",
    "        return tds\n",
    "\n",
    "    def train_dl(self): return torch.utils.data.DataLoader(self.tds, collate_fn=self.collate_safetensors_train, **self.ts.dl)\n",
    "    def val_dl(self):  return torch.utils.data.DataLoader(self.vds, collate_fn=self.collate_safetensors_val, **self.vs.dl) \n"
   ]
  },
  {
   "cell_type": "code",
   "execution_count": null,
   "id": "b2c121f0",
   "metadata": {},
   "outputs": [],
   "source": [
    "#| notest\n",
    "dl = SafeTensorDL(conf)"
   ]
  },
  {
   "cell_type": "code",
   "execution_count": null,
   "id": "277e1ab2",
   "metadata": {},
   "outputs": [],
   "source": [
    "%time for batch in dl.train_dl(): break"
   ]
  },
  {
   "cell_type": "code",
   "execution_count": null,
   "id": "9872be91",
   "metadata": {},
   "outputs": [],
   "source": [
    "batch[0].shape"
   ]
  },
  {
   "cell_type": "code",
   "execution_count": null,
   "id": "5175eb6e",
   "metadata": {},
   "outputs": [],
   "source": [
    "batch[1]"
   ]
  },
  {
   "cell_type": "code",
   "execution_count": null,
   "id": "9457b30f",
   "metadata": {},
   "outputs": [],
   "source": [
    "batch[2]"
   ]
  },
  {
   "cell_type": "code",
   "execution_count": null,
   "id": "241e230f",
   "metadata": {},
   "outputs": [],
   "source": [
    "#%time for d in tqdm(dl.train_dl()): pass "
   ]
  },
  {
   "cell_type": "code",
   "execution_count": null,
   "id": "d9fdd2e3",
   "metadata": {},
   "outputs": [],
   "source": [
    "# #| export \n",
    "# class SafeTensorTestDL(pl.LightningDataModule):\n",
    "#     def __init__(self, ts: dict): \n",
    "#         super().__init__(); fc.store_attr();\n",
    "#         self.tds = self.load_ds(self.ts)\n",
    "        \n",
    "#     def load_ds(self, ts):\n",
    "#         ts_dspaths = ts[\"ds_paths\"] if \"ds_paths\" in ts.keys() else None\n",
    "#         if isinstance(ts_dspaths, ListConfig):\n",
    "#             ts_dspaths = OmegaConf.to_container(ts_dspaths, resolve=True)\n",
    "        \n",
    "#         ts_include = ts[\"include\"] if \"include\" in ts.keys() else None\n",
    "#         if isinstance(ts_include, ListConfig):\n",
    "#             ts_include = OmegaConf.to_container(ts_include, resolve=True)\n",
    "            \n",
    "#         if isinstance(ts_dspaths, str):\n",
    "#             tds = SafeTensorsDS(ts_dspaths, [i for i in ts.transform], include=ts_include, individual_lung = ts.individual_lung)\n",
    "#         elif isinstance(ts_dspaths, list):\n",
    "#             assert len(ts_dspaths) == len(ts_include), \"both ds_paths and ts include should be of same size and shape\"\n",
    "#             tds = torch.utils.data.ConcatDataset([SafeTensorsDS(k, [i for i in ts.transform], include=[v], individual_lung = w) for k, v , w in zip(ts_dspaths, ts_include, ts.individual_lung)])\n",
    "#         else:\n",
    "#             raise NotImplementedError \n",
    "#         return tds\n",
    "       \n",
    "#     def test_dl(self):  return torch.utils.data.DataLoader(self.tds, collate_fn=collate_safetensors_val, **self.ts.dl)\n",
    "        "
   ]
  },
  {
   "cell_type": "code",
   "execution_count": 47,
   "id": "fbb0ef3a",
   "metadata": {},
   "outputs": [],
   "source": [
    "#| hide\n",
    "import nbdev; nbdev.nbdev_export()"
   ]
  },
  {
   "cell_type": "code",
   "execution_count": null,
   "id": "579870ed",
   "metadata": {},
   "outputs": [],
   "source": []
  }
 ],
 "metadata": {
  "kernelspec": {
   "display_name": "Python 3 (ipykernel)",
   "language": "python",
   "name": "python3"
  },
  "language_info": {
   "codemirror_mode": {
    "name": "ipython",
    "version": 3
   },
   "file_extension": ".py",
   "mimetype": "text/x-python",
   "name": "python",
   "nbconvert_exporter": "python",
   "pygments_lexer": "ipython3",
   "version": "3.9.18"
  }
 },
 "nbformat": 4,
 "nbformat_minor": 5
}
