{
 "cells": [
  {
   "cell_type": "code",
   "execution_count": null,
   "id": "f99f4c6e",
   "metadata": {},
   "outputs": [],
   "source": [
    "import torch"
   ]
  },
  {
   "cell_type": "code",
   "execution_count": null,
   "id": "50f9af19",
   "metadata": {},
   "outputs": [],
   "source": [
    "x = torch.Tensor([1, 2])\n",
    "x"
   ]
  },
  {
   "cell_type": "code",
   "execution_count": null,
   "id": "4b791720",
   "metadata": {},
   "outputs": [],
   "source": [
    "y = torch.vstack([x, x])\n",
    "y"
   ]
  },
  {
   "cell_type": "code",
   "execution_count": null,
   "id": "e5c833bd",
   "metadata": {},
   "outputs": [],
   "source": [
    "torch.vstack([x, y])"
   ]
  },
  {
   "cell_type": "code",
   "execution_count": null,
   "id": "af051ccc",
   "metadata": {},
   "outputs": [],
   "source": []
  }
 ],
 "metadata": {
  "kernelspec": {
   "display_name": "Python (qct_deep)",
   "language": "python",
   "name": "qct_deep"
  }
 },
 "nbformat": 4,
 "nbformat_minor": 5
}
