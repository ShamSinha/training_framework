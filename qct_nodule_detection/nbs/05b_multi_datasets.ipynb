{
 "cells": [
  {
   "cell_type": "code",
   "execution_count": 1,
   "metadata": {},
   "outputs": [],
   "source": [
    "import torch \n",
    "import fastcore.all as fc\n",
    "\n",
    "from voxdet.safe_ds import SafeTensorsDS"
   ]
  },
  {
   "cell_type": "code",
   "execution_count": 7,
   "metadata": {},
   "outputs": [],
   "source": [
    "k = open(\"../studies/selfsup/data/dsb_all.txt\", \"w\")\n",
    "for i in fc.L(fc.Path(\"/qct_cache/dsb_cache_qct/\").glob(\"*.safetensors\")):\n",
    "    k.write(i.stem+\"\\n\")\n",
    "k.close()\n"
   ]
  },
  {
   "cell_type": "code",
   "execution_count": 8,
   "metadata": {},
   "outputs": [],
   "source": [
    "k = open(\"../studies/selfsup/data/nlst_all.txt\", \"w\")\n",
    "for i in fc.L(fc.Path(\"/qct_cache/nlst_cache_qct/\").glob(\"*.safetensors\")):\n",
    "    k.write(i.stem+\"\\n\")\n",
    "k.close()\n"
   ]
  },
  {
   "cell_type": "code",
   "execution_count": 2,
   "metadata": {},
   "outputs": [],
   "source": [
    "k = open(\"../studies/selfsup/data/medframe_all.txt\", \"w\")\n",
    "for i in fc.L(fc.Path(\"/qct_cache/medframe_cache/\").glob(\"*.safetensors\")):\n",
    "    k.write(i.stem+\"\\n\")\n",
    "k.close()"
   ]
  },
  {
   "cell_type": "code",
   "execution_count": 3,
   "metadata": {},
   "outputs": [],
   "source": [
    "k = open(\"../studies/selfsup/data/aarthi_all.txt\", \"w\")\n",
    "for i in fc.L(fc.Path(\"/qct_cache/aarthi_cache/\").glob(\"*.safetensors\")):\n",
    "    k.write(i.stem+\"\\n\")\n",
    "k.close()"
   ]
  },
  {
   "cell_type": "code",
   "execution_count": 4,
   "metadata": {},
   "outputs": [
    {
     "name": "stdout",
     "output_type": "stream",
     "text": [
      "total images: 841\n",
      "total images: 1216\n",
      "total images: 1574\n",
      "total images: 2121\n",
      "total images: 3339\n"
     ]
    }
   ],
   "source": [
    "ds1 = SafeTensorsDS(root=\"/qct_cache/lidc_cache_qct/\", include = [\"../studies/selfsup/data/lidc_train.txt\"])\n",
    "ds2 = SafeTensorsDS(root=\"/qct_cache/dsb_cache_qct/\", include=[\"../studies/selfsup/data/dsb_all.txt\"])\n",
    "ds3 = SafeTensorsDS(root=\"/qct_cache/nlst_cache_qct/\", include=[\"../studies/selfsup/data/nlst_all.txt\"])\n",
    "ds4 = SafeTensorsDS(root=\"/qct_cache/medframe_cache/\", include=[\"../studies/selfsup/data/medframe_all.txt\"])\n",
    "ds5 = SafeTensorsDS(root=\"/qct_cache/aarthi_cache/\", include=[\"../studies/selfsup/data/aarthi_all.txt\"])"
   ]
  },
  {
   "cell_type": "code",
   "execution_count": 7,
   "metadata": {},
   "outputs": [
    {
     "data": {
      "text/plain": [
       "9091"
      ]
     },
     "execution_count": 7,
     "metadata": {},
     "output_type": "execute_result"
    }
   ],
   "source": [
    "ds = torch.utils.data.ConcatDataset([ds1, ds2, ds3, ds4, ds5])\n",
    "len(ds)"
   ]
  },
  {
   "cell_type": "code",
   "execution_count": 8,
   "metadata": {},
   "outputs": [
    {
     "data": {
      "text/plain": [
       "dict_keys(['boxes', 'images', 'labels', 'lung_box', 'spacing', 'volume', 'series_id'])"
      ]
     },
     "execution_count": 8,
     "metadata": {},
     "output_type": "execute_result"
    }
   ],
   "source": [
    "item = ds[0]\n",
    "item.keys()"
   ]
  },
  {
   "cell_type": "code",
   "execution_count": 9,
   "metadata": {},
   "outputs": [
    {
     "data": {
      "text/plain": [
       "(308, 231, 332)"
      ]
     },
     "execution_count": 9,
     "metadata": {},
     "output_type": "execute_result"
    }
   ],
   "source": [
    "item[\"images\"].shape"
   ]
  },
  {
   "cell_type": "code",
   "execution_count": 13,
   "metadata": {},
   "outputs": [
    {
     "data": {
      "text/plain": [
       "3631"
      ]
     },
     "execution_count": 13,
     "metadata": {},
     "output_type": "execute_result"
    }
   ],
   "source": [
    "len(ds)"
   ]
  }
 ],
 "metadata": {
  "kernelspec": {
   "display_name": "Python (qct_deep)",
   "language": "python",
   "name": "qct_deep"
  },
  "language_info": {
   "codemirror_mode": {
    "name": "ipython",
    "version": 3
   },
   "file_extension": ".py",
   "mimetype": "text/x-python",
   "name": "python",
   "nbconvert_exporter": "python",
   "pygments_lexer": "ipython3",
   "version": "3.9.18"
  }
 },
 "nbformat": 4,
 "nbformat_minor": 2
}
