{
 "cells": [
  {
   "cell_type": "markdown",
   "id": "54420c79",
   "metadata": {},
   "source": [
    "# Transform Utils"
   ]
  },
  {
   "cell_type": "code",
   "execution_count": null,
   "id": "c6cb6421",
   "metadata": {},
   "outputs": [],
   "source": [
    "#| default_exp tfsm/utils"
   ]
  },
  {
   "cell_type": "code",
   "execution_count": null,
   "id": "f516032e",
   "metadata": {},
   "outputs": [],
   "source": [
    "#| export \n",
    "import torch\n",
    "import numpy as np \n",
    "from typing import Union"
   ]
  },
  {
   "cell_type": "code",
   "execution_count": null,
   "id": "2a7952f3",
   "metadata": {},
   "outputs": [],
   "source": [
    "import fastcore.all as fc"
   ]
  },
  {
   "cell_type": "code",
   "execution_count": null,
   "id": "31da6e71",
   "metadata": {},
   "outputs": [],
   "source": [
    "#| export \n",
    "def chwd_2_corner(bbox: Union[torch.Tensor, np.asarray]):\n",
    "    #convert xc, yc, zc, h, w, d to x1 y1 z1 x2 y2 z2\n",
    "    # Note that it \n",
    "    out = bbox.copy().astype(float) if isinstance(bbox, np.ndarray) else bbox.clone()\n",
    "    out[:, :3] = bbox[:, :3] - (bbox[:, 3:]/2)\n",
    "    out[:, 3:] = bbox[:, :3] + (bbox[:, 3:]/2)\n",
    "    return out "
   ]
  },
  {
   "cell_type": "code",
   "execution_count": null,
   "id": "9c0d1973",
   "metadata": {},
   "outputs": [],
   "source": [
    "bbox = np.asarray([[1, 1, 1, 0.5, 0.5, 0.5]])\n",
    "ebbox = np.asarray([[0.75, 0.75, 0.75, 1.25, 1.25, 1.25]])\n",
    "nbbox = chwd_2_corner(bbox)\n",
    "fc.all_equal(nbbox, ebbox)"
   ]
  },
  {
   "cell_type": "code",
   "execution_count": null,
   "id": "77842977",
   "metadata": {},
   "outputs": [],
   "source": [
    "#| export \n",
    "def corner_2_chwd(bbox: Union[torch.Tensor, np.asarray]):\n",
    "    out = bbox.copy().astype(float) if isinstance(bbox, np.ndarray) else bbox.clone()\n",
    "    hwd = (bbox[:, 3:] - bbox[:, :3])\n",
    "    out[:, 3:] = hwd\n",
    "    out[:, :3] = bbox[:, :3]+(hwd/2)\n",
    "    return out"
   ]
  },
  {
   "cell_type": "code",
   "execution_count": null,
   "id": "21ea0130",
   "metadata": {},
   "outputs": [],
   "source": [
    "#| hide\n",
    "import nbdev; nbdev.nbdev_export()"
   ]
  },
  {
   "cell_type": "code",
   "execution_count": null,
   "id": "c57e6124",
   "metadata": {},
   "outputs": [],
   "source": []
  }
 ],
 "metadata": {
  "kernelspec": {
   "display_name": "Python 3 (ipykernel)",
   "language": "python",
   "name": "python3"
  }
 },
 "nbformat": 4,
 "nbformat_minor": 5
}
