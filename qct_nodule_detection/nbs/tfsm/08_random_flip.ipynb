{
 "cells": [
  {
   "cell_type": "code",
   "execution_count": null,
   "metadata": {},
   "outputs": [],
   "source": [
    "#| default_exp tfsm/flip"
   ]
  },
  {
   "cell_type": "code",
   "execution_count": 1,
   "metadata": {},
   "outputs": [],
   "source": [
    "%load_ext autoreload\n",
    "%autoreload 2"
   ]
  },
  {
   "cell_type": "code",
   "execution_count": 43,
   "metadata": {},
   "outputs": [],
   "source": [
    "#| export \n",
    "import numpy as np\n",
    "import fastcore.all as fc\n",
    "from typing import List\n",
    "from voxdet.tfsm.standard import BaseT"
   ]
  },
  {
   "cell_type": "code",
   "execution_count": 44,
   "metadata": {},
   "outputs": [],
   "source": [
    "from voxdet.utils import vis"
   ]
  },
  {
   "cell_type": "code",
   "execution_count": 45,
   "metadata": {},
   "outputs": [],
   "source": [
    "def fill_bbox(image, bbox):\n",
    "    image = np.copy(image)\n",
    "    for box in bbox:\n",
    "        z1, y1, x1, z2, y2, x2 = box \n",
    "        image[z1:z2, y1:y2, x1:x2] = 1 \n",
    "    return image"
   ]
  },
  {
   "cell_type": "code",
   "execution_count": 52,
   "metadata": {},
   "outputs": [],
   "source": [
    "image = np.zeros((25, 196, 196))\n",
    "bbox = np.asarray([[10, 150, 120, 20, 190, 190], [1, 10, 10, 5, 50, 50]])\n",
    "imgb = fill_bbox(image, bbox)"
   ]
  },
  {
   "cell_type": "code",
   "execution_count": 53,
   "metadata": {},
   "outputs": [
    {
     "data": {
      "image/png": "[encoded data removed]",
      "text/plain": [
       "<PIL.Image.Image image mode=RGB size=320x320>"
      ]
     },
     "execution_count": 53,
     "metadata": {},
     "output_type": "execute_result"
    }
   ],
   "source": [
    "vis(imgb*255, size=64, window=False)"
   ]
  },
  {
   "cell_type": "markdown",
   "metadata": {},
   "source": [
    "> get flipped image"
   ]
  },
  {
   "cell_type": "code",
   "execution_count": 54,
   "metadata": {},
   "outputs": [
    {
     "data": {
      "text/plain": [
       "(25, 196, 196)"
      ]
     },
     "execution_count": 54,
     "metadata": {},
     "output_type": "execute_result"
    }
   ],
   "source": [
    "flip_axis = 1\n",
    "flipped_image = np.flip(imgb, axis=flip_axis)\n",
    "flipped_image.shape"
   ]
  },
  {
   "cell_type": "code",
   "execution_count": 55,
   "metadata": {},
   "outputs": [
    {
     "data": {
      "image/png": "[encoded data removed]",
      "text/plain": [
       "<PIL.Image.Image image mode=RGB size=320x320>"
      ]
     },
     "execution_count": 55,
     "metadata": {},
     "output_type": "execute_result"
    }
   ],
   "source": [
    "vis(flipped_image*255, size=64, window=False)"
   ]
  },
  {
   "cell_type": "markdown",
   "metadata": {},
   "source": [
    "> need to adjust bboxes too during flip tfsm"
   ]
  },
  {
   "cell_type": "markdown",
   "metadata": {},
   "source": [
    "> a flip about axis=0 only affects axes 0 and 3; similarly for axes 1 and 2"
   ]
  },
  {
   "cell_type": "code",
   "execution_count": 11,
   "metadata": {},
   "outputs": [
    {
     "data": {
      "text/plain": [
       "([2, 5], [5, 2])"
      ]
     },
     "execution_count": 11,
     "metadata": {},
     "output_type": "execute_result"
    }
   ],
   "source": [
    "axis_flip_indices = [[0, 3], [1, 4], [2, 5]]\n",
    "axis_flip_indices[flip_axis], axis_flip_indices[flip_axis][::-1]"
   ]
  },
  {
   "cell_type": "markdown",
   "metadata": {},
   "source": [
    "> flipping about axis/dim=2; need to subtract x_min, x_max from img shape along the same dim to get new extremes"
   ]
  },
  {
   "cell_type": "markdown",
   "metadata": {},
   "source": [
    "> sanity check: old x_min + new x_max == old x_max + new x_min == img shape along the concerned dim"
   ]
  },
  {
   "cell_type": "code",
   "execution_count": 12,
   "metadata": {},
   "outputs": [
    {
     "data": {
      "text/plain": [
       "array([[ 10, 150, 120,  20, 190, 190],\n",
       "       [  1,  10,  10,   5,  50,  50]])"
      ]
     },
     "execution_count": 12,
     "metadata": {},
     "output_type": "execute_result"
    }
   ],
   "source": [
    "bbox"
   ]
  },
  {
   "cell_type": "code",
   "execution_count": 13,
   "metadata": {},
   "outputs": [
    {
     "data": {
      "text/plain": [
       "True"
      ]
     },
     "execution_count": 13,
     "metadata": {},
     "output_type": "execute_result"
    }
   ],
   "source": [
    "(imgb[bbox[0][0]:bbox[0][3], bbox[0][1]:bbox[0][4], bbox[0][2]:bbox[0][5]] == 1).all()"
   ]
  },
  {
   "cell_type": "code",
   "execution_count": 14,
   "metadata": {},
   "outputs": [
    {
     "data": {
      "text/plain": [
       "array([[ 10, 150,   6,  20, 190,  76],\n",
       "       [  1,  10, 146,   5,  50, 186]])"
      ]
     },
     "execution_count": 14,
     "metadata": {},
     "output_type": "execute_result"
    }
   ],
   "source": [
    "fbbox = bbox.copy()\n",
    "fbbox[:, axis_flip_indices[flip_axis]] = image.shape[flip_axis] - bbox[:, axis_flip_indices[flip_axis][::-1]]\n",
    "fbbox"
   ]
  },
  {
   "cell_type": "markdown",
   "metadata": {},
   "source": [
    "## test - everything inside the box should be one and outside box should be all zeros."
   ]
  },
  {
   "cell_type": "code",
   "execution_count": 15,
   "metadata": {},
   "outputs": [
    {
     "data": {
      "text/plain": [
       "True"
      ]
     },
     "execution_count": 15,
     "metadata": {},
     "output_type": "execute_result"
    }
   ],
   "source": [
    "(flipped_image[fbbox[0][0]:fbbox[0][3], fbbox[0][1]:fbbox[0][4], fbbox[0][2]:fbbox[0][5]] == 1).all()"
   ]
  },
  {
   "cell_type": "markdown",
   "metadata": {},
   "source": [
    "## implement the func"
   ]
  },
  {
   "cell_type": "code",
   "execution_count": 28,
   "metadata": {},
   "outputs": [],
   "source": [
    "#| export\n",
    "import torch\n",
    "from typing import Union\n",
    "# def flip3d(img:np.ndarray, boxes:np.ndarray, flip_axis:int):\n",
    "#     \"\"\"img zyx/bzyx format, bboxes in zyxzyx format and flip_axis can be one of [0, 1, 2]\n",
    "#     flip_axis: 0: depth flip, 1: horizontal flip, 2: vertical flip\n",
    "#     \"\"\"\n",
    "#     assert flip_axis in [0, 1, 2], f\"flip axis cannot be {flip_axis}. need to be one of [0, 1, 2]\"\n",
    "#     assert img.ndim in [3, 4], f\"works only for 3D images. dimensions can be 3 or 4. Incase 4, 1st dim is channels\"\n",
    "#     fa = flip_axis+1 if img.ndim > 3 else flip_axis\n",
    "#     flipped_img = np.flip(img, axis=fa)\n",
    "#     ims = img.shape[1:] if img.ndim > 3 else img.shape\n",
    "#     idx_pairs = [[0, 3], [1, 4], [2, 5]]\n",
    "#     boxes[:, idx_pairs[flip_axis]] = ims[flip_axis] - boxes[:, idx_pairs[flip_axis][::-1]]\n",
    "#     return flipped_img, boxes\n",
    "\n",
    "def flip3d(img: Union[np.ndarray, torch.Tensor], boxes: Union[np.ndarray, torch.Tensor], flip_axis: int):\n",
    "    \"\"\"img zyx/bzyx format, bboxes in zyxzyx format and flip_axis can be one of [0, 1, 2]\n",
    "    flip_axis: 0: depth flip, 1: horizontal flip, 2: vertical flip\n",
    "    \"\"\"\n",
    "    assert flip_axis in [0, 1, 2], f\"flip axis cannot be {flip_axis}. need to be one of [0, 1, 2]\"\n",
    "    assert img.ndim in [3, 4], f\"works only for 3D images. dimensions can be 3 or 4. Incase 4, 1st dim is channels\"\n",
    "    fa = flip_axis + 1 if img.ndim > 3 else flip_axis\n",
    "    flipped_img = torch.flip(img, [fa]) if isinstance(img, torch.Tensor) else np.flip(img, axis=fa)\n",
    "    ims = img.shape[1:] if img.ndim > 3 else img.shape\n",
    "    idx_pairs = [[0, 3], [1, 4], [2, 5]]\n",
    "    boxes[:, idx_pairs[flip_axis]] = ims[flip_axis] - boxes[:, idx_pairs[flip_axis][::-1]]\n",
    "    return flipped_img, boxes"
   ]
  },
  {
   "cell_type": "markdown",
   "metadata": {},
   "source": [
    "### test - original image"
   ]
  },
  {
   "cell_type": "code",
   "execution_count": 29,
   "metadata": {},
   "outputs": [
    {
     "data": {
      "image/png": "[encoded data removed]",
      "text/plain": [
       "<PIL.Image.Image image mode=RGB size=320x320>"
      ]
     },
     "execution_count": 29,
     "metadata": {},
     "output_type": "execute_result"
    }
   ],
   "source": [
    "vis(imgb*255, size=64, window=False)"
   ]
  },
  {
   "cell_type": "code",
   "execution_count": 31,
   "metadata": {},
   "outputs": [],
   "source": [
    "for box in bbox:\n",
    "    assert (imgb[box[0]:box[3], box[1]:box[4], box[2]:box[5]] == 1).all()"
   ]
  },
  {
   "cell_type": "code",
   "execution_count": 32,
   "metadata": {},
   "outputs": [],
   "source": [
    "def test_flip(imgb, bbox):\n",
    "    for box in bbox: assert (imgb[box[0]:box[3], box[1]:box[4], box[2]:box[5]] == 1).all()"
   ]
  },
  {
   "cell_type": "code",
   "execution_count": 35,
   "metadata": {},
   "outputs": [
    {
     "data": {
      "text/plain": [
       "array([[ 10, 150, 120,  20, 190, 190],\n",
       "       [  1,  10,  10,   5,  50,  50]])"
      ]
     },
     "execution_count": 35,
     "metadata": {},
     "output_type": "execute_result"
    }
   ],
   "source": [
    "bbox"
   ]
  },
  {
   "cell_type": "code",
   "execution_count": 39,
   "metadata": {},
   "outputs": [],
   "source": [
    "test_flip(torch.tensor(imgb), torch.tensor(bbox))"
   ]
  },
  {
   "cell_type": "code",
   "execution_count": 38,
   "metadata": {},
   "outputs": [],
   "source": [
    "test_flip(imgb, bbox)"
   ]
  },
  {
   "cell_type": "markdown",
   "metadata": {},
   "source": [
    "### test vertical flip axis = 1"
   ]
  },
  {
   "cell_type": "code",
   "execution_count": 22,
   "metadata": {},
   "outputs": [
    {
     "data": {
      "text/plain": [
       "((25, 196, 196),\n",
       " array([[ 10,   6, 120,  20,  46, 190],\n",
       "        [  1, 146,  10,   5, 186,  50]]))"
      ]
     },
     "execution_count": 22,
     "metadata": {},
     "output_type": "execute_result"
    }
   ],
   "source": [
    "vimgb, vbbox = flip3d(imgb.copy(), bbox.copy(), flip_axis=1)\n",
    "vimgb.shape, vbbox"
   ]
  },
  {
   "cell_type": "code",
   "execution_count": null,
   "metadata": {},
   "outputs": [
    {
     "data": {
      "image/png": "[encoded data removed]",
      "text/plain": [
       "<PIL.Image.Image image mode=RGB size=320x320>"
      ]
     },
     "execution_count": null,
     "metadata": {},
     "output_type": "execute_result"
    }
   ],
   "source": [
    "vis(vimgb*255, size=64, window=False)"
   ]
  },
  {
   "cell_type": "code",
   "execution_count": 40,
   "metadata": {},
   "outputs": [
    {
     "data": {
      "text/plain": [
       "(torch.Size([25, 196, 196]),\n",
       " tensor([[ 10,   6, 120,  20,  46, 190],\n",
       "         [  1, 146,  10,   5, 186,  50]]))"
      ]
     },
     "execution_count": 40,
     "metadata": {},
     "output_type": "execute_result"
    }
   ],
   "source": [
    "vimgb, vbbox = flip3d(torch.tensor(imgb).clone(),torch.tensor(bbox).clone(), flip_axis=1)\n",
    "vimgb.shape, vbbox"
   ]
  },
  {
   "cell_type": "code",
   "execution_count": 42,
   "metadata": {},
   "outputs": [
    {
     "data": {
      "image/png": "[encoded data removed]",
      "text/plain": [
       "<PIL.Image.Image image mode=RGB size=320x320>"
      ]
     },
     "execution_count": 42,
     "metadata": {},
     "output_type": "execute_result"
    }
   ],
   "source": [
    "vis(vimgb.numpy()*255, size=64, window=False)"
   ]
  },
  {
   "cell_type": "code",
   "execution_count": null,
   "metadata": {},
   "outputs": [],
   "source": [
    "vimgb, vbbox = flip3d(imgb.copy(), bbox.copy(), flip_axis=1)\n",
    "vimgb.shape, vbbox"
   ]
  },
  {
   "cell_type": "code",
   "execution_count": 23,
   "metadata": {},
   "outputs": [],
   "source": [
    "test_flip(vimgb, vbbox)"
   ]
  },
  {
   "cell_type": "markdown",
   "metadata": {},
   "source": [
    "### test horizontal flip axis = 2"
   ]
  },
  {
   "cell_type": "code",
   "execution_count": 24,
   "metadata": {},
   "outputs": [
    {
     "data": {
      "text/plain": [
       "((25, 196, 196),\n",
       " array([[ 10, 150,   6,  20, 190,  76],\n",
       "        [  1,  10, 146,   5,  50, 186]]))"
      ]
     },
     "execution_count": 24,
     "metadata": {},
     "output_type": "execute_result"
    }
   ],
   "source": [
    "himgb, hbbox = flip3d(imgb.copy(), bbox.copy(), flip_axis=2)\n",
    "himgb.shape, hbbox"
   ]
  },
  {
   "cell_type": "code",
   "execution_count": 25,
   "metadata": {},
   "outputs": [
    {
     "data": {
      "image/png": "[encoded data removed]",
      "text/plain": [
       "<PIL.Image.Image image mode=RGB size=320x320>"
      ]
     },
     "execution_count": 25,
     "metadata": {},
     "output_type": "execute_result"
    }
   ],
   "source": [
    "vis(himgb*255, size=64, window=False)"
   ]
  },
  {
   "cell_type": "code",
   "execution_count": 26,
   "metadata": {},
   "outputs": [],
   "source": [
    "test_flip(himgb, hbbox)"
   ]
  },
  {
   "cell_type": "markdown",
   "metadata": {},
   "source": [
    "### depth flip axis=0"
   ]
  },
  {
   "cell_type": "code",
   "execution_count": 27,
   "metadata": {},
   "outputs": [
    {
     "data": {
      "text/plain": [
       "((25, 196, 196),\n",
       " array([[  5, 150, 120,  15, 190, 190],\n",
       "        [ 20,  10,  10,  24,  50,  50]]))"
      ]
     },
     "execution_count": 27,
     "metadata": {},
     "output_type": "execute_result"
    }
   ],
   "source": [
    "dimgb, dbbox = flip3d(imgb.copy(), bbox.copy(), flip_axis=0)\n",
    "dimgb.shape, dbbox"
   ]
  },
  {
   "cell_type": "code",
   "execution_count": null,
   "metadata": {},
   "outputs": [
    {
     "data": {
      "image/png": "[encoded data removed]",
      "text/plain": [
       "<PIL.Image.Image image mode=RGB size=320x320>"
      ]
     },
     "execution_count": null,
     "metadata": {},
     "output_type": "execute_result"
    }
   ],
   "source": [
    "vis(dimgb*255, size=64, window=False)"
   ]
  },
  {
   "cell_type": "code",
   "execution_count": null,
   "metadata": {},
   "outputs": [],
   "source": [
    "test_flip(dimgb, dbbox)"
   ]
  },
  {
   "cell_type": "markdown",
   "metadata": {},
   "source": [
    "> get it to work with 4 dimensional image (MIP view)"
   ]
  },
  {
   "cell_type": "code",
   "execution_count": null,
   "metadata": {},
   "outputs": [],
   "source": [
    "def fill_4dbbox(image, bbox):\n",
    "    image = np.copy(image)\n",
    "    for box in bbox:\n",
    "        z1, y1, x1, z2, y2, x2 = box \n",
    "        image[:, z1:z2, y1:y2, x1:x2] = 1 \n",
    "    return image"
   ]
  },
  {
   "cell_type": "code",
   "execution_count": null,
   "metadata": {},
   "outputs": [],
   "source": [
    "image = np.zeros((2, 25, 196, 196))\n",
    "bbox = np.asarray([[10, 150, 120, 20, 190, 190], [1, 10, 10, 5, 50, 50]])\n",
    "imgb = fill_4dbbox(image, bbox)"
   ]
  },
  {
   "cell_type": "code",
   "execution_count": null,
   "metadata": {},
   "outputs": [],
   "source": [
    "def test_4dflip(imgb, bbox):\n",
    "    for box in bbox: assert (imgb[:, box[0]:box[3], box[1]:box[4], box[2]:box[5]] == 1).all()"
   ]
  },
  {
   "cell_type": "code",
   "execution_count": null,
   "metadata": {},
   "outputs": [],
   "source": [
    "test_4dflip(imgb, bbox)"
   ]
  },
  {
   "cell_type": "code",
   "execution_count": null,
   "metadata": {},
   "outputs": [],
   "source": [
    "dimgb, dbbox = flip3d(imgb.copy(), bbox.copy(), flip_axis=0)\n",
    "vimgb, vbbox = flip3d(imgb.copy(), bbox.copy(), flip_axis=1)\n",
    "himgb, hbbox = flip3d(imgb.copy(), bbox.copy(), flip_axis=2)"
   ]
  },
  {
   "cell_type": "code",
   "execution_count": null,
   "metadata": {},
   "outputs": [],
   "source": [
    "test_4dflip(dimgb, dbbox)\n",
    "test_4dflip(vimgb, vbbox)\n",
    "test_4dflip(himgb, hbbox)"
   ]
  },
  {
   "cell_type": "code",
   "execution_count": null,
   "metadata": {},
   "outputs": [],
   "source": [
    "#| export \n",
    "class RandFlip(BaseT):\n",
    "    def __init__(self, axis:List[int]=None, p:List[float]=None):\n",
    "        \"\"\"\n",
    "        flip the image about given axes with given probabilities\n",
    "        order of axes will be the order in which the flip transforms\n",
    "        will be applied\n",
    "        \"\"\"\n",
    "        super().__init__()\n",
    "        fc.store_attr()\n",
    "        if len(axis) != len(p): raise ValueError(f\"len of axis and p should be same. Got axis={axis} and p={p} \")\n",
    "    __repr__ = fc.basic_repr(flds=\"axis, p\")\n",
    "    \n",
    "    def apply(self, img: dict):\n",
    "        assert \"images\" in img.keys()\n",
    "        fimg = img[\"images\"].copy()\n",
    "        boxes = img[\"boxes\"].copy()\n",
    "        \n",
    "        if isinstance(fimg , np.ndarray) :\n",
    "            fimg = [fimg]\n",
    "            boxes = [boxes]\n",
    "            \n",
    "        for i in range(len(fimg)) :\n",
    "            for fa, fp in zip(self.axis, self.p):\n",
    "                if np.random.random() <= fp:\n",
    "                    fimg[i] , boxes[i] = flip3d(img=fimg[i], boxes=boxes[i], flip_axis=fa)\n",
    "        \n",
    "        if len(fimg) == 1 :\n",
    "            nimg = {\"images\":fimg[0], \"boxes\":boxes[0]}\n",
    "        else :\n",
    "            nimg = {\"images\":fimg, \"boxes\":boxes}\n",
    "            \n",
    "        for i in img.keys(): \n",
    "            if i not in [\"images\", \"boxes\"]: nimg[i] = img[i]\n",
    "        return nimg"
   ]
  },
  {
   "cell_type": "code",
   "execution_count": null,
   "metadata": {},
   "outputs": [],
   "source": [
    "vh = RandFlip(axis=[1, 2], p=[1, 1])"
   ]
  },
  {
   "cell_type": "code",
   "execution_count": null,
   "metadata": {},
   "outputs": [],
   "source": [
    "img = {}\n",
    "img[\"images\"] = imgb\n",
    "img[\"boxes\"] = bbox"
   ]
  },
  {
   "cell_type": "code",
   "execution_count": null,
   "metadata": {},
   "outputs": [
    {
     "name": "stdout",
     "output_type": "stream",
     "text": [
      "CPU times: user 1.67 ms, sys: 986 µs, total: 2.65 ms\n",
      "Wall time: 2.72 ms\n"
     ]
    }
   ],
   "source": [
    "%%time\n",
    "pimg = vh(img)"
   ]
  },
  {
   "cell_type": "code",
   "execution_count": null,
   "metadata": {},
   "outputs": [],
   "source": [
    "test_4dflip(pimg[\"images\"], pimg[\"boxes\"])"
   ]
  },
  {
   "cell_type": "code",
   "execution_count": null,
   "metadata": {},
   "outputs": [
    {
     "data": {
      "image/png": "[encoded data removed]",
      "text/plain": [
       "<PIL.Image.Image image mode=RGB size=320x320>"
      ]
     },
     "execution_count": null,
     "metadata": {},
     "output_type": "execute_result"
    }
   ],
   "source": [
    "vis(pimg[\"images\"][0]*255, 64, window=False)"
   ]
  },
  {
   "cell_type": "code",
   "execution_count": null,
   "metadata": {},
   "outputs": [],
   "source": [
    "#| hide\n",
    "import nbdev; nbdev.nbdev_export()"
   ]
  },
  {
   "cell_type": "code",
   "execution_count": null,
   "metadata": {},
   "outputs": [],
   "source": []
  }
 ],
 "metadata": {
  "kernelspec": {
   "display_name": "Python 3 (ipykernel)",
   "language": "python",
   "name": "python3"
  },
  "language_info": {
   "codemirror_mode": {
    "name": "ipython",
    "version": 3
   },
   "file_extension": ".py",
   "mimetype": "text/x-python",
   "name": "python",
   "nbconvert_exporter": "python",
   "pygments_lexer": "ipython3",
   "version": "3.9.15"
  }
 },
 "nbformat": 4,
 "nbformat_minor": 2
}
