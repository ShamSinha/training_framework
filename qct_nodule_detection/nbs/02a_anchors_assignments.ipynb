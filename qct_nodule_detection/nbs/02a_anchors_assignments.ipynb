{
 "cells": [
  {
   "cell_type": "markdown",
   "id": "0bfe1ca6",
   "metadata": {},
   "source": [
    "- for given dataset check if a nodule is assigned to any anchor or not\n",
    "- if yes check how many anchors are assigned to each nodule\n",
    "- further check if this nodule is detected by the model or not.\n",
    "- see for any patterns within this"
   ]
  },
  {
   "cell_type": "code",
   "execution_count": 1,
   "id": "289b8258",
   "metadata": {},
   "outputs": [],
   "source": [
    "import torch\n",
    "import numpy as np\n",
    "import pandas as pd\n",
    "import fastcore.all as fc \n",
    "\n",
    "from safetensors.numpy import load_file\n",
    "from voxdet.anchors import AnchorGeneratorBasedonStride\n",
    "from voxdet.tfsm.voxt import RandPosCrop"
   ]
  },
  {
   "cell_type": "code",
   "execution_count": 2,
   "id": "e17d3ab8",
   "metadata": {},
   "outputs": [],
   "source": [
    "import matplotlib.pyplot as plt\n",
    "plt.style.use(\"bmh\")\n",
    "%matplotlib inline"
   ]
  },
  {
   "cell_type": "code",
   "execution_count": 3,
   "id": "fe17f068",
   "metadata": {},
   "outputs": [
    {
     "data": {
      "text/plain": [
       "(#883) ['1.3.6.1.4.1.14519.5.2.1.6279.6001.534006575256943390479252771547','1.3.6.1.4.1.14519.5.2.1.6279.6001.147250707071097813243473865421','1.3.6.1.4.1.14519.5.2.1.6279.6001.162901839201654862079549658100','1.3.6.1.4.1.14519.5.2.1.6279.6001.483655032093002252444764787700','1.3.6.1.4.1.14519.5.2.1.6279.6001.144883090372691745980459537053','1.3.6.1.4.1.14519.5.2.1.6279.6001.655242448149322898770987310561','1.3.6.1.4.1.14519.5.2.1.6279.6001.335866409407244673864352309754','1.3.6.1.4.1.14519.5.2.1.6279.6001.302876782304722412779805665588','1.3.6.1.4.1.14519.5.2.1.6279.6001.259123825760999546551970425757','1.3.6.1.4.1.14519.5.2.1.6279.6001.561458563853929400124470098603'...]"
      ]
     },
     "execution_count": 3,
     "metadata": {},
     "output_type": "execute_result"
    }
   ],
   "source": [
    "sids = fc.L(pd.concat([pd.read_csv(i) for i in fc.Path(\"../studies/only_lidc/folds1/\").glob(\"folds_*.csv\")], axis=0)[\"scans\"].unique().tolist())\n",
    "sids"
   ]
  },
  {
   "cell_type": "code",
   "execution_count": 4,
   "id": "390d8d6b",
   "metadata": {},
   "outputs": [
    {
     "data": {
      "text/plain": [
       "True"
      ]
     },
     "execution_count": 4,
     "metadata": {},
     "output_type": "execute_result"
    }
   ],
   "source": [
    "sid = f\"/qct_cache/lidc_cache_qct/{sids[np.random.randint(len(sids))]}.safetensors\"\n",
    "fc.Path(sid).exists()"
   ]
  },
  {
   "cell_type": "code",
   "execution_count": 5,
   "id": "c58e07ee",
   "metadata": {},
   "outputs": [
    {
     "data": {
      "text/plain": [
       "((283, 191, 274),\n",
       " array([[133.52631579,  59.1015625 , 194.8984375 , 163.48120301,\n",
       "          92.1484375 , 235.6796875 ],\n",
       "        [ 91.09022556,  24.6484375 ,  69.0390625 , 101.07518797,\n",
       "          33.7890625 ,  78.8828125 ],\n",
       "        [ 38.66917293, 111.8359375 , 202.6328125 ,  58.63909774,\n",
       "         131.5234375 , 239.1953125 ]]))"
      ]
     },
     "execution_count": 5,
     "metadata": {},
     "output_type": "execute_result"
    }
   ],
   "source": [
    "img = load_file(sid)\n",
    "img[\"images\"].shape, img[\"boxes\"] #boxes are of the zyxzyx and images are of shape zyx"
   ]
  },
  {
   "cell_type": "code",
   "execution_count": 6,
   "id": "ee77c14f",
   "metadata": {},
   "outputs": [
    {
     "name": "stdout",
     "output_type": "stream",
     "text": [
      "torch.Size([2, 6])\n"
     ]
    },
    {
     "data": {
      "text/plain": [
       "tensor([[ 62.5263,  59.1016, 124.8984,  92.0000,  92.1484, 165.6797],\n",
       "        [ 20.0902,  24.6484,   0.0000,  30.0752,  33.7891,   8.8828]])"
      ]
     },
     "execution_count": 6,
     "metadata": {},
     "output_type": "execute_result"
    }
   ],
   "source": [
    "rpc = RandPosCrop(crop_size=(92, 192, 192))\n",
    "nimg = rpc(img)\n",
    "boxes =nimg[\"boxes\"]\n",
    "boxes = torch.Tensor(boxes)\n",
    "print(boxes.shape)\n",
    "boxes"
   ]
  },
  {
   "cell_type": "markdown",
   "id": "1c5cc6d8",
   "metadata": {},
   "source": [
    "> we will first see how POS and NEGs are assigned in the current framework and later see how this can be done for betterment. "
   ]
  },
  {
   "cell_type": "code",
   "execution_count": 7,
   "id": "2f87cd48",
   "metadata": {},
   "outputs": [
    {
     "data": {
      "text/plain": [
       "AnchorGeneratorBasedonStride()"
      ]
     },
     "execution_count": 7,
     "metadata": {},
     "output_type": "execute_result"
    }
   ],
   "source": [
    "anchors = AnchorGeneratorBasedonStride(strides=[[2, 4, 4], [4, 8, 8], [8, 16, 16], [8, 32, 32]])\n",
    "anchors"
   ]
  },
  {
   "cell_type": "markdown",
   "id": "1d20feb8",
   "metadata": {},
   "source": [
    "The training has the following stuff \n",
    "\n",
    "```python\n",
    "train_cfg = dict(\n",
    "    matcher=dict(\n",
    "        name=\"set_atss_matcher\", attr=dict(num_candidates=12, center_in_gt=False)\n",
    "    ),\n",
    "    sampler=dict(\n",
    "        name=\"set_hard_negative_sampler\",\n",
    "        attr=dict(\n",
    "            batch_size_per_image=500, positive_fraction=0.15, min_neg=400, pool_size=40\n",
    "        ),\n",
    "    ),\n",
    "    reg_loss=dict(\n",
    "        box_loss=dict(\n",
    "            __class_fullname__=\"voxdet.bbox_func.reg_loss.RegLoss\", iou_loss=\"diou\", l1_loss=False, reduction=\"mean\"\n",
    "        ), # BoxDIoULoss: default; L1_BoxDIoULoss: L1+default box reg loss; L1_BoxGIoULoss: L1+BoxGIoULoss\n",
    "        encode_gt=False,\n",
    "        decode_pred=True,\n",
    "    ),\n",
    "    cls_loss=\"\",\n",
    ")\n",
    "```"
   ]
  },
  {
   "cell_type": "code",
   "execution_count": 395,
   "id": "8104c5e1",
   "metadata": {},
   "outputs": [
    {
     "data": {
      "text/plain": [
       "16.0"
      ]
     },
     "execution_count": 395,
     "metadata": {},
     "output_type": "execute_result"
    }
   ],
   "source": [
    "256/16"
   ]
  },
  {
   "cell_type": "code",
   "execution_count": 65,
   "id": "506222fc",
   "metadata": {},
   "outputs": [
    {
     "name": "stdout",
     "output_type": "stream",
     "text": [
      "[torch.Size([63180, 6])]\n"
     ]
    },
    {
     "data": {
      "text/plain": [
       "torch.Size([63180, 6])"
      ]
     },
     "execution_count": 65,
     "metadata": {},
     "output_type": "execute_result"
    }
   ],
   "source": [
    "x = AnchorGeneratorBasedonStride(strides=[[4, 4, 4], [8, 8, 8], [16, 16, 16], [32, 32, 32]])\n",
    "images = torch.zeros((1, 1, 96, 192, 192))\n",
    "feature_maps = [torch.zeros((1, 6, 24, 48, 48)), torch.zeros((1, 6, 12, 24, 24)), \n",
    "                torch.zeros((1, 6, 6, 12, 12)), torch.zeros((1, 6, 3, 6, 6))]\n",
    "anchors = x.forward(images, feature_maps)\n",
    "print([i.shape for i in anchors])\n",
    "anchors = anchors[0]\n",
    "anchors.shape"
   ]
  },
  {
   "cell_type": "code",
   "execution_count": 66,
   "id": "eaadf1d5",
   "metadata": {},
   "outputs": [
    {
     "data": {
      "text/plain": [
       "tensor([[  0.,   0.,   0.,   4.,   4.,   4.],\n",
       "        [  0.,   0.,   4.,   4.,   4.,   8.],\n",
       "        [  0.,   0.,   8.,   4.,   4.,  12.],\n",
       "        ...,\n",
       "        [ 64., 160.,  96.,  96., 192., 128.],\n",
       "        [ 64., 160., 128.,  96., 192., 160.],\n",
       "        [ 64., 160., 160.,  96., 192., 192.]])"
      ]
     },
     "execution_count": 66,
     "metadata": {},
     "output_type": "execute_result"
    }
   ],
   "source": [
    "anchors"
   ]
  },
  {
   "cell_type": "code",
   "execution_count": 67,
   "id": "79496686",
   "metadata": {},
   "outputs": [
    {
     "data": {
      "text/plain": [
       "[1, 1, 1, 1]"
      ]
     },
     "execution_count": 67,
     "metadata": {},
     "output_type": "execute_result"
    }
   ],
   "source": [
    "x.num_anchors_per_location()"
   ]
  },
  {
   "cell_type": "code",
   "execution_count": 68,
   "id": "a2a0ad47",
   "metadata": {},
   "outputs": [
    {
     "data": {
      "text/plain": [
       "[tensor([[0., 0., 0., 4., 4., 4.]]),\n",
       " tensor([[0., 0., 0., 8., 8., 8.]]),\n",
       " tensor([[ 0.,  0.,  0., 16., 16., 16.]]),\n",
       " tensor([[ 0.,  0.,  0., 32., 32., 32.]])]"
      ]
     },
     "execution_count": 68,
     "metadata": {},
     "output_type": "execute_result"
    }
   ],
   "source": [
    "x.cell_anchors"
   ]
  },
  {
   "cell_type": "code",
   "execution_count": 69,
   "id": "b38574c2",
   "metadata": {},
   "outputs": [
    {
     "data": {
      "text/plain": [
       "[[4, 4, 4], [8, 8, 8], [16, 16, 16], [32, 32, 32]]"
      ]
     },
     "execution_count": 69,
     "metadata": {},
     "output_type": "execute_result"
    }
   ],
   "source": [
    "x.strides"
   ]
  },
  {
   "cell_type": "code",
   "execution_count": 70,
   "id": "73f5fea4",
   "metadata": {},
   "outputs": [
    {
     "data": {
      "text/plain": [
       "([1, 1, 1, 1], torch.Size([96, 192, 192]))"
      ]
     },
     "execution_count": 70,
     "metadata": {},
     "output_type": "execute_result"
    }
   ],
   "source": [
    "x.num_anchors_per_location(), images.shape[-3:]"
   ]
  },
  {
   "cell_type": "code",
   "execution_count": 71,
   "id": "c635752b",
   "metadata": {},
   "outputs": [
    {
     "name": "stdout",
     "output_type": "stream",
     "text": [
      "[4, 4, 4]\n",
      "[8, 8, 8]\n",
      "[16, 16, 16]\n",
      "[32, 32, 32]\n"
     ]
    },
    {
     "data": {
      "text/plain": [
       "([55296, 6912, 864, 108], 63180)"
      ]
     },
     "execution_count": 71,
     "metadata": {},
     "output_type": "execute_result"
    }
   ],
   "source": [
    "num_anchors_per_level = []\n",
    "for stride in x.strides:\n",
    "    print(stride)\n",
    "    k = np.prod([(i/j)*k for i, j, k in zip(images.shape[-3:], stride, x.num_anchors_per_location())])\n",
    "    num_anchors_per_level.append(int(k))\n",
    "num_anchors_per_level, sum(num_anchors_per_level)"
   ]
  },
  {
   "cell_type": "code",
   "execution_count": 72,
   "id": "47d96123",
   "metadata": {},
   "outputs": [],
   "source": [
    "def anchors_per_level(images, strides, num_anchors_per_location):\n",
    "    num_anchors_per_level = []\n",
    "    for stride in strides:\n",
    "        k = np.prod([(i/j)*k for i, j, k in zip(images.shape[-3:], stride, num_anchors_per_location)])\n",
    "        num_anchors_per_level.append(int(k))\n",
    "    return num_anchors_per_level"
   ]
  },
  {
   "cell_type": "code",
   "execution_count": 73,
   "id": "606f5c95",
   "metadata": {},
   "outputs": [],
   "source": [
    "from monai.data.box_utils import COMPUTE_DTYPE, box_iou, boxes_center_distance, centers_in_boxes\n",
    "from monai.utils.type_conversion import convert_to_tensor"
   ]
  },
  {
   "cell_type": "code",
   "execution_count": 74,
   "id": "6ddf4cc7",
   "metadata": {},
   "outputs": [],
   "source": [
    "num_gt = boxes.shape[0]\n",
    "num_anchors = anchors.shape[0]\n",
    "\n",
    "distances_, _, anchors_center = boxes_center_distance(boxes, anchors)  # num_boxes x anchors\n",
    "distances = convert_to_tensor(distances_)"
   ]
  },
  {
   "cell_type": "code",
   "execution_count": 75,
   "id": "ce8dc208",
   "metadata": {},
   "outputs": [
    {
     "data": {
      "text/plain": [
       "torch.Size([2, 63180])"
      ]
     },
     "execution_count": 75,
     "metadata": {},
     "output_type": "execute_result"
    }
   ],
   "source": [
    "distances.shape"
   ]
  },
  {
   "cell_type": "code",
   "execution_count": 76,
   "id": "011cde2e",
   "metadata": {},
   "outputs": [
    {
     "data": {
      "text/plain": [
       "(63180, 63180)"
      ]
     },
     "execution_count": 76,
     "metadata": {},
     "output_type": "execute_result"
    }
   ],
   "source": [
    "sum(num_anchors_per_level), num_anchors"
   ]
  },
  {
   "cell_type": "code",
   "execution_count": 77,
   "id": "35523307",
   "metadata": {},
   "outputs": [],
   "source": [
    "num_candidates = 12 \n",
    "num_anchors_per_loc = 1 "
   ]
  },
  {
   "cell_type": "markdown",
   "id": "829c14c9",
   "metadata": {},
   "source": [
    "> we have three levels for each level we have findout `num_candidates` min distance anchor boxes.\n",
    "if we have N bounding boxes we will get [N, 12*3] as output"
   ]
  },
  {
   "cell_type": "code",
   "execution_count": 78,
   "id": "b9dc43b4",
   "metadata": {},
   "outputs": [
    {
     "data": {
      "text/plain": [
       "[55296, 6912, 864, 108]"
      ]
     },
     "execution_count": 78,
     "metadata": {},
     "output_type": "execute_result"
    }
   ],
   "source": [
    "num_anchors_per_level"
   ]
  },
  {
   "cell_type": "code",
   "execution_count": 79,
   "id": "8b4316f8",
   "metadata": {},
   "outputs": [
    {
     "name": "stdout",
     "output_type": "stream",
     "text": [
      "0 55296\n",
      "55296 62208\n",
      "62208 63072\n",
      "63072 63180\n"
     ]
    },
    {
     "data": {
      "text/plain": [
       "tensor([[15582, 15581, 15630, 13278, 15629, 13277, 13326, 17886, 15534, 13325,\n",
       "         15583, 17885, 57471, 57470, 56895, 56894, 57447, 57446, 56871, 57495,\n",
       "         56870, 57494, 56919, 58047, 62467, 62455, 62611, 62468, 62466, 62323,\n",
       "         62599, 62456, 62454, 62311, 62479, 62612, 63099, 63135, 63100, 63105,\n",
       "         63136, 63093, 63141, 63106, 63098, 63129, 63094, 63142],\n",
       "        [10517, 12821, 10518, 10565, 10469, 12822, 10516,  8213, 12869, 10566,\n",
       "         12773, 10470, 56762, 56763, 56786, 56186, 56787, 56187, 56210, 57338,\n",
       "         56211, 56738, 57339, 56761, 62425, 62437, 62281, 62293, 62424, 62436,\n",
       "         62426, 62280, 62438, 62292, 62282, 62569, 63090, 63091, 63126, 63084,\n",
       "         63096, 63127, 63085, 63097, 63120, 63132, 63121, 63133]])"
      ]
     },
     "execution_count": 79,
     "metadata": {},
     "output_type": "execute_result"
    }
   ],
   "source": [
    "candidate_idx_list = []\n",
    "start_idx = 0\n",
    "for _, apl in enumerate(num_anchors_per_level):\n",
    "    end_idx = start_idx + apl * num_anchors_per_loc\n",
    "    print(start_idx, end_idx)\n",
    "\n",
    "    # topk: total number of candidates per position\n",
    "    topk = min(num_candidates * num_anchors_per_loc, apl)\n",
    "    # torch.topk() does not support float16 cpu, need conversion to float32 or float64\n",
    "    _, idx = distances[:, start_idx:end_idx].to(torch.float32).topk(topk, dim=1, largest=False)\n",
    "    # idx: shape [num_boxes x topk]\n",
    "    candidate_idx_list.append(idx + start_idx)\n",
    "\n",
    "    start_idx = end_idx\n",
    "candidate_idx = torch.cat(candidate_idx_list, dim=1)\n",
    "candidate_idx"
   ]
  },
  {
   "cell_type": "code",
   "execution_count": 80,
   "id": "b5e845d7",
   "metadata": {},
   "outputs": [],
   "source": [
    "def get_candidates(distances, num_candidates, num_anchors_per_level, num_anchors_per_loc):\n",
    "    candidate_idx_list = []\n",
    "    start_idx = 0\n",
    "    for _, apl in enumerate(num_anchors_per_level):\n",
    "        end_idx = start_idx + apl * num_anchors_per_loc\n",
    "\n",
    "        # topk: total number of candidates per position\n",
    "        topk = min(num_candidates * num_anchors_per_loc, apl)\n",
    "        # torch.topk() does not support float16 cpu, need conversion to float32 or float64\n",
    "        _, idx = distances[:, start_idx:end_idx].to(torch.float32).topk(topk, dim=1, largest=False)\n",
    "        # idx: shape [num_boxes x topk]\n",
    "        candidate_idx_list.append(idx + start_idx)\n",
    "\n",
    "        start_idx = end_idx\n",
    "    candidate_idx = torch.cat(candidate_idx_list, dim=1)\n",
    "    return candidate_idx"
   ]
  },
  {
   "cell_type": "code",
   "execution_count": 81,
   "id": "be5bdbef",
   "metadata": {},
   "outputs": [
    {
     "data": {
      "text/plain": [
       "torch.Size([2, 48])"
      ]
     },
     "execution_count": 81,
     "metadata": {},
     "output_type": "execute_result"
    }
   ],
   "source": [
    "candidate_idx = get_candidates(distances, num_candidates, num_anchors_per_level, num_anchors_per_loc)\n",
    "candidate_idx.shape"
   ]
  },
  {
   "cell_type": "markdown",
   "id": "fa274b27",
   "metadata": {},
   "source": [
    "## calculate the iou between bounding boxes and anchor boxes "
   ]
  },
  {
   "cell_type": "code",
   "execution_count": 82,
   "id": "ebfbbf48",
   "metadata": {},
   "outputs": [],
   "source": [
    "from voxdet.bbox_func.bbox_iou import calculate_iou"
   ]
  },
  {
   "cell_type": "code",
   "execution_count": 83,
   "id": "cbce90c7",
   "metadata": {},
   "outputs": [
    {
     "data": {
      "text/plain": [
       "torch.Size([2, 63180])"
      ]
     },
     "execution_count": 83,
     "metadata": {},
     "output_type": "execute_result"
    }
   ],
   "source": [
    "match_quality_matrix = calculate_iou(boxes, anchors)\n",
    "match_quality_matrix.shape"
   ]
  },
  {
   "cell_type": "code",
   "execution_count": 84,
   "id": "712d1d00",
   "metadata": {},
   "outputs": [
    {
     "data": {
      "text/plain": [
       "torch.return_types.max(\n",
       "values=tensor([0.3072, 0.3932]),\n",
       "indices=tensor([0, 0]))"
      ]
     },
     "execution_count": 84,
     "metadata": {},
     "output_type": "execute_result"
    }
   ],
   "source": [
    "candidate_ious = match_quality_matrix.gather(1, candidate_idx)\n",
    "candidate_ious.max(1)"
   ]
  },
  {
   "cell_type": "code",
   "execution_count": 85,
   "id": "06fcf2b1",
   "metadata": {},
   "outputs": [
    {
     "data": {
      "text/plain": [
       "tensor([[0.3072, 0.1304, 0.1277, 0.0511, 0.0588, 0.0244, 0.0240, 0.0000, 0.0000,\n",
       "         0.0116, 0.0000, 0.0000, 0.1066, 0.0496, 0.0203, 0.0099, 0.0000, 0.0000,\n",
       "         0.0000, 0.0000, 0.0000, 0.0000, 0.0000, 0.0000, 0.0262, 0.0000, 0.0000,\n",
       "         0.0000, 0.0000, 0.0000, 0.0000, 0.0000, 0.0000, 0.0000, 0.0000, 0.0000,\n",
       "         0.0033, 0.0000, 0.0000, 0.0000, 0.0000, 0.0000, 0.0000, 0.0000, 0.0000,\n",
       "         0.0000, 0.0000, 0.0000],\n",
       "        [0.3932, 0.0801, 0.1528, 0.0158, 0.0000, 0.0361, 0.0416, 0.0000, 0.0041,\n",
       "         0.0074, 0.0000, 0.0000, 0.1214, 0.0466, 0.0060, 0.0000, 0.0025, 0.0000,\n",
       "         0.0000, 0.0000, 0.0000, 0.0000, 0.0000, 0.0000, 0.0227, 0.0012, 0.0000,\n",
       "         0.0000, 0.0000, 0.0000, 0.0000, 0.0000, 0.0000, 0.0000, 0.0000, 0.0000,\n",
       "         0.0030, 0.0000, 0.0000, 0.0000, 0.0000, 0.0000, 0.0000, 0.0000, 0.0000,\n",
       "         0.0000, 0.0000, 0.0000]])"
      ]
     },
     "execution_count": 85,
     "metadata": {},
     "output_type": "execute_result"
    }
   ],
   "source": [
    "candidate_ious"
   ]
  },
  {
   "cell_type": "code",
   "execution_count": 86,
   "id": "20b40947",
   "metadata": {},
   "outputs": [
    {
     "data": {
      "text/plain": [
       "torch.return_types.max(\n",
       "values=tensor([0.3072, 0.3932]),\n",
       "indices=tensor([15582, 10517]))"
      ]
     },
     "execution_count": 86,
     "metadata": {},
     "output_type": "execute_result"
    }
   ],
   "source": [
    "match_quality_matrix.max(1)"
   ]
  },
  {
   "cell_type": "code",
   "execution_count": 87,
   "id": "b38e9d37",
   "metadata": {},
   "outputs": [
    {
     "data": {
      "text/plain": [
       "tensor([[ True,  True,  True, False, False, False, False, False, False, False,\n",
       "         False, False,  True, False, False, False, False, False, False, False,\n",
       "         False, False, False, False, False, False, False, False, False, False,\n",
       "         False, False, False, False, False, False, False, False, False, False,\n",
       "         False, False, False, False, False, False, False, False],\n",
       "        [ True, False,  True, False, False, False, False, False, False, False,\n",
       "         False, False,  True, False, False, False, False, False, False, False,\n",
       "         False, False, False, False, False, False, False, False, False, False,\n",
       "         False, False, False, False, False, False, False, False, False, False,\n",
       "         False, False, False, False, False, False, False, False]])"
      ]
     },
     "execution_count": 87,
     "metadata": {},
     "output_type": "execute_result"
    }
   ],
   "source": [
    "# compute adaptive iou threshold\n",
    "iou_mean_per_gt = candidate_ious.mean(dim=1)  # [num_boxes]\n",
    "iou_std_per_gt = candidate_ious.std(dim=1)  # [num_boxes]\n",
    "iou_thresh_per_gt = iou_mean_per_gt + iou_std_per_gt  # [num_boxes]\n",
    "is_pos = candidate_ious >= iou_thresh_per_gt[:, None]  # [num_boxes x n_candidates]\n",
    "is_pos"
   ]
  },
  {
   "cell_type": "code",
   "execution_count": 88,
   "id": "809715ce",
   "metadata": {},
   "outputs": [],
   "source": [
    "def is_pos_bbox(boxes, anchors, candidate_idx):\n",
    "    match_quality_matrix = calculate_iou(boxes, anchors)\n",
    "    candidate_ious = match_quality_matrix.gather(1, candidate_idx)\n",
    "    iou_mean_per_gt = candidate_ious.mean(dim=1)  # [num_boxes]\n",
    "    iou_std_per_gt = candidate_ious.std(dim=1)  # [num_boxes]\n",
    "    iou_thresh_per_gt = iou_mean_per_gt + iou_std_per_gt  # [num_boxes]\n",
    "    is_pos = candidate_ious >= iou_thresh_per_gt[:, None]  # [num_boxes x n_candidates]\n",
    "    return is_pos, match_quality_matrix"
   ]
  },
  {
   "cell_type": "code",
   "execution_count": 89,
   "id": "576adb9a",
   "metadata": {},
   "outputs": [
    {
     "data": {
      "text/plain": [
       "tensor([4, 3])"
      ]
     },
     "execution_count": 89,
     "metadata": {},
     "output_type": "execute_result"
    }
   ],
   "source": [
    "is_pos.sum(axis=1)"
   ]
  },
  {
   "cell_type": "code",
   "execution_count": 90,
   "id": "a07502ae",
   "metadata": {},
   "outputs": [
    {
     "data": {
      "text/plain": [
       "tensor([15582, 15581, 15630, 57471])"
      ]
     },
     "execution_count": 90,
     "metadata": {},
     "output_type": "execute_result"
    }
   ],
   "source": [
    "candidate_idx[0][is_pos[0]]"
   ]
  },
  {
   "cell_type": "markdown",
   "id": "33ca689c",
   "metadata": {},
   "source": [
    "> in_case if the same anchor is assigned to two bounding boxes. we have to make sure that box with max iou is assigned to that box"
   ]
  },
  {
   "cell_type": "code",
   "execution_count": 91,
   "id": "f37bd746",
   "metadata": {},
   "outputs": [
    {
     "data": {
      "text/plain": [
       "tensor([[ 15582,  15581,  15630,  13278,  15629,  13277,  13326,  17886,  15534,\n",
       "          13325,  15583,  17885,  57471,  57470,  56895,  56894,  57447,  57446,\n",
       "          56871,  57495,  56870,  57494,  56919,  58047,  62467,  62455,  62611,\n",
       "          62468,  62466,  62323,  62599,  62456,  62454,  62311,  62479,  62612,\n",
       "          63099,  63135,  63100,  63105,  63136,  63093,  63141,  63106,  63098,\n",
       "          63129,  63094,  63142],\n",
       "        [ 73697,  76001,  73698,  73745,  73649,  76002,  73696,  71393,  76049,\n",
       "          73746,  75953,  73650, 119942, 119943, 119966, 119366, 119967, 119367,\n",
       "         119390, 120518, 119391, 119918, 120519, 119941, 125605, 125617, 125461,\n",
       "         125473, 125604, 125616, 125606, 125460, 125618, 125472, 125462, 125749,\n",
       "         126270, 126271, 126306, 126264, 126276, 126307, 126265, 126277, 126300,\n",
       "         126312, 126301, 126313]])"
      ]
     },
     "execution_count": 91,
     "metadata": {},
     "output_type": "execute_result"
    }
   ],
   "source": [
    "for ng in range(num_gt):\n",
    "    candidate_idx[ng, :] += ng * num_anchors\n",
    "candidate_idx"
   ]
  },
  {
   "cell_type": "code",
   "execution_count": 92,
   "id": "e17ba8fe",
   "metadata": {},
   "outputs": [
    {
     "data": {
      "text/plain": [
       "torch.Size([126360])"
      ]
     },
     "execution_count": 92,
     "metadata": {},
     "output_type": "execute_result"
    }
   ],
   "source": [
    "ious_inf = torch.full_like(match_quality_matrix, -float(\"inf\")).view(-1)\n",
    "ious_inf.shape"
   ]
  },
  {
   "cell_type": "code",
   "execution_count": 93,
   "id": "0c232e30",
   "metadata": {},
   "outputs": [
    {
     "data": {
      "text/plain": [
       "tensor([ 15582,  15581,  15630,  57471,  73697,  73698, 119942])"
      ]
     },
     "execution_count": 93,
     "metadata": {},
     "output_type": "execute_result"
    }
   ],
   "source": [
    "index = candidate_idx.view(-1)[is_pos.view(-1)]\n",
    "index"
   ]
  },
  {
   "cell_type": "code",
   "execution_count": 94,
   "id": "36c42042",
   "metadata": {},
   "outputs": [
    {
     "data": {
      "text/plain": [
       "tensor([-inf, -inf, -inf,  ..., -inf, -inf, -inf])"
      ]
     },
     "execution_count": 94,
     "metadata": {},
     "output_type": "execute_result"
    }
   ],
   "source": [
    "ious_inf[index] = match_quality_matrix.view(-1)[index]\n",
    "ious_inf"
   ]
  },
  {
   "cell_type": "code",
   "execution_count": 95,
   "id": "83f64ad8",
   "metadata": {},
   "outputs": [
    {
     "data": {
      "text/plain": [
       "torch.Size([2, 63180])"
      ]
     },
     "execution_count": 95,
     "metadata": {},
     "output_type": "execute_result"
    }
   ],
   "source": [
    "ious_inf = ious_inf.view_as(match_quality_matrix)\n",
    "ious_inf.shape"
   ]
  },
  {
   "cell_type": "code",
   "execution_count": 96,
   "id": "20add0d0",
   "metadata": {},
   "outputs": [],
   "source": [
    "matched_vals, matches = ious_inf.to(torch.float32).max(dim=0)"
   ]
  },
  {
   "cell_type": "code",
   "execution_count": 97,
   "id": "79b4a743",
   "metadata": {},
   "outputs": [],
   "source": [
    "matches[matched_vals == -float(\"inf\")] = -1"
   ]
  },
  {
   "cell_type": "code",
   "execution_count": 98,
   "id": "66df63bd",
   "metadata": {},
   "outputs": [
    {
     "data": {
      "text/plain": [
       "(tensor([-1,  0,  1]), tensor([63173,     4,     3]))"
      ]
     },
     "execution_count": 98,
     "metadata": {},
     "output_type": "execute_result"
    }
   ],
   "source": [
    "matches.unique(return_counts=True)"
   ]
  },
  {
   "cell_type": "code",
   "execution_count": 99,
   "id": "dcee37e8",
   "metadata": {},
   "outputs": [
    {
     "data": {
      "text/plain": [
       "(tensor([0.3932, 0.1528, 0.1214]), tensor([0.1304, 0.3072, 0.1277, 0.1066]))"
      ]
     },
     "execution_count": 99,
     "metadata": {},
     "output_type": "execute_result"
    }
   ],
   "source": [
    "matched_vals[matches==1], matched_vals[matches==0]"
   ]
  },
  {
   "cell_type": "code",
   "execution_count": 43,
   "id": "56c3f7f6",
   "metadata": {},
   "outputs": [
    {
     "data": {
      "text/plain": [
       "tensor([  -inf, 0.0981, 0.1292, 0.1611, 0.2386, 0.2748, 0.2829, 0.3457])"
      ]
     },
     "execution_count": 43,
     "metadata": {},
     "output_type": "execute_result"
    }
   ],
   "source": [
    "matched_vals.unique()"
   ]
  },
  {
   "cell_type": "code",
   "execution_count": 44,
   "id": "e3ad1158",
   "metadata": {},
   "outputs": [],
   "source": [
    "def assign_bbox_2_anchors(candidate_idx, match_quality_matrix,  is_pos, num_anchors):\n",
    "    num_gt = is_pos.shape[0]\n",
    "    for ng in range(num_gt):\n",
    "        candidate_idx[ng, :] += ng * num_anchors    \n",
    "    ious_inf = torch.full_like(match_quality_matrix, -float(\"inf\")).view(-1)\n",
    "    index = candidate_idx.view(-1)[is_pos.view(-1)]\n",
    "    ious_inf[index] = match_quality_matrix.view(-1)[index]\n",
    "    ious_inf = ious_inf.view_as(match_quality_matrix)\n",
    "    matched_vals, matches = ious_inf.to(torch.float32).max(dim=0)\n",
    "    matches[matched_vals == -float(\"inf\")] = -1\n",
    "    return matches"
   ]
  },
  {
   "cell_type": "markdown",
   "id": "75e744ce",
   "metadata": {},
   "source": [
    "## Combine everything\n",
    "- For each image\n",
    "- There are N bounding box\n",
    "- For each bbox find out how many pos boxes are present. for these findout iou for each\n",
    "- for each level check how many anchors are selected."
   ]
  },
  {
   "cell_type": "code",
   "execution_count": 45,
   "id": "ef40aee1",
   "metadata": {},
   "outputs": [
    {
     "data": {
      "text/plain": [
       "(torch.Size([2, 6]), (92, 192, 192))"
      ]
     },
     "execution_count": 45,
     "metadata": {},
     "output_type": "execute_result"
    }
   ],
   "source": [
    "sid = f\"/qct_cache/lidc_cache_qct/{sids[np.random.randint(len(sids))]}.safetensors\"\n",
    "img = load_file(sid)\n",
    "rpc = RandPosCrop(crop_size=(92, 192, 192))\n",
    "nimg = rpc(img)\n",
    "boxes =nimg[\"boxes\"]\n",
    "boxes = torch.Tensor(boxes)\n",
    "boxes.shape, nimg[\"images\"].shape"
   ]
  },
  {
   "cell_type": "code",
   "execution_count": 46,
   "id": "c3cfde2c",
   "metadata": {},
   "outputs": [],
   "source": [
    "num_candidates = 12 \n",
    "num_anchors_per_loc = 1 "
   ]
  },
  {
   "cell_type": "code",
   "execution_count": 47,
   "id": "5e092393",
   "metadata": {},
   "outputs": [
    {
     "data": {
      "text/plain": [
       "[110592, 13824, 1728, 216]"
      ]
     },
     "execution_count": 47,
     "metadata": {},
     "output_type": "execute_result"
    }
   ],
   "source": [
    "num_anchors_per_level = anchors_per_level(images, x.strides, x.num_anchors_per_location())\n",
    "num_anchors_per_level"
   ]
  },
  {
   "cell_type": "code",
   "execution_count": 48,
   "id": "ceb9518e",
   "metadata": {},
   "outputs": [
    {
     "data": {
      "text/plain": [
       "torch.Size([2, 126360])"
      ]
     },
     "execution_count": 48,
     "metadata": {},
     "output_type": "execute_result"
    }
   ],
   "source": [
    "num_gt = boxes.shape[0]\n",
    "num_anchors = anchors.shape[0]\n",
    "\n",
    "distances_, _, anchors_center = boxes_center_distance(boxes, anchors)  # num_boxes x anchors\n",
    "distances = convert_to_tensor(distances_)\n",
    "distances.shape"
   ]
  },
  {
   "cell_type": "code",
   "execution_count": 49,
   "id": "5816fe41",
   "metadata": {},
   "outputs": [
    {
     "data": {
      "text/plain": [
       "tensor([[ 29406,  31710,  27102,  29405,  29454,  31709,  31758,  27101,  34014,\n",
       "          27150,  29453,  31757, 114495, 113919, 114494, 115071, 113918, 115070,\n",
       "         114471, 113343, 113895, 114470, 113342, 115047, 124963, 124819, 124951,\n",
       "         125107, 124807, 124675, 125095, 124964, 124820, 124663, 124962, 124818,\n",
       "         126207, 126243, 126171, 126208, 126244, 126172, 126213, 126279, 126249,\n",
       "         126177, 126201, 126214],\n",
       "        [ 22037,  19733,  24341,  22038,  19734,  22085,  24342,  17429,  26645,\n",
       "          21989,  19781,  24389, 113210, 113786, 113211, 112634, 113234, 113787,\n",
       "         113810, 112635, 114362, 113235, 112658, 113811, 124777, 124633, 124789,\n",
       "         124921, 124645, 124933, 124776, 124489, 124632, 124788, 124501, 125065,\n",
       "         126198, 126162, 126234, 126199, 126163, 126192, 126156, 126235, 126204,\n",
       "         126168, 126228, 126270]])"
      ]
     },
     "execution_count": 49,
     "metadata": {},
     "output_type": "execute_result"
    }
   ],
   "source": [
    "candidate_idx = get_candidates(distances, num_candidates, num_anchors_per_level, num_anchors_per_loc)\n",
    "candidate_idx"
   ]
  },
  {
   "cell_type": "code",
   "execution_count": 50,
   "id": "b151a914",
   "metadata": {},
   "outputs": [
    {
     "data": {
      "text/plain": [
       "(tensor([[ True,  True, False,  True,  True, False, False, False, False, False,\n",
       "          False, False,  True, False,  True, False, False, False, False, False,\n",
       "          False, False, False, False, False, False, False, False, False, False,\n",
       "          False, False, False, False, False, False, False, False, False, False,\n",
       "          False, False, False, False, False, False, False, False],\n",
       "         [ True,  True,  True,  True, False, False, False, False, False, False,\n",
       "          False, False,  True, False, False, False, False, False, False, False,\n",
       "          False, False, False, False, False, False, False, False, False, False,\n",
       "          False, False, False, False, False, False, False, False, False, False,\n",
       "          False, False, False, False, False, False, False, False]]),\n",
       " torch.Size([2, 126360]))"
      ]
     },
     "execution_count": 50,
     "metadata": {},
     "output_type": "execute_result"
    }
   ],
   "source": [
    "is_pos, match_quality_matrix = is_pos_bbox(boxes, anchors, candidate_idx)\n",
    "is_pos, match_quality_matrix.shape"
   ]
  },
  {
   "cell_type": "code",
   "execution_count": 51,
   "id": "4d5740cd",
   "metadata": {},
   "outputs": [
    {
     "data": {
      "text/plain": [
       "torch.Size([126360])"
      ]
     },
     "execution_count": 51,
     "metadata": {},
     "output_type": "execute_result"
    }
   ],
   "source": [
    "matches = assign_bbox_2_anchors(candidate_idx, match_quality_matrix, is_pos, num_anchors)\n",
    "matches.shape"
   ]
  },
  {
   "cell_type": "code",
   "execution_count": 52,
   "id": "c32638f4",
   "metadata": {},
   "outputs": [
    {
     "name": "stdout",
     "output_type": "stream",
     "text": [
      "tensor([0.0855, 0.1913, 0.0839, 0.1473, 0.0877, 0.1965])\n",
      "tensor([0.1274, 0.3131, 0.1261, 0.1017, 0.1732])\n"
     ]
    }
   ],
   "source": [
    "for gt in range(boxes.shape[0]):\n",
    "    print(match_quality_matrix[gt][matches==gt])"
   ]
  },
  {
   "cell_type": "code",
   "execution_count": 53,
   "id": "8431a150",
   "metadata": {},
   "outputs": [
    {
     "data": {
      "text/plain": [
       "tensor([ 29405,  29406,  29454,  31710, 114494, 114495])"
      ]
     },
     "execution_count": 53,
     "metadata": {},
     "output_type": "execute_result"
    }
   ],
   "source": [
    "anchor_idx = torch.where(matches == 0)[0]\n",
    "anchor_idx"
   ]
  },
  {
   "cell_type": "code",
   "execution_count": 54,
   "id": "acfed1f5",
   "metadata": {},
   "outputs": [
    {
     "data": {
      "text/plain": [
       "tensor([     0., 110592., 124416., 126144., 126360.])"
      ]
     },
     "execution_count": 54,
     "metadata": {},
     "output_type": "execute_result"
    }
   ],
   "source": [
    "anchors_cumsum = torch.Tensor([0]+num_anchors_per_level).cumsum(axis=0)\n",
    "anchors_cumsum"
   ]
  },
  {
   "cell_type": "code",
   "execution_count": 55,
   "id": "9f1d28fd",
   "metadata": {},
   "outputs": [
    {
     "data": {
      "text/plain": [
       "tensor([[     0, 110592],\n",
       "        [110592, 124416],\n",
       "        [124416, 126144],\n",
       "        [126144, 126360]])"
      ]
     },
     "execution_count": 55,
     "metadata": {},
     "output_type": "execute_result"
    }
   ],
   "source": [
    "#anchor_bins = torch.Tensor([[0, 110592], [110592, 124416], [124416, 126144]]).long()\n",
    "#anchor_bins = torch.Tensor([[0, 196608], [196608, 221184], [221184, 224256]]).long()\n",
    "anchor_bins = torch.Tensor([[0, 110592], [110592, 124416], [124416, 126144], [126144, 126360]]).long()\n",
    "anchor_bins"
   ]
  },
  {
   "cell_type": "code",
   "execution_count": 56,
   "id": "11b6e43e",
   "metadata": {},
   "outputs": [
    {
     "data": {
      "text/plain": [
       "tensor([[ True,  True,  True,  True, False, False],\n",
       "        [False, False, False, False,  True,  True],\n",
       "        [False, False, False, False, False, False],\n",
       "        [False, False, False, False, False, False]])"
      ]
     },
     "execution_count": 56,
     "metadata": {},
     "output_type": "execute_result"
    }
   ],
   "source": [
    "tx = (anchor_idx[None]>anchor_bins[:, 0][..., None]) & (anchor_idx[None] <= anchor_bins[:, 1][..., None])\n",
    "tx"
   ]
  },
  {
   "cell_type": "code",
   "execution_count": 57,
   "id": "35741f4a",
   "metadata": {},
   "outputs": [
    {
     "data": {
      "text/plain": [
       "(tensor([0, 0, 0, 0, 1, 1]), tensor([0, 1, 2, 3, 4, 5]))"
      ]
     },
     "execution_count": 57,
     "metadata": {},
     "output_type": "execute_result"
    }
   ],
   "source": [
    "rowidx, colidx = torch.where(tx==1)\n",
    "rowidx, colidx"
   ]
  },
  {
   "cell_type": "code",
   "execution_count": 58,
   "id": "0ce061d1",
   "metadata": {},
   "outputs": [],
   "source": [
    "assert  all(colidx == torch.arange(colidx.shape[0]))"
   ]
  },
  {
   "cell_type": "code",
   "execution_count": 59,
   "id": "ef65ba87",
   "metadata": {},
   "outputs": [],
   "source": [
    "def find_anchors_level(anchor_idx, anchor_bins):\n",
    "    tx = (anchor_idx[None]>anchor_bins[:, 0][..., None]) & (anchor_idx[None] <= anchor_bins[:, 1][..., None])\n",
    "    rowidx, colidx = torch.where(tx==1)\n",
    "    assert  all(colidx == torch.arange(colidx.shape[0]))\n",
    "    return rowidx"
   ]
  },
  {
   "cell_type": "markdown",
   "id": "266861c8",
   "metadata": {},
   "source": [
    "- total anchors assigned to each level [x]\n",
    "- per gt how many pos are present [x]\n",
    "- per gt what are the pos iou scores we are getting [x]\n",
    "- per crop how many gts are present "
   ]
  },
  {
   "cell_type": "code",
   "execution_count": 60,
   "id": "c1b13a93",
   "metadata": {},
   "outputs": [],
   "source": [
    "from tqdm import tqdm"
   ]
  },
  {
   "cell_type": "code",
   "execution_count": 481,
   "id": "311e41b7",
   "metadata": {},
   "outputs": [
    {
     "name": "stderr",
     "output_type": "stream",
     "text": [
      "100%|█████████████████████████████████████████████████████████████████████████████████████████████████████████████████████████████████████| 883/883 [05:01<00:00,  2.92it/s]\n"
     ]
    }
   ],
   "source": [
    "level = torch.zeros(4)\n",
    "total_gt_boxes = []\n",
    "iou_scores = []\n",
    "max_iou_scores = []\n",
    "num_anchors = anchors.shape[0]\n",
    "box2level = []\n",
    "nogt=0\n",
    "for sid in tqdm(sids):\n",
    "    sid = f\"/qct_cache/lidc_cache_qct/{sids[np.random.randint(len(sids))]}.safetensors\"\n",
    "    if not fc.Path(sid).exists(): continue\n",
    "    img = load_file(sid)\n",
    "    for _ in range(4):\n",
    "        nimg = rpc(img)\n",
    "        boxes =nimg[\"boxes\"]\n",
    "        boxes = torch.Tensor(boxes)\n",
    "        num_gt = boxes.shape[0]\n",
    "        distances_, _, anchors_center = boxes_center_distance(boxes, anchors)  # num_boxes x anchors\n",
    "        distances = convert_to_tensor(distances_)\n",
    "        candidate_idx = get_candidates(distances, num_candidates, num_anchors_per_level, num_anchors_per_loc)\n",
    "        is_pos, match_quality_matrix = is_pos_bbox(boxes, anchors, candidate_idx)\n",
    "        matches = assign_bbox_2_anchors(candidate_idx, match_quality_matrix, is_pos, num_anchors)\n",
    "        total_gt_boxes.append(match_quality_matrix.shape[0])\n",
    "        for gt in range(match_quality_matrix.shape[0]):\n",
    "            anchor_idx = torch.where(matches == gt)[0]\n",
    "            rowidx = find_anchors_level(anchor_idx, anchor_bins)\n",
    "            for row in rowidx: level[row]+=1\n",
    "            box2level.append(rowidx.unique())\n",
    "            iou_scores.append(match_quality_matrix[gt][matches==gt])\n",
    "            \n",
    "            if match_quality_matrix[gt][matches==gt].shape[0]>0:\n",
    "                max_iou_scores.append(match_quality_matrix[gt][matches==gt].max())\n",
    "            else:\n",
    "                #nodules with not even one gt\n",
    "                nogt+=1"
   ]
  },
  {
   "cell_type": "code",
   "execution_count": 482,
   "id": "4bbfbf7c",
   "metadata": {},
   "outputs": [
    {
     "data": {
      "text/plain": [
       "(1.7712585034013606, 1.0)"
      ]
     },
     "execution_count": 482,
     "metadata": {},
     "output_type": "execute_result"
    }
   ],
   "source": [
    "np.mean(total_gt_boxes), np.median(total_gt_boxes)"
   ]
  },
  {
   "cell_type": "code",
   "execution_count": 483,
   "id": "d50ee8f7",
   "metadata": {},
   "outputs": [
    {
     "data": {
      "image/png": "[encoded data removed]",
      "text/plain": [
       "<Figure size 640x480 with 1 Axes>"
      ]
     },
     "metadata": {},
     "output_type": "display_data"
    }
   ],
   "source": [
    "# pos anchors per box\n",
    "plt.hist([i.shape[0] for i in iou_scores])\n",
    "plt.show()"
   ]
  },
  {
   "cell_type": "code",
   "execution_count": 496,
   "id": "727bbf86",
   "metadata": {},
   "outputs": [
    {
     "data": {
      "text/plain": [
       "5.6277804448711795"
      ]
     },
     "execution_count": 496,
     "metadata": {},
     "output_type": "execute_result"
    }
   ],
   "source": [
    "np.mean([i.shape[0] for i in iou_scores])"
   ]
  },
  {
   "cell_type": "code",
   "execution_count": 485,
   "id": "d336705e",
   "metadata": {},
   "outputs": [
    {
     "data": {
      "text/plain": [
       "tensor([ 15891,  15892,  15940,  18195,  18196,  18244, 112826])"
      ]
     },
     "execution_count": 485,
     "metadata": {},
     "output_type": "execute_result"
    }
   ],
   "source": [
    "anchor_idx"
   ]
  },
  {
   "cell_type": "code",
   "execution_count": 486,
   "id": "56bad66e",
   "metadata": {},
   "outputs": [
    {
     "data": {
      "text/plain": [
       "tensor([0, 0, 0, 0, 0, 0, 1])"
      ]
     },
     "execution_count": 486,
     "metadata": {},
     "output_type": "execute_result"
    }
   ],
   "source": [
    "rowidx"
   ]
  },
  {
   "cell_type": "code",
   "execution_count": 487,
   "id": "18a8ca82",
   "metadata": {},
   "outputs": [
    {
     "data": {
      "text/plain": [
       "6249"
      ]
     },
     "execution_count": 487,
     "metadata": {},
     "output_type": "execute_result"
    }
   ],
   "source": [
    "sum(total_gt_boxes)"
   ]
  },
  {
   "cell_type": "code",
   "execution_count": 488,
   "id": "c098803c",
   "metadata": {},
   "outputs": [
    {
     "data": {
      "text/plain": [
       "tensor([13180., 13502.,  6333.,  2153.])"
      ]
     },
     "execution_count": 488,
     "metadata": {},
     "output_type": "execute_result"
    }
   ],
   "source": [
    "level"
   ]
  },
  {
   "cell_type": "code",
   "execution_count": 489,
   "id": "b85ebedb",
   "metadata": {},
   "outputs": [
    {
     "data": {
      "image/png": "[encoded data removed]",
      "text/plain": [
       "<Figure size 400x300 with 1 Axes>"
      ]
     },
     "metadata": {},
     "output_type": "display_data"
    }
   ],
   "source": [
    "fig, ax = plt.subplots(figsize=(4, 3), nrows=1, ncols=1)\n",
    "ax.hist(total_gt_boxes)\n",
    "plt.show()"
   ]
  },
  {
   "cell_type": "code",
   "execution_count": 490,
   "id": "6d36c139",
   "metadata": {},
   "outputs": [
    {
     "data": {
      "text/plain": [
       "tensor([0.2680, 0.3224, 0.3078,  ..., 0.1890, 0.1795, 0.1039])"
      ]
     },
     "execution_count": 490,
     "metadata": {},
     "output_type": "execute_result"
    }
   ],
   "source": [
    "torch.stack(max_iou_scores)"
   ]
  },
  {
   "cell_type": "code",
   "execution_count": 491,
   "id": "54ba2ccc",
   "metadata": {},
   "outputs": [
    {
     "data": {
      "image/png": "[encoded data removed]",
      "text/plain": [
       "<Figure size 800x300 with 2 Axes>"
      ]
     },
     "metadata": {},
     "output_type": "display_data"
    }
   ],
   "source": [
    "iou = torch.cat(iou_scores).numpy()\n",
    "max_iou = torch.stack(max_iou_scores).numpy()\n",
    "fig, ax = plt.subplots(figsize=(8, 3), nrows=1, ncols=2)\n",
    "ax.flat[0].hist(iou)\n",
    "ax.flat[1].hist(max_iou)\n",
    "plt.show()"
   ]
  },
  {
   "cell_type": "code",
   "execution_count": 492,
   "id": "48b2089e",
   "metadata": {},
   "outputs": [
    {
     "data": {
      "text/plain": [
       "(0.11858764, 0.14056174, 0.22688995, 0.24089015)"
      ]
     },
     "execution_count": 492,
     "metadata": {},
     "output_type": "execute_result"
    }
   ],
   "source": [
    "np.median(iou), np.mean(iou), np.median(max_iou), np.mean(max_iou)"
   ]
  },
  {
   "cell_type": "code",
   "execution_count": 493,
   "id": "69b903f7",
   "metadata": {},
   "outputs": [
    {
     "data": {
      "text/plain": [
       "0.37926068170907346"
      ]
     },
     "execution_count": 493,
     "metadata": {},
     "output_type": "execute_result"
    }
   ],
   "source": [
    "max_iou[max_iou<0.2].shape[0]/max_iou.shape[0]"
   ]
  },
  {
   "cell_type": "code",
   "execution_count": 494,
   "id": "9b5286b6",
   "metadata": {},
   "outputs": [],
   "source": [
    "## How many boxes have only zero as +ve boxes"
   ]
  },
  {
   "cell_type": "code",
   "execution_count": 501,
   "id": "e01cc5ab",
   "metadata": {},
   "outputs": [
    {
     "name": "stdout",
     "output_type": "stream",
     "text": [
      "(tensor([0.0000, 0.3333, 0.5000, 1.0000]), tensor([2887,  556, 2646,  160]))\n",
      "(tensor([0.0000, 0.3333, 0.5000, 1.0000]), tensor([1157,  741, 4191,  160]))\n",
      "(tensor([0.0000, 0.3333, 0.5000, 1.0000]), tensor([3148,  741, 2288,   72]))\n",
      "(tensor([0.0000, 0.3333, 0.5000, 1.0000]), tensor([5140,  185,  741,  183]))\n"
     ]
    }
   ],
   "source": [
    "for t in range(4):\n",
    "    print(torch.stack([(i==t).sum()/len(i) for i in  box2level]).unique(return_counts=True))"
   ]
  },
  {
   "cell_type": "code",
   "execution_count": 502,
   "id": "f3fc9d98",
   "metadata": {},
   "outputs": [
    {
     "data": {
      "text/plain": [
       "[tensor([0, 1]),\n",
       " tensor([0, 1]),\n",
       " tensor([0, 1]),\n",
       " tensor([0, 1]),\n",
       " tensor([0]),\n",
       " tensor([0, 1]),\n",
       " tensor([0, 1]),\n",
       " tensor([0, 1, 2]),\n",
       " tensor([1, 2]),\n",
       " tensor([1, 2]),\n",
       " tensor([1, 2]),\n",
       " tensor([1]),\n",
       " tensor([3]),\n",
       " tensor([1, 2]),\n",
       " tensor([1, 2]),\n",
       " tensor([2, 3]),\n",
       " tensor([3]),\n",
       " tensor([1, 2]),\n",
       " tensor([2, 3]),\n",
       " tensor([2, 3]),\n",
       " tensor([0, 1]),\n",
       " tensor([2, 3]),\n",
       " tensor([0, 1]),\n",
       " tensor([2, 3]),\n",
       " tensor([0, 1]),\n",
       " tensor([2, 3]),\n",
       " tensor([0, 1]),\n",
       " tensor([0, 1]),\n",
       " tensor([0, 1, 2]),\n",
       " tensor([0, 1]),\n",
       " tensor([0, 1, 2]),\n",
       " tensor([0]),\n",
       " tensor([0, 1, 2]),\n",
       " tensor([0, 1]),\n",
       " tensor([0, 1]),\n",
       " tensor([1, 2]),\n",
       " tensor([1, 2]),\n",
       " tensor([1, 2]),\n",
       " tensor([1, 2]),\n",
       " tensor([2, 3]),\n",
       " tensor([0, 1, 2]),\n",
       " tensor([1]),\n",
       " tensor([3]),\n",
       " tensor([0, 1]),\n",
       " tensor([0, 1]),\n",
       " tensor([0, 1]),\n",
       " tensor([0, 1]),\n",
       " tensor([0, 1]),\n",
       " tensor([0, 1]),\n",
       " tensor([0, 1, 2]),\n",
       " tensor([0, 1]),\n",
       " tensor([0, 1]),\n",
       " tensor([0, 1]),\n",
       " tensor([0, 1]),\n",
       " tensor([2, 3]),\n",
       " tensor([1, 2, 3]),\n",
       " tensor([2, 3]),\n",
       " tensor([1, 2]),\n",
       " tensor([2, 3]),\n",
       " tensor([1, 2, 3]),\n",
       " tensor([2, 3]),\n",
       " tensor([0, 1]),\n",
       " tensor([1, 2]),\n",
       " tensor([2, 3]),\n",
       " tensor([0, 1, 2]),\n",
       " tensor([0, 1, 2]),\n",
       " tensor([1, 2]),\n",
       " tensor([1, 2]),\n",
       " tensor([0, 1]),\n",
       " tensor([1, 2]),\n",
       " tensor([0, 1, 2]),\n",
       " tensor([0, 1, 2]),\n",
       " tensor([1, 2]),\n",
       " tensor([0, 1]),\n",
       " tensor([1, 2]),\n",
       " tensor([1, 2, 3]),\n",
       " tensor([0, 1]),\n",
       " tensor([1, 2]),\n",
       " tensor([1]),\n",
       " tensor([1, 2]),\n",
       " tensor([0, 1, 2]),\n",
       " tensor([0, 1]),\n",
       " tensor([0, 1, 2]),\n",
       " tensor([0, 1, 2]),\n",
       " tensor([0, 1]),\n",
       " tensor([2, 3]),\n",
       " tensor([1, 2]),\n",
       " tensor([2, 3]),\n",
       " tensor([1, 2, 3]),\n",
       " tensor([1, 2]),\n",
       " tensor([3]),\n",
       " tensor([0, 1]),\n",
       " tensor([1, 2]),\n",
       " tensor([3]),\n",
       " tensor([1, 2]),\n",
       " tensor([3]),\n",
       " tensor([2, 3]),\n",
       " tensor([1, 2]),\n",
       " tensor([2, 3]),\n",
       " tensor([0, 1, 2]),\n",
       " tensor([2, 3]),\n",
       " tensor([0, 1]),\n",
       " tensor([2, 3]),\n",
       " tensor([2, 3]),\n",
       " tensor([3]),\n",
       " tensor([2, 3]),\n",
       " tensor([3]),\n",
       " tensor([1]),\n",
       " tensor([1, 2]),\n",
       " tensor([1, 2]),\n",
       " tensor([2, 3]),\n",
       " tensor([3]),\n",
       " tensor([2, 3]),\n",
       " tensor([1, 2]),\n",
       " tensor([0, 1]),\n",
       " tensor([0, 1]),\n",
       " tensor([0, 1]),\n",
       " tensor([0, 1]),\n",
       " tensor([2, 3]),\n",
       " tensor([0, 1]),\n",
       " tensor([0, 1]),\n",
       " tensor([0, 1]),\n",
       " tensor([0, 1, 2]),\n",
       " tensor([0, 1]),\n",
       " tensor([0, 1, 2]),\n",
       " tensor([0, 1]),\n",
       " tensor([0, 1]),\n",
       " tensor([1, 2]),\n",
       " tensor([0, 1]),\n",
       " tensor([0, 1]),\n",
       " tensor([1, 2]),\n",
       " tensor([1, 2]),\n",
       " tensor([0, 1]),\n",
       " tensor([1, 2]),\n",
       " tensor([0, 1]),\n",
       " tensor([0]),\n",
       " tensor([0, 1]),\n",
       " tensor([0, 1]),\n",
       " tensor([0, 1]),\n",
       " tensor([0, 1, 2]),\n",
       " tensor([0, 1]),\n",
       " tensor([0, 1, 2]),\n",
       " tensor([0, 1]),\n",
       " tensor([0, 1]),\n",
       " tensor([0, 1]),\n",
       " tensor([0, 1]),\n",
       " tensor([1, 2]),\n",
       " tensor([0, 1]),\n",
       " tensor([0, 1]),\n",
       " tensor([1, 2]),\n",
       " tensor([0, 1]),\n",
       " tensor([2, 3]),\n",
       " tensor([2, 3]),\n",
       " tensor([1, 2]),\n",
       " tensor([2, 3]),\n",
       " tensor([2, 3]),\n",
       " tensor([1, 2]),\n",
       " tensor([3]),\n",
       " tensor([2, 3]),\n",
       " tensor([0, 1, 2]),\n",
       " tensor([2, 3]),\n",
       " tensor([2, 3]),\n",
       " tensor([1, 2]),\n",
       " tensor([0, 1]),\n",
       " tensor([0, 1]),\n",
       " tensor([0, 1]),\n",
       " tensor([0, 1]),\n",
       " tensor([0, 1]),\n",
       " tensor([1, 2]),\n",
       " tensor([1, 2]),\n",
       " tensor([1, 2]),\n",
       " tensor([1, 2]),\n",
       " tensor([1, 2]),\n",
       " tensor([1, 2]),\n",
       " tensor([1, 2]),\n",
       " tensor([1, 2]),\n",
       " tensor([1, 2]),\n",
       " tensor([1, 2]),\n",
       " tensor([1, 2]),\n",
       " tensor([1, 2]),\n",
       " tensor([1, 2]),\n",
       " tensor([1, 2]),\n",
       " tensor([1, 2]),\n",
       " tensor([1, 2]),\n",
       " tensor([0, 1, 2]),\n",
       " tensor([0, 1]),\n",
       " tensor([0, 1]),\n",
       " tensor([0, 1]),\n",
       " tensor([1, 2]),\n",
       " tensor([0, 1, 2]),\n",
       " tensor([1, 2]),\n",
       " tensor([1, 2]),\n",
       " tensor([1, 2]),\n",
       " tensor([0, 1]),\n",
       " tensor([0, 1]),\n",
       " tensor([0, 1]),\n",
       " tensor([1, 2]),\n",
       " tensor([0, 1]),\n",
       " tensor([0, 1]),\n",
       " tensor([0, 1]),\n",
       " tensor([0, 1]),\n",
       " tensor([0, 1]),\n",
       " tensor([0, 1]),\n",
       " tensor([0, 1]),\n",
       " tensor([0, 1, 2]),\n",
       " tensor([1, 2]),\n",
       " tensor([0, 1]),\n",
       " tensor([1, 2]),\n",
       " tensor([0, 1]),\n",
       " tensor([1, 2]),\n",
       " tensor([0, 1]),\n",
       " tensor([1, 2]),\n",
       " tensor([0, 1, 2]),\n",
       " tensor([0, 1]),\n",
       " tensor([0, 1, 2]),\n",
       " tensor([0, 1]),\n",
       " tensor([1, 2]),\n",
       " tensor([1, 2]),\n",
       " tensor([1, 2]),\n",
       " tensor([0, 1]),\n",
       " tensor([1, 2]),\n",
       " tensor([2]),\n",
       " tensor([1, 2, 3]),\n",
       " tensor([1, 2]),\n",
       " tensor([2, 3]),\n",
       " tensor([1, 2, 3]),\n",
       " tensor([1, 2]),\n",
       " tensor([2, 3]),\n",
       " tensor([1, 2]),\n",
       " tensor([0, 1]),\n",
       " tensor([2, 3]),\n",
       " tensor([1, 2]),\n",
       " tensor([2, 3]),\n",
       " tensor([1, 2]),\n",
       " tensor([0, 1]),\n",
       " tensor([1, 2]),\n",
       " tensor([0, 1]),\n",
       " tensor([0, 1]),\n",
       " tensor([0]),\n",
       " tensor([0, 1]),\n",
       " tensor([2]),\n",
       " tensor([2, 3]),\n",
       " tensor([1, 2]),\n",
       " tensor([1, 2]),\n",
       " tensor([0, 1, 2]),\n",
       " tensor([0, 1, 2]),\n",
       " tensor([1, 2]),\n",
       " tensor([0, 1, 2]),\n",
       " tensor([0, 1]),\n",
       " tensor([0, 1]),\n",
       " tensor([0, 1, 2]),\n",
       " tensor([0, 1, 2]),\n",
       " tensor([0, 1]),\n",
       " tensor([0, 1]),\n",
       " tensor([0]),\n",
       " tensor([0, 1]),\n",
       " tensor([0, 1]),\n",
       " tensor([0]),\n",
       " tensor([0, 1]),\n",
       " tensor([0, 1]),\n",
       " tensor([0, 1]),\n",
       " tensor([0, 1]),\n",
       " tensor([0, 1]),\n",
       " tensor([0, 1, 2]),\n",
       " tensor([0, 1]),\n",
       " tensor([0, 1]),\n",
       " tensor([0, 1]),\n",
       " tensor([0, 1]),\n",
       " tensor([1, 2]),\n",
       " tensor([0, 1]),\n",
       " tensor([1, 2]),\n",
       " tensor([0, 1, 2]),\n",
       " tensor([0, 1]),\n",
       " tensor([1, 2]),\n",
       " tensor([1, 2]),\n",
       " tensor([1, 2]),\n",
       " tensor([1, 2]),\n",
       " tensor([1, 2, 3]),\n",
       " tensor([1]),\n",
       " tensor([0, 1, 2]),\n",
       " tensor([0, 1]),\n",
       " tensor([1, 2]),\n",
       " tensor([2, 3]),\n",
       " tensor([2, 3]),\n",
       " tensor([0, 1]),\n",
       " tensor([0, 1]),\n",
       " tensor([2, 3]),\n",
       " tensor([0, 1]),\n",
       " tensor([2, 3]),\n",
       " tensor([1, 2, 3]),\n",
       " tensor([1, 2]),\n",
       " tensor([0, 1]),\n",
       " tensor([1, 2]),\n",
       " tensor([0, 1, 2]),\n",
       " tensor([1, 2, 3]),\n",
       " tensor([0, 1]),\n",
       " tensor([1, 2]),\n",
       " tensor([0, 1]),\n",
       " tensor([0, 1]),\n",
       " tensor([2, 3]),\n",
       " tensor([1, 2, 3]),\n",
       " tensor([0, 1]),\n",
       " tensor([1, 2]),\n",
       " tensor([0, 1, 2]),\n",
       " tensor([0, 1]),\n",
       " tensor([0, 1]),\n",
       " tensor([0, 1]),\n",
       " tensor([1, 2]),\n",
       " tensor([0, 1, 2]),\n",
       " tensor([0, 1, 2]),\n",
       " tensor([2, 3]),\n",
       " tensor([1, 2, 3]),\n",
       " tensor([1, 2]),\n",
       " tensor([1, 2, 3]),\n",
       " tensor([1, 2]),\n",
       " tensor([1, 2]),\n",
       " tensor([1, 2]),\n",
       " tensor([1, 2]),\n",
       " tensor([0, 1]),\n",
       " tensor([1, 2]),\n",
       " tensor([0, 1]),\n",
       " tensor([0, 1]),\n",
       " tensor([1, 2]),\n",
       " tensor([1, 2]),\n",
       " tensor([0, 1]),\n",
       " tensor([1, 2]),\n",
       " tensor([1, 2]),\n",
       " tensor([0, 1]),\n",
       " tensor([0, 1, 2]),\n",
       " tensor([0, 1]),\n",
       " tensor([0, 1]),\n",
       " tensor([0, 1]),\n",
       " tensor([0, 1]),\n",
       " tensor([0, 1, 2]),\n",
       " tensor([0, 1]),\n",
       " tensor([1, 2]),\n",
       " tensor([0, 1]),\n",
       " tensor([1, 2]),\n",
       " tensor([0, 1, 2]),\n",
       " tensor([1, 2]),\n",
       " tensor([0, 1, 2]),\n",
       " tensor([0, 1]),\n",
       " tensor([1, 2]),\n",
       " tensor([1, 2]),\n",
       " tensor([1, 2]),\n",
       " tensor([1, 2, 3]),\n",
       " tensor([0, 1]),\n",
       " tensor([0, 1]),\n",
       " tensor([1, 2]),\n",
       " tensor([1, 2]),\n",
       " tensor([0, 1]),\n",
       " tensor([2]),\n",
       " tensor([0, 1]),\n",
       " tensor([0, 1]),\n",
       " tensor([0, 1]),\n",
       " tensor([1, 2]),\n",
       " tensor([0, 1]),\n",
       " tensor([1, 2]),\n",
       " tensor([0, 1]),\n",
       " tensor([0, 1]),\n",
       " tensor([0]),\n",
       " tensor([0, 1]),\n",
       " tensor([0, 1]),\n",
       " tensor([0, 1]),\n",
       " tensor([0, 1]),\n",
       " tensor([2]),\n",
       " tensor([1, 2, 3]),\n",
       " tensor([1, 2]),\n",
       " tensor([2, 3]),\n",
       " tensor([0, 1]),\n",
       " tensor([1, 2]),\n",
       " tensor([0]),\n",
       " tensor([0]),\n",
       " tensor([1, 2]),\n",
       " tensor([0, 1]),\n",
       " tensor([3]),\n",
       " tensor([1, 2]),\n",
       " tensor([0, 1]),\n",
       " tensor([1, 2, 3]),\n",
       " tensor([1, 2]),\n",
       " tensor([1, 2]),\n",
       " tensor([1, 2]),\n",
       " tensor([0, 1]),\n",
       " tensor([1, 2]),\n",
       " tensor([2, 3]),\n",
       " tensor([1, 2]),\n",
       " tensor([2, 3]),\n",
       " tensor([1, 2]),\n",
       " tensor([2, 3]),\n",
       " tensor([1, 2]),\n",
       " tensor([2, 3]),\n",
       " tensor([0, 1]),\n",
       " tensor([0, 1]),\n",
       " tensor([0, 1]),\n",
       " tensor([0, 1]),\n",
       " tensor([2, 3]),\n",
       " tensor([0, 1]),\n",
       " tensor([1, 2]),\n",
       " tensor([0, 1]),\n",
       " tensor([1, 2, 3]),\n",
       " tensor([0, 1]),\n",
       " tensor([0, 1]),\n",
       " tensor([1, 2]),\n",
       " tensor([1, 2]),\n",
       " tensor([1, 2, 3]),\n",
       " tensor([1, 2]),\n",
       " tensor([0, 1]),\n",
       " tensor([0, 1]),\n",
       " tensor([0, 1]),\n",
       " tensor([0, 1]),\n",
       " tensor([0, 1]),\n",
       " tensor([0, 1]),\n",
       " tensor([0, 1]),\n",
       " tensor([0, 1]),\n",
       " tensor([1, 2, 3]),\n",
       " tensor([1, 2]),\n",
       " tensor([1, 2, 3]),\n",
       " tensor([1, 2]),\n",
       " tensor([1, 2]),\n",
       " tensor([1, 2]),\n",
       " tensor([1, 2]),\n",
       " tensor([1, 2]),\n",
       " tensor([2, 3]),\n",
       " tensor([0, 1]),\n",
       " tensor([0, 1]),\n",
       " tensor([2, 3]),\n",
       " tensor([0, 1]),\n",
       " tensor([2, 3]),\n",
       " tensor([0, 1]),\n",
       " tensor([0, 1]),\n",
       " tensor([0, 1]),\n",
       " tensor([0, 1, 2]),\n",
       " tensor([0, 1]),\n",
       " tensor([0, 1]),\n",
       " tensor([0, 1]),\n",
       " tensor([0, 1]),\n",
       " tensor([1, 2]),\n",
       " tensor([0, 1]),\n",
       " tensor([0, 1]),\n",
       " tensor([1, 2]),\n",
       " tensor([2, 3]),\n",
       " tensor([1, 2]),\n",
       " tensor([1, 2, 3]),\n",
       " tensor([1, 2, 3]),\n",
       " tensor([2, 3]),\n",
       " tensor([2, 3]),\n",
       " tensor([2, 3]),\n",
       " tensor([2, 3]),\n",
       " tensor([2, 3]),\n",
       " tensor([2, 3]),\n",
       " tensor([2, 3]),\n",
       " tensor([0, 1]),\n",
       " tensor([2, 3]),\n",
       " tensor([0, 1]),\n",
       " tensor([0, 1]),\n",
       " tensor([0, 1]),\n",
       " tensor([0, 1, 2]),\n",
       " tensor([0, 1]),\n",
       " tensor([0, 1]),\n",
       " tensor([0, 1]),\n",
       " tensor([0, 1]),\n",
       " tensor([1, 2]),\n",
       " tensor([1, 2]),\n",
       " tensor([1, 2]),\n",
       " tensor([1, 2]),\n",
       " tensor([0, 1]),\n",
       " tensor([0, 1]),\n",
       " tensor([0, 1]),\n",
       " tensor([0, 1, 2]),\n",
       " tensor([2, 3]),\n",
       " tensor([0, 1, 2]),\n",
       " tensor([2, 3]),\n",
       " tensor([0, 1]),\n",
       " tensor([2, 3]),\n",
       " tensor([2, 3]),\n",
       " tensor([0, 1, 2]),\n",
       " tensor([1, 2]),\n",
       " tensor([0, 1]),\n",
       " tensor([2, 3]),\n",
       " tensor([0, 1, 2]),\n",
       " tensor([0, 1, 2]),\n",
       " tensor([0, 1, 2]),\n",
       " tensor([0, 1, 2]),\n",
       " tensor([1, 2]),\n",
       " tensor([1, 2]),\n",
       " tensor([1, 2]),\n",
       " tensor([1, 2]),\n",
       " tensor([0, 1]),\n",
       " tensor([1, 2, 3]),\n",
       " tensor([1, 2]),\n",
       " tensor([0, 1]),\n",
       " tensor([1, 2, 3]),\n",
       " tensor([1, 2]),\n",
       " tensor([0, 1]),\n",
       " tensor([0, 1]),\n",
       " tensor([0, 1]),\n",
       " tensor([0, 1]),\n",
       " tensor([0, 1]),\n",
       " tensor([0, 1]),\n",
       " tensor([0, 1]),\n",
       " tensor([1]),\n",
       " tensor([0, 1]),\n",
       " tensor([0, 1]),\n",
       " tensor([1]),\n",
       " tensor([0, 1]),\n",
       " tensor([0, 1]),\n",
       " tensor([2, 3]),\n",
       " tensor([1, 2, 3]),\n",
       " tensor([2, 3]),\n",
       " tensor([2, 3]),\n",
       " tensor([2, 3]),\n",
       " tensor([1, 2]),\n",
       " tensor([2, 3]),\n",
       " tensor([0, 1]),\n",
       " tensor([2, 3]),\n",
       " tensor([1, 2]),\n",
       " tensor([2, 3]),\n",
       " tensor([0, 1, 2]),\n",
       " tensor([2]),\n",
       " tensor([2, 3]),\n",
       " tensor([1, 2]),\n",
       " tensor([2, 3]),\n",
       " tensor([2, 3]),\n",
       " tensor([2, 3]),\n",
       " tensor([1, 2]),\n",
       " tensor([2, 3]),\n",
       " tensor([1, 2]),\n",
       " tensor([2, 3]),\n",
       " tensor([2, 3]),\n",
       " tensor([0, 1, 2]),\n",
       " tensor([0, 1]),\n",
       " tensor([0, 1]),\n",
       " tensor([0, 1]),\n",
       " tensor([0, 1, 2]),\n",
       " tensor([0, 1, 2]),\n",
       " tensor([0, 1]),\n",
       " tensor([0, 1]),\n",
       " tensor([2, 3]),\n",
       " tensor([0, 1]),\n",
       " tensor([2, 3]),\n",
       " tensor([0, 1]),\n",
       " tensor([2, 3]),\n",
       " tensor([0, 1]),\n",
       " tensor([2]),\n",
       " tensor([0, 1]),\n",
       " tensor([0, 1, 2]),\n",
       " tensor([1, 2]),\n",
       " tensor([0, 1]),\n",
       " tensor([0, 1]),\n",
       " tensor([0, 1]),\n",
       " tensor([1, 2]),\n",
       " tensor([0, 1]),\n",
       " tensor([1, 2]),\n",
       " tensor([0, 1]),\n",
       " tensor([0, 1]),\n",
       " tensor([0, 1]),\n",
       " tensor([0, 1]),\n",
       " tensor([0, 1]),\n",
       " tensor([1, 2]),\n",
       " tensor([0, 1]),\n",
       " tensor([0, 1]),\n",
       " tensor([1, 2]),\n",
       " tensor([2, 3]),\n",
       " tensor([0, 1]),\n",
       " tensor([2, 3]),\n",
       " tensor([0, 1]),\n",
       " tensor([1]),\n",
       " tensor([1, 2]),\n",
       " tensor([0, 1]),\n",
       " tensor([0, 1]),\n",
       " tensor([0]),\n",
       " tensor([0, 1, 2]),\n",
       " tensor([0, 1]),\n",
       " tensor([1, 2]),\n",
       " tensor([1]),\n",
       " tensor([0, 1]),\n",
       " tensor([0, 1]),\n",
       " tensor([0, 1]),\n",
       " tensor([1, 2]),\n",
       " tensor([0, 1]),\n",
       " tensor([2, 3]),\n",
       " tensor([0, 1]),\n",
       " tensor([0, 1]),\n",
       " tensor([1, 2]),\n",
       " tensor([0, 1]),\n",
       " tensor([0, 1]),\n",
       " tensor([0, 1]),\n",
       " tensor([1, 2]),\n",
       " tensor([0, 1]),\n",
       " tensor([0, 1]),\n",
       " tensor([2, 3]),\n",
       " tensor([0, 1]),\n",
       " tensor([2, 3]),\n",
       " tensor([0, 1]),\n",
       " tensor([2, 3]),\n",
       " tensor([0, 1, 2]),\n",
       " tensor([2, 3]),\n",
       " tensor([0, 1]),\n",
       " tensor([2, 3]),\n",
       " tensor([2, 3]),\n",
       " tensor([3]),\n",
       " tensor([3]),\n",
       " tensor([1, 2]),\n",
       " tensor([1, 2]),\n",
       " tensor([2, 3]),\n",
       " tensor([1, 2]),\n",
       " tensor([0, 1]),\n",
       " tensor([0, 1]),\n",
       " tensor([1, 2]),\n",
       " tensor([2, 3]),\n",
       " tensor([1, 2]),\n",
       " tensor([1, 2]),\n",
       " tensor([1, 2]),\n",
       " tensor([1, 2]),\n",
       " tensor([1, 2, 3]),\n",
       " tensor([1, 2]),\n",
       " tensor([0, 1]),\n",
       " tensor([1, 2]),\n",
       " tensor([2, 3]),\n",
       " tensor([1, 2]),\n",
       " tensor([1, 2]),\n",
       " tensor([1, 2]),\n",
       " tensor([1, 2]),\n",
       " tensor([0, 1]),\n",
       " tensor([0, 1]),\n",
       " tensor([0, 1]),\n",
       " tensor([0, 1]),\n",
       " tensor([0, 1]),\n",
       " tensor([0, 1]),\n",
       " tensor([0, 1]),\n",
       " tensor([0, 1]),\n",
       " tensor([0, 1]),\n",
       " tensor([0, 1]),\n",
       " tensor([0, 1]),\n",
       " tensor([0, 1]),\n",
       " tensor([0, 1]),\n",
       " tensor([0, 1]),\n",
       " tensor([0, 1]),\n",
       " tensor([0, 1]),\n",
       " tensor([0, 1]),\n",
       " tensor([0, 1]),\n",
       " tensor([0, 1]),\n",
       " tensor([0, 1, 2]),\n",
       " tensor([1, 2]),\n",
       " tensor([0, 1]),\n",
       " tensor([1, 2]),\n",
       " tensor([0, 1]),\n",
       " tensor([0, 1]),\n",
       " tensor([0, 1, 2]),\n",
       " tensor([0, 1]),\n",
       " tensor([1, 2]),\n",
       " tensor([1, 2]),\n",
       " tensor([0, 1]),\n",
       " tensor([1, 2]),\n",
       " tensor([0, 1]),\n",
       " tensor([1]),\n",
       " tensor([1]),\n",
       " tensor([1, 2]),\n",
       " tensor([1, 2]),\n",
       " tensor([1, 2]),\n",
       " tensor([2, 3]),\n",
       " tensor([2, 3]),\n",
       " tensor([2, 3]),\n",
       " tensor([2, 3]),\n",
       " tensor([0, 1]),\n",
       " tensor([0, 1]),\n",
       " tensor([1, 2]),\n",
       " tensor([0, 1]),\n",
       " tensor([2, 3]),\n",
       " tensor([2, 3]),\n",
       " tensor([2, 3]),\n",
       " tensor([2, 3]),\n",
       " tensor([2, 3]),\n",
       " tensor([0, 1]),\n",
       " tensor([3]),\n",
       " tensor([0, 1]),\n",
       " tensor([3]),\n",
       " tensor([0, 1]),\n",
       " tensor([3]),\n",
       " tensor([0, 1]),\n",
       " tensor([0, 1]),\n",
       " tensor([2, 3]),\n",
       " tensor([0, 1]),\n",
       " tensor([2, 3]),\n",
       " tensor([0, 1, 2]),\n",
       " tensor([2, 3]),\n",
       " tensor([2, 3]),\n",
       " tensor([2, 3]),\n",
       " tensor([2, 3]),\n",
       " tensor([2, 3]),\n",
       " tensor([0]),\n",
       " tensor([1, 2, 3]),\n",
       " tensor([0, 1, 2]),\n",
       " tensor([0, 1]),\n",
       " tensor([2, 3]),\n",
       " tensor([1, 2]),\n",
       " tensor([0, 1]),\n",
       " tensor([0, 1]),\n",
       " tensor([0, 1]),\n",
       " tensor([0, 1]),\n",
       " tensor([1, 2]),\n",
       " tensor([0, 1]),\n",
       " tensor([1, 2, 3]),\n",
       " tensor([0, 1, 2]),\n",
       " tensor([0, 1]),\n",
       " tensor([2, 3]),\n",
       " tensor([0, 1]),\n",
       " tensor([1, 2]),\n",
       " tensor([0, 1]),\n",
       " tensor([0, 1]),\n",
       " tensor([2, 3]),\n",
       " tensor([1, 2]),\n",
       " tensor([2, 3]),\n",
       " tensor([1, 2]),\n",
       " tensor([2, 3]),\n",
       " tensor([1, 2]),\n",
       " tensor([2, 3]),\n",
       " tensor([1, 2]),\n",
       " tensor([2, 3]),\n",
       " tensor([1, 2]),\n",
       " tensor([1, 2]),\n",
       " tensor([1, 2]),\n",
       " tensor([0, 1]),\n",
       " tensor([2, 3]),\n",
       " tensor([0, 1]),\n",
       " tensor([0, 1]),\n",
       " tensor([2, 3]),\n",
       " tensor([1]),\n",
       " tensor([0, 1]),\n",
       " tensor([2, 3]),\n",
       " tensor([0, 1]),\n",
       " tensor([0, 1]),\n",
       " tensor([2, 3]),\n",
       " tensor([0, 1]),\n",
       " tensor([0, 1]),\n",
       " tensor([1, 2]),\n",
       " tensor([1, 2]),\n",
       " tensor([1, 2]),\n",
       " tensor([1, 2]),\n",
       " tensor([1, 2]),\n",
       " tensor([1, 2]),\n",
       " tensor([1, 2]),\n",
       " tensor([0, 1, 2]),\n",
       " tensor([0, 1]),\n",
       " tensor([1, 2]),\n",
       " tensor([1, 2]),\n",
       " tensor([0, 1, 2]),\n",
       " tensor([1, 2]),\n",
       " tensor([1, 2]),\n",
       " tensor([0, 1]),\n",
       " tensor([0, 1]),\n",
       " tensor([1, 2, 3]),\n",
       " tensor([1, 2]),\n",
       " tensor([1, 2]),\n",
       " tensor([0, 1, 2]),\n",
       " tensor([1]),\n",
       " tensor([0, 1]),\n",
       " tensor([0, 1]),\n",
       " tensor([0]),\n",
       " tensor([1]),\n",
       " tensor([0, 1]),\n",
       " tensor([2, 3]),\n",
       " tensor([2, 3]),\n",
       " tensor([2]),\n",
       " tensor([2, 3]),\n",
       " tensor([2, 3]),\n",
       " tensor([2, 3]),\n",
       " tensor([1, 2]),\n",
       " tensor([1, 2]),\n",
       " tensor([0]),\n",
       " tensor([0, 1]),\n",
       " tensor([0, 1]),\n",
       " tensor([0, 1]),\n",
       " tensor([0, 1]),\n",
       " tensor([0, 1, 2]),\n",
       " tensor([1, 2]),\n",
       " tensor([1, 2, 3]),\n",
       " tensor([0, 1, 2]),\n",
       " tensor([0, 1]),\n",
       " tensor([0, 1]),\n",
       " tensor([0, 1]),\n",
       " tensor([2, 3]),\n",
       " tensor([1, 2, 3]),\n",
       " tensor([0, 1]),\n",
       " tensor([1, 2, 3]),\n",
       " tensor([0, 1]),\n",
       " tensor([0, 1]),\n",
       " tensor([2, 3]),\n",
       " tensor([2, 3]),\n",
       " tensor([2, 3]),\n",
       " tensor([2, 3]),\n",
       " tensor([2, 3]),\n",
       " tensor([0, 1]),\n",
       " tensor([0, 1]),\n",
       " tensor([0, 1]),\n",
       " tensor([0, 1]),\n",
       " tensor([0, 1]),\n",
       " tensor([0, 1]),\n",
       " tensor([2, 3]),\n",
       " tensor([2, 3]),\n",
       " tensor([0, 1]),\n",
       " tensor([1, 2]),\n",
       " tensor([1, 2]),\n",
       " tensor([0, 1]),\n",
       " tensor([0, 1]),\n",
       " tensor([1, 2]),\n",
       " tensor([1, 2, 3]),\n",
       " tensor([2, 3]),\n",
       " tensor([1, 2, 3]),\n",
       " tensor([2, 3]),\n",
       " tensor([1, 2]),\n",
       " tensor([1, 2, 3]),\n",
       " tensor([0, 1]),\n",
       " tensor([1, 2]),\n",
       " tensor([0, 1, 2]),\n",
       " tensor([1, 2]),\n",
       " tensor([1, 2]),\n",
       " tensor([0, 1, 2]),\n",
       " tensor([1, 2]),\n",
       " tensor([1, 2]),\n",
       " tensor([1, 2]),\n",
       " tensor([0, 1]),\n",
       " tensor([1, 2]),\n",
       " tensor([1, 2]),\n",
       " tensor([1, 2]),\n",
       " tensor([0, 1]),\n",
       " tensor([0, 1]),\n",
       " tensor([0, 1]),\n",
       " tensor([0, 1]),\n",
       " tensor([1]),\n",
       " tensor([1, 2]),\n",
       " tensor([1, 2]),\n",
       " tensor([1, 2]),\n",
       " tensor([3]),\n",
       " tensor([2, 3]),\n",
       " tensor([2, 3]),\n",
       " tensor([2, 3]),\n",
       " tensor([0]),\n",
       " tensor([2, 3]),\n",
       " tensor([0, 1]),\n",
       " tensor([0, 1]),\n",
       " tensor([2, 3]),\n",
       " tensor([0, 1]),\n",
       " tensor([0, 1]),\n",
       " tensor([2, 3]),\n",
       " tensor([0, 1]),\n",
       " tensor([2, 3]),\n",
       " tensor([0, 1]),\n",
       " tensor([0, 1]),\n",
       " tensor([0, 1]),\n",
       " tensor([0, 1]),\n",
       " tensor([0, 1]),\n",
       " tensor([0, 1]),\n",
       " tensor([0, 1]),\n",
       " tensor([0, 1]),\n",
       " tensor([0, 1, 2]),\n",
       " tensor([0, 1, 2]),\n",
       " tensor([0, 1]),\n",
       " tensor([2, 3]),\n",
       " tensor([2, 3]),\n",
       " tensor([0, 1]),\n",
       " tensor([0, 1]),\n",
       " tensor([0, 1]),\n",
       " tensor([0, 1]),\n",
       " tensor([1, 2]),\n",
       " tensor([1]),\n",
       " tensor([1, 2]),\n",
       " tensor([1, 2]),\n",
       " tensor([0, 1, 2]),\n",
       " tensor([0, 1]),\n",
       " tensor([0, 1]),\n",
       " tensor([0, 1]),\n",
       " tensor([0, 1]),\n",
       " tensor([0, 1]),\n",
       " tensor([0, 1]),\n",
       " tensor([0, 1]),\n",
       " tensor([0]),\n",
       " tensor([0, 1]),\n",
       " tensor([1]),\n",
       " tensor([0, 1, 2]),\n",
       " tensor([0, 1]),\n",
       " tensor([1, 2]),\n",
       " tensor([0, 1]),\n",
       " tensor([0, 1]),\n",
       " tensor([0, 1]),\n",
       " tensor([0, 1]),\n",
       " tensor([0, 1]),\n",
       " tensor([0, 1]),\n",
       " tensor([0, 1]),\n",
       " tensor([0, 1]),\n",
       " tensor([0]),\n",
       " tensor([0, 1]),\n",
       " tensor([0, 1]),\n",
       " tensor([0, 1]),\n",
       " tensor([0, 1]),\n",
       " tensor([0, 1]),\n",
       " tensor([0, 1]),\n",
       " tensor([0, 1]),\n",
       " tensor([0, 1]),\n",
       " tensor([1, 2]),\n",
       " tensor([0, 1]),\n",
       " tensor([0, 1]),\n",
       " tensor([1]),\n",
       " tensor([0, 1]),\n",
       " tensor([0, 1]),\n",
       " tensor([1, 2]),\n",
       " tensor([0, 1]),\n",
       " tensor([0, 1]),\n",
       " tensor([1, 2]),\n",
       " tensor([0, 1, 2]),\n",
       " tensor([0]),\n",
       " tensor([1, 2]),\n",
       " tensor([0, 1, 2]),\n",
       " tensor([0, 1]),\n",
       " tensor([1, 2]),\n",
       " tensor([1, 2]),\n",
       " tensor([0, 1]),\n",
       " tensor([0, 1, 2]),\n",
       " tensor([0, 1]),\n",
       " tensor([0, 1]),\n",
       " tensor([0, 1]),\n",
       " tensor([0, 1]),\n",
       " tensor([0, 1, 2]),\n",
       " tensor([0, 1, 2]),\n",
       " tensor([0, 1]),\n",
       " tensor([0, 1]),\n",
       " tensor([0, 1]),\n",
       " tensor([0, 1, 2]),\n",
       " tensor([0, 1, 2]),\n",
       " tensor([0, 1, 2]),\n",
       " tensor([2, 3]),\n",
       " tensor([1, 2]),\n",
       " tensor([2, 3]),\n",
       " tensor([1, 2]),\n",
       " tensor([2, 3]),\n",
       " tensor([1, 2]),\n",
       " tensor([1, 2]),\n",
       " tensor([1, 2]),\n",
       " tensor([3]),\n",
       " tensor([1, 2]),\n",
       " tensor([2, 3]),\n",
       " tensor([1, 2]),\n",
       " tensor([2, 3]),\n",
       " tensor([1, 2]),\n",
       " tensor([0, 1]),\n",
       " tensor([0]),\n",
       " tensor([1, 2]),\n",
       " tensor([1, 2]),\n",
       " tensor([0, 1]),\n",
       " tensor([0, 1]),\n",
       " tensor([0, 1]),\n",
       " tensor([1, 2]),\n",
       " tensor([2, 3]),\n",
       " tensor([0, 1]),\n",
       " tensor([1]),\n",
       " tensor([3]),\n",
       " tensor([1, 2]),\n",
       " tensor([0, 1, 2]),\n",
       " tensor([0, 1]),\n",
       " tensor([1, 2]),\n",
       " tensor([3]),\n",
       " tensor([1, 2]),\n",
       " tensor([0, 1]),\n",
       " tensor([1, 2]),\n",
       " tensor([1, 2, 3]),\n",
       " tensor([1, 2]),\n",
       " tensor([1, 2, 3]),\n",
       " tensor([0, 1, 2]),\n",
       " tensor([2, 3]),\n",
       " tensor([0, 1]),\n",
       " tensor([0, 1]),\n",
       " tensor([2, 3]),\n",
       " tensor([0, 1]),\n",
       " tensor([0, 1]),\n",
       " tensor([1, 2]),\n",
       " tensor([0, 1]),\n",
       " tensor([0, 1, 2]),\n",
       " tensor([2]),\n",
       " tensor([0, 1, 2]),\n",
       " tensor([0]),\n",
       " tensor([0, 1]),\n",
       " tensor([0, 1]),\n",
       " tensor([0, 1]),\n",
       " tensor([1, 2]),\n",
       " tensor([1, 2]),\n",
       " tensor([1, 2]),\n",
       " tensor([1, 2]),\n",
       " tensor([1, 2]),\n",
       " tensor([1, 2]),\n",
       " tensor([1, 2]),\n",
       " tensor([1, 2]),\n",
       " tensor([0, 1]),\n",
       " tensor([0, 1, 2]),\n",
       " tensor([0, 1]),\n",
       " tensor([0, 1, 2]),\n",
       " tensor([1, 2, 3]),\n",
       " tensor([0, 1]),\n",
       " tensor([0, 1, 2]),\n",
       " tensor([0, 1]),\n",
       " tensor([0, 1]),\n",
       " ...]"
      ]
     },
     "execution_count": 502,
     "metadata": {},
     "output_type": "execute_result"
    }
   ],
   "source": [
    "box2level"
   ]
  },
  {
   "cell_type": "markdown",
   "id": "6335cb08",
   "metadata": {},
   "source": [
    "## Open questions \n",
    "- Should we increase the image size?\n",
    "- Should we add an extra layer of FPN?\n",
    "- How to improve the positive box iou?\n",
    "    \n",
    " \n",
    "## Image size = 96, 192, 192\n",
    "- 96, 192, 192 = <20% iou is 42% data.\n",
    "- even though we have setup num candidates as 12. on average this is only 1.71.\n",
    "- 313 times small bounding boxes are also identified.\n",
    "- mean and median of the iou are 0.14 and 0.12 respectively. \n",
    "- for max iou it is 0.22 and 0.21 respectively.\n",
    "\n",
    "\n",
    "## Image size = 96, 256, 256\n",
    "- improved to 2.09\n",
    "- not much improvements in anything else. only 0 level we have 382 nodules \n",
    "\n",
    "\n",
    "## Some conclusions\n",
    "- good to have "
   ]
  }
 ],
 "metadata": {
  "kernelspec": {
   "display_name": "Python (qct_deep)",
   "language": "python",
   "name": "qct_deep"
  },
  "language_info": {
   "codemirror_mode": {
    "name": "ipython",
    "version": 3
   },
   "file_extension": ".py",
   "mimetype": "text/x-python",
   "name": "python",
   "nbconvert_exporter": "python",
   "pygments_lexer": "ipython3",
   "version": "3.9.18"
  }
 },
 "nbformat": 4,
 "nbformat_minor": 5
}
