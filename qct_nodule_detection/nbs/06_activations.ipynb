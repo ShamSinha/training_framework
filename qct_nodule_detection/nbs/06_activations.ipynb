{
 "cells": [
  {
   "cell_type": "code",
   "execution_count": null,
   "id": "a15e9391",
   "metadata": {},
   "outputs": [],
   "source": [
    "#| default_exp activations"
   ]
  },
  {
   "cell_type": "code",
   "execution_count": null,
   "id": "d93cba4d",
   "metadata": {},
   "outputs": [],
   "source": [
    "#| export \n",
    "import torch.nn as nn\n",
    "import torch.nn.functional as F \n",
    "import fastcore.all as fc"
   ]
  },
  {
   "cell_type": "code",
   "execution_count": null,
   "id": "61cc9e65",
   "metadata": {},
   "outputs": [],
   "source": [
    "import torch\n",
    "import matplotlib.pyplot as plt\n",
    "plt.style.use(\"bmh\")"
   ]
  },
  {
   "cell_type": "code",
   "execution_count": null,
   "id": "0c9b8f71",
   "metadata": {},
   "outputs": [],
   "source": [
    "#| export\n",
    "class GeneralRelu(nn.Module):\n",
    "    def __init__(self, leak=None, sub=None, maxv=None):\n",
    "        super().__init__()\n",
    "        fc.store_attr()\n",
    "\n",
    "    def forward(self, x): \n",
    "        x = F.leaky_relu(x,self.leak) if self.leak is not None else F.relu(x)\n",
    "        if self.sub is not None: x -= self.sub\n",
    "        if self.maxv is not None: x.clamp_max_(self.maxv)\n",
    "        return x\n",
    "    \n",
    "    def __repr__(self): return f\"GeneralRelu: leak:{self.leak}-sub:{self.sub}-maxv:{self.maxv}\""
   ]
  },
  {
   "cell_type": "code",
   "execution_count": null,
   "id": "7c5bcfd0",
   "metadata": {},
   "outputs": [],
   "source": [
    "GeneralRelu(leak=0.1, sub=0.4)"
   ]
  },
  {
   "cell_type": "code",
   "execution_count": null,
   "id": "29862515",
   "metadata": {},
   "outputs": [],
   "source": [
    "def plot_func(f, start=-5., end=5., steps=100):\n",
    "    plt.figure(figsize=(5, 2.5))\n",
    "    x = torch.linspace(start, end, steps)\n",
    "    plt.plot(x, f(x))\n",
    "    \n",
    "    #plt.grid(True, which='both', ls='--')\n",
    "    plt.axhline(y=0, color='k', linewidth=0.7)\n",
    "    plt.axvline(x=0, color='k', linewidth=0.7)"
   ]
  },
  {
   "cell_type": "code",
   "execution_count": null,
   "id": "74f34303",
   "metadata": {},
   "outputs": [],
   "source": [
    "plot_func(GeneralRelu(leak=0.1, sub=0.4))"
   ]
  },
  {
   "cell_type": "code",
   "execution_count": null,
   "id": "a718df12",
   "metadata": {},
   "outputs": [],
   "source": [
    "#| hide\n",
    "import nbdev; nbdev.nbdev_export()"
   ]
  }
 ],
 "metadata": {
  "kernelspec": {
   "display_name": "Python (qct_deep)",
   "language": "python",
   "name": "qct_deep"
  }
 },
 "nbformat": 4,
 "nbformat_minor": 5
}
