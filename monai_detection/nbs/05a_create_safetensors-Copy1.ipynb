{
 "cells": [
  {
   "cell_type": "markdown",
   "id": "9be3cb60",
   "metadata": {},
   "source": [
    "In this notebook we will see how to create safetensors \n",
    "\n",
    "We have to keep the following things in mind \n",
    "- [ ] one csv and one pt files\n",
    "- [ ] can have multiple csv files and multiple pt files\n",
    "- [ ] preprocessing before saving as safe tensor\n",
    "- [ ] we will save only bboxes once. - there is an idea to store multiple different bounding boxes for the same image but we have to handle this at all transforms. keeping this as TODO for now "
   ]
  },
  {
   "cell_type": "code",
   "execution_count": 70,
   "id": "6e03ad48",
   "metadata": {},
   "outputs": [],
   "source": [
    "%load_ext autoreload\n",
    "%autoreload 2"
   ]
  },
  {
   "cell_type": "code",
   "execution_count": 2,
   "id": "3945285f",
   "metadata": {},
   "outputs": [],
   "source": [
    "#| default_exp create_ds"
   ]
  },
  {
   "cell_type": "code",
   "execution_count": 1,
   "id": "02c2511d",
   "metadata": {},
   "outputs": [],
   "source": [
    "#| export \n",
    "import torch\n",
    "import pandas as pd\n",
    "import numpy as np \n",
    "import fastcore.all as fc \n",
    "\n",
    "from loguru import logger\n",
    "from typing import Optional\n",
    "from safetensors.numpy import save_file\n",
    "from qct_utils.ctscan.ct_loader import CTAnnotLoader\n",
    "from qct_utils.apps.nodule_diameter import get_major_minor_coordinates_3d_nodule"
   ]
  },
  {
   "cell_type": "code",
   "execution_count": 2,
   "id": "bfbeeb1a",
   "metadata": {},
   "outputs": [],
   "source": [
    "from qct_utils.schema.ct import ChestCTMaster"
   ]
  },
  {
   "cell_type": "code",
   "execution_count": 3,
   "id": "575f54c2",
   "metadata": {},
   "outputs": [],
   "source": [
    "from qct_utils.ctvis.viewer import plot_scans\n",
    "from qct_utils.ctvis.vis_cct import plot_boxes_ctscan\n",
    "from qct_utils.ctvis.draw import draw_bboxes_and_titles\n",
    "from qct_data.series_meta import get_qct_collection"
   ]
  },
  {
   "cell_type": "code",
   "execution_count": 4,
   "id": "e7f5f59c",
   "metadata": {},
   "outputs": [],
   "source": [
    "df_det = pd.read_csv(\"/home/users/shubham.kumar/projects/qct_data/qct_data_status/det.csv\")"
   ]
  },
  {
   "cell_type": "code",
   "execution_count": 5,
   "id": "898883ac",
   "metadata": {},
   "outputs": [],
   "source": [
    "datasets = df_det.dataset.unique().tolist()"
   ]
  },
  {
   "cell_type": "code",
   "execution_count": 71,
   "id": "bbb5a57b",
   "metadata": {},
   "outputs": [],
   "source": [
    "dataset = 'recist_segmed'"
   ]
  },
  {
   "cell_type": "code",
   "execution_count": 7,
   "id": "a1212557",
   "metadata": {},
   "outputs": [
    {
     "data": {
      "text/plain": [
       "'wcg'"
      ]
     },
     "execution_count": 7,
     "metadata": {},
     "output_type": "execute_result"
    }
   ],
   "source": [
    "dataset"
   ]
  },
  {
   "cell_type": "code",
   "execution_count": 8,
   "id": "a612ba08",
   "metadata": {},
   "outputs": [
    {
     "data": {
      "text/plain": [
       "['dedomena',\n",
       " 'dsb',\n",
       " 'internal',\n",
       " 'lidc',\n",
       " 'medframe',\n",
       " 'mgh',\n",
       " 'nlst',\n",
       " 'qxr_fda',\n",
       " 'segmed_pm',\n",
       " 'wcg']"
      ]
     },
     "execution_count": 8,
     "metadata": {},
     "output_type": "execute_result"
    }
   ],
   "source": [
    "datasets"
   ]
  },
  {
   "cell_type": "code",
   "execution_count": 72,
   "id": "2ff18d87",
   "metadata": {},
   "outputs": [],
   "source": [
    "meta_root = get_qct_collection(\"recist_segmed\")"
   ]
  },
  {
   "cell_type": "code",
   "execution_count": 73,
   "id": "31013bff",
   "metadata": {},
   "outputs": [
    {
     "data": {
      "text/plain": [
       "1926"
      ]
     },
     "execution_count": 73,
     "metadata": {},
     "output_type": "execute_result"
    }
   ],
   "source": [
    "meta_root.count()"
   ]
  },
  {
   "cell_type": "code",
   "execution_count": null,
   "id": "7f64b968",
   "metadata": {},
   "outputs": [],
   "source": []
  },
  {
   "cell_type": "code",
   "execution_count": null,
   "id": "ec3d8fd5",
   "metadata": {},
   "outputs": [],
   "source": []
  },
  {
   "cell_type": "code",
   "execution_count": 74,
   "id": "3dad25db",
   "metadata": {},
   "outputs": [],
   "source": [
    "# meta_root = f\"/cache/fast_data_nas72/qct/data_governance/series_dicts/wcg_fda_qxr.pt\"\n"
   ]
  },
  {
   "cell_type": "code",
   "execution_count": 75,
   "id": "f67a2fdd",
   "metadata": {},
   "outputs": [],
   "source": [
    "import os"
   ]
  },
  {
   "cell_type": "code",
   "execution_count": 76,
   "id": "1a71e23b",
   "metadata": {},
   "outputs": [],
   "source": [
    "# # meta_root = \"/cache/fast_data_nas72/qct/data_governance/series_dicts/dsb.pt\"\n",
    "# csv_loc = f\"/home/users/shubham.kumar/projects/qct_data/qct_data_status/det/data/{dataset}_merged.csv\"\n",
    "# save_dir = f\"/cache/fast_data_nas8/qct/shubham/cache_3d/{dataset}/\"\n"
   ]
  },
  {
   "cell_type": "code",
   "execution_count": 77,
   "id": "c23ba031",
   "metadata": {},
   "outputs": [],
   "source": [
    "# Specify the directory path you want to create\n",
    "path = fc.Path(f\"/cache/fast_data_nas8/qct/shubham/cache_3d/{dataset}/\")\n",
    "path.mkdir(parents=True, exist_ok=True)\n",
    "\n",
    "lungmask_path = fc.Path(f\"/cache/fast_data_nas8/qct/shubham/lung_mask_cache_det/{dataset}/\")\n",
    "lungmask_path.mkdir(parents=True, exist_ok=True)\n"
   ]
  },
  {
   "cell_type": "code",
   "execution_count": null,
   "id": "9921227e",
   "metadata": {},
   "outputs": [],
   "source": []
  },
  {
   "cell_type": "code",
   "execution_count": 15,
   "id": "1865d078",
   "metadata": {},
   "outputs": [
    {
     "data": {
      "text/html": [
       "<div>\n",
       "<style scoped>\n",
       "    .dataframe tbody tr th:only-of-type {\n",
       "        vertical-align: middle;\n",
       "    }\n",
       "\n",
       "    .dataframe tbody tr th {\n",
       "        vertical-align: top;\n",
       "    }\n",
       "\n",
       "    .dataframe thead th {\n",
       "        text-align: right;\n",
       "    }\n",
       "</style>\n",
       "<table border=\"1\" class=\"dataframe\">\n",
       "  <thead>\n",
       "    <tr style=\"text-align: right;\">\n",
       "      <th></th>\n",
       "      <th>scan_name</th>\n",
       "      <th>annot_union</th>\n",
       "      <th>meta_union</th>\n",
       "      <th>rads</th>\n",
       "    </tr>\n",
       "  </thead>\n",
       "  <tbody>\n",
       "    <tr>\n",
       "      <th>0</th>\n",
       "      <td>1.3.6.1.4.1.55648.1123560832525979781356990547...</td>\n",
       "      <td>{'mask': {'rle': {'encoding': (130, 261, 62, 6...</td>\n",
       "      <td>{'internalstructure': 'internalStructure_soft_...</td>\n",
       "      <td>4</td>\n",
       "    </tr>\n",
       "    <tr>\n",
       "      <th>1</th>\n",
       "      <td>1.3.6.1.4.1.55648.1123560832525979781356990547...</td>\n",
       "      <td>{'mask': {'rle': {'encoding': (90, 236, 100, 1...</td>\n",
       "      <td>{'internalstructure': 'internalStructure_soft_...</td>\n",
       "      <td>2</td>\n",
       "    </tr>\n",
       "    <tr>\n",
       "      <th>2</th>\n",
       "      <td>1.3.6.1.4.1.55648.1123560832525979781356990547...</td>\n",
       "      <td>{'mask': {'rle': {'encoding': (135, 213, 99, 3...</td>\n",
       "      <td>{'internalstructure': 'internalStructure_soft_...</td>\n",
       "      <td>2</td>\n",
       "    </tr>\n",
       "    <tr>\n",
       "      <th>3</th>\n",
       "      <td>1.3.6.1.4.1.55648.1123560832525979781356990547...</td>\n",
       "      <td>{'mask': {'rle': {'encoding': (95, 120, 229, 4...</td>\n",
       "      <td>{'calcification': 'no', 'spiculation': 'no', '...</td>\n",
       "      <td>1</td>\n",
       "    </tr>\n",
       "    <tr>\n",
       "      <th>4</th>\n",
       "      <td>1.3.6.1.4.1.55648.1123560832525979781356990547...</td>\n",
       "      <td>{'mask': {'rle': {'encoding': (59, 331, 247, 1...</td>\n",
       "      <td>{'internalstructure': 'internalStructure_soft_...</td>\n",
       "      <td>2</td>\n",
       "    </tr>\n",
       "    <tr>\n",
       "      <th>...</th>\n",
       "      <td>...</td>\n",
       "      <td>...</td>\n",
       "      <td>...</td>\n",
       "      <td>...</td>\n",
       "    </tr>\n",
       "    <tr>\n",
       "      <th>2484</th>\n",
       "      <td>1.3.6.1.4.1.55648.1559945288373937017347087763...</td>\n",
       "      <td>{'mask': {'rle': {'encoding': (194, 265, 15, 5...</td>\n",
       "      <td>{'calcification': 'no', 'spiculation': 'no', '...</td>\n",
       "      <td>1</td>\n",
       "    </tr>\n",
       "    <tr>\n",
       "      <th>2485</th>\n",
       "      <td>1.3.6.1.4.1.55648.1559945288373937017347087763...</td>\n",
       "      <td>{'mask': {'rle': {'encoding': (150, 312, 29, 1...</td>\n",
       "      <td>{'calcification': 'no', 'spiculation': 'no', '...</td>\n",
       "      <td>1</td>\n",
       "    </tr>\n",
       "    <tr>\n",
       "      <th>2486</th>\n",
       "      <td>1.3.6.1.4.1.55648.1559945288373937017347087763...</td>\n",
       "      <td>{'mask': {'rle': {'encoding': (314, 285, 58, 1...</td>\n",
       "      <td>{'calcification': 'no', 'spiculation': 'no', '...</td>\n",
       "      <td>1</td>\n",
       "    </tr>\n",
       "    <tr>\n",
       "      <th>2487</th>\n",
       "      <td>1.3.6.1.4.1.55648.1559945288373937017347087763...</td>\n",
       "      <td>{'mask': {'rle': {'encoding': (293, 280, 60, 5...</td>\n",
       "      <td>{'calcification': 'no', 'spiculation': 'no', '...</td>\n",
       "      <td>1</td>\n",
       "    </tr>\n",
       "    <tr>\n",
       "      <th>2488</th>\n",
       "      <td>1.3.6.1.4.1.55648.1559945288373937017347087763...</td>\n",
       "      <td>{'mask': {'rle': {'encoding': (410, 241, 55, 9...</td>\n",
       "      <td>{'calcification': 'no', 'spiculation': 'no', '...</td>\n",
       "      <td>1</td>\n",
       "    </tr>\n",
       "  </tbody>\n",
       "</table>\n",
       "<p>2489 rows × 4 columns</p>\n",
       "</div>"
      ],
      "text/plain": [
       "                                              scan_name  \\\n",
       "0     1.3.6.1.4.1.55648.1123560832525979781356990547...   \n",
       "1     1.3.6.1.4.1.55648.1123560832525979781356990547...   \n",
       "2     1.3.6.1.4.1.55648.1123560832525979781356990547...   \n",
       "3     1.3.6.1.4.1.55648.1123560832525979781356990547...   \n",
       "4     1.3.6.1.4.1.55648.1123560832525979781356990547...   \n",
       "...                                                 ...   \n",
       "2484  1.3.6.1.4.1.55648.1559945288373937017347087763...   \n",
       "2485  1.3.6.1.4.1.55648.1559945288373937017347087763...   \n",
       "2486  1.3.6.1.4.1.55648.1559945288373937017347087763...   \n",
       "2487  1.3.6.1.4.1.55648.1559945288373937017347087763...   \n",
       "2488  1.3.6.1.4.1.55648.1559945288373937017347087763...   \n",
       "\n",
       "                                            annot_union  \\\n",
       "0     {'mask': {'rle': {'encoding': (130, 261, 62, 6...   \n",
       "1     {'mask': {'rle': {'encoding': (90, 236, 100, 1...   \n",
       "2     {'mask': {'rle': {'encoding': (135, 213, 99, 3...   \n",
       "3     {'mask': {'rle': {'encoding': (95, 120, 229, 4...   \n",
       "4     {'mask': {'rle': {'encoding': (59, 331, 247, 1...   \n",
       "...                                                 ...   \n",
       "2484  {'mask': {'rle': {'encoding': (194, 265, 15, 5...   \n",
       "2485  {'mask': {'rle': {'encoding': (150, 312, 29, 1...   \n",
       "2486  {'mask': {'rle': {'encoding': (314, 285, 58, 1...   \n",
       "2487  {'mask': {'rle': {'encoding': (293, 280, 60, 5...   \n",
       "2488  {'mask': {'rle': {'encoding': (410, 241, 55, 9...   \n",
       "\n",
       "                                             meta_union  rads  \n",
       "0     {'internalstructure': 'internalStructure_soft_...     4  \n",
       "1     {'internalstructure': 'internalStructure_soft_...     2  \n",
       "2     {'internalstructure': 'internalStructure_soft_...     2  \n",
       "3     {'calcification': 'no', 'spiculation': 'no', '...     1  \n",
       "4     {'internalstructure': 'internalStructure_soft_...     2  \n",
       "...                                                 ...   ...  \n",
       "2484  {'calcification': 'no', 'spiculation': 'no', '...     1  \n",
       "2485  {'calcification': 'no', 'spiculation': 'no', '...     1  \n",
       "2486  {'calcification': 'no', 'spiculation': 'no', '...     1  \n",
       "2487  {'calcification': 'no', 'spiculation': 'no', '...     1  \n",
       "2488  {'calcification': 'no', 'spiculation': 'no', '...     1  \n",
       "\n",
       "[2489 rows x 4 columns]"
      ]
     },
     "execution_count": 15,
     "metadata": {},
     "output_type": "execute_result"
    }
   ],
   "source": [
    "csv_loc = f\"/home/users/shubham.kumar/projects/interns/qct_data/qct_data_status/{dataset}/data/merged.csv\"\n",
    "df1 = pd.read_csv(csv_loc)\n",
    "df1"
   ]
  },
  {
   "cell_type": "code",
   "execution_count": 16,
   "id": "1a5bd39a",
   "metadata": {},
   "outputs": [
    {
     "data": {
      "text/html": [
       "<div>\n",
       "<style scoped>\n",
       "    .dataframe tbody tr th:only-of-type {\n",
       "        vertical-align: middle;\n",
       "    }\n",
       "\n",
       "    .dataframe tbody tr th {\n",
       "        vertical-align: top;\n",
       "    }\n",
       "\n",
       "    .dataframe thead th {\n",
       "        text-align: right;\n",
       "    }\n",
       "</style>\n",
       "<table border=\"1\" class=\"dataframe\">\n",
       "  <thead>\n",
       "    <tr style=\"text-align: right;\">\n",
       "      <th></th>\n",
       "      <th>scan_name</th>\n",
       "      <th>annot_union</th>\n",
       "      <th>meta_union</th>\n",
       "      <th>rads</th>\n",
       "    </tr>\n",
       "  </thead>\n",
       "  <tbody>\n",
       "    <tr>\n",
       "      <th>0</th>\n",
       "      <td>1.3.6.1.4.1.55648.1123560832525979781356990547...</td>\n",
       "      <td>{'mask': {'rle': {'encoding': (130, 261, 62, 6...</td>\n",
       "      <td>{'internalstructure': 'internalStructure_soft_...</td>\n",
       "      <td>4</td>\n",
       "    </tr>\n",
       "    <tr>\n",
       "      <th>1</th>\n",
       "      <td>1.3.6.1.4.1.55648.1123560832525979781356990547...</td>\n",
       "      <td>{'mask': {'rle': {'encoding': (90, 236, 100, 1...</td>\n",
       "      <td>{'internalstructure': 'internalStructure_soft_...</td>\n",
       "      <td>2</td>\n",
       "    </tr>\n",
       "    <tr>\n",
       "      <th>2</th>\n",
       "      <td>1.3.6.1.4.1.55648.1123560832525979781356990547...</td>\n",
       "      <td>{'mask': {'rle': {'encoding': (135, 213, 99, 3...</td>\n",
       "      <td>{'internalstructure': 'internalStructure_soft_...</td>\n",
       "      <td>2</td>\n",
       "    </tr>\n",
       "    <tr>\n",
       "      <th>3</th>\n",
       "      <td>1.3.6.1.4.1.55648.1123560832525979781356990547...</td>\n",
       "      <td>{'mask': {'rle': {'encoding': (95, 120, 229, 4...</td>\n",
       "      <td>{'calcification': 'no', 'spiculation': 'no', '...</td>\n",
       "      <td>1</td>\n",
       "    </tr>\n",
       "    <tr>\n",
       "      <th>4</th>\n",
       "      <td>1.3.6.1.4.1.55648.1123560832525979781356990547...</td>\n",
       "      <td>{'mask': {'rle': {'encoding': (59, 331, 247, 1...</td>\n",
       "      <td>{'internalstructure': 'internalStructure_soft_...</td>\n",
       "      <td>2</td>\n",
       "    </tr>\n",
       "    <tr>\n",
       "      <th>...</th>\n",
       "      <td>...</td>\n",
       "      <td>...</td>\n",
       "      <td>...</td>\n",
       "      <td>...</td>\n",
       "    </tr>\n",
       "    <tr>\n",
       "      <th>2527</th>\n",
       "      <td>1.3.6.1.4.1.55648.1559945288373937017347087763...</td>\n",
       "      <td>{'mask': {'rle': {'encoding': (194, 265, 15, 5...</td>\n",
       "      <td>{'calcification': 'no', 'spiculation': 'no', '...</td>\n",
       "      <td>1</td>\n",
       "    </tr>\n",
       "    <tr>\n",
       "      <th>2528</th>\n",
       "      <td>1.3.6.1.4.1.55648.1559945288373937017347087763...</td>\n",
       "      <td>{'mask': {'rle': {'encoding': (150, 312, 29, 1...</td>\n",
       "      <td>{'calcification': 'no', 'spiculation': 'no', '...</td>\n",
       "      <td>1</td>\n",
       "    </tr>\n",
       "    <tr>\n",
       "      <th>2529</th>\n",
       "      <td>1.3.6.1.4.1.55648.1559945288373937017347087763...</td>\n",
       "      <td>{'mask': {'rle': {'encoding': (314, 285, 58, 1...</td>\n",
       "      <td>{'calcification': 'no', 'spiculation': 'no', '...</td>\n",
       "      <td>1</td>\n",
       "    </tr>\n",
       "    <tr>\n",
       "      <th>2530</th>\n",
       "      <td>1.3.6.1.4.1.55648.1559945288373937017347087763...</td>\n",
       "      <td>{'mask': {'rle': {'encoding': (293, 280, 60, 5...</td>\n",
       "      <td>{'calcification': 'no', 'spiculation': 'no', '...</td>\n",
       "      <td>1</td>\n",
       "    </tr>\n",
       "    <tr>\n",
       "      <th>2531</th>\n",
       "      <td>1.3.6.1.4.1.55648.1559945288373937017347087763...</td>\n",
       "      <td>{'mask': {'rle': {'encoding': (410, 241, 55, 9...</td>\n",
       "      <td>{'calcification': 'no', 'spiculation': 'no', '...</td>\n",
       "      <td>1</td>\n",
       "    </tr>\n",
       "  </tbody>\n",
       "</table>\n",
       "<p>2532 rows × 4 columns</p>\n",
       "</div>"
      ],
      "text/plain": [
       "                                              scan_name  \\\n",
       "0     1.3.6.1.4.1.55648.1123560832525979781356990547...   \n",
       "1     1.3.6.1.4.1.55648.1123560832525979781356990547...   \n",
       "2     1.3.6.1.4.1.55648.1123560832525979781356990547...   \n",
       "3     1.3.6.1.4.1.55648.1123560832525979781356990547...   \n",
       "4     1.3.6.1.4.1.55648.1123560832525979781356990547...   \n",
       "...                                                 ...   \n",
       "2527  1.3.6.1.4.1.55648.1559945288373937017347087763...   \n",
       "2528  1.3.6.1.4.1.55648.1559945288373937017347087763...   \n",
       "2529  1.3.6.1.4.1.55648.1559945288373937017347087763...   \n",
       "2530  1.3.6.1.4.1.55648.1559945288373937017347087763...   \n",
       "2531  1.3.6.1.4.1.55648.1559945288373937017347087763...   \n",
       "\n",
       "                                            annot_union  \\\n",
       "0     {'mask': {'rle': {'encoding': (130, 261, 62, 6...   \n",
       "1     {'mask': {'rle': {'encoding': (90, 236, 100, 1...   \n",
       "2     {'mask': {'rle': {'encoding': (135, 213, 99, 3...   \n",
       "3     {'mask': {'rle': {'encoding': (95, 120, 229, 4...   \n",
       "4     {'mask': {'rle': {'encoding': (59, 331, 247, 1...   \n",
       "...                                                 ...   \n",
       "2527  {'mask': {'rle': {'encoding': (194, 265, 15, 5...   \n",
       "2528  {'mask': {'rle': {'encoding': (150, 312, 29, 1...   \n",
       "2529  {'mask': {'rle': {'encoding': (314, 285, 58, 1...   \n",
       "2530  {'mask': {'rle': {'encoding': (293, 280, 60, 5...   \n",
       "2531  {'mask': {'rle': {'encoding': (410, 241, 55, 9...   \n",
       "\n",
       "                                             meta_union  rads  \n",
       "0     {'internalstructure': 'internalStructure_soft_...     4  \n",
       "1     {'internalstructure': 'internalStructure_soft_...     2  \n",
       "2     {'internalstructure': 'internalStructure_soft_...     2  \n",
       "3     {'calcification': 'no', 'spiculation': 'no', '...     1  \n",
       "4     {'internalstructure': 'internalStructure_soft_...     2  \n",
       "...                                                 ...   ...  \n",
       "2527  {'calcification': 'no', 'spiculation': 'no', '...     1  \n",
       "2528  {'calcification': 'no', 'spiculation': 'no', '...     1  \n",
       "2529  {'calcification': 'no', 'spiculation': 'no', '...     1  \n",
       "2530  {'calcification': 'no', 'spiculation': 'no', '...     1  \n",
       "2531  {'calcification': 'no', 'spiculation': 'no', '...     1  \n",
       "\n",
       "[2532 rows x 4 columns]"
      ]
     },
     "execution_count": 16,
     "metadata": {},
     "output_type": "execute_result"
    }
   ],
   "source": [
    "csv_loc = f\"/home/users/shubham.kumar/projects/qct_data/qct_data_status/{dataset}/data/merged.csv\"\n",
    "df2 = pd.read_csv(csv_loc)\n",
    "df2"
   ]
  },
  {
   "cell_type": "code",
   "execution_count": 17,
   "id": "9264c387",
   "metadata": {},
   "outputs": [],
   "source": [
    "df = pd.concat([df1,df2])"
   ]
  },
  {
   "cell_type": "code",
   "execution_count": 18,
   "id": "1b291f79",
   "metadata": {},
   "outputs": [],
   "source": [
    "df = df[df.duplicated(keep=False) == False]\n"
   ]
  },
  {
   "cell_type": "code",
   "execution_count": null,
   "id": "5afd493c",
   "metadata": {},
   "outputs": [],
   "source": []
  },
  {
   "cell_type": "code",
   "execution_count": 19,
   "id": "5113921e",
   "metadata": {},
   "outputs": [],
   "source": [
    "df = df.rename(columns = {\"annot_union\" : \"annot\" , \"meta_union\": \"meta\"})"
   ]
  },
  {
   "cell_type": "code",
   "execution_count": 20,
   "id": "e365ef5c",
   "metadata": {},
   "outputs": [],
   "source": [
    "import pandas as pd\n",
    "\n",
    "df = df.sort_values(by='scan_name')\n",
    "df['counter'] = df.groupby('scan_name').cumcount() + 1\n",
    "df['annot_id'] = df['scan_name'] + \"_\" + df['counter'].astype(str)\n",
    "df.drop(columns=['counter'], inplace=True)\n"
   ]
  },
  {
   "cell_type": "code",
   "execution_count": 21,
   "id": "22c8ac9b",
   "metadata": {},
   "outputs": [],
   "source": [
    "df.to_csv(\"a.csv\" , index = False)"
   ]
  },
  {
   "cell_type": "code",
   "execution_count": 22,
   "id": "19b4cf33",
   "metadata": {},
   "outputs": [],
   "source": [
    "# df[\"meta\"] = df[\"meta\"].apply(lambda x : eval(x))"
   ]
  },
  {
   "cell_type": "code",
   "execution_count": 78,
   "id": "1d006646",
   "metadata": {},
   "outputs": [],
   "source": [
    "csv_loc = \"/home/users/shubham.kumar/projects/recist/recist_annotation_batch1_6.csv\"\n",
    "df = pd.read_csv(csv_loc)\n",
    "sids = df.annot_id.values\n",
    "series_ids = np.unique([sid.rsplit(\"_\")[0]  for sid in sids])"
   ]
  },
  {
   "cell_type": "code",
   "execution_count": 23,
   "id": "697fed61",
   "metadata": {
    "scrolled": true
   },
   "outputs": [
    {
     "data": {
      "text/plain": [
       "\"{'calcification': 'no|no', 'spiculation': 'no|no', 'texture': 'part_solid|ground_glass_nodule', 'location': 'LUL|LUL', 'most_clinically_significant_nodule': True, 'short_axis_diameter': '12|7', 'long_axis_diameter': '17|14'}\""
      ]
     },
     "execution_count": 23,
     "metadata": {},
     "output_type": "execute_result"
    }
   ],
   "source": [
    "df.meta.values[0]"
   ]
  },
  {
   "cell_type": "code",
   "execution_count": 24,
   "id": "cef5b141",
   "metadata": {
    "scrolled": true
   },
   "outputs": [],
   "source": [
    "series_ids = fc.L(df.scan_name.unique().tolist())"
   ]
  },
  {
   "cell_type": "code",
   "execution_count": 25,
   "id": "f1b80b27",
   "metadata": {},
   "outputs": [
    {
     "data": {
      "text/plain": [
       "22"
      ]
     },
     "execution_count": 25,
     "metadata": {},
     "output_type": "execute_result"
    }
   ],
   "source": [
    "len(series_ids)"
   ]
  },
  {
   "cell_type": "code",
   "execution_count": 26,
   "id": "bb9a984c",
   "metadata": {},
   "outputs": [
    {
     "data": {
      "text/plain": [
       "(#22) ['1.3.6.1.4.1.55648.100188019674846432076644931943449358309.3','1.3.6.1.4.1.55648.10826984285070099374502931340697219727.2','1.3.6.1.4.1.55648.112019282314479012696535730268202930787.4','1.3.6.1.4.1.55648.142871668293212255326909887709318800673.3','1.3.6.1.4.1.55648.14472369168369316704390341315926470755.3','1.3.6.1.4.1.55648.145225188666868454776927611389998620353.4','1.3.6.1.4.1.55648.153217532010059645291405450535823896249.2','1.3.6.1.4.1.55648.184549866740890328498751120900044094933.5','1.3.6.1.4.1.55648.2.219368117248306245022073007232919993556','1.3.6.1.4.1.55648.2.276038934349685497643197766989461163236'...]"
      ]
     },
     "execution_count": 26,
     "metadata": {},
     "output_type": "execute_result"
    }
   ],
   "source": [
    "series_ids"
   ]
  },
  {
   "cell_type": "markdown",
   "id": "1035a9eb",
   "metadata": {},
   "source": [
    "## we need to see what all files we need to create the safetensors for?"
   ]
  },
  {
   "cell_type": "code",
   "execution_count": 79,
   "id": "368e378f",
   "metadata": {
    "scrolled": true
   },
   "outputs": [],
   "source": [
    "ds = CTAnnotLoader(scans_root=meta_root, csv_loc=csv_loc, series_ids=series_ids,dummy_scans= False)"
   ]
  },
  {
   "cell_type": "code",
   "execution_count": 80,
   "id": "e3f3a8bc",
   "metadata": {},
   "outputs": [
    {
     "data": {
      "text/plain": [
       "136"
      ]
     },
     "execution_count": 80,
     "metadata": {},
     "output_type": "execute_result"
    }
   ],
   "source": [
    "len(ds)"
   ]
  },
  {
   "cell_type": "code",
   "execution_count": 66,
   "id": "0fd7bde1",
   "metadata": {},
   "outputs": [],
   "source": [
    "from qct_utils.schema.ct.chestct import RecistNode\n"
   ]
  },
  {
   "cell_type": "code",
   "execution_count": 67,
   "id": "38ee7a2d",
   "metadata": {},
   "outputs": [
    {
     "data": {
      "text/plain": [
       "qct_utils.schema.ct.chestct.RecistNode"
      ]
     },
     "execution_count": 67,
     "metadata": {},
     "output_type": "execute_result"
    }
   ],
   "source": [
    "RecistNode"
   ]
  },
  {
   "cell_type": "code",
   "execution_count": 69,
   "id": "5ecfd407",
   "metadata": {},
   "outputs": [],
   "source": [
    "sid = series_ids[np.random.randint(len(series_ids))]\n",
    "ctscan = ds[sid]"
   ]
  },
  {
   "cell_type": "code",
   "execution_count": 63,
   "id": "2034372b",
   "metadata": {
    "scrolled": true
   },
   "outputs": [
    {
     "data": {
      "text/plain": [
       "ChestCTMaster(study_info=None, series_info=None, scan=CTScan(array=array([[[-2048, -2048, -2048, ..., -2048, -2048, -2048],\n",
       "        [-2048, -2048, -2048, ..., -2048, -2048, -2048],\n",
       "        [-2048, -2048, -2048, ..., -2048, -2048, -2048],\n",
       "        ...,\n",
       "        [-2048, -2048, -2048, ..., -2048, -2048, -2048],\n",
       "        [-2048, -2048, -2048, ..., -2048, -2048, -2048],\n",
       "        [-2048, -2048, -2048, ..., -2048, -2048, -2048]],\n",
       "\n",
       "       [[-2048, -2048, -2048, ..., -2048, -2048, -2048],\n",
       "        [-2048, -2048, -2048, ..., -2048, -2048, -2048],\n",
       "        [-2048, -2048, -2048, ..., -2048, -2048, -2048],\n",
       "        ...,\n",
       "        [-2048, -2048, -2048, ..., -2048, -2048, -2048],\n",
       "        [-2048, -2048, -2048, ..., -2048, -2048, -2048],\n",
       "        [-2048, -2048, -2048, ..., -2048, -2048, -2048]],\n",
       "\n",
       "       [[-2048, -2048, -2048, ..., -2048, -2048, -2048],\n",
       "        [-2048, -2048, -2048, ..., -2048, -2048, -2048],\n",
       "        [-2048, -2048, -2048, ..., -2048, -2048, -2048],\n",
       "        ...,\n",
       "        [-2048, -2048, -2048, ..., -2048, -2048, -2048],\n",
       "        [-2048, -2048, -2048, ..., -2048, -2048, -2048],\n",
       "        [-2048, -2048, -2048, ..., -2048, -2048, -2048]],\n",
       "\n",
       "       ...,\n",
       "\n",
       "       [[-2048, -2048, -2048, ..., -2048, -2048, -2048],\n",
       "        [-2048, -2048, -2048, ..., -2048, -2048, -2048],\n",
       "        [-2048, -2048, -2048, ..., -2048, -2048, -2048],\n",
       "        ...,\n",
       "        [-2048, -2048, -2048, ..., -2048, -2048, -2048],\n",
       "        [-2048, -2048, -2048, ..., -2048, -2048, -2048],\n",
       "        [-2048, -2048, -2048, ..., -2048, -2048, -2048]],\n",
       "\n",
       "       [[-2048, -2048, -2048, ..., -2048, -2048, -2048],\n",
       "        [-2048, -2048, -2048, ..., -2048, -2048, -2048],\n",
       "        [-2048, -2048, -2048, ..., -2048, -2048, -2048],\n",
       "        ...,\n",
       "        [-2048, -2048, -2048, ..., -2048, -2048, -2048],\n",
       "        [-2048, -2048, -2048, ..., -2048, -2048, -2048],\n",
       "        [-2048, -2048, -2048, ..., -2048, -2048, -2048]],\n",
       "\n",
       "       [[-2048, -2048, -2048, ..., -2048, -2048, -2048],\n",
       "        [-2048, -2048, -2048, ..., -2048, -2048, -2048],\n",
       "        [-2048, -2048, -2048, ..., -2048, -2048, -2048],\n",
       "        ...,\n",
       "        [-2048, -2048, -2048, ..., -2048, -2048, -2048],\n",
       "        [-2048, -2048, -2048, ..., -2048, -2048, -2048],\n",
       "        [-2048, -2048, -2048, ..., -2048, -2048, -2048]]], dtype=int16), spacing=ITKDIM3D(x=0.698, y=0.698, z=4.0), direction=(1.0, 0.0, 0.0, 0.0, 1.0, 0.0, 0.0, 0.0, 1.0), origin=ITKDIM3D(x=-188.713, y=-178.5568, z=1675.0)), series_instance_uid='1.3.6.1.4.1.55648.14472369168369316704390341315926470755.3', lung_mask=None, lobe_mask=None, nodules=[Attributes(gt=NoduleAnnot(annot_id='1.3.6.1.4.1.55648.14472369168369316704390341315926470755.3_1', meta=NoduleAnnotMeta(subtlety=None, internalstructure=None, calcification='no', sphericity=None, margin=None, lobulation=None, spiculation='no', texture='solid', malignancy=None, location='RUL', transverse_vessels=None, clustered_nodules=None, juxtapleural=None, atypical_lung_cyst=None, fissural_nodule=None, most_clinically_significant_nodule=None, short_axis_diameter='11', long_axis_diameter='21', volume=None), annot=NoduleAnnotDim(mask=Mask(array=None, rle=MaskRLE(encoding=(119, 233, 23, 6, 118, 234, 23, 8, 117, 235, 23, 9, 115, 236, 23, 11, 114, 237, 23, 12, 112, 238, 23, 14, 112, 239, 23, 13, 112, 240, 23, 13, 112, 241, 23, 12, 112, 242, 23, 11, 112, 243, 23, 11, 112, 244, 23, 8, 113, 245, 23, 6, 112, 227, 24, 11, 107, 228, 24, 19, 107, 229, 24, 22, 107, 230, 24, 22, 107, 231, 24, 22, 107, 232, 24, 22, 107, 233, 24, 22, 107, 234, 24, 22, 107, 235, 24, 22, 107, 236, 24, 21, 107, 237, 24, 21, 107, 238, 24, 21, 107, 239, 24, 19, 107, 240, 24, 18, 109, 241, 24, 15, 109, 242, 24, 14, 109, 243, 24, 14, 110, 244, 24, 10, 113, 245, 24, 6, 122, 223, 25, 8, 121, 224, 25, 12, 117, 225, 25, 18, 114, 226, 25, 21, 112, 227, 25, 23, 110, 228, 25, 25, 108, 229, 25, 27, 107, 230, 25, 27, 106, 231, 25, 28, 106, 232, 25, 27, 106, 233, 25, 25, 106, 234, 25, 24, 106, 235, 25, 24, 106, 236, 25, 23, 106, 237, 25, 22, 106, 238, 25, 22, 107, 239, 25, 19, 108, 240, 25, 17, 110, 241, 25, 13, 123, 220, 26, 7, 120, 221, 26, 13, 118, 222, 26, 15, 116, 223, 26, 19, 116, 224, 26, 19, 115, 225, 26, 20, 113, 226, 26, 22, 113, 227, 26, 22, 111, 228, 26, 23, 110, 229, 26, 22, 109, 230, 26, 22, 107, 231, 26, 24, 107, 232, 26, 23, 107, 233, 26, 22, 107, 234, 26, 19, 107, 235, 26, 17, 109, 236, 26, 13, 110, 237, 26, 11, 110, 238, 26, 8, 119, 218, 27, 3, 118, 219, 27, 5, 117, 220, 27, 7, 116, 221, 27, 9, 116, 222, 27, 9, 115, 223, 27, 10, 115, 224, 27, 10, 115, 225, 27, 10, 115, 226, 27, 9, 115, 227, 27, 8, 115, 228, 27, 5, 200, 189, 35, 7, 199, 190, 35, 9, 199, 191, 35, 9, 196, 192, 35, 12, 194, 193, 35, 14, 192, 194, 35, 16, 191, 195, 35, 17, 191, 196, 35, 17, 190, 197, 35, 18, 190, 198, 35, 19, 189, 199, 35, 21, 189, 200, 35, 21, 189, 201, 35, 21, 189, 202, 35, 21, 189, 203, 35, 21, 189, 204, 35, 21, 189, 205, 35, 20, 189, 206, 35, 20, 189, 207, 35, 19, 190, 208, 35, 18, 191, 209, 35, 17, 192, 210, 35, 15, 194, 211, 35, 13, 196, 212, 35, 10, 203, 187, 36, 8, 202, 188, 36, 9, 201, 189, 36, 11, 199, 190, 36, 13, 198, 191, 36, 14, 196, 192, 36, 16, 195, 193, 36, 17, 194, 194, 36, 18, 193, 195, 36, 19, 193, 196, 36, 19, 193, 197, 36, 18, 193, 198, 36, 18, 194, 199, 36, 17, 194, 200, 36, 17, 194, 201, 36, 17, 195, 202, 36, 15, 195, 203, 36, 15, 195, 204, 36, 15, 195, 205, 36, 14, 195, 206, 36, 14, 196, 207, 36, 13, 196, 208, 36, 12, 196, 209, 36, 12, 196, 210, 36, 12, 197, 211, 36, 10, 198, 212, 36, 8, 198, 213, 36, 8, 200, 214, 36, 6, 200, 215, 36, 6, 201, 216, 36, 5, 202, 217, 36, 4, 203, 218, 36, 3, 198, 189, 37, 10, 196, 190, 37, 13, 195, 191, 37, 15, 194, 192, 37, 17, 193, 193, 37, 18, 193, 194, 37, 18, 192, 195, 37, 19, 191, 196, 37, 20, 190, 197, 37, 21, 190, 198, 37, 20, 189, 199, 37, 20, 189, 200, 37, 17, 189, 201, 37, 16, 191, 202, 37, 12, 193, 203, 37, 7, 200, 186, 38, 6, 198, 187, 38, 10, 197, 188, 38, 11, 196, 189, 38, 13, 196, 190, 38, 13, 196, 191, 38, 13, 196, 192, 38, 13, 196, 193, 38, 13, 195, 194, 38, 14, 195, 195, 38, 14, 195, 196, 38, 14, 195, 197, 38, 13, 195, 198, 38, 13, 195, 199, 38, 12, 196, 200, 38, 10, 196, 201, 38, 10, 197, 202, 38, 8, 199, 203, 38, 6, 196, 186, 39, 10, 194, 187, 39, 14, 194, 188, 39, 14, 194, 189, 39, 14, 194, 190, 39, 14, 194, 191, 39, 14, 194, 192, 39, 14, 194, 193, 39, 14, 194, 194, 39, 14, 195, 195, 39, 12, 195, 196, 39, 11, 195, 197, 39, 8, 196, 198, 39, 7, 197, 199, 39, 4), shape=ITKDIM3D(x=512, y=512, z=95)), orientation='zyx', spacing=ITKDIM3D(x=0.6980000138282776, y=0.6980000138282776, z=4.0)), bbox=None, label=None, volume=None, diameter=None, size=None, spacing=None, conf=None), annotated_by=None, progression=None, recist=None), pred=None), Attributes(gt=NoduleAnnot(annot_id='1.3.6.1.4.1.55648.14472369168369316704390341315926470755.3_2', meta=NoduleAnnotMeta(subtlety=None, internalstructure='internalStructure_soft_tissue', calcification='no|yes|no|no', sphericity=None, margin=None, lobulation=None, spiculation='yes|no|no|no', texture='solid|solid|solid|solid', malignancy=None, location='RUL|RUL|RUL|RML', transverse_vessels='no', clustered_nodules='no', juxtapleural='no', atypical_lung_cyst='no', fissural_nodule='no', most_clinically_significant_nodule=None, short_axis_diameter='8|13', long_axis_diameter='11|19', volume=None), annot=NoduleAnnotDim(mask=Mask(array=None, rle=MaskRLE(encoding=(201, 186, 35, 5, 200, 187, 35, 7, 199, 188, 35, 9, 199, 189, 35, 10, 199, 190, 35, 10, 198, 191, 35, 11, 198, 192, 35, 11, 197, 193, 35, 12, 197, 194, 35, 12, 196, 195, 35, 13, 195, 196, 35, 14, 195, 197, 35, 14, 194, 198, 35, 15, 194, 199, 35, 15, 193, 200, 35, 16, 192, 201, 35, 18, 192, 202, 35, 18, 191, 203, 35, 19, 190, 204, 35, 20, 190, 205, 35, 20, 190, 206, 35, 20, 190, 207, 35, 20, 190, 208, 35, 19, 190, 209, 35, 19, 191, 210, 35, 17, 192, 211, 35, 16, 194, 212, 35, 13, 195, 213, 35, 11, 200, 214, 35, 5, 203, 215, 35, 2, 201, 188, 36, 11, 199, 189, 36, 13, 198, 190, 36, 14, 197, 191, 36, 15, 196, 192, 36, 16, 196, 193, 36, 16, 196, 194, 36, 16, 196, 195, 36, 16, 195, 196, 36, 17, 194, 197, 36, 18, 194, 198, 36, 18, 194, 199, 36, 18, 193, 200, 36, 19, 193, 201, 36, 19, 193, 202, 36, 19, 193, 203, 36, 19, 193, 204, 36, 18, 193, 205, 36, 18, 193, 206, 36, 18, 194, 207, 36, 17, 194, 208, 36, 17, 194, 209, 36, 17, 194, 210, 36, 17, 194, 211, 36, 17, 195, 212, 36, 15, 196, 213, 36, 14, 197, 214, 36, 13, 197, 215, 36, 12, 198, 216, 36, 11, 199, 217, 36, 9, 200, 218, 36, 8, 205, 219, 36, 3, 207, 220, 36, 2, 207, 221, 36, 2, 201, 185, 37, 2, 200, 186, 37, 6, 199, 187, 37, 9, 198, 188, 37, 12, 190, 189, 37, 4, 197, 189, 37, 14, 189, 190, 37, 22, 189, 191, 37, 22, 189, 192, 37, 23, 188, 193, 37, 24, 188, 194, 37, 24, 188, 195, 37, 24, 188, 196, 37, 25, 188, 197, 37, 24, 188, 198, 37, 23, 188, 199, 37, 23, 188, 200, 37, 23, 188, 201, 37, 23, 189, 202, 37, 22, 194, 203, 37, 16, 194, 204, 37, 15, 194, 205, 37, 13, 194, 206, 37, 12, 194, 207, 37, 12, 194, 208, 37, 11, 194, 209, 37, 11, 194, 210, 37, 10, 194, 211, 37, 10, 194, 212, 37, 9, 193, 213, 37, 10, 193, 214, 37, 10, 193, 215, 37, 1, 199, 215, 37, 1, 193, 216, 37, 1, 199, 216, 37, 1, 199, 217, 37, 1, 199, 218, 37, 1, 202, 187, 38, 2, 205, 187, 38, 1, 199, 188, 38, 8, 196, 189, 38, 12, 195, 190, 38, 15, 194, 191, 38, 17, 194, 192, 38, 17, 192, 193, 38, 20, 191, 194, 38, 21, 191, 195, 38, 20, 191, 196, 38, 20, 191, 197, 38, 20, 191, 198, 38, 20, 191, 199, 38, 19, 191, 200, 38, 19, 191, 201, 38, 18, 192, 202, 38, 16, 192, 203, 38, 14, 193, 204, 38, 12, 194, 205, 38, 11, 195, 206, 38, 10, 196, 207, 38, 8, 198, 208, 38, 5, 195, 186, 39, 10, 194, 187, 39, 14, 194, 188, 39, 15, 194, 189, 39, 15, 194, 190, 39, 15, 194, 191, 39, 15, 194, 192, 39, 15, 194, 193, 39, 15, 194, 194, 39, 15, 194, 195, 39, 14, 194, 196, 39, 14, 196, 197, 39, 12, 197, 198, 39, 10, 201, 199, 39, 6, 202, 200, 39, 4, 202, 201, 39, 3), shape=ITKDIM3D(x=512, y=512, z=95)), orientation='zyx', spacing=ITKDIM3D(x=0.6980000138282776, y=0.6980000138282776, z=4.0)), bbox=None, label=None, volume=None, diameter=None, size=None, spacing=None, conf=None), annotated_by=None, progression=None, recist=None), pred=None), Attributes(gt=NoduleAnnot(annot_id='1.3.6.1.4.1.55648.14472369168369316704390341315926470755.3_3', meta=NoduleAnnotMeta(subtlety=None, internalstructure='internalStructure_soft_tissue', calcification='no|yes|no|no', sphericity=None, margin=None, lobulation=None, spiculation='no|no|no|no', texture='solid|solid|solid|solid', malignancy=None, location='RUL|RUL|RUL|RUL', transverse_vessels='no', clustered_nodules='no', juxtapleural='no', atypical_lung_cyst='no', fissural_nodule='no', most_clinically_significant_nodule=None, short_axis_diameter='8|12', long_axis_diameter='16|20', volume=None), annot=NoduleAnnotDim(mask=Mask(array=None, rle=MaskRLE(encoding=(116, 233, 23, 4, 116, 234, 23, 13, 116, 235, 23, 13, 116, 236, 23, 12, 116, 237, 23, 13, 115, 238, 23, 14, 113, 239, 23, 15, 111, 240, 23, 16, 109, 241, 23, 17, 109, 242, 23, 15, 108, 243, 23, 15, 107, 244, 23, 15, 107, 245, 23, 14, 107, 246, 23, 12, 118, 227, 24, 14, 115, 228, 24, 17, 114, 229, 24, 18, 112, 230, 24, 20, 109, 231, 24, 23, 107, 232, 24, 25, 107, 233, 24, 25, 107, 234, 24, 24, 107, 235, 24, 24, 107, 236, 24, 23, 107, 237, 24, 22, 107, 238, 24, 21, 107, 239, 24, 20, 106, 240, 24, 19, 106, 241, 24, 19, 106, 242, 24, 19, 107, 243, 24, 17, 110, 244, 24, 13, 113, 245, 24, 8, 116, 246, 24, 3, 130, 221, 25, 3, 127, 222, 25, 6, 124, 223, 25, 9, 121, 224, 25, 12, 118, 225, 25, 16, 115, 226, 25, 19, 114, 227, 25, 20, 112, 228, 25, 22, 110, 229, 25, 24, 106, 230, 25, 28, 106, 231, 25, 27, 106, 232, 25, 27, 106, 233, 25, 27, 105, 234, 25, 28, 105, 235, 25, 27, 105, 236, 25, 27, 105, 237, 25, 25, 106, 238, 25, 22, 106, 239, 25, 21, 107, 240, 25, 17, 108, 241, 25, 13, 112, 242, 25, 7, 118, 219, 26, 8, 117, 220, 26, 15, 116, 221, 26, 18, 114, 222, 26, 21, 113, 223, 26, 23, 112, 224, 26, 24, 111, 225, 26, 25, 110, 226, 26, 25, 109, 227, 26, 26, 109, 228, 26, 26, 108, 229, 26, 26, 107, 230, 26, 26, 106, 231, 26, 26, 105, 232, 26, 26, 105, 233, 26, 25, 105, 234, 26, 24, 105, 235, 26, 22, 106, 236, 26, 21, 107, 237, 26, 18, 108, 238, 26, 13, 111, 239, 26, 9, 123, 217, 27, 1, 121, 218, 27, 3, 119, 219, 27, 6, 118, 220, 27, 8, 116, 221, 27, 12, 115, 222, 27, 14, 114, 223, 27, 15, 112, 224, 27, 17, 111, 225, 27, 18, 111, 226, 27, 18, 110, 227, 27, 19, 110, 228, 27, 18, 110, 229, 27, 16, 110, 230, 27, 14), shape=ITKDIM3D(x=512, y=512, z=95)), orientation='zyx', spacing=ITKDIM3D(x=0.6980000138282776, y=0.6980000138282776, z=4.0)), bbox=None, label=None, volume=None, diameter=None, size=None, spacing=None, conf=None), annotated_by=None, progression=None, recist=None), pred=None), Attributes(gt=NoduleAnnot(annot_id='1.3.6.1.4.1.55648.14472369168369316704390341315926470755.3_4', meta=NoduleAnnotMeta(subtlety=None, internalstructure='internalStructure_soft_tissue', calcification='no|yes|no|no|no', sphericity=None, margin=None, lobulation=None, spiculation='yes|no|no|no|no', texture='solid|solid|solid|solid|solid', malignancy=None, location='RUL|RUL|RUL|RUL|RUL', transverse_vessels='no', clustered_nodules='no', juxtapleural='no', atypical_lung_cyst='no', fissural_nodule='no', most_clinically_significant_nodule=None, short_axis_diameter='8|12|11', long_axis_diameter='11|20|21', volume=None), annot=NoduleAnnotDim(mask=Mask(array=None, rle=MaskRLE(encoding=(116, 233, 23, 1, 119, 233, 23, 6, 116, 234, 23, 11, 116, 235, 23, 12, 115, 236, 23, 13, 114, 237, 23, 15, 112, 238, 23, 17, 112, 239, 23, 16, 111, 240, 23, 16, 109, 241, 23, 17, 109, 242, 23, 15, 108, 243, 23, 15, 107, 244, 23, 15, 107, 245, 23, 14, 107, 246, 23, 12, 112, 227, 24, 11, 107, 228, 24, 23, 107, 229, 24, 25, 107, 230, 24, 25, 107, 231, 24, 25, 107, 232, 24, 25, 107, 233, 24, 25, 107, 234, 24, 24, 107, 235, 24, 24, 107, 236, 24, 23, 107, 237, 24, 22, 107, 238, 24, 21, 107, 239, 24, 20, 106, 240, 24, 19, 106, 241, 24, 19, 106, 242, 24, 19, 107, 243, 24, 17, 110, 244, 24, 13, 113, 245, 24, 8, 116, 246, 24, 3, 132, 222, 25, 1, 122, 223, 25, 11, 121, 224, 25, 12, 117, 225, 25, 18, 114, 226, 25, 21, 112, 227, 25, 23, 110, 228, 25, 25, 108, 229, 25, 27, 106, 230, 25, 28, 106, 231, 25, 28, 106, 232, 25, 27, 106, 233, 25, 27, 105, 234, 25, 28, 105, 235, 25, 27, 105, 236, 25, 27, 105, 237, 25, 25, 106, 238, 25, 22, 106, 239, 25, 21, 107, 240, 25, 18, 108, 241, 25, 15, 112, 242, 25, 7, 120, 220, 26, 10, 118, 221, 26, 15, 116, 222, 26, 19, 115, 223, 26, 21, 113, 224, 26, 23, 112, 225, 26, 24, 111, 226, 26, 24, 110, 227, 26, 25, 109, 228, 26, 26, 108, 229, 26, 26, 107, 230, 26, 26, 106, 231, 26, 26, 105, 232, 26, 26, 105, 233, 26, 25, 105, 234, 26, 24, 105, 235, 26, 22, 106, 236, 26, 21, 107, 237, 26, 18, 108, 238, 26, 13, 111, 239, 26, 9, 119, 218, 27, 3, 118, 219, 27, 5, 117, 220, 27, 9, 116, 221, 27, 12, 115, 222, 27, 14, 114, 223, 27, 15, 112, 224, 27, 17, 111, 225, 27, 18, 111, 226, 27, 18, 110, 227, 27, 19, 110, 228, 27, 18, 110, 229, 27, 16, 110, 230, 27, 14, 201, 186, 35, 2, 200, 187, 35, 4, 200, 188, 35, 5, 199, 189, 35, 8, 199, 190, 35, 9, 198, 191, 35, 10, 196, 192, 35, 13, 194, 193, 35, 15, 192, 194, 35, 17, 191, 195, 35, 18, 191, 196, 35, 18, 190, 197, 35, 19, 190, 198, 35, 19, 189, 199, 35, 21, 189, 200, 35, 21, 189, 201, 35, 21, 189, 202, 35, 21, 189, 203, 35, 21, 189, 204, 35, 21, 189, 205, 35, 20, 189, 206, 35, 20, 189, 207, 35, 19, 190, 208, 35, 18, 190, 209, 35, 18, 191, 210, 35, 16, 193, 211, 35, 14, 195, 212, 35, 11, 197, 213, 35, 9, 200, 214, 35, 5, 203, 215, 35, 2, 203, 187, 36, 8, 202, 188, 36, 10, 201, 189, 36, 11, 199, 190, 36, 13, 198, 191, 36, 14, 196, 192, 36, 16, 195, 193, 36, 17, 194, 194, 36, 18, 193, 195, 36, 19, 193, 196, 36, 19, 193, 197, 36, 18, 193, 198, 36, 18, 194, 199, 36, 17, 194, 200, 36, 17, 194, 201, 36, 17, 194, 202, 36, 16, 194, 203, 36, 16, 194, 204, 36, 16, 194, 205, 36, 16, 194, 206, 36, 16, 194, 207, 36, 16, 194, 208, 36, 15, 194, 209, 36, 15, 194, 210, 36, 15, 194, 211, 36, 15, 195, 212, 36, 14, 197, 213, 36, 12, 198, 214, 36, 11, 199, 215, 36, 9, 201, 216, 36, 7, 202, 217, 36, 6, 203, 218, 36, 5, 205, 219, 36, 3, 207, 220, 36, 1, 201, 185, 37, 2, 200, 186, 37, 6, 199, 187, 37, 9, 198, 188, 37, 12, 197, 189, 37, 14, 196, 190, 37, 15, 194, 191, 37, 17, 193, 192, 37, 19, 192, 193, 37, 20, 192, 194, 37, 20, 192, 195, 37, 20, 191, 196, 37, 22, 190, 197, 37, 22, 190, 198, 37, 21, 189, 199, 37, 21, 189, 200, 37, 20, 189, 201, 37, 20, 191, 202, 37, 17, 193, 203, 37, 14, 195, 204, 37, 11, 195, 205, 37, 10, 195, 206, 37, 9, 196, 207, 37, 7, 196, 208, 37, 7, 196, 209, 37, 6, 197, 210, 37, 4, 197, 211, 37, 3, 197, 212, 37, 2, 197, 213, 37, 2, 197, 214, 37, 1, 200, 186, 38, 6, 198, 187, 38, 10, 197, 188, 38, 11, 196, 189, 38, 13, 195, 190, 38, 14, 194, 191, 38, 15, 194, 192, 38, 17, 194, 193, 38, 18, 194, 194, 38, 18, 194, 195, 38, 17, 193, 196, 38, 17, 193, 197, 38, 17, 193, 198, 38, 16, 193, 199, 38, 15, 195, 200, 38, 13, 196, 201, 38, 11, 197, 202, 38, 9, 199, 203, 38, 7, 200, 204, 38, 5, 201, 205, 38, 3, 202, 206, 38, 2, 196, 186, 39, 10, 194, 187, 39, 14, 194, 188, 39, 14, 194, 189, 39, 14, 194, 190, 39, 14, 194, 191, 39, 14, 194, 192, 39, 14, 194, 193, 39, 14, 194, 194, 39, 14, 194, 195, 39, 13, 194, 196, 39, 12, 195, 197, 39, 10, 196, 198, 39, 9, 197, 199, 39, 4, 203, 199, 39, 1), shape=ITKDIM3D(x=512, y=512, z=95)), orientation='zyx', spacing=ITKDIM3D(x=0.6980000138282776, y=0.6980000138282776, z=4.0)), bbox=None, label=None, volume=None, diameter=None, size=None, spacing=None, conf=None), annotated_by=None, progression=None, recist=None), pred=None)])"
      ]
     },
     "execution_count": 63,
     "metadata": {},
     "output_type": "execute_result"
    }
   ],
   "source": [
    "ctscan"
   ]
  },
  {
   "cell_type": "code",
   "execution_count": 29,
   "id": "0a04447f",
   "metadata": {},
   "outputs": [
    {
     "ename": "AttributeError",
     "evalue": "'NoneType' object has no attribute 'xcyczcwhd'",
     "output_type": "error",
     "traceback": [
      "\u001b[0;31m---------------------------------------------------------------------------\u001b[0m",
      "\u001b[0;31mAttributeError\u001b[0m                            Traceback (most recent call last)",
      "Cell \u001b[0;32mIn [29], line 1\u001b[0m\n\u001b[0;32m----> 1\u001b[0m kk \u001b[38;5;241m=\u001b[39m \u001b[43mplot_boxes_ctscan\u001b[49m\u001b[43m(\u001b[49m\u001b[43mctscan\u001b[49m\u001b[43m)\u001b[49m\n",
      "File \u001b[0;32m~/projects/qct_utils/src/qct_utils/ctvis/vis_cct.py:21\u001b[0m, in \u001b[0;36mplot_boxes_ctscan\u001b[0;34m(ctscan, attr)\u001b[0m\n\u001b[1;32m     19\u001b[0m \u001b[38;5;28;01mif\u001b[39;00m \u001b[38;5;28mgetattr\u001b[39m(ctscan, attr) \u001b[38;5;129;01mis\u001b[39;00m \u001b[38;5;129;01mnot\u001b[39;00m \u001b[38;5;28;01mNone\u001b[39;00m:\n\u001b[1;32m     20\u001b[0m     nodule_annots: List[NoduleAnnot] \u001b[38;5;241m=\u001b[39m \u001b[38;5;28mgetattr\u001b[39m(ctscan, attr)\n\u001b[0;32m---> 21\u001b[0m     bboxes \u001b[38;5;241m=\u001b[39m [\n\u001b[1;32m     22\u001b[0m         np\u001b[38;5;241m.\u001b[39marray(nodule_annot\u001b[38;5;241m.\u001b[39mgt\u001b[38;5;241m.\u001b[39mannot\u001b[38;5;241m.\u001b[39mbbox\u001b[38;5;241m.\u001b[39mxcyczcwhd[[\u001b[38;5;241m2\u001b[39m, \u001b[38;5;241m0\u001b[39m, \u001b[38;5;241m1\u001b[39m, \u001b[38;5;241m5\u001b[39m, \u001b[38;5;241m3\u001b[39m, \u001b[38;5;241m4\u001b[39m]], dtype\u001b[38;5;241m=\u001b[39mnp\u001b[38;5;241m.\u001b[39mint16)\u001b[38;5;241m.\u001b[39mtolist()\n\u001b[1;32m     23\u001b[0m         \u001b[38;5;28;01mfor\u001b[39;00m nodule_annot \u001b[38;5;129;01min\u001b[39;00m nodule_annots\n\u001b[1;32m     24\u001b[0m     ]\n\u001b[1;32m     25\u001b[0m     bbox_titles \u001b[38;5;241m=\u001b[39m [nodule_annot\u001b[38;5;241m.\u001b[39mgt\u001b[38;5;241m.\u001b[39mannotated_by[\u001b[38;5;241m0\u001b[39m:\u001b[38;5;241m5\u001b[39m] \u001b[38;5;28;01mfor\u001b[39;00m nodule_annot \u001b[38;5;129;01min\u001b[39;00m nodule_annots]\n\u001b[1;32m     26\u001b[0m     \u001b[38;5;66;03m# bbox_titles = [\"nod\" for _ in nodule_annots]\u001b[39;00m\n",
      "File \u001b[0;32m~/projects/qct_utils/src/qct_utils/ctvis/vis_cct.py:22\u001b[0m, in \u001b[0;36m<listcomp>\u001b[0;34m(.0)\u001b[0m\n\u001b[1;32m     19\u001b[0m \u001b[38;5;28;01mif\u001b[39;00m \u001b[38;5;28mgetattr\u001b[39m(ctscan, attr) \u001b[38;5;129;01mis\u001b[39;00m \u001b[38;5;129;01mnot\u001b[39;00m \u001b[38;5;28;01mNone\u001b[39;00m:\n\u001b[1;32m     20\u001b[0m     nodule_annots: List[NoduleAnnot] \u001b[38;5;241m=\u001b[39m \u001b[38;5;28mgetattr\u001b[39m(ctscan, attr)\n\u001b[1;32m     21\u001b[0m     bboxes \u001b[38;5;241m=\u001b[39m [\n\u001b[0;32m---> 22\u001b[0m         np\u001b[38;5;241m.\u001b[39marray(\u001b[43mnodule_annot\u001b[49m\u001b[38;5;241;43m.\u001b[39;49m\u001b[43mgt\u001b[49m\u001b[38;5;241;43m.\u001b[39;49m\u001b[43mannot\u001b[49m\u001b[38;5;241;43m.\u001b[39;49m\u001b[43mbbox\u001b[49m\u001b[38;5;241;43m.\u001b[39;49m\u001b[43mxcyczcwhd\u001b[49m[[\u001b[38;5;241m2\u001b[39m, \u001b[38;5;241m0\u001b[39m, \u001b[38;5;241m1\u001b[39m, \u001b[38;5;241m5\u001b[39m, \u001b[38;5;241m3\u001b[39m, \u001b[38;5;241m4\u001b[39m]], dtype\u001b[38;5;241m=\u001b[39mnp\u001b[38;5;241m.\u001b[39mint16)\u001b[38;5;241m.\u001b[39mtolist()\n\u001b[1;32m     23\u001b[0m         \u001b[38;5;28;01mfor\u001b[39;00m nodule_annot \u001b[38;5;129;01min\u001b[39;00m nodule_annots\n\u001b[1;32m     24\u001b[0m     ]\n\u001b[1;32m     25\u001b[0m     bbox_titles \u001b[38;5;241m=\u001b[39m [nodule_annot\u001b[38;5;241m.\u001b[39mgt\u001b[38;5;241m.\u001b[39mannotated_by[\u001b[38;5;241m0\u001b[39m:\u001b[38;5;241m5\u001b[39m] \u001b[38;5;28;01mfor\u001b[39;00m nodule_annot \u001b[38;5;129;01min\u001b[39;00m nodule_annots]\n\u001b[1;32m     26\u001b[0m     \u001b[38;5;66;03m# bbox_titles = [\"nod\" for _ in nodule_annots]\u001b[39;00m\n",
      "\u001b[0;31mAttributeError\u001b[0m: 'NoneType' object has no attribute 'xcyczcwhd'"
     ]
    }
   ],
   "source": [
    "kk = plot_boxes_ctscan(ctscan)"
   ]
  },
  {
   "cell_type": "code",
   "execution_count": null,
   "id": "61cc7ffd",
   "metadata": {},
   "outputs": [],
   "source": [
    "plot_scans([kk, ], [\"scan\"])"
   ]
  },
  {
   "cell_type": "markdown",
   "id": "77394b01",
   "metadata": {},
   "source": [
    "> Everything seems okay. lets process this and stip of the extra un-necessary stuff"
   ]
  },
  {
   "cell_type": "code",
   "execution_count": null,
   "id": "d55444d8",
   "metadata": {},
   "outputs": [],
   "source": [
    "file = {}\n",
    "spacing = ctscan.scan.spacing\n",
    "file[\"series_id\"] = ctscan.series_instance_uid\n",
    "file[\"images\"] = ctscan.scan.array.astype(np.int16)\n",
    "file[\"boxes\"] =  np.empty((0, 6)) if len(ctscan.nodules) == 0 else np.asarray([i.gt.annot.bbox.xcyczcwhd for i in  ctscan.nodules])[:, [1, 0, 2, 4, 3, 5]]\n",
    "if np.any(file[\"boxes\"]<0): breakpoint()\n",
    "file[\"labels\"] = np.zeros(file[\"boxes\"].shape[0]).astype(np.int8)\n",
    "file[\"spacing\"] = np.asarray([spacing.z, spacing.y, spacing.x])\n"
   ]
  },
  {
   "cell_type": "code",
   "execution_count": 82,
   "id": "1bffac79",
   "metadata": {},
   "outputs": [],
   "source": [
    "#| export \n",
    "def ctscan2dict(ctscan):\n",
    "    file = {}\n",
    "    spacing = ctscan.scan.spacing\n",
    "    file[\"series_id\"] = ctscan.series_instance_uid\n",
    "    file[\"images\"] = ctscan.scan.array.astype(np.int16)\n",
    "    file[\"boxes\"] =  np.empty((0, 6)) if len(ctscan.nodules) == 0 else np.asarray([i.gt.annot.bbox.xcyczcwhd for i in  ctscan.nodules])[:, [1, 0, 2, 4, 3, 5]]\n",
    "    if np.any(file[\"boxes\"]<0): breakpoint()\n",
    "    file[\"labels\"] = np.zeros(file[\"boxes\"].shape[0]).astype(np.int8)\n",
    "    file[\"spacing\"] = np.asarray([spacing.z, spacing.y, spacing.x])\n",
    "    return file"
   ]
  },
  {
   "cell_type": "code",
   "execution_count": null,
   "id": "7d199ebc",
   "metadata": {},
   "outputs": [],
   "source": [
    "file = ctscan2dict(ctscan)"
   ]
  },
  {
   "cell_type": "code",
   "execution_count": 83,
   "id": "df6f0940",
   "metadata": {},
   "outputs": [],
   "source": [
    "#| export \n",
    "def fixed_cache_transforms(lung_cache_dir: str = f\"/cache/fast_data_nas8/qct/shubham/lung_mask_cache_det/{dataset}/\", \n",
    "                           device: str=\"cuda:1\",\n",
    "                            roi: Optional[str] = None):\n",
    "    from voxdet.utils import locate_cls\n",
    "    from torchvision.transforms import Compose\n",
    "    test_transforms = [\n",
    "    dict(__class_fullname__ = \"voxdet.tfsm.standard.StandardT\",\n",
    "         src_mode=\"yxzhwd\", \n",
    "         img_src_mode=\"zyx\"),\n",
    "    dict(__class_fullname__=\"voxdet.tfsm.med.AddLungCache\", \n",
    "         cache_dir=lung_cache_dir,\n",
    "        device = device), \n",
    "    dict(__class_fullname__=\"voxdet.tfsm.med.CropLung\",\n",
    "         device = device,\n",
    "        roi = roi),\n",
    "    ]\n",
    "    transforms = Compose([locate_cls(i) for i in test_transforms])\n",
    "    return transforms "
   ]
  },
  {
   "cell_type": "code",
   "execution_count": null,
   "id": "901329b5",
   "metadata": {},
   "outputs": [],
   "source": [
    "transforms = fixed_cache_transforms()"
   ]
  },
  {
   "cell_type": "code",
   "execution_count": 193,
   "id": "de741e06",
   "metadata": {},
   "outputs": [
    {
     "ename": "NameError",
     "evalue": "name 'transforms' is not defined",
     "output_type": "error",
     "traceback": [
      "\u001b[0;31m---------------------------------------------------------------------------\u001b[0m",
      "\u001b[0;31mNameError\u001b[0m                                 Traceback (most recent call last)",
      "Cell \u001b[0;32mIn [193], line 1\u001b[0m\n\u001b[0;32m----> 1\u001b[0m \u001b[43mtransforms\u001b[49m\n",
      "\u001b[0;31mNameError\u001b[0m: name 'transforms' is not defined"
     ]
    }
   ],
   "source": [
    "transforms"
   ]
  },
  {
   "cell_type": "code",
   "execution_count": 31,
   "id": "41478cfe",
   "metadata": {},
   "outputs": [],
   "source": [
    "#| export \n",
    "def generate_cache(meta_root, csv_loc, series_ids, transforms, save_dir_root):\n",
    "    tfsm = transforms\n",
    "    ds = CTAnnotLoader(scans_root=meta_root, csv_loc=csv_loc, series_ids=series_ids)\n",
    "    fc.Path(save_dir_root).mkdir(exist_ok=True)\n",
    "    for n, sid in enumerate(series_ids):\n",
    "        save_path = fc.Path(save_dir_root)/f\"{sid}.safetensors\"\n",
    "        if save_path.exists(): \n",
    "            logger.info(f\"{n}-{sid} already exists\")\n",
    "            continue\n",
    "        ctscan = ds[sid]\n",
    "        for annot in ctscan.nodules:\n",
    "            annot.gt.annot.bbox = annot.gt.annot.mask.to_boxc()\n",
    "            \n",
    "            logger.debug(annot.gt.annot.bbox)\n",
    "        \n",
    "        file = ctscan2dict(ctscan)\n",
    "        file2 = tfsm(file)\n",
    "        \n",
    "        if np.any(file2[\"boxes\"]<0): \n",
    "            logger.info(f\"failed: {sid}\")\n",
    "            continue\n",
    "        #file[\"boxes\"].shape == 0:\n",
    "        logger.info(f\"{n}-{sid}-{file['boxes'].shape[0]}\")\n",
    "        \n",
    "        file2[\"images\"]=file2[\"images\"].astype(np.int16)\n",
    "        del file2[\"lung_mask\"] #delete lung mask it is not required.\n",
    "        del file2[\"series_id\"] # delete series_id as we are saving the file with series_id.\n",
    "        \n",
    "        save_file(file2, save_path)"
   ]
  },
  {
   "cell_type": "code",
   "execution_count": 84,
   "id": "f9129ba6",
   "metadata": {},
   "outputs": [],
   "source": [
    "save_dir_root = f\"/cache/fast_data_nas8/qct/shubham/cache_3d/{dataset}/\""
   ]
  },
  {
   "cell_type": "code",
   "execution_count": 86,
   "id": "f45b71f8",
   "metadata": {},
   "outputs": [
    {
     "data": {
      "text/plain": [
       "'recist_segmed'"
      ]
     },
     "execution_count": 86,
     "metadata": {},
     "output_type": "execute_result"
    }
   ],
   "source": [
    "dataset"
   ]
  },
  {
   "cell_type": "code",
   "execution_count": 85,
   "id": "e8353a22",
   "metadata": {
    "scrolled": true
   },
   "outputs": [],
   "source": [
    "tfsm = fixed_cache_transforms()\n",
    "# tfsm_left = fixed_cache_transforms(roi=\"left\")\n",
    "# tfsm_right = fixed_cache_transforms(roi = \"right\")"
   ]
  },
  {
   "cell_type": "code",
   "execution_count": 87,
   "id": "aedcb188",
   "metadata": {},
   "outputs": [
    {
     "data": {
      "text/plain": [
       "136"
      ]
     },
     "execution_count": 87,
     "metadata": {},
     "output_type": "execute_result"
    }
   ],
   "source": [
    "len(series_ids)"
   ]
  },
  {
   "cell_type": "code",
   "execution_count": 88,
   "id": "76a280c5",
   "metadata": {},
   "outputs": [
    {
     "data": {
      "text/plain": [
       "array(['1.3.6.1.4.1.55648.2.101241734547586775452322831296468201972',\n",
       "       '1.3.6.1.4.1.55648.2.108093775649662319973295460215823794828',\n",
       "       '1.3.6.1.4.1.55648.2.117920632119097483675993131555963786967',\n",
       "       '1.3.6.1.4.1.55648.2.128849357129041971604282259998126150107',\n",
       "       '1.3.6.1.4.1.55648.2.128899056479476615197431186292328764741',\n",
       "       '1.3.6.1.4.1.55648.2.134994477946138374466181765108799468380',\n",
       "       '1.3.6.1.4.1.55648.2.139785551441104934563923221820219450953',\n",
       "       '1.3.6.1.4.1.55648.2.145415111583706588050030447094741143985',\n",
       "       '1.3.6.1.4.1.55648.2.154359245579735257644154230598688986318',\n",
       "       '1.3.6.1.4.1.55648.2.155017639880451634701430179153013295880',\n",
       "       '1.3.6.1.4.1.55648.2.15891357133363139502089312930887236181',\n",
       "       '1.3.6.1.4.1.55648.2.169051242249054840910091957539366032497',\n",
       "       '1.3.6.1.4.1.55648.2.173465986389596934332992029676457345625',\n",
       "       '1.3.6.1.4.1.55648.2.199074783588045101095971497009454260965',\n",
       "       '1.3.6.1.4.1.55648.2.202808189039815612033506603379640636395',\n",
       "       '1.3.6.1.4.1.55648.2.206762376778557680058544550666649779041',\n",
       "       '1.3.6.1.4.1.55648.2.210356919545821483516440612856462138874',\n",
       "       '1.3.6.1.4.1.55648.2.222877459935596528555540825320371598683',\n",
       "       '1.3.6.1.4.1.55648.2.224351568696488523843304036205693471780',\n",
       "       '1.3.6.1.4.1.55648.2.229337337380396707561463896462187901174',\n",
       "       '1.3.6.1.4.1.55648.2.230932981612858615845287890790497866360',\n",
       "       '1.3.6.1.4.1.55648.2.237457791952277210620883569518028759791',\n",
       "       '1.3.6.1.4.1.55648.2.244698014859019613824446477523433625770',\n",
       "       '1.3.6.1.4.1.55648.2.248267185898337910205709413025525150165',\n",
       "       '1.3.6.1.4.1.55648.2.255793603010620664719776234281113447029',\n",
       "       '1.3.6.1.4.1.55648.2.257132935311750208884871052307588751292',\n",
       "       '1.3.6.1.4.1.55648.2.259979241989672679946864264872745768649',\n",
       "       '1.3.6.1.4.1.55648.2.266278801926372327331017888252595908010',\n",
       "       '1.3.6.1.4.1.55648.2.291577612293947930523529467264106951817',\n",
       "       '1.3.6.1.4.1.55648.2.298449951756154048016695641027748410777',\n",
       "       '1.3.6.1.4.1.55648.2.301966636250265313149769550520928327503',\n",
       "       '1.3.6.1.4.1.55648.2.303328771741138024789945223277150477837',\n",
       "       '1.3.6.1.4.1.55648.2.309033678607905857639743040464685410500',\n",
       "       '1.3.6.1.4.1.55648.2.309107597323114086244364745409128267431',\n",
       "       '1.3.6.1.4.1.55648.2.310390618693329461282695959327525290348',\n",
       "       '1.3.6.1.4.1.55648.2.312646638034288314640588958001770772486',\n",
       "       '1.3.6.1.4.1.55648.2.313541563626205551947103897446067476994',\n",
       "       '1.3.6.1.4.1.55648.2.321106680472263727996118168292818910647',\n",
       "       '1.3.6.1.4.1.55648.2.326729318498127237001365961725142109028',\n",
       "       '1.3.6.1.4.1.55648.2.328001131576821674869133256880548543619',\n",
       "       '1.3.6.1.4.1.55648.2.330611807380587722296478303921682084377',\n",
       "       '1.3.6.1.4.1.55648.2.338585781052707906137196772154985930528',\n",
       "       '1.3.6.1.4.1.55648.2.362212079136922376613871919623401530515',\n",
       "       '1.3.6.1.4.1.55648.2.377569702146349227046428196539719694413',\n",
       "       '1.3.6.1.4.1.55648.2.37875457283651965956213552964134139891',\n",
       "       '1.3.6.1.4.1.55648.2.385422088289039757432636636308871261126',\n",
       "       '1.3.6.1.4.1.55648.2.398813505271667220614755565069960838941',\n",
       "       '1.3.6.1.4.1.55648.2.406191144491095002185066852332523814601',\n",
       "       '1.3.6.1.4.1.55648.2.409517714620847643600242656673948715223',\n",
       "       '1.3.6.1.4.1.55648.2.410433639053503335485769479726843590620',\n",
       "       '1.3.6.1.4.1.55648.2.411013646634862919520719065395722969721',\n",
       "       '1.3.6.1.4.1.55648.2.423380761810216181675821577497171963414',\n",
       "       '1.3.6.1.4.1.55648.2.42556631269034707722720633207227381406',\n",
       "       '1.3.6.1.4.1.55648.2.453240928423288268209488221640882036437',\n",
       "       '1.3.6.1.4.1.55648.2.461735944259880166723641619711753683254',\n",
       "       '1.3.6.1.4.1.55648.2.463215944939088383007225743851823610137',\n",
       "       '1.3.6.1.4.1.55648.2.48225853883015172438410918043870215780',\n",
       "       '1.3.6.1.4.1.55648.2.484131623951883416421306038360803276686',\n",
       "       '1.3.6.1.4.1.55648.2.487189485001716323571346293828796597360',\n",
       "       '1.3.6.1.4.1.55648.2.491835746013519795110533687990965715530',\n",
       "       '1.3.6.1.4.1.55648.2.503274698089283769921022488025959559151',\n",
       "       '1.3.6.1.4.1.55648.2.504773200586410319693040872090923180329',\n",
       "       '1.3.6.1.4.1.55648.2.520599592399152471731589636347375263506',\n",
       "       '1.3.6.1.4.1.55648.2.521142208623157085324153912271396042742',\n",
       "       '1.3.6.1.4.1.55648.2.528279630680898302001514336297634018560',\n",
       "       '1.3.6.1.4.1.55648.2.538518360722750165892016637563127172518',\n",
       "       '1.3.6.1.4.1.55648.2.540589535643080536010327448149927628416',\n",
       "       '1.3.6.1.4.1.55648.2.554550163936764858866512765485887268801',\n",
       "       '1.3.6.1.4.1.55648.2.56425952009555093259064790270776677947',\n",
       "       '1.3.6.1.4.1.55648.2.592888766261547028432517492382279399592',\n",
       "       '1.3.6.1.4.1.55648.2.60098388403432196210795264210515769449',\n",
       "       '1.3.6.1.4.1.55648.2.606290281150346031548021698480163602702',\n",
       "       '1.3.6.1.4.1.55648.2.609759633375478779787941939410241609086',\n",
       "       '1.3.6.1.4.1.55648.2.613720512919150576959953749079387397916',\n",
       "       '1.3.6.1.4.1.55648.2.629517395897561262105291492114502980814',\n",
       "       '1.3.6.1.4.1.55648.2.641689325629637495750544274161706555829',\n",
       "       '1.3.6.1.4.1.55648.2.649050817330190706820407172024308053204',\n",
       "       '1.3.6.1.4.1.55648.2.655115259158406169043687623065069081356',\n",
       "       '1.3.6.1.4.1.55648.2.663418360359430961094732627351759687443',\n",
       "       '1.3.6.1.4.1.55648.2.667827628402325551525673901260803687741',\n",
       "       '1.3.6.1.4.1.55648.2.677587258936570818626521247270956386278',\n",
       "       '1.3.6.1.4.1.55648.2.682700287336205594819175363797041570518',\n",
       "       '1.3.6.1.4.1.55648.2.683189797505540552954695327362127386757',\n",
       "       '1.3.6.1.4.1.55648.2.686264934574692517948462021012532559392',\n",
       "       '1.3.6.1.4.1.55648.2.688495693742018235173911832997115184943',\n",
       "       '1.3.6.1.4.1.55648.2.6983550063661432612545018683060425293',\n",
       "       '1.3.6.1.4.1.55648.2.699966593506410602917909537298038014981',\n",
       "       '1.3.6.1.4.1.55648.2.710426425951631356345384893867691230594',\n",
       "       '1.3.6.1.4.1.55648.2.720179817684815446166642380370997069714',\n",
       "       '1.3.6.1.4.1.55648.2.721259132954295578552635077624736512723',\n",
       "       '1.3.6.1.4.1.55648.2.723332597027534921849014487570161809524',\n",
       "       '1.3.6.1.4.1.55648.2.725519559665297291964983311322637833990',\n",
       "       '1.3.6.1.4.1.55648.2.733916660342015658251306918943654766760',\n",
       "       '1.3.6.1.4.1.55648.2.736427593689433730094955065877066699507',\n",
       "       '1.3.6.1.4.1.55648.2.743173142777667760817276916348645246089',\n",
       "       '1.3.6.1.4.1.55648.2.747863380181283696975033906930623504818',\n",
       "       '1.3.6.1.4.1.55648.2.758661405874279647031488546042025459737',\n",
       "       '1.3.6.1.4.1.55648.2.799407056963475317366680378651161853272',\n",
       "       '1.3.6.1.4.1.55648.2.801663444696971516335912795773661396446',\n",
       "       '1.3.6.1.4.1.55648.2.809226091039489454994367791961115136998',\n",
       "       '1.3.6.1.4.1.55648.2.822934672390347012366775170844931150498',\n",
       "       '1.3.6.1.4.1.55648.2.829459519660770091620177679968217341139',\n",
       "       '1.3.6.1.4.1.55648.2.83486533620265763682770920226431340336',\n",
       "       '1.3.6.1.4.1.55648.2.835474881974104132193144026122007786638',\n",
       "       '1.3.6.1.4.1.55648.2.856278606190857063618470110437468682301',\n",
       "       '1.3.6.1.4.1.55648.2.863377005365042041149547683241518946975',\n",
       "       '1.3.6.1.4.1.55648.2.866218911913409219654087708501875252538',\n",
       "       '1.3.6.1.4.1.55648.2.87807076757580127589910199637800974385',\n",
       "       '1.3.6.1.4.1.55648.2.879701180150320573132174883224184931354',\n",
       "       '1.3.6.1.4.1.55648.2.882543687846509321365730095335432204022',\n",
       "       '1.3.6.1.4.1.55648.2.886507687197130942257316130020564549723',\n",
       "       '1.3.6.1.4.1.55648.2.89595306461380572682511799795275162763',\n",
       "       '1.3.6.1.4.1.55648.2.899411972871536834795628681075246014252',\n",
       "       '1.3.6.1.4.1.55648.2.901314945676031542641537493945168551093',\n",
       "       '1.3.6.1.4.1.55648.2.909562561349167665007734640640520520584',\n",
       "       '1.3.6.1.4.1.55648.2.913239413111188792632935164607668272947',\n",
       "       '1.3.6.1.4.1.55648.2.913637523551865938586481818051290402649',\n",
       "       '1.3.6.1.4.1.55648.2.917157579572968981109063543812213029868',\n",
       "       '1.3.6.1.4.1.55648.2.919104832857261662959929418670625358576',\n",
       "       '1.3.6.1.4.1.55648.2.921950072299644952697528652561599633124',\n",
       "       '1.3.6.1.4.1.55648.2.923476799783704415633173572289267011089',\n",
       "       '1.3.6.1.4.1.55648.2.924100140283350267695458685702453168724',\n",
       "       '1.3.6.1.4.1.55648.2.928912017921143454006671382016309514718',\n",
       "       '1.3.6.1.4.1.55648.2.935808832641275731086801433288369488087',\n",
       "       '1.3.6.1.4.1.55648.2.937612184348579850017867871134093150979',\n",
       "       '1.3.6.1.4.1.55648.2.947197698800201900342973906610828404137',\n",
       "       '1.3.6.1.4.1.55648.2.947253168371451564761603608210037499405',\n",
       "       '1.3.6.1.4.1.55648.2.951349899544548320020499945618796321859',\n",
       "       '1.3.6.1.4.1.55648.2.958354693790071181336523988022568927193',\n",
       "       '1.3.6.1.4.1.55648.2.963888885476196307473826820010553815488',\n",
       "       '1.3.6.1.4.1.55648.2.968508545224130848353296149157571285916',\n",
       "       '1.3.6.1.4.1.55648.2.97116581290788124388135718560250451173',\n",
       "       '1.3.6.1.4.1.55648.2.973981834125638736383518129789598427268',\n",
       "       '1.3.6.1.4.1.55648.2.987499780833999327211600942927379594554',\n",
       "       '1.3.6.1.4.1.55648.2.990913473947121796093389956685259886584',\n",
       "       '1.3.6.1.4.1.55648.2.998049215573323777887345914388389218588'],\n",
       "      dtype='<U59')"
      ]
     },
     "execution_count": 88,
     "metadata": {},
     "output_type": "execute_result"
    }
   ],
   "source": [
    "series_ids"
   ]
  },
  {
   "cell_type": "code",
   "execution_count": 89,
   "id": "708b6c7f",
   "metadata": {},
   "outputs": [],
   "source": [
    "from tqdm.auto import tqdm"
   ]
  },
  {
   "cell_type": "code",
   "execution_count": 91,
   "id": "2d868e7d",
   "metadata": {
    "scrolled": true
   },
   "outputs": [
    {
     "data": {
      "application/vnd.jupyter.widget-view+json": {
       "model_id": "f33d4a808be84a29a8a74d05b8764bd6",
       "version_major": 2,
       "version_minor": 0
      },
      "text/plain": [
       "0it [00:00, ?it/s]"
      ]
     },
     "metadata": {},
     "output_type": "display_data"
    },
    {
     "name": "stderr",
     "output_type": "stream",
     "text": [
      "\u001b[32m2024-06-06 17:59:05.686\u001b[0m | \u001b[34m\u001b[1mDEBUG   \u001b[0m | \u001b[36m__main__\u001b[0m:\u001b[36m<module>\u001b[0m:\u001b[36m19\u001b[0m - \u001b[34m\u001b[1mxc=151.0 yc=229.0 w=25.0 h=21.0 zc=109.5 d=2.0\u001b[0m\n",
      "\u001b[32m2024-06-06 17:59:05.780\u001b[0m | \u001b[34m\u001b[1mDEBUG   \u001b[0m | \u001b[36m__main__\u001b[0m:\u001b[36m<module>\u001b[0m:\u001b[36m19\u001b[0m - \u001b[34m\u001b[1mxc=276.0 yc=262.5 w=147.0 h=144.0 zc=93.0 d=3.0\u001b[0m\n",
      "\u001b[32m2024-06-06 17:59:05.879\u001b[0m | \u001b[34m\u001b[1mDEBUG   \u001b[0m | \u001b[36m__main__\u001b[0m:\u001b[36m<module>\u001b[0m:\u001b[36m19\u001b[0m - \u001b[34m\u001b[1mxc=380.0 yc=187.5 w=11.0 h=12.0 zc=109.5 d=2.0\u001b[0m\n",
      "\u001b[32m2024-06-06 17:59:07.892\u001b[0m | \u001b[1mINFO    \u001b[0m | \u001b[36m__main__\u001b[0m:\u001b[36m<module>\u001b[0m:\u001b[36m38\u001b[0m - \u001b[1m0-1.3.6.1.4.1.55648.2.101241734547586775452322831296468201972-3\u001b[0m\n",
      "\u001b[32m2024-06-06 17:59:11.550\u001b[0m | \u001b[34m\u001b[1mDEBUG   \u001b[0m | \u001b[36m__main__\u001b[0m:\u001b[36m<module>\u001b[0m:\u001b[36m19\u001b[0m - \u001b[34m\u001b[1mxc=139.5 yc=217.0 w=42.0 h=45.0 zc=48.0 d=7.0\u001b[0m\n",
      "\u001b[32m2024-06-06 17:59:11.619\u001b[0m | \u001b[34m\u001b[1mDEBUG   \u001b[0m | \u001b[36m__main__\u001b[0m:\u001b[36m<module>\u001b[0m:\u001b[36m19\u001b[0m - \u001b[34m\u001b[1mxc=210.5 yc=156.0 w=38.0 h=55.0 zc=46.0 d=11.0\u001b[0m\n",
      "\u001b[32m2024-06-06 17:59:12.503\u001b[0m | \u001b[1mINFO    \u001b[0m | \u001b[36m__main__\u001b[0m:\u001b[36m<module>\u001b[0m:\u001b[36m38\u001b[0m - \u001b[1m1-1.3.6.1.4.1.55648.2.108093775649662319973295460215823794828-2\u001b[0m\n",
      "\u001b[32m2024-06-06 17:59:18.510\u001b[0m | \u001b[34m\u001b[1mDEBUG   \u001b[0m | \u001b[36m__main__\u001b[0m:\u001b[36m<module>\u001b[0m:\u001b[36m19\u001b[0m - \u001b[34m\u001b[1mxc=319.5 yc=200.0 w=38.0 h=47.0 zc=93.0 d=11.0\u001b[0m\n",
      "\u001b[32m2024-06-06 17:59:19.445\u001b[0m | \u001b[1mINFO    \u001b[0m | \u001b[36m__main__\u001b[0m:\u001b[36m<module>\u001b[0m:\u001b[36m38\u001b[0m - \u001b[1m2-1.3.6.1.4.1.55648.2.117920632119097483675993131555963786967-1\u001b[0m\n",
      "\u001b[32m2024-06-06 17:59:26.517\u001b[0m | \u001b[34m\u001b[1mDEBUG   \u001b[0m | \u001b[36m__main__\u001b[0m:\u001b[36m<module>\u001b[0m:\u001b[36m19\u001b[0m - \u001b[34m\u001b[1mxc=105.0 yc=263.5 w=39.0 h=48.0 zc=54.0 d=5.0\u001b[0m\n",
      "\u001b[32m2024-06-06 17:59:26.641\u001b[0m | \u001b[34m\u001b[1mDEBUG   \u001b[0m | \u001b[36m__main__\u001b[0m:\u001b[36m<module>\u001b[0m:\u001b[36m19\u001b[0m - \u001b[34m\u001b[1mxc=349.5 yc=406.0 w=16.0 h=23.0 zc=36.0 d=3.0\u001b[0m\n",
      "\u001b[32m2024-06-06 17:59:26.736\u001b[0m | \u001b[34m\u001b[1mDEBUG   \u001b[0m | \u001b[36m__main__\u001b[0m:\u001b[36m<module>\u001b[0m:\u001b[36m19\u001b[0m - \u001b[34m\u001b[1mxc=343.5 yc=395.0 w=24.0 h=37.0 zc=22.5 d=8.0\u001b[0m\n",
      "\u001b[32m2024-06-06 17:59:26.829\u001b[0m | \u001b[34m\u001b[1mDEBUG   \u001b[0m | \u001b[36m__main__\u001b[0m:\u001b[36m<module>\u001b[0m:\u001b[36m19\u001b[0m - \u001b[34m\u001b[1mxc=399.0 yc=213.0 w=23.0 h=19.0 zc=51.5 d=4.0\u001b[0m\n",
      "\u001b[32m2024-06-06 17:59:26.924\u001b[0m | \u001b[34m\u001b[1mDEBUG   \u001b[0m | \u001b[36m__main__\u001b[0m:\u001b[36m<module>\u001b[0m:\u001b[36m19\u001b[0m - \u001b[34m\u001b[1mxc=416.0 yc=358.0 w=43.0 h=39.0 zc=35.5 d=8.0\u001b[0m\n",
      "\u001b[32m2024-06-06 17:59:27.017\u001b[0m | \u001b[34m\u001b[1mDEBUG   \u001b[0m | \u001b[36m__main__\u001b[0m:\u001b[36m<module>\u001b[0m:\u001b[36m19\u001b[0m - \u001b[34m\u001b[1mxc=332.5 yc=350.0 w=190.0 h=37.0 zc=76.0 d=7.0\u001b[0m\n",
      "\u001b[32m2024-06-06 17:59:28.584\u001b[0m | \u001b[1mINFO    \u001b[0m | \u001b[36m__main__\u001b[0m:\u001b[36m<module>\u001b[0m:\u001b[36m38\u001b[0m - \u001b[1m3-1.3.6.1.4.1.55648.2.128849357129041971604282259998126150107-6\u001b[0m\n",
      "\u001b[32m2024-06-06 17:59:35.437\u001b[0m | \u001b[34m\u001b[1mDEBUG   \u001b[0m | \u001b[36m__main__\u001b[0m:\u001b[36m<module>\u001b[0m:\u001b[36m19\u001b[0m - \u001b[34m\u001b[1mxc=299.5 yc=270.5 w=36.0 h=46.0 zc=102.5 d=8.0\u001b[0m\n",
      "\u001b[32m2024-06-06 17:59:37.010\u001b[0m | \u001b[1mINFO    \u001b[0m | \u001b[36m__main__\u001b[0m:\u001b[36m<module>\u001b[0m:\u001b[36m38\u001b[0m - \u001b[1m4-1.3.6.1.4.1.55648.2.128899056479476615197431186292328764741-1\u001b[0m\n",
      "\u001b[32m2024-06-06 17:59:42.475\u001b[0m | \u001b[34m\u001b[1mDEBUG   \u001b[0m | \u001b[36m__main__\u001b[0m:\u001b[36m<module>\u001b[0m:\u001b[36m19\u001b[0m - \u001b[34m\u001b[1mxc=301.0 yc=289.5 w=25.0 h=46.0 zc=93.0 d=15.0\u001b[0m\n",
      "\u001b[32m2024-06-06 17:59:43.386\u001b[0m | \u001b[1mINFO    \u001b[0m | \u001b[36m__main__\u001b[0m:\u001b[36m<module>\u001b[0m:\u001b[36m38\u001b[0m - \u001b[1m5-1.3.6.1.4.1.55648.2.134994477946138374466181765108799468380-1\u001b[0m\n",
      "\u001b[32m2024-06-06 17:59:49.890\u001b[0m | \u001b[34m\u001b[1mDEBUG   \u001b[0m | \u001b[36m__main__\u001b[0m:\u001b[36m<module>\u001b[0m:\u001b[36m19\u001b[0m - \u001b[34m\u001b[1mxc=366.5 yc=299.5 w=64.0 h=40.0 zc=66.0 d=11.0\u001b[0m\n",
      "\u001b[32m2024-06-06 17:59:50.986\u001b[0m | \u001b[1mINFO    \u001b[0m | \u001b[36m__main__\u001b[0m:\u001b[36m<module>\u001b[0m:\u001b[36m38\u001b[0m - \u001b[1m6-1.3.6.1.4.1.55648.2.139785551441104934563923221820219450953-1\u001b[0m\n",
      "\u001b[32m2024-06-06 17:59:55.487\u001b[0m | \u001b[34m\u001b[1mDEBUG   \u001b[0m | \u001b[36m__main__\u001b[0m:\u001b[36m<module>\u001b[0m:\u001b[36m19\u001b[0m - \u001b[34m\u001b[1mxc=119.5 yc=162.5 w=32.0 h=24.0 zc=47.5 d=10.0\u001b[0m\n",
      "\u001b[32m2024-06-06 17:59:55.577\u001b[0m | \u001b[34m\u001b[1mDEBUG   \u001b[0m | \u001b[36m__main__\u001b[0m:\u001b[36m<module>\u001b[0m:\u001b[36m19\u001b[0m - \u001b[34m\u001b[1mxc=285.0 yc=377.0 w=245.0 h=51.0 zc=44.0 d=1.0\u001b[0m\n",
      "\u001b[32m2024-06-06 17:59:55.670\u001b[0m | \u001b[34m\u001b[1mDEBUG   \u001b[0m | \u001b[36m__main__\u001b[0m:\u001b[36m<module>\u001b[0m:\u001b[36m19\u001b[0m - \u001b[34m\u001b[1mxc=337.5 yc=391.0 w=28.0 h=111.0 zc=31.0 d=1.0\u001b[0m\n",
      "\u001b[32m2024-06-06 17:59:56.562\u001b[0m | \u001b[1mINFO    \u001b[0m | \u001b[36m__main__\u001b[0m:\u001b[36m<module>\u001b[0m:\u001b[36m38\u001b[0m - \u001b[1m7-1.3.6.1.4.1.55648.2.145415111583706588050030447094741143985-3\u001b[0m\n",
      "\u001b[32m2024-06-06 18:00:03.291\u001b[0m | \u001b[34m\u001b[1mDEBUG   \u001b[0m | \u001b[36m__main__\u001b[0m:\u001b[36m<module>\u001b[0m:\u001b[36m19\u001b[0m - \u001b[34m\u001b[1mxc=301.5 yc=271.5 w=44.0 h=56.0 zc=120.0 d=11.0\u001b[0m\n",
      "\u001b[32m2024-06-06 18:00:04.288\u001b[0m | \u001b[1mINFO    \u001b[0m | \u001b[36m__main__\u001b[0m:\u001b[36m<module>\u001b[0m:\u001b[36m38\u001b[0m - \u001b[1m8-1.3.6.1.4.1.55648.2.154359245579735257644154230598688986318-1\u001b[0m\n",
      "\u001b[32m2024-06-06 18:00:09.378\u001b[0m | \u001b[34m\u001b[1mDEBUG   \u001b[0m | \u001b[36m__main__\u001b[0m:\u001b[36m<module>\u001b[0m:\u001b[36m19\u001b[0m - \u001b[34m\u001b[1mxc=166.5 yc=306.0 w=112.0 h=103.0 zc=77.0 d=21.0\u001b[0m\n",
      "\u001b[32m2024-06-06 18:00:10.445\u001b[0m | \u001b[1mINFO    \u001b[0m | \u001b[36m__main__\u001b[0m:\u001b[36m<module>\u001b[0m:\u001b[36m38\u001b[0m - \u001b[1m9-1.3.6.1.4.1.55648.2.155017639880451634701430179153013295880-1\u001b[0m\n",
      "\u001b[32m2024-06-06 18:00:15.379\u001b[0m | \u001b[34m\u001b[1mDEBUG   \u001b[0m | \u001b[36m__main__\u001b[0m:\u001b[36m<module>\u001b[0m:\u001b[36m19\u001b[0m - \u001b[34m\u001b[1mxc=127.0 yc=197.5 w=25.0 h=30.0 zc=109.5 d=4.0\u001b[0m\n",
      "\u001b[32m2024-06-06 18:00:15.500\u001b[0m | \u001b[34m\u001b[1mDEBUG   \u001b[0m | \u001b[36m__main__\u001b[0m:\u001b[36m<module>\u001b[0m:\u001b[36m19\u001b[0m - \u001b[34m\u001b[1mxc=116.0 yc=341.0 w=67.0 h=47.0 zc=61.0 d=21.0\u001b[0m\n",
      "\u001b[32m2024-06-06 18:00:15.620\u001b[0m | \u001b[34m\u001b[1mDEBUG   \u001b[0m | \u001b[36m__main__\u001b[0m:\u001b[36m<module>\u001b[0m:\u001b[36m19\u001b[0m - \u001b[34m\u001b[1mxc=433.0 yc=280.0 w=7.0 h=7.0 zc=74.0 d=1.0\u001b[0m\n",
      "\u001b[32m2024-06-06 18:00:16.697\u001b[0m | \u001b[1mINFO    \u001b[0m | \u001b[36m__main__\u001b[0m:\u001b[36m<module>\u001b[0m:\u001b[36m38\u001b[0m - \u001b[1m10-1.3.6.1.4.1.55648.2.15891357133363139502089312930887236181-3\u001b[0m\n",
      "\u001b[32m2024-06-06 18:00:20.455\u001b[0m | \u001b[34m\u001b[1mDEBUG   \u001b[0m | \u001b[36m__main__\u001b[0m:\u001b[36m<module>\u001b[0m:\u001b[36m19\u001b[0m - \u001b[34m\u001b[1mxc=152.5 yc=386.0 w=70.0 h=45.0 zc=68.5 d=10.0\u001b[0m\n",
      "\u001b[32m2024-06-06 18:00:20.558\u001b[0m | \u001b[34m\u001b[1mDEBUG   \u001b[0m | \u001b[36m__main__\u001b[0m:\u001b[36m<module>\u001b[0m:\u001b[36m19\u001b[0m - \u001b[34m\u001b[1mxc=134.5 yc=385.0 w=92.0 h=75.0 zc=52.5 d=20.0\u001b[0m\n",
      "\u001b[32m2024-06-06 18:00:22.398\u001b[0m | \u001b[1mINFO    \u001b[0m | \u001b[36m__main__\u001b[0m:\u001b[36m<module>\u001b[0m:\u001b[36m38\u001b[0m - \u001b[1m11-1.3.6.1.4.1.55648.2.169051242249054840910091957539366032497-2\u001b[0m\n",
      "\u001b[32m2024-06-06 18:00:28.835\u001b[0m | \u001b[34m\u001b[1mDEBUG   \u001b[0m | \u001b[36m__main__\u001b[0m:\u001b[36m<module>\u001b[0m:\u001b[36m19\u001b[0m - \u001b[34m\u001b[1mxc=355.5 yc=384.0 w=86.0 h=67.0 zc=57.0 d=11.0\u001b[0m\n",
      "\u001b[32m2024-06-06 18:00:29.824\u001b[0m | \u001b[1mINFO    \u001b[0m | \u001b[36m__main__\u001b[0m:\u001b[36m<module>\u001b[0m:\u001b[36m38\u001b[0m - \u001b[1m12-1.3.6.1.4.1.55648.2.173465986389596934332992029676457345625-1\u001b[0m\n",
      "\u001b[32m2024-06-06 18:00:35.041\u001b[0m | \u001b[34m\u001b[1mDEBUG   \u001b[0m | \u001b[36m__main__\u001b[0m:\u001b[36m<module>\u001b[0m:\u001b[36m19\u001b[0m - \u001b[34m\u001b[1mxc=154.0 yc=132.0 w=167.0 h=153.0 zc=59.5 d=6.0\u001b[0m\n",
      "\u001b[32m2024-06-06 18:00:35.128\u001b[0m | \u001b[34m\u001b[1mDEBUG   \u001b[0m | \u001b[36m__main__\u001b[0m:\u001b[36m<module>\u001b[0m:\u001b[36m19\u001b[0m - \u001b[34m\u001b[1mxc=151.0 yc=215.5 w=21.0 h=18.0 zc=53.5 d=2.0\u001b[0m\n",
      "\u001b[32m2024-06-06 18:00:35.929\u001b[0m | \u001b[1mINFO    \u001b[0m | \u001b[36m__main__\u001b[0m:\u001b[36m<module>\u001b[0m:\u001b[36m38\u001b[0m - \u001b[1m13-1.3.6.1.4.1.55648.2.199074783588045101095971497009454260965-2\u001b[0m\n",
      "\u001b[32m2024-06-06 18:00:42.241\u001b[0m | \u001b[34m\u001b[1mDEBUG   \u001b[0m | \u001b[36m__main__\u001b[0m:\u001b[36m<module>\u001b[0m:\u001b[36m19\u001b[0m - \u001b[34m\u001b[1mxc=215.0 yc=360.0 w=21.0 h=37.0 zc=79.5 d=6.0\u001b[0m\n",
      "\u001b[32m2024-06-06 18:00:43.247\u001b[0m | \u001b[1mINFO    \u001b[0m | \u001b[36m__main__\u001b[0m:\u001b[36m<module>\u001b[0m:\u001b[36m38\u001b[0m - \u001b[1m14-1.3.6.1.4.1.55648.2.202808189039815612033506603379640636395-1\u001b[0m\n",
      "\u001b[32m2024-06-06 18:00:48.722\u001b[0m | \u001b[34m\u001b[1mDEBUG   \u001b[0m | \u001b[36m__main__\u001b[0m:\u001b[36m<module>\u001b[0m:\u001b[36m19\u001b[0m - \u001b[34m\u001b[1mxc=337.5 yc=300.5 w=58.0 h=62.0 zc=78.5 d=18.0\u001b[0m\n",
      "\u001b[32m2024-06-06 18:00:49.502\u001b[0m | \u001b[1mINFO    \u001b[0m | \u001b[36m__main__\u001b[0m:\u001b[36m<module>\u001b[0m:\u001b[36m38\u001b[0m - \u001b[1m15-1.3.6.1.4.1.55648.2.206762376778557680058544550666649779041-1\u001b[0m\n",
      "\u001b[32m2024-06-06 18:00:54.114\u001b[0m | \u001b[34m\u001b[1mDEBUG   \u001b[0m | \u001b[36m__main__\u001b[0m:\u001b[36m<module>\u001b[0m:\u001b[36m19\u001b[0m - \u001b[34m\u001b[1mxc=123.0 yc=212.0 w=25.0 h=33.0 zc=104.5 d=4.0\u001b[0m\n",
      "\u001b[32m2024-06-06 18:00:54.235\u001b[0m | \u001b[34m\u001b[1mDEBUG   \u001b[0m | \u001b[36m__main__\u001b[0m:\u001b[36m<module>\u001b[0m:\u001b[36m19\u001b[0m - \u001b[34m\u001b[1mxc=146.5 yc=160.0 w=16.0 h=19.0 zc=89.0 d=3.0\u001b[0m\n"
     ]
    },
    {
     "name": "stderr",
     "output_type": "stream",
     "text": [
      "\u001b[32m2024-06-06 18:00:54.354\u001b[0m | \u001b[34m\u001b[1mDEBUG   \u001b[0m | \u001b[36m__main__\u001b[0m:\u001b[36m<module>\u001b[0m:\u001b[36m19\u001b[0m - \u001b[34m\u001b[1mxc=129.5 yc=344.5 w=64.0 h=46.0 zc=57.0 d=17.0\u001b[0m\n",
      "\u001b[32m2024-06-06 18:00:54.472\u001b[0m | \u001b[34m\u001b[1mDEBUG   \u001b[0m | \u001b[36m__main__\u001b[0m:\u001b[36m<module>\u001b[0m:\u001b[36m19\u001b[0m - \u001b[34m\u001b[1mxc=425.5 yc=234.5 w=30.0 h=30.0 zc=108.0 d=5.0\u001b[0m\n",
      "\u001b[32m2024-06-06 18:00:55.408\u001b[0m | \u001b[1mINFO    \u001b[0m | \u001b[36m__main__\u001b[0m:\u001b[36m<module>\u001b[0m:\u001b[36m38\u001b[0m - \u001b[1m16-1.3.6.1.4.1.55648.2.210356919545821483516440612856462138874-4\u001b[0m\n",
      "\u001b[32m2024-06-06 18:01:01.711\u001b[0m | \u001b[34m\u001b[1mDEBUG   \u001b[0m | \u001b[36m__main__\u001b[0m:\u001b[36m<module>\u001b[0m:\u001b[36m19\u001b[0m - \u001b[34m\u001b[1mxc=199.0 yc=184.0 w=43.0 h=107.0 zc=71.0 d=19.0\u001b[0m\n",
      "\u001b[32m2024-06-06 18:01:02.798\u001b[0m | \u001b[1mINFO    \u001b[0m | \u001b[36m__main__\u001b[0m:\u001b[36m<module>\u001b[0m:\u001b[36m38\u001b[0m - \u001b[1m17-1.3.6.1.4.1.55648.2.222877459935596528555540825320371598683-1\u001b[0m\n",
      "\u001b[32m2024-06-06 18:01:06.783\u001b[0m | \u001b[34m\u001b[1mDEBUG   \u001b[0m | \u001b[36m__main__\u001b[0m:\u001b[36m<module>\u001b[0m:\u001b[36m19\u001b[0m - \u001b[34m\u001b[1mxc=339.5 yc=243.5 w=10.0 h=12.0 zc=57.0 d=1.0\u001b[0m\n",
      "\u001b[32m2024-06-06 18:01:07.443\u001b[0m | \u001b[1mINFO    \u001b[0m | \u001b[36m__main__\u001b[0m:\u001b[36m<module>\u001b[0m:\u001b[36m38\u001b[0m - \u001b[1m18-1.3.6.1.4.1.55648.2.224351568696488523843304036205693471780-1\u001b[0m\n",
      "\u001b[32m2024-06-06 18:01:12.368\u001b[0m | \u001b[34m\u001b[1mDEBUG   \u001b[0m | \u001b[36m__main__\u001b[0m:\u001b[36m<module>\u001b[0m:\u001b[36m19\u001b[0m - \u001b[34m\u001b[1mxc=325.0 yc=237.5 w=91.0 h=94.0 zc=116.5 d=12.0\u001b[0m\n",
      "\u001b[32m2024-06-06 18:01:13.529\u001b[0m | \u001b[1mINFO    \u001b[0m | \u001b[36m__main__\u001b[0m:\u001b[36m<module>\u001b[0m:\u001b[36m38\u001b[0m - \u001b[1m19-1.3.6.1.4.1.55648.2.229337337380396707561463896462187901174-1\u001b[0m\n",
      "\u001b[32m2024-06-06 18:01:18.579\u001b[0m | \u001b[34m\u001b[1mDEBUG   \u001b[0m | \u001b[36m__main__\u001b[0m:\u001b[36m<module>\u001b[0m:\u001b[36m19\u001b[0m - \u001b[34m\u001b[1mxc=149.5 yc=322.0 w=44.0 h=35.0 zc=125.5 d=8.0\u001b[0m\n",
      "\u001b[32m2024-06-06 18:01:18.703\u001b[0m | \u001b[34m\u001b[1mDEBUG   \u001b[0m | \u001b[36m__main__\u001b[0m:\u001b[36m<module>\u001b[0m:\u001b[36m19\u001b[0m - \u001b[34m\u001b[1mxc=376.0 yc=285.0 w=17.0 h=21.0 zc=121.5 d=4.0\u001b[0m\n",
      "\u001b[32m2024-06-06 18:01:18.829\u001b[0m | \u001b[34m\u001b[1mDEBUG   \u001b[0m | \u001b[36m__main__\u001b[0m:\u001b[36m<module>\u001b[0m:\u001b[36m19\u001b[0m - \u001b[34m\u001b[1mxc=181.0 yc=283.0 w=157.0 h=39.0 zc=108.5 d=2.0\u001b[0m\n",
      "\u001b[32m2024-06-06 18:01:18.953\u001b[0m | \u001b[34m\u001b[1mDEBUG   \u001b[0m | \u001b[36m__main__\u001b[0m:\u001b[36m<module>\u001b[0m:\u001b[36m19\u001b[0m - \u001b[34m\u001b[1mxc=345.5 yc=352.0 w=8.0 h=9.0 zc=109.0 d=1.0\u001b[0m\n",
      "\u001b[32m2024-06-06 18:01:19.973\u001b[0m | \u001b[1mINFO    \u001b[0m | \u001b[36m__main__\u001b[0m:\u001b[36m<module>\u001b[0m:\u001b[36m38\u001b[0m - \u001b[1m20-1.3.6.1.4.1.55648.2.230932981612858615845287890790497866360-4\u001b[0m\n",
      "\u001b[32m2024-06-06 18:01:24.167\u001b[0m | \u001b[34m\u001b[1mDEBUG   \u001b[0m | \u001b[36m__main__\u001b[0m:\u001b[36m<module>\u001b[0m:\u001b[36m19\u001b[0m - \u001b[34m\u001b[1mxc=382.0 yc=277.5 w=53.0 h=104.0 zc=66.0 d=11.0\u001b[0m\n",
      "\u001b[32m2024-06-06 18:01:24.250\u001b[0m | \u001b[34m\u001b[1mDEBUG   \u001b[0m | \u001b[36m__main__\u001b[0m:\u001b[36m<module>\u001b[0m:\u001b[36m19\u001b[0m - \u001b[34m\u001b[1mxc=239.5 yc=337.5 w=56.0 h=50.0 zc=78.5 d=12.0\u001b[0m\n",
      "\u001b[32m2024-06-06 18:01:24.334\u001b[0m | \u001b[34m\u001b[1mDEBUG   \u001b[0m | \u001b[36m__main__\u001b[0m:\u001b[36m<module>\u001b[0m:\u001b[36m19\u001b[0m - \u001b[34m\u001b[1mxc=125.0 yc=417.5 w=25.0 h=30.0 zc=43.0 d=9.0\u001b[0m\n",
      "\u001b[32m2024-06-06 18:01:24.416\u001b[0m | \u001b[34m\u001b[1mDEBUG   \u001b[0m | \u001b[36m__main__\u001b[0m:\u001b[36m<module>\u001b[0m:\u001b[36m19\u001b[0m - \u001b[34m\u001b[1mxc=144.0 yc=412.0 w=9.0 h=7.0 zc=68.0 d=1.0\u001b[0m\n",
      "\u001b[32m2024-06-06 18:01:24.499\u001b[0m | \u001b[34m\u001b[1mDEBUG   \u001b[0m | \u001b[36m__main__\u001b[0m:\u001b[36m<module>\u001b[0m:\u001b[36m19\u001b[0m - \u001b[34m\u001b[1mxc=154.5 yc=332.0 w=14.0 h=9.0 zc=71.5 d=2.0\u001b[0m\n",
      "\u001b[32m2024-06-06 18:01:24.580\u001b[0m | \u001b[34m\u001b[1mDEBUG   \u001b[0m | \u001b[36m__main__\u001b[0m:\u001b[36m<module>\u001b[0m:\u001b[36m19\u001b[0m - \u001b[34m\u001b[1mxc=428.0 yc=348.0 w=13.0 h=7.0 zc=62.0 d=1.0\u001b[0m\n",
      "\u001b[32m2024-06-06 18:01:24.661\u001b[0m | \u001b[34m\u001b[1mDEBUG   \u001b[0m | \u001b[36m__main__\u001b[0m:\u001b[36m<module>\u001b[0m:\u001b[36m19\u001b[0m - \u001b[34m\u001b[1mxc=414.5 yc=333.0 w=14.0 h=11.0 zc=74.5 d=2.0\u001b[0m\n",
      "\u001b[32m2024-06-06 18:01:25.431\u001b[0m | \u001b[1mINFO    \u001b[0m | \u001b[36m__main__\u001b[0m:\u001b[36m<module>\u001b[0m:\u001b[36m38\u001b[0m - \u001b[1m21-1.3.6.1.4.1.55648.2.237457791952277210620883569518028759791-7\u001b[0m\n",
      "\u001b[32m2024-06-06 18:01:32.339\u001b[0m | \u001b[34m\u001b[1mDEBUG   \u001b[0m | \u001b[36m__main__\u001b[0m:\u001b[36m<module>\u001b[0m:\u001b[36m19\u001b[0m - \u001b[34m\u001b[1mxc=167.5 yc=267.0 w=66.0 h=65.0 zc=94.0 d=15.0\u001b[0m\n",
      "\u001b[32m2024-06-06 18:01:33.187\u001b[0m | \u001b[1mINFO    \u001b[0m | \u001b[36m__main__\u001b[0m:\u001b[36m<module>\u001b[0m:\u001b[36m38\u001b[0m - \u001b[1m22-1.3.6.1.4.1.55648.2.244698014859019613824446477523433625770-1\u001b[0m\n",
      "\u001b[32m2024-06-06 18:01:37.887\u001b[0m | \u001b[34m\u001b[1mDEBUG   \u001b[0m | \u001b[36m__main__\u001b[0m:\u001b[36m<module>\u001b[0m:\u001b[36m19\u001b[0m - \u001b[34m\u001b[1mxc=122.0 yc=192.5 w=39.0 h=22.0 zc=44.0 d=11.0\u001b[0m\n",
      "\u001b[32m2024-06-06 18:01:37.983\u001b[0m | \u001b[34m\u001b[1mDEBUG   \u001b[0m | \u001b[36m__main__\u001b[0m:\u001b[36m<module>\u001b[0m:\u001b[36m19\u001b[0m - \u001b[34m\u001b[1mxc=317.5 yc=369.0 w=10.0 h=9.0 zc=28.0 d=1.0\u001b[0m\n",
      "\u001b[32m2024-06-06 18:01:38.080\u001b[0m | \u001b[34m\u001b[1mDEBUG   \u001b[0m | \u001b[36m__main__\u001b[0m:\u001b[36m<module>\u001b[0m:\u001b[36m19\u001b[0m - \u001b[34m\u001b[1mxc=400.5 yc=350.0 w=6.0 h=7.0 zc=30.0 d=1.0\u001b[0m\n",
      "\u001b[32m2024-06-06 18:01:38.178\u001b[0m | \u001b[34m\u001b[1mDEBUG   \u001b[0m | \u001b[36m__main__\u001b[0m:\u001b[36m<module>\u001b[0m:\u001b[36m19\u001b[0m - \u001b[34m\u001b[1mxc=163.5 yc=371.5 w=10.0 h=6.0 zc=34.0 d=1.0\u001b[0m\n",
      "\u001b[32m2024-06-06 18:01:39.163\u001b[0m | \u001b[1mINFO    \u001b[0m | \u001b[36m__main__\u001b[0m:\u001b[36m<module>\u001b[0m:\u001b[36m38\u001b[0m - \u001b[1m23-1.3.6.1.4.1.55648.2.248267185898337910205709413025525150165-4\u001b[0m\n",
      "\u001b[32m2024-06-06 18:01:52.691\u001b[0m | \u001b[34m\u001b[1mDEBUG   \u001b[0m | \u001b[36m__main__\u001b[0m:\u001b[36m<module>\u001b[0m:\u001b[36m19\u001b[0m - \u001b[34m\u001b[1mxc=190.5 yc=353.5 w=8.0 h=12.0 zc=269.5 d=2.0\u001b[0m\n",
      "\u001b[32m2024-06-06 18:01:52.998\u001b[0m | \u001b[34m\u001b[1mDEBUG   \u001b[0m | \u001b[36m__main__\u001b[0m:\u001b[36m<module>\u001b[0m:\u001b[36m19\u001b[0m - \u001b[34m\u001b[1mxc=169.5 yc=245.0 w=116.0 h=97.0 zc=219.0 d=15.0\u001b[0m\n",
      "\u001b[32m2024-06-06 18:01:53.300\u001b[0m | \u001b[34m\u001b[1mDEBUG   \u001b[0m | \u001b[36m__main__\u001b[0m:\u001b[36m<module>\u001b[0m:\u001b[36m19\u001b[0m - \u001b[34m\u001b[1mxc=293.0 yc=261.5 w=217.0 h=166.0 zc=265.5 d=4.0\u001b[0m\n",
      "\u001b[32m2024-06-06 18:01:53.603\u001b[0m | \u001b[34m\u001b[1mDEBUG   \u001b[0m | \u001b[36m__main__\u001b[0m:\u001b[36m<module>\u001b[0m:\u001b[36m19\u001b[0m - \u001b[34m\u001b[1mxc=363.5 yc=262.5 w=10.0 h=8.0 zc=263.5 d=2.0\u001b[0m\n",
      "\u001b[32m2024-06-06 18:01:58.013\u001b[0m | \u001b[1mINFO    \u001b[0m | \u001b[36m__main__\u001b[0m:\u001b[36m<module>\u001b[0m:\u001b[36m38\u001b[0m - \u001b[1m24-1.3.6.1.4.1.55648.2.255793603010620664719776234281113447029-4\u001b[0m\n",
      "\u001b[32m2024-06-06 18:02:04.784\u001b[0m | \u001b[34m\u001b[1mDEBUG   \u001b[0m | \u001b[36m__main__\u001b[0m:\u001b[36m<module>\u001b[0m:\u001b[36m19\u001b[0m - \u001b[34m\u001b[1mxc=148.0 yc=266.5 w=121.0 h=126.0 zc=95.0 d=29.0\u001b[0m\n",
      "\u001b[32m2024-06-06 18:02:04.892\u001b[0m | \u001b[34m\u001b[1mDEBUG   \u001b[0m | \u001b[36m__main__\u001b[0m:\u001b[36m<module>\u001b[0m:\u001b[36m19\u001b[0m - \u001b[34m\u001b[1mxc=186.5 yc=236.0 w=18.0 h=19.0 zc=80.0 d=5.0\u001b[0m\n",
      "\u001b[32m2024-06-06 18:02:05.000\u001b[0m | \u001b[34m\u001b[1mDEBUG   \u001b[0m | \u001b[36m__main__\u001b[0m:\u001b[36m<module>\u001b[0m:\u001b[36m19\u001b[0m - \u001b[34m\u001b[1mxc=173.0 yc=180.0 w=17.0 h=15.0 zc=95.5 d=4.0\u001b[0m\n",
      "\u001b[32m2024-06-06 18:02:05.110\u001b[0m | \u001b[34m\u001b[1mDEBUG   \u001b[0m | \u001b[36m__main__\u001b[0m:\u001b[36m<module>\u001b[0m:\u001b[36m19\u001b[0m - \u001b[34m\u001b[1mxc=118.5 yc=204.0 w=14.0 h=15.0 zc=86.0 d=3.0\u001b[0m\n",
      "\u001b[32m2024-06-06 18:02:05.217\u001b[0m | \u001b[34m\u001b[1mDEBUG   \u001b[0m | \u001b[36m__main__\u001b[0m:\u001b[36m<module>\u001b[0m:\u001b[36m19\u001b[0m - \u001b[34m\u001b[1mxc=376.5 yc=381.5 w=16.0 h=18.0 zc=77.5 d=4.0\u001b[0m\n",
      "\u001b[32m2024-06-06 18:02:05.326\u001b[0m | \u001b[34m\u001b[1mDEBUG   \u001b[0m | \u001b[36m__main__\u001b[0m:\u001b[36m<module>\u001b[0m:\u001b[36m19\u001b[0m - \u001b[34m\u001b[1mxc=434.5 yc=270.5 w=16.0 h=16.0 zc=48.0 d=3.0\u001b[0m\n",
      "\u001b[32m2024-06-06 18:02:05.432\u001b[0m | \u001b[34m\u001b[1mDEBUG   \u001b[0m | \u001b[36m__main__\u001b[0m:\u001b[36m<module>\u001b[0m:\u001b[36m19\u001b[0m - \u001b[34m\u001b[1mxc=438.0 yc=271.5 w=13.0 h=16.0 zc=51.0 d=3.0\u001b[0m\n",
      "\u001b[32m2024-06-06 18:02:05.542\u001b[0m | \u001b[34m\u001b[1mDEBUG   \u001b[0m | \u001b[36m__main__\u001b[0m:\u001b[36m<module>\u001b[0m:\u001b[36m19\u001b[0m - \u001b[34m\u001b[1mxc=108.5 yc=300.5 w=14.0 h=16.0 zc=79.0 d=3.0\u001b[0m\n",
      "\u001b[32m2024-06-06 18:02:05.654\u001b[0m | \u001b[34m\u001b[1mDEBUG   \u001b[0m | \u001b[36m__main__\u001b[0m:\u001b[36m<module>\u001b[0m:\u001b[36m19\u001b[0m - \u001b[34m\u001b[1mxc=367.0 yc=264.5 w=13.0 h=16.0 zc=95.5 d=4.0\u001b[0m\n",
      "\u001b[32m2024-06-06 18:02:05.764\u001b[0m | \u001b[34m\u001b[1mDEBUG   \u001b[0m | \u001b[36m__main__\u001b[0m:\u001b[36m<module>\u001b[0m:\u001b[36m19\u001b[0m - \u001b[34m\u001b[1mxc=78.0 yc=321.0 w=11.0 h=11.0 zc=63.0 d=3.0\u001b[0m\n",
      "\u001b[32m2024-06-06 18:02:06.751\u001b[0m | \u001b[1mINFO    \u001b[0m | \u001b[36m__main__\u001b[0m:\u001b[36m<module>\u001b[0m:\u001b[36m38\u001b[0m - \u001b[1m25-1.3.6.1.4.1.55648.2.257132935311750208884871052307588751292-10\u001b[0m\n",
      "\u001b[32m2024-06-06 18:02:10.900\u001b[0m | \u001b[34m\u001b[1mDEBUG   \u001b[0m | \u001b[36m__main__\u001b[0m:\u001b[36m<module>\u001b[0m:\u001b[36m19\u001b[0m - \u001b[34m\u001b[1mxc=150.5 yc=347.0 w=126.0 h=67.0 zc=39.5 d=10.0\u001b[0m\n",
      "\u001b[32m2024-06-06 18:02:11.594\u001b[0m | \u001b[1mINFO    \u001b[0m | \u001b[36m__main__\u001b[0m:\u001b[36m<module>\u001b[0m:\u001b[36m38\u001b[0m - \u001b[1m26-1.3.6.1.4.1.55648.2.259979241989672679946864264872745768649-1\u001b[0m\n",
      "\u001b[32m2024-06-06 18:02:16.541\u001b[0m | \u001b[34m\u001b[1mDEBUG   \u001b[0m | \u001b[36m__main__\u001b[0m:\u001b[36m<module>\u001b[0m:\u001b[36m19\u001b[0m - \u001b[34m\u001b[1mxc=188.5 yc=320.0 w=70.0 h=73.0 zc=96.0 d=23.0\u001b[0m\n",
      "\u001b[32m2024-06-06 18:02:16.646\u001b[0m | \u001b[34m\u001b[1mDEBUG   \u001b[0m | \u001b[36m__main__\u001b[0m:\u001b[36m<module>\u001b[0m:\u001b[36m19\u001b[0m - \u001b[34m\u001b[1mxc=371.5 yc=230.5 w=90.0 h=16.0 zc=85.5 d=32.0\u001b[0m\n"
     ]
    },
    {
     "name": "stderr",
     "output_type": "stream",
     "text": [
      "\u001b[32m2024-06-06 18:02:16.798\u001b[0m | \u001b[34m\u001b[1mDEBUG   \u001b[0m | \u001b[36m__main__\u001b[0m:\u001b[36m<module>\u001b[0m:\u001b[36m19\u001b[0m - \u001b[34m\u001b[1mxc=331.0 yc=235.5 w=9.0 h=12.0 zc=100.5 d=2.0\u001b[0m\n",
      "\u001b[32m2024-06-06 18:02:18.113\u001b[0m | \u001b[1mINFO    \u001b[0m | \u001b[36m__main__\u001b[0m:\u001b[36m<module>\u001b[0m:\u001b[36m38\u001b[0m - \u001b[1m27-1.3.6.1.4.1.55648.2.266278801926372327331017888252595908010-3\u001b[0m\n",
      "\u001b[32m2024-06-06 18:02:21.642\u001b[0m | \u001b[34m\u001b[1mDEBUG   \u001b[0m | \u001b[36m__main__\u001b[0m:\u001b[36m<module>\u001b[0m:\u001b[36m19\u001b[0m - \u001b[34m\u001b[1mxc=163.5 yc=293.0 w=232.0 h=155.0 zc=40.0 d=65.0\u001b[0m\n",
      "\u001b[32m2024-06-06 18:02:23.930\u001b[0m | \u001b[1mINFO    \u001b[0m | \u001b[36m__main__\u001b[0m:\u001b[36m<module>\u001b[0m:\u001b[36m38\u001b[0m - \u001b[1m28-1.3.6.1.4.1.55648.2.291577612293947930523529467264106951817-1\u001b[0m\n",
      "\u001b[32m2024-06-06 18:02:27.545\u001b[0m | \u001b[34m\u001b[1mDEBUG   \u001b[0m | \u001b[36m__main__\u001b[0m:\u001b[36m<module>\u001b[0m:\u001b[36m19\u001b[0m - \u001b[34m\u001b[1mxc=117.5 yc=179.0 w=32.0 h=25.0 zc=33.5 d=12.0\u001b[0m\n",
      "\u001b[32m2024-06-06 18:02:27.631\u001b[0m | \u001b[34m\u001b[1mDEBUG   \u001b[0m | \u001b[36m__main__\u001b[0m:\u001b[36m<module>\u001b[0m:\u001b[36m19\u001b[0m - \u001b[34m\u001b[1mxc=326.5 yc=374.0 w=8.0 h=9.0 zc=19.5 d=2.0\u001b[0m\n",
      "\u001b[32m2024-06-06 18:02:27.714\u001b[0m | \u001b[34m\u001b[1mDEBUG   \u001b[0m | \u001b[36m__main__\u001b[0m:\u001b[36m<module>\u001b[0m:\u001b[36m19\u001b[0m - \u001b[34m\u001b[1mxc=311.0 yc=335.5 w=219.0 h=22.0 zc=22.0 d=1.0\u001b[0m\n",
      "\u001b[32m2024-06-06 18:02:27.797\u001b[0m | \u001b[34m\u001b[1mDEBUG   \u001b[0m | \u001b[36m__main__\u001b[0m:\u001b[36m<module>\u001b[0m:\u001b[36m19\u001b[0m - \u001b[34m\u001b[1mxc=149.5 yc=367.5 w=14.0 h=6.0 zc=22.0 d=1.0\u001b[0m\n",
      "\u001b[32m2024-06-06 18:02:28.614\u001b[0m | \u001b[1mINFO    \u001b[0m | \u001b[36m__main__\u001b[0m:\u001b[36m<module>\u001b[0m:\u001b[36m38\u001b[0m - \u001b[1m29-1.3.6.1.4.1.55648.2.298449951756154048016695641027748410777-4\u001b[0m\n",
      "\u001b[32m2024-06-06 18:02:36.851\u001b[0m | \u001b[34m\u001b[1mDEBUG   \u001b[0m | \u001b[36m__main__\u001b[0m:\u001b[36m<module>\u001b[0m:\u001b[36m19\u001b[0m - \u001b[34m\u001b[1mxc=369.0 yc=276.5 w=65.0 h=60.0 zc=69.5 d=20.0\u001b[0m\n",
      "\u001b[32m2024-06-06 18:02:38.169\u001b[0m | \u001b[1mINFO    \u001b[0m | \u001b[36m__main__\u001b[0m:\u001b[36m<module>\u001b[0m:\u001b[36m38\u001b[0m - \u001b[1m30-1.3.6.1.4.1.55648.2.301966636250265313149769550520928327503-1\u001b[0m\n",
      "\u001b[32m2024-06-06 18:02:44.022\u001b[0m | \u001b[34m\u001b[1mDEBUG   \u001b[0m | \u001b[36m__main__\u001b[0m:\u001b[36m<module>\u001b[0m:\u001b[36m19\u001b[0m - \u001b[34m\u001b[1mxc=89.5 yc=226.5 w=64.0 h=76.0 zc=40.0 d=11.0\u001b[0m\n",
      "\u001b[32m2024-06-06 18:02:44.107\u001b[0m | \u001b[34m\u001b[1mDEBUG   \u001b[0m | \u001b[36m__main__\u001b[0m:\u001b[36m<module>\u001b[0m:\u001b[36m19\u001b[0m - \u001b[34m\u001b[1mxc=112.5 yc=251.0 w=30.0 h=23.0 zc=45.5 d=4.0\u001b[0m\n",
      "\u001b[32m2024-06-06 18:02:44.192\u001b[0m | \u001b[34m\u001b[1mDEBUG   \u001b[0m | \u001b[36m__main__\u001b[0m:\u001b[36m<module>\u001b[0m:\u001b[36m19\u001b[0m - \u001b[34m\u001b[1mxc=212.0 yc=260.0 w=15.0 h=13.0 zc=34.5 d=2.0\u001b[0m\n",
      "\u001b[32m2024-06-06 18:02:44.278\u001b[0m | \u001b[34m\u001b[1mDEBUG   \u001b[0m | \u001b[36m__main__\u001b[0m:\u001b[36m<module>\u001b[0m:\u001b[36m19\u001b[0m - \u001b[34m\u001b[1mxc=325.0 yc=208.5 w=41.0 h=44.0 zc=67.0 d=7.0\u001b[0m\n",
      "\u001b[32m2024-06-06 18:02:44.982\u001b[0m | \u001b[1mINFO    \u001b[0m | \u001b[36m__main__\u001b[0m:\u001b[36m<module>\u001b[0m:\u001b[36m38\u001b[0m - \u001b[1m31-1.3.6.1.4.1.55648.2.303328771741138024789945223277150477837-4\u001b[0m\n",
      "\u001b[32m2024-06-06 18:02:49.097\u001b[0m | \u001b[34m\u001b[1mDEBUG   \u001b[0m | \u001b[36m__main__\u001b[0m:\u001b[36m<module>\u001b[0m:\u001b[36m19\u001b[0m - \u001b[34m\u001b[1mxc=111.0 yc=277.5 w=31.0 h=44.0 zc=45.5 d=4.0\u001b[0m\n",
      "\u001b[32m2024-06-06 18:02:49.177\u001b[0m | \u001b[34m\u001b[1mDEBUG   \u001b[0m | \u001b[36m__main__\u001b[0m:\u001b[36m<module>\u001b[0m:\u001b[36m19\u001b[0m - \u001b[34m\u001b[1mxc=348.5 yc=232.5 w=24.0 h=16.0 zc=65.5 d=4.0\u001b[0m\n",
      "\u001b[32m2024-06-06 18:02:50.034\u001b[0m | \u001b[1mINFO    \u001b[0m | \u001b[36m__main__\u001b[0m:\u001b[36m<module>\u001b[0m:\u001b[36m38\u001b[0m - \u001b[1m32-1.3.6.1.4.1.55648.2.309033678607905857639743040464685410500-2\u001b[0m\n",
      "\u001b[32m2024-06-06 18:02:56.628\u001b[0m | \u001b[34m\u001b[1mDEBUG   \u001b[0m | \u001b[36m__main__\u001b[0m:\u001b[36m<module>\u001b[0m:\u001b[36m19\u001b[0m - \u001b[34m\u001b[1mxc=340.5 yc=237.0 w=98.0 h=75.0 zc=76.5 d=18.0\u001b[0m\n",
      "\u001b[32m2024-06-06 18:02:57.944\u001b[0m | \u001b[1mINFO    \u001b[0m | \u001b[36m__main__\u001b[0m:\u001b[36m<module>\u001b[0m:\u001b[36m38\u001b[0m - \u001b[1m33-1.3.6.1.4.1.55648.2.309107597323114086244364745409128267431-1\u001b[0m\n",
      "WARNING: In /tmp/SimpleITK-build/ITK-prefix/include/ITK-5.2/itkImageSeriesReader.hxx, line 480\n",
      "ImageSeriesReader (0x4895c930): Non uniform sampling or missing slices detected,  maximum nonuniformity:4.95798\n",
      "\n",
      "\u001b[32m2024-06-06 18:03:04.199\u001b[0m | \u001b[34m\u001b[1mDEBUG   \u001b[0m | \u001b[36m__main__\u001b[0m:\u001b[36m<module>\u001b[0m:\u001b[36m19\u001b[0m - \u001b[34m\u001b[1mxc=234.0 yc=252.5 w=253.0 h=264.0 zc=57.0 d=11.0\u001b[0m\n",
      "\u001b[32m2024-06-06 18:03:04.296\u001b[0m | \u001b[34m\u001b[1mDEBUG   \u001b[0m | \u001b[36m__main__\u001b[0m:\u001b[36m<module>\u001b[0m:\u001b[36m19\u001b[0m - \u001b[34m\u001b[1mxc=195.5 yc=315.5 w=86.0 h=92.0 zc=62.0 d=11.0\u001b[0m\n",
      "\u001b[32m2024-06-06 18:03:05.260\u001b[0m | \u001b[1mINFO    \u001b[0m | \u001b[36m__main__\u001b[0m:\u001b[36m<module>\u001b[0m:\u001b[36m38\u001b[0m - \u001b[1m34-1.3.6.1.4.1.55648.2.310390618693329461282695959327525290348-2\u001b[0m\n",
      "\u001b[32m2024-06-06 18:03:09.561\u001b[0m | \u001b[34m\u001b[1mDEBUG   \u001b[0m | \u001b[36m__main__\u001b[0m:\u001b[36m<module>\u001b[0m:\u001b[36m19\u001b[0m - \u001b[34m\u001b[1mxc=336.5 yc=260.0 w=22.0 h=25.0 zc=77.0 d=5.0\u001b[0m\n",
      "\u001b[32m2024-06-06 18:03:10.948\u001b[0m | \u001b[1mINFO    \u001b[0m | \u001b[36m__main__\u001b[0m:\u001b[36m<module>\u001b[0m:\u001b[36m38\u001b[0m - \u001b[1m35-1.3.6.1.4.1.55648.2.312646638034288314640588958001770772486-1\u001b[0m\n",
      "\u001b[32m2024-06-06 18:03:18.075\u001b[0m | \u001b[34m\u001b[1mDEBUG   \u001b[0m | \u001b[36m__main__\u001b[0m:\u001b[36m<module>\u001b[0m:\u001b[36m19\u001b[0m - \u001b[34m\u001b[1mxc=161.0 yc=309.5 w=33.0 h=28.0 zc=72.5 d=6.0\u001b[0m\n",
      "\u001b[32m2024-06-06 18:03:18.205\u001b[0m | \u001b[34m\u001b[1mDEBUG   \u001b[0m | \u001b[36m__main__\u001b[0m:\u001b[36m<module>\u001b[0m:\u001b[36m19\u001b[0m - \u001b[34m\u001b[1mxc=406.0 yc=228.5 w=67.0 h=94.0 zc=61.0 d=9.0\u001b[0m\n",
      "\u001b[32m2024-06-06 18:03:18.334\u001b[0m | \u001b[34m\u001b[1mDEBUG   \u001b[0m | \u001b[36m__main__\u001b[0m:\u001b[36m<module>\u001b[0m:\u001b[36m19\u001b[0m - \u001b[34m\u001b[1mxc=295.0 yc=360.5 w=19.0 h=22.0 zc=74.0 d=11.0\u001b[0m\n",
      "\u001b[32m2024-06-06 18:03:20.026\u001b[0m | \u001b[1mINFO    \u001b[0m | \u001b[36m__main__\u001b[0m:\u001b[36m<module>\u001b[0m:\u001b[36m38\u001b[0m - \u001b[1m36-1.3.6.1.4.1.55648.2.313541563626205551947103897446067476994-3\u001b[0m\n",
      "\u001b[32m2024-06-06 18:03:26.709\u001b[0m | \u001b[34m\u001b[1mDEBUG   \u001b[0m | \u001b[36m__main__\u001b[0m:\u001b[36m<module>\u001b[0m:\u001b[36m19\u001b[0m - \u001b[34m\u001b[1mxc=376.0 yc=372.0 w=85.0 h=75.0 zc=89.5 d=14.0\u001b[0m\n",
      "\u001b[32m2024-06-06 18:03:26.819\u001b[0m | \u001b[34m\u001b[1mDEBUG   \u001b[0m | \u001b[36m__main__\u001b[0m:\u001b[36m<module>\u001b[0m:\u001b[36m19\u001b[0m - \u001b[34m\u001b[1mxc=106.0 yc=407.0 w=11.0 h=11.0 zc=58.0 d=1.0\u001b[0m\n",
      "\u001b[32m2024-06-06 18:03:26.929\u001b[0m | \u001b[34m\u001b[1mDEBUG   \u001b[0m | \u001b[36m__main__\u001b[0m:\u001b[36m<module>\u001b[0m:\u001b[36m19\u001b[0m - \u001b[34m\u001b[1mxc=176.0 yc=409.0 w=9.0 h=7.0 zc=61.0 d=1.0\u001b[0m\n",
      "\u001b[32m2024-06-06 18:03:27.040\u001b[0m | \u001b[34m\u001b[1mDEBUG   \u001b[0m | \u001b[36m__main__\u001b[0m:\u001b[36m<module>\u001b[0m:\u001b[36m19\u001b[0m - \u001b[34m\u001b[1mxc=344.0 yc=423.0 w=9.0 h=7.0 zc=52.0 d=1.0\u001b[0m\n",
      "\u001b[32m2024-06-06 18:03:27.149\u001b[0m | \u001b[34m\u001b[1mDEBUG   \u001b[0m | \u001b[36m__main__\u001b[0m:\u001b[36m<module>\u001b[0m:\u001b[36m19\u001b[0m - \u001b[34m\u001b[1mxc=370.5 yc=425.0 w=10.0 h=11.0 zc=53.0 d=1.0\u001b[0m\n",
      "\u001b[32m2024-06-06 18:03:27.260\u001b[0m | \u001b[34m\u001b[1mDEBUG   \u001b[0m | \u001b[36m__main__\u001b[0m:\u001b[36m<module>\u001b[0m:\u001b[36m19\u001b[0m - \u001b[34m\u001b[1mxc=71.0 yc=305.0 w=9.0 h=7.0 zc=69.0 d=1.0\u001b[0m\n",
      "\u001b[32m2024-06-06 18:03:27.372\u001b[0m | \u001b[34m\u001b[1mDEBUG   \u001b[0m | \u001b[36m__main__\u001b[0m:\u001b[36m<module>\u001b[0m:\u001b[36m19\u001b[0m - \u001b[34m\u001b[1mxc=464.0 yc=300.5 w=9.0 h=10.0 zc=52.0 d=1.0\u001b[0m\n",
      "\u001b[32m2024-06-06 18:03:28.804\u001b[0m | \u001b[1mINFO    \u001b[0m | \u001b[36m__main__\u001b[0m:\u001b[36m<module>\u001b[0m:\u001b[36m38\u001b[0m - \u001b[1m37-1.3.6.1.4.1.55648.2.321106680472263727996118168292818910647-7\u001b[0m\n",
      "\u001b[32m2024-06-06 18:03:34.494\u001b[0m | \u001b[34m\u001b[1mDEBUG   \u001b[0m | \u001b[36m__main__\u001b[0m:\u001b[36m<module>\u001b[0m:\u001b[36m19\u001b[0m - \u001b[34m\u001b[1mxc=153.5 yc=211.5 w=156.0 h=136.0 zc=53.5 d=28.0\u001b[0m\n",
      "\u001b[32m2024-06-06 18:03:34.589\u001b[0m | \u001b[34m\u001b[1mDEBUG   \u001b[0m | \u001b[36m__main__\u001b[0m:\u001b[36m<module>\u001b[0m:\u001b[36m19\u001b[0m - \u001b[34m\u001b[1mxc=209.5 yc=347.5 w=170.0 h=146.0 zc=90.5 d=14.0\u001b[0m\n",
      "\u001b[32m2024-06-06 18:03:35.607\u001b[0m | \u001b[1mINFO    \u001b[0m | \u001b[36m__main__\u001b[0m:\u001b[36m<module>\u001b[0m:\u001b[36m38\u001b[0m - \u001b[1m38-1.3.6.1.4.1.55648.2.326729318498127237001365961725142109028-2\u001b[0m\n",
      "\u001b[32m2024-06-06 18:03:41.940\u001b[0m | \u001b[34m\u001b[1mDEBUG   \u001b[0m | \u001b[36m__main__\u001b[0m:\u001b[36m<module>\u001b[0m:\u001b[36m19\u001b[0m - \u001b[34m\u001b[1mxc=359.0 yc=386.0 w=79.0 h=67.0 zc=70.0 d=9.0\u001b[0m\n",
      "\u001b[32m2024-06-06 18:03:42.092\u001b[0m | \u001b[34m\u001b[1mDEBUG   \u001b[0m | \u001b[36m__main__\u001b[0m:\u001b[36m<module>\u001b[0m:\u001b[36m19\u001b[0m - \u001b[34m\u001b[1mxc=171.0 yc=179.0 w=7.0 h=5.0 zc=72.0 d=1.0\u001b[0m\n",
      "\u001b[32m2024-06-06 18:03:43.292\u001b[0m | \u001b[1mINFO    \u001b[0m | \u001b[36m__main__\u001b[0m:\u001b[36m<module>\u001b[0m:\u001b[36m38\u001b[0m - \u001b[1m39-1.3.6.1.4.1.55648.2.328001131576821674869133256880548543619-2\u001b[0m\n",
      "\u001b[32m2024-06-06 18:03:49.321\u001b[0m | \u001b[34m\u001b[1mDEBUG   \u001b[0m | \u001b[36m__main__\u001b[0m:\u001b[36m<module>\u001b[0m:\u001b[36m19\u001b[0m - \u001b[34m\u001b[1mxc=342.0 yc=327.0 w=51.0 h=43.0 zc=92.0 d=9.0\u001b[0m\n",
      "\u001b[32m2024-06-06 18:03:49.441\u001b[0m | \u001b[34m\u001b[1mDEBUG   \u001b[0m | \u001b[36m__main__\u001b[0m:\u001b[36m<module>\u001b[0m:\u001b[36m19\u001b[0m - \u001b[34m\u001b[1mxc=378.0 yc=245.5 w=97.0 h=68.0 zc=105.0 d=3.0\u001b[0m\n",
      "\u001b[32m2024-06-06 18:03:50.789\u001b[0m | \u001b[1mINFO    \u001b[0m | \u001b[36m__main__\u001b[0m:\u001b[36m<module>\u001b[0m:\u001b[36m38\u001b[0m - \u001b[1m40-1.3.6.1.4.1.55648.2.330611807380587722296478303921682084377-2\u001b[0m\n"
     ]
    },
    {
     "name": "stderr",
     "output_type": "stream",
     "text": [
      "\u001b[32m2024-06-06 18:03:55.533\u001b[0m | \u001b[34m\u001b[1mDEBUG   \u001b[0m | \u001b[36m__main__\u001b[0m:\u001b[36m<module>\u001b[0m:\u001b[36m19\u001b[0m - \u001b[34m\u001b[1mxc=401.5 yc=280.5 w=66.0 h=76.0 zc=36.0 d=9.0\u001b[0m\n",
      "\u001b[32m2024-06-06 18:03:56.461\u001b[0m | \u001b[1mINFO    \u001b[0m | \u001b[36m__main__\u001b[0m:\u001b[36m<module>\u001b[0m:\u001b[36m38\u001b[0m - \u001b[1m41-1.3.6.1.4.1.55648.2.338585781052707906137196772154985930528-1\u001b[0m\n",
      "\u001b[32m2024-06-06 18:04:02.842\u001b[0m | \u001b[34m\u001b[1mDEBUG   \u001b[0m | \u001b[36m__main__\u001b[0m:\u001b[36m<module>\u001b[0m:\u001b[36m19\u001b[0m - \u001b[34m\u001b[1mxc=178.5 yc=235.5 w=72.0 h=62.0 zc=53.5 d=16.0\u001b[0m\n",
      "\u001b[32m2024-06-06 18:04:03.679\u001b[0m | \u001b[1mINFO    \u001b[0m | \u001b[36m__main__\u001b[0m:\u001b[36m<module>\u001b[0m:\u001b[36m38\u001b[0m - \u001b[1m42-1.3.6.1.4.1.55648.2.362212079136922376613871919623401530515-1\u001b[0m\n",
      "\u001b[32m2024-06-06 18:04:07.405\u001b[0m | \u001b[34m\u001b[1mDEBUG   \u001b[0m | \u001b[36m__main__\u001b[0m:\u001b[36m<module>\u001b[0m:\u001b[36m19\u001b[0m - \u001b[34m\u001b[1mxc=383.0 yc=202.0 w=129.0 h=153.0 zc=61.0 d=25.0\u001b[0m\n",
      "\u001b[32m2024-06-06 18:04:08.616\u001b[0m | \u001b[1mINFO    \u001b[0m | \u001b[36m__main__\u001b[0m:\u001b[36m<module>\u001b[0m:\u001b[36m38\u001b[0m - \u001b[1m43-1.3.6.1.4.1.55648.2.377569702146349227046428196539719694413-1\u001b[0m\n",
      "\u001b[32m2024-06-06 18:04:12.398\u001b[0m | \u001b[34m\u001b[1mDEBUG   \u001b[0m | \u001b[36m__main__\u001b[0m:\u001b[36m<module>\u001b[0m:\u001b[36m19\u001b[0m - \u001b[34m\u001b[1mxc=345.0 yc=263.0 w=29.0 h=63.0 zc=60.0 d=3.0\u001b[0m\n",
      "\u001b[32m2024-06-06 18:04:13.001\u001b[0m | \u001b[1mINFO    \u001b[0m | \u001b[36m__main__\u001b[0m:\u001b[36m<module>\u001b[0m:\u001b[36m38\u001b[0m - \u001b[1m44-1.3.6.1.4.1.55648.2.37875457283651965956213552964134139891-1\u001b[0m\n",
      "\u001b[32m2024-06-06 18:04:18.746\u001b[0m | \u001b[34m\u001b[1mDEBUG   \u001b[0m | \u001b[36m__main__\u001b[0m:\u001b[36m<module>\u001b[0m:\u001b[36m19\u001b[0m - \u001b[34m\u001b[1mxc=175.5 yc=234.5 w=104.0 h=100.0 zc=52.5 d=26.0\u001b[0m\n",
      "\u001b[32m2024-06-06 18:04:20.185\u001b[0m | \u001b[1mINFO    \u001b[0m | \u001b[36m__main__\u001b[0m:\u001b[36m<module>\u001b[0m:\u001b[36m38\u001b[0m - \u001b[1m45-1.3.6.1.4.1.55648.2.385422088289039757432636636308871261126-1\u001b[0m\n",
      "\u001b[32m2024-06-06 18:04:25.167\u001b[0m | \u001b[34m\u001b[1mDEBUG   \u001b[0m | \u001b[36m__main__\u001b[0m:\u001b[36m<module>\u001b[0m:\u001b[36m19\u001b[0m - \u001b[34m\u001b[1mxc=156.0 yc=317.0 w=141.0 h=117.0 zc=81.0 d=27.0\u001b[0m\n",
      "\u001b[32m2024-06-06 18:04:25.270\u001b[0m | \u001b[34m\u001b[1mDEBUG   \u001b[0m | \u001b[36m__main__\u001b[0m:\u001b[36m<module>\u001b[0m:\u001b[36m19\u001b[0m - \u001b[34m\u001b[1mxc=132.0 yc=184.0 w=11.0 h=11.0 zc=84.0 d=3.0\u001b[0m\n",
      "\u001b[32m2024-06-06 18:04:25.372\u001b[0m | \u001b[34m\u001b[1mDEBUG   \u001b[0m | \u001b[36m__main__\u001b[0m:\u001b[36m<module>\u001b[0m:\u001b[36m19\u001b[0m - \u001b[34m\u001b[1mxc=89.5 yc=251.5 w=24.0 h=24.0 zc=82.0 d=5.0\u001b[0m\n",
      "\u001b[32m2024-06-06 18:04:25.473\u001b[0m | \u001b[34m\u001b[1mDEBUG   \u001b[0m | \u001b[36m__main__\u001b[0m:\u001b[36m<module>\u001b[0m:\u001b[36m19\u001b[0m - \u001b[34m\u001b[1mxc=173.5 yc=141.0 w=24.0 h=19.0 zc=80.0 d=3.0\u001b[0m\n",
      "\u001b[32m2024-06-06 18:04:25.573\u001b[0m | \u001b[34m\u001b[1mDEBUG   \u001b[0m | \u001b[36m__main__\u001b[0m:\u001b[36m<module>\u001b[0m:\u001b[36m19\u001b[0m - \u001b[34m\u001b[1mxc=181.0 yc=151.5 w=15.0 h=16.0 zc=80.5 d=4.0\u001b[0m\n",
      "\u001b[32m2024-06-06 18:04:25.674\u001b[0m | \u001b[34m\u001b[1mDEBUG   \u001b[0m | \u001b[36m__main__\u001b[0m:\u001b[36m<module>\u001b[0m:\u001b[36m19\u001b[0m - \u001b[34m\u001b[1mxc=161.5 yc=240.0 w=10.0 h=11.0 zc=69.5 d=2.0\u001b[0m\n",
      "\u001b[32m2024-06-06 18:04:26.844\u001b[0m | \u001b[1mINFO    \u001b[0m | \u001b[36m__main__\u001b[0m:\u001b[36m<module>\u001b[0m:\u001b[36m38\u001b[0m - \u001b[1m46-1.3.6.1.4.1.55648.2.398813505271667220614755565069960838941-6\u001b[0m\n",
      "\u001b[32m2024-06-06 18:04:32.057\u001b[0m | \u001b[34m\u001b[1mDEBUG   \u001b[0m | \u001b[36m__main__\u001b[0m:\u001b[36m<module>\u001b[0m:\u001b[36m19\u001b[0m - \u001b[34m\u001b[1mxc=336.0 yc=330.0 w=43.0 h=45.0 zc=91.0 d=9.0\u001b[0m\n",
      "\u001b[32m2024-06-06 18:04:32.939\u001b[0m | \u001b[1mINFO    \u001b[0m | \u001b[36m__main__\u001b[0m:\u001b[36m<module>\u001b[0m:\u001b[36m38\u001b[0m - \u001b[1m47-1.3.6.1.4.1.55648.2.406191144491095002185066852332523814601-1\u001b[0m\n",
      "WARNING: In /tmp/SimpleITK-build/ITK-prefix/include/ITK-5.2/itkImageSeriesReader.hxx, line 480\n",
      "ImageSeriesReader (0x46e4fc30): Non uniform sampling or missing slices detected,  maximum nonuniformity:3.27764\n",
      "\n",
      "\u001b[32m2024-06-06 18:04:40.729\u001b[0m | \u001b[34m\u001b[1mDEBUG   \u001b[0m | \u001b[36m__main__\u001b[0m:\u001b[36m<module>\u001b[0m:\u001b[36m19\u001b[0m - \u001b[34m\u001b[1mxc=112.0 yc=326.5 w=13.0 h=16.0 zc=168.5 d=2.0\u001b[0m\n",
      "\u001b[32m2024-06-06 18:04:40.889\u001b[0m | \u001b[34m\u001b[1mDEBUG   \u001b[0m | \u001b[36m__main__\u001b[0m:\u001b[36m<module>\u001b[0m:\u001b[36m19\u001b[0m - \u001b[34m\u001b[1mxc=377.0 yc=339.0 w=67.0 h=53.0 zc=160.0 d=5.0\u001b[0m\n",
      "\u001b[32m2024-06-06 18:04:41.049\u001b[0m | \u001b[34m\u001b[1mDEBUG   \u001b[0m | \u001b[36m__main__\u001b[0m:\u001b[36m<module>\u001b[0m:\u001b[36m19\u001b[0m - \u001b[34m\u001b[1mxc=351.0 yc=355.5 w=73.0 h=52.0 zc=143.5 d=22.0\u001b[0m\n",
      "\u001b[32m2024-06-06 18:04:41.209\u001b[0m | \u001b[34m\u001b[1mDEBUG   \u001b[0m | \u001b[36m__main__\u001b[0m:\u001b[36m<module>\u001b[0m:\u001b[36m19\u001b[0m - \u001b[34m\u001b[1mxc=378.0 yc=275.0 w=121.0 h=55.0 zc=160.0 d=9.0\u001b[0m\n",
      "\u001b[32m2024-06-06 18:04:42.942\u001b[0m | \u001b[1mINFO    \u001b[0m | \u001b[36m__main__\u001b[0m:\u001b[36m<module>\u001b[0m:\u001b[36m38\u001b[0m - \u001b[1m48-1.3.6.1.4.1.55648.2.409517714620847643600242656673948715223-4\u001b[0m\n",
      "\u001b[32m2024-06-06 18:04:47.179\u001b[0m | \u001b[34m\u001b[1mDEBUG   \u001b[0m | \u001b[36m__main__\u001b[0m:\u001b[36m<module>\u001b[0m:\u001b[36m19\u001b[0m - \u001b[34m\u001b[1mxc=349.5 yc=259.5 w=98.0 h=76.0 zc=51.0 d=35.0\u001b[0m\n",
      "\u001b[32m2024-06-06 18:04:47.275\u001b[0m | \u001b[34m\u001b[1mDEBUG   \u001b[0m | \u001b[36m__main__\u001b[0m:\u001b[36m<module>\u001b[0m:\u001b[36m19\u001b[0m - \u001b[34m\u001b[1mxc=332.0 yc=262.0 w=21.0 h=21.0 zc=92.5 d=4.0\u001b[0m\n",
      "\u001b[32m2024-06-06 18:04:47.368\u001b[0m | \u001b[34m\u001b[1mDEBUG   \u001b[0m | \u001b[36m__main__\u001b[0m:\u001b[36m<module>\u001b[0m:\u001b[36m19\u001b[0m - \u001b[34m\u001b[1mxc=113.0 yc=290.0 w=17.0 h=13.0 zc=63.5 d=4.0\u001b[0m\n",
      "\u001b[32m2024-06-06 18:04:47.463\u001b[0m | \u001b[34m\u001b[1mDEBUG   \u001b[0m | \u001b[36m__main__\u001b[0m:\u001b[36m<module>\u001b[0m:\u001b[36m19\u001b[0m - \u001b[34m\u001b[1mxc=106.5 yc=307.5 w=18.0 h=16.0 zc=59.0 d=3.0\u001b[0m\n",
      "\u001b[32m2024-06-06 18:04:47.585\u001b[0m | \u001b[34m\u001b[1mDEBUG   \u001b[0m | \u001b[36m__main__\u001b[0m:\u001b[36m<module>\u001b[0m:\u001b[36m19\u001b[0m - \u001b[34m\u001b[1mxc=189.0 yc=256.5 w=15.0 h=18.0 zc=51.5 d=4.0\u001b[0m\n",
      "\u001b[32m2024-06-06 18:04:47.692\u001b[0m | \u001b[34m\u001b[1mDEBUG   \u001b[0m | \u001b[36m__main__\u001b[0m:\u001b[36m<module>\u001b[0m:\u001b[36m19\u001b[0m - \u001b[34m\u001b[1mxc=143.5 yc=240.0 w=16.0 h=15.0 zc=50.0 d=3.0\u001b[0m\n",
      "\u001b[32m2024-06-06 18:04:47.786\u001b[0m | \u001b[34m\u001b[1mDEBUG   \u001b[0m | \u001b[36m__main__\u001b[0m:\u001b[36m<module>\u001b[0m:\u001b[36m19\u001b[0m - \u001b[34m\u001b[1mxc=143.5 yc=209.0 w=12.0 h=11.0 zc=59.0 d=1.0\u001b[0m\n",
      "\u001b[32m2024-06-06 18:04:47.880\u001b[0m | \u001b[34m\u001b[1mDEBUG   \u001b[0m | \u001b[36m__main__\u001b[0m:\u001b[36m<module>\u001b[0m:\u001b[36m19\u001b[0m - \u001b[34m\u001b[1mxc=146.0 yc=209.0 w=17.0 h=19.0 zc=33.0 d=3.0\u001b[0m\n",
      "\u001b[32m2024-06-06 18:04:47.975\u001b[0m | \u001b[34m\u001b[1mDEBUG   \u001b[0m | \u001b[36m__main__\u001b[0m:\u001b[36m<module>\u001b[0m:\u001b[36m19\u001b[0m - \u001b[34m\u001b[1mxc=345.5 yc=173.5 w=24.0 h=20.0 zc=85.0 d=3.0\u001b[0m\n",
      "\u001b[32m2024-06-06 18:04:48.069\u001b[0m | \u001b[34m\u001b[1mDEBUG   \u001b[0m | \u001b[36m__main__\u001b[0m:\u001b[36m<module>\u001b[0m:\u001b[36m19\u001b[0m - \u001b[34m\u001b[1mxc=165.0 yc=253.5 w=11.0 h=12.0 zc=59.5 d=2.0\u001b[0m\n",
      "\u001b[32m2024-06-06 18:04:48.987\u001b[0m | \u001b[1mINFO    \u001b[0m | \u001b[36m__main__\u001b[0m:\u001b[36m<module>\u001b[0m:\u001b[36m38\u001b[0m - \u001b[1m49-1.3.6.1.4.1.55648.2.410433639053503335485769479726843590620-10\u001b[0m\n",
      "\u001b[32m2024-06-06 18:04:56.502\u001b[0m | \u001b[34m\u001b[1mDEBUG   \u001b[0m | \u001b[36m__main__\u001b[0m:\u001b[36m<module>\u001b[0m:\u001b[36m19\u001b[0m - \u001b[34m\u001b[1mxc=383.0 yc=236.0 w=23.0 h=31.0 zc=97.0 d=3.0\u001b[0m\n",
      "\u001b[32m2024-06-06 18:04:56.631\u001b[0m | \u001b[34m\u001b[1mDEBUG   \u001b[0m | \u001b[36m__main__\u001b[0m:\u001b[36m<module>\u001b[0m:\u001b[36m19\u001b[0m - \u001b[34m\u001b[1mxc=428.5 yc=209.0 w=38.0 h=37.0 zc=113.5 d=6.0\u001b[0m\n",
      "\u001b[32m2024-06-06 18:04:56.761\u001b[0m | \u001b[34m\u001b[1mDEBUG   \u001b[0m | \u001b[36m__main__\u001b[0m:\u001b[36m<module>\u001b[0m:\u001b[36m19\u001b[0m - \u001b[34m\u001b[1mxc=380.5 yc=212.5 w=58.0 h=52.0 zc=112.0 d=11.0\u001b[0m\n",
      "\u001b[32m2024-06-06 18:04:58.400\u001b[0m | \u001b[1mINFO    \u001b[0m | \u001b[36m__main__\u001b[0m:\u001b[36m<module>\u001b[0m:\u001b[36m38\u001b[0m - \u001b[1m50-1.3.6.1.4.1.55648.2.411013646634862919520719065395722969721-3\u001b[0m\n",
      "\u001b[32m2024-06-06 18:05:06.684\u001b[0m | \u001b[34m\u001b[1mDEBUG   \u001b[0m | \u001b[36m__main__\u001b[0m:\u001b[36m<module>\u001b[0m:\u001b[36m19\u001b[0m - \u001b[34m\u001b[1mxc=165.0 yc=252.0 w=79.0 h=51.0 zc=69.5 d=14.0\u001b[0m\n",
      "\u001b[32m2024-06-06 18:05:08.341\u001b[0m | \u001b[1mINFO    \u001b[0m | \u001b[36m__main__\u001b[0m:\u001b[36m<module>\u001b[0m:\u001b[36m38\u001b[0m - \u001b[1m51-1.3.6.1.4.1.55648.2.423380761810216181675821577497171963414-1\u001b[0m\n",
      "\u001b[32m2024-06-06 18:05:12.513\u001b[0m | \u001b[34m\u001b[1mDEBUG   \u001b[0m | \u001b[36m__main__\u001b[0m:\u001b[36m<module>\u001b[0m:\u001b[36m19\u001b[0m - \u001b[34m\u001b[1mxc=399.5 yc=295.5 w=84.0 h=84.0 zc=29.0 d=23.0\u001b[0m\n",
      "\u001b[32m2024-06-06 18:05:13.703\u001b[0m | \u001b[1mINFO    \u001b[0m | \u001b[36m__main__\u001b[0m:\u001b[36m<module>\u001b[0m:\u001b[36m38\u001b[0m - \u001b[1m52-1.3.6.1.4.1.55648.2.42556631269034707722720633207227381406-1\u001b[0m\n",
      "\u001b[32m2024-06-06 18:05:17.747\u001b[0m | \u001b[34m\u001b[1mDEBUG   \u001b[0m | \u001b[36m__main__\u001b[0m:\u001b[36m<module>\u001b[0m:\u001b[36m19\u001b[0m - \u001b[34m\u001b[1mxc=338.5 yc=306.5 w=34.0 h=32.0 zc=57.0 d=5.0\u001b[0m\n",
      "\u001b[32m2024-06-06 18:05:17.835\u001b[0m | \u001b[34m\u001b[1mDEBUG   \u001b[0m | \u001b[36m__main__\u001b[0m:\u001b[36m<module>\u001b[0m:\u001b[36m19\u001b[0m - \u001b[34m\u001b[1mxc=146.0 yc=244.0 w=57.0 h=19.0 zc=60.5 d=22.0\u001b[0m\n",
      "\u001b[32m2024-06-06 18:05:19.318\u001b[0m | \u001b[1mINFO    \u001b[0m | \u001b[36m__main__\u001b[0m:\u001b[36m<module>\u001b[0m:\u001b[36m38\u001b[0m - \u001b[1m53-1.3.6.1.4.1.55648.2.453240928423288268209488221640882036437-2\u001b[0m\n",
      "\u001b[32m2024-06-06 18:05:22.980\u001b[0m | \u001b[34m\u001b[1mDEBUG   \u001b[0m | \u001b[36m__main__\u001b[0m:\u001b[36m<module>\u001b[0m:\u001b[36m19\u001b[0m - \u001b[34m\u001b[1mxc=327.0 yc=280.0 w=35.0 h=61.0 zc=61.5 d=10.0\u001b[0m\n"
     ]
    },
    {
     "name": "stderr",
     "output_type": "stream",
     "text": [
      "\u001b[32m2024-06-06 18:05:23.984\u001b[0m | \u001b[1mINFO    \u001b[0m | \u001b[36m__main__\u001b[0m:\u001b[36m<module>\u001b[0m:\u001b[36m38\u001b[0m - \u001b[1m54-1.3.6.1.4.1.55648.2.461735944259880166723641619711753683254-1\u001b[0m\n",
      "\u001b[32m2024-06-06 18:05:28.641\u001b[0m | \u001b[34m\u001b[1mDEBUG   \u001b[0m | \u001b[36m__main__\u001b[0m:\u001b[36m<module>\u001b[0m:\u001b[36m19\u001b[0m - \u001b[34m\u001b[1mxc=345.5 yc=244.5 w=8.0 h=10.0 zc=68.0 d=1.0\u001b[0m\n",
      "\u001b[32m2024-06-06 18:05:29.674\u001b[0m | \u001b[1mINFO    \u001b[0m | \u001b[36m__main__\u001b[0m:\u001b[36m<module>\u001b[0m:\u001b[36m38\u001b[0m - \u001b[1m55-1.3.6.1.4.1.55648.2.463215944939088383007225743851823610137-1\u001b[0m\n",
      "\u001b[32m2024-06-06 18:05:33.524\u001b[0m | \u001b[34m\u001b[1mDEBUG   \u001b[0m | \u001b[36m__main__\u001b[0m:\u001b[36m<module>\u001b[0m:\u001b[36m19\u001b[0m - \u001b[34m\u001b[1mxc=143.0 yc=268.5 w=99.0 h=68.0 zc=54.0 d=21.0\u001b[0m\n",
      "\u001b[32m2024-06-06 18:05:34.641\u001b[0m | \u001b[1mINFO    \u001b[0m | \u001b[36m__main__\u001b[0m:\u001b[36m<module>\u001b[0m:\u001b[36m38\u001b[0m - \u001b[1m56-1.3.6.1.4.1.55648.2.48225853883015172438410918043870215780-1\u001b[0m\n",
      "\u001b[32m2024-06-06 18:05:38.194\u001b[0m | \u001b[34m\u001b[1mDEBUG   \u001b[0m | \u001b[36m__main__\u001b[0m:\u001b[36m<module>\u001b[0m:\u001b[36m19\u001b[0m - \u001b[34m\u001b[1mxc=265.0 yc=230.0 w=293.0 h=303.0 zc=44.0 d=21.0\u001b[0m\n",
      "\u001b[32m2024-06-06 18:05:39.054\u001b[0m | \u001b[1mINFO    \u001b[0m | \u001b[36m__main__\u001b[0m:\u001b[36m<module>\u001b[0m:\u001b[36m38\u001b[0m - \u001b[1m57-1.3.6.1.4.1.55648.2.484131623951883416421306038360803276686-1\u001b[0m\n",
      "\u001b[32m2024-06-06 18:05:45.167\u001b[0m | \u001b[34m\u001b[1mDEBUG   \u001b[0m | \u001b[36m__main__\u001b[0m:\u001b[36m<module>\u001b[0m:\u001b[36m19\u001b[0m - \u001b[34m\u001b[1mxc=344.0 yc=130.0 w=335.0 h=185.0 zc=110.0 d=3.0\u001b[0m\n",
      "\u001b[32m2024-06-06 18:05:45.278\u001b[0m | \u001b[34m\u001b[1mDEBUG   \u001b[0m | \u001b[36m__main__\u001b[0m:\u001b[36m<module>\u001b[0m:\u001b[36m19\u001b[0m - \u001b[34m\u001b[1mxc=202.0 yc=230.5 w=15.0 h=16.0 zc=109.0 d=1.0\u001b[0m\n",
      "\u001b[32m2024-06-06 18:05:45.390\u001b[0m | \u001b[34m\u001b[1mDEBUG   \u001b[0m | \u001b[36m__main__\u001b[0m:\u001b[36m<module>\u001b[0m:\u001b[36m19\u001b[0m - \u001b[34m\u001b[1mxc=218.0 yc=284.0 w=9.0 h=9.0 zc=105.0 d=1.0\u001b[0m\n",
      "\u001b[32m2024-06-06 18:05:45.502\u001b[0m | \u001b[34m\u001b[1mDEBUG   \u001b[0m | \u001b[36m__main__\u001b[0m:\u001b[36m<module>\u001b[0m:\u001b[36m19\u001b[0m - \u001b[34m\u001b[1mxc=325.0 yc=285.5 w=15.0 h=20.0 zc=92.0 d=3.0\u001b[0m\n",
      "\u001b[32m2024-06-06 18:05:45.616\u001b[0m | \u001b[34m\u001b[1mDEBUG   \u001b[0m | \u001b[36m__main__\u001b[0m:\u001b[36m<module>\u001b[0m:\u001b[36m19\u001b[0m - \u001b[34m\u001b[1mxc=320.0 yc=287.0 w=21.0 h=23.0 zc=96.5 d=4.0\u001b[0m\n",
      "\u001b[32m2024-06-06 18:05:46.642\u001b[0m | \u001b[1mINFO    \u001b[0m | \u001b[36m__main__\u001b[0m:\u001b[36m<module>\u001b[0m:\u001b[36m38\u001b[0m - \u001b[1m58-1.3.6.1.4.1.55648.2.487189485001716323571346293828796597360-5\u001b[0m\n",
      "\u001b[32m2024-06-06 18:05:50.532\u001b[0m | \u001b[34m\u001b[1mDEBUG   \u001b[0m | \u001b[36m__main__\u001b[0m:\u001b[36m<module>\u001b[0m:\u001b[36m19\u001b[0m - \u001b[34m\u001b[1mxc=151.0 yc=347.0 w=129.0 h=79.0 zc=39.0 d=13.0\u001b[0m\n",
      "\u001b[32m2024-06-06 18:05:51.256\u001b[0m | \u001b[1mINFO    \u001b[0m | \u001b[36m__main__\u001b[0m:\u001b[36m<module>\u001b[0m:\u001b[36m38\u001b[0m - \u001b[1m59-1.3.6.1.4.1.55648.2.491835746013519795110533687990965715530-1\u001b[0m\n",
      "\u001b[32m2024-06-06 18:05:54.990\u001b[0m | \u001b[34m\u001b[1mDEBUG   \u001b[0m | \u001b[36m__main__\u001b[0m:\u001b[36m<module>\u001b[0m:\u001b[36m19\u001b[0m - \u001b[34m\u001b[1mxc=356.5 yc=273.0 w=80.0 h=73.0 zc=57.5 d=26.0\u001b[0m\n",
      "\u001b[32m2024-06-06 18:05:55.087\u001b[0m | \u001b[34m\u001b[1mDEBUG   \u001b[0m | \u001b[36m__main__\u001b[0m:\u001b[36m<module>\u001b[0m:\u001b[36m19\u001b[0m - \u001b[34m\u001b[1mxc=410.0 yc=308.0 w=11.0 h=11.0 zc=80.0 d=3.0\u001b[0m\n",
      "\u001b[32m2024-06-06 18:05:55.184\u001b[0m | \u001b[34m\u001b[1mDEBUG   \u001b[0m | \u001b[36m__main__\u001b[0m:\u001b[36m<module>\u001b[0m:\u001b[36m19\u001b[0m - \u001b[34m\u001b[1mxc=155.0 yc=215.5 w=7.0 h=8.0 zc=64.5 d=2.0\u001b[0m\n",
      "\u001b[32m2024-06-06 18:05:55.280\u001b[0m | \u001b[34m\u001b[1mDEBUG   \u001b[0m | \u001b[36m__main__\u001b[0m:\u001b[36m<module>\u001b[0m:\u001b[36m19\u001b[0m - \u001b[34m\u001b[1mxc=155.0 yc=223.0 w=11.0 h=11.0 zc=45.5 d=2.0\u001b[0m\n",
      "\u001b[32m2024-06-06 18:05:55.377\u001b[0m | \u001b[34m\u001b[1mDEBUG   \u001b[0m | \u001b[36m__main__\u001b[0m:\u001b[36m<module>\u001b[0m:\u001b[36m19\u001b[0m - \u001b[34m\u001b[1mxc=340.5 yc=270.5 w=20.0 h=20.0 zc=95.5 d=4.0\u001b[0m\n",
      "\u001b[32m2024-06-06 18:05:56.104\u001b[0m | \u001b[1mINFO    \u001b[0m | \u001b[36m__main__\u001b[0m:\u001b[36m<module>\u001b[0m:\u001b[36m38\u001b[0m - \u001b[1m60-1.3.6.1.4.1.55648.2.503274698089283769921022488025959559151-5\u001b[0m\n",
      "\u001b[32m2024-06-06 18:06:01.887\u001b[0m | \u001b[34m\u001b[1mDEBUG   \u001b[0m | \u001b[36m__main__\u001b[0m:\u001b[36m<module>\u001b[0m:\u001b[36m19\u001b[0m - \u001b[34m\u001b[1mxc=145.0 yc=325.5 w=129.0 h=130.0 zc=82.5 d=28.0\u001b[0m\n",
      "\u001b[32m2024-06-06 18:06:02.996\u001b[0m | \u001b[1mINFO    \u001b[0m | \u001b[36m__main__\u001b[0m:\u001b[36m<module>\u001b[0m:\u001b[36m38\u001b[0m - \u001b[1m61-1.3.6.1.4.1.55648.2.504773200586410319693040872090923180329-1\u001b[0m\n",
      "\u001b[32m2024-06-06 18:06:07.963\u001b[0m | \u001b[34m\u001b[1mDEBUG   \u001b[0m | \u001b[36m__main__\u001b[0m:\u001b[36m<module>\u001b[0m:\u001b[36m19\u001b[0m - \u001b[34m\u001b[1mxc=177.5 yc=311.0 w=90.0 h=93.0 zc=78.5 d=22.0\u001b[0m\n",
      "\u001b[32m2024-06-06 18:06:08.070\u001b[0m | \u001b[34m\u001b[1mDEBUG   \u001b[0m | \u001b[36m__main__\u001b[0m:\u001b[36m<module>\u001b[0m:\u001b[36m19\u001b[0m - \u001b[34m\u001b[1mxc=160.5 yc=195.0 w=110.0 h=109.0 zc=68.0 d=25.0\u001b[0m\n",
      "\u001b[32m2024-06-06 18:06:09.159\u001b[0m | \u001b[1mINFO    \u001b[0m | \u001b[36m__main__\u001b[0m:\u001b[36m<module>\u001b[0m:\u001b[36m38\u001b[0m - \u001b[1m62-1.3.6.1.4.1.55648.2.520599592399152471731589636347375263506-2\u001b[0m\n",
      "\u001b[32m2024-06-06 18:06:15.196\u001b[0m | \u001b[34m\u001b[1mDEBUG   \u001b[0m | \u001b[36m__main__\u001b[0m:\u001b[36m<module>\u001b[0m:\u001b[36m19\u001b[0m - \u001b[34m\u001b[1mxc=144.5 yc=213.5 w=132.0 h=126.0 zc=61.0 d=13.0\u001b[0m\n",
      "\u001b[32m2024-06-06 18:06:15.288\u001b[0m | \u001b[34m\u001b[1mDEBUG   \u001b[0m | \u001b[36m__main__\u001b[0m:\u001b[36m<module>\u001b[0m:\u001b[36m19\u001b[0m - \u001b[34m\u001b[1mxc=128.5 yc=224.5 w=14.0 h=14.0 zc=86.0 d=3.0\u001b[0m\n",
      "\u001b[32m2024-06-06 18:06:15.377\u001b[0m | \u001b[34m\u001b[1mDEBUG   \u001b[0m | \u001b[36m__main__\u001b[0m:\u001b[36m<module>\u001b[0m:\u001b[36m19\u001b[0m - \u001b[34m\u001b[1mxc=440.0 yc=284.0 w=13.0 h=9.0 zc=69.0 d=3.0\u001b[0m\n",
      "\u001b[32m2024-06-06 18:06:15.465\u001b[0m | \u001b[34m\u001b[1mDEBUG   \u001b[0m | \u001b[36m__main__\u001b[0m:\u001b[36m<module>\u001b[0m:\u001b[36m19\u001b[0m - \u001b[34m\u001b[1mxc=368.5 yc=322.0 w=14.0 h=13.0 zc=94.0 d=3.0\u001b[0m\n",
      "\u001b[32m2024-06-06 18:06:15.552\u001b[0m | \u001b[34m\u001b[1mDEBUG   \u001b[0m | \u001b[36m__main__\u001b[0m:\u001b[36m<module>\u001b[0m:\u001b[36m19\u001b[0m - \u001b[34m\u001b[1mxc=166.5 yc=314.5 w=12.0 h=10.0 zc=89.0 d=1.0\u001b[0m\n",
      "\u001b[32m2024-06-06 18:06:15.639\u001b[0m | \u001b[34m\u001b[1mDEBUG   \u001b[0m | \u001b[36m__main__\u001b[0m:\u001b[36m<module>\u001b[0m:\u001b[36m19\u001b[0m - \u001b[34m\u001b[1mxc=143.0 yc=271.5 w=15.0 h=12.0 zc=89.0 d=3.0\u001b[0m\n",
      "\u001b[32m2024-06-06 18:06:15.729\u001b[0m | \u001b[34m\u001b[1mDEBUG   \u001b[0m | \u001b[36m__main__\u001b[0m:\u001b[36m<module>\u001b[0m:\u001b[36m19\u001b[0m - \u001b[34m\u001b[1mxc=176.0 yc=166.0 w=13.0 h=11.0 zc=80.0 d=3.0\u001b[0m\n",
      "\u001b[32m2024-06-06 18:06:15.819\u001b[0m | \u001b[34m\u001b[1mDEBUG   \u001b[0m | \u001b[36m__main__\u001b[0m:\u001b[36m<module>\u001b[0m:\u001b[36m19\u001b[0m - \u001b[34m\u001b[1mxc=445.0 yc=317.5 w=11.0 h=14.0 zc=29.5 d=2.0\u001b[0m\n",
      "\u001b[32m2024-06-06 18:06:16.796\u001b[0m | \u001b[1mINFO    \u001b[0m | \u001b[36m__main__\u001b[0m:\u001b[36m<module>\u001b[0m:\u001b[36m38\u001b[0m - \u001b[1m63-1.3.6.1.4.1.55648.2.521142208623157085324153912271396042742-8\u001b[0m\n",
      "\u001b[32m2024-06-06 18:06:22.107\u001b[0m | \u001b[34m\u001b[1mDEBUG   \u001b[0m | \u001b[36m__main__\u001b[0m:\u001b[36m<module>\u001b[0m:\u001b[36m19\u001b[0m - \u001b[34m\u001b[1mxc=400.5 yc=270.5 w=78.0 h=64.0 zc=50.5 d=16.0\u001b[0m\n",
      "\u001b[32m2024-06-06 18:06:23.289\u001b[0m | \u001b[1mINFO    \u001b[0m | \u001b[36m__main__\u001b[0m:\u001b[36m<module>\u001b[0m:\u001b[36m38\u001b[0m - \u001b[1m64-1.3.6.1.4.1.55648.2.528279630680898302001514336297634018560-1\u001b[0m\n",
      "\u001b[32m2024-06-06 18:06:30.020\u001b[0m | \u001b[34m\u001b[1mDEBUG   \u001b[0m | \u001b[36m__main__\u001b[0m:\u001b[36m<module>\u001b[0m:\u001b[36m19\u001b[0m - \u001b[34m\u001b[1mxc=163.5 yc=207.5 w=98.0 h=94.0 zc=71.0 d=9.0\u001b[0m\n",
      "\u001b[32m2024-06-06 18:06:30.127\u001b[0m | \u001b[34m\u001b[1mDEBUG   \u001b[0m | \u001b[36m__main__\u001b[0m:\u001b[36m<module>\u001b[0m:\u001b[36m19\u001b[0m - \u001b[34m\u001b[1mxc=337.5 yc=306.5 w=10.0 h=10.0 zc=106.5 d=2.0\u001b[0m\n",
      "\u001b[32m2024-06-06 18:06:30.233\u001b[0m | \u001b[34m\u001b[1mDEBUG   \u001b[0m | \u001b[36m__main__\u001b[0m:\u001b[36m<module>\u001b[0m:\u001b[36m19\u001b[0m - \u001b[34m\u001b[1mxc=183.5 yc=303.0 w=10.0 h=13.0 zc=101.5 d=2.0\u001b[0m\n",
      "\u001b[32m2024-06-06 18:06:30.338\u001b[0m | \u001b[34m\u001b[1mDEBUG   \u001b[0m | \u001b[36m__main__\u001b[0m:\u001b[36m<module>\u001b[0m:\u001b[36m19\u001b[0m - \u001b[34m\u001b[1mxc=165.0 yc=263.0 w=11.0 h=9.0 zc=100.5 d=2.0\u001b[0m\n",
      "\u001b[32m2024-06-06 18:06:30.443\u001b[0m | \u001b[34m\u001b[1mDEBUG   \u001b[0m | \u001b[36m__main__\u001b[0m:\u001b[36m<module>\u001b[0m:\u001b[36m19\u001b[0m - \u001b[34m\u001b[1mxc=213.5 yc=292.5 w=14.0 h=10.0 zc=103.0 d=1.0\u001b[0m\n",
      "\u001b[32m2024-06-06 18:06:30.548\u001b[0m | \u001b[34m\u001b[1mDEBUG   \u001b[0m | \u001b[36m__main__\u001b[0m:\u001b[36m<module>\u001b[0m:\u001b[36m19\u001b[0m - \u001b[34m\u001b[1mxc=397.5 yc=278.5 w=10.0 h=10.0 zc=81.0 d=3.0\u001b[0m\n",
      "\u001b[32m2024-06-06 18:06:30.653\u001b[0m | \u001b[34m\u001b[1mDEBUG   \u001b[0m | \u001b[36m__main__\u001b[0m:\u001b[36m<module>\u001b[0m:\u001b[36m19\u001b[0m - \u001b[34m\u001b[1mxc=119.5 yc=280.5 w=8.0 h=6.0 zc=83.0 d=1.0\u001b[0m\n",
      "\u001b[32m2024-06-06 18:06:30.757\u001b[0m | \u001b[34m\u001b[1mDEBUG   \u001b[0m | \u001b[36m__main__\u001b[0m:\u001b[36m<module>\u001b[0m:\u001b[36m19\u001b[0m - \u001b[34m\u001b[1mxc=349.0 yc=184.0 w=7.0 h=7.0 zc=77.0 d=1.0\u001b[0m\n",
      "\u001b[32m2024-06-06 18:06:30.863\u001b[0m | \u001b[34m\u001b[1mDEBUG   \u001b[0m | \u001b[36m__main__\u001b[0m:\u001b[36m<module>\u001b[0m:\u001b[36m19\u001b[0m - \u001b[34m\u001b[1mxc=400.0 yc=313.5 w=9.0 h=10.0 zc=41.5 d=2.0\u001b[0m\n",
      "\u001b[32m2024-06-06 18:06:31.831\u001b[0m | \u001b[1mINFO    \u001b[0m | \u001b[36m__main__\u001b[0m:\u001b[36m<module>\u001b[0m:\u001b[36m38\u001b[0m - \u001b[1m65-1.3.6.1.4.1.55648.2.538518360722750165892016637563127172518-9\u001b[0m\n",
      "\u001b[32m2024-06-06 18:06:36.199\u001b[0m | \u001b[34m\u001b[1mDEBUG   \u001b[0m | \u001b[36m__main__\u001b[0m:\u001b[36m<module>\u001b[0m:\u001b[36m19\u001b[0m - \u001b[34m\u001b[1mxc=353.0 yc=244.0 w=81.0 h=109.0 zc=68.0 d=15.0\u001b[0m\n",
      "\u001b[32m2024-06-06 18:06:36.277\u001b[0m | \u001b[34m\u001b[1mDEBUG   \u001b[0m | \u001b[36m__main__\u001b[0m:\u001b[36m<module>\u001b[0m:\u001b[36m19\u001b[0m - \u001b[34m\u001b[1mxc=227.0 yc=301.0 w=57.0 h=51.0 zc=77.0 d=13.0\u001b[0m\n"
     ]
    },
    {
     "name": "stderr",
     "output_type": "stream",
     "text": [
      "\u001b[32m2024-06-06 18:06:36.350\u001b[0m | \u001b[34m\u001b[1mDEBUG   \u001b[0m | \u001b[36m__main__\u001b[0m:\u001b[36m<module>\u001b[0m:\u001b[36m19\u001b[0m - \u001b[34m\u001b[1mxc=146.5 yc=360.0 w=24.0 h=31.0 zc=39.0 d=9.0\u001b[0m\n",
      "\u001b[32m2024-06-06 18:06:36.424\u001b[0m | \u001b[34m\u001b[1mDEBUG   \u001b[0m | \u001b[36m__main__\u001b[0m:\u001b[36m<module>\u001b[0m:\u001b[36m19\u001b[0m - \u001b[34m\u001b[1mxc=165.0 yc=235.5 w=7.0 h=8.0 zc=78.0 d=1.0\u001b[0m\n",
      "\u001b[32m2024-06-06 18:06:36.500\u001b[0m | \u001b[34m\u001b[1mDEBUG   \u001b[0m | \u001b[36m__main__\u001b[0m:\u001b[36m<module>\u001b[0m:\u001b[36m19\u001b[0m - \u001b[34m\u001b[1mxc=376.0 yc=293.5 w=17.0 h=32.0 zc=76.0 d=5.0\u001b[0m\n",
      "\u001b[32m2024-06-06 18:06:36.572\u001b[0m | \u001b[34m\u001b[1mDEBUG   \u001b[0m | \u001b[36m__main__\u001b[0m:\u001b[36m<module>\u001b[0m:\u001b[36m19\u001b[0m - \u001b[34m\u001b[1mxc=140.0 yc=304.5 w=9.0 h=8.0 zc=73.5 d=2.0\u001b[0m\n",
      "\u001b[32m2024-06-06 18:06:36.647\u001b[0m | \u001b[34m\u001b[1mDEBUG   \u001b[0m | \u001b[36m__main__\u001b[0m:\u001b[36m<module>\u001b[0m:\u001b[36m19\u001b[0m - \u001b[34m\u001b[1mxc=142.0 yc=351.0 w=9.0 h=9.0 zc=65.5 d=2.0\u001b[0m\n",
      "\u001b[32m2024-06-06 18:06:36.721\u001b[0m | \u001b[34m\u001b[1mDEBUG   \u001b[0m | \u001b[36m__main__\u001b[0m:\u001b[36m<module>\u001b[0m:\u001b[36m19\u001b[0m - \u001b[34m\u001b[1mxc=355.0 yc=347.5 w=9.0 h=8.0 zc=70.5 d=2.0\u001b[0m\n",
      "\u001b[32m2024-06-06 18:06:36.797\u001b[0m | \u001b[34m\u001b[1mDEBUG   \u001b[0m | \u001b[36m__main__\u001b[0m:\u001b[36m<module>\u001b[0m:\u001b[36m19\u001b[0m - \u001b[34m\u001b[1mxc=134.5 yc=245.0 w=10.0 h=9.0 zc=42.5 d=2.0\u001b[0m\n",
      "\u001b[32m2024-06-06 18:06:36.871\u001b[0m | \u001b[34m\u001b[1mDEBUG   \u001b[0m | \u001b[36m__main__\u001b[0m:\u001b[36m<module>\u001b[0m:\u001b[36m19\u001b[0m - \u001b[34m\u001b[1mxc=171.0 yc=154.0 w=7.0 h=9.0 zc=37.5 d=2.0\u001b[0m\n",
      "\u001b[32m2024-06-06 18:06:37.499\u001b[0m | \u001b[1mINFO    \u001b[0m | \u001b[36m__main__\u001b[0m:\u001b[36m<module>\u001b[0m:\u001b[36m38\u001b[0m - \u001b[1m66-1.3.6.1.4.1.55648.2.540589535643080536010327448149927628416-10\u001b[0m\n",
      "\u001b[32m2024-06-06 18:06:41.923\u001b[0m | \u001b[34m\u001b[1mDEBUG   \u001b[0m | \u001b[36m__main__\u001b[0m:\u001b[36m<module>\u001b[0m:\u001b[36m19\u001b[0m - \u001b[34m\u001b[1mxc=316.0 yc=213.0 w=43.0 h=51.0 zc=97.0 d=11.0\u001b[0m\n",
      "\u001b[32m2024-06-06 18:06:43.110\u001b[0m | \u001b[1mINFO    \u001b[0m | \u001b[36m__main__\u001b[0m:\u001b[36m<module>\u001b[0m:\u001b[36m38\u001b[0m - \u001b[1m67-1.3.6.1.4.1.55648.2.554550163936764858866512765485887268801-1\u001b[0m\n",
      "\u001b[32m2024-06-06 18:06:49.976\u001b[0m | \u001b[34m\u001b[1mDEBUG   \u001b[0m | \u001b[36m__main__\u001b[0m:\u001b[36m<module>\u001b[0m:\u001b[36m19\u001b[0m - \u001b[34m\u001b[1mxc=379.0 yc=298.5 w=81.0 h=74.0 zc=93.5 d=14.0\u001b[0m\n",
      "\u001b[32m2024-06-06 18:06:51.263\u001b[0m | \u001b[1mINFO    \u001b[0m | \u001b[36m__main__\u001b[0m:\u001b[36m<module>\u001b[0m:\u001b[36m38\u001b[0m - \u001b[1m68-1.3.6.1.4.1.55648.2.56425952009555093259064790270776677947-1\u001b[0m\n",
      "\u001b[32m2024-06-06 18:06:55.313\u001b[0m | \u001b[34m\u001b[1mDEBUG   \u001b[0m | \u001b[36m__main__\u001b[0m:\u001b[36m<module>\u001b[0m:\u001b[36m19\u001b[0m - \u001b[34m\u001b[1mxc=346.0 yc=266.5 w=43.0 h=90.0 zc=62.0 d=3.0\u001b[0m\n",
      "\u001b[32m2024-06-06 18:06:55.946\u001b[0m | \u001b[1mINFO    \u001b[0m | \u001b[36m__main__\u001b[0m:\u001b[36m<module>\u001b[0m:\u001b[36m38\u001b[0m - \u001b[1m69-1.3.6.1.4.1.55648.2.592888766261547028432517492382279399592-1\u001b[0m\n",
      "\u001b[32m2024-06-06 18:07:01.616\u001b[0m | \u001b[34m\u001b[1mDEBUG   \u001b[0m | \u001b[36m__main__\u001b[0m:\u001b[36m<module>\u001b[0m:\u001b[36m19\u001b[0m - \u001b[34m\u001b[1mxc=320.0 yc=235.0 w=17.0 h=15.0 zc=108.5 d=2.0\u001b[0m\n",
      "\u001b[32m2024-06-06 18:07:02.635\u001b[0m | \u001b[1mINFO    \u001b[0m | \u001b[36m__main__\u001b[0m:\u001b[36m<module>\u001b[0m:\u001b[36m38\u001b[0m - \u001b[1m70-1.3.6.1.4.1.55648.2.60098388403432196210795264210515769449-1\u001b[0m\n",
      "\u001b[32m2024-06-06 18:07:08.266\u001b[0m | \u001b[34m\u001b[1mDEBUG   \u001b[0m | \u001b[36m__main__\u001b[0m:\u001b[36m<module>\u001b[0m:\u001b[36m19\u001b[0m - \u001b[34m\u001b[1mxc=192.0 yc=237.5 w=93.0 h=84.0 zc=65.5 d=32.0\u001b[0m\n",
      "\u001b[32m2024-06-06 18:07:09.255\u001b[0m | \u001b[1mINFO    \u001b[0m | \u001b[36m__main__\u001b[0m:\u001b[36m<module>\u001b[0m:\u001b[36m38\u001b[0m - \u001b[1m71-1.3.6.1.4.1.55648.2.606290281150346031548021698480163602702-1\u001b[0m\n",
      "\u001b[32m2024-06-06 18:07:16.857\u001b[0m | \u001b[34m\u001b[1mDEBUG   \u001b[0m | \u001b[36m__main__\u001b[0m:\u001b[36m<module>\u001b[0m:\u001b[36m19\u001b[0m - \u001b[34m\u001b[1mxc=320.0 yc=277.5 w=57.0 h=68.0 zc=65.5 d=32.0\u001b[0m\n",
      "\u001b[32m2024-06-06 18:07:18.217\u001b[0m | \u001b[1mINFO    \u001b[0m | \u001b[36m__main__\u001b[0m:\u001b[36m<module>\u001b[0m:\u001b[36m38\u001b[0m - \u001b[1m72-1.3.6.1.4.1.55648.2.609759633375478779787941939410241609086-1\u001b[0m\n",
      "\u001b[32m2024-06-06 18:07:21.987\u001b[0m | \u001b[34m\u001b[1mDEBUG   \u001b[0m | \u001b[36m__main__\u001b[0m:\u001b[36m<module>\u001b[0m:\u001b[36m19\u001b[0m - \u001b[34m\u001b[1mxc=132.0 yc=341.5 w=55.0 h=42.0 zc=115.0 d=7.0\u001b[0m\n",
      "\u001b[32m2024-06-06 18:07:22.099\u001b[0m | \u001b[34m\u001b[1mDEBUG   \u001b[0m | \u001b[36m__main__\u001b[0m:\u001b[36m<module>\u001b[0m:\u001b[36m19\u001b[0m - \u001b[34m\u001b[1mxc=389.0 yc=294.5 w=21.0 h=24.0 zc=110.5 d=4.0\u001b[0m\n",
      "\u001b[32m2024-06-06 18:07:22.209\u001b[0m | \u001b[34m\u001b[1mDEBUG   \u001b[0m | \u001b[36m__main__\u001b[0m:\u001b[36m<module>\u001b[0m:\u001b[36m19\u001b[0m - \u001b[34m\u001b[1mxc=84.0 yc=323.5 w=7.0 h=8.0 zc=98.5 d=2.0\u001b[0m\n",
      "\u001b[32m2024-06-06 18:07:22.321\u001b[0m | \u001b[34m\u001b[1mDEBUG   \u001b[0m | \u001b[36m__main__\u001b[0m:\u001b[36m<module>\u001b[0m:\u001b[36m19\u001b[0m - \u001b[34m\u001b[1mxc=357.0 yc=377.5 w=9.0 h=10.0 zc=96.5 d=2.0\u001b[0m\n",
      "\u001b[32m2024-06-06 18:07:23.663\u001b[0m | \u001b[1mINFO    \u001b[0m | \u001b[36m__main__\u001b[0m:\u001b[36m<module>\u001b[0m:\u001b[36m38\u001b[0m - \u001b[1m73-1.3.6.1.4.1.55648.2.613720512919150576959953749079387397916-4\u001b[0m\n",
      "\u001b[32m2024-06-06 18:07:29.484\u001b[0m | \u001b[34m\u001b[1mDEBUG   \u001b[0m | \u001b[36m__main__\u001b[0m:\u001b[36m<module>\u001b[0m:\u001b[36m19\u001b[0m - \u001b[34m\u001b[1mxc=369.5 yc=276.5 w=56.0 h=78.0 zc=87.5 d=12.0\u001b[0m\n",
      "\u001b[32m2024-06-06 18:07:29.581\u001b[0m | \u001b[34m\u001b[1mDEBUG   \u001b[0m | \u001b[36m__main__\u001b[0m:\u001b[36m<module>\u001b[0m:\u001b[36m19\u001b[0m - \u001b[34m\u001b[1mxc=233.0 yc=304.5 w=53.0 h=56.0 zc=99.5 d=12.0\u001b[0m\n",
      "\u001b[32m2024-06-06 18:07:29.677\u001b[0m | \u001b[34m\u001b[1mDEBUG   \u001b[0m | \u001b[36m__main__\u001b[0m:\u001b[36m<module>\u001b[0m:\u001b[36m19\u001b[0m - \u001b[34m\u001b[1mxc=120.0 yc=363.0 w=27.0 h=23.0 zc=56.0 d=9.0\u001b[0m\n",
      "\u001b[32m2024-06-06 18:07:29.772\u001b[0m | \u001b[34m\u001b[1mDEBUG   \u001b[0m | \u001b[36m__main__\u001b[0m:\u001b[36m<module>\u001b[0m:\u001b[36m19\u001b[0m - \u001b[34m\u001b[1mxc=359.0 yc=332.0 w=9.0 h=11.0 zc=97.0 d=3.0\u001b[0m\n",
      "\u001b[32m2024-06-06 18:07:29.867\u001b[0m | \u001b[34m\u001b[1mDEBUG   \u001b[0m | \u001b[36m__main__\u001b[0m:\u001b[36m<module>\u001b[0m:\u001b[36m19\u001b[0m - \u001b[34m\u001b[1mxc=361.0 yc=352.5 w=9.0 h=10.0 zc=97.5 d=2.0\u001b[0m\n",
      "\u001b[32m2024-06-06 18:07:29.962\u001b[0m | \u001b[34m\u001b[1mDEBUG   \u001b[0m | \u001b[36m__main__\u001b[0m:\u001b[36m<module>\u001b[0m:\u001b[36m19\u001b[0m - \u001b[34m\u001b[1mxc=156.0 yc=288.5 w=15.0 h=14.0 zc=92.5 d=2.0\u001b[0m\n",
      "\u001b[32m2024-06-06 18:07:30.056\u001b[0m | \u001b[34m\u001b[1mDEBUG   \u001b[0m | \u001b[36m__main__\u001b[0m:\u001b[36m<module>\u001b[0m:\u001b[36m19\u001b[0m - \u001b[34m\u001b[1mxc=194.0 yc=253.0 w=9.0 h=13.0 zc=92.5 d=2.0\u001b[0m\n",
      "\u001b[32m2024-06-06 18:07:30.154\u001b[0m | \u001b[34m\u001b[1mDEBUG   \u001b[0m | \u001b[36m__main__\u001b[0m:\u001b[36m<module>\u001b[0m:\u001b[36m19\u001b[0m - \u001b[34m\u001b[1mxc=395.5 yc=331.5 w=12.0 h=12.0 zc=94.0 d=1.0\u001b[0m\n",
      "\u001b[32m2024-06-06 18:07:30.274\u001b[0m | \u001b[34m\u001b[1mDEBUG   \u001b[0m | \u001b[36m__main__\u001b[0m:\u001b[36m<module>\u001b[0m:\u001b[36m19\u001b[0m - \u001b[34m\u001b[1mxc=414.5 yc=242.5 w=12.0 h=14.0 zc=68.0 d=3.0\u001b[0m\n",
      "\u001b[32m2024-06-06 18:07:30.373\u001b[0m | \u001b[34m\u001b[1mDEBUG   \u001b[0m | \u001b[36m__main__\u001b[0m:\u001b[36m<module>\u001b[0m:\u001b[36m19\u001b[0m - \u001b[34m\u001b[1mxc=199.0 yc=203.5 w=9.0 h=12.0 zc=58.5 d=2.0\u001b[0m\n",
      "\u001b[32m2024-06-06 18:07:31.509\u001b[0m | \u001b[1mINFO    \u001b[0m | \u001b[36m__main__\u001b[0m:\u001b[36m<module>\u001b[0m:\u001b[36m38\u001b[0m - \u001b[1m74-1.3.6.1.4.1.55648.2.629517395897561262105291492114502980814-10\u001b[0m\n",
      "\u001b[32m2024-06-06 18:07:35.639\u001b[0m | \u001b[34m\u001b[1mDEBUG   \u001b[0m | \u001b[36m__main__\u001b[0m:\u001b[36m<module>\u001b[0m:\u001b[36m19\u001b[0m - \u001b[34m\u001b[1mxc=142.5 yc=269.0 w=94.0 h=121.0 zc=65.5 d=14.0\u001b[0m\n",
      "\u001b[32m2024-06-06 18:07:35.724\u001b[0m | \u001b[34m\u001b[1mDEBUG   \u001b[0m | \u001b[36m__main__\u001b[0m:\u001b[36m<module>\u001b[0m:\u001b[36m19\u001b[0m - \u001b[34m\u001b[1mxc=167.0 yc=158.0 w=81.0 h=85.0 zc=55.5 d=8.0\u001b[0m\n",
      "\u001b[32m2024-06-06 18:07:36.619\u001b[0m | \u001b[1mINFO    \u001b[0m | \u001b[36m__main__\u001b[0m:\u001b[36m<module>\u001b[0m:\u001b[36m38\u001b[0m - \u001b[1m75-1.3.6.1.4.1.55648.2.641689325629637495750544274161706555829-2\u001b[0m\n",
      "\u001b[32m2024-06-06 18:07:40.861\u001b[0m | \u001b[34m\u001b[1mDEBUG   \u001b[0m | \u001b[36m__main__\u001b[0m:\u001b[36m<module>\u001b[0m:\u001b[36m19\u001b[0m - \u001b[34m\u001b[1mxc=179.0 yc=311.0 w=149.0 h=123.0 zc=62.0 d=15.0\u001b[0m\n",
      "\u001b[32m2024-06-06 18:07:41.540\u001b[0m | \u001b[1mINFO    \u001b[0m | \u001b[36m__main__\u001b[0m:\u001b[36m<module>\u001b[0m:\u001b[36m38\u001b[0m - \u001b[1m76-1.3.6.1.4.1.55648.2.649050817330190706820407172024308053204-1\u001b[0m\n",
      "\u001b[32m2024-06-06 18:07:45.613\u001b[0m | \u001b[34m\u001b[1mDEBUG   \u001b[0m | \u001b[36m__main__\u001b[0m:\u001b[36m<module>\u001b[0m:\u001b[36m19\u001b[0m - \u001b[34m\u001b[1mxc=129.0 yc=227.0 w=41.0 h=35.0 zc=77.5 d=6.0\u001b[0m\n",
      "\u001b[32m2024-06-06 18:07:45.726\u001b[0m | \u001b[34m\u001b[1mDEBUG   \u001b[0m | \u001b[36m__main__\u001b[0m:\u001b[36m<module>\u001b[0m:\u001b[36m19\u001b[0m - \u001b[34m\u001b[1mxc=342.5 yc=347.5 w=28.0 h=40.0 zc=42.0 d=9.0\u001b[0m\n",
      "\u001b[32m2024-06-06 18:07:45.842\u001b[0m | \u001b[34m\u001b[1mDEBUG   \u001b[0m | \u001b[36m__main__\u001b[0m:\u001b[36m<module>\u001b[0m:\u001b[36m19\u001b[0m - \u001b[34m\u001b[1mxc=383.0 yc=191.5 w=29.0 h=28.0 zc=73.0 d=7.0\u001b[0m\n",
      "\u001b[32m2024-06-06 18:07:45.957\u001b[0m | \u001b[34m\u001b[1mDEBUG   \u001b[0m | \u001b[36m__main__\u001b[0m:\u001b[36m<module>\u001b[0m:\u001b[36m19\u001b[0m - \u001b[34m\u001b[1mxc=388.5 yc=316.0 w=34.0 h=49.0 zc=99.0 d=9.0\u001b[0m\n",
      "\u001b[32m2024-06-06 18:07:47.151\u001b[0m | \u001b[1mINFO    \u001b[0m | \u001b[36m__main__\u001b[0m:\u001b[36m<module>\u001b[0m:\u001b[36m38\u001b[0m - \u001b[1m77-1.3.6.1.4.1.55648.2.655115259158406169043687623065069081356-4\u001b[0m\n",
      "\u001b[32m2024-06-06 18:07:51.689\u001b[0m | \u001b[34m\u001b[1mDEBUG   \u001b[0m | \u001b[36m__main__\u001b[0m:\u001b[36m<module>\u001b[0m:\u001b[36m19\u001b[0m - \u001b[34m\u001b[1mxc=191.5 yc=253.0 w=14.0 h=9.0 zc=100.5 d=2.0\u001b[0m\n",
      "\u001b[32m2024-06-06 18:07:51.800\u001b[0m | \u001b[34m\u001b[1mDEBUG   \u001b[0m | \u001b[36m__main__\u001b[0m:\u001b[36m<module>\u001b[0m:\u001b[36m19\u001b[0m - \u001b[34m\u001b[1mxc=172.5 yc=281.5 w=18.0 h=20.0 zc=88.0 d=5.0\u001b[0m\n"
     ]
    },
    {
     "name": "stderr",
     "output_type": "stream",
     "text": [
      "\u001b[32m2024-06-06 18:07:51.908\u001b[0m | \u001b[34m\u001b[1mDEBUG   \u001b[0m | \u001b[36m__main__\u001b[0m:\u001b[36m<module>\u001b[0m:\u001b[36m19\u001b[0m - \u001b[34m\u001b[1mxc=215.0 yc=298.0 w=17.0 h=15.0 zc=88.5 d=4.0\u001b[0m\n",
      "\u001b[32m2024-06-06 18:07:52.018\u001b[0m | \u001b[34m\u001b[1mDEBUG   \u001b[0m | \u001b[36m__main__\u001b[0m:\u001b[36m<module>\u001b[0m:\u001b[36m19\u001b[0m - \u001b[34m\u001b[1mxc=206.0 yc=270.0 w=39.0 h=47.0 zc=66.5 d=12.0\u001b[0m\n",
      "\u001b[32m2024-06-06 18:07:53.440\u001b[0m | \u001b[1mINFO    \u001b[0m | \u001b[36m__main__\u001b[0m:\u001b[36m<module>\u001b[0m:\u001b[36m38\u001b[0m - \u001b[1m78-1.3.6.1.4.1.55648.2.663418360359430961094732627351759687443-4\u001b[0m\n",
      "\u001b[32m2024-06-06 18:07:59.565\u001b[0m | \u001b[34m\u001b[1mDEBUG   \u001b[0m | \u001b[36m__main__\u001b[0m:\u001b[36m<module>\u001b[0m:\u001b[36m19\u001b[0m - \u001b[34m\u001b[1mxc=333.0 yc=317.5 w=41.0 h=44.0 zc=100.5 d=10.0\u001b[0m\n",
      "\u001b[32m2024-06-06 18:08:00.561\u001b[0m | \u001b[1mINFO    \u001b[0m | \u001b[36m__main__\u001b[0m:\u001b[36m<module>\u001b[0m:\u001b[36m38\u001b[0m - \u001b[1m79-1.3.6.1.4.1.55648.2.667827628402325551525673901260803687741-1\u001b[0m\n",
      "\u001b[32m2024-06-06 18:08:07.032\u001b[0m | \u001b[34m\u001b[1mDEBUG   \u001b[0m | \u001b[36m__main__\u001b[0m:\u001b[36m<module>\u001b[0m:\u001b[36m19\u001b[0m - \u001b[34m\u001b[1mxc=224.5 yc=248.5 w=62.0 h=74.0 zc=111.0 d=17.0\u001b[0m\n",
      "\u001b[32m2024-06-06 18:08:07.149\u001b[0m | \u001b[34m\u001b[1mDEBUG   \u001b[0m | \u001b[36m__main__\u001b[0m:\u001b[36m<module>\u001b[0m:\u001b[36m19\u001b[0m - \u001b[34m\u001b[1mxc=178.5 yc=195.0 w=6.0 h=5.0 zc=114.0 d=1.0\u001b[0m\n",
      "\u001b[32m2024-06-06 18:08:07.264\u001b[0m | \u001b[34m\u001b[1mDEBUG   \u001b[0m | \u001b[36m__main__\u001b[0m:\u001b[36m<module>\u001b[0m:\u001b[36m19\u001b[0m - \u001b[34m\u001b[1mxc=196.0 yc=153.0 w=5.0 h=5.0 zc=107.0 d=1.0\u001b[0m\n",
      "\u001b[32m2024-06-06 18:08:07.381\u001b[0m | \u001b[34m\u001b[1mDEBUG   \u001b[0m | \u001b[36m__main__\u001b[0m:\u001b[36m<module>\u001b[0m:\u001b[36m19\u001b[0m - \u001b[34m\u001b[1mxc=190.0 yc=248.0 w=7.0 h=5.0 zc=123.0 d=1.0\u001b[0m\n",
      "\u001b[32m2024-06-06 18:08:08.573\u001b[0m | \u001b[1mINFO    \u001b[0m | \u001b[36m__main__\u001b[0m:\u001b[36m<module>\u001b[0m:\u001b[36m38\u001b[0m - \u001b[1m80-1.3.6.1.4.1.55648.2.677587258936570818626521247270956386278-4\u001b[0m\n",
      "\u001b[32m2024-06-06 18:08:14.727\u001b[0m | \u001b[34m\u001b[1mDEBUG   \u001b[0m | \u001b[36m__main__\u001b[0m:\u001b[36m<module>\u001b[0m:\u001b[36m19\u001b[0m - \u001b[34m\u001b[1mxc=351.5 yc=334.0 w=92.0 h=91.0 zc=52.0 d=29.0\u001b[0m\n",
      "\u001b[32m2024-06-06 18:08:15.812\u001b[0m | \u001b[1mINFO    \u001b[0m | \u001b[36m__main__\u001b[0m:\u001b[36m<module>\u001b[0m:\u001b[36m38\u001b[0m - \u001b[1m81-1.3.6.1.4.1.55648.2.682700287336205594819175363797041570518-1\u001b[0m\n",
      "\u001b[32m2024-06-06 18:08:21.722\u001b[0m | \u001b[34m\u001b[1mDEBUG   \u001b[0m | \u001b[36m__main__\u001b[0m:\u001b[36m<module>\u001b[0m:\u001b[36m19\u001b[0m - \u001b[34m\u001b[1mxc=148.0 yc=225.5 w=71.0 h=68.0 zc=69.0 d=15.0\u001b[0m\n",
      "\u001b[32m2024-06-06 18:08:21.818\u001b[0m | \u001b[34m\u001b[1mDEBUG   \u001b[0m | \u001b[36m__main__\u001b[0m:\u001b[36m<module>\u001b[0m:\u001b[36m19\u001b[0m - \u001b[34m\u001b[1mxc=117.5 yc=212.5 w=12.0 h=6.0 zc=59.0 d=1.0\u001b[0m\n",
      "\u001b[32m2024-06-06 18:08:21.914\u001b[0m | \u001b[34m\u001b[1mDEBUG   \u001b[0m | \u001b[36m__main__\u001b[0m:\u001b[36m<module>\u001b[0m:\u001b[36m19\u001b[0m - \u001b[34m\u001b[1mxc=112.5 yc=213.0 w=8.0 h=7.0 zc=61.0 d=1.0\u001b[0m\n",
      "\u001b[32m2024-06-06 18:08:22.008\u001b[0m | \u001b[34m\u001b[1mDEBUG   \u001b[0m | \u001b[36m__main__\u001b[0m:\u001b[36m<module>\u001b[0m:\u001b[36m19\u001b[0m - \u001b[34m\u001b[1mxc=108.5 yc=216.0 w=12.0 h=7.0 zc=63.0 d=1.0\u001b[0m\n",
      "\u001b[32m2024-06-06 18:08:22.102\u001b[0m | \u001b[34m\u001b[1mDEBUG   \u001b[0m | \u001b[36m__main__\u001b[0m:\u001b[36m<module>\u001b[0m:\u001b[36m19\u001b[0m - \u001b[34m\u001b[1mxc=122.5 yc=218.5 w=6.0 h=4.0 zc=64.0 d=1.0\u001b[0m\n",
      "\u001b[32m2024-06-06 18:08:23.195\u001b[0m | \u001b[1mINFO    \u001b[0m | \u001b[36m__main__\u001b[0m:\u001b[36m<module>\u001b[0m:\u001b[36m38\u001b[0m - \u001b[1m82-1.3.6.1.4.1.55648.2.683189797505540552954695327362127386757-5\u001b[0m\n",
      "\u001b[32m2024-06-06 18:08:29.825\u001b[0m | \u001b[34m\u001b[1mDEBUG   \u001b[0m | \u001b[36m__main__\u001b[0m:\u001b[36m<module>\u001b[0m:\u001b[36m19\u001b[0m - \u001b[34m\u001b[1mxc=170.0 yc=270.0 w=75.0 h=69.0 zc=89.0 d=15.0\u001b[0m\n",
      "\u001b[32m2024-06-06 18:08:30.919\u001b[0m | \u001b[1mINFO    \u001b[0m | \u001b[36m__main__\u001b[0m:\u001b[36m<module>\u001b[0m:\u001b[36m38\u001b[0m - \u001b[1m83-1.3.6.1.4.1.55648.2.686264934574692517948462021012532559392-1\u001b[0m\n",
      "\u001b[32m2024-06-06 18:08:37.167\u001b[0m | \u001b[34m\u001b[1mDEBUG   \u001b[0m | \u001b[36m__main__\u001b[0m:\u001b[36m<module>\u001b[0m:\u001b[36m19\u001b[0m - \u001b[34m\u001b[1mxc=182.0 yc=226.0 w=73.0 h=73.0 zc=63.0 d=17.0\u001b[0m\n",
      "\u001b[32m2024-06-06 18:08:38.119\u001b[0m | \u001b[1mINFO    \u001b[0m | \u001b[36m__main__\u001b[0m:\u001b[36m<module>\u001b[0m:\u001b[36m38\u001b[0m - \u001b[1m84-1.3.6.1.4.1.55648.2.688495693742018235173911832997115184943-1\u001b[0m\n",
      "WARNING: In /tmp/SimpleITK-build/ITK-prefix/include/ITK-5.2/itkImageSeriesReader.hxx, line 480\n",
      "ImageSeriesReader (0x4895cbc0): Non uniform sampling or missing slices detected,  maximum nonuniformity:4.47883\n",
      "\n",
      "\u001b[32m2024-06-06 18:08:50.126\u001b[0m | \u001b[34m\u001b[1mDEBUG   \u001b[0m | \u001b[36m__main__\u001b[0m:\u001b[36m<module>\u001b[0m:\u001b[36m19\u001b[0m - \u001b[34m\u001b[1mxc=342.0 yc=318.5 w=55.0 h=48.0 zc=280.0 d=7.0\u001b[0m\n",
      "\u001b[32m2024-06-06 18:08:52.717\u001b[0m | \u001b[1mINFO    \u001b[0m | \u001b[36m__main__\u001b[0m:\u001b[36m<module>\u001b[0m:\u001b[36m38\u001b[0m - \u001b[1m85-1.3.6.1.4.1.55648.2.6983550063661432612545018683060425293-1\u001b[0m\n",
      "\u001b[32m2024-06-06 18:08:56.809\u001b[0m | \u001b[34m\u001b[1mDEBUG   \u001b[0m | \u001b[36m__main__\u001b[0m:\u001b[36m<module>\u001b[0m:\u001b[36m19\u001b[0m - \u001b[34m\u001b[1mxc=157.5 yc=223.0 w=86.0 h=87.0 zc=73.5 d=10.0\u001b[0m\n",
      "\u001b[32m2024-06-06 18:08:57.763\u001b[0m | \u001b[1mINFO    \u001b[0m | \u001b[36m__main__\u001b[0m:\u001b[36m<module>\u001b[0m:\u001b[36m38\u001b[0m - \u001b[1m86-1.3.6.1.4.1.55648.2.699966593506410602917909537298038014981-1\u001b[0m\n",
      "\u001b[32m2024-06-06 18:09:02.386\u001b[0m | \u001b[34m\u001b[1mDEBUG   \u001b[0m | \u001b[36m__main__\u001b[0m:\u001b[36m<module>\u001b[0m:\u001b[36m19\u001b[0m - \u001b[34m\u001b[1mxc=160.5 yc=241.0 w=100.0 h=109.0 zc=109.5 d=28.0\u001b[0m\n",
      "\u001b[32m2024-06-06 18:09:02.505\u001b[0m | \u001b[34m\u001b[1mDEBUG   \u001b[0m | \u001b[36m__main__\u001b[0m:\u001b[36m<module>\u001b[0m:\u001b[36m19\u001b[0m - \u001b[34m\u001b[1mxc=188.0 yc=216.5 w=15.0 h=20.0 zc=91.0 d=5.0\u001b[0m\n",
      "\u001b[32m2024-06-06 18:09:02.625\u001b[0m | \u001b[34m\u001b[1mDEBUG   \u001b[0m | \u001b[36m__main__\u001b[0m:\u001b[36m<module>\u001b[0m:\u001b[36m19\u001b[0m - \u001b[34m\u001b[1mxc=178.0 yc=166.0 w=17.0 h=15.0 zc=108.0 d=3.0\u001b[0m\n",
      "\u001b[32m2024-06-06 18:09:02.743\u001b[0m | \u001b[34m\u001b[1mDEBUG   \u001b[0m | \u001b[36m__main__\u001b[0m:\u001b[36m<module>\u001b[0m:\u001b[36m19\u001b[0m - \u001b[34m\u001b[1mxc=375.5 yc=316.0 w=16.0 h=19.0 zc=76.5 d=6.0\u001b[0m\n",
      "\u001b[32m2024-06-06 18:09:02.861\u001b[0m | \u001b[34m\u001b[1mDEBUG   \u001b[0m | \u001b[36m__main__\u001b[0m:\u001b[36m<module>\u001b[0m:\u001b[36m19\u001b[0m - \u001b[34m\u001b[1mxc=402.0 yc=196.0 w=13.0 h=15.0 zc=38.0 d=3.0\u001b[0m\n",
      "\u001b[32m2024-06-06 18:09:02.981\u001b[0m | \u001b[34m\u001b[1mDEBUG   \u001b[0m | \u001b[36m__main__\u001b[0m:\u001b[36m<module>\u001b[0m:\u001b[36m19\u001b[0m - \u001b[34m\u001b[1mxc=408.5 yc=194.0 w=12.0 h=15.0 zc=40.0 d=3.0\u001b[0m\n",
      "\u001b[32m2024-06-06 18:09:03.099\u001b[0m | \u001b[34m\u001b[1mDEBUG   \u001b[0m | \u001b[36m__main__\u001b[0m:\u001b[36m<module>\u001b[0m:\u001b[36m19\u001b[0m - \u001b[34m\u001b[1mxc=132.0 yc=186.5 w=13.0 h=14.0 zc=97.0 d=3.0\u001b[0m\n",
      "\u001b[32m2024-06-06 18:09:03.216\u001b[0m | \u001b[34m\u001b[1mDEBUG   \u001b[0m | \u001b[36m__main__\u001b[0m:\u001b[36m<module>\u001b[0m:\u001b[36m19\u001b[0m - \u001b[34m\u001b[1mxc=128.0 yc=275.5 w=13.0 h=14.0 zc=89.0 d=3.0\u001b[0m\n",
      "\u001b[32m2024-06-06 18:09:03.333\u001b[0m | \u001b[34m\u001b[1mDEBUG   \u001b[0m | \u001b[36m__main__\u001b[0m:\u001b[36m<module>\u001b[0m:\u001b[36m19\u001b[0m - \u001b[34m\u001b[1mxc=382.5 yc=258.0 w=8.0 h=9.0 zc=73.0 d=3.0\u001b[0m\n",
      "\u001b[32m2024-06-06 18:09:03.451\u001b[0m | \u001b[34m\u001b[1mDEBUG   \u001b[0m | \u001b[36m__main__\u001b[0m:\u001b[36m<module>\u001b[0m:\u001b[36m19\u001b[0m - \u001b[34m\u001b[1mxc=126.5 yc=203.0 w=12.0 h=11.0 zc=103.0 d=3.0\u001b[0m\n",
      "\u001b[32m2024-06-06 18:09:05.039\u001b[0m | \u001b[1mINFO    \u001b[0m | \u001b[36m__main__\u001b[0m:\u001b[36m<module>\u001b[0m:\u001b[36m38\u001b[0m - \u001b[1m87-1.3.6.1.4.1.55648.2.710426425951631356345384893867691230594-10\u001b[0m\n",
      "\u001b[32m2024-06-06 18:09:10.355\u001b[0m | \u001b[34m\u001b[1mDEBUG   \u001b[0m | \u001b[36m__main__\u001b[0m:\u001b[36m<module>\u001b[0m:\u001b[36m19\u001b[0m - \u001b[34m\u001b[1mxc=208.0 yc=275.0 w=87.0 h=87.0 zc=88.5 d=24.0\u001b[0m\n",
      "\u001b[32m2024-06-06 18:09:10.450\u001b[0m | \u001b[34m\u001b[1mDEBUG   \u001b[0m | \u001b[36m__main__\u001b[0m:\u001b[36m<module>\u001b[0m:\u001b[36m19\u001b[0m - \u001b[34m\u001b[1mxc=373.5 yc=301.0 w=32.0 h=47.0 zc=75.5 d=10.0\u001b[0m\n",
      "\u001b[32m2024-06-06 18:09:10.547\u001b[0m | \u001b[34m\u001b[1mDEBUG   \u001b[0m | \u001b[36m__main__\u001b[0m:\u001b[36m<module>\u001b[0m:\u001b[36m19\u001b[0m - \u001b[34m\u001b[1mxc=146.5 yc=333.0 w=32.0 h=27.0 zc=63.0 d=5.0\u001b[0m\n",
      "\u001b[32m2024-06-06 18:09:11.767\u001b[0m | \u001b[1mINFO    \u001b[0m | \u001b[36m__main__\u001b[0m:\u001b[36m<module>\u001b[0m:\u001b[36m38\u001b[0m - \u001b[1m88-1.3.6.1.4.1.55648.2.720179817684815446166642380370997069714-3\u001b[0m\n",
      "\u001b[32m2024-06-06 18:09:17.040\u001b[0m | \u001b[34m\u001b[1mDEBUG   \u001b[0m | \u001b[36m__main__\u001b[0m:\u001b[36m<module>\u001b[0m:\u001b[36m19\u001b[0m - \u001b[34m\u001b[1mxc=216.5 yc=155.5 w=20.0 h=16.0 zc=98.5 d=4.0\u001b[0m\n",
      "\u001b[32m2024-06-06 18:09:17.148\u001b[0m | \u001b[34m\u001b[1mDEBUG   \u001b[0m | \u001b[36m__main__\u001b[0m:\u001b[36m<module>\u001b[0m:\u001b[36m19\u001b[0m - \u001b[34m\u001b[1mxc=195.0 yc=184.5 w=21.0 h=20.0 zc=89.5 d=4.0\u001b[0m\n",
      "\u001b[32m2024-06-06 18:09:17.258\u001b[0m | \u001b[34m\u001b[1mDEBUG   \u001b[0m | \u001b[36m__main__\u001b[0m:\u001b[36m<module>\u001b[0m:\u001b[36m19\u001b[0m - \u001b[34m\u001b[1mxc=126.5 yc=186.5 w=34.0 h=24.0 zc=65.0 d=9.0\u001b[0m\n",
      "\u001b[32m2024-06-06 18:09:17.367\u001b[0m | \u001b[34m\u001b[1mDEBUG   \u001b[0m | \u001b[36m__main__\u001b[0m:\u001b[36m<module>\u001b[0m:\u001b[36m19\u001b[0m - \u001b[34m\u001b[1mxc=223.0 yc=205.5 w=17.0 h=14.0 zc=91.5 d=4.0\u001b[0m\n",
      "\u001b[32m2024-06-06 18:09:17.478\u001b[0m | \u001b[34m\u001b[1mDEBUG   \u001b[0m | \u001b[36m__main__\u001b[0m:\u001b[36m<module>\u001b[0m:\u001b[36m19\u001b[0m - \u001b[34m\u001b[1mxc=216.0 yc=186.0 w=61.0 h=65.0 zc=71.0 d=17.0\u001b[0m\n",
      "\u001b[32m2024-06-06 18:09:18.685\u001b[0m | \u001b[1mINFO    \u001b[0m | \u001b[36m__main__\u001b[0m:\u001b[36m<module>\u001b[0m:\u001b[36m38\u001b[0m - \u001b[1m89-1.3.6.1.4.1.55648.2.721259132954295578552635077624736512723-5\u001b[0m\n"
     ]
    },
    {
     "name": "stderr",
     "output_type": "stream",
     "text": [
      "\u001b[32m2024-06-06 18:09:22.908\u001b[0m | \u001b[34m\u001b[1mDEBUG   \u001b[0m | \u001b[36m__main__\u001b[0m:\u001b[36m<module>\u001b[0m:\u001b[36m19\u001b[0m - \u001b[34m\u001b[1mxc=331.0 yc=270.5 w=25.0 h=32.0 zc=70.5 d=4.0\u001b[0m\n",
      "\u001b[32m2024-06-06 18:09:23.732\u001b[0m | \u001b[1mINFO    \u001b[0m | \u001b[36m__main__\u001b[0m:\u001b[36m<module>\u001b[0m:\u001b[36m38\u001b[0m - \u001b[1m90-1.3.6.1.4.1.55648.2.723332597027534921849014487570161809524-1\u001b[0m\n",
      "\u001b[32m2024-06-06 18:09:29.890\u001b[0m | \u001b[34m\u001b[1mDEBUG   \u001b[0m | \u001b[36m__main__\u001b[0m:\u001b[36m<module>\u001b[0m:\u001b[36m19\u001b[0m - \u001b[34m\u001b[1mxc=375.0 yc=322.5 w=71.0 h=48.0 zc=61.0 d=11.0\u001b[0m\n",
      "\u001b[32m2024-06-06 18:09:31.015\u001b[0m | \u001b[1mINFO    \u001b[0m | \u001b[36m__main__\u001b[0m:\u001b[36m<module>\u001b[0m:\u001b[36m38\u001b[0m - \u001b[1m91-1.3.6.1.4.1.55648.2.725519559665297291964983311322637833990-1\u001b[0m\n",
      "\u001b[32m2024-06-06 18:09:36.338\u001b[0m | \u001b[34m\u001b[1mDEBUG   \u001b[0m | \u001b[36m__main__\u001b[0m:\u001b[36m<module>\u001b[0m:\u001b[36m19\u001b[0m - \u001b[34m\u001b[1mxc=385.0 yc=310.0 w=51.0 h=39.0 zc=45.0 d=9.0\u001b[0m\n",
      "\u001b[32m2024-06-06 18:09:37.521\u001b[0m | \u001b[1mINFO    \u001b[0m | \u001b[36m__main__\u001b[0m:\u001b[36m<module>\u001b[0m:\u001b[36m38\u001b[0m - \u001b[1m92-1.3.6.1.4.1.55648.2.733916660342015658251306918943654766760-1\u001b[0m\n",
      "\u001b[32m2024-06-06 18:09:43.667\u001b[0m | \u001b[34m\u001b[1mDEBUG   \u001b[0m | \u001b[36m__main__\u001b[0m:\u001b[36m<module>\u001b[0m:\u001b[36m19\u001b[0m - \u001b[34m\u001b[1mxc=347.5 yc=253.0 w=126.0 h=77.0 zc=65.0 d=23.0\u001b[0m\n",
      "\u001b[32m2024-06-06 18:09:44.891\u001b[0m | \u001b[1mINFO    \u001b[0m | \u001b[36m__main__\u001b[0m:\u001b[36m<module>\u001b[0m:\u001b[36m38\u001b[0m - \u001b[1m93-1.3.6.1.4.1.55648.2.736427593689433730094955065877066699507-1\u001b[0m\n",
      "\u001b[32m2024-06-06 18:09:51.266\u001b[0m | \u001b[34m\u001b[1mDEBUG   \u001b[0m | \u001b[36m__main__\u001b[0m:\u001b[36m<module>\u001b[0m:\u001b[36m19\u001b[0m - \u001b[34m\u001b[1mxc=222.5 yc=266.5 w=32.0 h=150.0 zc=79.5 d=8.0\u001b[0m\n",
      "\u001b[32m2024-06-06 18:09:52.867\u001b[0m | \u001b[1mINFO    \u001b[0m | \u001b[36m__main__\u001b[0m:\u001b[36m<module>\u001b[0m:\u001b[36m38\u001b[0m - \u001b[1m94-1.3.6.1.4.1.55648.2.743173142777667760817276916348645246089-1\u001b[0m\n",
      "\u001b[32m2024-06-06 18:09:58.057\u001b[0m | \u001b[34m\u001b[1mDEBUG   \u001b[0m | \u001b[36m__main__\u001b[0m:\u001b[36m<module>\u001b[0m:\u001b[36m19\u001b[0m - \u001b[34m\u001b[1mxc=344.5 yc=329.5 w=66.0 h=56.0 zc=57.5 d=10.0\u001b[0m\n",
      "\u001b[32m2024-06-06 18:09:58.141\u001b[0m | \u001b[34m\u001b[1mDEBUG   \u001b[0m | \u001b[36m__main__\u001b[0m:\u001b[36m<module>\u001b[0m:\u001b[36m19\u001b[0m - \u001b[34m\u001b[1mxc=372.5 yc=275.0 w=70.0 h=57.0 zc=65.0 d=5.0\u001b[0m\n",
      "\u001b[32m2024-06-06 18:09:58.958\u001b[0m | \u001b[1mINFO    \u001b[0m | \u001b[36m__main__\u001b[0m:\u001b[36m<module>\u001b[0m:\u001b[36m38\u001b[0m - \u001b[1m95-1.3.6.1.4.1.55648.2.747863380181283696975033906930623504818-2\u001b[0m\n",
      "\u001b[32m2024-06-06 18:10:04.544\u001b[0m | \u001b[34m\u001b[1mDEBUG   \u001b[0m | \u001b[36m__main__\u001b[0m:\u001b[36m<module>\u001b[0m:\u001b[36m19\u001b[0m - \u001b[34m\u001b[1mxc=382.5 yc=235.0 w=128.0 h=127.0 zc=71.5 d=14.0\u001b[0m\n",
      "\u001b[32m2024-06-06 18:10:05.720\u001b[0m | \u001b[1mINFO    \u001b[0m | \u001b[36m__main__\u001b[0m:\u001b[36m<module>\u001b[0m:\u001b[36m38\u001b[0m - \u001b[1m96-1.3.6.1.4.1.55648.2.758661405874279647031488546042025459737-1\u001b[0m\n",
      "\u001b[32m2024-06-06 18:10:11.761\u001b[0m | \u001b[34m\u001b[1mDEBUG   \u001b[0m | \u001b[36m__main__\u001b[0m:\u001b[36m<module>\u001b[0m:\u001b[36m19\u001b[0m - \u001b[34m\u001b[1mxc=372.5 yc=290.5 w=50.0 h=36.0 zc=47.5 d=6.0\u001b[0m\n",
      "\u001b[32m2024-06-06 18:10:13.281\u001b[0m | \u001b[1mINFO    \u001b[0m | \u001b[36m__main__\u001b[0m:\u001b[36m<module>\u001b[0m:\u001b[36m38\u001b[0m - \u001b[1m97-1.3.6.1.4.1.55648.2.799407056963475317366680378651161853272-1\u001b[0m\n",
      "\u001b[32m2024-06-06 18:10:18.857\u001b[0m | \u001b[34m\u001b[1mDEBUG   \u001b[0m | \u001b[36m__main__\u001b[0m:\u001b[36m<module>\u001b[0m:\u001b[36m19\u001b[0m - \u001b[34m\u001b[1mxc=211.5 yc=299.0 w=90.0 h=93.0 zc=99.0 d=17.0\u001b[0m\n",
      "\u001b[32m2024-06-06 18:10:18.964\u001b[0m | \u001b[34m\u001b[1mDEBUG   \u001b[0m | \u001b[36m__main__\u001b[0m:\u001b[36m<module>\u001b[0m:\u001b[36m19\u001b[0m - \u001b[34m\u001b[1mxc=168.0 yc=352.5 w=15.0 h=14.0 zc=95.0 d=1.0\u001b[0m\n",
      "\u001b[32m2024-06-06 18:10:19.068\u001b[0m | \u001b[34m\u001b[1mDEBUG   \u001b[0m | \u001b[36m__main__\u001b[0m:\u001b[36m<module>\u001b[0m:\u001b[36m19\u001b[0m - \u001b[34m\u001b[1mxc=187.5 yc=180.5 w=10.0 h=10.0 zc=95.5 d=2.0\u001b[0m\n",
      "\u001b[32m2024-06-06 18:10:19.172\u001b[0m | \u001b[34m\u001b[1mDEBUG   \u001b[0m | \u001b[36m__main__\u001b[0m:\u001b[36m<module>\u001b[0m:\u001b[36m19\u001b[0m - \u001b[34m\u001b[1mxc=168.5 yc=354.5 w=10.0 h=12.0 zc=97.0 d=1.0\u001b[0m\n",
      "\u001b[32m2024-06-06 18:10:19.278\u001b[0m | \u001b[34m\u001b[1mDEBUG   \u001b[0m | \u001b[36m__main__\u001b[0m:\u001b[36m<module>\u001b[0m:\u001b[36m19\u001b[0m - \u001b[34m\u001b[1mxc=162.5 yc=214.5 w=18.0 h=14.0 zc=103.0 d=1.0\u001b[0m\n",
      "\u001b[32m2024-06-06 18:10:19.385\u001b[0m | \u001b[34m\u001b[1mDEBUG   \u001b[0m | \u001b[36m__main__\u001b[0m:\u001b[36m<module>\u001b[0m:\u001b[36m19\u001b[0m - \u001b[34m\u001b[1mxc=163.0 yc=230.5 w=9.0 h=12.0 zc=103.0 d=1.0\u001b[0m\n",
      "\u001b[32m2024-06-06 18:10:19.489\u001b[0m | \u001b[34m\u001b[1mDEBUG   \u001b[0m | \u001b[36m__main__\u001b[0m:\u001b[36m<module>\u001b[0m:\u001b[36m19\u001b[0m - \u001b[34m\u001b[1mxc=165.0 yc=248.5 w=11.0 h=14.0 zc=110.0 d=1.0\u001b[0m\n",
      "\u001b[32m2024-06-06 18:10:20.602\u001b[0m | \u001b[1mINFO    \u001b[0m | \u001b[36m__main__\u001b[0m:\u001b[36m<module>\u001b[0m:\u001b[36m38\u001b[0m - \u001b[1m98-1.3.6.1.4.1.55648.2.801663444696971516335912795773661396446-7\u001b[0m\n",
      "\u001b[32m2024-06-06 18:10:24.916\u001b[0m | \u001b[34m\u001b[1mDEBUG   \u001b[0m | \u001b[36m__main__\u001b[0m:\u001b[36m<module>\u001b[0m:\u001b[36m19\u001b[0m - \u001b[34m\u001b[1mxc=383.5 yc=273.5 w=64.0 h=70.0 zc=38.0 d=19.0\u001b[0m\n",
      "\u001b[32m2024-06-06 18:10:26.064\u001b[0m | \u001b[1mINFO    \u001b[0m | \u001b[36m__main__\u001b[0m:\u001b[36m<module>\u001b[0m:\u001b[36m38\u001b[0m - \u001b[1m99-1.3.6.1.4.1.55648.2.809226091039489454994367791961115136998-1\u001b[0m\n",
      "\u001b[32m2024-06-06 18:10:30.747\u001b[0m | \u001b[34m\u001b[1mDEBUG   \u001b[0m | \u001b[36m__main__\u001b[0m:\u001b[36m<module>\u001b[0m:\u001b[36m19\u001b[0m - \u001b[34m\u001b[1mxc=378.0 yc=326.0 w=39.0 h=41.0 zc=74.0 d=11.0\u001b[0m\n",
      "\u001b[32m2024-06-06 18:10:30.850\u001b[0m | \u001b[34m\u001b[1mDEBUG   \u001b[0m | \u001b[36m__main__\u001b[0m:\u001b[36m<module>\u001b[0m:\u001b[36m19\u001b[0m - \u001b[34m\u001b[1mxc=381.5 yc=280.5 w=34.0 h=24.0 zc=76.0 d=3.0\u001b[0m\n",
      "\u001b[32m2024-06-06 18:10:30.952\u001b[0m | \u001b[34m\u001b[1mDEBUG   \u001b[0m | \u001b[36m__main__\u001b[0m:\u001b[36m<module>\u001b[0m:\u001b[36m19\u001b[0m - \u001b[34m\u001b[1mxc=337.0 yc=312.0 w=15.0 h=13.0 zc=93.5 d=4.0\u001b[0m\n",
      "\u001b[32m2024-06-06 18:10:31.055\u001b[0m | \u001b[34m\u001b[1mDEBUG   \u001b[0m | \u001b[36m__main__\u001b[0m:\u001b[36m<module>\u001b[0m:\u001b[36m19\u001b[0m - \u001b[34m\u001b[1mxc=415.0 yc=273.0 w=13.0 h=11.0 zc=75.5 d=2.0\u001b[0m\n",
      "\u001b[32m2024-06-06 18:10:31.158\u001b[0m | \u001b[34m\u001b[1mDEBUG   \u001b[0m | \u001b[36m__main__\u001b[0m:\u001b[36m<module>\u001b[0m:\u001b[36m19\u001b[0m - \u001b[34m\u001b[1mxc=406.0 yc=283.0 w=7.0 h=13.0 zc=76.5 d=2.0\u001b[0m\n",
      "\u001b[32m2024-06-06 18:10:31.261\u001b[0m | \u001b[34m\u001b[1mDEBUG   \u001b[0m | \u001b[36m__main__\u001b[0m:\u001b[36m<module>\u001b[0m:\u001b[36m19\u001b[0m - \u001b[34m\u001b[1mxc=393.0 yc=260.5 w=11.0 h=10.0 zc=67.5 d=2.0\u001b[0m\n",
      "\u001b[32m2024-06-06 18:10:32.433\u001b[0m | \u001b[1mINFO    \u001b[0m | \u001b[36m__main__\u001b[0m:\u001b[36m<module>\u001b[0m:\u001b[36m38\u001b[0m - \u001b[1m100-1.3.6.1.4.1.55648.2.822934672390347012366775170844931150498-6\u001b[0m\n",
      "\u001b[32m2024-06-06 18:10:35.835\u001b[0m | \u001b[34m\u001b[1mDEBUG   \u001b[0m | \u001b[36m__main__\u001b[0m:\u001b[36m<module>\u001b[0m:\u001b[36m19\u001b[0m - \u001b[34m\u001b[1mxc=172.0 yc=253.5 w=157.0 h=142.0 zc=38.0 d=9.0\u001b[0m\n",
      "\u001b[32m2024-06-06 18:10:35.897\u001b[0m | \u001b[34m\u001b[1mDEBUG   \u001b[0m | \u001b[36m__main__\u001b[0m:\u001b[36m<module>\u001b[0m:\u001b[36m19\u001b[0m - \u001b[34m\u001b[1mxc=199.5 yc=342.5 w=10.0 h=16.0 zc=59.5 d=2.0\u001b[0m\n",
      "\u001b[32m2024-06-06 18:10:35.959\u001b[0m | \u001b[34m\u001b[1mDEBUG   \u001b[0m | \u001b[36m__main__\u001b[0m:\u001b[36m<module>\u001b[0m:\u001b[36m19\u001b[0m - \u001b[34m\u001b[1mxc=199.5 yc=378.5 w=22.0 h=18.0 zc=49.5 d=2.0\u001b[0m\n",
      "\u001b[32m2024-06-06 18:10:36.021\u001b[0m | \u001b[34m\u001b[1mDEBUG   \u001b[0m | \u001b[36m__main__\u001b[0m:\u001b[36m<module>\u001b[0m:\u001b[36m19\u001b[0m - \u001b[34m\u001b[1mxc=117.0 yc=225.0 w=25.0 h=21.0 zc=40.5 d=2.0\u001b[0m\n",
      "\u001b[32m2024-06-06 18:10:36.083\u001b[0m | \u001b[34m\u001b[1mDEBUG   \u001b[0m | \u001b[36m__main__\u001b[0m:\u001b[36m<module>\u001b[0m:\u001b[36m19\u001b[0m - \u001b[34m\u001b[1mxc=355.0 yc=275.0 w=13.0 h=11.0 zc=51.0 d=1.0\u001b[0m\n",
      "\u001b[32m2024-06-06 18:10:36.144\u001b[0m | \u001b[34m\u001b[1mDEBUG   \u001b[0m | \u001b[36m__main__\u001b[0m:\u001b[36m<module>\u001b[0m:\u001b[36m19\u001b[0m - \u001b[34m\u001b[1mxc=158.0 yc=313.0 w=13.0 h=11.0 zc=56.0 d=1.0\u001b[0m\n",
      "\u001b[32m2024-06-06 18:10:36.713\u001b[0m | \u001b[1mINFO    \u001b[0m | \u001b[36m__main__\u001b[0m:\u001b[36m<module>\u001b[0m:\u001b[36m38\u001b[0m - \u001b[1m101-1.3.6.1.4.1.55648.2.829459519660770091620177679968217341139-6\u001b[0m\n",
      "\u001b[32m2024-06-06 18:10:43.671\u001b[0m | \u001b[34m\u001b[1mDEBUG   \u001b[0m | \u001b[36m__main__\u001b[0m:\u001b[36m<module>\u001b[0m:\u001b[36m19\u001b[0m - \u001b[34m\u001b[1mxc=177.5 yc=213.5 w=106.0 h=140.0 zc=75.0 d=27.0\u001b[0m\n",
      "\u001b[32m2024-06-06 18:10:43.785\u001b[0m | \u001b[34m\u001b[1mDEBUG   \u001b[0m | \u001b[36m__main__\u001b[0m:\u001b[36m<module>\u001b[0m:\u001b[36m19\u001b[0m - \u001b[34m\u001b[1mxc=173.0 yc=186.0 w=105.0 h=367.0 zc=85.5 d=22.0\u001b[0m\n",
      "\u001b[32m2024-06-06 18:10:43.897\u001b[0m | \u001b[34m\u001b[1mDEBUG   \u001b[0m | \u001b[36m__main__\u001b[0m:\u001b[36m<module>\u001b[0m:\u001b[36m19\u001b[0m - \u001b[34m\u001b[1mxc=117.5 yc=301.0 w=14.0 h=15.0 zc=77.5 d=4.0\u001b[0m\n",
      "\u001b[32m2024-06-06 18:10:44.008\u001b[0m | \u001b[34m\u001b[1mDEBUG   \u001b[0m | \u001b[36m__main__\u001b[0m:\u001b[36m<module>\u001b[0m:\u001b[36m19\u001b[0m - \u001b[34m\u001b[1mxc=398.0 yc=241.0 w=11.0 h=11.0 zc=90.0 d=3.0\u001b[0m\n",
      "\u001b[32m2024-06-06 18:10:44.119\u001b[0m | \u001b[34m\u001b[1mDEBUG   \u001b[0m | \u001b[36m__main__\u001b[0m:\u001b[36m<module>\u001b[0m:\u001b[36m19\u001b[0m - \u001b[34m\u001b[1mxc=336.5 yc=351.0 w=12.0 h=9.0 zc=83.0 d=3.0\u001b[0m\n",
      "\u001b[32m2024-06-06 18:10:44.230\u001b[0m | \u001b[34m\u001b[1mDEBUG   \u001b[0m | \u001b[36m__main__\u001b[0m:\u001b[36m<module>\u001b[0m:\u001b[36m19\u001b[0m - \u001b[34m\u001b[1mxc=401.5 yc=274.5 w=8.0 h=10.0 zc=90.0 d=1.0\u001b[0m\n",
      "\u001b[32m2024-06-06 18:10:44.343\u001b[0m | \u001b[34m\u001b[1mDEBUG   \u001b[0m | \u001b[36m__main__\u001b[0m:\u001b[36m<module>\u001b[0m:\u001b[36m19\u001b[0m - \u001b[34m\u001b[1mxc=413.5 yc=274.0 w=10.0 h=13.0 zc=87.0 d=1.0\u001b[0m\n",
      "\u001b[32m2024-06-06 18:10:45.475\u001b[0m | \u001b[1mINFO    \u001b[0m | \u001b[36m__main__\u001b[0m:\u001b[36m<module>\u001b[0m:\u001b[36m38\u001b[0m - \u001b[1m102-1.3.6.1.4.1.55648.2.83486533620265763682770920226431340336-7\u001b[0m\n"
     ]
    },
    {
     "name": "stderr",
     "output_type": "stream",
     "text": [
      "\u001b[32m2024-06-06 18:10:51.633\u001b[0m | \u001b[34m\u001b[1mDEBUG   \u001b[0m | \u001b[36m__main__\u001b[0m:\u001b[36m<module>\u001b[0m:\u001b[36m19\u001b[0m - \u001b[34m\u001b[1mxc=367.5 yc=248.0 w=66.0 h=71.0 zc=31.0 d=21.0\u001b[0m\n",
      "\u001b[32m2024-06-06 18:10:52.738\u001b[0m | \u001b[1mINFO    \u001b[0m | \u001b[36m__main__\u001b[0m:\u001b[36m<module>\u001b[0m:\u001b[36m38\u001b[0m - \u001b[1m103-1.3.6.1.4.1.55648.2.835474881974104132193144026122007786638-1\u001b[0m\n",
      "\u001b[32m2024-06-06 18:10:59.563\u001b[0m | \u001b[34m\u001b[1mDEBUG   \u001b[0m | \u001b[36m__main__\u001b[0m:\u001b[36m<module>\u001b[0m:\u001b[36m19\u001b[0m - \u001b[34m\u001b[1mxc=359.0 yc=305.0 w=85.0 h=63.0 zc=74.5 d=14.0\u001b[0m\n",
      "\u001b[32m2024-06-06 18:10:59.662\u001b[0m | \u001b[34m\u001b[1mDEBUG   \u001b[0m | \u001b[36m__main__\u001b[0m:\u001b[36m<module>\u001b[0m:\u001b[36m19\u001b[0m - \u001b[34m\u001b[1mxc=366.0 yc=342.0 w=11.0 h=9.0 zc=35.0 d=1.0\u001b[0m\n",
      "\u001b[32m2024-06-06 18:10:59.759\u001b[0m | \u001b[34m\u001b[1mDEBUG   \u001b[0m | \u001b[36m__main__\u001b[0m:\u001b[36m<module>\u001b[0m:\u001b[36m19\u001b[0m - \u001b[34m\u001b[1mxc=342.0 yc=342.0 w=7.0 h=7.0 zc=34.0 d=1.0\u001b[0m\n",
      "\u001b[32m2024-06-06 18:10:59.860\u001b[0m | \u001b[34m\u001b[1mDEBUG   \u001b[0m | \u001b[36m__main__\u001b[0m:\u001b[36m<module>\u001b[0m:\u001b[36m19\u001b[0m - \u001b[34m\u001b[1mxc=153.0 yc=143.0 w=7.0 h=7.0 zc=70.0 d=1.0\u001b[0m\n",
      "\u001b[32m2024-06-06 18:10:59.959\u001b[0m | \u001b[34m\u001b[1mDEBUG   \u001b[0m | \u001b[36m__main__\u001b[0m:\u001b[36m<module>\u001b[0m:\u001b[36m19\u001b[0m - \u001b[34m\u001b[1mxc=132.5 yc=330.5 w=8.0 h=8.0 zc=38.0 d=1.0\u001b[0m\n",
      "\u001b[32m2024-06-06 18:11:01.037\u001b[0m | \u001b[1mINFO    \u001b[0m | \u001b[36m__main__\u001b[0m:\u001b[36m<module>\u001b[0m:\u001b[36m38\u001b[0m - \u001b[1m104-1.3.6.1.4.1.55648.2.856278606190857063618470110437468682301-5\u001b[0m\n",
      "\u001b[32m2024-06-06 18:11:06.551\u001b[0m | \u001b[34m\u001b[1mDEBUG   \u001b[0m | \u001b[36m__main__\u001b[0m:\u001b[36m<module>\u001b[0m:\u001b[36m19\u001b[0m - \u001b[34m\u001b[1mxc=170.0 yc=113.5 w=59.0 h=228.0 zc=77.0 d=7.0\u001b[0m\n",
      "\u001b[32m2024-06-06 18:11:06.647\u001b[0m | \u001b[34m\u001b[1mDEBUG   \u001b[0m | \u001b[36m__main__\u001b[0m:\u001b[36m<module>\u001b[0m:\u001b[36m19\u001b[0m - \u001b[34m\u001b[1mxc=180.5 yc=222.0 w=36.0 h=45.0 zc=76.0 d=7.0\u001b[0m\n",
      "\u001b[32m2024-06-06 18:11:06.743\u001b[0m | \u001b[34m\u001b[1mDEBUG   \u001b[0m | \u001b[36m__main__\u001b[0m:\u001b[36m<module>\u001b[0m:\u001b[36m19\u001b[0m - \u001b[34m\u001b[1mxc=206.5 yc=305.5 w=28.0 h=30.0 zc=71.0 d=5.0\u001b[0m\n",
      "\u001b[32m2024-06-06 18:11:06.837\u001b[0m | \u001b[34m\u001b[1mDEBUG   \u001b[0m | \u001b[36m__main__\u001b[0m:\u001b[36m<module>\u001b[0m:\u001b[36m19\u001b[0m - \u001b[34m\u001b[1mxc=354.0 yc=319.5 w=35.0 h=32.0 zc=45.5 d=8.0\u001b[0m\n",
      "\u001b[32m2024-06-06 18:11:06.932\u001b[0m | \u001b[34m\u001b[1mDEBUG   \u001b[0m | \u001b[36m__main__\u001b[0m:\u001b[36m<module>\u001b[0m:\u001b[36m19\u001b[0m - \u001b[34m\u001b[1mxc=352.5 yc=313.5 w=38.0 h=36.0 zc=55.0 d=9.0\u001b[0m\n",
      "\u001b[32m2024-06-06 18:11:07.037\u001b[0m | \u001b[34m\u001b[1mDEBUG   \u001b[0m | \u001b[36m__main__\u001b[0m:\u001b[36m<module>\u001b[0m:\u001b[36m19\u001b[0m - \u001b[34m\u001b[1mxc=410.5 yc=257.0 w=32.0 h=25.0 zc=54.5 d=4.0\u001b[0m\n",
      "\u001b[32m2024-06-06 18:11:07.138\u001b[0m | \u001b[34m\u001b[1mDEBUG   \u001b[0m | \u001b[36m__main__\u001b[0m:\u001b[36m<module>\u001b[0m:\u001b[36m19\u001b[0m - \u001b[34m\u001b[1mxc=353.0 yc=237.0 w=21.0 h=25.0 zc=77.0 d=5.0\u001b[0m\n",
      "\u001b[32m2024-06-06 18:11:07.233\u001b[0m | \u001b[34m\u001b[1mDEBUG   \u001b[0m | \u001b[36m__main__\u001b[0m:\u001b[36m<module>\u001b[0m:\u001b[36m19\u001b[0m - \u001b[34m\u001b[1mxc=202.0 yc=342.0 w=13.0 h=13.0 zc=43.0 d=3.0\u001b[0m\n",
      "\u001b[32m2024-06-06 18:11:08.150\u001b[0m | \u001b[1mINFO    \u001b[0m | \u001b[36m__main__\u001b[0m:\u001b[36m<module>\u001b[0m:\u001b[36m38\u001b[0m - \u001b[1m105-1.3.6.1.4.1.55648.2.863377005365042041149547683241518946975-8\u001b[0m\n",
      "\u001b[32m2024-06-06 18:11:13.700\u001b[0m | \u001b[34m\u001b[1mDEBUG   \u001b[0m | \u001b[36m__main__\u001b[0m:\u001b[36m<module>\u001b[0m:\u001b[36m19\u001b[0m - \u001b[34m\u001b[1mxc=356.5 yc=291.5 w=40.0 h=40.0 zc=91.0 d=5.0\u001b[0m\n",
      "\u001b[32m2024-06-06 18:11:14.778\u001b[0m | \u001b[1mINFO    \u001b[0m | \u001b[36m__main__\u001b[0m:\u001b[36m<module>\u001b[0m:\u001b[36m38\u001b[0m - \u001b[1m106-1.3.6.1.4.1.55648.2.866218911913409219654087708501875252538-1\u001b[0m\n",
      "\u001b[32m2024-06-06 18:11:21.030\u001b[0m | \u001b[34m\u001b[1mDEBUG   \u001b[0m | \u001b[36m__main__\u001b[0m:\u001b[36m<module>\u001b[0m:\u001b[36m19\u001b[0m - \u001b[34m\u001b[1mxc=150.0 yc=258.5 w=123.0 h=130.0 zc=49.0 d=15.0\u001b[0m\n",
      "\u001b[32m2024-06-06 18:11:21.129\u001b[0m | \u001b[34m\u001b[1mDEBUG   \u001b[0m | \u001b[36m__main__\u001b[0m:\u001b[36m<module>\u001b[0m:\u001b[36m19\u001b[0m - \u001b[34m\u001b[1mxc=284.0 yc=351.0 w=199.0 h=97.0 zc=78.0 d=1.0\u001b[0m\n",
      "\u001b[32m2024-06-06 18:11:21.230\u001b[0m | \u001b[34m\u001b[1mDEBUG   \u001b[0m | \u001b[36m__main__\u001b[0m:\u001b[36m<module>\u001b[0m:\u001b[36m19\u001b[0m - \u001b[34m\u001b[1mxc=369.0 yc=283.0 w=7.0 h=7.0 zc=73.0 d=1.0\u001b[0m\n",
      "\u001b[32m2024-06-06 18:11:21.330\u001b[0m | \u001b[34m\u001b[1mDEBUG   \u001b[0m | \u001b[36m__main__\u001b[0m:\u001b[36m<module>\u001b[0m:\u001b[36m19\u001b[0m - \u001b[34m\u001b[1mxc=242.5 yc=370.0 w=66.0 h=15.0 zc=73.0 d=5.0\u001b[0m\n",
      "\u001b[32m2024-06-06 18:11:22.234\u001b[0m | \u001b[1mINFO    \u001b[0m | \u001b[36m__main__\u001b[0m:\u001b[36m<module>\u001b[0m:\u001b[36m38\u001b[0m - \u001b[1m107-1.3.6.1.4.1.55648.2.87807076757580127589910199637800974385-4\u001b[0m\n",
      "\u001b[32m2024-06-06 18:11:26.511\u001b[0m | \u001b[34m\u001b[1mDEBUG   \u001b[0m | \u001b[36m__main__\u001b[0m:\u001b[36m<module>\u001b[0m:\u001b[36m19\u001b[0m - \u001b[34m\u001b[1mxc=200.0 yc=282.5 w=83.0 h=78.0 zc=81.5 d=14.0\u001b[0m\n",
      "\u001b[32m2024-06-06 18:11:27.216\u001b[0m | \u001b[1mINFO    \u001b[0m | \u001b[36m__main__\u001b[0m:\u001b[36m<module>\u001b[0m:\u001b[36m38\u001b[0m - \u001b[1m108-1.3.6.1.4.1.55648.2.879701180150320573132174883224184931354-1\u001b[0m\n",
      "\u001b[32m2024-06-06 18:11:31.329\u001b[0m | \u001b[34m\u001b[1mDEBUG   \u001b[0m | \u001b[36m__main__\u001b[0m:\u001b[36m<module>\u001b[0m:\u001b[36m19\u001b[0m - \u001b[34m\u001b[1mxc=198.0 yc=285.0 w=99.0 h=115.0 zc=54.0 d=19.0\u001b[0m\n",
      "\u001b[32m2024-06-06 18:11:31.404\u001b[0m | \u001b[34m\u001b[1mDEBUG   \u001b[0m | \u001b[36m__main__\u001b[0m:\u001b[36m<module>\u001b[0m:\u001b[36m19\u001b[0m - \u001b[34m\u001b[1mxc=373.0 yc=316.0 w=13.0 h=11.0 zc=37.5 d=2.0\u001b[0m\n",
      "\u001b[32m2024-06-06 18:11:31.480\u001b[0m | \u001b[34m\u001b[1mDEBUG   \u001b[0m | \u001b[36m__main__\u001b[0m:\u001b[36m<module>\u001b[0m:\u001b[36m19\u001b[0m - \u001b[34m\u001b[1mxc=187.0 yc=167.5 w=11.0 h=10.0 zc=49.5 d=2.0\u001b[0m\n",
      "\u001b[32m2024-06-06 18:11:31.556\u001b[0m | \u001b[34m\u001b[1mDEBUG   \u001b[0m | \u001b[36m__main__\u001b[0m:\u001b[36m<module>\u001b[0m:\u001b[36m19\u001b[0m - \u001b[34m\u001b[1mxc=152.5 yc=335.5 w=12.0 h=12.0 zc=51.5 d=2.0\u001b[0m\n",
      "\u001b[32m2024-06-06 18:11:31.632\u001b[0m | \u001b[34m\u001b[1mDEBUG   \u001b[0m | \u001b[36m__main__\u001b[0m:\u001b[36m<module>\u001b[0m:\u001b[36m19\u001b[0m - \u001b[34m\u001b[1mxc=160.5 yc=212.0 w=10.0 h=7.0 zc=57.5 d=2.0\u001b[0m\n",
      "\u001b[32m2024-06-06 18:11:31.708\u001b[0m | \u001b[34m\u001b[1mDEBUG   \u001b[0m | \u001b[36m__main__\u001b[0m:\u001b[36m<module>\u001b[0m:\u001b[36m19\u001b[0m - \u001b[34m\u001b[1mxc=329.5 yc=298.5 w=8.0 h=8.0 zc=70.0 d=1.0\u001b[0m\n",
      "\u001b[32m2024-06-06 18:11:31.782\u001b[0m | \u001b[34m\u001b[1mDEBUG   \u001b[0m | \u001b[36m__main__\u001b[0m:\u001b[36m<module>\u001b[0m:\u001b[36m19\u001b[0m - \u001b[34m\u001b[1mxc=166.0 yc=269.0 w=9.0 h=9.0 zc=68.0 d=1.0\u001b[0m\n",
      "\u001b[32m2024-06-06 18:11:31.858\u001b[0m | \u001b[34m\u001b[1mDEBUG   \u001b[0m | \u001b[36m__main__\u001b[0m:\u001b[36m<module>\u001b[0m:\u001b[36m19\u001b[0m - \u001b[34m\u001b[1mxc=293.0 yc=187.5 w=9.0 h=10.0 zc=63.0 d=1.0\u001b[0m\n",
      "\u001b[32m2024-06-06 18:11:31.933\u001b[0m | \u001b[34m\u001b[1mDEBUG   \u001b[0m | \u001b[36m__main__\u001b[0m:\u001b[36m<module>\u001b[0m:\u001b[36m19\u001b[0m - \u001b[34m\u001b[1mxc=215.5 yc=180.5 w=8.0 h=8.0 zc=61.0 d=1.0\u001b[0m\n",
      "\u001b[32m2024-06-06 18:11:32.008\u001b[0m | \u001b[34m\u001b[1mDEBUG   \u001b[0m | \u001b[36m__main__\u001b[0m:\u001b[36m<module>\u001b[0m:\u001b[36m19\u001b[0m - \u001b[34m\u001b[1mxc=174.0 yc=341.5 w=11.0 h=12.0 zc=50.0 d=1.0\u001b[0m\n",
      "\u001b[32m2024-06-06 18:11:32.754\u001b[0m | \u001b[1mINFO    \u001b[0m | \u001b[36m__main__\u001b[0m:\u001b[36m<module>\u001b[0m:\u001b[36m38\u001b[0m - \u001b[1m109-1.3.6.1.4.1.55648.2.882543687846509321365730095335432204022-10\u001b[0m\n",
      "\u001b[32m2024-06-06 18:11:36.511\u001b[0m | \u001b[34m\u001b[1mDEBUG   \u001b[0m | \u001b[36m__main__\u001b[0m:\u001b[36m<module>\u001b[0m:\u001b[36m19\u001b[0m - \u001b[34m\u001b[1mxc=333.5 yc=236.0 w=190.0 h=169.0 zc=31.5 d=64.0\u001b[0m\n",
      "\u001b[32m2024-06-06 18:11:37.333\u001b[0m | \u001b[1mINFO    \u001b[0m | \u001b[36m__main__\u001b[0m:\u001b[36m<module>\u001b[0m:\u001b[36m38\u001b[0m - \u001b[1m110-1.3.6.1.4.1.55648.2.886507687197130942257316130020564549723-1\u001b[0m\n",
      "\u001b[32m2024-06-06 18:11:41.619\u001b[0m | \u001b[34m\u001b[1mDEBUG   \u001b[0m | \u001b[36m__main__\u001b[0m:\u001b[36m<module>\u001b[0m:\u001b[36m19\u001b[0m - \u001b[34m\u001b[1mxc=337.5 yc=287.5 w=32.0 h=36.0 zc=91.0 d=7.0\u001b[0m\n",
      "\u001b[32m2024-06-06 18:11:42.941\u001b[0m | \u001b[1mINFO    \u001b[0m | \u001b[36m__main__\u001b[0m:\u001b[36m<module>\u001b[0m:\u001b[36m38\u001b[0m - \u001b[1m111-1.3.6.1.4.1.55648.2.89595306461380572682511799795275162763-1\u001b[0m\n",
      "\u001b[32m2024-06-06 18:11:47.589\u001b[0m | \u001b[34m\u001b[1mDEBUG   \u001b[0m | \u001b[36m__main__\u001b[0m:\u001b[36m<module>\u001b[0m:\u001b[36m19\u001b[0m - \u001b[34m\u001b[1mxc=170.0 yc=299.0 w=33.0 h=35.0 zc=131.0 d=5.0\u001b[0m\n",
      "\u001b[32m2024-06-06 18:11:47.713\u001b[0m | \u001b[34m\u001b[1mDEBUG   \u001b[0m | \u001b[36m__main__\u001b[0m:\u001b[36m<module>\u001b[0m:\u001b[36m19\u001b[0m - \u001b[34m\u001b[1mxc=267.5 yc=303.0 w=300.0 h=37.0 zc=120.5 d=2.0\u001b[0m\n",
      "\u001b[32m2024-06-06 18:11:47.843\u001b[0m | \u001b[34m\u001b[1mDEBUG   \u001b[0m | \u001b[36m__main__\u001b[0m:\u001b[36m<module>\u001b[0m:\u001b[36m19\u001b[0m - \u001b[34m\u001b[1mxc=358.5 yc=234.0 w=16.0 h=21.0 zc=128.0 d=3.0\u001b[0m\n",
      "\u001b[32m2024-06-06 18:11:47.972\u001b[0m | \u001b[34m\u001b[1mDEBUG   \u001b[0m | \u001b[36m__main__\u001b[0m:\u001b[36m<module>\u001b[0m:\u001b[36m19\u001b[0m - \u001b[34m\u001b[1mxc=366.0 yc=245.0 w=15.0 h=39.0 zc=124.5 d=2.0\u001b[0m\n",
      "\u001b[32m2024-06-06 18:11:49.316\u001b[0m | \u001b[1mINFO    \u001b[0m | \u001b[36m__main__\u001b[0m:\u001b[36m<module>\u001b[0m:\u001b[36m38\u001b[0m - \u001b[1m112-1.3.6.1.4.1.55648.2.899411972871536834795628681075246014252-4\u001b[0m\n",
      "\u001b[32m2024-06-06 18:11:52.240\u001b[0m | \u001b[34m\u001b[1mDEBUG   \u001b[0m | \u001b[36m__main__\u001b[0m:\u001b[36m<module>\u001b[0m:\u001b[36m19\u001b[0m - \u001b[34m\u001b[1mxc=372.0 yc=205.5 w=129.0 h=92.0 zc=68.0 d=17.0\u001b[0m\n",
      "\u001b[32m2024-06-06 18:11:53.369\u001b[0m | \u001b[1mINFO    \u001b[0m | \u001b[36m__main__\u001b[0m:\u001b[36m<module>\u001b[0m:\u001b[36m38\u001b[0m - \u001b[1m113-1.3.6.1.4.1.55648.2.901314945676031542641537493945168551093-1\u001b[0m\n",
      "\u001b[32m2024-06-06 18:11:57.497\u001b[0m | \u001b[34m\u001b[1mDEBUG   \u001b[0m | \u001b[36m__main__\u001b[0m:\u001b[36m<module>\u001b[0m:\u001b[36m19\u001b[0m - \u001b[34m\u001b[1mxc=180.0 yc=199.5 w=109.0 h=102.0 zc=95.5 d=14.0\u001b[0m\n"
     ]
    },
    {
     "name": "stderr",
     "output_type": "stream",
     "text": [
      "\u001b[32m2024-06-06 18:11:57.604\u001b[0m | \u001b[34m\u001b[1mDEBUG   \u001b[0m | \u001b[36m__main__\u001b[0m:\u001b[36m<module>\u001b[0m:\u001b[36m19\u001b[0m - \u001b[34m\u001b[1mxc=151.5 yc=261.0 w=12.0 h=7.0 zc=110.5 d=2.0\u001b[0m\n",
      "\u001b[32m2024-06-06 18:11:58.562\u001b[0m | \u001b[1mINFO    \u001b[0m | \u001b[36m__main__\u001b[0m:\u001b[36m<module>\u001b[0m:\u001b[36m38\u001b[0m - \u001b[1m114-1.3.6.1.4.1.55648.2.909562561349167665007734640640520520584-2\u001b[0m\n",
      "\u001b[32m2024-06-06 18:12:03.709\u001b[0m | \u001b[34m\u001b[1mDEBUG   \u001b[0m | \u001b[36m__main__\u001b[0m:\u001b[36m<module>\u001b[0m:\u001b[36m19\u001b[0m - \u001b[34m\u001b[1mxc=212.0 yc=253.5 w=47.0 h=42.0 zc=46.0 d=13.0\u001b[0m\n",
      "\u001b[32m2024-06-06 18:12:09.230\u001b[0m | \u001b[1mINFO    \u001b[0m | \u001b[36m__main__\u001b[0m:\u001b[36m<module>\u001b[0m:\u001b[36m38\u001b[0m - \u001b[1m115-1.3.6.1.4.1.55648.2.913239413111188792632935164607668272947-1\u001b[0m\n",
      "\u001b[32m2024-06-06 18:12:23.531\u001b[0m | \u001b[34m\u001b[1mDEBUG   \u001b[0m | \u001b[36m__main__\u001b[0m:\u001b[36m<module>\u001b[0m:\u001b[36m19\u001b[0m - \u001b[34m\u001b[1mxc=362.5 yc=183.5 w=68.0 h=68.0 zc=86.0 d=13.0\u001b[0m\n",
      "\u001b[32m2024-06-06 18:12:24.999\u001b[0m | \u001b[1mINFO    \u001b[0m | \u001b[36m__main__\u001b[0m:\u001b[36m<module>\u001b[0m:\u001b[36m38\u001b[0m - \u001b[1m116-1.3.6.1.4.1.55648.2.913637523551865938586481818051290402649-1\u001b[0m\n",
      "\u001b[32m2024-06-06 18:12:31.196\u001b[0m | \u001b[34m\u001b[1mDEBUG   \u001b[0m | \u001b[36m__main__\u001b[0m:\u001b[36m<module>\u001b[0m:\u001b[36m19\u001b[0m - \u001b[34m\u001b[1mxc=142.0 yc=227.0 w=13.0 h=17.0 zc=113.0 d=1.0\u001b[0m\n",
      "\u001b[32m2024-06-06 18:12:31.311\u001b[0m | \u001b[34m\u001b[1mDEBUG   \u001b[0m | \u001b[36m__main__\u001b[0m:\u001b[36m<module>\u001b[0m:\u001b[36m19\u001b[0m - \u001b[34m\u001b[1mxc=269.0 yc=200.5 w=221.0 h=46.0 zc=106.0 d=1.0\u001b[0m\n",
      "\u001b[32m2024-06-06 18:12:31.429\u001b[0m | \u001b[34m\u001b[1mDEBUG   \u001b[0m | \u001b[36m__main__\u001b[0m:\u001b[36m<module>\u001b[0m:\u001b[36m19\u001b[0m - \u001b[34m\u001b[1mxc=140.5 yc=346.0 w=58.0 h=35.0 zc=90.5 d=12.0\u001b[0m\n",
      "\u001b[32m2024-06-06 18:12:32.812\u001b[0m | \u001b[1mINFO    \u001b[0m | \u001b[36m__main__\u001b[0m:\u001b[36m<module>\u001b[0m:\u001b[36m38\u001b[0m - \u001b[1m117-1.3.6.1.4.1.55648.2.917157579572968981109063543812213029868-3\u001b[0m\n",
      "\u001b[32m2024-06-06 18:12:39.669\u001b[0m | \u001b[34m\u001b[1mDEBUG   \u001b[0m | \u001b[36m__main__\u001b[0m:\u001b[36m<module>\u001b[0m:\u001b[36m19\u001b[0m - \u001b[34m\u001b[1mxc=350.0 yc=212.5 w=97.0 h=86.0 zc=85.5 d=24.0\u001b[0m\n",
      "\u001b[32m2024-06-06 18:12:41.238\u001b[0m | \u001b[1mINFO    \u001b[0m | \u001b[36m__main__\u001b[0m:\u001b[36m<module>\u001b[0m:\u001b[36m38\u001b[0m - \u001b[1m118-1.3.6.1.4.1.55648.2.919104832857261662959929418670625358576-1\u001b[0m\n",
      "\u001b[32m2024-06-06 18:12:47.600\u001b[0m | \u001b[34m\u001b[1mDEBUG   \u001b[0m | \u001b[36m__main__\u001b[0m:\u001b[36m<module>\u001b[0m:\u001b[36m19\u001b[0m - \u001b[34m\u001b[1mxc=158.0 yc=220.5 w=73.0 h=62.0 zc=69.0 d=15.0\u001b[0m\n",
      "\u001b[32m2024-06-06 18:12:48.824\u001b[0m | \u001b[1mINFO    \u001b[0m | \u001b[36m__main__\u001b[0m:\u001b[36m<module>\u001b[0m:\u001b[36m38\u001b[0m - \u001b[1m119-1.3.6.1.4.1.55648.2.921950072299644952697528652561599633124-1\u001b[0m\n",
      "\u001b[32m2024-06-06 18:12:53.939\u001b[0m | \u001b[34m\u001b[1mDEBUG   \u001b[0m | \u001b[36m__main__\u001b[0m:\u001b[36m<module>\u001b[0m:\u001b[36m19\u001b[0m - \u001b[34m\u001b[1mxc=178.0 yc=266.0 w=19.0 h=21.0 zc=97.5 d=4.0\u001b[0m\n",
      "\u001b[32m2024-06-06 18:12:54.059\u001b[0m | \u001b[34m\u001b[1mDEBUG   \u001b[0m | \u001b[36m__main__\u001b[0m:\u001b[36m<module>\u001b[0m:\u001b[36m19\u001b[0m - \u001b[34m\u001b[1mxc=196.0 yc=308.0 w=57.0 h=63.0 zc=71.0 d=21.0\u001b[0m\n",
      "\u001b[32m2024-06-06 18:12:55.540\u001b[0m | \u001b[1mINFO    \u001b[0m | \u001b[36m__main__\u001b[0m:\u001b[36m<module>\u001b[0m:\u001b[36m38\u001b[0m - \u001b[1m120-1.3.6.1.4.1.55648.2.923476799783704415633173572289267011089-2\u001b[0m\n",
      "\u001b[32m2024-06-06 18:13:00.249\u001b[0m | \u001b[34m\u001b[1mDEBUG   \u001b[0m | \u001b[36m__main__\u001b[0m:\u001b[36m<module>\u001b[0m:\u001b[36m19\u001b[0m - \u001b[34m\u001b[1mxc=187.0 yc=197.5 w=19.0 h=26.0 zc=111.0 d=3.0\u001b[0m\n",
      "\u001b[32m2024-06-06 18:13:00.370\u001b[0m | \u001b[34m\u001b[1mDEBUG   \u001b[0m | \u001b[36m__main__\u001b[0m:\u001b[36m<module>\u001b[0m:\u001b[36m19\u001b[0m - \u001b[34m\u001b[1mxc=198.5 yc=209.5 w=12.0 h=30.0 zc=110.0 d=3.0\u001b[0m\n",
      "\u001b[32m2024-06-06 18:13:00.491\u001b[0m | \u001b[34m\u001b[1mDEBUG   \u001b[0m | \u001b[36m__main__\u001b[0m:\u001b[36m<module>\u001b[0m:\u001b[36m19\u001b[0m - \u001b[34m\u001b[1mxc=216.5 yc=268.0 w=18.0 h=17.0 zc=106.0 d=1.0\u001b[0m\n",
      "\u001b[32m2024-06-06 18:13:01.769\u001b[0m | \u001b[1mINFO    \u001b[0m | \u001b[36m__main__\u001b[0m:\u001b[36m<module>\u001b[0m:\u001b[36m38\u001b[0m - \u001b[1m121-1.3.6.1.4.1.55648.2.924100140283350267695458685702453168724-3\u001b[0m\n",
      "\u001b[32m2024-06-06 18:13:07.695\u001b[0m | \u001b[34m\u001b[1mDEBUG   \u001b[0m | \u001b[36m__main__\u001b[0m:\u001b[36m<module>\u001b[0m:\u001b[36m19\u001b[0m - \u001b[34m\u001b[1mxc=151.0 yc=238.5 w=145.0 h=164.0 zc=77.5 d=32.0\u001b[0m\n",
      "\u001b[32m2024-06-06 18:13:07.793\u001b[0m | \u001b[34m\u001b[1mDEBUG   \u001b[0m | \u001b[36m__main__\u001b[0m:\u001b[36m<module>\u001b[0m:\u001b[36m19\u001b[0m - \u001b[34m\u001b[1mxc=222.0 yc=313.0 w=39.0 h=65.0 zc=95.0 d=11.0\u001b[0m\n",
      "\u001b[32m2024-06-06 18:13:07.888\u001b[0m | \u001b[34m\u001b[1mDEBUG   \u001b[0m | \u001b[36m__main__\u001b[0m:\u001b[36m<module>\u001b[0m:\u001b[36m19\u001b[0m - \u001b[34m\u001b[1mxc=202.0 yc=185.0 w=25.0 h=27.0 zc=57.5 d=4.0\u001b[0m\n",
      "\u001b[32m2024-06-06 18:13:07.985\u001b[0m | \u001b[34m\u001b[1mDEBUG   \u001b[0m | \u001b[36m__main__\u001b[0m:\u001b[36m<module>\u001b[0m:\u001b[36m19\u001b[0m - \u001b[34m\u001b[1mxc=308.0 yc=230.5 w=37.0 h=64.0 zc=81.5 d=10.0\u001b[0m\n",
      "\u001b[32m2024-06-06 18:13:08.082\u001b[0m | \u001b[34m\u001b[1mDEBUG   \u001b[0m | \u001b[36m__main__\u001b[0m:\u001b[36m<module>\u001b[0m:\u001b[36m19\u001b[0m - \u001b[34m\u001b[1mxc=334.5 yc=372.5 w=36.0 h=50.0 zc=71.5 d=12.0\u001b[0m\n",
      "\u001b[32m2024-06-06 18:13:08.175\u001b[0m | \u001b[34m\u001b[1mDEBUG   \u001b[0m | \u001b[36m__main__\u001b[0m:\u001b[36m<module>\u001b[0m:\u001b[36m19\u001b[0m - \u001b[34m\u001b[1mxc=427.0 yc=300.0 w=15.0 h=15.0 zc=75.0 d=3.0\u001b[0m\n",
      "\u001b[32m2024-06-06 18:13:08.270\u001b[0m | \u001b[34m\u001b[1mDEBUG   \u001b[0m | \u001b[36m__main__\u001b[0m:\u001b[36m<module>\u001b[0m:\u001b[36m19\u001b[0m - \u001b[34m\u001b[1mxc=81.0 yc=258.5 w=13.0 h=14.0 zc=65.0 d=3.0\u001b[0m\n",
      "\u001b[32m2024-06-06 18:13:08.364\u001b[0m | \u001b[34m\u001b[1mDEBUG   \u001b[0m | \u001b[36m__main__\u001b[0m:\u001b[36m<module>\u001b[0m:\u001b[36m19\u001b[0m - \u001b[34m\u001b[1mxc=348.5 yc=200.5 w=22.0 h=26.0 zc=71.5 d=4.0\u001b[0m\n",
      "\u001b[32m2024-06-06 18:13:08.459\u001b[0m | \u001b[34m\u001b[1mDEBUG   \u001b[0m | \u001b[36m__main__\u001b[0m:\u001b[36m<module>\u001b[0m:\u001b[36m19\u001b[0m - \u001b[34m\u001b[1mxc=163.5 yc=339.5 w=14.0 h=14.0 zc=60.0 d=3.0\u001b[0m\n",
      "\u001b[32m2024-06-06 18:13:08.556\u001b[0m | \u001b[34m\u001b[1mDEBUG   \u001b[0m | \u001b[36m__main__\u001b[0m:\u001b[36m<module>\u001b[0m:\u001b[36m19\u001b[0m - \u001b[34m\u001b[1mxc=400.5 yc=327.0 w=18.0 h=17.0 zc=48.0 d=3.0\u001b[0m\n",
      "\u001b[32m2024-06-06 18:13:09.766\u001b[0m | \u001b[1mINFO    \u001b[0m | \u001b[36m__main__\u001b[0m:\u001b[36m<module>\u001b[0m:\u001b[36m38\u001b[0m - \u001b[1m122-1.3.6.1.4.1.55648.2.928912017921143454006671382016309514718-10\u001b[0m\n",
      "\u001b[32m2024-06-06 18:13:13.715\u001b[0m | \u001b[34m\u001b[1mDEBUG   \u001b[0m | \u001b[36m__main__\u001b[0m:\u001b[36m<module>\u001b[0m:\u001b[36m19\u001b[0m - \u001b[34m\u001b[1mxc=223.0 yc=176.0 w=9.0 h=23.0 zc=52.0 d=1.0\u001b[0m\n",
      "\u001b[32m2024-06-06 18:13:14.543\u001b[0m | \u001b[1mINFO    \u001b[0m | \u001b[36m__main__\u001b[0m:\u001b[36m<module>\u001b[0m:\u001b[36m38\u001b[0m - \u001b[1m123-1.3.6.1.4.1.55648.2.935808832641275731086801433288369488087-1\u001b[0m\n",
      "\u001b[32m2024-06-06 18:13:18.710\u001b[0m | \u001b[34m\u001b[1mDEBUG   \u001b[0m | \u001b[36m__main__\u001b[0m:\u001b[36m<module>\u001b[0m:\u001b[36m19\u001b[0m - \u001b[34m\u001b[1mxc=155.0 yc=305.0 w=5.0 h=5.0 zc=60.0 d=1.0\u001b[0m\n",
      "\u001b[32m2024-06-06 18:13:18.778\u001b[0m | \u001b[34m\u001b[1mDEBUG   \u001b[0m | \u001b[36m__main__\u001b[0m:\u001b[36m<module>\u001b[0m:\u001b[36m19\u001b[0m - \u001b[34m\u001b[1mxc=147.5 yc=291.0 w=20.0 h=35.0 zc=59.5 d=2.0\u001b[0m\n",
      "\u001b[32m2024-06-06 18:13:18.844\u001b[0m | \u001b[34m\u001b[1mDEBUG   \u001b[0m | \u001b[36m__main__\u001b[0m:\u001b[36m<module>\u001b[0m:\u001b[36m19\u001b[0m - \u001b[34m\u001b[1mxc=165.0 yc=199.0 w=9.0 h=11.0 zc=43.5 d=2.0\u001b[0m\n",
      "\u001b[32m2024-06-06 18:13:18.910\u001b[0m | \u001b[34m\u001b[1mDEBUG   \u001b[0m | \u001b[36m__main__\u001b[0m:\u001b[36m<module>\u001b[0m:\u001b[36m19\u001b[0m - \u001b[34m\u001b[1mxc=71.0 yc=235.5 w=9.0 h=10.0 zc=37.0 d=1.0\u001b[0m\n",
      "\u001b[32m2024-06-06 18:13:18.976\u001b[0m | \u001b[34m\u001b[1mDEBUG   \u001b[0m | \u001b[36m__main__\u001b[0m:\u001b[36m<module>\u001b[0m:\u001b[36m19\u001b[0m - \u001b[34m\u001b[1mxc=418.5 yc=259.5 w=10.0 h=14.0 zc=42.0 d=1.0\u001b[0m\n",
      "\u001b[32m2024-06-06 18:13:19.043\u001b[0m | \u001b[34m\u001b[1mDEBUG   \u001b[0m | \u001b[36m__main__\u001b[0m:\u001b[36m<module>\u001b[0m:\u001b[36m19\u001b[0m - \u001b[34m\u001b[1mxc=361.5 yc=243.5 w=50.0 h=72.0 zc=54.0 d=5.0\u001b[0m\n",
      "\u001b[32m2024-06-06 18:13:19.695\u001b[0m | \u001b[1mINFO    \u001b[0m | \u001b[36m__main__\u001b[0m:\u001b[36m<module>\u001b[0m:\u001b[36m38\u001b[0m - \u001b[1m124-1.3.6.1.4.1.55648.2.937612184348579850017867871134093150979-6\u001b[0m\n",
      "\u001b[32m2024-06-06 18:13:24.334\u001b[0m | \u001b[34m\u001b[1mDEBUG   \u001b[0m | \u001b[36m__main__\u001b[0m:\u001b[36m<module>\u001b[0m:\u001b[36m19\u001b[0m - \u001b[34m\u001b[1mxc=157.5 yc=284.0 w=100.0 h=77.0 zc=76.5 d=18.0\u001b[0m\n",
      "\u001b[32m2024-06-06 18:13:24.436\u001b[0m | \u001b[34m\u001b[1mDEBUG   \u001b[0m | \u001b[36m__main__\u001b[0m:\u001b[36m<module>\u001b[0m:\u001b[36m19\u001b[0m - \u001b[34m\u001b[1mxc=194.0 yc=349.5 w=45.0 h=40.0 zc=88.0 d=9.0\u001b[0m\n",
      "\u001b[32m2024-06-06 18:13:25.724\u001b[0m | \u001b[1mINFO    \u001b[0m | \u001b[36m__main__\u001b[0m:\u001b[36m<module>\u001b[0m:\u001b[36m38\u001b[0m - \u001b[1m125-1.3.6.1.4.1.55648.2.947197698800201900342973906610828404137-2\u001b[0m\n",
      "\u001b[32m2024-06-06 18:13:31.869\u001b[0m | \u001b[34m\u001b[1mDEBUG   \u001b[0m | \u001b[36m__main__\u001b[0m:\u001b[36m<module>\u001b[0m:\u001b[36m19\u001b[0m - \u001b[34m\u001b[1mxc=359.0 yc=209.0 w=139.0 h=267.0 zc=102.5 d=8.0\u001b[0m\n",
      "\u001b[32m2024-06-06 18:13:33.049\u001b[0m | \u001b[1mINFO    \u001b[0m | \u001b[36m__main__\u001b[0m:\u001b[36m<module>\u001b[0m:\u001b[36m38\u001b[0m - \u001b[1m126-1.3.6.1.4.1.55648.2.947253168371451564761603608210037499405-1\u001b[0m\n",
      "\u001b[32m2024-06-06 18:13:38.778\u001b[0m | \u001b[34m\u001b[1mDEBUG   \u001b[0m | \u001b[36m__main__\u001b[0m:\u001b[36m<module>\u001b[0m:\u001b[36m19\u001b[0m - \u001b[34m\u001b[1mxc=313.0 yc=280.5 w=23.0 h=22.0 zc=96.5 d=4.0\u001b[0m\n",
      "\u001b[32m2024-06-06 18:13:38.883\u001b[0m | \u001b[34m\u001b[1mDEBUG   \u001b[0m | \u001b[36m__main__\u001b[0m:\u001b[36m<module>\u001b[0m:\u001b[36m19\u001b[0m - \u001b[34m\u001b[1mxc=370.0 yc=317.0 w=13.0 h=11.0 zc=86.5 d=2.0\u001b[0m\n"
     ]
    },
    {
     "name": "stderr",
     "output_type": "stream",
     "text": [
      "\u001b[32m2024-06-06 18:13:38.986\u001b[0m | \u001b[34m\u001b[1mDEBUG   \u001b[0m | \u001b[36m__main__\u001b[0m:\u001b[36m<module>\u001b[0m:\u001b[36m19\u001b[0m - \u001b[34m\u001b[1mxc=359.5 yc=270.5 w=96.0 h=88.0 zc=60.5 d=26.0\u001b[0m\n",
      "\u001b[32m2024-06-06 18:13:39.932\u001b[0m | \u001b[1mINFO    \u001b[0m | \u001b[36m__main__\u001b[0m:\u001b[36m<module>\u001b[0m:\u001b[36m38\u001b[0m - \u001b[1m127-1.3.6.1.4.1.55648.2.951349899544548320020499945618796321859-3\u001b[0m\n",
      "\u001b[32m2024-06-06 18:13:43.731\u001b[0m | \u001b[34m\u001b[1mDEBUG   \u001b[0m | \u001b[36m__main__\u001b[0m:\u001b[36m<module>\u001b[0m:\u001b[36m19\u001b[0m - \u001b[34m\u001b[1mxc=189.5 yc=295.5 w=86.0 h=80.0 zc=68.5 d=20.0\u001b[0m\n",
      "\u001b[32m2024-06-06 18:13:43.817\u001b[0m | \u001b[34m\u001b[1mDEBUG   \u001b[0m | \u001b[36m__main__\u001b[0m:\u001b[36m<module>\u001b[0m:\u001b[36m19\u001b[0m - \u001b[34m\u001b[1mxc=342.0 yc=199.5 w=11.0 h=8.0 zc=71.5 d=2.0\u001b[0m\n",
      "\u001b[32m2024-06-06 18:13:43.898\u001b[0m | \u001b[34m\u001b[1mDEBUG   \u001b[0m | \u001b[36m__main__\u001b[0m:\u001b[36m<module>\u001b[0m:\u001b[36m19\u001b[0m - \u001b[34m\u001b[1mxc=427.5 yc=190.0 w=14.0 h=9.0 zc=45.5 d=2.0\u001b[0m\n",
      "\u001b[32m2024-06-06 18:13:44.720\u001b[0m | \u001b[1mINFO    \u001b[0m | \u001b[36m__main__\u001b[0m:\u001b[36m<module>\u001b[0m:\u001b[36m38\u001b[0m - \u001b[1m128-1.3.6.1.4.1.55648.2.958354693790071181336523988022568927193-3\u001b[0m\n",
      "\u001b[32m2024-06-06 18:13:50.636\u001b[0m | \u001b[34m\u001b[1mDEBUG   \u001b[0m | \u001b[36m__main__\u001b[0m:\u001b[36m<module>\u001b[0m:\u001b[36m19\u001b[0m - \u001b[34m\u001b[1mxc=227.5 yc=327.0 w=48.0 h=43.0 zc=46.5 d=32.0\u001b[0m\n",
      "\u001b[32m2024-06-06 18:13:51.646\u001b[0m | \u001b[1mINFO    \u001b[0m | \u001b[36m__main__\u001b[0m:\u001b[36m<module>\u001b[0m:\u001b[36m38\u001b[0m - \u001b[1m129-1.3.6.1.4.1.55648.2.963888885476196307473826820010553815488-1\u001b[0m\n",
      "\u001b[32m2024-06-06 18:13:58.505\u001b[0m | \u001b[34m\u001b[1mDEBUG   \u001b[0m | \u001b[36m__main__\u001b[0m:\u001b[36m<module>\u001b[0m:\u001b[36m19\u001b[0m - \u001b[34m\u001b[1mxc=332.5 yc=235.5 w=44.0 h=52.0 zc=163.5 d=6.0\u001b[0m\n",
      "\u001b[32m2024-06-06 18:14:00.144\u001b[0m | \u001b[1mINFO    \u001b[0m | \u001b[36m__main__\u001b[0m:\u001b[36m<module>\u001b[0m:\u001b[36m38\u001b[0m - \u001b[1m130-1.3.6.1.4.1.55648.2.968508545224130848353296149157571285916-1\u001b[0m\n",
      "\u001b[32m2024-06-06 18:14:07.244\u001b[0m | \u001b[34m\u001b[1mDEBUG   \u001b[0m | \u001b[36m__main__\u001b[0m:\u001b[36m<module>\u001b[0m:\u001b[36m19\u001b[0m - \u001b[34m\u001b[1mxc=334.0 yc=212.0 w=79.0 h=117.0 zc=117.0 d=13.0\u001b[0m\n",
      "\u001b[32m2024-06-06 18:14:08.822\u001b[0m | \u001b[1mINFO    \u001b[0m | \u001b[36m__main__\u001b[0m:\u001b[36m<module>\u001b[0m:\u001b[36m38\u001b[0m - \u001b[1m131-1.3.6.1.4.1.55648.2.97116581290788124388135718560250451173-1\u001b[0m\n",
      "\u001b[32m2024-06-06 18:14:13.831\u001b[0m | \u001b[34m\u001b[1mDEBUG   \u001b[0m | \u001b[36m__main__\u001b[0m:\u001b[36m<module>\u001b[0m:\u001b[36m19\u001b[0m - \u001b[34m\u001b[1mxc=182.5 yc=185.0 w=112.0 h=101.0 zc=94.0 d=19.0\u001b[0m\n",
      "\u001b[32m2024-06-06 18:14:13.936\u001b[0m | \u001b[34m\u001b[1mDEBUG   \u001b[0m | \u001b[36m__main__\u001b[0m:\u001b[36m<module>\u001b[0m:\u001b[36m19\u001b[0m - \u001b[34m\u001b[1mxc=158.5 yc=243.0 w=8.0 h=7.0 zc=112.0 d=1.0\u001b[0m\n",
      "\u001b[32m2024-06-06 18:14:15.175\u001b[0m | \u001b[1mINFO    \u001b[0m | \u001b[36m__main__\u001b[0m:\u001b[36m<module>\u001b[0m:\u001b[36m38\u001b[0m - \u001b[1m132-1.3.6.1.4.1.55648.2.973981834125638736383518129789598427268-2\u001b[0m\n",
      "\u001b[32m2024-06-06 18:14:20.025\u001b[0m | \u001b[34m\u001b[1mDEBUG   \u001b[0m | \u001b[36m__main__\u001b[0m:\u001b[36m<module>\u001b[0m:\u001b[36m19\u001b[0m - \u001b[34m\u001b[1mxc=340.5 yc=347.5 w=32.0 h=32.0 zc=69.5 d=6.0\u001b[0m\n",
      "\u001b[32m2024-06-06 18:14:21.277\u001b[0m | \u001b[1mINFO    \u001b[0m | \u001b[36m__main__\u001b[0m:\u001b[36m<module>\u001b[0m:\u001b[36m38\u001b[0m - \u001b[1m133-1.3.6.1.4.1.55648.2.987499780833999327211600942927379594554-1\u001b[0m\n",
      "\u001b[32m2024-06-06 18:14:27.397\u001b[0m | \u001b[34m\u001b[1mDEBUG   \u001b[0m | \u001b[36m__main__\u001b[0m:\u001b[36m<module>\u001b[0m:\u001b[36m19\u001b[0m - \u001b[34m\u001b[1mxc=370.5 yc=332.5 w=110.0 h=86.0 zc=58.5 d=18.0\u001b[0m\n",
      "\u001b[32m2024-06-06 18:14:28.476\u001b[0m | \u001b[1mINFO    \u001b[0m | \u001b[36m__main__\u001b[0m:\u001b[36m<module>\u001b[0m:\u001b[36m38\u001b[0m - \u001b[1m134-1.3.6.1.4.1.55648.2.990913473947121796093389956685259886584-1\u001b[0m\n",
      "\u001b[32m2024-06-06 18:14:32.527\u001b[0m | \u001b[34m\u001b[1mDEBUG   \u001b[0m | \u001b[36m__main__\u001b[0m:\u001b[36m<module>\u001b[0m:\u001b[36m19\u001b[0m - \u001b[34m\u001b[1mxc=143.5 yc=277.5 w=106.0 h=114.0 zc=95.5 d=22.0\u001b[0m\n",
      "\u001b[32m2024-06-06 18:14:33.833\u001b[0m | \u001b[1mINFO    \u001b[0m | \u001b[36m__main__\u001b[0m:\u001b[36m<module>\u001b[0m:\u001b[36m38\u001b[0m - \u001b[1m135-1.3.6.1.4.1.55648.2.998049215573323777887345914388389218588-1\u001b[0m\n"
     ]
    }
   ],
   "source": [
    "# ds = CTAnnotLoader(scans_root=meta_root, csv_loc=csv_loc, series_ids=series_ids)\n",
    "fc.Path(save_dir_root).mkdir(exist_ok=True)\n",
    "for n, sid in tqdm(enumerate(series_ids)):\n",
    "    save_path = fc.Path(save_dir_root)/f\"{sid}.safetensors\"\n",
    "    if save_path.exists(): \n",
    "        logger.info(f\"{n}-{sid} already exists\")\n",
    "        continue\n",
    "#     save_path_left = fc.Path(save_dir_root)/f\"{sid}_left.safetensors\"\n",
    "#     save_path_right = fc.Path(save_dir_root)/f\"{sid}_right.safetensors\"\n",
    "    \n",
    "    try : \n",
    "        ctscan = ds[sid]\n",
    "    except:\n",
    "        logger.debug(f\"scan is not present for this {sid}\")\n",
    "        continue\n",
    "    for annot in ctscan.nodules:\n",
    "        annot.gt.annot.bbox = annot.gt.annot.mask.to_boxc()\n",
    "\n",
    "        logger.debug(annot.gt.annot.bbox)\n",
    "\n",
    "    file = ctscan2dict(ctscan)\n",
    "    \n",
    "    rads = []\n",
    "#     for att in ctscan.nodules : \n",
    "#         rads.append(df.loc[df[\"annot_id\"] == att.gt.annot_id , \"rads\"].values[0])\n",
    "        \n",
    "#     file[\"rads\"] = np.asarray(rads)\n",
    "        \n",
    "    try:\n",
    "    \n",
    "        #################\n",
    "        file2 = tfsm(file)\n",
    "\n",
    "        if np.any(file2[\"boxes\"]<0): \n",
    "            logger.info(f\"failed: {series_id}\")\n",
    "            continue\n",
    "        #file[\"boxes\"].shape == 0:\n",
    "        logger.info(f\"{n}-{sid}-{file['boxes'].shape[0]}\")\n",
    "\n",
    "        file2[\"images\"]=file2[\"images\"].astype(np.int16)\n",
    "        del file2[\"lung_mask\"] #delete lung mask it is not required.\n",
    "        del file2[\"series_id\"] # delete series_id as we are saving the file with series_id.\n",
    "\n",
    "        save_file(file2, save_path)\n",
    "\n",
    "        #####################\n",
    "#         file3 = tfsm_left(file)\n",
    "\n",
    "#         if np.any(file3[\"boxes\"]<0): \n",
    "#             logger.info(f\"failed: {series_id}\")\n",
    "#             continue\n",
    "#         #file[\"boxes\"].shape == 0:\n",
    "#         logger.info(f\"{n}-{sid}-{file['boxes'].shape[0]}\")\n",
    "\n",
    "#         file3[\"images\"]=file3[\"images\"].astype(np.int16)\n",
    "#         del file3[\"lung_mask\"] #delete lung mask it is not required.\n",
    "#         del file3[\"series_id\"] # delete series_id as we are saving the file with series_id.\n",
    "\n",
    "#         save_file(file3, save_path_left)\n",
    "\n",
    "        ######################\n",
    "#         file4 = tfsm_right(file)\n",
    "\n",
    "#         if np.any(file4[\"boxes\"]<0): \n",
    "#             logger.info(f\"failed: {series_id}\")\n",
    "#             continue\n",
    "#         #file[\"boxes\"].shape == 0:\n",
    "#         logger.info(f\"{n}-{sid}-{file['boxes'].shape[0]}\")\n",
    "\n",
    "#         file4[\"images\"]=file4[\"images\"].astype(np.int16)\n",
    "#         del file4[\"lung_mask\"] #delete lung mask it is not required.\n",
    "#         del file4[\"series_id\"] # delete series_id as we are saving the file with series_id.\n",
    "\n",
    "#         save_file(file4, save_path_right)\n",
    "    except Exception as e :\n",
    "        print(e)\n",
    "        continue\n",
    "    except Exception as KeyboardInterrupt :\n",
    "        break\n",
    "        \n",
    "    "
   ]
  },
  {
   "cell_type": "code",
   "execution_count": 1,
   "id": "d5ef2c29",
   "metadata": {},
   "outputs": [],
   "source": [
    "from safetensors.numpy import load_file\n",
    "\n"
   ]
  },
  {
   "cell_type": "code",
   "execution_count": 2,
   "id": "738782d1",
   "metadata": {},
   "outputs": [],
   "source": [
    "fl = load_file(\"/cache/fast_data_nas8/qct/shubham/cache_3d/wcg/1.3.6.1.4.1.55648.297188423527540138421280929506759090439.7.safetensors\")"
   ]
  },
  {
   "cell_type": "code",
   "execution_count": 3,
   "id": "ba42b804",
   "metadata": {
    "scrolled": true
   },
   "outputs": [
    {
     "data": {
      "text/plain": [
       "(64, 242, 388)"
      ]
     },
     "execution_count": 3,
     "metadata": {},
     "output_type": "execute_result"
    }
   ],
   "source": [
    "fl[\"images\"].shape"
   ]
  },
  {
   "cell_type": "code",
   "execution_count": 7,
   "id": "a0facb8a",
   "metadata": {
    "scrolled": true
   },
   "outputs": [
    {
     "data": {
      "text/plain": [
       "(1, 6)"
      ]
     },
     "execution_count": 7,
     "metadata": {},
     "output_type": "execute_result"
    }
   ],
   "source": [
    "fl[\"boxes\"].shape"
   ]
  },
  {
   "cell_type": "code",
   "execution_count": 5,
   "id": "cafcff21",
   "metadata": {},
   "outputs": [
    {
     "name": "stdout",
     "output_type": "stream",
     "text": [
      "boxes: torch.Size([1, 6])\n",
      "images: torch.Size([64, 242, 388])\n",
      "labels: torch.Size([1])\n",
      "lung_box: torch.Size([6])\n",
      "rads: torch.Size([1])\n",
      "spacing: torch.Size([3])\n"
     ]
    }
   ],
   "source": [
    "import numpy as np\n",
    "import torch\n",
    "from safetensors.numpy import load_file\n",
    "\n",
    "# Path to your saved safetensors file\n",
    "file_path = 'your_saved_file.safetensors'\n",
    "\n",
    "# Load the numpy arrays from the safetensors file\n",
    "data =fl\n",
    "\n",
    "# Convert numpy arrays to PyTorch tensors\n",
    "tensors = {key: torch.tensor(value) for key, value in data.items()}\n",
    "\n",
    "# Example usage\n",
    "for key, tensor in tensors.items():\n",
    "    print(f'{key}: {tensor.shape}')\n"
   ]
  },
  {
   "cell_type": "code",
   "execution_count": 10,
   "id": "6a91a2f3",
   "metadata": {},
   "outputs": [],
   "source": [
    "def _bbox3d_f2in(bbox):\n",
    "    # convert a 3d bounding from float to int\n",
    "    bbox[:, :3] = np.floor(bbox[:, :3])\n",
    "    bbox[:, 3:] = np.ceil(bbox[:, 3:])\n",
    "    bbox = bbox.astype(np.int32)\n",
    "    return bbox\n",
    "\n",
    "def _bbox3d_f2in(bbox):\n",
    "    # convert a 3d bounding box from float to int\n",
    "    bbox[:, :3] = torch.floor(bbox[:, :3])\n",
    "    bbox[:, 3:] = torch.ceil(bbox[:, 3:])\n",
    "    bbox = bbox.int()\n",
    "    return bbox"
   ]
  },
  {
   "cell_type": "code",
   "execution_count": 11,
   "id": "0a51fe1c",
   "metadata": {},
   "outputs": [
    {
     "data": {
      "text/plain": [
       "tensor([[ 37, 142, 329,  39, 150, 340]], dtype=torch.int32)"
      ]
     },
     "execution_count": 11,
     "metadata": {},
     "output_type": "execute_result"
    }
   ],
   "source": [
    "_bbox3d_f2in(tensors[\"boxes\"])"
   ]
  },
  {
   "cell_type": "code",
   "execution_count": null,
   "id": "254fba31",
   "metadata": {},
   "outputs": [],
   "source": []
  },
  {
   "cell_type": "code",
   "execution_count": 6,
   "id": "56f5f038",
   "metadata": {
    "scrolled": true
   },
   "outputs": [
    {
     "data": {
      "text/plain": [
       "{'boxes': tensor([[ 37.5000, 142.5000, 329.5000,  38.5000, 149.5000, 339.5000]],\n",
       "        dtype=torch.float64),\n",
       " 'images': tensor([[[ -984,  -990,  -999,  ..., -1002,  -997,  -989],\n",
       "          [ -995,  -997,  -998,  ...,  -997,  -990,  -983],\n",
       "          [ -994,  -997,  -993,  ...,  -994,  -995, -1000],\n",
       "          ...,\n",
       "          [ -932,  -941,  -916,  ...,  -808,  -850,  -884],\n",
       "          [ -920,  -933,  -929,  ...,  -852,  -888,  -896],\n",
       "          [ -921,  -925,  -930,  ...,  -883,  -892,  -892]],\n",
       " \n",
       "         [[ -995, -1002,  -995,  ..., -1030, -1014, -1006],\n",
       "          [ -994,  -996,  -993,  ..., -1014, -1004,  -998],\n",
       "          [ -989,  -993,  -987,  ..., -1002, -1005, -1006],\n",
       "          ...,\n",
       "          [ -891,  -867,  -837,  ...,  -658,  -726,  -794],\n",
       "          [ -927,  -905,  -889,  ...,  -749,  -821,  -871],\n",
       "          [ -926,  -921,  -913,  ...,  -835,  -892,  -899]],\n",
       " \n",
       "         [[-1005,  -991,  -988,  ..., -1007, -1006, -1002],\n",
       "          [-1004,  -996,  -988,  ..., -1006, -1008, -1004],\n",
       "          [ -992,  -990,  -992,  ..., -1000,  -999, -1005],\n",
       "          ...,\n",
       "          [ -556,  -544,  -539,  ...,  -575,  -635,  -669],\n",
       "          [ -685,  -665,  -637,  ...,  -662,  -715,  -763],\n",
       "          [ -788,  -746,  -714,  ...,  -743,  -795,  -843]],\n",
       " \n",
       "         ...,\n",
       " \n",
       "         [[ -988,  -984,  -992,  ...,  -977,  -985,  -991],\n",
       "          [ -991,  -982,  -984,  ...,  -975,  -997,  -979],\n",
       "          [ -992,  -979,  -972,  ...,  -973,  -993,  -980],\n",
       "          ...,\n",
       "          [  -98,  -105,  -111,  ...,    -1,    27,   -46],\n",
       "          [ -112,  -125,  -121,  ...,    25,   -21,  -258],\n",
       "          [  -93,  -103,  -116,  ...,    -2,  -221,  -544]],\n",
       " \n",
       "         [[ -996,  -997,  -995,  ...,  -964,  -982,  -985],\n",
       "          [-1000,  -991,  -993,  ...,  -965,  -990,  -994],\n",
       "          [-1002,  -981,  -958,  ...,  -941,  -980,  -991],\n",
       "          ...,\n",
       "          [ -108,  -101,   -98,  ...,    43,    13,  -122],\n",
       "          [ -111,  -107,  -110,  ...,    50,   -69,  -357],\n",
       "          [ -110,  -111,  -105,  ...,   -74,  -325,  -637]],\n",
       " \n",
       "         [[ -987,  -996,  -989,  ...,  -931,  -956,  -978],\n",
       "          [ -989,  -991,  -990,  ...,  -919,  -940,  -976],\n",
       "          [ -973,  -962,  -938,  ...,  -894,  -926,  -956],\n",
       "          ...,\n",
       "          [ -108,  -106,   -99,  ...,    16,  -118,  -384],\n",
       "          [ -104,  -106,  -107,  ...,   -76,  -362,  -678],\n",
       "          [ -101,  -111,  -111,  ...,  -341,  -680,  -874]]], dtype=torch.int16),\n",
       " 'labels': tensor([0], dtype=torch.int8),\n",
       " 'lung_box': tensor([  9, 128,  64,  73, 370, 452]),\n",
       " 'rads': tensor([3]),\n",
       " 'spacing': tensor([4.0000, 0.7290, 0.7290], dtype=torch.float64)}"
      ]
     },
     "execution_count": 6,
     "metadata": {},
     "output_type": "execute_result"
    }
   ],
   "source": [
    "tensors"
   ]
  },
  {
   "cell_type": "code",
   "execution_count": null,
   "id": "a6bea569",
   "metadata": {},
   "outputs": [],
   "source": [
    "import numpy as np\n",
    "import torch\n",
    "from safetensors import safe_open\n",
    "\n",
    "# Path to your saved safetensors file\n",
    "file_path = 'your_saved_file.safetensors'\n",
    "\n",
    "# Function to load numpy data from safetensors file and convert to tensor\n",
    "def load_safetensors_as_tensor(file_path):\n",
    "    with safe_open(file_path, framework=\"numpy\") as f:\n",
    "        data = {k: np.array(v) for k, v in f.items()}\n",
    "    \n",
    "    # Convert numpy arrays to tensors\n",
    "    tensors = {k: torch.tensor(v) for k, v in data.items()}\n",
    "    return tensors\n",
    "\n",
    "# Load and convert\n",
    "tensors = load_safetensors_as_tensor(file_path)\n",
    "\n",
    "# Example usage\n",
    "for key, tensor in tensors.items():\n",
    "    print(f'{key}: {tensor.shape}')\n"
   ]
  },
  {
   "cell_type": "code",
   "execution_count": null,
   "id": "04afa3ea",
   "metadata": {},
   "outputs": [],
   "source": []
  },
  {
   "cell_type": "code",
   "execution_count": 7,
   "id": "7c8504ef",
   "metadata": {},
   "outputs": [],
   "source": [
    "from qct_data.series_meta import get_qct_collection\n",
    "from qct_utils.schema.ct.common import CTScan\n",
    "scans_meta = get_qct_collection(\"recist_segmed\")\n",
    "sid = \"1.3.6.1.4.1.55648.2.145415111583706588050030447094741143985\"\n",
    "series_dict = scans_meta.find_one({\"_id\": sid})\n",
    "\n",
    "\n",
    "ctimg = CTScan.load(\n",
    "    series_dict, readtype=\"dcm\", scan_type=\"chestct\", gaussian_smoothing_sigma=None\n",
    ")"
   ]
  },
  {
   "cell_type": "code",
   "execution_count": 8,
   "id": "284c0fd6",
   "metadata": {},
   "outputs": [],
   "source": [
    "from qct_utils.ctvis.viewer import plot_scans"
   ]
  },
  {
   "cell_type": "code",
   "execution_count": 10,
   "id": "803dea5f",
   "metadata": {},
   "outputs": [
    {
     "data": {
      "application/vnd.jupyter.widget-view+json": {
       "model_id": "2695d231a6c14107b7ef7cac840a7d64",
       "version_major": 2,
       "version_minor": 0
      },
      "text/plain": [
       "interactive(children=(RadioButtons(description='Slice plane selection:', index=2, options=('y-z', 'z-x', 'x-y'…"
      ]
     },
     "metadata": {},
     "output_type": "display_data"
    }
   ],
   "source": [
    "plot_scans([ctimg.array] , [\"\"])"
   ]
  },
  {
   "cell_type": "code",
   "execution_count": null,
   "id": "56602b8e",
   "metadata": {},
   "outputs": [],
   "source": []
  },
  {
   "cell_type": "code",
   "execution_count": 29,
   "id": "1a47fd47",
   "metadata": {},
   "outputs": [],
   "source": [
    "#| hide\n",
    "import nbdev; nbdev.nbdev_export()"
   ]
  }
 ],
 "metadata": {
  "kernelspec": {
   "display_name": "Python 3 (ipykernel)",
   "language": "python",
   "name": "python3"
  },
  "language_info": {
   "codemirror_mode": {
    "name": "ipython",
    "version": 3
   },
   "file_extension": ".py",
   "mimetype": "text/x-python",
   "name": "python",
   "nbconvert_exporter": "python",
   "pygments_lexer": "ipython3",
   "version": "3.9.15"
  }
 },
 "nbformat": 4,
 "nbformat_minor": 5
}
