{
 "cells": [
  {
   "cell_type": "markdown",
   "id": "8d22a077",
   "metadata": {},
   "source": [
    "## This notebook is written for two reasons\n",
    "- On server we don't have default scans and it is insanely slow to evaluate the model on original scans.\n",
    "- This notebook quickly evaluates the model on safetensors bypassing a lot of transforms like resample and lung crop.\n",
    "\n",
    "- scripts can be found at `scripts/test_safe.py`"
   ]
  },
  {
   "cell_type": "code",
   "execution_count": 1,
   "id": "f149db5e",
   "metadata": {},
   "outputs": [
    {
     "name": "stderr",
     "output_type": "stream",
     "text": [
      "/tmp/ipykernel_935649/12863095.py:2: DeprecationWarning: \n",
      "Pyarrow will become a required dependency of pandas in the next major release of pandas (pandas 3.0),\n",
      "(to allow more performant data types, such as the Arrow string type, and better interoperability with other libraries)\n",
      "but was not found to be installed on your system.\n",
      "If this would cause problems for you,\n",
      "please provide us feedback at https://github.com/pandas-dev/pandas/issues/54466\n",
      "        \n",
      "  import pandas as pd\n"
     ]
    }
   ],
   "source": [
    "import fastcore.all as fc\n",
    "import pandas as pd \n",
    "import numpy as np \n",
    "\n",
    "from qct_utils.ctvis.viewer import plot_scans\n",
    "from copy import deepcopy\n",
    "from torchvision.transforms import Compose \n",
    "from safetensors.numpy import load_file\n",
    "\n",
    "from voxdet.infer import RetinaInfer\n",
    "from voxdet.metrics.det_metrics import DetMetrics\n",
    "from voxdet.metrics.sub_level_analysis import convert2df\n",
    "from voxdet.retina_test import convert2int, draw_on_ct"
   ]
  },
  {
   "cell_type": "code",
   "execution_count": 2,
   "id": "644fda38",
   "metadata": {},
   "outputs": [
    {
     "name": "stdout",
     "output_type": "stream",
     "text": [
      "Loading backbone from MedCT\n"
     ]
    }
   ],
   "source": [
    "ckpt = \"../lightning_logs/lidc_exp2/version_5/checkpoints/map_checkpoints/epoch=574-step=25300-val/mAP=0.537.ckpt\"\n",
    "model = RetinaInfer(ckpt, )"
   ]
  },
  {
   "cell_type": "code",
   "execution_count": 3,
   "id": "118aa7b8",
   "metadata": {},
   "outputs": [
    {
     "data": {
      "text/plain": [
       "[voxdet.tfsm.voxt.Norm3d(a_min=-1024.0, a_max=300.0, b_min=0.0, b_max=1.0, clip=True),\n",
       " voxdet.tfsm.voxt.PadIfNeeded(sd=32, img_size=None, side='right'),\n",
       " voxdet.tfsm.mip.MIP(num_slices=5, mode='max', stride=1, return_stacked_img=True)]"
      ]
     },
     "execution_count": 3,
     "metadata": {},
     "output_type": "execute_result"
    }
   ],
   "source": [
    "model.transforms.transforms[3:]"
   ]
  },
  {
   "cell_type": "code",
   "execution_count": 4,
   "id": "1fe3d1f6",
   "metadata": {},
   "outputs": [
    {
     "data": {
      "text/plain": [
       "Compose(\n",
       "    voxdet.tfsm.voxt.Norm3d(a_min=-1024.0, a_max=300.0, b_min=0.0, b_max=1.0, clip=True)\n",
       "    voxdet.tfsm.voxt.PadIfNeeded(sd=32, img_size=None, side='right')\n",
       "    voxdet.tfsm.mip.MIP(num_slices=5, mode='max', stride=1, return_stacked_img=True)\n",
       ")"
      ]
     },
     "execution_count": 4,
     "metadata": {},
     "output_type": "execute_result"
    }
   ],
   "source": [
    "model.transforms = Compose(model.transforms.transforms[3:])\n",
    "model.transforms"
   ]
  },
  {
   "cell_type": "code",
   "execution_count": 5,
   "id": "f5fc6750",
   "metadata": {},
   "outputs": [
    {
     "data": {
      "text/plain": [
       "(#176) ['1.3.6.1.4.1.14519.5.2.1.6279.6001.320111824803959660037459294083','1.3.6.1.4.1.14519.5.2.1.6279.6001.299767339686526858593516834230','1.3.6.1.4.1.14519.5.2.1.6279.6001.156990013635454707781600846659','1.3.6.1.4.1.14519.5.2.1.6279.6001.832260670372728970918746541371','1.3.6.1.4.1.14519.5.2.1.6279.6001.259453428008507791234730686014','1.3.6.1.4.1.14519.5.2.1.6279.6001.199171741859530285887752432478','1.3.6.1.4.1.14519.5.2.1.6279.6001.202283133206014258077705539227','1.3.6.1.4.1.14519.5.2.1.6279.6001.453946099750629491201946672998','1.3.6.1.4.1.14519.5.2.1.6279.6001.303865116731361029078599241306','1.3.6.1.4.1.14519.5.2.1.6279.6001.217754016294471278921686508169'...]"
      ]
     },
     "execution_count": 5,
     "metadata": {},
     "output_type": "execute_result"
    }
   ],
   "source": [
    "scans = fc.L(pd.read_csv(\"../studies/only_lidc/folds1/folds_4.csv\")[\"scans\"].values.tolist())\n",
    "scans"
   ]
  },
  {
   "cell_type": "code",
   "execution_count": 6,
   "id": "8b0dd1d3",
   "metadata": {},
   "outputs": [
    {
     "data": {
      "text/plain": [
       "(288, 186, 289)"
      ]
     },
     "execution_count": 6,
     "metadata": {},
     "output_type": "execute_result"
    }
   ],
   "source": [
    "scan_loc = \"../resources/1.3.6.1.4.1.14519.5.2.1.6279.6001.249404938669582150398726875826.safetensors\"\n",
    "scans = load_file(scan_loc)\n",
    "scans[\"images\"].shape"
   ]
  },
  {
   "cell_type": "code",
   "execution_count": 7,
   "id": "b8fb4196",
   "metadata": {},
   "outputs": [
    {
     "data": {
      "text/plain": [
       "array([[251.34586466, 151.36328125,  45.01171875, 258.83458647,\n",
       "        158.78515625,  53.91796875],\n",
       "       [246.35338346, 139.48828125, 187.51171875, 258.83458647,\n",
       "        149.87890625, 200.12890625],\n",
       "       [218.89473684,  48.19921875, 258.76171875, 223.88721805,\n",
       "         53.39453125, 264.69921875],\n",
       "       [146.5037594 , 158.78515625, 204.58203125, 156.4887218 ,\n",
       "        168.43359375, 216.45703125],\n",
       "       [139.01503759, 106.08984375, 255.79296875, 149.        ,\n",
       "        117.22265625, 269.15234375]])"
      ]
     },
     "execution_count": 7,
     "metadata": {},
     "output_type": "execute_result"
    }
   ],
   "source": [
    "scans[\"boxes\"]"
   ]
  },
  {
   "cell_type": "code",
   "execution_count": 8,
   "id": "59487847",
   "metadata": {},
   "outputs": [],
   "source": [
    "out = model(scans)"
   ]
  },
  {
   "cell_type": "code",
   "execution_count": 9,
   "id": "8eebd35f",
   "metadata": {},
   "outputs": [
    {
     "data": {
      "text/plain": [
       "((33, 6), (33,))"
      ]
     },
     "execution_count": 9,
     "metadata": {},
     "output_type": "execute_result"
    }
   ],
   "source": [
    "out[\"boxes\"].shape, out[\"scores\"].shape"
   ]
  },
  {
   "cell_type": "code",
   "execution_count": 10,
   "id": "66a1ab40",
   "metadata": {},
   "outputs": [
    {
     "data": {
      "text/plain": [
       "array([0.9992731 , 0.99838364, 0.99737823, 0.98975986, 0.9775134 ,\n",
       "       0.9717078 , 0.9420828 , 0.87478364, 0.65368843, 0.5655345 ,\n",
       "       0.5088162 , 0.46134385, 0.45168856, 0.34845448, 0.32625055,\n",
       "       0.31384277, 0.30576852, 0.2292586 , 0.18718581, 0.10050561,\n",
       "       0.09272742, 0.0838104 , 0.08128209, 0.07916456, 0.0738273 ,\n",
       "       0.0702926 , 0.06878177, 0.06351968, 0.0634888 , 0.05814762,\n",
       "       0.05742196, 0.055087  , 0.05391586], dtype=float32)"
      ]
     },
     "execution_count": 10,
     "metadata": {},
     "output_type": "execute_result"
    }
   ],
   "source": [
    "out[\"scores\"]"
   ]
  },
  {
   "cell_type": "markdown",
   "id": "a3d56abc",
   "metadata": {},
   "source": [
    "## Visualize outputs "
   ]
  },
  {
   "cell_type": "code",
   "execution_count": 40,
   "id": "7f0f957b",
   "metadata": {},
   "outputs": [
    {
     "data": {
      "text/plain": [
       "((288, 186, 289), (2, 288, 192, 320))"
      ]
     },
     "execution_count": 40,
     "metadata": {},
     "output_type": "execute_result"
    }
   ],
   "source": [
    "scans[\"images\"].shape, out[\"images\"].shape"
   ]
  },
  {
   "cell_type": "code",
   "execution_count": 46,
   "id": "91bd1c4c",
   "metadata": {},
   "outputs": [
    {
     "data": {
      "text/plain": [
       "((5, 6), (7, 6))"
      ]
     },
     "execution_count": 46,
     "metadata": {},
     "output_type": "execute_result"
    }
   ],
   "source": [
    "gt_boxes = convert2int(deepcopy(scans[\"boxes\"]), img_shape=scans[\"images\"].shape)\n",
    "pred_boxes = convert2int(deepcopy(out[\"boxes\"][out[\"scores\"]>0.9]), img_shape=scans[\"images\"].shape)\n",
    "gt_boxes.shape, pred_boxes.shape"
   ]
  },
  {
   "cell_type": "code",
   "execution_count": 47,
   "id": "992ec3dd",
   "metadata": {},
   "outputs": [
    {
     "data": {
      "text/plain": [
       "array([[251, 151,  45, 259, 159,  54],\n",
       "       [246, 139, 187, 259, 150, 201],\n",
       "       [218,  48, 258, 224,  54, 265],\n",
       "       [146, 158, 204, 157, 169, 217],\n",
       "       [139, 106, 255, 149, 118, 270]])"
      ]
     },
     "execution_count": 47,
     "metadata": {},
     "output_type": "execute_result"
    }
   ],
   "source": [
    "gt_boxes"
   ]
  },
  {
   "cell_type": "code",
   "execution_count": 48,
   "id": "e0161ca5",
   "metadata": {},
   "outputs": [],
   "source": [
    "gtimg = draw_on_ct(scans[\"images\"], gt_boxes)\n",
    "predimg = draw_on_ct(scans[\"images\"], pred_boxes)"
   ]
  },
  {
   "cell_type": "code",
   "execution_count": 49,
   "id": "1323da48",
   "metadata": {},
   "outputs": [
    {
     "data": {
      "application/vnd.jupyter.widget-view+json": {
       "model_id": "97b78b1673b342a6add893a02a9feb16",
       "version_major": 2,
       "version_minor": 0
      },
      "text/plain": [
       "interactive(children=(RadioButtons(description='Slice plane selection:', index=2, options=('y-z', 'z-x', 'x-y'…"
      ]
     },
     "metadata": {},
     "output_type": "display_data"
    }
   ],
   "source": [
    "plot_scans([gtimg, predimg], [\"gtscan\", \"predscan\"])"
   ]
  },
  {
   "cell_type": "markdown",
   "id": "9ab8e0b8",
   "metadata": {},
   "source": [
    "## metrics "
   ]
  },
  {
   "cell_type": "code",
   "execution_count": 50,
   "id": "c993bad9",
   "metadata": {},
   "outputs": [],
   "source": [
    "fps = np.linspace(0.0625, 8, num=300)\n",
    "meters = [\n",
    "    DetMetrics(iou_thr=j, conf_thr=i, froc_thresholds=fps.tolist())\n",
    "    for j in [0.1, 0.2, 0.3, 0.4, 0.5]\n",
    "    for i in [0.9]\n",
    "]"
   ]
  },
  {
   "cell_type": "code",
   "execution_count": 52,
   "id": "92a3cef8",
   "metadata": {},
   "outputs": [],
   "source": [
    "for meter in meters: meter.update(out[\"boxes\"], out[\"scores\"], scans[\"boxes\"])"
   ]
  },
  {
   "cell_type": "code",
   "execution_count": 53,
   "id": "52eb958f",
   "metadata": {},
   "outputs": [],
   "source": [
    "metrics = [i.compute() for i in meters]"
   ]
  },
  {
   "cell_type": "code",
   "execution_count": 55,
   "id": "1e5adc7a",
   "metadata": {},
   "outputs": [
    {
     "data": {
      "text/html": [
       "<div>\n",
       "<style scoped>\n",
       "    .dataframe tbody tr th:only-of-type {\n",
       "        vertical-align: middle;\n",
       "    }\n",
       "\n",
       "    .dataframe tbody tr th {\n",
       "        vertical-align: top;\n",
       "    }\n",
       "\n",
       "    .dataframe thead th {\n",
       "        text-align: right;\n",
       "    }\n",
       "</style>\n",
       "<table border=\"1\" class=\"dataframe\">\n",
       "  <thead>\n",
       "    <tr style=\"text-align: right;\">\n",
       "      <th></th>\n",
       "      <th>conf</th>\n",
       "      <th>iou</th>\n",
       "      <th>FROC</th>\n",
       "      <th>AP</th>\n",
       "      <th>recall</th>\n",
       "      <th>precision</th>\n",
       "      <th>tp</th>\n",
       "      <th>fp</th>\n",
       "      <th>fn</th>\n",
       "      <th>AP_interp</th>\n",
       "      <th>FROC_interp</th>\n",
       "      <th>FROC_thresholds</th>\n",
       "      <th>avg_tp_iou</th>\n",
       "    </tr>\n",
       "  </thead>\n",
       "  <tbody>\n",
       "    <tr>\n",
       "      <th>0</th>\n",
       "      <td>0.9</td>\n",
       "      <td>0.1</td>\n",
       "      <td>1.0</td>\n",
       "      <td>0.97</td>\n",
       "      <td>1.0</td>\n",
       "      <td>0.71</td>\n",
       "      <td>5.0</td>\n",
       "      <td>2.0</td>\n",
       "      <td>0.0</td>\n",
       "      <td>[1.0, 1.0, 1.0, 1.0, 1.0, 1.0, 1.0, 1.0, 1.0, ...</td>\n",
       "      <td>[1.0, 1.0, 1.0, 1.0, 1.0, 1.0, 1.0, 1.0, 1.0, ...</td>\n",
       "      <td>[0.06, 0.09, 0.12, 0.14, 0.17, 0.2, 0.22, 0.25...</td>\n",
       "      <td>0.61</td>\n",
       "    </tr>\n",
       "    <tr>\n",
       "      <th>1</th>\n",
       "      <td>0.9</td>\n",
       "      <td>0.2</td>\n",
       "      <td>1.0</td>\n",
       "      <td>0.97</td>\n",
       "      <td>1.0</td>\n",
       "      <td>0.71</td>\n",
       "      <td>5.0</td>\n",
       "      <td>2.0</td>\n",
       "      <td>0.0</td>\n",
       "      <td>[1.0, 1.0, 1.0, 1.0, 1.0, 1.0, 1.0, 1.0, 1.0, ...</td>\n",
       "      <td>[1.0, 1.0, 1.0, 1.0, 1.0, 1.0, 1.0, 1.0, 1.0, ...</td>\n",
       "      <td>[0.06, 0.09, 0.12, 0.14, 0.17, 0.2, 0.22, 0.25...</td>\n",
       "      <td>0.61</td>\n",
       "    </tr>\n",
       "    <tr>\n",
       "      <th>2</th>\n",
       "      <td>0.9</td>\n",
       "      <td>0.3</td>\n",
       "      <td>1.0</td>\n",
       "      <td>0.97</td>\n",
       "      <td>1.0</td>\n",
       "      <td>0.71</td>\n",
       "      <td>5.0</td>\n",
       "      <td>2.0</td>\n",
       "      <td>0.0</td>\n",
       "      <td>[1.0, 1.0, 1.0, 1.0, 1.0, 1.0, 1.0, 1.0, 1.0, ...</td>\n",
       "      <td>[1.0, 1.0, 1.0, 1.0, 1.0, 1.0, 1.0, 1.0, 1.0, ...</td>\n",
       "      <td>[0.06, 0.09, 0.12, 0.14, 0.17, 0.2, 0.22, 0.25...</td>\n",
       "      <td>0.61</td>\n",
       "    </tr>\n",
       "    <tr>\n",
       "      <th>3</th>\n",
       "      <td>0.9</td>\n",
       "      <td>0.4</td>\n",
       "      <td>1.0</td>\n",
       "      <td>0.97</td>\n",
       "      <td>1.0</td>\n",
       "      <td>0.71</td>\n",
       "      <td>5.0</td>\n",
       "      <td>2.0</td>\n",
       "      <td>0.0</td>\n",
       "      <td>[1.0, 1.0, 1.0, 1.0, 1.0, 1.0, 1.0, 1.0, 1.0, ...</td>\n",
       "      <td>[1.0, 1.0, 1.0, 1.0, 1.0, 1.0, 1.0, 1.0, 1.0, ...</td>\n",
       "      <td>[0.06, 0.09, 0.12, 0.14, 0.17, 0.2, 0.22, 0.25...</td>\n",
       "      <td>0.61</td>\n",
       "    </tr>\n",
       "    <tr>\n",
       "      <th>4</th>\n",
       "      <td>0.9</td>\n",
       "      <td>0.5</td>\n",
       "      <td>1.0</td>\n",
       "      <td>0.97</td>\n",
       "      <td>1.0</td>\n",
       "      <td>0.71</td>\n",
       "      <td>5.0</td>\n",
       "      <td>2.0</td>\n",
       "      <td>0.0</td>\n",
       "      <td>[1.0, 1.0, 1.0, 1.0, 1.0, 1.0, 1.0, 1.0, 1.0, ...</td>\n",
       "      <td>[1.0, 1.0, 1.0, 1.0, 1.0, 1.0, 1.0, 1.0, 1.0, ...</td>\n",
       "      <td>[0.06, 0.09, 0.12, 0.14, 0.17, 0.2, 0.22, 0.25...</td>\n",
       "      <td>0.61</td>\n",
       "    </tr>\n",
       "  </tbody>\n",
       "</table>\n",
       "</div>"
      ],
      "text/plain": [
       "   conf  iou  FROC    AP  recall  precision   tp   fp   fn  \\\n",
       "0   0.9  0.1   1.0  0.97     1.0       0.71  5.0  2.0  0.0   \n",
       "1   0.9  0.2   1.0  0.97     1.0       0.71  5.0  2.0  0.0   \n",
       "2   0.9  0.3   1.0  0.97     1.0       0.71  5.0  2.0  0.0   \n",
       "3   0.9  0.4   1.0  0.97     1.0       0.71  5.0  2.0  0.0   \n",
       "4   0.9  0.5   1.0  0.97     1.0       0.71  5.0  2.0  0.0   \n",
       "\n",
       "                                           AP_interp  \\\n",
       "0  [1.0, 1.0, 1.0, 1.0, 1.0, 1.0, 1.0, 1.0, 1.0, ...   \n",
       "1  [1.0, 1.0, 1.0, 1.0, 1.0, 1.0, 1.0, 1.0, 1.0, ...   \n",
       "2  [1.0, 1.0, 1.0, 1.0, 1.0, 1.0, 1.0, 1.0, 1.0, ...   \n",
       "3  [1.0, 1.0, 1.0, 1.0, 1.0, 1.0, 1.0, 1.0, 1.0, ...   \n",
       "4  [1.0, 1.0, 1.0, 1.0, 1.0, 1.0, 1.0, 1.0, 1.0, ...   \n",
       "\n",
       "                                         FROC_interp  \\\n",
       "0  [1.0, 1.0, 1.0, 1.0, 1.0, 1.0, 1.0, 1.0, 1.0, ...   \n",
       "1  [1.0, 1.0, 1.0, 1.0, 1.0, 1.0, 1.0, 1.0, 1.0, ...   \n",
       "2  [1.0, 1.0, 1.0, 1.0, 1.0, 1.0, 1.0, 1.0, 1.0, ...   \n",
       "3  [1.0, 1.0, 1.0, 1.0, 1.0, 1.0, 1.0, 1.0, 1.0, ...   \n",
       "4  [1.0, 1.0, 1.0, 1.0, 1.0, 1.0, 1.0, 1.0, 1.0, ...   \n",
       "\n",
       "                                     FROC_thresholds  avg_tp_iou  \n",
       "0  [0.06, 0.09, 0.12, 0.14, 0.17, 0.2, 0.22, 0.25...        0.61  \n",
       "1  [0.06, 0.09, 0.12, 0.14, 0.17, 0.2, 0.22, 0.25...        0.61  \n",
       "2  [0.06, 0.09, 0.12, 0.14, 0.17, 0.2, 0.22, 0.25...        0.61  \n",
       "3  [0.06, 0.09, 0.12, 0.14, 0.17, 0.2, 0.22, 0.25...        0.61  \n",
       "4  [0.06, 0.09, 0.12, 0.14, 0.17, 0.2, 0.22, 0.25...        0.61  "
      ]
     },
     "execution_count": 55,
     "metadata": {},
     "output_type": "execute_result"
    }
   ],
   "source": [
    "convert2df(metrics)"
   ]
  },
  {
   "cell_type": "code",
   "execution_count": 61,
   "id": "9ba42271",
   "metadata": {},
   "outputs": [],
   "source": [
    "import matplotlib.pyplot as plt\n",
    "plt.style.use(\"bmh\")\n",
    "%matplotlib inline"
   ]
  },
  {
   "cell_type": "code",
   "execution_count": 67,
   "id": "5aa77fd1",
   "metadata": {},
   "outputs": [
    {
     "data": {
      "text/html": [
       "<div>\n",
       "<style scoped>\n",
       "    .dataframe tbody tr th:only-of-type {\n",
       "        vertical-align: middle;\n",
       "    }\n",
       "\n",
       "    .dataframe tbody tr th {\n",
       "        vertical-align: top;\n",
       "    }\n",
       "\n",
       "    .dataframe thead th {\n",
       "        text-align: right;\n",
       "    }\n",
       "</style>\n",
       "<table border=\"1\" class=\"dataframe\">\n",
       "  <thead>\n",
       "    <tr style=\"text-align: right;\">\n",
       "      <th></th>\n",
       "      <th>conf</th>\n",
       "      <th>iou</th>\n",
       "      <th>FROC</th>\n",
       "      <th>AP</th>\n",
       "      <th>recall</th>\n",
       "      <th>precision</th>\n",
       "      <th>tp</th>\n",
       "      <th>fp</th>\n",
       "      <th>fn</th>\n",
       "      <th>AP_interp</th>\n",
       "      <th>FROC_interp</th>\n",
       "      <th>FROC_thresholds</th>\n",
       "      <th>avg_tp_iou</th>\n",
       "    </tr>\n",
       "  </thead>\n",
       "  <tbody>\n",
       "    <tr>\n",
       "      <th>0</th>\n",
       "      <td>0.9</td>\n",
       "      <td>0.1</td>\n",
       "      <td>0.62</td>\n",
       "      <td>0.73</td>\n",
       "      <td>0.65</td>\n",
       "      <td>0.51</td>\n",
       "      <td>331.0</td>\n",
       "      <td>314.0</td>\n",
       "      <td>181.0</td>\n",
       "      <td>[1.0, 1.0, 0.96, 0.91, 0.79, 0.71, 0.59, 0.51,...</td>\n",
       "      <td>[0.26, 0.31, 0.33, 0.34, 0.36, 0.37, 0.37, 0.3...</td>\n",
       "      <td>[0.06, 0.09, 0.12, 0.14, 0.17, 0.2, 0.22, 0.25...</td>\n",
       "      <td>0.54</td>\n",
       "    </tr>\n",
       "    <tr>\n",
       "      <th>1</th>\n",
       "      <td>0.9</td>\n",
       "      <td>0.2</td>\n",
       "      <td>0.61</td>\n",
       "      <td>0.72</td>\n",
       "      <td>0.64</td>\n",
       "      <td>0.51</td>\n",
       "      <td>327.0</td>\n",
       "      <td>318.0</td>\n",
       "      <td>185.0</td>\n",
       "      <td>[1.0, 1.0, 0.96, 0.91, 0.79, 0.7, 0.58, 0.51, ...</td>\n",
       "      <td>[0.26, 0.29, 0.33, 0.33, 0.35, 0.36, 0.37, 0.3...</td>\n",
       "      <td>[0.06, 0.09, 0.12, 0.14, 0.17, 0.2, 0.22, 0.25...</td>\n",
       "      <td>0.54</td>\n",
       "    </tr>\n",
       "    <tr>\n",
       "      <th>2</th>\n",
       "      <td>0.9</td>\n",
       "      <td>0.3</td>\n",
       "      <td>0.60</td>\n",
       "      <td>0.70</td>\n",
       "      <td>0.62</td>\n",
       "      <td>0.49</td>\n",
       "      <td>318.0</td>\n",
       "      <td>327.0</td>\n",
       "      <td>194.0</td>\n",
       "      <td>[1.0, 0.98, 0.94, 0.86, 0.76, 0.67, 0.54, 0.49...</td>\n",
       "      <td>[0.24, 0.26, 0.28, 0.32, 0.32, 0.34, 0.34, 0.3...</td>\n",
       "      <td>[0.06, 0.09, 0.12, 0.14, 0.17, 0.2, 0.22, 0.25...</td>\n",
       "      <td>0.55</td>\n",
       "    </tr>\n",
       "    <tr>\n",
       "      <th>3</th>\n",
       "      <td>0.9</td>\n",
       "      <td>0.4</td>\n",
       "      <td>0.52</td>\n",
       "      <td>0.64</td>\n",
       "      <td>0.55</td>\n",
       "      <td>0.43</td>\n",
       "      <td>280.0</td>\n",
       "      <td>365.0</td>\n",
       "      <td>232.0</td>\n",
       "      <td>[1.0, 0.96, 0.89, 0.84, 0.68, 0.53, 0.43, 0.43...</td>\n",
       "      <td>[0.2, 0.24, 0.26, 0.27, 0.3, 0.3, 0.31, 0.32, ...</td>\n",
       "      <td>[0.06, 0.09, 0.12, 0.14, 0.17, 0.2, 0.22, 0.25...</td>\n",
       "      <td>0.57</td>\n",
       "    </tr>\n",
       "    <tr>\n",
       "      <th>4</th>\n",
       "      <td>0.9</td>\n",
       "      <td>0.5</td>\n",
       "      <td>0.38</td>\n",
       "      <td>0.49</td>\n",
       "      <td>0.39</td>\n",
       "      <td>0.31</td>\n",
       "      <td>202.0</td>\n",
       "      <td>443.0</td>\n",
       "      <td>310.0</td>\n",
       "      <td>[1.0, 0.86, 0.77, 0.59, 0.31, 0.31, 0.31, 0.31...</td>\n",
       "      <td>[0.12, 0.13, 0.15, 0.17, 0.2, 0.21, 0.22, 0.23...</td>\n",
       "      <td>[0.06, 0.09, 0.12, 0.14, 0.17, 0.2, 0.22, 0.25...</td>\n",
       "      <td>0.62</td>\n",
       "    </tr>\n",
       "  </tbody>\n",
       "</table>\n",
       "</div>"
      ],
      "text/plain": [
       "   conf  iou  FROC    AP  recall  precision     tp     fp     fn  \\\n",
       "0   0.9  0.1  0.62  0.73    0.65       0.51  331.0  314.0  181.0   \n",
       "1   0.9  0.2  0.61  0.72    0.64       0.51  327.0  318.0  185.0   \n",
       "2   0.9  0.3  0.60  0.70    0.62       0.49  318.0  327.0  194.0   \n",
       "3   0.9  0.4  0.52  0.64    0.55       0.43  280.0  365.0  232.0   \n",
       "4   0.9  0.5  0.38  0.49    0.39       0.31  202.0  443.0  310.0   \n",
       "\n",
       "                                           AP_interp  \\\n",
       "0  [1.0, 1.0, 0.96, 0.91, 0.79, 0.71, 0.59, 0.51,...   \n",
       "1  [1.0, 1.0, 0.96, 0.91, 0.79, 0.7, 0.58, 0.51, ...   \n",
       "2  [1.0, 0.98, 0.94, 0.86, 0.76, 0.67, 0.54, 0.49...   \n",
       "3  [1.0, 0.96, 0.89, 0.84, 0.68, 0.53, 0.43, 0.43...   \n",
       "4  [1.0, 0.86, 0.77, 0.59, 0.31, 0.31, 0.31, 0.31...   \n",
       "\n",
       "                                         FROC_interp  \\\n",
       "0  [0.26, 0.31, 0.33, 0.34, 0.36, 0.37, 0.37, 0.3...   \n",
       "1  [0.26, 0.29, 0.33, 0.33, 0.35, 0.36, 0.37, 0.3...   \n",
       "2  [0.24, 0.26, 0.28, 0.32, 0.32, 0.34, 0.34, 0.3...   \n",
       "3  [0.2, 0.24, 0.26, 0.27, 0.3, 0.3, 0.31, 0.32, ...   \n",
       "4  [0.12, 0.13, 0.15, 0.17, 0.2, 0.21, 0.22, 0.23...   \n",
       "\n",
       "                                     FROC_thresholds  avg_tp_iou  \n",
       "0  [0.06, 0.09, 0.12, 0.14, 0.17, 0.2, 0.22, 0.25...        0.54  \n",
       "1  [0.06, 0.09, 0.12, 0.14, 0.17, 0.2, 0.22, 0.25...        0.54  \n",
       "2  [0.06, 0.09, 0.12, 0.14, 0.17, 0.2, 0.22, 0.25...        0.55  \n",
       "3  [0.06, 0.09, 0.12, 0.14, 0.17, 0.2, 0.22, 0.25...        0.57  \n",
       "4  [0.06, 0.09, 0.12, 0.14, 0.17, 0.2, 0.22, 0.25...        0.62  "
      ]
     },
     "execution_count": 67,
     "metadata": {},
     "output_type": "execute_result"
    }
   ],
   "source": [
    "df = pd.read_csv(\"../weights/lidc/exp1_only_train/metrics.csv\")\n",
    "df.head()"
   ]
  },
  {
   "cell_type": "code",
   "execution_count": 72,
   "id": "44e1cf88",
   "metadata": {},
   "outputs": [
    {
     "data": {
      "text/html": [
       "<div>\n",
       "<style scoped>\n",
       "    .dataframe tbody tr th:only-of-type {\n",
       "        vertical-align: middle;\n",
       "    }\n",
       "\n",
       "    .dataframe tbody tr th {\n",
       "        vertical-align: top;\n",
       "    }\n",
       "\n",
       "    .dataframe thead th {\n",
       "        text-align: right;\n",
       "    }\n",
       "</style>\n",
       "<table border=\"1\" class=\"dataframe\">\n",
       "  <thead>\n",
       "    <tr style=\"text-align: right;\">\n",
       "      <th></th>\n",
       "      <th>conf</th>\n",
       "      <th>iou</th>\n",
       "      <th>AP</th>\n",
       "      <th>recall</th>\n",
       "      <th>precision</th>\n",
       "      <th>tp</th>\n",
       "      <th>fp</th>\n",
       "      <th>fn</th>\n",
       "    </tr>\n",
       "  </thead>\n",
       "  <tbody>\n",
       "    <tr>\n",
       "      <th>0</th>\n",
       "      <td>0.9</td>\n",
       "      <td>0.1</td>\n",
       "      <td>0.73</td>\n",
       "      <td>0.65</td>\n",
       "      <td>0.51</td>\n",
       "      <td>331.0</td>\n",
       "      <td>314.0</td>\n",
       "      <td>181.0</td>\n",
       "    </tr>\n",
       "    <tr>\n",
       "      <th>1</th>\n",
       "      <td>0.9</td>\n",
       "      <td>0.2</td>\n",
       "      <td>0.72</td>\n",
       "      <td>0.64</td>\n",
       "      <td>0.51</td>\n",
       "      <td>327.0</td>\n",
       "      <td>318.0</td>\n",
       "      <td>185.0</td>\n",
       "    </tr>\n",
       "    <tr>\n",
       "      <th>2</th>\n",
       "      <td>0.9</td>\n",
       "      <td>0.3</td>\n",
       "      <td>0.70</td>\n",
       "      <td>0.62</td>\n",
       "      <td>0.49</td>\n",
       "      <td>318.0</td>\n",
       "      <td>327.0</td>\n",
       "      <td>194.0</td>\n",
       "    </tr>\n",
       "    <tr>\n",
       "      <th>3</th>\n",
       "      <td>0.9</td>\n",
       "      <td>0.4</td>\n",
       "      <td>0.64</td>\n",
       "      <td>0.55</td>\n",
       "      <td>0.43</td>\n",
       "      <td>280.0</td>\n",
       "      <td>365.0</td>\n",
       "      <td>232.0</td>\n",
       "    </tr>\n",
       "    <tr>\n",
       "      <th>4</th>\n",
       "      <td>0.9</td>\n",
       "      <td>0.5</td>\n",
       "      <td>0.49</td>\n",
       "      <td>0.39</td>\n",
       "      <td>0.31</td>\n",
       "      <td>202.0</td>\n",
       "      <td>443.0</td>\n",
       "      <td>310.0</td>\n",
       "    </tr>\n",
       "  </tbody>\n",
       "</table>\n",
       "</div>"
      ],
      "text/plain": [
       "   conf  iou    AP  recall  precision     tp     fp     fn\n",
       "0   0.9  0.1  0.73    0.65       0.51  331.0  314.0  181.0\n",
       "1   0.9  0.2  0.72    0.64       0.51  327.0  318.0  185.0\n",
       "2   0.9  0.3  0.70    0.62       0.49  318.0  327.0  194.0\n",
       "3   0.9  0.4  0.64    0.55       0.43  280.0  365.0  232.0\n",
       "4   0.9  0.5  0.49    0.39       0.31  202.0  443.0  310.0"
      ]
     },
     "execution_count": 72,
     "metadata": {},
     "output_type": "execute_result"
    }
   ],
   "source": [
    "df[[\"conf\", \"iou\", \"AP\", \"recall\", \"precision\", \"tp\", \"fp\", \"fn\"]]"
   ]
  },
  {
   "cell_type": "code",
   "execution_count": 68,
   "id": "909c158b",
   "metadata": {},
   "outputs": [],
   "source": [
    "df[\"AP_interp\"] = df[\"AP_interp\"].apply(lambda x: eval(x))\n",
    "df[\"FROC_interp\"] = df[\"FROC_interp\"].apply(lambda x: eval(x))\n",
    "df[\"FROC_thresholds\"] = df[\"FROC_thresholds\"].apply(lambda x: eval(x))"
   ]
  },
  {
   "cell_type": "code",
   "execution_count": 74,
   "id": "c4e9f545",
   "metadata": {},
   "outputs": [
    {
     "data": {
      "text/plain": [
       "0.595"
      ]
     },
     "execution_count": 74,
     "metadata": {},
     "output_type": "execute_result"
    }
   ],
   "source": [
    "np.mean(df[\"FROC_interp\"].values[2])"
   ]
  },
  {
   "cell_type": "code",
   "execution_count": 69,
   "id": "0cb6cd54",
   "metadata": {},
   "outputs": [
    {
     "data": {
      "text/plain": [
       "[1.0, 0.98, 0.94, 0.86, 0.76, 0.67, 0.54, 0.49, 0.49, 0.49, 0.49]"
      ]
     },
     "execution_count": 69,
     "metadata": {},
     "output_type": "execute_result"
    }
   ],
   "source": [
    "df[\"AP_interp\"].values[2]"
   ]
  },
  {
   "cell_type": "code",
   "execution_count": 70,
   "id": "fe7af379",
   "metadata": {},
   "outputs": [
    {
     "data": {
      "text/plain": [
       "0.700909090909091"
      ]
     },
     "execution_count": 70,
     "metadata": {},
     "output_type": "execute_result"
    }
   ],
   "source": [
    "np.mean(df[\"AP_interp\"].values[2])"
   ]
  },
  {
   "cell_type": "code",
   "execution_count": 71,
   "id": "d56f751e",
   "metadata": {},
   "outputs": [
    {
     "data": {
      "image/png": "[encoded data removed]",
      "text/plain": [
       "<Figure size 700x300 with 1 Axes>"
      ]
     },
     "metadata": {},
     "output_type": "display_data"
    }
   ],
   "source": [
    "plt.figure(figsize=(7, 3))\n",
    "plt.plot(df[\"FROC_thresholds\"].values[2], df[\"FROC_interp\"].values[2])\n",
    "plt.show()"
   ]
  }
 ],
 "metadata": {
  "kernelspec": {
   "display_name": "Python 3 (ipykernel)",
   "language": "python",
   "name": "python3"
  },
  "language_info": {
   "codemirror_mode": {
    "name": "ipython",
    "version": 3
   },
   "file_extension": ".py",
   "mimetype": "text/x-python",
   "name": "python",
   "nbconvert_exporter": "python",
   "pygments_lexer": "ipython3",
   "version": "3.9.18"
  }
 },
 "nbformat": 4,
 "nbformat_minor": 5
}
