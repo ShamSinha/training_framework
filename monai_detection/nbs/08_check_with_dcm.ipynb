{
 "cells": [
  {
   "cell_type": "code",
   "execution_count": null,
   "id": "82345007",
   "metadata": {},
   "outputs": [],
   "source": [
    "import torch\n",
    "import fastcore.all as fc\n",
    "from qct_utils.image_io.dcm2nii import load_sitk_image_cct\n",
    "from qure_mini_pacs import create_documents\n",
    "\n",
    "from voxdet.utils import load_sitk_img\n",
    "from voxdet.infer import RetinaInfer"
   ]
  },
  {
   "cell_type": "code",
   "execution_count": null,
   "id": "660e6ab9",
   "metadata": {},
   "outputs": [],
   "source": [
    "files = list(fc.Path(\"/cache/datanas1/qct-nodules/prod_test/pm_dcm_example/\").glob(\"*\"))\n",
    "files"
   ]
  },
  {
   "cell_type": "code",
   "execution_count": null,
   "id": "68660caf",
   "metadata": {},
   "outputs": [],
   "source": [
    "_, series, _ = create_documents(files[0].as_posix())\n",
    "len(series)"
   ]
  },
  {
   "cell_type": "code",
   "execution_count": null,
   "id": "d7de94fc",
   "metadata": {},
   "outputs": [],
   "source": [
    "img = load_sitk_image_cct(series[0], sorting_type='CCT')\n",
    "img.GetSize()"
   ]
  },
  {
   "cell_type": "code",
   "execution_count": null,
   "id": "1b064c64",
   "metadata": {},
   "outputs": [],
   "source": [
    "x = load_sitk_img(img, series_id=series[0][\"SeriesInstanceUID\"])\n",
    "x.keys()"
   ]
  },
  {
   "cell_type": "code",
   "execution_count": null,
   "id": "d1d4e38e",
   "metadata": {},
   "outputs": [],
   "source": [
    "model = RetinaInfer(checkpoint_path=\"../resources/exp1.3.4_v6_r10_bc_AP652.pth\")\n",
    "model"
   ]
  },
  {
   "cell_type": "code",
   "execution_count": null,
   "id": "a8f669a8",
   "metadata": {},
   "outputs": [],
   "source": [
    "nimg = model(x)"
   ]
  },
  {
   "cell_type": "code",
   "execution_count": null,
   "id": "a77557aa",
   "metadata": {},
   "outputs": [],
   "source": [
    "nimg[\"lung_mask\"].shape, x[\"images\"].shape, nimg[\"images\"].shape"
   ]
  },
  {
   "cell_type": "code",
   "execution_count": null,
   "id": "28e411db",
   "metadata": {},
   "outputs": [],
   "source": [
    "nimg[\"images\"].shape, nimg[\"boxes\"].shape, nimg[\"scores\"]"
   ]
  },
  {
   "cell_type": "code",
   "execution_count": null,
   "id": "ec742479",
   "metadata": {},
   "outputs": [],
   "source": [
    "nimg[\"boxes\"], "
   ]
  },
  {
   "cell_type": "code",
   "execution_count": null,
   "id": "71afbc96",
   "metadata": {},
   "outputs": [],
   "source": []
  }
 ],
 "metadata": {
  "kernelspec": {
   "display_name": "Python (qct_deep)",
   "language": "python",
   "name": "qct_deep"
  }
 },
 "nbformat": 4,
 "nbformat_minor": 5
}
