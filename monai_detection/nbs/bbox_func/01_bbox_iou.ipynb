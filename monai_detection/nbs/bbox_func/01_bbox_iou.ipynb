{
 "cells": [
  {
   "cell_type": "markdown",
   "id": "c23d65e8",
   "metadata": {},
   "source": [
    "# This module for calculating different IOUs \n",
    "For every function u need the following things\n",
    "- matrix `[numpy] [torch]`\n",
    "- pair     `[numpy] [torch]`\n",
    "- pair loss `[numpy][torch]`"
   ]
  },
  {
   "cell_type": "code",
   "execution_count": null,
   "id": "7adc6edc",
   "metadata": {},
   "outputs": [],
   "source": [
    "#| default_exp bbox_func/bbox_iou"
   ]
  },
  {
   "cell_type": "code",
   "execution_count": null,
   "id": "42853148",
   "metadata": {},
   "outputs": [],
   "source": [
    "%load_ext autoreload\n",
    "%autoreload 2"
   ]
  },
  {
   "cell_type": "code",
   "execution_count": null,
   "id": "0c703b3f",
   "metadata": {},
   "outputs": [],
   "source": [
    "#| export \n",
    "import torch \n",
    "import numpy as np\n",
    "import fastcore.all as fc"
   ]
  },
  {
   "cell_type": "code",
   "execution_count": null,
   "id": "768921eb",
   "metadata": {},
   "outputs": [],
   "source": [
    "import torchvision"
   ]
  },
  {
   "cell_type": "code",
   "execution_count": null,
   "id": "1fa25976",
   "metadata": {},
   "outputs": [],
   "source": [
    "#| export \n",
    "def _upcast(t: torch.Tensor) -> torch.Tensor:\n",
    "    # Protects from numerical overflows in multiplications by upcasting to the equivalent higher type\n",
    "    if t.dtype not in (torch.float32, torch.float64):\n",
    "        return t.float()\n",
    "    return t"
   ]
  },
  {
   "cell_type": "code",
   "execution_count": null,
   "id": "9d9d5467",
   "metadata": {},
   "outputs": [],
   "source": [
    "#| export \n",
    "def check_2d_3d(shape: int):\n",
    "    if shape == 6: return 3\n",
    "    if shape == 4: return 2\n",
    "    raise NotImplementedError(\"Only 2D and 3D bboxes are defined\")"
   ]
  },
  {
   "cell_type": "code",
   "execution_count": null,
   "id": "ec495063",
   "metadata": {},
   "outputs": [],
   "source": [
    "fc.eq(check_2d_3d(6), 3)\n",
    "fc.eq(check_2d_3d(4), 2)\n",
    "fc.test_fail(check_2d_3d, args=dict(shape=1))"
   ]
  },
  {
   "cell_type": "markdown",
   "id": "8ca55f7d",
   "metadata": {},
   "source": [
    "# IOU - Numpy"
   ]
  },
  {
   "cell_type": "code",
   "execution_count": null,
   "id": "8019c818",
   "metadata": {},
   "outputs": [],
   "source": [
    "#| export \n",
    "def calculate_iou_numpy(pred_bbox: np.ndarray, gt_bbox: np.ndarray):\n",
    "    \"\"\"\n",
    "    Calculate Intersection over Union (IoU) between two sets of bounding boxes using numpy broadcasting.\n",
    "    :param pred_bbox: numpy array\n",
    "                      An (Nx4/Nx6) array of predicted bounding boxes in the format [xmin, ymin, xmax, ymax]/[xmin, ymin, zmin, xmax, ymax, zmax]\n",
    "    :param gt_bbox: numpy array\n",
    "                      An (Mx4/Mx6) array of ground truth bounding boxes in the format [xmin, ymin, xmax, ymax]/[xmin, ymin, zmin, xmax, ymax, zmax]\n",
    "    :return iou: numpy array\n",
    "                      An (NxM) array containing IoU value between each predicted bounding box and ground truth bounding box.\n",
    "    \"\"\"\n",
    "    dim = check_2d_3d(pred_bbox.shape[-1])\n",
    "    x1 = np.maximum(pred_bbox[:, None, :dim], gt_bbox[:, :dim])\n",
    "    x2 = np.minimum(pred_bbox[:, None, dim:], gt_bbox[:, dim:])\n",
    "    inter = np.maximum(0, x2 - x1)\n",
    "    inter_area = np.prod(inter, axis=-1)\n",
    "    pred_area = np.prod(pred_bbox[:, -dim:] - pred_bbox[:, :dim], axis=1)\n",
    "    gt_area = np.prod(gt_bbox[:, -dim:] - gt_bbox[:, :dim], axis=1)\n",
    "    union = pred_area[:, None] + gt_area - inter_area\n",
    "    iou = inter_area / union\n",
    "    return np.clip(iou, 0, 1)"
   ]
  },
  {
   "cell_type": "markdown",
   "id": "bcf7d4ea",
   "metadata": {},
   "source": [
    "### test_iou_2d "
   ]
  },
  {
   "cell_type": "code",
   "execution_count": null,
   "id": "0e9deda4",
   "metadata": {},
   "outputs": [],
   "source": [
    "pred_bbox = np.array([[0, 0, 10, 10], [10, 10, 20, 20]])\n",
    "gt_bbox = np.array([[5, 5, 15, 15], [15, 15, 25, 25]])\n",
    "expected_output = np.array([[0.1428, 0.0], [0.1428, 0.1428]])\n",
    "fc.test_close(calculate_iou_numpy(pred_bbox, gt_bbox), expected_output, eps=1e-2)"
   ]
  },
  {
   "cell_type": "markdown",
   "id": "609bed7b",
   "metadata": {},
   "source": [
    "### test_iou_3d"
   ]
  },
  {
   "cell_type": "code",
   "execution_count": null,
   "id": "37ac9ae5",
   "metadata": {},
   "outputs": [],
   "source": [
    "pred_bbox = np.array([[0, 0, 0, 10, 10, 10], [10, 10, 10, 15, 15, 15]])\n",
    "gt_bbox = np.array([[5, 5, 5, 15, 15, 15], [15, 15, 15, 17, 17, 17]])\n",
    "expected_output = np.array([[0.0667, 0.0], [0.125, 0.0]])\n",
    "fc.test_close(calculate_iou_numpy(pred_bbox, gt_bbox), expected_output, eps=1e-2)"
   ]
  },
  {
   "cell_type": "code",
   "execution_count": null,
   "id": "812181a6",
   "metadata": {},
   "outputs": [
    {
     "data": {
      "text/plain": [
       "array([[0.06666667]])"
      ]
     },
     "execution_count": null,
     "metadata": {},
     "output_type": "execute_result"
    }
   ],
   "source": [
    "calculate_iou_numpy(pred_bbox[0][None], gt_bbox[0][None])"
   ]
  },
  {
   "cell_type": "markdown",
   "id": "79389826",
   "metadata": {},
   "source": [
    "## IOU - torch"
   ]
  },
  {
   "cell_type": "code",
   "execution_count": null,
   "id": "470fddb5",
   "metadata": {},
   "outputs": [],
   "source": [
    "xy = torch.tensor([[0, 0, 10, 10], [10, 10,  15, 15 ]])\n",
    "yx = torch.tensor([[5, 5, 15, 15], [12, 12,  17, 17 ]])"
   ]
  },
  {
   "cell_type": "code",
   "execution_count": null,
   "id": "36fd415b",
   "metadata": {},
   "outputs": [
    {
     "data": {
      "text/plain": [
       "(tensor([[ 5,  5],\n",
       "         [12, 12]]),\n",
       " tensor([[10, 10],\n",
       "         [15, 15]]))"
      ]
     },
     "execution_count": null,
     "metadata": {},
     "output_type": "execute_result"
    }
   ],
   "source": [
    "xy1 = torch.max(xy[:, :2], yx[:, :2])\n",
    "xy2 = torch.min(xy[:, 2:], yx[:, 2:])\n",
    "xy1, xy2"
   ]
  },
  {
   "cell_type": "code",
   "execution_count": null,
   "id": "2bb8be63",
   "metadata": {},
   "outputs": [
    {
     "data": {
      "text/plain": [
       "tensor([25,  9])"
      ]
     },
     "execution_count": null,
     "metadata": {},
     "output_type": "execute_result"
    }
   ],
   "source": [
    "inter_iou = torch.prod(xy2-xy1, dim=-1)\n",
    "inter_iou"
   ]
  },
  {
   "cell_type": "code",
   "execution_count": null,
   "id": "074ff8d1",
   "metadata": {},
   "outputs": [],
   "source": [
    "xyarea = torch.prod(xy[:, 2:] - xy[:, :2] , dim=-1)\n",
    "yxarea = torch.prod(yx[:, 2:] - yx[:, :2] , dim=-1)"
   ]
  },
  {
   "cell_type": "code",
   "execution_count": null,
   "id": "97198903",
   "metadata": {},
   "outputs": [
    {
     "data": {
      "text/plain": [
       "tensor([100,  25])"
      ]
     },
     "execution_count": null,
     "metadata": {},
     "output_type": "execute_result"
    }
   ],
   "source": [
    "yxarea"
   ]
  },
  {
   "cell_type": "code",
   "execution_count": null,
   "id": "076b06e4",
   "metadata": {},
   "outputs": [],
   "source": [
    "#| export \n",
    "COMPUTE_DTYPE = torch.float32"
   ]
  },
  {
   "cell_type": "code",
   "execution_count": null,
   "id": "f1ea0666",
   "metadata": {},
   "outputs": [],
   "source": [
    "#| export \n",
    "def intersection_area_pair(b1: torch.Tensor, b2: torch.Tensor, dim: int=2):\n",
    "    x1 = torch.max(b1[:, :dim], b2[:, :dim])\n",
    "    x2 = torch.min(b1[:, dim:], b2[:, dim:])\n",
    "    inter_hw = torch.clamp(_upcast(x2 - x1), min=0)\n",
    "    inter = torch.prod(inter_hw, dim=-1)\n",
    "    return inter"
   ]
  },
  {
   "cell_type": "code",
   "execution_count": null,
   "id": "0d8637df",
   "metadata": {},
   "outputs": [],
   "source": [
    "#| export \n",
    "def bbox_area(b: torch.Tensor, dim: int=2):\n",
    "    return torch.prod(_upcast(b[:, dim:] - b[:, :dim]), dim=-1)"
   ]
  },
  {
   "cell_type": "code",
   "execution_count": null,
   "id": "cf18679d",
   "metadata": {},
   "outputs": [],
   "source": [
    "#| export     \n",
    "def calculate_iou_pair(b1: torch.Tensor, b2: torch.Tensor):\n",
    "    \"\"\"calculate pairwaise iou score. bbox1: N, 4/6, bbox2: N, 4/6\"\"\"\n",
    "    assert b1.shape == b2.shape , \"b1 and b2 are of not the same shape\"\n",
    "    dim = check_2d_3d(b1.shape[1])\n",
    "    inter = intersection_area_pair(b1, b2, dim)\n",
    "    b1_area, b2_area = bbox_area(b1, dim), bbox_area(b2, dim)\n",
    "    union = (b1_area + b2_area - inter)\n",
    "    iou = inter/ (union+torch.finfo(COMPUTE_DTYPE).eps)\n",
    "    return iou"
   ]
  },
  {
   "cell_type": "code",
   "execution_count": null,
   "id": "fae076e9",
   "metadata": {},
   "outputs": [
    {
     "data": {
      "text/plain": [
       "tensor([0.1429])"
      ]
     },
     "execution_count": null,
     "metadata": {},
     "output_type": "execute_result"
    }
   ],
   "source": [
    "calculate_iou_pair(xy[0].unsqueeze(0), yx[0].unsqueeze(0))"
   ]
  },
  {
   "cell_type": "code",
   "execution_count": null,
   "id": "dee2ff83",
   "metadata": {},
   "outputs": [
    {
     "data": {
      "text/plain": [
       "tensor([[0.1429, 0.0000],\n",
       "        [0.2500, 0.2195]])"
      ]
     },
     "execution_count": null,
     "metadata": {},
     "output_type": "execute_result"
    }
   ],
   "source": [
    "torchvision.ops.box_iou(xy, yx)"
   ]
  },
  {
   "cell_type": "code",
   "execution_count": null,
   "id": "24324f4f",
   "metadata": {},
   "outputs": [],
   "source": [
    "#| export \n",
    "def intersection_area(b1: torch.Tensor, b2: torch.Tensor, dim: int=2):\n",
    "    x1 = torch.max(b1[:, None, :dim], b2[:, :dim])\n",
    "    x2 = torch.min(b1[:, None, dim:], b2[:, dim:])\n",
    "    inter = torch.clamp(_upcast(x2 - x1), min=0)\n",
    "    inter_area = torch.prod(inter, dim=-1)\n",
    "    return inter_area"
   ]
  },
  {
   "cell_type": "code",
   "execution_count": null,
   "id": "c5eff127",
   "metadata": {},
   "outputs": [],
   "source": [
    "#| export \n",
    "def calculate_iou_torch(b1: torch.Tensor, b2: torch.Tensor):\n",
    "    \"\"\"\n",
    "    Calculate Intersection over Union (IoU) between two sets of bounding boxes using PyTorch broadcasting.\n",
    "    :param b1: torch tensor\n",
    "                      A (Nx4/Nx6) tensor of predicted bounding boxes in the format [xmin, ymin, xmax, ymax]/[xmin, ymin, zmin, xmax, ymax, zmax]\n",
    "    :param b2: torch tensor\n",
    "                      A (Mx4/Mx6) tensor of ground truth bounding boxes in the format [xmin, ymin, xmax, ymax]/[xmin, ymin, zmin, xmax, ymax, zmax]\n",
    "    :return iou: torch tensor\n",
    "                      A (NxM) tensor containing IoU value between each predicted bounding box and ground truth bounding box.\n",
    "    \"\"\"\n",
    "    dim = check_2d_3d(b1.shape[-1])\n",
    "    inter_area = intersection_area(b1, b2, dim)\n",
    "    b1_area, b2_area = bbox_area(b1, dim), bbox_area(b2, dim)\n",
    "    union = b1_area[:, None] + b2_area - inter_area\n",
    "    iou = inter_area / (union+torch.finfo(COMPUTE_DTYPE).eps)\n",
    "    return iou.clamp(min=0, max=1)"
   ]
  },
  {
   "cell_type": "markdown",
   "id": "d37eb092",
   "metadata": {},
   "source": [
    "### Test-IOU-Torch"
   ]
  },
  {
   "cell_type": "code",
   "execution_count": null,
   "id": "00be600c",
   "metadata": {},
   "outputs": [],
   "source": [
    "pred_bbox = torch.tensor([[0, 0, 0, 10, 10, 10], [10, 10, 10, 15, 15, 15]])\n",
    "gt_bbox = torch.tensor([[5, 5, 5, 15, 15, 15], [15, 15, 15, 17, 17, 17]])\n",
    "expected_output = torch.tensor([[0.0667, 0.0], [0.125, 0.0]])\n",
    "fc.test_close(calculate_iou_torch(pred_bbox, gt_bbox), expected_output, eps=1e-2)"
   ]
  },
  {
   "cell_type": "code",
   "execution_count": null,
   "id": "26131dcf",
   "metadata": {},
   "outputs": [],
   "source": [
    "pred_bbox = torch.tensor([[0, 0, 10, 10], [10, 10, 15, 15]])\n",
    "gt_bbox = torch.tensor([[5, 5, 15, 15], [15, 15, 17, 17]])\n",
    "fc.test_close(torchvision.ops.box_iou(pred_bbox, gt_bbox), calculate_iou_torch(pred_bbox, gt_bbox), eps=1e-2)"
   ]
  },
  {
   "cell_type": "code",
   "execution_count": null,
   "id": "ce3de198",
   "metadata": {},
   "outputs": [
    {
     "data": {
      "text/plain": [
       "torch.Size([1000, 6])"
      ]
     },
     "execution_count": null,
     "metadata": {},
     "output_type": "execute_result"
    }
   ],
   "source": [
    "x = torch.hstack([torch.randint(20, size=(1000, 1)) for _ in range(3)])\n",
    "y = torch.Tensor([[40, 40, 40] for i in range(1000)])\n",
    "xy = torch.hstack([x, y])\n",
    "xy.shape"
   ]
  },
  {
   "cell_type": "code",
   "execution_count": null,
   "id": "1d91eacd",
   "metadata": {},
   "outputs": [
    {
     "data": {
      "text/plain": [
       "(1000, 6)"
      ]
     },
     "execution_count": null,
     "metadata": {},
     "output_type": "execute_result"
    }
   ],
   "source": [
    "nxy = xy.numpy()\n",
    "nxy.shape"
   ]
  },
  {
   "cell_type": "code",
   "execution_count": null,
   "id": "7937d7f7",
   "metadata": {},
   "outputs": [
    {
     "name": "stdout",
     "output_type": "stream",
     "text": [
      "CPU times: user 58.3 ms, sys: 9.76 ms, total: 68.1 ms\n",
      "Wall time: 67 ms\n"
     ]
    }
   ],
   "source": [
    "%time _ = calculate_iou_numpy(nxy, nxy)"
   ]
  },
  {
   "cell_type": "code",
   "execution_count": null,
   "id": "fdf3929c",
   "metadata": {},
   "outputs": [
    {
     "name": "stdout",
     "output_type": "stream",
     "text": [
      "CPU times: user 3.42 s, sys: 103 ms, total: 3.52 s\n",
      "Wall time: 256 ms\n"
     ]
    }
   ],
   "source": [
    "%time _ = calculate_iou_torch(xy, xy)"
   ]
  },
  {
   "cell_type": "code",
   "execution_count": null,
   "id": "a00e63cb",
   "metadata": {},
   "outputs": [],
   "source": [
    "if torch.cuda.is_available(): xy = xy.cuda()"
   ]
  },
  {
   "cell_type": "code",
   "execution_count": null,
   "id": "807092f3",
   "metadata": {},
   "outputs": [
    {
     "name": "stdout",
     "output_type": "stream",
     "text": [
      "CPU times: user 4.95 ms, sys: 4.34 ms, total: 9.29 ms\n",
      "Wall time: 12.5 ms\n"
     ]
    }
   ],
   "source": [
    "%time _ = calculate_iou_torch(xy, xy)"
   ]
  },
  {
   "cell_type": "markdown",
   "id": "f79793ca",
   "metadata": {},
   "source": [
    "> torch is faster than numpy\n",
    "\n",
    "> cuda is faster in torch but moving tensors to cuda is taking time. "
   ]
  },
  {
   "cell_type": "code",
   "execution_count": null,
   "id": "d6d485d5",
   "metadata": {},
   "outputs": [],
   "source": [
    "#| export \n",
    "calculate_iou = fc.TypeDispatch([calculate_iou_torch, calculate_iou_numpy])"
   ]
  },
  {
   "cell_type": "markdown",
   "id": "d5e90207",
   "metadata": {},
   "source": [
    "# [DIOU](https://arxiv.org/pdf/1911.08287.pdf)\n",
    "we will only implement torch version and it should work for both 2d and 3d. \n",
    "\n",
    "\n",
    "while calculating how close two bounding boxes are iou is only one aspect. we should also look into other things like \n",
    "- `overlap area`\n",
    "- `central point distance` and \n",
    "- `aspect ratio`\n",
    "\n",
    "In this DIOU case we will add `central point distance` as a negative term to diou.\n",
    "\n",
    "This is important as IOU between two bboxes which doesn't have overlap is always zero irrespective of their distance. "
   ]
  },
  {
   "cell_type": "markdown",
   "id": "d7e1ae08",
   "metadata": {},
   "source": [
    "$$\n",
    "R_{DIOU} = \\frac{\\rho^2(b, b^{gt})}{c^2}\n",
    "$$\n",
    "  \n",
    "$$\n",
    "L_{DIoU} = 1 - IOU + R_{DIOU},\n",
    "$$\n",
    "    \n",
    "\n",
    "- where $\\rho(.)$ is the eculidean distance between b and $b^{gt}$,\n",
    "- c is the diagonal length of the samllest enclosing box covering the two boxes"
   ]
  },
  {
   "cell_type": "code",
   "execution_count": null,
   "id": "d365c58d",
   "metadata": {},
   "outputs": [
    {
     "data": {
      "text/plain": [
       "tensor([[ 5.,  5., 35., 35.],\n",
       "        [40., 40., 80., 80.],\n",
       "        [24., 24., 28., 28.],\n",
       "        [15., 15., 25., 25.],\n",
       "        [10., 10., 30., 30.]])"
      ]
     },
     "execution_count": null,
     "metadata": {},
     "output_type": "execute_result"
    }
   ],
   "source": [
    "xy = torch.Tensor([[10, 10, 30, 30], \n",
    "                   [15, 15, 25, 25], \n",
    "                   [24, 24, 28, 28], \n",
    "                   [40, 40, 80, 80],\n",
    "                   [5, 5, 35, 35]])\n",
    "yx = xy.flipud()\n",
    "yx"
   ]
  },
  {
   "cell_type": "code",
   "execution_count": null,
   "id": "fedc1afa",
   "metadata": {},
   "outputs": [
    {
     "data": {
      "text/plain": [
       "(tensor([[10., 10., 30., 30.],\n",
       "         [15., 15., 25., 25.],\n",
       "         [24., 24., 28., 28.],\n",
       "         [40., 40., 80., 80.],\n",
       "         [ 5.,  5., 35., 35.]]),\n",
       " tensor([[ 5.,  5., 35., 35.],\n",
       "         [40., 40., 80., 80.],\n",
       "         [24., 24., 28., 28.],\n",
       "         [15., 15., 25., 25.],\n",
       "         [10., 10., 30., 30.]]))"
      ]
     },
     "execution_count": null,
     "metadata": {},
     "output_type": "execute_result"
    }
   ],
   "source": [
    "xy, yx"
   ]
  },
  {
   "cell_type": "code",
   "execution_count": null,
   "id": "44c4d4fb",
   "metadata": {},
   "outputs": [],
   "source": [
    "#| export \n",
    "def cal_diou_pair(b1: torch.Tensor, b2: torch.Tensor):\n",
    "    \"\"\"where b1 and b2 have same shape N x 4/6\"\"\"\n",
    "    dim = check_2d_3d(b1.shape[1])\n",
    "    iou = calculate_iou_pair(b1, b2)\n",
    "    \n",
    "    ## center Distance between the bounding boxes\n",
    "    b1_ctrs = (b1[:,  dim:] + b1[:, :dim])/2\n",
    "    b2_ctrs = (b2[:,  dim:] + b2[:, :dim])/2\n",
    "    rho_sq = (_upcast(b1_ctrs - b2_ctrs)**2).sum(1)\n",
    "    \n",
    "    ## min-enclosing bbox diagnoal distance. \n",
    "    xc = torch.min(b1[:, :dim], b2[:, :dim])\n",
    "    yc = torch.max(b1[:, dim:], b2[:, dim:])\n",
    "    diag_sq = (_upcast(yc - xc)**2).sum(1)\n",
    "    \n",
    "    diou = iou - (rho_sq/(diag_sq+ torch.finfo(COMPUTE_DTYPE).eps))\n",
    "    return diou"
   ]
  },
  {
   "cell_type": "code",
   "execution_count": null,
   "id": "9f333202",
   "metadata": {},
   "outputs": [
    {
     "name": "stdout",
     "output_type": "stream",
     "text": [
      "CPU times: user 1.21 ms, sys: 449 µs, total: 1.66 ms\n",
      "Wall time: 1.56 ms\n"
     ]
    },
    {
     "data": {
      "text/plain": [
       "tensor([ 0.4444, -0.3787,  1.0000, -0.3787,  0.4444])"
      ]
     },
     "execution_count": null,
     "metadata": {},
     "output_type": "execute_result"
    }
   ],
   "source": [
    "%time iou = cal_diou_pair(xy, yx)\n",
    "iou"
   ]
  },
  {
   "cell_type": "code",
   "execution_count": null,
   "id": "3bbb49e9",
   "metadata": {},
   "outputs": [
    {
     "data": {
      "text/plain": [
       "tensor([[ 0.4444, -0.3265, -0.0500,  0.2500,  1.0000],\n",
       "        [ 0.1111, -0.3787, -0.2043,  1.0000,  0.2500],\n",
       "        [-0.0222, -0.3686,  1.0000, -0.2043, -0.0500],\n",
       "        [-0.2844,  1.0000, -0.3686, -0.3787, -0.3265],\n",
       "        [ 1.0000, -0.2844, -0.0222,  0.1111,  0.4444]])"
      ]
     },
     "execution_count": null,
     "metadata": {},
     "output_type": "execute_result"
    }
   ],
   "source": [
    "torchvision.ops.distance_box_iou(xy, yx)"
   ]
  },
  {
   "cell_type": "code",
   "execution_count": null,
   "id": "59201ea7",
   "metadata": {},
   "outputs": [
    {
     "data": {
      "text/plain": [
       "(tensor([10., 10., 30., 30.]), tensor([ 5.,  5., 35., 35.]))"
      ]
     },
     "execution_count": null,
     "metadata": {},
     "output_type": "execute_result"
    }
   ],
   "source": [
    "xy[0], yx[0]"
   ]
  },
  {
   "cell_type": "code",
   "execution_count": null,
   "id": "5f1f2b20",
   "metadata": {},
   "outputs": [
    {
     "data": {
      "text/plain": [
       "tensor([0.4444])"
      ]
     },
     "execution_count": null,
     "metadata": {},
     "output_type": "execute_result"
    }
   ],
   "source": [
    "calculate_iou_pair(xy[0].unsqueeze(0), yx[0].unsqueeze(0))"
   ]
  },
  {
   "cell_type": "code",
   "execution_count": null,
   "id": "f3836fcf",
   "metadata": {},
   "outputs": [
    {
     "data": {
      "text/plain": [
       "tensor([[0.4444]])"
      ]
     },
     "execution_count": null,
     "metadata": {},
     "output_type": "execute_result"
    }
   ],
   "source": [
    "torchvision.ops.box_iou(xy[0].unsqueeze(0), yx[0].unsqueeze(0))"
   ]
  },
  {
   "cell_type": "code",
   "execution_count": null,
   "id": "5aca27d6",
   "metadata": {},
   "outputs": [],
   "source": [
    "#| export \n",
    "def cal_diou(b1: torch.Tensor, b2: torch.Tensor):\n",
    "    \"\"\"calculating DIOU between two matrixs\"\"\"\n",
    "    dim = check_2d_3d(b1.shape[1])\n",
    "    iou = calculate_iou_torch(b1, b2)\n",
    "    \n",
    "    ## center Distance between the bounding boxes\n",
    "    b1_ctrs = (b1[:,  dim:] + b1[:, :dim])/2\n",
    "    b2_ctrs = (b2[:,  dim:] + b2[:, :dim])/2\n",
    "    rho_sq = (_upcast(b1_ctrs[:, None, :] - b2_ctrs)**2).sum(2)\n",
    "    \n",
    "    ## min-enclosing bbox diagnoal distance. \n",
    "    xc = torch.min(b1[:, None,  :dim], b2[:, :dim])\n",
    "    yc = torch.max(b1[:, None, dim:], b2[:, dim:])\n",
    "    diag_sq = (_upcast(yc - xc)**2).sum(2)\n",
    "    \n",
    "    diou = iou - (rho_sq/(diag_sq+ torch.finfo(COMPUTE_DTYPE).eps))\n",
    "    return diou"
   ]
  },
  {
   "cell_type": "code",
   "execution_count": null,
   "id": "899f9395",
   "metadata": {},
   "outputs": [
    {
     "name": "stdout",
     "output_type": "stream",
     "text": [
      "CPU times: user 504 µs, sys: 189 µs, total: 693 µs\n",
      "Wall time: 583 µs\n"
     ]
    },
    {
     "data": {
      "text/plain": [
       "tensor([[ 0.4444, -0.3265, -0.0500,  0.2500,  1.0000],\n",
       "        [ 0.1111, -0.3787, -0.2043,  1.0000,  0.2500],\n",
       "        [-0.0222, -0.3686,  1.0000, -0.2043, -0.0500],\n",
       "        [-0.2844,  1.0000, -0.3686, -0.3787, -0.3265],\n",
       "        [ 1.0000, -0.2844, -0.0222,  0.1111,  0.4444]])"
      ]
     },
     "execution_count": null,
     "metadata": {},
     "output_type": "execute_result"
    }
   ],
   "source": [
    "%time iou = cal_diou(xy, yx)\n",
    "iou"
   ]
  },
  {
   "cell_type": "code",
   "execution_count": null,
   "id": "a8ba74b5",
   "metadata": {},
   "outputs": [],
   "source": [
    "fc.test_close(torchvision.ops.distance_box_iou(xy, yx), cal_diou(xy, yx), eps=1e-2)\n",
    "fc.test_close(torchvision.ops.distance_box_iou(xy[0].unsqueeze(0), yx[0].unsqueeze(0)), \\\n",
    "              cal_diou(xy[0].unsqueeze(0), yx[0].unsqueeze(0)), eps=1e-2)"
   ]
  },
  {
   "cell_type": "markdown",
   "id": "ae828d45",
   "metadata": {},
   "source": [
    "# GIoU\n",
    "we will only implement torch version and it should work for both 2d and 3d. \n",
    "\n",
    "\n",
    "need area of convex hull enclosing the pair of boxes in question apart from iou"
   ]
  },
  {
   "cell_type": "code",
   "execution_count": null,
   "id": "9943e78c",
   "metadata": {},
   "outputs": [],
   "source": [
    "#| export \n",
    "def cal_giou_pair(b1: torch.Tensor, b2: torch.Tensor):\n",
    "    \"\"\"where b1 and b2 have same shape N x 4/6\"\"\"\n",
    "    dim = check_2d_3d(b1.shape[1])\n",
    "    inter = intersection_area_pair(b1, b2, dim)\n",
    "    b1_area, b2_area = bbox_area(b1, dim), bbox_area(b2, dim)\n",
    "    union = (b1_area + b2_area - inter)\n",
    "    iou = inter/ (union+torch.finfo(COMPUTE_DTYPE).eps)\n",
    "    convex_hull_size = torch.max(b1[:, dim:], b2[:, dim:]) - torch.min(b1[:, :dim], b2[:, :dim])\n",
    "    enc = convex_hull_size.prod(dim=1)\n",
    "    giou = iou - (1-union/enc)\n",
    "    return giou"
   ]
  },
  {
   "cell_type": "code",
   "execution_count": null,
   "id": "f4079e41",
   "metadata": {},
   "outputs": [],
   "source": [
    "b1 = torch.Tensor(np.asarray([[1, 1, 4, 4, 7, 7], [2, 2, 5, 5, 8, 8], [3, 3, 6, 6, 9, 9]]))\n",
    "b2 = torch.Tensor(np.asarray([[2, 2, 4, 4, 6, 6], [3, 3, 5, 5, 7, 7], [1, 1, 6, 6, 8, 8]]))"
   ]
  },
  {
   "cell_type": "code",
   "execution_count": null,
   "id": "f2dc9e30",
   "metadata": {},
   "outputs": [],
   "source": [
    "dim = check_2d_3d(b1.shape[1])"
   ]
  },
  {
   "cell_type": "code",
   "execution_count": null,
   "id": "68584d3c",
   "metadata": {},
   "outputs": [
    {
     "data": {
      "text/plain": [
       "tensor([[3., 6., 3.],\n",
       "        [3., 6., 3.],\n",
       "        [5., 8., 3.]])"
      ]
     },
     "execution_count": null,
     "metadata": {},
     "output_type": "execute_result"
    }
   ],
   "source": [
    "convex_hull_size = torch.max(b1[:, dim:], b2[:, dim:]) - torch.min(b1[:, :dim], b2[:, :dim])\n",
    "convex_hull_size\n"
   ]
  },
  {
   "cell_type": "code",
   "execution_count": null,
   "id": "e4a1aac0",
   "metadata": {},
   "outputs": [
    {
     "data": {
      "text/plain": [
       "tensor([ 54.,  54., 120.])"
      ]
     },
     "execution_count": null,
     "metadata": {},
     "output_type": "execute_result"
    }
   ],
   "source": [
    "enc = convex_hull_size.prod(dim=1)\n",
    "enc"
   ]
  },
  {
   "cell_type": "code",
   "execution_count": null,
   "id": "a25edd1c",
   "metadata": {},
   "outputs": [
    {
     "data": {
      "text/plain": [
       "tensor([16., 16., 30.])"
      ]
     },
     "execution_count": null,
     "metadata": {},
     "output_type": "execute_result"
    }
   ],
   "source": [
    "inter = intersection_area_pair(b1, b2, dim)\n",
    "inter"
   ]
  },
  {
   "cell_type": "code",
   "execution_count": null,
   "id": "b078499a",
   "metadata": {},
   "outputs": [
    {
     "data": {
      "text/plain": [
       "tensor([54., 54., 94.])"
      ]
     },
     "execution_count": null,
     "metadata": {},
     "output_type": "execute_result"
    }
   ],
   "source": [
    "b1_area, b2_area = bbox_area(b1, dim), bbox_area(b2, dim)\n",
    "union = (b1_area + b2_area - inter)\n",
    "union"
   ]
  },
  {
   "cell_type": "code",
   "execution_count": null,
   "id": "f5b1bc0f",
   "metadata": {},
   "outputs": [
    {
     "data": {
      "text/plain": [
       "tensor([0.2963, 0.2963, 0.3191])"
      ]
     },
     "execution_count": null,
     "metadata": {},
     "output_type": "execute_result"
    }
   ],
   "source": [
    "iou = inter/ (union+torch.finfo(COMPUTE_DTYPE).eps)\n",
    "iou"
   ]
  },
  {
   "cell_type": "code",
   "execution_count": null,
   "id": "d951056f",
   "metadata": {},
   "outputs": [
    {
     "data": {
      "text/plain": [
       "tensor([0.2963, 0.2963, 0.1025])"
      ]
     },
     "execution_count": null,
     "metadata": {},
     "output_type": "execute_result"
    }
   ],
   "source": [
    "giou = iou - (1-union/enc)\n",
    "giou"
   ]
  },
  {
   "cell_type": "code",
   "execution_count": null,
   "id": "846c5a8d",
   "metadata": {},
   "outputs": [],
   "source": [
    "#| hide\n",
    "import nbdev; nbdev.nbdev_export()"
   ]
  }
 ],
 "metadata": {
  "kernelspec": {
   "display_name": "Python (qct_deep)",
   "language": "python",
   "name": "qct_deep"
  },
  "language_info": {
   "codemirror_mode": {
    "name": "ipython",
    "version": 3
   },
   "file_extension": ".py",
   "mimetype": "text/x-python",
   "name": "python",
   "nbconvert_exporter": "python",
   "pygments_lexer": "ipython3",
   "version": "3.9.18"
  }
 },
 "nbformat": 4,
 "nbformat_minor": 5
}
