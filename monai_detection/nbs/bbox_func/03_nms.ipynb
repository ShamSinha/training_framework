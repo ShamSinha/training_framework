{
 "cells": [
  {
   "cell_type": "code",
   "execution_count": 2,
   "id": "eb5a09a4",
   "metadata": {},
   "outputs": [],
   "source": [
    "#| default_exp bbox_func/nms"
   ]
  },
  {
   "cell_type": "code",
   "execution_count": null,
   "id": "78668cff",
   "metadata": {},
   "outputs": [],
   "source": [
    "#| export \n",
    "from monai.data.box_utils import non_max_suppression\n",
    "#TODO: Implement own and use DIoU"
   ]
  },
  {
   "cell_type": "code",
   "execution_count": null,
   "id": "20436221",
   "metadata": {},
   "outputs": [],
   "source": [
    "#| export \n",
    "def monai_nms(inputs, nms_thr, cnf_thr, cpu=True):\n",
    "    boxes, scores, labels = (\n",
    "        inputs[\"boxes\"],\n",
    "        inputs[\"labels_scores\"],\n",
    "        inputs[\"labels\"],\n",
    "    )\n",
    "    # final NMS\n",
    "    keep = non_max_suppression(boxes, scores, nms_thresh=nms_thr)\n",
    "    boxes, scores, labels = boxes[keep], scores[keep], labels[keep]\n",
    "    # final CNF_thr\n",
    "    keep = scores > cnf_thr\n",
    "    boxes, scores, labels = boxes[keep], scores[keep], labels[keep]\n",
    "\n",
    "    # save as dict\n",
    "    final = {}\n",
    "    if cpu : \n",
    "        final[\"boxes\"] = boxes.cpu().numpy()\n",
    "        final[\"scores\"] = scores.cpu().numpy()\n",
    "        final[\"labels\"] = labels.cpu().numpy()\n",
    "    else :\n",
    "        final[\"boxes\"] = boxes\n",
    "        final[\"scores\"] = scores\n",
    "        final[\"labels\"] = labels\n",
    "    return final"
   ]
  },
  {
   "cell_type": "code",
   "execution_count": null,
   "id": "36e97815",
   "metadata": {},
   "outputs": [],
   "source": [
    "#| hide\n",
    "import nbdev; nbdev.nbdev_export()"
   ]
  },
  {
   "cell_type": "code",
   "execution_count": null,
   "id": "21618f6e",
   "metadata": {},
   "outputs": [],
   "source": []
  }
 ],
 "metadata": {
  "kernelspec": {
   "display_name": "Python 3 (ipykernel)",
   "language": "python",
   "name": "python3"
  },
  "language_info": {
   "codemirror_mode": {
    "name": "ipython",
    "version": 3
   },
   "file_extension": ".py",
   "mimetype": "text/x-python",
   "name": "python",
   "nbconvert_exporter": "python",
   "pygments_lexer": "ipython3",
   "version": "3.9.18"
  }
 },
 "nbformat": 4,
 "nbformat_minor": 5
}
