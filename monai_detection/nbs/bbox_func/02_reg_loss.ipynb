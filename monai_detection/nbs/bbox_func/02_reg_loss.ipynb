{
 "cells": [
  {
   "cell_type": "code",
   "execution_count": null,
   "id": "33ebe85a",
   "metadata": {},
   "outputs": [],
   "source": [
    "#| default_exp bbox_func/reg_loss"
   ]
  },
  {
   "cell_type": "code",
   "execution_count": null,
   "id": "3aeb2cec",
   "metadata": {},
   "outputs": [],
   "source": [
    "%load_ext autoreload\n",
    "%autoreload 2"
   ]
  },
  {
   "cell_type": "code",
   "execution_count": null,
   "id": "5da690c8",
   "metadata": {},
   "outputs": [],
   "source": [
    "#| export \n",
    "import torch\n",
    "import torch.nn.functional as F\n",
    "import fastcore.all as fc\n",
    "from enum import Enum\n",
    "from torch.nn.modules.loss import _Loss\n",
    "from typing import Union\n",
    "from voxdet.bbox_func import bbox_iou #import cal_diou_pair, cal_giou_pair"
   ]
  },
  {
   "cell_type": "code",
   "execution_count": null,
   "id": "81cea374",
   "metadata": {},
   "outputs": [],
   "source": [
    "import fastcore.all as fc"
   ]
  },
  {
   "cell_type": "code",
   "execution_count": null,
   "id": "9f9c42df",
   "metadata": {},
   "outputs": [],
   "source": [
    "#| export \n",
    "class StrEnum(str, Enum):\n",
    "    \"\"\"Enum subclass that converts its value to a string.\"\"\"\n",
    "    def __str__(self): return self.value\n",
    "    def __repr__(self): return self.value"
   ]
  },
  {
   "cell_type": "code",
   "execution_count": null,
   "id": "a5de2f38",
   "metadata": {},
   "outputs": [],
   "source": [
    "#| export \n",
    "class LossReduction(StrEnum):\n",
    "    NONE = \"none\"\n",
    "    MEAN = \"mean\"\n",
    "    SUM = \"sum\""
   ]
  },
  {
   "cell_type": "code",
   "execution_count": null,
   "id": "3c36717f",
   "metadata": {},
   "outputs": [
    {
     "data": {
      "text/plain": [
       "True"
      ]
     },
     "execution_count": null,
     "metadata": {},
     "output_type": "execute_result"
    }
   ],
   "source": [
    "fc.all_equal(list(LossReduction),  [\"none\", \"mean\", \"sum\"])\n",
    "fc.eq(LossReduction.NONE, \"none\")\n",
    "fc.eq(LossReduction.MEAN, \"mean\")"
   ]
  },
  {
   "cell_type": "code",
   "execution_count": null,
   "id": "e9159039",
   "metadata": {},
   "outputs": [],
   "source": [
    "#| export \n",
    "COMPUTE_DTYPE = torch.float32"
   ]
  },
  {
   "cell_type": "markdown",
   "id": "adc84a07",
   "metadata": {},
   "source": [
    "## IOU Loss + L1 loss\n",
    "TODO: write documentation\n",
    "Compute the Distance intersection over union (DIoU) loss of a pair of boxes.\n",
    "- The two inputs should have the same shape. diou_loss = 1.0 - diou\n",
    "- The range of DIoU is (-1.0, 1.0]. Thus the range of DIoU loss is [0.0, 2.0)."
   ]
  },
  {
   "cell_type": "code",
   "execution_count": null,
   "id": "fda6617e",
   "metadata": {},
   "outputs": [],
   "source": [
    "#| export \n",
    "class RegLoss(_Loss):\n",
    "    def __init__(self, \\\n",
    "                 reduction: Union[LossReduction, str] = LossReduction.MEAN, \\\n",
    "                 iou_loss: str=\"diou\", \\\n",
    "                 l1_loss: bool= True) -> None:\n",
    "        super().__init__(reduction=LossReduction(reduction).value)\n",
    "        fc.store_attr()\n",
    "        \n",
    "    \n",
    "    def forward(self, inputs: torch.Tensor, target: torch.Tensor) -> torch.Tensor:\n",
    "        if target.shape != inputs.shape:raise ValueError(f\"ground truth has different shape ({target.shape}) from input ({input.shape})\")\n",
    "        box_dtype = inputs.dtype\n",
    "        iou = getattr(bbox_iou, f'cal_{self.iou_loss}_pair')(target.to(dtype=COMPUTE_DTYPE), \\\n",
    "                                                             inputs.to(dtype=COMPUTE_DTYPE)) # type: ignore\n",
    "        iou_loss= self._reduce(1.0 - iou).to(box_dtype)\n",
    "        if self.l1_loss:\n",
    "            l1_loss= F.l1_loss(target.to(dtype=COMPUTE_DTYPE), inputs.to(dtype=COMPUTE_DTYPE))\n",
    "            l1_loss = self._reduce(l1_loss).to(box_dtype)\n",
    "            return iou_loss, l1_loss \n",
    "        return iou_loss\n",
    "    \n",
    "    def _reduce(self, loss):\n",
    "        if self.reduction == LossReduction.MEAN.value: loss = loss.mean()\n",
    "        elif self.reduction == LossReduction.SUM.value: loss = loss.sum()\n",
    "        elif self.reduction == LossReduction.NONE.value: pass\n",
    "        else: raise ValueError(f'Unsupported reduction: {self.reduction}, available options are [\"mean\", \"sum\", \"none\"].')\n",
    "        return loss"
   ]
  },
  {
   "cell_type": "code",
   "execution_count": null,
   "id": "9f36c6c2",
   "metadata": {},
   "outputs": [],
   "source": [
    "#| hide\n",
    "import nbdev; nbdev.nbdev_export()"
   ]
  }
 ],
 "metadata": {
  "kernelspec": {
   "display_name": "Python (qct_deep)",
   "language": "python",
   "name": "qct_deep"
  }
 },
 "nbformat": 4,
 "nbformat_minor": 5
}
