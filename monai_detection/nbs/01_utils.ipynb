{
 "cells": [
  {
   "cell_type": "code",
   "execution_count": null,
   "id": "684383e5",
   "metadata": {},
   "outputs": [],
   "source": [
    "#| default_exp utils"
   ]
  },
  {
   "cell_type": "code",
   "execution_count": null,
   "id": "27244bd3",
   "metadata": {},
   "outputs": [],
   "source": [
    "#| export \n",
    "import pydoc\n",
    "import PIL \n",
    "import SimpleITK as sitk\n",
    "import numpy as np\n",
    "from PIL import Image\n",
    "from functools import partial\n",
    "from collections import OrderedDict\n",
    "from loguru import logger"
   ]
  },
  {
   "cell_type": "code",
   "execution_count": null,
   "id": "5a118457",
   "metadata": {},
   "outputs": [],
   "source": [
    "#| export \n",
    "def image_grid(imgs, rows, cols):\n",
    "    w,h = imgs[0].size\n",
    "    grid = Image.new('RGB', size=(cols*w, rows*h))\n",
    "    for i, img in enumerate(imgs): grid.paste(img, box=(i%cols*w, i//cols*h))\n",
    "    return grid"
   ]
  },
  {
   "cell_type": "code",
   "execution_count": null,
   "id": "fe5c831e",
   "metadata": {},
   "outputs": [],
   "source": [
    "#| export \n",
    "def thumbnail(img, size=256):\n",
    "    if not isinstance(img, PIL.Image.Image): img = Image.fromarray(img)\n",
    "    w, h = img.size\n",
    "    ar = h/w \n",
    "    return img.resize((size, int(size*ar)))"
   ]
  },
  {
   "cell_type": "code",
   "execution_count": null,
   "id": "2a1bbf7e",
   "metadata": {},
   "outputs": [],
   "source": [
    "#| export \n",
    "def windowing(ww, wl):\n",
    "    low = wl - ww/2\n",
    "    high = wl + ww/2\n",
    "    \n",
    "    def _window(img):\n",
    "        out = img.copy()\n",
    "        out = (out-low)/(high-low)\n",
    "        out = np.clip(out, 0, 1)\n",
    "        return out \n",
    "    return _window"
   ]
  },
  {
   "cell_type": "code",
   "execution_count": null,
   "id": "dd6aab55",
   "metadata": {},
   "outputs": [],
   "source": [
    "#| export\n",
    "hu_to_lung_window = windowing(1600, -600)"
   ]
  },
  {
   "cell_type": "code",
   "execution_count": null,
   "id": "bf7e87c3",
   "metadata": {},
   "outputs": [],
   "source": [
    "#| export \n",
    "def vis(img, size, window=True, seed=42):\n",
    "    if window: \n",
    "        img = hu_to_lung_window(img)\n",
    "        img = np.uint8(img*255)\n",
    "    np.random.seed(seed)\n",
    "    x = np.random.randint(img.shape[0], size=25)\n",
    "    x.sort()\n",
    "    img = [thumbnail(img[i], size) for i in x]\n",
    "    return image_grid(img, 5, 5)"
   ]
  },
  {
   "cell_type": "code",
   "execution_count": null,
   "id": "711ec57f",
   "metadata": {},
   "outputs": [],
   "source": [
    "#| export \n",
    "def load_deeplake_nodule_data(ds, idx):\n",
    "    f = {}\n",
    "    keys = [\"images\", \"boxes\", \"labels\", \"series_id\", \"mask\", \"spacing\"]\n",
    "    for key in keys:\n",
    "        if key in ds.tensors.keys():\n",
    "            f[key] = ds[key][idx].numpy()\n",
    "        if key == \"series_id\": f[key] = f[key][0]        \n",
    "    return f"
   ]
  },
  {
   "cell_type": "code",
   "execution_count": null,
   "id": "f8865f82",
   "metadata": {},
   "outputs": [],
   "source": [
    "#| export \n",
    "def load_sitk_img(series_path, series_id=None):\n",
    "    img = series_path if isinstance(series_path, sitk.Image) else sitk.ReadImage(series_path)\n",
    "    oimg = {}\n",
    "    oimg[\"images\"] = sitk.GetArrayFromImage(img)\n",
    "    oimg[\"spacing\"] = img.GetSpacing()[::-1]\n",
    "    oimg[\"series_id\"] = series_id if series_id is not None else \"\"\n",
    "    return oimg "
   ]
  },
  {
   "cell_type": "code",
   "execution_count": null,
   "id": "a9fa403e",
   "metadata": {},
   "outputs": [],
   "source": [
    "ds_path = \"../resources/1.3.6.1.4.1.14519.5.2.1.6279.6001.309564220265302089123180126785.nii.gz\"\n",
    "f = load_sitk_img(ds_path)\n",
    "vis(f[\"images\"], size=64, window=True)"
   ]
  },
  {
   "cell_type": "code",
   "execution_count": null,
   "id": "a5e5e662",
   "metadata": {},
   "outputs": [],
   "source": [
    "#| export\n",
    "def import_module(d, parent=None, **default_kwargs):\n",
    "    # copied from\n",
    "    kwargs = d.copy()\n",
    "    object_type = kwargs.pop(\"type\")\n",
    "    for name, value in default_kwargs.items():\n",
    "        kwargs.setdefault(name, value)\n",
    "\n",
    "    try:\n",
    "        if parent is not None:\n",
    "            module = getattr(parent, object_type)(**kwargs)  # skipcq PTC-W0034\n",
    "        else:\n",
    "            module = pydoc.locate(object_type)(**kwargs)\n",
    "    except Exception as e:\n",
    "        logger.error(f\"Cannot load {name}. Error: {str(e)}\")\n",
    "    return module"
   ]
  },
  {
   "cell_type": "code",
   "execution_count": null,
   "id": "de77991e",
   "metadata": {},
   "outputs": [],
   "source": [
    "#| export\n",
    "def locate_cls(transforms: dict, return_partial=False):\n",
    "    name = transforms[\"__class_fullname__\"]\n",
    "    targs = {k: v for k, v in transforms.items() if k != \"__class_fullname__\"}\n",
    "    try:\n",
    "        if return_partial:\n",
    "            transforms = partial(pydoc.locate(name), **targs)\n",
    "        else:\n",
    "            transforms = pydoc.locate(name)(**targs)\n",
    "    except Exception as e:\n",
    "        logger.error(f\"Cannot load {name}. Error: {str(e)}\")\n",
    "    return transforms"
   ]
  },
  {
   "cell_type": "code",
   "execution_count": null,
   "id": "88dc3ce6",
   "metadata": {},
   "outputs": [],
   "source": [
    "#| export \n",
    "def clean_state_dict(state_dict):\n",
    "    # 'clean' checkpoint by removing module. prefix from state dict if it exists from parallel training\n",
    "    cleaned_state_dict = OrderedDict()\n",
    "    for k, v in state_dict.items():\n",
    "        name = k[7:] if k.startswith(\"module.\") else k\n",
    "        cleaned_state_dict[name.replace(\"model.\", \"\")] = v\n",
    "    return cleaned_state_dict"
   ]
  },
  {
   "cell_type": "code",
   "execution_count": null,
   "id": "0a4bb02d",
   "metadata": {},
   "outputs": [],
   "source": [
    "#| export \n",
    "def mmcv_config_to_omegaconf(cfg):\n",
    "    from mmengine.config import ConfigDict\n",
    "    from omegaconf import OmegaConf\n",
    "    new_cfg = {}\n",
    "    for k, v in cfg.items():\n",
    "        if isinstance(v, ConfigDict):\n",
    "            v = v.to_dict()\n",
    "        elif isinstance(v, list):\n",
    "            v = [i.to_dict() if isinstance(i, ConfigDict) else i for i in v]\n",
    "        new_cfg[k] = v\n",
    "    cfg2 = OmegaConf.create(new_cfg)\n",
    "    return cfg2"
   ]
  },
  {
   "cell_type": "code",
   "execution_count": 1,
   "id": "d7d43fce",
   "metadata": {},
   "outputs": [],
   "source": [
    "#| hide\n",
    "import nbdev; nbdev.nbdev_export()"
   ]
  }
 ],
 "metadata": {
  "kernelspec": {
   "display_name": "qct_deep_clone",
   "language": "python",
   "name": "python3"
  },
  "language_info": {
   "codemirror_mode": {
    "name": "ipython",
    "version": 3
   },
   "file_extension": ".py",
   "mimetype": "text/x-python",
   "name": "python",
   "nbconvert_exporter": "python",
   "pygments_lexer": "ipython3",
   "version": "3.9.15"
  }
 },
 "nbformat": 4,
 "nbformat_minor": 5
}
