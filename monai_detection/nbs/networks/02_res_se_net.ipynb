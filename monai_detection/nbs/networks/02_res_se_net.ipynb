{
 "cells": [
  {
   "cell_type": "code",
   "execution_count": null,
   "id": "a4edc213",
   "metadata": {},
   "outputs": [],
   "source": [
    "#| default_exp networks/res_se_net"
   ]
  },
  {
   "cell_type": "markdown",
   "id": "51e5da0e",
   "metadata": {},
   "source": [
    "## Blogs \n",
    "- [About ResNet blog](https://medium.com/@14prakash/understanding-and-implementing-architectures-of-resnet-and-resnext-for-state-of-the-art-image-cf51669e1624)\n",
    "- [ResNet paper](https://arxiv.org/pdf/1512.03385.pdf)\n",
    "- [fastai implementation](https://github.com/fastai/course22p2/blob/master/nbs/13_resnet.ipynb)"
   ]
  },
  {
   "cell_type": "code",
   "execution_count": null,
   "id": "7c4d1192",
   "metadata": {},
   "outputs": [],
   "source": [
    "#| export \n",
    "import torch\n",
    "import torch.nn as nn\n",
    "import fastcore.all as fc\n",
    "\n",
    "from functools import partial\n",
    "from typing import List\n",
    "\n",
    "from voxdet.activations import GeneralRelu"
   ]
  },
  {
   "cell_type": "code",
   "execution_count": null,
   "id": "69e89598",
   "metadata": {},
   "outputs": [],
   "source": [
    "backbone = dict(\n",
    "  spatial_dims = 3,\n",
    "  conv1_t_stride = [2, 2, 1],\n",
    "  pretrained = False,\n",
    "  progress = False,\n",
    "  n_input_channels = 1,\n",
    "  conv1_t_size = [7, 7, 7],\n",
    "  no_max_pool= False\n",
    ")"
   ]
  },
  {
   "cell_type": "code",
   "execution_count": null,
   "id": "e6b371ef",
   "metadata": {},
   "outputs": [],
   "source": [
    "import monai.networks.nets.resnet as monai_res"
   ]
  },
  {
   "cell_type": "code",
   "execution_count": null,
   "id": "ef83361c",
   "metadata": {},
   "outputs": [],
   "source": [
    "m10 = monai_res.resnet10(**backbone)#(torch.ones((1, 1, 3, 224, 224))).shape\n",
    "m50 = monai_res.resnet50(**backbone)"
   ]
  },
  {
   "cell_type": "code",
   "execution_count": null,
   "id": "49c99ea2",
   "metadata": {},
   "outputs": [
    {
     "data": {
      "text/plain": [
       "512"
      ]
     },
     "execution_count": null,
     "metadata": {},
     "output_type": "execute_result"
    }
   ],
   "source": [
    "m10.in_planes"
   ]
  },
  {
   "cell_type": "code",
   "execution_count": null,
   "id": "864375ac",
   "metadata": {},
   "outputs": [
    {
     "name": "stdout",
     "output_type": "stream",
     "text": [
      "14561616\n"
     ]
    }
   ],
   "source": [
    "n = 0\n",
    "for name, params in m10.named_parameters(): n+=params.numel()\n",
    "print(n)"
   ]
  },
  {
   "cell_type": "code",
   "execution_count": null,
   "id": "5a382e2d",
   "metadata": {},
   "outputs": [],
   "source": [
    "def count_params(layer):\n",
    "    n=0\n",
    "    for name, params in layer.named_parameters(): n+=params.numel()\n",
    "    return n"
   ]
  },
  {
   "cell_type": "code",
   "execution_count": null,
   "id": "037b2729",
   "metadata": {},
   "outputs": [
    {
     "data": {
      "text/plain": [
       "(46978512, 14561616)"
      ]
     },
     "execution_count": null,
     "metadata": {},
     "output_type": "execute_result"
    }
   ],
   "source": [
    "count_params(m50), count_params(m10)"
   ]
  },
  {
   "cell_type": "code",
   "execution_count": null,
   "id": "f1949e94",
   "metadata": {},
   "outputs": [
    {
     "name": "stdout",
     "output_type": "stream",
     "text": [
      "CPU times: user 2.67 s, sys: 385 ms, total: 3.06 s\n",
      "Wall time: 378 ms\n"
     ]
    },
    {
     "data": {
      "text/plain": [
       "torch.Size([1, 64, 96, 96, 96])"
      ]
     },
     "execution_count": null,
     "metadata": {},
     "output_type": "execute_result"
    }
   ],
   "source": [
    "%%time\n",
    "out = m10.relu(m10.bn1(m10.conv1(torch.ones((1, 1, 192, 192, 96)))))\n",
    "out.shape"
   ]
  },
  {
   "cell_type": "code",
   "execution_count": null,
   "id": "06680658",
   "metadata": {},
   "outputs": [
    {
     "data": {
      "text/plain": [
       "torch.Size([1, 64, 48, 48, 48])"
      ]
     },
     "execution_count": null,
     "metadata": {},
     "output_type": "execute_result"
    }
   ],
   "source": [
    "out = m10.maxpool(out)\n",
    "out.shape"
   ]
  },
  {
   "cell_type": "code",
   "execution_count": null,
   "id": "698cfebb",
   "metadata": {},
   "outputs": [
    {
     "data": {
      "text/plain": [
       "torch.Size([1, 128, 24, 24, 24])"
      ]
     },
     "execution_count": null,
     "metadata": {},
     "output_type": "execute_result"
    }
   ],
   "source": [
    "m10.layer2(out).shape"
   ]
  },
  {
   "cell_type": "code",
   "execution_count": null,
   "id": "6d4d23b9",
   "metadata": {},
   "outputs": [],
   "source": [
    "#| export \n",
    "act_gr = partial(GeneralRelu, leak=0.1, sub=0.4)"
   ]
  },
  {
   "cell_type": "markdown",
   "id": "e60acd0c",
   "metadata": {},
   "source": [
    "## Conv3D block  - Conv-act-norm: base"
   ]
  },
  {
   "cell_type": "code",
   "execution_count": null,
   "id": "3b47b004",
   "metadata": {},
   "outputs": [],
   "source": [
    "#| export \n",
    "def conv3d(ni, nf, ks=3, stride=2, act=None, norm=None, bias=False, padding=None, dilation=1):\n",
    "    pad = (ks//2 if isinstance(ks, int) else tuple(k // 2 for k in ks)) if padding is None else padding\n",
    "    res = nn.Conv3d(ni, nf, stride=stride, kernel_size=ks, padding=pad, bias=bias, dilation=dilation)\n",
    "    act = nn.Identity() if act is None else act()\n",
    "    norm = nn.Identity() if norm is None else norm(nf)\n",
    "    return nn.Sequential(*[i for i in [res, norm, act] if not isinstance(i, nn.Identity)])"
   ]
  },
  {
   "cell_type": "markdown",
   "id": "5af6a576",
   "metadata": {},
   "source": [
    "> In our case we should use `3x3x3` as nodules can be of 3mm. Aggregating ks=7 is too much loss of info? From below, since the dimesion is not changing much, this might actually help us? we need to experiement and check."
   ]
  },
  {
   "cell_type": "code",
   "execution_count": null,
   "id": "32eb82d9",
   "metadata": {},
   "outputs": [
    {
     "data": {
      "text/plain": [
       "Sequential(\n",
       "  (0): Conv3d(1, 64, kernel_size=(7, 7, 7), stride=(1, 2, 2), padding=(3, 3, 3), bias=False)\n",
       "  (1): BatchNorm3d(64, eps=1e-05, momentum=0.1, affine=True, track_running_stats=True)\n",
       "  (2): GeneralRelu: leak:0.1-sub:0.4-maxv:None\n",
       ")"
      ]
     },
     "execution_count": null,
     "metadata": {},
     "output_type": "execute_result"
    }
   ],
   "source": [
    "base = conv3d(1, 64, (7, 7, 7), (1, 2, 2), act=act_gr, norm=nn.BatchNorm3d)\n",
    "baseks3 = conv3d(1, 64, (3, 3, 3), (1, 2, 2), act=act_gr, norm=nn.BatchNorm3d)\n",
    "base"
   ]
  },
  {
   "cell_type": "code",
   "execution_count": null,
   "id": "f9cf353d",
   "metadata": {},
   "outputs": [
    {
     "name": "stdout",
     "output_type": "stream",
     "text": [
      "CPU times: user 2.93 s, sys: 496 ms, total: 3.43 s\n",
      "Wall time: 276 ms\n"
     ]
    },
    {
     "data": {
      "text/plain": [
       "torch.Size([1, 64, 96, 96, 96])"
      ]
     },
     "execution_count": null,
     "metadata": {},
     "output_type": "execute_result"
    }
   ],
   "source": [
    "%%time\n",
    "img = torch.zeros((1, 1, 96, 192, 192))\n",
    "base_out = base(img)\n",
    "base_out.shape"
   ]
  },
  {
   "cell_type": "code",
   "execution_count": null,
   "id": "46ec9cda",
   "metadata": {},
   "outputs": [
    {
     "data": {
      "text/plain": [
       "torch.Size([1, 64, 96, 96, 96])"
      ]
     },
     "execution_count": null,
     "metadata": {},
     "output_type": "execute_result"
    }
   ],
   "source": [
    "baseks3_out = baseks3(img)\n",
    "baseks3_out.shape"
   ]
  },
  {
   "cell_type": "markdown",
   "id": "c777d566",
   "metadata": {},
   "source": [
    "## basic Block "
   ]
  },
  {
   "cell_type": "markdown",
   "id": "2f4986fd",
   "metadata": {},
   "source": [
    "> we have `[[3×3,64], [3×3,64]]` blocks. `x2` for `resnet18` and `x3` for `resnet34` and `x1` for `resnet10`\n",
    "\n",
    "> we will not have activation at the end. this is performed post `skip-connection` addition in the network. \n",
    "\n",
    "> `ks=3`as mentioned and that is why we kept it as a default option.\n",
    "\n",
    "> `stride` is 2 for the 2nd conv if u want to decrease the size of the feature map. "
   ]
  },
  {
   "cell_type": "code",
   "execution_count": null,
   "id": "8f4a01d7",
   "metadata": {},
   "outputs": [],
   "source": [
    "#| export \n",
    "def _conv3d_block(ni, nf, stride, act=act_gr, norm=None, ks=3):\n",
    "    return nn.Sequential(conv3d(ni, nf, stride=stride, act=act, norm=norm, ks=ks),\n",
    "                         conv3d(nf, nf, stride=1, act=None, norm=norm, ks=ks))"
   ]
  },
  {
   "cell_type": "code",
   "execution_count": null,
   "id": "cd6f5134",
   "metadata": {},
   "outputs": [
    {
     "data": {
      "text/plain": [
       "Sequential(\n",
       "  (0): ResNetBlock(\n",
       "    (conv1): Conv3d(64, 64, kernel_size=(3, 3, 3), stride=(1, 1, 1), padding=(1, 1, 1), bias=False)\n",
       "    (bn1): BatchNorm3d(64, eps=1e-05, momentum=0.1, affine=True, track_running_stats=True)\n",
       "    (relu): ReLU(inplace=True)\n",
       "    (conv2): Conv3d(64, 64, kernel_size=(3, 3, 3), stride=(1, 1, 1), padding=(1, 1, 1), bias=False)\n",
       "    (bn2): BatchNorm3d(64, eps=1e-05, momentum=0.1, affine=True, track_running_stats=True)\n",
       "  )\n",
       ")"
      ]
     },
     "execution_count": null,
     "metadata": {},
     "output_type": "execute_result"
    }
   ],
   "source": [
    "m10.layer1"
   ]
  },
  {
   "cell_type": "code",
   "execution_count": null,
   "id": "25a07bfe",
   "metadata": {},
   "outputs": [
    {
     "data": {
      "text/plain": [
       "Sequential(\n",
       "  (0): Sequential(\n",
       "    (0): Conv3d(64, 64, kernel_size=(3, 3, 3), stride=(1, 1, 1), padding=(1, 1, 1), bias=False)\n",
       "    (1): BatchNorm3d(64, eps=1e-05, momentum=0.1, affine=True, track_running_stats=True)\n",
       "    (2): GeneralRelu: leak:0.1-sub:0.4-maxv:None\n",
       "  )\n",
       "  (1): Sequential(\n",
       "    (0): Conv3d(64, 64, kernel_size=(3, 3, 3), stride=(1, 1, 1), padding=(1, 1, 1), bias=False)\n",
       "    (1): BatchNorm3d(64, eps=1e-05, momentum=0.1, affine=True, track_running_stats=True)\n",
       "  )\n",
       ")"
      ]
     },
     "execution_count": null,
     "metadata": {},
     "output_type": "execute_result"
    }
   ],
   "source": [
    "block1 = _conv3d_block(64, 64, 1, norm=nn.BatchNorm3d)\n",
    "block1"
   ]
  },
  {
   "cell_type": "code",
   "execution_count": null,
   "id": "f002854b",
   "metadata": {},
   "outputs": [
    {
     "name": "stdout",
     "output_type": "stream",
     "text": [
      "CPU times: user 9 s, sys: 2.37 s, total: 11.4 s\n",
      "Wall time: 952 ms\n"
     ]
    },
    {
     "data": {
      "text/plain": [
       "torch.Size([1, 64, 96, 96, 96])"
      ]
     },
     "execution_count": null,
     "metadata": {},
     "output_type": "execute_result"
    }
   ],
   "source": [
    "%time block1(baseks3_out).shape"
   ]
  },
  {
   "cell_type": "code",
   "execution_count": null,
   "id": "eba5916a",
   "metadata": {},
   "outputs": [
    {
     "name": "stdout",
     "output_type": "stream",
     "text": [
      "CPU times: user 8.01 s, sys: 1.42 s, total: 9.42 s\n",
      "Wall time: 793 ms\n"
     ]
    },
    {
     "data": {
      "text/plain": [
       "torch.Size([1, 64, 96, 96, 96])"
      ]
     },
     "execution_count": null,
     "metadata": {},
     "output_type": "execute_result"
    }
   ],
   "source": [
    "%time block1(base_out).shape"
   ]
  },
  {
   "cell_type": "code",
   "execution_count": null,
   "id": "c43fe390",
   "metadata": {},
   "outputs": [
    {
     "name": "stdout",
     "output_type": "stream",
     "text": [
      "CPU times: user 8.11 s, sys: 1.33 s, total: 9.44 s\n",
      "Wall time: 780 ms\n"
     ]
    },
    {
     "data": {
      "text/plain": [
       "torch.Size([1, 64, 96, 96, 96])"
      ]
     },
     "execution_count": null,
     "metadata": {},
     "output_type": "execute_result"
    }
   ],
   "source": [
    "%time m10.layer1(baseks3_out).shape"
   ]
  },
  {
   "cell_type": "markdown",
   "id": "9a851676",
   "metadata": {},
   "source": [
    "## BottleNeck \n",
    "\n",
    "> `[1×1,64 3×3,64] [1x1,256]`.\n",
    "\n",
    "> we have stride int he mid conv layer, >1 is used if u want to reduce the size of the fe map. ks is also by default 3 here.  \n",
    "\n",
    "> we expand `nf` by exp (default=4) in the final layer. \n"
   ]
  },
  {
   "cell_type": "code",
   "execution_count": null,
   "id": "18d1ec71",
   "metadata": {},
   "outputs": [],
   "source": [
    "#| export \n",
    "def _conv3d_bottleneck(ni, nf, stride, exp=4, act=act_gr, norm=None, ks=3):\n",
    "    return nn.Sequential(conv3d(ni, nf, stride=1, act=act, norm=norm, ks=1),\n",
    "                         conv3d(nf, nf, stride=stride, act=act, norm=norm, ks=ks),\n",
    "                         conv3d(nf, nf*exp, stride=1, act=None, norm=norm, ks=1))"
   ]
  },
  {
   "cell_type": "code",
   "execution_count": null,
   "id": "2c9057da",
   "metadata": {},
   "outputs": [
    {
     "data": {
      "text/plain": [
       "ResNetBottleneck(\n",
       "  (conv1): Conv3d(64, 64, kernel_size=(1, 1, 1), stride=(1, 1, 1), bias=False)\n",
       "  (bn1): BatchNorm3d(64, eps=1e-05, momentum=0.1, affine=True, track_running_stats=True)\n",
       "  (conv2): Conv3d(64, 64, kernel_size=(3, 3, 3), stride=(1, 1, 1), padding=(1, 1, 1), bias=False)\n",
       "  (bn2): BatchNorm3d(64, eps=1e-05, momentum=0.1, affine=True, track_running_stats=True)\n",
       "  (conv3): Conv3d(64, 256, kernel_size=(1, 1, 1), stride=(1, 1, 1), bias=False)\n",
       "  (bn3): BatchNorm3d(256, eps=1e-05, momentum=0.1, affine=True, track_running_stats=True)\n",
       "  (relu): ReLU(inplace=True)\n",
       "  (downsample): Sequential(\n",
       "    (0): Conv3d(64, 256, kernel_size=(1, 1, 1), stride=(1, 1, 1))\n",
       "    (1): BatchNorm3d(256, eps=1e-05, momentum=0.1, affine=True, track_running_stats=True)\n",
       "  )\n",
       ")"
      ]
     },
     "execution_count": null,
     "metadata": {},
     "output_type": "execute_result"
    }
   ],
   "source": [
    "getattr(m50.layer1, \"0\")"
   ]
  },
  {
   "cell_type": "code",
   "execution_count": null,
   "id": "415cd73e",
   "metadata": {},
   "outputs": [
    {
     "data": {
      "text/plain": [
       "Sequential(\n",
       "  (0): Sequential(\n",
       "    (0): Conv3d(64, 64, kernel_size=(1, 1, 1), stride=(1, 1, 1), bias=False)\n",
       "    (1): BatchNorm3d(64, eps=1e-05, momentum=0.1, affine=True, track_running_stats=True)\n",
       "    (2): GeneralRelu: leak:0.1-sub:0.4-maxv:None\n",
       "  )\n",
       "  (1): Sequential(\n",
       "    (0): Conv3d(64, 64, kernel_size=(3, 3, 3), stride=(1, 1, 1), padding=(1, 1, 1), bias=False)\n",
       "    (1): BatchNorm3d(64, eps=1e-05, momentum=0.1, affine=True, track_running_stats=True)\n",
       "    (2): GeneralRelu: leak:0.1-sub:0.4-maxv:None\n",
       "  )\n",
       "  (2): Sequential(\n",
       "    (0): Conv3d(64, 256, kernel_size=(1, 1, 1), stride=(1, 1, 1), bias=False)\n",
       "    (1): BatchNorm3d(256, eps=1e-05, momentum=0.1, affine=True, track_running_stats=True)\n",
       "  )\n",
       ")"
      ]
     },
     "execution_count": null,
     "metadata": {},
     "output_type": "execute_result"
    }
   ],
   "source": [
    "bottleneck = _conv3d_bottleneck(64, 64, 1, 4, norm=nn.BatchNorm3d)\n",
    "bottleneck"
   ]
  },
  {
   "cell_type": "code",
   "execution_count": null,
   "id": "b9d43b17",
   "metadata": {},
   "outputs": [
    {
     "data": {
      "text/plain": [
       "(torch.Size([1, 256, 96, 96, 96]),\n",
       " torch.Size([1, 256, 96, 96, 96]),\n",
       " torch.Size([1, 256, 96, 96, 96]))"
      ]
     },
     "execution_count": null,
     "metadata": {},
     "output_type": "execute_result"
    }
   ],
   "source": [
    "bottleneck(baseks3_out).shape, bottleneck(base_out).shape, m50.layer1(baseks3_out).shape"
   ]
  },
  {
   "cell_type": "code",
   "execution_count": null,
   "id": "95fe0760",
   "metadata": {},
   "outputs": [
    {
     "name": "stdout",
     "output_type": "stream",
     "text": [
      "CPU times: user 10.7 s, sys: 4.42 s, total: 15.1 s\n",
      "Wall time: 1.5 s\n"
     ]
    },
    {
     "data": {
      "text/plain": [
       "torch.Size([1, 256, 96, 96, 96])"
      ]
     },
     "execution_count": null,
     "metadata": {},
     "output_type": "execute_result"
    }
   ],
   "source": [
    "%time bottleneck(baseks3_out).shape"
   ]
  },
  {
   "cell_type": "code",
   "execution_count": null,
   "id": "090225a9",
   "metadata": {},
   "outputs": [
    {
     "name": "stdout",
     "output_type": "stream",
     "text": [
      "CPU times: user 34.2 s, sys: 13.4 s, total: 47.6 s\n",
      "Wall time: 4.41 s\n"
     ]
    },
    {
     "data": {
      "text/plain": [
       "torch.Size([1, 256, 96, 96, 96])"
      ]
     },
     "execution_count": null,
     "metadata": {},
     "output_type": "execute_result"
    }
   ],
   "source": [
    "%time m50.layer1(baseks3_out).shape"
   ]
  },
  {
   "cell_type": "markdown",
   "id": "5b5ac70b",
   "metadata": {},
   "source": [
    "> the time difference is because the `m50` reblock does downsampling, addition and then `relu`. we will see how to add this next. "
   ]
  },
  {
   "cell_type": "markdown",
   "id": "b3684f1f",
   "metadata": {},
   "source": [
    "## ResBlock "
   ]
  },
  {
   "cell_type": "markdown",
   "id": "dacfc5d1",
   "metadata": {},
   "source": [
    "> we will intitialize a `BasicBlock` or `BottleneckBlock`. Add `downsampling` layer if we want to reduce the size of the feature map.  "
   ]
  },
  {
   "cell_type": "code",
   "execution_count": null,
   "id": "1e3cf5ce",
   "metadata": {},
   "outputs": [],
   "source": [
    "#| export \n",
    "class ResBlock(nn.Module):\n",
    "    def __init__(self, ni, nf, stride=1, ks=3, act=act_gr, norm=nn.BatchNorm3d, block_type=\"basic\"):\n",
    "        super().__init__()\n",
    "        fc.store_attr()\n",
    "        if self.block_type not in [\"basic\", \"bottleneck\"]: raise NotImplementedError(f\"block_type: {self.block_type} missing\")\n",
    "        exp = 4 if block_type!=\"basic\" else 1\n",
    "        self.convs = _conv3d_block(ni, nf, stride, act=act, ks=ks, norm=norm) if block_type==\"basic\" else \\\n",
    "        _conv3d_bottleneck(ni, nf, stride, exp=4, act=act, norm=norm, ks=ks)\n",
    "        self.downsample = fc.noop if ni==nf*exp else conv3d(ni, nf*exp, ks=1, stride=stride, norm=norm, act=None, bias=True)\n",
    "        #self.pool = fc.noop #if stride==1 else nn.AvgPool2d(2, ceil_mode=True)\n",
    "        self.act = act()\n",
    "\n",
    "    def forward(self, x): return self.act(self.convs(x) + self.downsample(x)) #self.idconv(self.pool(x)))"
   ]
  },
  {
   "cell_type": "code",
   "execution_count": null,
   "id": "92c5a39d",
   "metadata": {},
   "outputs": [],
   "source": [
    "basic = ResBlock(64, 64, ks=3, block_type=\"basic\")\n",
    "bottleneck = ResBlock(64, 64, ks=3, block_type=\"bottleneck\")"
   ]
  },
  {
   "cell_type": "code",
   "execution_count": null,
   "id": "8895a8fd",
   "metadata": {},
   "outputs": [
    {
     "data": {
      "text/plain": [
       "ResBlock(\n",
       "  (convs): Sequential(\n",
       "    (0): Sequential(\n",
       "      (0): Conv3d(64, 64, kernel_size=(3, 3, 3), stride=(1, 1, 1), padding=(1, 1, 1), bias=False)\n",
       "      (1): BatchNorm3d(64, eps=1e-05, momentum=0.1, affine=True, track_running_stats=True)\n",
       "      (2): GeneralRelu: leak:0.1-sub:0.4-maxv:None\n",
       "    )\n",
       "    (1): Sequential(\n",
       "      (0): Conv3d(64, 64, kernel_size=(3, 3, 3), stride=(1, 1, 1), padding=(1, 1, 1), bias=False)\n",
       "      (1): BatchNorm3d(64, eps=1e-05, momentum=0.1, affine=True, track_running_stats=True)\n",
       "    )\n",
       "  )\n",
       "  (act): GeneralRelu: leak:0.1-sub:0.4-maxv:None\n",
       ")"
      ]
     },
     "execution_count": null,
     "metadata": {},
     "output_type": "execute_result"
    }
   ],
   "source": [
    "basic"
   ]
  },
  {
   "cell_type": "code",
   "execution_count": null,
   "id": "5282dbcb",
   "metadata": {},
   "outputs": [
    {
     "data": {
      "text/plain": [
       "Sequential(\n",
       "  (0): ResNetBlock(\n",
       "    (conv1): Conv3d(64, 64, kernel_size=(3, 3, 3), stride=(1, 1, 1), padding=(1, 1, 1), bias=False)\n",
       "    (bn1): BatchNorm3d(64, eps=1e-05, momentum=0.1, affine=True, track_running_stats=True)\n",
       "    (relu): ReLU(inplace=True)\n",
       "    (conv2): Conv3d(64, 64, kernel_size=(3, 3, 3), stride=(1, 1, 1), padding=(1, 1, 1), bias=False)\n",
       "    (bn2): BatchNorm3d(64, eps=1e-05, momentum=0.1, affine=True, track_running_stats=True)\n",
       "  )\n",
       ")"
      ]
     },
     "execution_count": null,
     "metadata": {},
     "output_type": "execute_result"
    }
   ],
   "source": [
    "m10.layer1"
   ]
  },
  {
   "cell_type": "code",
   "execution_count": null,
   "id": "d9d9d49f",
   "metadata": {},
   "outputs": [
    {
     "data": {
      "text/plain": [
       "ResBlock(\n",
       "  (convs): Sequential(\n",
       "    (0): Sequential(\n",
       "      (0): Conv3d(64, 64, kernel_size=(1, 1, 1), stride=(1, 1, 1), bias=False)\n",
       "      (1): BatchNorm3d(64, eps=1e-05, momentum=0.1, affine=True, track_running_stats=True)\n",
       "      (2): GeneralRelu: leak:0.1-sub:0.4-maxv:None\n",
       "    )\n",
       "    (1): Sequential(\n",
       "      (0): Conv3d(64, 64, kernel_size=(3, 3, 3), stride=(1, 1, 1), padding=(1, 1, 1), bias=False)\n",
       "      (1): BatchNorm3d(64, eps=1e-05, momentum=0.1, affine=True, track_running_stats=True)\n",
       "      (2): GeneralRelu: leak:0.1-sub:0.4-maxv:None\n",
       "    )\n",
       "    (2): Sequential(\n",
       "      (0): Conv3d(64, 256, kernel_size=(1, 1, 1), stride=(1, 1, 1), bias=False)\n",
       "      (1): BatchNorm3d(256, eps=1e-05, momentum=0.1, affine=True, track_running_stats=True)\n",
       "    )\n",
       "  )\n",
       "  (downsample): Sequential(\n",
       "    (0): Conv3d(64, 256, kernel_size=(1, 1, 1), stride=(1, 1, 1))\n",
       "    (1): BatchNorm3d(256, eps=1e-05, momentum=0.1, affine=True, track_running_stats=True)\n",
       "  )\n",
       "  (act): GeneralRelu: leak:0.1-sub:0.4-maxv:None\n",
       ")"
      ]
     },
     "execution_count": null,
     "metadata": {},
     "output_type": "execute_result"
    }
   ],
   "source": [
    "bottleneck"
   ]
  },
  {
   "cell_type": "code",
   "execution_count": null,
   "id": "d0be4941",
   "metadata": {},
   "outputs": [
    {
     "name": "stdout",
     "output_type": "stream",
     "text": [
      "CPU times: user 14.5 s, sys: 7.71 s, total: 22.2 s\n",
      "Wall time: 2.28 s\n"
     ]
    },
    {
     "data": {
      "text/plain": [
       "torch.Size([1, 256, 96, 96, 96])"
      ]
     },
     "execution_count": null,
     "metadata": {},
     "output_type": "execute_result"
    }
   ],
   "source": [
    "%time bottleneck(baseks3_out).shape"
   ]
  },
  {
   "cell_type": "code",
   "execution_count": null,
   "id": "197dd2d1",
   "metadata": {},
   "outputs": [
    {
     "data": {
      "text/plain": [
       "ResNetBottleneck(\n",
       "  (conv1): Conv3d(64, 64, kernel_size=(1, 1, 1), stride=(1, 1, 1), bias=False)\n",
       "  (bn1): BatchNorm3d(64, eps=1e-05, momentum=0.1, affine=True, track_running_stats=True)\n",
       "  (conv2): Conv3d(64, 64, kernel_size=(3, 3, 3), stride=(1, 1, 1), padding=(1, 1, 1), bias=False)\n",
       "  (bn2): BatchNorm3d(64, eps=1e-05, momentum=0.1, affine=True, track_running_stats=True)\n",
       "  (conv3): Conv3d(64, 256, kernel_size=(1, 1, 1), stride=(1, 1, 1), bias=False)\n",
       "  (bn3): BatchNorm3d(256, eps=1e-05, momentum=0.1, affine=True, track_running_stats=True)\n",
       "  (relu): ReLU(inplace=True)\n",
       "  (downsample): Sequential(\n",
       "    (0): Conv3d(64, 256, kernel_size=(1, 1, 1), stride=(1, 1, 1))\n",
       "    (1): BatchNorm3d(256, eps=1e-05, momentum=0.1, affine=True, track_running_stats=True)\n",
       "  )\n",
       ")"
      ]
     },
     "execution_count": null,
     "metadata": {},
     "output_type": "execute_result"
    }
   ],
   "source": [
    "getattr(m50.layer1, \"0\")"
   ]
  },
  {
   "cell_type": "markdown",
   "id": "b8e25453",
   "metadata": {},
   "source": [
    "## ResStage\n",
    "- [bottleneck] and [basic] blocks are  multiplied several times in each stage. In Res18, stage1 we have `basic` block used 2 times. In Res50, stage1 we have `Bottleneck` block used 3 times.\n",
    "- In each stage, there are two things happening wrt to `Basic` or `Bottleneck`\n",
    "\n",
    "\n",
    "## `Basic`: \n",
    "either we reduce the size by 2 using `downsample` or not. for resnet10-34 this happens in 2nd layer onwards. \n",
    "#### Res10\n",
    "- layer1: basic [ks=3, stride=1, 1] [ni=64, nf=64]\n",
    "- layer2: basic [ks=3, stride=2, 1] [ni=64, nf=128] + downsample \n",
    "- layer3: basic [ks=3, stride=2, 1] [ni=128, nf=256] + downsample \n",
    "- layer4: basic [ks=3, stride=2, 1] [ni=256, nf=512] + downsample \n",
    "\n",
    "\n",
    "#### Res50\n",
    "first block in every stage has downsample layer. \n",
    "- layer1: 3x: [64-64-256], ks=[1, 3, 1] stride = [1, 1, 1], downsampling stride = 1\n",
    "- layer2: 4x: [256-128-512], ks=[1, 3, 1] stride = [1, 2, 1], ds=2\n",
    "- layer3: 6x: [512-256-1024], ks=[1, 3, 1] stride = [1, 2, 1], ds=2\n",
    "- layer4: 3x: [1024-512-2048], ks=[1, 3, 1] stride = [1, 2, 1], ds=2"
   ]
  },
  {
   "cell_type": "code",
   "execution_count": null,
   "id": "e14384ef",
   "metadata": {},
   "outputs": [],
   "source": [
    "#| export \n",
    "class ResStage(nn.Module):\n",
    "    def __init__(self, ni: int, ip: int, nf: int, layers: int, stride=1, ks=3, act=act_gr, norm=nn.BatchNorm3d, block_type=\"basic\"):\n",
    "        super().__init__()\n",
    "        fc.store_attr()\n",
    "        self.block0 = ResBlock(ni, ip, stride, ks, act, norm, block_type=block_type)\n",
    "        for i in range(1, layers): \n",
    "            setattr(self, f\"block{i}\", ResBlock(nf, ip, 1, ks, act, norm, block_type=block_type))\n",
    "    \n",
    "    def forward(self, x): \n",
    "        for i in range(self.layers): x = getattr(self, f\"block{i}\")(x)\n",
    "        return x "
   ]
  },
  {
   "cell_type": "code",
   "execution_count": null,
   "id": "91b593e7",
   "metadata": {},
   "outputs": [],
   "source": [
    "layer1 = ResStage(64, 64, 64, layers=1, stride=1, ks=3)\n",
    "layer2 = ResStage(64, 128, 128, layers=1, stride=2, ks=3)"
   ]
  },
  {
   "cell_type": "code",
   "execution_count": null,
   "id": "138f856d",
   "metadata": {},
   "outputs": [
    {
     "data": {
      "text/plain": [
       "(221440, 672640, 221440, 672640)"
      ]
     },
     "execution_count": null,
     "metadata": {},
     "output_type": "execute_result"
    }
   ],
   "source": [
    "count_params(layer1), count_params(layer2), count_params(m10.layer1), count_params(m10.layer2)"
   ]
  },
  {
   "cell_type": "code",
   "execution_count": null,
   "id": "9d3e6953",
   "metadata": {},
   "outputs": [
    {
     "data": {
      "text/plain": [
       "ResStage(\n",
       "  (block0): ResBlock(\n",
       "    (convs): Sequential(\n",
       "      (0): Sequential(\n",
       "        (0): Conv3d(64, 128, kernel_size=(3, 3, 3), stride=(2, 2, 2), padding=(1, 1, 1), bias=False)\n",
       "        (1): BatchNorm3d(128, eps=1e-05, momentum=0.1, affine=True, track_running_stats=True)\n",
       "        (2): GeneralRelu: leak:0.1-sub:0.4-maxv:None\n",
       "      )\n",
       "      (1): Sequential(\n",
       "        (0): Conv3d(128, 128, kernel_size=(3, 3, 3), stride=(1, 1, 1), padding=(1, 1, 1), bias=False)\n",
       "        (1): BatchNorm3d(128, eps=1e-05, momentum=0.1, affine=True, track_running_stats=True)\n",
       "      )\n",
       "    )\n",
       "    (downsample): Sequential(\n",
       "      (0): Conv3d(64, 128, kernel_size=(1, 1, 1), stride=(2, 2, 2))\n",
       "      (1): BatchNorm3d(128, eps=1e-05, momentum=0.1, affine=True, track_running_stats=True)\n",
       "    )\n",
       "    (act): GeneralRelu: leak:0.1-sub:0.4-maxv:None\n",
       "  )\n",
       ")"
      ]
     },
     "execution_count": null,
     "metadata": {},
     "output_type": "execute_result"
    }
   ],
   "source": [
    "layer2"
   ]
  },
  {
   "cell_type": "code",
   "execution_count": null,
   "id": "6cdcc824",
   "metadata": {},
   "outputs": [
    {
     "data": {
      "text/plain": [
       "Sequential(\n",
       "  (0): ResNetBlock(\n",
       "    (conv1): Conv3d(64, 128, kernel_size=(3, 3, 3), stride=(2, 2, 2), padding=(1, 1, 1), bias=False)\n",
       "    (bn1): BatchNorm3d(128, eps=1e-05, momentum=0.1, affine=True, track_running_stats=True)\n",
       "    (relu): ReLU(inplace=True)\n",
       "    (conv2): Conv3d(128, 128, kernel_size=(3, 3, 3), stride=(1, 1, 1), padding=(1, 1, 1), bias=False)\n",
       "    (bn2): BatchNorm3d(128, eps=1e-05, momentum=0.1, affine=True, track_running_stats=True)\n",
       "    (downsample): Sequential(\n",
       "      (0): Conv3d(64, 128, kernel_size=(1, 1, 1), stride=(2, 2, 2))\n",
       "      (1): BatchNorm3d(128, eps=1e-05, momentum=0.1, affine=True, track_running_stats=True)\n",
       "    )\n",
       "  )\n",
       ")"
      ]
     },
     "execution_count": null,
     "metadata": {},
     "output_type": "execute_result"
    }
   ],
   "source": [
    "m10.layer2"
   ]
  },
  {
   "cell_type": "code",
   "execution_count": null,
   "id": "b4132f27",
   "metadata": {},
   "outputs": [],
   "source": [
    "layer1 = ResStage(64, 64, 256, layers=3, stride=1, ks=3, block_type=\"bottleneck\")\n",
    "layer2 = ResStage(256, 128, 512, layers=4, stride=2, ks=3, block_type=\"bottleneck\")"
   ]
  },
  {
   "cell_type": "code",
   "execution_count": null,
   "id": "42af1257",
   "metadata": {},
   "outputs": [
    {
     "data": {
      "text/plain": [
       "(437248, 2399744, 437248, 2399744)"
      ]
     },
     "execution_count": null,
     "metadata": {},
     "output_type": "execute_result"
    }
   ],
   "source": [
    "count_params(layer1), count_params(layer2), count_params(m50.layer1), count_params(m50.layer2)"
   ]
  },
  {
   "cell_type": "code",
   "execution_count": null,
   "id": "a1821d60",
   "metadata": {},
   "outputs": [
    {
     "name": "stdout",
     "output_type": "stream",
     "text": [
      "CPU times: user 38.3 s, sys: 18.1 s, total: 56.4 s\n",
      "Wall time: 5.73 s\n"
     ]
    },
    {
     "data": {
      "text/plain": [
       "torch.Size([1, 256, 96, 96, 96])"
      ]
     },
     "execution_count": null,
     "metadata": {},
     "output_type": "execute_result"
    }
   ],
   "source": [
    "%time layer1(base_out).shape"
   ]
  },
  {
   "cell_type": "code",
   "execution_count": null,
   "id": "0f217155",
   "metadata": {},
   "outputs": [
    {
     "name": "stdout",
     "output_type": "stream",
     "text": [
      "CPU times: user 33.5 s, sys: 14.2 s, total: 47.7 s\n",
      "Wall time: 4.62 s\n"
     ]
    },
    {
     "data": {
      "text/plain": [
       "torch.Size([1, 256, 96, 96, 96])"
      ]
     },
     "execution_count": null,
     "metadata": {},
     "output_type": "execute_result"
    }
   ],
   "source": [
    "%time m50.layer1(base_out).shape"
   ]
  },
  {
   "cell_type": "code",
   "execution_count": null,
   "id": "a519606d",
   "metadata": {},
   "outputs": [
    {
     "data": {
      "text/plain": [
       "Sequential(\n",
       "  (0): ResNetBottleneck(\n",
       "    (conv1): Conv3d(64, 64, kernel_size=(1, 1, 1), stride=(1, 1, 1), bias=False)\n",
       "    (bn1): BatchNorm3d(64, eps=1e-05, momentum=0.1, affine=True, track_running_stats=True)\n",
       "    (conv2): Conv3d(64, 64, kernel_size=(3, 3, 3), stride=(1, 1, 1), padding=(1, 1, 1), bias=False)\n",
       "    (bn2): BatchNorm3d(64, eps=1e-05, momentum=0.1, affine=True, track_running_stats=True)\n",
       "    (conv3): Conv3d(64, 256, kernel_size=(1, 1, 1), stride=(1, 1, 1), bias=False)\n",
       "    (bn3): BatchNorm3d(256, eps=1e-05, momentum=0.1, affine=True, track_running_stats=True)\n",
       "    (relu): ReLU(inplace=True)\n",
       "    (downsample): Sequential(\n",
       "      (0): Conv3d(64, 256, kernel_size=(1, 1, 1), stride=(1, 1, 1))\n",
       "      (1): BatchNorm3d(256, eps=1e-05, momentum=0.1, affine=True, track_running_stats=True)\n",
       "    )\n",
       "  )\n",
       "  (1): ResNetBottleneck(\n",
       "    (conv1): Conv3d(256, 64, kernel_size=(1, 1, 1), stride=(1, 1, 1), bias=False)\n",
       "    (bn1): BatchNorm3d(64, eps=1e-05, momentum=0.1, affine=True, track_running_stats=True)\n",
       "    (conv2): Conv3d(64, 64, kernel_size=(3, 3, 3), stride=(1, 1, 1), padding=(1, 1, 1), bias=False)\n",
       "    (bn2): BatchNorm3d(64, eps=1e-05, momentum=0.1, affine=True, track_running_stats=True)\n",
       "    (conv3): Conv3d(64, 256, kernel_size=(1, 1, 1), stride=(1, 1, 1), bias=False)\n",
       "    (bn3): BatchNorm3d(256, eps=1e-05, momentum=0.1, affine=True, track_running_stats=True)\n",
       "    (relu): ReLU(inplace=True)\n",
       "  )\n",
       "  (2): ResNetBottleneck(\n",
       "    (conv1): Conv3d(256, 64, kernel_size=(1, 1, 1), stride=(1, 1, 1), bias=False)\n",
       "    (bn1): BatchNorm3d(64, eps=1e-05, momentum=0.1, affine=True, track_running_stats=True)\n",
       "    (conv2): Conv3d(64, 64, kernel_size=(3, 3, 3), stride=(1, 1, 1), padding=(1, 1, 1), bias=False)\n",
       "    (bn2): BatchNorm3d(64, eps=1e-05, momentum=0.1, affine=True, track_running_stats=True)\n",
       "    (conv3): Conv3d(64, 256, kernel_size=(1, 1, 1), stride=(1, 1, 1), bias=False)\n",
       "    (bn3): BatchNorm3d(256, eps=1e-05, momentum=0.1, affine=True, track_running_stats=True)\n",
       "    (relu): ReLU(inplace=True)\n",
       "  )\n",
       ")"
      ]
     },
     "execution_count": null,
     "metadata": {},
     "output_type": "execute_result"
    }
   ],
   "source": [
    "m50.layer1"
   ]
  },
  {
   "cell_type": "markdown",
   "id": "4b0bf3e2",
   "metadata": {},
   "source": [
    "## ResNet \n",
    "\n",
    "- After every stage we have a reduction in size by 2. but in monai the size remains the same in first stage and reduces by half from stage2 onwards. \n",
    "- base consists fo conv3d layer. we apply max_pool as optional after this. \n",
    "- stage consists of `[layers]`\n",
    "- if it is a basic block ic and ip are same for each layer. For Bottleneck block ic=ip for 1st stage and ic=ip/2 from next stage onwards. nf=ip x 4 for all the stages. "
   ]
  },
  {
   "cell_type": "code",
   "execution_count": null,
   "id": "9f7fe4c9",
   "metadata": {},
   "outputs": [],
   "source": [
    "#| export \n",
    "def kaiming_init_weights(m):\n",
    "    if isinstance(m, (nn.Conv1d,nn.Conv2d,nn.Conv3d)): nn.init.kaiming_normal_(m.weight)\n",
    "    elif isinstance(m, (nn.BatchNorm1d, nn.BatchNorm2d, nn.BatchNorm3d)):\n",
    "        nn.init.constant_(m.weight, 1)\n",
    "        nn.init.constant_(m.bias, 0)"
   ]
  },
  {
   "cell_type": "code",
   "execution_count": null,
   "id": "39c9836d",
   "metadata": {},
   "outputs": [],
   "source": [
    "#| export \n",
    "class ResNet(nn.Module):\n",
    "    def __init__(self, \\\n",
    "                 ic: int, \\\n",
    "                 ip: List[int], \\\n",
    "                 layers: List[int], \\\n",
    "                 c1_ks = [7, 7, 7], \\\n",
    "                 c1_stride = [2, 2, 1], \\\n",
    "                 base_pool=False, \\\n",
    "                 norm=nn.BatchNorm3d, \\\n",
    "                 act=act_gr, \\\n",
    "                 block_type=\"basic\", \\\n",
    "                 init_type=\"kaiming\", \\\n",
    "                 dilated_conv_last_layer=False):\n",
    "        \"\"\"ic is input channels, c1_ks and c1_stride are conv1 kernel size and stride respectively\\\n",
    "        layers: How \n",
    "        block_planes: \n",
    "        \"\"\"\n",
    "        super().__init__()\n",
    "        fc.store_attr()\n",
    "        self.base = conv3d(self.ic, ip[0], ks=c1_ks, stride=c1_stride, act=act_gr, norm=nn.BatchNorm3d)\n",
    "        if self.base_pool: self.pool = nn.MaxPool3d(kernel_size=3, stride=2, padding=1, dilation=1, ceil_mode=False)\n",
    "        _num = 0.5 if block_type==\"basic\" else 2\n",
    "        #ks = 3 if block_type==\"basic\" else 1\n",
    "        for n, (layer, _ip) in enumerate(zip(self.layers, self.ip)):\n",
    "            if block_type ==\"basic\": ni, nf = _ip if n==0 else int(_ip/2), _ip if n==0 else _ip*2\n",
    "            else: ni, nf = _ip if n==0 else _ip*2, _ip*4 \n",
    "#             ni = ip[n] if n==0 else int(ip[n]*_num)\n",
    "#             nf = int(ni*_num*2) if n==0 else int(ni*_num)\n",
    "            stride = 1 if n==0 else 2\n",
    "            setattr(self, f\"layer{n+1}\", ResStage(ni, _ip, nf, layers=layer, stride=stride, \\\n",
    "                                                  ks=3, norm=norm, act=act, block_type=block_type))\n",
    "        \n",
    "        if self.dilated_conv_last_layer: self.dil_conv = conv3d(ip[-1], ip[-1], ks=3, stride=c1_stride, act=act_gr, norm=nn.BatchNorm3d, padding=2, dilation=2)\n",
    "        self.avg_pool = nn.AdaptiveAvgPool3d(1)\n",
    "        if init_type == \"kaiming\": self.apply(kaiming_init_weights)\n",
    "        else: raise NotImplementedError(\"Only kaiming implmented\")\n",
    "    \n",
    "    def forward(self, x):\n",
    "        out = self.base(x)\n",
    "        if self.base_pool: out = self.pool(out)\n",
    "        for i in range(4): out = getattr(self, f\"layer{i+1}\")(out)\n",
    "        if self.dilated_conv_last_layer: out = self.dil_conv(out)\n",
    "        out = self.avg_pool(out)\n",
    "        return out        "
   ]
  },
  {
   "cell_type": "code",
   "execution_count": null,
   "id": "14badf67",
   "metadata": {},
   "outputs": [],
   "source": [
    "import torch\n",
    "import torch.nn as nn\n",
    "\n",
    "input_tensor = torch.randn(1, 2, 96, 192, 192)\n",
    "\n",
    "# Define the Conv3d layer\n",
    "in_channels = 2\n",
    "out_channels = 16"
   ]
  },
  {
   "cell_type": "code",
   "execution_count": null,
   "id": "b65d6966",
   "metadata": {},
   "outputs": [],
   "source": [
    "conv3d_layer = nn.Conv3d(in_channels, out_channels, kernel_size=(3, 3, 3), stride=(1, 2, 2), padding=1)\n",
    "dil_conv3d_layer = nn.Conv3d(in_channels, in_channels, kernel_size=3, stride=(1, 2, 2), padding=2, dilation=2)"
   ]
  },
  {
   "cell_type": "code",
   "execution_count": null,
   "id": "a82872f9",
   "metadata": {},
   "outputs": [],
   "source": [
    "output_tensor = conv3d_layer(input_tensor)\n",
    "dil_output_tensor = dil_conv3d_layer(input_tensor)"
   ]
  },
  {
   "cell_type": "code",
   "execution_count": null,
   "id": "4e9b31b1",
   "metadata": {},
   "outputs": [
    {
     "data": {
      "text/plain": [
       "torch.Size([1, 2, 96, 96, 96])"
      ]
     },
     "execution_count": null,
     "metadata": {},
     "output_type": "execute_result"
    }
   ],
   "source": [
    "dil_output_tensor.shape"
   ]
  },
  {
   "cell_type": "code",
   "execution_count": null,
   "id": "3b83788f",
   "metadata": {},
   "outputs": [],
   "source": [
    "k10 = ResNet(ic=1, ip=[64, 128, 256, 512], layers=[1, 1, 1, 1], block_type=\"basic\")\n",
    "k50 = ResNet(ic=1, ip=[64, 128, 256, 512], layers=[3, 4, 6, 3], block_type=\"bottleneck\")"
   ]
  },
  {
   "cell_type": "code",
   "execution_count": null,
   "id": "dcc46064",
   "metadata": {},
   "outputs": [],
   "source": [
    "#k10.apply(lambda m: print(type(m).__name__));"
   ]
  },
  {
   "cell_type": "code",
   "execution_count": null,
   "id": "3b39e344",
   "metadata": {},
   "outputs": [
    {
     "data": {
      "text/plain": [
       "(46158912, 46978512, 14356416, 14561616)"
      ]
     },
     "execution_count": null,
     "metadata": {},
     "output_type": "execute_result"
    }
   ],
   "source": [
    "count_params(k50), count_params(m50), count_params(k10), count_params(m10) #extra for FC layer"
   ]
  },
  {
   "cell_type": "code",
   "execution_count": null,
   "id": "765b71ca",
   "metadata": {},
   "outputs": [
    {
     "name": "stdout",
     "output_type": "stream",
     "text": [
      "437248 437248\n",
      "221440 221440\n",
      "2399744 2399744\n",
      "672640 672640\n",
      "14177280 14177280\n",
      "2688768 2688768\n",
      "29122560 29122560\n",
      "10751488 10751488\n"
     ]
    }
   ],
   "source": [
    "for r in [1, 2, 3, 4]:\n",
    "    print(count_params(getattr(k50, f\"layer{r}\")), count_params(getattr(m50, f\"layer{r}\")))\n",
    "    print(count_params(getattr(k10, f\"layer{r}\")), count_params(getattr(m10, f\"layer{r}\")))"
   ]
  },
  {
   "cell_type": "code",
   "execution_count": null,
   "id": "32a0a337",
   "metadata": {},
   "outputs": [],
   "source": [
    "for r in [1, 2, 3, 4]:\n",
    "    fc.equals(count_params(getattr(k50, f\"layer{r}\")), count_params(getattr(m50, f\"layer{r}\")))\n",
    "    fc.equals(count_params(getattr(k10, f\"layer{r}\")), count_params(getattr(m10, f\"layer{r}\")))"
   ]
  },
  {
   "cell_type": "markdown",
   "id": "ee032f73",
   "metadata": {},
   "source": [
    "### ResNet10"
   ]
  },
  {
   "cell_type": "code",
   "execution_count": null,
   "id": "9fcf6491",
   "metadata": {},
   "outputs": [],
   "source": [
    "#| export \n",
    "def resnet10(ic, c1_ks, c1_stride, base_pool=True, norm=nn.BatchNorm3d, act=act_gr, dilated_conv_last_layer=False):\n",
    "    return ResNet(ic=ic, ip=[64, 128, 256, 512], layers=[1, 1, 1, 1], block_type=\"basic\", \\\n",
    "                 c1_ks=c1_ks, c1_stride=c1_stride, norm=norm, act=act, base_pool=base_pool, dilated_conv_last_layer=dilated_conv_last_layer)"
   ]
  },
  {
   "cell_type": "code",
   "execution_count": null,
   "id": "b1e4c51f",
   "metadata": {},
   "outputs": [
    {
     "data": {
      "text/plain": [
       "Sequential(\n",
       "  (0): Conv3d(512, 512, kernel_size=(3, 3, 3), stride=(1, 2, 2), padding=(2, 2, 2), dilation=(2, 2, 2), bias=False)\n",
       "  (1): BatchNorm3d(512, eps=1e-05, momentum=0.1, affine=True, track_running_stats=True)\n",
       "  (2): GeneralRelu: leak:0.1-sub:0.4-maxv:None\n",
       ")"
      ]
     },
     "execution_count": null,
     "metadata": {},
     "output_type": "execute_result"
    }
   ],
   "source": [
    "r10 = resnet10(1, [7, 7, 7], [1, 2, 2], dilated_conv_last_layer=True)\n",
    "r10.dil_conv"
   ]
  },
  {
   "cell_type": "code",
   "execution_count": null,
   "id": "4d59f5a2",
   "metadata": {},
   "outputs": [
    {
     "data": {
      "text/plain": [
       "[torch.Size([512, 1, 1, 1])]"
      ]
     },
     "execution_count": null,
     "metadata": {},
     "output_type": "execute_result"
    }
   ],
   "source": [
    "x = r10(torch.zeros((1, 1, 96, 192, 192)))\n",
    "[i.shape for i in x]"
   ]
  },
  {
   "cell_type": "code",
   "execution_count": null,
   "id": "de21e238",
   "metadata": {},
   "outputs": [],
   "source": [
    "r10 = resnet10(1, [7, 7, 7], [1, 2, 2])\n",
    "m10 = monai_res.resnet10(**backbone)\n",
    "for r in [1, 2, 3, 4]: fc.equals(count_params(getattr(r10, f\"layer{r}\")), count_params(getattr(m10, f\"layer{r}\")))"
   ]
  },
  {
   "cell_type": "markdown",
   "id": "086be39a",
   "metadata": {},
   "source": [
    "### ResNet18"
   ]
  },
  {
   "cell_type": "code",
   "execution_count": null,
   "id": "c88e2259",
   "metadata": {},
   "outputs": [],
   "source": [
    "#| export \n",
    "def resnet18(ic, c1_ks, c1_stride, base_pool=True, norm=nn.BatchNorm3d, act=act_gr):\n",
    "    return ResNet(ic=ic, ip=[64, 128, 256, 512], layers=[2, 2, 2, 2], block_type=\"basic\", \\\n",
    "                 c1_ks=c1_ks, c1_stride=c1_stride, norm=norm, act=act, base_pool=base_pool)"
   ]
  },
  {
   "cell_type": "code",
   "execution_count": null,
   "id": "0759bebc",
   "metadata": {},
   "outputs": [],
   "source": [
    "r18 = resnet18(1, [7, 7, 7], [1, 2, 2])\n",
    "m18 = monai_res.resnet18(**backbone)\n",
    "for r in [1, 2, 3, 4]: fc.equals(count_params(getattr(r18, f\"layer{r}\")), count_params(getattr(m18, f\"layer{r}\")))"
   ]
  },
  {
   "cell_type": "markdown",
   "id": "6142b41d",
   "metadata": {},
   "source": [
    "### ResNet50"
   ]
  },
  {
   "cell_type": "code",
   "execution_count": null,
   "id": "0ba015b8",
   "metadata": {},
   "outputs": [],
   "source": [
    "#| export \n",
    "def resnet50(ic, c1_ks, c1_stride, base_pool=True, norm=nn.BatchNorm3d, act=act_gr):\n",
    "    return ResNet(ic=ic, ip=[64, 128, 256, 512], layers=[3, 4, 6, 3], block_type=\"bottleneck\", \\\n",
    "                 c1_ks=c1_ks, c1_stride=c1_stride, norm=norm, act=act, base_pool=base_pool)"
   ]
  },
  {
   "cell_type": "code",
   "execution_count": null,
   "id": "1d9040e1",
   "metadata": {},
   "outputs": [],
   "source": [
    "r50 = resnet50(1, [7, 7, 7], [1, 2, 2])\n",
    "m50 = monai_res.resnet50(**backbone)\n",
    "for r in [1, 2, 3, 4]: fc.equals(count_params(getattr(r50, f\"layer{r}\")), count_params(getattr(m50, f\"layer{r}\")))"
   ]
  },
  {
   "cell_type": "code",
   "execution_count": null,
   "id": "7c9ea4be",
   "metadata": {},
   "outputs": [],
   "source": [
    "# #| export \n",
    "# def resnet34(ic, c1_ks, c1_stride, max_pool=True, norm=nn.BatchNorm3d, act=act_gr):\n",
    "#     return ResNet(ic=ic, ip=[64, 128, 256, 512], layers=[3, 4, 6, 3], block_type=\"basic\", \\\n",
    "#                  c1_ks=c1_ks, c1_stride=c1_stride, norm=norm, act=act, max_pool=max_pool)"
   ]
  },
  {
   "cell_type": "code",
   "execution_count": null,
   "id": "e6653397",
   "metadata": {},
   "outputs": [],
   "source": [
    "#| hide\n",
    "import nbdev; nbdev.nbdev_export()"
   ]
  },
  {
   "cell_type": "code",
   "execution_count": null,
   "id": "8f0553a6",
   "metadata": {},
   "outputs": [],
   "source": []
  }
 ],
 "metadata": {
  "kernelspec": {
   "display_name": "Python 3 (ipykernel)",
   "language": "python",
   "name": "python3"
  },
  "language_info": {
   "codemirror_mode": {
    "name": "ipython",
    "version": 3
   },
   "file_extension": ".py",
   "mimetype": "text/x-python",
   "name": "python",
   "nbconvert_exporter": "python",
   "pygments_lexer": "ipython3",
   "version": "3.9.15"
  }
 },
 "nbformat": 4,
 "nbformat_minor": 5
}
