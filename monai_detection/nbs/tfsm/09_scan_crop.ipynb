{
 "cells": [
  {
   "cell_type": "markdown",
   "id": "f6bc7c20",
   "metadata": {},
   "source": [
    "The goal of this notebook is to create a transform which selects `N-slices` randomly keeping bounding boxes in mind and create `Scan-crop`. We then pad the image to minimum required slices and then send it RandPosCrop. "
   ]
  },
  {
   "cell_type": "code",
   "execution_count": null,
   "id": "ff8a6b9b",
   "metadata": {},
   "outputs": [],
   "source": [
    "#| default_exp tfsm/scan_crop"
   ]
  },
  {
   "cell_type": "code",
   "execution_count": null,
   "id": "93e07cb6",
   "metadata": {},
   "outputs": [],
   "source": [
    "#| export \n",
    "import numpy as np \n",
    "import fastcore.all as fc\n",
    "\n",
    "from typing import Optional\n",
    "from voxdet.tfsm.voxt import RandPosCrop, pad3d\n",
    "from voxdet.tfsm.standard import BaseT\n"
   ]
  },
  {
   "cell_type": "markdown",
   "id": "f8e891f0",
   "metadata": {},
   "source": [
    "## Solution\n",
    "our goal is to select slices such that atleast one nodule is present 75% (number changable).\n",
    "- Randomly select a nodule \n",
    "- Take all the slices of that nodule. pickup 75% continous slices. so if [1, 2, 3, 4] are slices we can [1, 2, 3] or [2, 3, 4]\n",
    "- Now we have to select N [10, 20, 30] slices such that [1, 2, 3] is present in it. \n",
    "- After getting final slices, we can realign the bboxes according to this."
   ]
  },
  {
   "cell_type": "code",
   "execution_count": null,
   "id": "9c73acf5",
   "metadata": {},
   "outputs": [],
   "source": [
    "from pathlib import Path\n",
    "from safetensors.numpy import load_file\n",
    "from voxdet.utils import vis"
   ]
  },
  {
   "cell_type": "code",
   "execution_count": null,
   "id": "4d764939",
   "metadata": {},
   "outputs": [],
   "source": [
    "%load_ext autoreload\n",
    "%autoreload 2"
   ]
  },
  {
   "cell_type": "code",
   "execution_count": null,
   "id": "fbf3c11a",
   "metadata": {},
   "outputs": [],
   "source": [
    "imgs = list(Path(\"/home/users/vanapalli.prakash/safe_ds_new/fold_0/\").glob(\"*.safetensors\"))\n",
    "img = load_file(imgs[np.random.randint(len(imgs))])\n",
    "len(imgs), img.keys()"
   ]
  },
  {
   "cell_type": "code",
   "execution_count": null,
   "id": "4d7da4be",
   "metadata": {},
   "outputs": [],
   "source": [
    "vis(img[\"images\"], 64)"
   ]
  },
  {
   "cell_type": "code",
   "execution_count": null,
   "id": "99ee8b86",
   "metadata": {},
   "outputs": [],
   "source": [
    "rand = RandPosCrop(crop_size=(32, 192, 192))\n",
    "rand"
   ]
  },
  {
   "cell_type": "code",
   "execution_count": null,
   "id": "17fcdf97",
   "metadata": {},
   "outputs": [],
   "source": [
    "k = rand(img)"
   ]
  },
  {
   "cell_type": "code",
   "execution_count": null,
   "id": "ab74774b",
   "metadata": {},
   "outputs": [],
   "source": [
    "k[\"images\"].shape, k[\"boxes\"]"
   ]
  },
  {
   "cell_type": "code",
   "execution_count": null,
   "id": "1190f380",
   "metadata": {},
   "outputs": [],
   "source": [
    "vis(k[\"images\"], 64)"
   ]
  },
  {
   "cell_type": "code",
   "execution_count": null,
   "id": "3c11dba7",
   "metadata": {},
   "outputs": [],
   "source": [
    "from voxdet.tfsm.voxt import PadIfNeeded"
   ]
  },
  {
   "cell_type": "code",
   "execution_count": null,
   "id": "5b470246",
   "metadata": {},
   "outputs": [],
   "source": [
    "pad = PadIfNeeded(img_size=(96, 192, 192), side=\"right\")\n",
    "k2 = pad(k)"
   ]
  },
  {
   "cell_type": "code",
   "execution_count": null,
   "id": "397caa43",
   "metadata": {},
   "outputs": [],
   "source": [
    "k2[\"images\"].shape"
   ]
  },
  {
   "cell_type": "code",
   "execution_count": null,
   "id": "89066f61",
   "metadata": {},
   "outputs": [],
   "source": [
    "vis(k2[\"images\"], 64)"
   ]
  },
  {
   "cell_type": "markdown",
   "id": "9d43a8d4",
   "metadata": {},
   "source": [
    "For some reason we have pad only on \"right\" only. we can get away with this in the following way. \n",
    "- Randomly select N \n",
    "- Use RandPosCrop to select N slices\n",
    "- Required (96-N) are the total slices we need to pad.\n",
    "- Randomly get (96-N) slices and \"left pad\" the slices. we can add z values to all the bboxes. \n",
    "- PadIfneeded now for remaining slices. "
   ]
  },
  {
   "cell_type": "code",
   "execution_count": null,
   "id": "727516df",
   "metadata": {},
   "outputs": [],
   "source": [
    "k[\"images\"].shape, k[\"boxes\"]"
   ]
  },
  {
   "cell_type": "code",
   "execution_count": null,
   "id": "06e0d7f0",
   "metadata": {},
   "outputs": [],
   "source": [
    "left_pad = np.random.randint(96-32)\n",
    "print(left_pad)\n",
    "img, boxes = pad3d(k[\"images\"], k[\"boxes\"], pad=(left_pad, 0, 0), side=\"left\")\n",
    "img.shape, boxes"
   ]
  },
  {
   "cell_type": "code",
   "execution_count": null,
   "id": "341903f3",
   "metadata": {},
   "outputs": [],
   "source": [
    "k[\"images\"].shape[0]"
   ]
  },
  {
   "cell_type": "code",
   "execution_count": null,
   "id": "994fd253",
   "metadata": {},
   "outputs": [],
   "source": [
    "vis(img, 64)"
   ]
  },
  {
   "cell_type": "code",
   "execution_count": null,
   "id": "08b94fc0",
   "metadata": {},
   "outputs": [],
   "source": [
    "img.shape[0]"
   ]
  },
  {
   "cell_type": "code",
   "execution_count": null,
   "id": "b70136dc",
   "metadata": {},
   "outputs": [],
   "source": [
    "img2, boxes2 = pad3d(img, boxes, pad=(96-img.shape[0], 0, 0), side=\"right\")\n",
    "img2.shape"
   ]
  },
  {
   "cell_type": "code",
   "execution_count": null,
   "id": "77fb0976",
   "metadata": {},
   "outputs": [],
   "source": [
    "vis(img2, 64)"
   ]
  },
  {
   "cell_type": "code",
   "execution_count": null,
   "id": "33f3fa9a",
   "metadata": {},
   "outputs": [],
   "source": [
    "#| export \n",
    "def assymetric_z_pad(img, bbox, dim=96):\n",
    "    imgshape = img.shape[0] if len(img.shape) == 3 else img.shape[1]\n",
    "    assert imgshape < dim, f\"img.shape[0] should be less than dim. \\\n",
    "                                 should have {imgshape}, got {dim}\"\n",
    "    left_pad = np.random.randint(dim-imgshape)\n",
    "    img, bbox = pad3d(img, bbox, pad=(left_pad, 0, 0), side=\"left\")\n",
    "    imgshape = img.shape[0] if len(img.shape) == 3 else img.shape[1]\n",
    "    img, bbox = pad3d(img, bbox, pad=(dim-imgshape, 0, 0), side=\"right\")\n",
    "    return img, bbox"
   ]
  },
  {
   "cell_type": "code",
   "execution_count": null,
   "id": "e25957ef",
   "metadata": {},
   "outputs": [],
   "source": [
    "k[\"images\"].shape, k[\"boxes\"]"
   ]
  },
  {
   "cell_type": "code",
   "execution_count": null,
   "id": "232e12c3",
   "metadata": {},
   "outputs": [],
   "source": [
    "img, bbox = assymetric_z_pad(k[\"images\"], k[\"boxes\"], dim=96)\n",
    "img.shape, bbox"
   ]
  },
  {
   "cell_type": "code",
   "execution_count": null,
   "id": "fd92f851",
   "metadata": {},
   "outputs": [],
   "source": [
    "vis(img, 64)"
   ]
  },
  {
   "cell_type": "code",
   "execution_count": null,
   "id": "4bef96e3",
   "metadata": {},
   "outputs": [],
   "source": [
    "x = np.random.randint(15, 30)\n",
    "x"
   ]
  },
  {
   "cell_type": "markdown",
   "id": "1953bfaa",
   "metadata": {},
   "source": [
    "> Combining everything"
   ]
  },
  {
   "cell_type": "code",
   "execution_count": null,
   "id": "97dd056c",
   "metadata": {},
   "outputs": [],
   "source": [
    "#| export \n",
    "class SliceCrop(BaseT):\n",
    "    def __init__(self, min_slices=15, max_slices: Optional[int]=None, multi_view: bool=False):\n",
    "        \"\"\"both min and max slices are integers\"\"\"\n",
    "        fc.store_attr()\n",
    "        super().__init__()\n",
    "    __repr__ = fc.basic_repr(\"min_slices, max_slices, multi_view\")\n",
    "    \n",
    "    def apply(self, img: dict):\n",
    "        assert \"images\" in img.keys(), f\"images not present in input [img]. Only: {img.keys()} present\"\n",
    "        if self.multi_view:\n",
    "            _, zs, ys, xs = img[\"images\"].shape\n",
    "        else:\n",
    "            zs, ys, xs = img[\"images\"].shape\n",
    "        slices = np.random.randint(self.min_slices, self.max_slices if self.max_slices is not None else zs)\n",
    "        func = RandPosCrop(crop_size=(slices, ys, xs), multi_view=self.multi_view)\n",
    "        img = func(img)\n",
    "        \n",
    "        ##\n",
    "        fimg = img[\"images\"].copy()\n",
    "        boxes = img[\"boxes\"].copy() if \"boxes\" in img.keys() else None \n",
    "        \n",
    "        nimg = {}\n",
    "        if boxes is not None: nimg[\"images\"], nimg[\"boxes\"] = assymetric_z_pad(fimg, boxes, dim=zs)\n",
    "        else: nimg[\"images\"] = assymetric_z_pad(fimg, boxes, dim=zs)\n",
    "        for i in img.keys():\n",
    "            if i not in nimg.keys(): nimg[i] = img[i]\n",
    "        return nimg"
   ]
  },
  {
   "cell_type": "code",
   "execution_count": null,
   "id": "0a5cbc00",
   "metadata": {},
   "outputs": [],
   "source": [
    "np.random.sample(1)[0]"
   ]
  },
  {
   "cell_type": "code",
   "execution_count": null,
   "id": "f5864a05",
   "metadata": {},
   "outputs": [],
   "source": [
    "#| export\n",
    "class RandSliceCrop(BaseT):\n",
    "    def __init__(self, min_slices=15, max_slices: Optional[int]=None, prob=0.9, multi_view: bool=False):\n",
    "        \"\"\"both min and max slices are integers\"\"\"\n",
    "        fc.store_attr()\n",
    "        super().__init__()\n",
    "        self.func = SliceCrop(self.min_slices, self.max_slices, multi_view=self.multi_view)\n",
    "    \n",
    "    __repr__ = fc.basic_repr(\"min_slices, max_slices, prob\")\n",
    "    \n",
    "    def apply(self, img:dict):\n",
    "        if np.random.sample(1)[0]<=self.prob: return self.func(img)\n",
    "        else: return img "
   ]
  },
  {
   "cell_type": "code",
   "execution_count": null,
   "id": "5c1c679c",
   "metadata": {},
   "outputs": [],
   "source": [
    "rand = RandPosCrop(crop_size=(96, 192, 192))\n",
    "sc = RandSliceCrop(max_slices=40, min_slices=20, prob=1.0)"
   ]
  },
  {
   "cell_type": "code",
   "execution_count": null,
   "id": "d61dfb1d",
   "metadata": {},
   "outputs": [],
   "source": [
    "%%time\n",
    "img = load_file(imgs[np.random.randint(len(imgs))])\n",
    "img2 = rand(img)\n",
    "print(img2[\"images\"].shape)\n",
    "img3 = sc(img2)"
   ]
  },
  {
   "cell_type": "code",
   "execution_count": null,
   "id": "f94c8545",
   "metadata": {},
   "outputs": [],
   "source": [
    "vis(img2[\"images\"], 64)"
   ]
  },
  {
   "cell_type": "code",
   "execution_count": null,
   "id": "b38aac1f",
   "metadata": {},
   "outputs": [],
   "source": [
    "img2[\"boxes\"], img3[\"boxes\"]"
   ]
  },
  {
   "cell_type": "code",
   "execution_count": null,
   "id": "dfca4ad8",
   "metadata": {},
   "outputs": [],
   "source": [
    "img3[\"images\"].sum((1, 2)).nonzero()[0].shape"
   ]
  },
  {
   "cell_type": "code",
   "execution_count": null,
   "id": "f707e184",
   "metadata": {},
   "outputs": [],
   "source": [
    "vis(img3[\"images\"], 64)"
   ]
  },
  {
   "cell_type": "code",
   "execution_count": null,
   "id": "16038ee6",
   "metadata": {},
   "outputs": [],
   "source": [
    "import imageio\n",
    "from IPython.display import Image as DisplayImage\n",
    "from voxdet.utils import hu_to_lung_window\n"
   ]
  },
  {
   "cell_type": "code",
   "execution_count": null,
   "id": "fb381dce",
   "metadata": {},
   "outputs": [],
   "source": [
    "box = img3[\"boxes\"][:2, :][0].astype(int)\n",
    "bimg = img3[\"images\"][box[0]:box[3]+1, max(0, box[1]-10):box[4]+10, max(box[2]-10, 0):box[5]+10]\n",
    "bimg = np.uint8(hu_to_lung_window(bimg)*255)\n",
    "imageio.mimsave('sld_3.gif', [i for i in bimg])\n",
    "DisplayImage(data='sld_3.gif', width=180, height=180) "
   ]
  },
  {
   "cell_type": "code",
   "execution_count": null,
   "id": "35d17c0c",
   "metadata": {},
   "outputs": [],
   "source": [
    "img3[\"images\"].shape"
   ]
  },
  {
   "cell_type": "code",
   "execution_count": null,
   "id": "c3e0d462",
   "metadata": {},
   "outputs": [],
   "source": [
    "## Checking if this is working for multi-view"
   ]
  },
  {
   "cell_type": "code",
   "execution_count": null,
   "id": "fcafdf5d",
   "metadata": {},
   "outputs": [],
   "source": [
    "rand = RandPosCrop(crop_size=(96, 192, 192), multi_view=True)\n",
    "sc = RandSliceCrop(max_slices=40, min_slices=20, prob=0.5, multi_view=True)"
   ]
  },
  {
   "cell_type": "code",
   "execution_count": null,
   "id": "870571ca",
   "metadata": {},
   "outputs": [],
   "source": [
    "%%time\n",
    "img = load_file(imgs[np.random.randint(len(imgs))])\n",
    "img[\"images\"] = np.expand_dims(img[\"images\"], 0)\n",
    "print(img[\"images\"].shape, img[\"boxes\"].shape)\n",
    "img2 = rand(img)\n",
    "print(img2[\"images\"].shape)\n",
    "img3 = sc(img2)"
   ]
  },
  {
   "cell_type": "code",
   "execution_count": null,
   "id": "2de86c85",
   "metadata": {},
   "outputs": [],
   "source": [
    "#| hide\n",
    "import nbdev; nbdev.nbdev_export()"
   ]
  }
 ],
 "metadata": {
  "kernelspec": {
   "display_name": "Python (qct_deep)",
   "language": "python",
   "name": "qct_deep"
  }
 },
 "nbformat": 4,
 "nbformat_minor": 5
}
