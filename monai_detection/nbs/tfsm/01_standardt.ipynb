{
 "cells": [
  {
   "cell_type": "markdown",
   "metadata": {},
   "source": [
    "# standard transforms\n",
    "\n",
    "> Fill in a module description here"
   ]
  },
  {
   "cell_type": "code",
   "execution_count": null,
   "metadata": {},
   "outputs": [],
   "source": [
    "#| default_exp tfsm/standard"
   ]
  },
  {
   "cell_type": "code",
   "execution_count": null,
   "metadata": {},
   "outputs": [],
   "source": [
    "#| export \n",
    "import torch \n",
    "import fastcore.all as fc\n",
    "from typing import Union, List\n",
    "from voxdet.tfsm.utils import chwd_2_corner"
   ]
  },
  {
   "cell_type": "code",
   "execution_count": null,
   "metadata": {},
   "outputs": [],
   "source": [
    "import numpy as np"
   ]
  },
  {
   "cell_type": "code",
   "execution_count": null,
   "metadata": {},
   "outputs": [],
   "source": [
    "#| export \n",
    "class BaseT(torch.nn.Module):\n",
    "    def __init__(self): super().__init__()\n",
    "    def forward(self, img:Union[List[dict], dict]):\n",
    "        if isinstance(img, list): return [self.apply(i) for i in img] \n",
    "        else: return self.apply(img)\n",
    "    def apply(self, img:dict): raise NotImplementedError"
   ]
  },
  {
   "cell_type": "code",
   "execution_count": null,
   "metadata": {},
   "outputs": [],
   "source": [
    "#| export \n",
    "class StandardT(BaseT):\n",
    "    def __init__(self, src_mode:str, img_src_mode: str): \n",
    "        # converts bbox to zyxzyx format and img_src_mode to zyx format\n",
    "        fc.store_attr() \n",
    "        super().__init__()\n",
    "        self._check_bbox_mode()\n",
    "        self._check_img_mode()\n",
    "    \n",
    "    __repr__ = fc.basic_repr(flds=\"src_mode, img_src_mode\")\n",
    "\n",
    "    def _check_bbox_mode(self):\n",
    "        if self.src_mode not in [\"yxzhwd\"]: raise NotImplementedError(f\"src_mode {self.src_mode} not implemented\")\n",
    "        \n",
    "    def _check_img_mode(self):\n",
    "        if self.img_src_mode not in [\"zyx\", \"xyz\"]: raise NotImplementedError(f\"img_src_mode {self.img_src_mode} not implemented\")\n",
    "        \n",
    "    def forward(self, img:Union[List[dict], dict]):\n",
    "        if isinstance(img, list): return [self.apply(i) for i in img] \n",
    "        else: return self.apply(img)\n",
    "    \n",
    "    def apply(self, img: dict):\n",
    "        assert \"images\" in img.keys(), \"images are not present.\"\n",
    "        nimg = {}\n",
    "        nimg[\"images\"] = self.apply_img(img[\"images\"].copy())\n",
    "        if \"boxes\" in img.keys(): nimg[\"boxes\"] = self.apply_bbox(img[\"boxes\"].copy())\n",
    "        for i in img.keys(): \n",
    "            if i not in nimg.keys(): nimg[i] = img[i]\n",
    "        return nimg\n",
    "    \n",
    "    def apply_img(self, img):\n",
    "        out = img.copy()\n",
    "        if self.img_src_mode == \"zyx\": return out \n",
    "        if self.img_src_mode == \"xyz\": return out.transpose((2, 1, 0))\n",
    "        raise NotImplementedError(f\"img_src_mode: {self.img_src_mode}, img_dst_mode: {self.img_dst_mode} not implemented\")\n",
    "    \n",
    "    \n",
    "    def apply_bbox(self, bbox):\n",
    "        #dest mode is always xyzxyz\n",
    "        if self.src_mode == \"yxzhwd\": return chwd_2_corner(bbox)[:, [2, 0, 1, 5, 3, 4]]\n",
    "        raise NotImplementedError(f\"src_mode: {self.src_mode}, dst_mode: {self.dst_mode} not implemented\")\n",
    "    \n",
    "    #TODO: we should Ideally reverse this to original dimensions. \n",
    "    def reverse_apply(self, img:dict): return img "
   ]
  },
  {
   "cell_type": "code",
   "execution_count": null,
   "metadata": {},
   "outputs": [],
   "source": [
    "fc.test_fail(StandardT, args=(\"xyzxyz\", \"xyz\"))"
   ]
  },
  {
   "cell_type": "code",
   "execution_count": null,
   "metadata": {},
   "outputs": [],
   "source": [
    "tfm = StandardT(src_mode=\"yxzhwd\", img_src_mode=\"zyx\")\n",
    "tfm"
   ]
  },
  {
   "cell_type": "code",
   "execution_count": null,
   "metadata": {},
   "outputs": [],
   "source": [
    "x = {}\n",
    "x[\"images\"] = np.zeros((32, 42, 52))\n",
    "x[\"boxes\"] = np.asarray([[10, 20, 30, 10, 20, 30]])\n",
    "y = tfm(x)\n",
    "assert fc.all_equal(y[\"images\"].shape, x[\"images\"].shape), \"shape changes with img_src and img_dst modes are same\"\n",
    "assert fc.all_equal(y[\"boxes\"], np.asarray([[15, 5, 10, 45, 15, 30]])), \"bbox transforms are wrong\""
   ]
  },
  {
   "cell_type": "code",
   "execution_count": null,
   "metadata": {},
   "outputs": [],
   "source": [
    "x = {}\n",
    "x[\"images\"] = np.zeros((292, 370, 370))\n",
    "x[\"boxes\"] = np.asarray([[203.06635 ,  96.83591 ,  58.75    ,  10.83984 ,  13.730464, 10.]])\n",
    "y = tfm(x) #[yxzhwd] [2, 0, 1, 5, 3, 4]"
   ]
  },
  {
   "cell_type": "code",
   "execution_count": null,
   "metadata": {},
   "outputs": [],
   "source": [
    "chwd_2_corner(x[\"boxes\"])"
   ]
  },
  {
   "cell_type": "code",
   "execution_count": null,
   "metadata": {},
   "outputs": [],
   "source": [
    "y[\"boxes\"]"
   ]
  },
  {
   "cell_type": "code",
   "execution_count": null,
   "metadata": {},
   "outputs": [],
   "source": [
    "#| hide\n",
    "import nbdev; nbdev.nbdev_export()"
   ]
  }
 ],
 "metadata": {
  "kernelspec": {
   "display_name": "Python (qct_deep)",
   "language": "python",
   "name": "qct_deep"
  }
 },
 "nbformat": 4,
 "nbformat_minor": 4
}
