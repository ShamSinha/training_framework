{
 "cells": [
  {
   "cell_type": "code",
   "execution_count": null,
   "id": "ba556352",
   "metadata": {},
   "outputs": [],
   "source": [
    "#| default_exp retina_test"
   ]
  },
  {
   "cell_type": "code",
   "execution_count": null,
   "id": "aa0fcbd7",
   "metadata": {},
   "outputs": [],
   "source": [
    "%load_ext autoreload\n",
    "%autoreload 2"
   ]
  },
  {
   "cell_type": "markdown",
   "id": "7e4836a0",
   "metadata": {},
   "source": [
    "The fundamental question `where is the model failing?`\n",
    "\n",
    "first thing we need to do is visualize several scans to get an answer to this. \n",
    "\n",
    "- Read the cache. \n",
    "- Read the scan.\n",
    "- Visualize the scan alone \n",
    "- Visualize Gt bbox \n",
    "- Visualize Pred bbox"
   ]
  },
  {
   "cell_type": "code",
   "execution_count": null,
   "id": "08ea6d3a",
   "metadata": {},
   "outputs": [],
   "source": [
    "#| export\n",
    "import numpy as np\n",
    "import cv2\n",
    "import SimpleITK as sitk \n",
    "from voxdet.tfsm.voxt import clip_2_img\n",
    "from voxdet.utils import hu_to_lung_window"
   ]
  },
  {
   "cell_type": "code",
   "execution_count": null,
   "id": "a28f96c9",
   "metadata": {},
   "outputs": [],
   "source": [
    "import torch\n",
    "import pandas as pd\n",
    "from pathlib import Path\n",
    "from tqdm import tqdm\n",
    "from voxdet.utils import vis, image_grid\n",
    "from voxdet.metrics.sub_level_analysis import get_all_file_locs\n",
    "from qct_utils.ctvis.viewer import plot_scans"
   ]
  },
  {
   "cell_type": "code",
   "execution_count": null,
   "id": "1e565473",
   "metadata": {},
   "outputs": [
    {
     "data": {
      "text/plain": [
       "0"
      ]
     },
     "execution_count": null,
     "metadata": {},
     "output_type": "execute_result"
    }
   ],
   "source": [
    "scans_root = \"/cache/datanas1/qct-nodules/nifti_with_annots/\"\n",
    "folders = [\"lidc3_val\"]\n",
    "files = get_all_file_locs(root=\"../weights/v150/\", read_dir=[\"lidc\"])\n",
    "len(files)"
   ]
  },
  {
   "cell_type": "code",
   "execution_count": null,
   "id": "f641ab33",
   "metadata": {},
   "outputs": [],
   "source": [
    "file = files[np.random.randint(len(files))]\n",
    "scan_loc = Path(scans_root)/ folders[0]/ (file.stem+\".nii.gz\")\n",
    "scan_loc.exists()"
   ]
  },
  {
   "cell_type": "code",
   "execution_count": null,
   "id": "11be4060",
   "metadata": {},
   "outputs": [],
   "source": [
    "img = sitk.ReadImage(scan_loc.as_posix())\n",
    "array = sitk.GetArrayFromImage(img)\n",
    "array.shape"
   ]
  },
  {
   "cell_type": "code",
   "execution_count": null,
   "id": "09ea1875",
   "metadata": {},
   "outputs": [],
   "source": [
    "#| export\n",
    "def load_img(scan_loc, window=True):\n",
    "    img = sitk.ReadImage(scan_loc.as_posix())\n",
    "    array = sitk.GetArrayFromImage(img)\n",
    "    if window: return np.uint8(hu_to_lung_window(array)*255)\n",
    "    return array"
   ]
  },
  {
   "cell_type": "code",
   "execution_count": null,
   "id": "0f762b23",
   "metadata": {},
   "outputs": [],
   "source": [
    "## Load bboxes\n",
    "gt_pred = torch.load(file)\n",
    "gt = gt_pred[\"img_in\"]\n",
    "pred = gt_pred[\"img_out\"]\n",
    "gt[\"boxes\"].shape, pred[\"boxes\"].shape, pred[\"scores\"]"
   ]
  },
  {
   "cell_type": "code",
   "execution_count": null,
   "id": "09bbc9e5",
   "metadata": {},
   "outputs": [],
   "source": [
    "from voxdet.det_metrics import assign_tp_fp_fn_linear_assignment"
   ]
  },
  {
   "cell_type": "code",
   "execution_count": null,
   "id": "44bec202",
   "metadata": {},
   "outputs": [],
   "source": [
    "tp, fp, fn = assign_tp_fp_fn_linear_assignment(pred[\"boxes\"][pred[\"scores\"]>=0.9], gt[\"boxes\"], 0.1)"
   ]
  },
  {
   "cell_type": "code",
   "execution_count": null,
   "id": "67508c2b",
   "metadata": {},
   "outputs": [],
   "source": [
    "img_lvl = []\n",
    "for file in tqdm(files):\n",
    "    gt_pred = torch.load(file)\n",
    "    gt = gt_pred[\"img_in\"]\n",
    "    pred = gt_pred[\"img_out\"]\n",
    "    gt[\"boxes\"].shape, pred[\"boxes\"].shape, pred[\"scores\"]\n",
    "    tp, fp, fn = assign_tp_fp_fn_linear_assignment(pred[\"boxes\"][pred[\"scores\"]>=0.9], gt[\"boxes\"], 0.1)\n",
    "    img_lvl.append([file.name, tp.sum(), fp.sum(), fn.sum()])"
   ]
  },
  {
   "cell_type": "code",
   "execution_count": null,
   "id": "cb5eabe7",
   "metadata": {},
   "outputs": [],
   "source": [
    "df = pd.DataFrame(img_lvl)\n",
    "df.columns = [\"scan_name\", \"tp\", \"fp\", \"fn\"]\n",
    "df.head()"
   ]
  },
  {
   "cell_type": "code",
   "execution_count": null,
   "id": "e3d92045",
   "metadata": {},
   "outputs": [],
   "source": [
    "df[df[\"fp\"] >5]"
   ]
  },
  {
   "cell_type": "code",
   "execution_count": null,
   "id": "d4e58de9",
   "metadata": {},
   "outputs": [],
   "source": [
    "df[df[\"fp\"] >5][\"scan_name\"].values"
   ]
  },
  {
   "cell_type": "code",
   "execution_count": null,
   "id": "319043ab",
   "metadata": {},
   "outputs": [],
   "source": [
    "lwa = np.uint8(hu_to_lung_window(array)*255)\n",
    "vis(lwa, 64, window=False)"
   ]
  },
  {
   "cell_type": "code",
   "execution_count": null,
   "id": "de0cf38f",
   "metadata": {},
   "outputs": [],
   "source": [
    "gt_boxes = gt[\"boxes\"]\n",
    "gt_boxes[:, :3] = np.floor(gt_boxes[:, :3])\n",
    "gt_boxes[:, 3:] = np.ceil(gt_boxes[:, 3:])\n",
    "gt_boxes = gt_boxes.astype(int)\n",
    "gt_boxes"
   ]
  },
  {
   "cell_type": "code",
   "execution_count": null,
   "id": "ceecce6a",
   "metadata": {},
   "outputs": [],
   "source": [
    "margin = np.asarray([-2, -5, -5, 2, 5, 5])\n",
    "margin = margin.reshape(1, -1).repeat(gt_boxes.shape[0], axis=0)\n",
    "margin"
   ]
  },
  {
   "cell_type": "code",
   "execution_count": null,
   "id": "aee180cd",
   "metadata": {},
   "outputs": [],
   "source": [
    "gt_boxes = clip_2_img(gt_boxes+margin, lwa.shape)\n",
    "gt_boxes"
   ]
  },
  {
   "cell_type": "code",
   "execution_count": null,
   "id": "623ea8d3",
   "metadata": {},
   "outputs": [],
   "source": [
    "#| export \n",
    "def convert2int(boxes, margin=None, img_shape=None):\n",
    "    boxes = boxes.copy()\n",
    "    boxes[:, :3] = np.floor(boxes[:, :3])\n",
    "    boxes[:, 3:] = np.ceil(boxes[:, 3:])\n",
    "    boxes = boxes.astype(int)\n",
    "    if margin is not None:boxes = boxes + np.asarray(margin).reshape(1, -1).repeat(boxes.shape[0], axis=0)\n",
    "    if img_shape is not None: boxes = clip_2_img(boxes, img_shape)\n",
    "    return boxes"
   ]
  },
  {
   "cell_type": "code",
   "execution_count": null,
   "id": "3a1f2475",
   "metadata": {},
   "outputs": [],
   "source": [
    "#| export \n",
    "def draw_bbox(img, bbox, bbox_color: tuple=(255, 0, 0), thickness: int=2, overlay: bool=False, alpha: float=0.5):\n",
    "    #bbox is is xyxy format\n",
    "    output = img.copy()\n",
    "    thickness = -1 if overlay else thickness\n",
    "    output = cv2.rectangle(output, (bbox[0], bbox[1]), (bbox[2], bbox[3]), bbox_color, thickness)\n",
    "    if overlay: \n",
    "        overlay = img.copy()\n",
    "        cv2.addWeighted(overlay, alpha, output, 1 - alpha, 0, output)\n",
    "    return output"
   ]
  },
  {
   "cell_type": "code",
   "execution_count": null,
   "id": "0e8b7744",
   "metadata": {},
   "outputs": [],
   "source": [
    "#| export \n",
    "def add_label(img, bbox, label, draw_bg=True, text_color=(255, 0, 0), text_bg_color=(255, 255, 255)):\n",
    "    text_width = cv2.getTextSize(label, cv2.FONT_HERSHEY_SIMPLEX, 1, 2)[0][0]\n",
    "    tip = +30 if bbox[1]-30<0 else -30 \n",
    "    label_bg = [bbox[0], bbox[1], bbox[0] + text_width, bbox[1] + tip]\n",
    "    output = img.copy()\n",
    "    if draw_bg:cv2.rectangle(output, (label_bg[0], label_bg[1]), (label_bg[2] + 5, label_bg[3]), text_bg_color, -1)\n",
    "    cv2.putText(output, label, (bbox[0] + 5, bbox[1] - 5 + (30 if tip==30 else 0)), cv2.FONT_HERSHEY_SIMPLEX, 1, text_color, 2)\n",
    "    return output"
   ]
  },
  {
   "cell_type": "code",
   "execution_count": null,
   "id": "848e7d94",
   "metadata": {},
   "outputs": [],
   "source": [
    "#| export \n",
    "def draw_on_ct(img, boxes, color=(255, 0, 0)):\n",
    "    dimg = img.copy()\n",
    "    for box in boxes:\n",
    "        z1, y1, x1, z2, y2, x2 = box\n",
    "        if z1 == z2: z2 = z2+1\n",
    "        for z in range(z1, z2):\n",
    "            img = dimg[z]\n",
    "            img = draw_bbox(img, (x1, y1, x2, y2), bbox_color=color)\n",
    "            dimg[z] = img\n",
    "    return dimg "
   ]
  },
  {
   "cell_type": "code",
   "execution_count": null,
   "id": "5dbd91bc",
   "metadata": {},
   "outputs": [],
   "source": [
    "file.parent"
   ]
  },
  {
   "cell_type": "code",
   "execution_count": null,
   "id": "cca8bd39",
   "metadata": {},
   "outputs": [],
   "source": [
    "file = files[np.random.randint(len(files))]\n",
    "#file = file.parent / \"1.3.6.1.4.1.55648.166786657465154199470575722567012949663.3.pt\"\n",
    "scan_loc = Path(scans_root)/ folders[0]/ (file.stem+\".nii.gz\")#rsplit(\"_\")[0]\n",
    "scan_loc.exists()\n",
    "lwa = load_img(scan_loc)\n",
    "dimg = lwa.copy()\n",
    "dimg = np.concatenate([np.expand_dims(dimg, axis=-1) for _ in range(3)], axis=3)\n",
    "dimg.shape"
   ]
  },
  {
   "cell_type": "code",
   "execution_count": null,
   "id": "83c6998d",
   "metadata": {},
   "outputs": [],
   "source": [
    "file.stem"
   ]
  },
  {
   "cell_type": "code",
   "execution_count": null,
   "id": "9b5b6e89",
   "metadata": {},
   "outputs": [],
   "source": [
    "gt_pred = torch.load(file)\n",
    "gt = gt_pred[\"img_in\"]\n",
    "pred = gt_pred[\"img_out\"]\n",
    "#print(gt[\"boxes\"].shape, pred[\"boxes\"].shape, pred[\"scores\"])\n",
    "\n",
    "## Convert to ints\n",
    "gt_box = convert2int(gt[\"boxes\"])\n",
    "pred_box = convert2int(pred[\"boxes\"])\n",
    "gt_box.shape, pred_box.shape, pred[\"scores\"].shape, (pred[\"scores\"]>0.9).sum()"
   ]
  },
  {
   "cell_type": "code",
   "execution_count": null,
   "id": "2990e3ba",
   "metadata": {},
   "outputs": [],
   "source": [
    "from voxdet.bbox_iou import calculate_iou_numpy\n",
    "iou = calculate_iou_numpy(gt_box, pred_box[pred[\"scores\"]>0.9])\n",
    "iou,iou.shape"
   ]
  },
  {
   "cell_type": "code",
   "execution_count": null,
   "id": "90d8c458",
   "metadata": {},
   "outputs": [],
   "source": [
    "pred_box[pred[\"scores\"]>0.9]"
   ]
  },
  {
   "cell_type": "code",
   "execution_count": null,
   "id": "5cad8fbe",
   "metadata": {},
   "outputs": [],
   "source": [
    "gt_box"
   ]
  },
  {
   "cell_type": "code",
   "execution_count": null,
   "id": "d8678b6a",
   "metadata": {},
   "outputs": [],
   "source": [
    "print(iou.argmax(1), iou.max(1))"
   ]
  },
  {
   "cell_type": "code",
   "execution_count": null,
   "id": "3dff4b1d",
   "metadata": {},
   "outputs": [],
   "source": [
    "gtimg = draw_on_ct(dimg, gt_box, (0, 255, 0))\n",
    "predimg = draw_on_ct(dimg, pred_box[pred[\"scores\"]>0.9], (255, 0, 0))"
   ]
  },
  {
   "cell_type": "code",
   "execution_count": null,
   "id": "c88a2e26",
   "metadata": {},
   "outputs": [],
   "source": [
    "plot_scans([gtimg, predimg], [\"Gt\", \"pred\"])"
   ]
  },
  {
   "cell_type": "code",
   "execution_count": 2,
   "id": "193112a8",
   "metadata": {},
   "outputs": [],
   "source": [
    "#| hide\n",
    "import nbdev; nbdev.nbdev_export()"
   ]
  },
  {
   "cell_type": "code",
   "execution_count": null,
   "id": "a04154d8",
   "metadata": {},
   "outputs": [],
   "source": []
  }
 ],
 "metadata": {
  "kernelspec": {
   "display_name": "Python 3 (ipykernel)",
   "language": "python",
   "name": "python3"
  },
  "language_info": {
   "codemirror_mode": {
    "name": "ipython",
    "version": 3
   },
   "file_extension": ".py",
   "mimetype": "text/x-python",
   "name": "python",
   "nbconvert_exporter": "python",
   "pygments_lexer": "ipython3",
   "version": "3.9.15"
  }
 },
 "nbformat": 4,
 "nbformat_minor": 5
}
