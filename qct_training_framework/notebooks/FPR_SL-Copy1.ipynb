{
 "cells": [
  {
   "cell_type": "code",
   "execution_count": 2,
   "id": "2d1ed5b7",
   "metadata": {},
   "outputs": [],
   "source": [
    "import pyrootutils\n",
    "import hydra\n",
    "import torch\n",
    "\n",
    "root = pyrootutils.setup_root(search_from=\"./\", indicator=[\".git\", \"pyproject.toml\"], pythonpath=True, dotenv=True)\n"
   ]
  },
  {
   "cell_type": "code",
   "execution_count": 3,
   "id": "6e637d17",
   "metadata": {},
   "outputs": [
    {
     "ename": "ConfigCompositionException",
     "evalue": "In 'mae3d.yaml': Could not override 'datamodule'. No match in the defaults list.",
     "output_type": "error",
     "traceback": [
      "\u001b[0;31m---------------------------------------------------------------------------\u001b[0m",
      "\u001b[0;31mConfigCompositionException\u001b[0m                Traceback (most recent call last)",
      "Cell \u001b[0;32mIn [3], line 3\u001b[0m\n\u001b[1;32m      1\u001b[0m hydra\u001b[38;5;241m.\u001b[39mcore\u001b[38;5;241m.\u001b[39mglobal_hydra\u001b[38;5;241m.\u001b[39mGlobalHydra\u001b[38;5;241m.\u001b[39minstance()\u001b[38;5;241m.\u001b[39mclear()\n\u001b[1;32m      2\u001b[0m hydra\u001b[38;5;241m.\u001b[39minitialize(\u001b[38;5;124m\"\u001b[39m\u001b[38;5;124m../configs/experiment/\u001b[39m\u001b[38;5;124m\"\u001b[39m, version_base\u001b[38;5;241m=\u001b[39m\u001b[38;5;124m\"\u001b[39m\u001b[38;5;124m1.2\u001b[39m\u001b[38;5;124m\"\u001b[39m)\n\u001b[0;32m----> 3\u001b[0m model_config \u001b[38;5;241m=\u001b[39m \u001b[43mhydra\u001b[49m\u001b[38;5;241;43m.\u001b[39;49m\u001b[43mcompose\u001b[49m\u001b[43m(\u001b[49m\u001b[38;5;124;43m\"\u001b[39;49m\u001b[38;5;124;43mmae3d.yaml\u001b[39;49m\u001b[38;5;124;43m\"\u001b[39;49m\u001b[43m)\u001b[49m\n",
      "File \u001b[0;32m~/miniconda3/envs/qct_deep_clone/lib/python3.9/site-packages/hydra/compose.py:34\u001b[0m, in \u001b[0;36mcompose\u001b[0;34m(config_name, overrides, return_hydra_config, strict)\u001b[0m\n\u001b[1;32m     32\u001b[0m gh \u001b[38;5;241m=\u001b[39m GlobalHydra\u001b[38;5;241m.\u001b[39minstance()\n\u001b[1;32m     33\u001b[0m \u001b[38;5;28;01massert\u001b[39;00m gh\u001b[38;5;241m.\u001b[39mhydra \u001b[38;5;129;01mis\u001b[39;00m \u001b[38;5;129;01mnot\u001b[39;00m \u001b[38;5;28;01mNone\u001b[39;00m\n\u001b[0;32m---> 34\u001b[0m cfg \u001b[38;5;241m=\u001b[39m \u001b[43mgh\u001b[49m\u001b[38;5;241;43m.\u001b[39;49m\u001b[43mhydra\u001b[49m\u001b[38;5;241;43m.\u001b[39;49m\u001b[43mcompose_config\u001b[49m\u001b[43m(\u001b[49m\n\u001b[1;32m     35\u001b[0m \u001b[43m    \u001b[49m\u001b[43mconfig_name\u001b[49m\u001b[38;5;241;43m=\u001b[39;49m\u001b[43mconfig_name\u001b[49m\u001b[43m,\u001b[49m\n\u001b[1;32m     36\u001b[0m \u001b[43m    \u001b[49m\u001b[43moverrides\u001b[49m\u001b[38;5;241;43m=\u001b[39;49m\u001b[43moverrides\u001b[49m\u001b[43m,\u001b[49m\n\u001b[1;32m     37\u001b[0m \u001b[43m    \u001b[49m\u001b[43mrun_mode\u001b[49m\u001b[38;5;241;43m=\u001b[39;49m\u001b[43mRunMode\u001b[49m\u001b[38;5;241;43m.\u001b[39;49m\u001b[43mRUN\u001b[49m\u001b[43m,\u001b[49m\n\u001b[1;32m     38\u001b[0m \u001b[43m    \u001b[49m\u001b[43mfrom_shell\u001b[49m\u001b[38;5;241;43m=\u001b[39;49m\u001b[38;5;28;43;01mFalse\u001b[39;49;00m\u001b[43m,\u001b[49m\n\u001b[1;32m     39\u001b[0m \u001b[43m    \u001b[49m\u001b[43mwith_log_configuration\u001b[49m\u001b[38;5;241;43m=\u001b[39;49m\u001b[38;5;28;43;01mFalse\u001b[39;49;00m\u001b[43m,\u001b[49m\n\u001b[1;32m     40\u001b[0m \u001b[43m\u001b[49m\u001b[43m)\u001b[49m\n\u001b[1;32m     41\u001b[0m \u001b[38;5;28;01massert\u001b[39;00m \u001b[38;5;28misinstance\u001b[39m(cfg, DictConfig)\n\u001b[1;32m     43\u001b[0m \u001b[38;5;28;01mif\u001b[39;00m \u001b[38;5;129;01mnot\u001b[39;00m return_hydra_config:\n",
      "File \u001b[0;32m~/miniconda3/envs/qct_deep_clone/lib/python3.9/site-packages/hydra/_internal/hydra.py:594\u001b[0m, in \u001b[0;36mHydra.compose_config\u001b[0;34m(self, config_name, overrides, run_mode, with_log_configuration, from_shell, validate_sweep_overrides)\u001b[0m\n\u001b[1;32m    576\u001b[0m \u001b[38;5;28;01mdef\u001b[39;00m \u001b[38;5;21mcompose_config\u001b[39m(\n\u001b[1;32m    577\u001b[0m     \u001b[38;5;28mself\u001b[39m,\n\u001b[1;32m    578\u001b[0m     config_name: Optional[\u001b[38;5;28mstr\u001b[39m],\n\u001b[0;32m   (...)\u001b[0m\n\u001b[1;32m    583\u001b[0m     validate_sweep_overrides: \u001b[38;5;28mbool\u001b[39m \u001b[38;5;241m=\u001b[39m \u001b[38;5;28;01mTrue\u001b[39;00m,\n\u001b[1;32m    584\u001b[0m ) \u001b[38;5;241m-\u001b[39m\u001b[38;5;241m>\u001b[39m DictConfig:\n\u001b[1;32m    585\u001b[0m     \u001b[38;5;124;03m\"\"\"\u001b[39;00m\n\u001b[1;32m    586\u001b[0m \u001b[38;5;124;03m    :param config_name:\u001b[39;00m\n\u001b[1;32m    587\u001b[0m \u001b[38;5;124;03m    :param overrides:\u001b[39;00m\n\u001b[0;32m   (...)\u001b[0m\n\u001b[1;32m    591\u001b[0m \u001b[38;5;124;03m    :return:\u001b[39;00m\n\u001b[1;32m    592\u001b[0m \u001b[38;5;124;03m    \"\"\"\u001b[39;00m\n\u001b[0;32m--> 594\u001b[0m     cfg \u001b[38;5;241m=\u001b[39m \u001b[38;5;28;43mself\u001b[39;49m\u001b[38;5;241;43m.\u001b[39;49m\u001b[43mconfig_loader\u001b[49m\u001b[38;5;241;43m.\u001b[39;49m\u001b[43mload_configuration\u001b[49m\u001b[43m(\u001b[49m\n\u001b[1;32m    595\u001b[0m \u001b[43m        \u001b[49m\u001b[43mconfig_name\u001b[49m\u001b[38;5;241;43m=\u001b[39;49m\u001b[43mconfig_name\u001b[49m\u001b[43m,\u001b[49m\n\u001b[1;32m    596\u001b[0m \u001b[43m        \u001b[49m\u001b[43moverrides\u001b[49m\u001b[38;5;241;43m=\u001b[39;49m\u001b[43moverrides\u001b[49m\u001b[43m,\u001b[49m\n\u001b[1;32m    597\u001b[0m \u001b[43m        \u001b[49m\u001b[43mrun_mode\u001b[49m\u001b[38;5;241;43m=\u001b[39;49m\u001b[43mrun_mode\u001b[49m\u001b[43m,\u001b[49m\n\u001b[1;32m    598\u001b[0m \u001b[43m        \u001b[49m\u001b[43mfrom_shell\u001b[49m\u001b[38;5;241;43m=\u001b[39;49m\u001b[43mfrom_shell\u001b[49m\u001b[43m,\u001b[49m\n\u001b[1;32m    599\u001b[0m \u001b[43m        \u001b[49m\u001b[43mvalidate_sweep_overrides\u001b[49m\u001b[38;5;241;43m=\u001b[39;49m\u001b[43mvalidate_sweep_overrides\u001b[49m\u001b[43m,\u001b[49m\n\u001b[1;32m    600\u001b[0m \u001b[43m    \u001b[49m\u001b[43m)\u001b[49m\n\u001b[1;32m    601\u001b[0m     \u001b[38;5;28;01mif\u001b[39;00m with_log_configuration:\n\u001b[1;32m    602\u001b[0m         configure_log(cfg\u001b[38;5;241m.\u001b[39mhydra\u001b[38;5;241m.\u001b[39mhydra_logging, cfg\u001b[38;5;241m.\u001b[39mhydra\u001b[38;5;241m.\u001b[39mverbose)\n",
      "File \u001b[0;32m~/miniconda3/envs/qct_deep_clone/lib/python3.9/site-packages/hydra/_internal/config_loader_impl.py:141\u001b[0m, in \u001b[0;36mConfigLoaderImpl.load_configuration\u001b[0;34m(self, config_name, overrides, run_mode, from_shell, validate_sweep_overrides)\u001b[0m\n\u001b[1;32m    132\u001b[0m \u001b[38;5;28;01mdef\u001b[39;00m \u001b[38;5;21mload_configuration\u001b[39m(\n\u001b[1;32m    133\u001b[0m     \u001b[38;5;28mself\u001b[39m,\n\u001b[1;32m    134\u001b[0m     config_name: Optional[\u001b[38;5;28mstr\u001b[39m],\n\u001b[0;32m   (...)\u001b[0m\n\u001b[1;32m    138\u001b[0m     validate_sweep_overrides: \u001b[38;5;28mbool\u001b[39m \u001b[38;5;241m=\u001b[39m \u001b[38;5;28;01mTrue\u001b[39;00m,\n\u001b[1;32m    139\u001b[0m ) \u001b[38;5;241m-\u001b[39m\u001b[38;5;241m>\u001b[39m DictConfig:\n\u001b[1;32m    140\u001b[0m     \u001b[38;5;28;01mtry\u001b[39;00m:\n\u001b[0;32m--> 141\u001b[0m         \u001b[38;5;28;01mreturn\u001b[39;00m \u001b[38;5;28;43mself\u001b[39;49m\u001b[38;5;241;43m.\u001b[39;49m\u001b[43m_load_configuration_impl\u001b[49m\u001b[43m(\u001b[49m\n\u001b[1;32m    142\u001b[0m \u001b[43m            \u001b[49m\u001b[43mconfig_name\u001b[49m\u001b[38;5;241;43m=\u001b[39;49m\u001b[43mconfig_name\u001b[49m\u001b[43m,\u001b[49m\n\u001b[1;32m    143\u001b[0m \u001b[43m            \u001b[49m\u001b[43moverrides\u001b[49m\u001b[38;5;241;43m=\u001b[39;49m\u001b[43moverrides\u001b[49m\u001b[43m,\u001b[49m\n\u001b[1;32m    144\u001b[0m \u001b[43m            \u001b[49m\u001b[43mrun_mode\u001b[49m\u001b[38;5;241;43m=\u001b[39;49m\u001b[43mrun_mode\u001b[49m\u001b[43m,\u001b[49m\n\u001b[1;32m    145\u001b[0m \u001b[43m            \u001b[49m\u001b[43mfrom_shell\u001b[49m\u001b[38;5;241;43m=\u001b[39;49m\u001b[43mfrom_shell\u001b[49m\u001b[43m,\u001b[49m\n\u001b[1;32m    146\u001b[0m \u001b[43m            \u001b[49m\u001b[43mvalidate_sweep_overrides\u001b[49m\u001b[38;5;241;43m=\u001b[39;49m\u001b[43mvalidate_sweep_overrides\u001b[49m\u001b[43m,\u001b[49m\n\u001b[1;32m    147\u001b[0m \u001b[43m        \u001b[49m\u001b[43m)\u001b[49m\n\u001b[1;32m    148\u001b[0m     \u001b[38;5;28;01mexcept\u001b[39;00m OmegaConfBaseException \u001b[38;5;28;01mas\u001b[39;00m e:\n\u001b[1;32m    149\u001b[0m         \u001b[38;5;28;01mraise\u001b[39;00m ConfigCompositionException()\u001b[38;5;241m.\u001b[39mwith_traceback(sys\u001b[38;5;241m.\u001b[39mexc_info()[\u001b[38;5;241m2\u001b[39m]) \u001b[38;5;28;01mfrom\u001b[39;00m \u001b[38;5;21;01me\u001b[39;00m\n",
      "File \u001b[0;32m~/miniconda3/envs/qct_deep_clone/lib/python3.9/site-packages/hydra/_internal/config_loader_impl.py:242\u001b[0m, in \u001b[0;36mConfigLoaderImpl._load_configuration_impl\u001b[0;34m(self, config_name, overrides, run_mode, from_shell, validate_sweep_overrides)\u001b[0m\n\u001b[1;32m    237\u001b[0m \u001b[38;5;28;01mif\u001b[39;00m validate_sweep_overrides:\n\u001b[1;32m    238\u001b[0m     \u001b[38;5;28mself\u001b[39m\u001b[38;5;241m.\u001b[39mvalidate_sweep_overrides_legal(\n\u001b[1;32m    239\u001b[0m         overrides\u001b[38;5;241m=\u001b[39mparsed_overrides, run_mode\u001b[38;5;241m=\u001b[39mrun_mode, from_shell\u001b[38;5;241m=\u001b[39mfrom_shell\n\u001b[1;32m    240\u001b[0m     )\n\u001b[0;32m--> 242\u001b[0m defaults_list \u001b[38;5;241m=\u001b[39m \u001b[43mcreate_defaults_list\u001b[49m\u001b[43m(\u001b[49m\n\u001b[1;32m    243\u001b[0m \u001b[43m    \u001b[49m\u001b[43mrepo\u001b[49m\u001b[38;5;241;43m=\u001b[39;49m\u001b[43mcaching_repo\u001b[49m\u001b[43m,\u001b[49m\n\u001b[1;32m    244\u001b[0m \u001b[43m    \u001b[49m\u001b[43mconfig_name\u001b[49m\u001b[38;5;241;43m=\u001b[39;49m\u001b[43mconfig_name\u001b[49m\u001b[43m,\u001b[49m\n\u001b[1;32m    245\u001b[0m \u001b[43m    \u001b[49m\u001b[43moverrides_list\u001b[49m\u001b[38;5;241;43m=\u001b[39;49m\u001b[43mparsed_overrides\u001b[49m\u001b[43m,\u001b[49m\n\u001b[1;32m    246\u001b[0m \u001b[43m    \u001b[49m\u001b[43mprepend_hydra\u001b[49m\u001b[38;5;241;43m=\u001b[39;49m\u001b[38;5;28;43;01mTrue\u001b[39;49;00m\u001b[43m,\u001b[49m\n\u001b[1;32m    247\u001b[0m \u001b[43m    \u001b[49m\u001b[43mskip_missing\u001b[49m\u001b[38;5;241;43m=\u001b[39;49m\u001b[43mrun_mode\u001b[49m\u001b[43m \u001b[49m\u001b[38;5;241;43m==\u001b[39;49m\u001b[43m \u001b[49m\u001b[43mRunMode\u001b[49m\u001b[38;5;241;43m.\u001b[39;49m\u001b[43mMULTIRUN\u001b[49m\u001b[43m,\u001b[49m\n\u001b[1;32m    248\u001b[0m \u001b[43m\u001b[49m\u001b[43m)\u001b[49m\n\u001b[1;32m    250\u001b[0m config_overrides \u001b[38;5;241m=\u001b[39m defaults_list\u001b[38;5;241m.\u001b[39mconfig_overrides\n\u001b[1;32m    252\u001b[0m cfg \u001b[38;5;241m=\u001b[39m \u001b[38;5;28mself\u001b[39m\u001b[38;5;241m.\u001b[39m_compose_config_from_defaults_list(\n\u001b[1;32m    253\u001b[0m     defaults\u001b[38;5;241m=\u001b[39mdefaults_list\u001b[38;5;241m.\u001b[39mdefaults, repo\u001b[38;5;241m=\u001b[39mcaching_repo\n\u001b[1;32m    254\u001b[0m )\n",
      "File \u001b[0;32m~/miniconda3/envs/qct_deep_clone/lib/python3.9/site-packages/hydra/_internal/defaults_list.py:757\u001b[0m, in \u001b[0;36mcreate_defaults_list\u001b[0;34m(repo, config_name, overrides_list, prepend_hydra, skip_missing)\u001b[0m\n\u001b[1;32m    749\u001b[0m overrides \u001b[38;5;241m=\u001b[39m Overrides(repo\u001b[38;5;241m=\u001b[39mrepo, overrides_list\u001b[38;5;241m=\u001b[39moverrides_list)\n\u001b[1;32m    750\u001b[0m defaults, tree \u001b[38;5;241m=\u001b[39m _create_defaults_list(\n\u001b[1;32m    751\u001b[0m     repo,\n\u001b[1;32m    752\u001b[0m     config_name,\n\u001b[0;32m   (...)\u001b[0m\n\u001b[1;32m    755\u001b[0m     skip_missing\u001b[38;5;241m=\u001b[39mskip_missing,\n\u001b[1;32m    756\u001b[0m )\n\u001b[0;32m--> 757\u001b[0m \u001b[43moverrides\u001b[49m\u001b[38;5;241;43m.\u001b[39;49m\u001b[43mensure_overrides_used\u001b[49m\u001b[43m(\u001b[49m\u001b[43m)\u001b[49m\n\u001b[1;32m    758\u001b[0m overrides\u001b[38;5;241m.\u001b[39mensure_deletions_used()\n\u001b[1;32m    759\u001b[0m \u001b[38;5;28;01mreturn\u001b[39;00m DefaultsList(\n\u001b[1;32m    760\u001b[0m     defaults\u001b[38;5;241m=\u001b[39mdefaults,\n\u001b[1;32m    761\u001b[0m     config_overrides\u001b[38;5;241m=\u001b[39moverrides\u001b[38;5;241m.\u001b[39mconfig_overrides,\n\u001b[1;32m    762\u001b[0m     defaults_tree\u001b[38;5;241m=\u001b[39mtree,\n\u001b[1;32m    763\u001b[0m     overrides\u001b[38;5;241m=\u001b[39moverrides,\n\u001b[1;32m    764\u001b[0m )\n",
      "File \u001b[0;32m~/miniconda3/envs/qct_deep_clone/lib/python3.9/site-packages/hydra/_internal/defaults_list.py:168\u001b[0m, in \u001b[0;36mOverrides.ensure_overrides_used\u001b[0;34m(self)\u001b[0m\n\u001b[1;32m    165\u001b[0m \u001b[38;5;28;01mif\u001b[39;00m meta\u001b[38;5;241m.\u001b[39mexternal_override:\n\u001b[1;32m    166\u001b[0m     msg \u001b[38;5;241m+\u001b[39m\u001b[38;5;241m=\u001b[39m \u001b[38;5;124mf\u001b[39m\u001b[38;5;124m\"\u001b[39m\u001b[38;5;130;01m\\n\u001b[39;00m\u001b[38;5;124mTo append to your default list use +\u001b[39m\u001b[38;5;132;01m{\u001b[39;00mkey\u001b[38;5;132;01m}\u001b[39;00m\u001b[38;5;124m=\u001b[39m\u001b[38;5;132;01m{\u001b[39;00m\u001b[38;5;28mself\u001b[39m\u001b[38;5;241m.\u001b[39moverride_choices[key]\u001b[38;5;132;01m}\u001b[39;00m\u001b[38;5;124m\"\u001b[39m\n\u001b[0;32m--> 168\u001b[0m \u001b[38;5;28;01mraise\u001b[39;00m ConfigCompositionException(msg)\n",
      "\u001b[0;31mConfigCompositionException\u001b[0m: In 'mae3d.yaml': Could not override 'datamodule'. No match in the defaults list."
     ]
    }
   ],
   "source": [
    "hydra.core.global_hydra.GlobalHydra.instance().clear()\n",
    "hydra.initialize(\"../configs/experiment/\", version_base=\"1.2\")\n",
    "model_config = hydra.compose(\"mae3d.yaml\")"
   ]
  },
  {
   "cell_type": "code",
   "execution_count": 3,
   "id": "cd3740eb",
   "metadata": {},
   "outputs": [
    {
     "data": {
      "text/plain": [
       "{'optimizer': {'_target_': 'torch.optim.SGD', '_partial_': True, 'lr': 0.1, 'weight_decay': 0.0001, 'momentum': 0.9}, 'scheduler': {'_target_': 'torch.optim.lr_scheduler.OneCycleLR', '_partial_': True, 'max_lr': 0.5, 'epochs': '${trainer.max_epochs}'}, 'model': {'net': {'_target_': 'src.common.nn_modules.nets.classifiers.qnet.Qnet', 'num_classes': 2, 'encoder_channels': [1, 16, 32, 64, 128], 'return_feats': False}}, '_target_': 'src.models.combined_module.CombinedLitModule', 'activation': {'_target_': 'torch.nn.Softmax', 'dim': 1}, 'metric': {'_target_': 'src.metrics.classification.class_metrics.ClassificationMetrics', 'num_classes': 2, 'ignore_index': -100}, 'criterion': {'_target_': 'src.common.nn_modules.losses.cross_entropy_loss.CrossEntropyLossFunc', 'ignore_index': -100, 'weights': {'_target_': 'torch.tensor', 'data': [1.0, 3.0]}}, 'additional_keys': None, 'subgroups_keys': None, 'image_key': 'image', 'label_keys': 'label'}"
      ]
     },
     "execution_count": 3,
     "metadata": {},
     "output_type": "execute_result"
    }
   ],
   "source": [
    "model_config"
   ]
  },
  {
   "cell_type": "code",
   "execution_count": 4,
   "id": "260152cb",
   "metadata": {},
   "outputs": [
    {
     "data": {
      "text/plain": [
       "{'_target_': 'src.common.nn_modules.nets.classifiers.qnet.Qnet', 'num_classes': 2, 'encoder_channels': [1, 16, 32, 64, 128], 'return_feats': False}"
      ]
     },
     "execution_count": 4,
     "metadata": {},
     "output_type": "execute_result"
    }
   ],
   "source": [
    "model_config['model']['net']"
   ]
  },
  {
   "cell_type": "code",
   "execution_count": 4,
   "id": "7d8019b6",
   "metadata": {},
   "outputs": [
    {
     "name": "stderr",
     "output_type": "stream",
     "text": [
      "/home/users/shubham.kumar/miniconda3/envs/qct_deep_clone/lib/python3.9/site-packages/torchvision/io/image.py:13: UserWarning: Failed to load image Python extension: libtorch_cuda_cu.so: cannot open shared object file: No such file or directory\n",
      "  warn(f\"Failed to load image Python extension: {e}\")\n"
     ]
    },
    {
     "ename": "InstantiationException",
     "evalue": "Error locating target 'src.common.nn_modules.nets.classifiers.qnet.Qnet', see chained exception above.\nfull_key: model.net",
     "output_type": "error",
     "traceback": [
      "\u001b[0;31m---------------------------------------------------------------------------\u001b[0m",
      "\u001b[0;31mAttributeError\u001b[0m                            Traceback (most recent call last)",
      "File \u001b[0;32m~/miniconda3/envs/qct_deep_clone/lib/python3.9/site-packages/hydra/_internal/utils.py:639\u001b[0m, in \u001b[0;36m_locate\u001b[0;34m(path)\u001b[0m\n\u001b[1;32m    638\u001b[0m \u001b[38;5;28;01mtry\u001b[39;00m:\n\u001b[0;32m--> 639\u001b[0m     obj \u001b[38;5;241m=\u001b[39m \u001b[38;5;28;43mgetattr\u001b[39;49m\u001b[43m(\u001b[49m\u001b[43mobj\u001b[49m\u001b[43m,\u001b[49m\u001b[43m \u001b[49m\u001b[43mpart\u001b[49m\u001b[43m)\u001b[49m\n\u001b[1;32m    640\u001b[0m \u001b[38;5;28;01mexcept\u001b[39;00m \u001b[38;5;167;01mAttributeError\u001b[39;00m \u001b[38;5;28;01mas\u001b[39;00m exc_attr:\n",
      "\u001b[0;31mAttributeError\u001b[0m: module 'src.common.nn_modules.nets.classifiers' has no attribute 'qnet'",
      "\nDuring handling of the above exception, another exception occurred:\n",
      "\u001b[0;31mModuleNotFoundError\u001b[0m                       Traceback (most recent call last)",
      "File \u001b[0;32m~/miniconda3/envs/qct_deep_clone/lib/python3.9/site-packages/hydra/_internal/utils.py:645\u001b[0m, in \u001b[0;36m_locate\u001b[0;34m(path)\u001b[0m\n\u001b[1;32m    644\u001b[0m \u001b[38;5;28;01mtry\u001b[39;00m:\n\u001b[0;32m--> 645\u001b[0m     obj \u001b[38;5;241m=\u001b[39m \u001b[43mimport_module\u001b[49m\u001b[43m(\u001b[49m\u001b[43mmod\u001b[49m\u001b[43m)\u001b[49m\n\u001b[1;32m    646\u001b[0m     \u001b[38;5;28;01mcontinue\u001b[39;00m\n",
      "File \u001b[0;32m~/miniconda3/envs/qct_deep_clone/lib/python3.9/importlib/__init__.py:127\u001b[0m, in \u001b[0;36mimport_module\u001b[0;34m(name, package)\u001b[0m\n\u001b[1;32m    126\u001b[0m         level \u001b[38;5;241m+\u001b[39m\u001b[38;5;241m=\u001b[39m \u001b[38;5;241m1\u001b[39m\n\u001b[0;32m--> 127\u001b[0m \u001b[38;5;28;01mreturn\u001b[39;00m \u001b[43m_bootstrap\u001b[49m\u001b[38;5;241;43m.\u001b[39;49m\u001b[43m_gcd_import\u001b[49m\u001b[43m(\u001b[49m\u001b[43mname\u001b[49m\u001b[43m[\u001b[49m\u001b[43mlevel\u001b[49m\u001b[43m:\u001b[49m\u001b[43m]\u001b[49m\u001b[43m,\u001b[49m\u001b[43m \u001b[49m\u001b[43mpackage\u001b[49m\u001b[43m,\u001b[49m\u001b[43m \u001b[49m\u001b[43mlevel\u001b[49m\u001b[43m)\u001b[49m\n",
      "File \u001b[0;32m<frozen importlib._bootstrap>:1030\u001b[0m, in \u001b[0;36m_gcd_import\u001b[0;34m(name, package, level)\u001b[0m\n",
      "File \u001b[0;32m<frozen importlib._bootstrap>:1007\u001b[0m, in \u001b[0;36m_find_and_load\u001b[0;34m(name, import_)\u001b[0m\n",
      "File \u001b[0;32m<frozen importlib._bootstrap>:986\u001b[0m, in \u001b[0;36m_find_and_load_unlocked\u001b[0;34m(name, import_)\u001b[0m\n",
      "File \u001b[0;32m<frozen importlib._bootstrap>:680\u001b[0m, in \u001b[0;36m_load_unlocked\u001b[0;34m(spec)\u001b[0m\n",
      "File \u001b[0;32m<frozen importlib._bootstrap_external>:850\u001b[0m, in \u001b[0;36mexec_module\u001b[0;34m(self, module)\u001b[0m\n",
      "File \u001b[0;32m<frozen importlib._bootstrap>:228\u001b[0m, in \u001b[0;36m_call_with_frames_removed\u001b[0;34m(f, *args, **kwds)\u001b[0m\n",
      "File \u001b[0;32m~/projects/qct_training_framework/src/common/nn_modules/nets/classifiers/qnet.py:6\u001b[0m\n\u001b[1;32m      4\u001b[0m \u001b[38;5;28;01mimport\u001b[39;00m \u001b[38;5;21;01mtorch\u001b[39;00m\u001b[38;5;21;01m.\u001b[39;00m\u001b[38;5;21;01mnn\u001b[39;00m \u001b[38;5;28;01mas\u001b[39;00m \u001b[38;5;21;01mnn\u001b[39;00m\n\u001b[0;32m----> 6\u001b[0m \u001b[38;5;28;01mfrom\u001b[39;00m \u001b[38;5;21;01msrc\u001b[39;00m\u001b[38;5;21;01m.\u001b[39;00m\u001b[38;5;21;01mcommon\u001b[39;00m\u001b[38;5;21;01m.\u001b[39;00m\u001b[38;5;21;01mnn_modules\u001b[39;00m\u001b[38;5;21;01m.\u001b[39;00m\u001b[38;5;21;01mnets\u001b[39;00m\u001b[38;5;21;01m.\u001b[39;00m\u001b[38;5;21;01mutils\u001b[39;00m\u001b[38;5;21;01m.\u001b[39;00m\u001b[38;5;21;01mlayers\u001b[39;00m \u001b[38;5;28;01mimport\u001b[39;00m SELayer\n\u001b[1;32m      8\u001b[0m \u001b[38;5;28;01mfrom\u001b[39;00m \u001b[38;5;21;01m.\u001b[39;00m\u001b[38;5;21;01m.\u001b[39;00m\u001b[38;5;21;01mutils\u001b[39;00m\u001b[38;5;21;01m.\u001b[39;00m\u001b[38;5;21;01mconvert_3d\u001b[39;00m \u001b[38;5;28;01mimport\u001b[39;00m convert_3d\n",
      "File \u001b[0;32m~/projects/qct_training_framework/src/common/nn_modules/nets/utils/layers.py:9\u001b[0m\n\u001b[1;32m      8\u001b[0m \u001b[38;5;28;01mfrom\u001b[39;00m \u001b[38;5;21;01mdropblock\u001b[39;00m \u001b[38;5;28;01mimport\u001b[39;00m DropBlock3D, LinearScheduler\n\u001b[0;32m----> 9\u001b[0m \u001b[38;5;28;01mfrom\u001b[39;00m \u001b[38;5;21;01mtimm\u001b[39;00m\u001b[38;5;21;01m.\u001b[39;00m\u001b[38;5;21;01mmodels\u001b[39;00m\u001b[38;5;21;01m.\u001b[39;00m\u001b[38;5;21;01mlayers\u001b[39;00m\u001b[38;5;21;01m.\u001b[39;00m\u001b[38;5;21;01mfast_norm\u001b[39;00m \u001b[38;5;28;01mimport\u001b[39;00m fast_layer_norm, is_fast_norm\n\u001b[1;32m     12\u001b[0m \u001b[38;5;28;01mclass\u001b[39;00m \u001b[38;5;21;01mSELayer\u001b[39;00m(nn\u001b[38;5;241m.\u001b[39mModule):\n",
      "\u001b[0;31mModuleNotFoundError\u001b[0m: No module named 'timm.models.layers.fast_norm'",
      "\nThe above exception was the direct cause of the following exception:\n",
      "\u001b[0;31mImportError\u001b[0m                               Traceback (most recent call last)",
      "File \u001b[0;32m~/miniconda3/envs/qct_deep_clone/lib/python3.9/site-packages/hydra/_internal/instantiate/_instantiate2.py:134\u001b[0m, in \u001b[0;36m_resolve_target\u001b[0;34m(target, full_key)\u001b[0m\n\u001b[1;32m    133\u001b[0m \u001b[38;5;28;01mtry\u001b[39;00m:\n\u001b[0;32m--> 134\u001b[0m     target \u001b[38;5;241m=\u001b[39m \u001b[43m_locate\u001b[49m\u001b[43m(\u001b[49m\u001b[43mtarget\u001b[49m\u001b[43m)\u001b[49m\n\u001b[1;32m    135\u001b[0m \u001b[38;5;28;01mexcept\u001b[39;00m \u001b[38;5;167;01mException\u001b[39;00m \u001b[38;5;28;01mas\u001b[39;00m e:\n",
      "File \u001b[0;32m~/miniconda3/envs/qct_deep_clone/lib/python3.9/site-packages/hydra/_internal/utils.py:648\u001b[0m, in \u001b[0;36m_locate\u001b[0;34m(path)\u001b[0m\n\u001b[1;32m    647\u001b[0m \u001b[38;5;28;01mexcept\u001b[39;00m \u001b[38;5;167;01mModuleNotFoundError\u001b[39;00m \u001b[38;5;28;01mas\u001b[39;00m exc_import:\n\u001b[0;32m--> 648\u001b[0m     \u001b[38;5;28;01mraise\u001b[39;00m \u001b[38;5;167;01mImportError\u001b[39;00m(\n\u001b[1;32m    649\u001b[0m         \u001b[38;5;124mf\u001b[39m\u001b[38;5;124m\"\u001b[39m\u001b[38;5;124mError loading \u001b[39m\u001b[38;5;124m'\u001b[39m\u001b[38;5;132;01m{\u001b[39;00mpath\u001b[38;5;132;01m}\u001b[39;00m\u001b[38;5;124m'\u001b[39m\u001b[38;5;124m:\u001b[39m\u001b[38;5;130;01m\\n\u001b[39;00m\u001b[38;5;132;01m{\u001b[39;00m\u001b[38;5;28mrepr\u001b[39m(exc_import)\u001b[38;5;132;01m}\u001b[39;00m\u001b[38;5;124m\"\u001b[39m\n\u001b[1;32m    650\u001b[0m         \u001b[38;5;241m+\u001b[39m \u001b[38;5;124mf\u001b[39m\u001b[38;5;124m\"\u001b[39m\u001b[38;5;130;01m\\n\u001b[39;00m\u001b[38;5;124mAre you sure that \u001b[39m\u001b[38;5;124m'\u001b[39m\u001b[38;5;132;01m{\u001b[39;00mpart\u001b[38;5;132;01m}\u001b[39;00m\u001b[38;5;124m'\u001b[39m\u001b[38;5;124m is importable from module \u001b[39m\u001b[38;5;124m'\u001b[39m\u001b[38;5;132;01m{\u001b[39;00mparent_dotpath\u001b[38;5;132;01m}\u001b[39;00m\u001b[38;5;124m'\u001b[39m\u001b[38;5;124m?\u001b[39m\u001b[38;5;124m\"\u001b[39m\n\u001b[1;32m    651\u001b[0m     ) \u001b[38;5;28;01mfrom\u001b[39;00m \u001b[38;5;21;01mexc_import\u001b[39;00m\n\u001b[1;32m    652\u001b[0m \u001b[38;5;28;01mexcept\u001b[39;00m \u001b[38;5;167;01mException\u001b[39;00m \u001b[38;5;28;01mas\u001b[39;00m exc_import:\n",
      "\u001b[0;31mImportError\u001b[0m: Error loading 'src.common.nn_modules.nets.classifiers.qnet.Qnet':\nModuleNotFoundError(\"No module named 'timm.models.layers.fast_norm'\")\nAre you sure that 'qnet' is importable from module 'src.common.nn_modules.nets.classifiers'?",
      "\nThe above exception was the direct cause of the following exception:\n",
      "\u001b[0;31mInstantiationException\u001b[0m                    Traceback (most recent call last)",
      "Cell \u001b[0;32mIn [4], line 1\u001b[0m\n\u001b[0;32m----> 1\u001b[0m model \u001b[38;5;241m=\u001b[39m \u001b[43mhydra\u001b[49m\u001b[38;5;241;43m.\u001b[39;49m\u001b[43mutils\u001b[49m\u001b[38;5;241;43m.\u001b[39;49m\u001b[43minstantiate\u001b[49m\u001b[43m(\u001b[49m\u001b[43mmodel_config\u001b[49m\u001b[43m[\u001b[49m\u001b[38;5;124;43m'\u001b[39;49m\u001b[38;5;124;43mmodel\u001b[39;49m\u001b[38;5;124;43m'\u001b[39;49m\u001b[43m]\u001b[49m\u001b[43m[\u001b[49m\u001b[38;5;124;43m'\u001b[39;49m\u001b[38;5;124;43mnet\u001b[39;49m\u001b[38;5;124;43m'\u001b[39;49m\u001b[43m]\u001b[49m\u001b[43m)\u001b[49m\n",
      "File \u001b[0;32m~/miniconda3/envs/qct_deep_clone/lib/python3.9/site-packages/hydra/_internal/instantiate/_instantiate2.py:222\u001b[0m, in \u001b[0;36minstantiate\u001b[0;34m(config, *args, **kwargs)\u001b[0m\n\u001b[1;32m    219\u001b[0m     _convert_ \u001b[38;5;241m=\u001b[39m config\u001b[38;5;241m.\u001b[39mpop(_Keys\u001b[38;5;241m.\u001b[39mCONVERT, ConvertMode\u001b[38;5;241m.\u001b[39mNONE)\n\u001b[1;32m    220\u001b[0m     _partial_ \u001b[38;5;241m=\u001b[39m config\u001b[38;5;241m.\u001b[39mpop(_Keys\u001b[38;5;241m.\u001b[39mPARTIAL, \u001b[38;5;28;01mFalse\u001b[39;00m)\n\u001b[0;32m--> 222\u001b[0m     \u001b[38;5;28;01mreturn\u001b[39;00m \u001b[43minstantiate_node\u001b[49m\u001b[43m(\u001b[49m\n\u001b[1;32m    223\u001b[0m \u001b[43m        \u001b[49m\u001b[43mconfig\u001b[49m\u001b[43m,\u001b[49m\u001b[43m \u001b[49m\u001b[38;5;241;43m*\u001b[39;49m\u001b[43margs\u001b[49m\u001b[43m,\u001b[49m\u001b[43m \u001b[49m\u001b[43mrecursive\u001b[49m\u001b[38;5;241;43m=\u001b[39;49m\u001b[43m_recursive_\u001b[49m\u001b[43m,\u001b[49m\u001b[43m \u001b[49m\u001b[43mconvert\u001b[49m\u001b[38;5;241;43m=\u001b[39;49m\u001b[43m_convert_\u001b[49m\u001b[43m,\u001b[49m\u001b[43m \u001b[49m\u001b[43mpartial\u001b[49m\u001b[38;5;241;43m=\u001b[39;49m\u001b[43m_partial_\u001b[49m\n\u001b[1;32m    224\u001b[0m \u001b[43m    \u001b[49m\u001b[43m)\u001b[49m\n\u001b[1;32m    225\u001b[0m \u001b[38;5;28;01melif\u001b[39;00m OmegaConf\u001b[38;5;241m.\u001b[39mis_list(config):\n\u001b[1;32m    226\u001b[0m     \u001b[38;5;66;03m# Finalize config (convert targets to strings, merge with kwargs)\u001b[39;00m\n\u001b[1;32m    227\u001b[0m     config_copy \u001b[38;5;241m=\u001b[39m copy\u001b[38;5;241m.\u001b[39mdeepcopy(config)\n",
      "File \u001b[0;32m~/miniconda3/envs/qct_deep_clone/lib/python3.9/site-packages/hydra/_internal/instantiate/_instantiate2.py:325\u001b[0m, in \u001b[0;36minstantiate_node\u001b[0;34m(node, convert, recursive, partial, *args)\u001b[0m\n\u001b[1;32m    323\u001b[0m exclude_keys \u001b[38;5;241m=\u001b[39m \u001b[38;5;28mset\u001b[39m({\u001b[38;5;124m\"\u001b[39m\u001b[38;5;124m_target_\u001b[39m\u001b[38;5;124m\"\u001b[39m, \u001b[38;5;124m\"\u001b[39m\u001b[38;5;124m_convert_\u001b[39m\u001b[38;5;124m\"\u001b[39m, \u001b[38;5;124m\"\u001b[39m\u001b[38;5;124m_recursive_\u001b[39m\u001b[38;5;124m\"\u001b[39m, \u001b[38;5;124m\"\u001b[39m\u001b[38;5;124m_partial_\u001b[39m\u001b[38;5;124m\"\u001b[39m})\n\u001b[1;32m    324\u001b[0m \u001b[38;5;28;01mif\u001b[39;00m _is_target(node):\n\u001b[0;32m--> 325\u001b[0m     _target_ \u001b[38;5;241m=\u001b[39m \u001b[43m_resolve_target\u001b[49m\u001b[43m(\u001b[49m\u001b[43mnode\u001b[49m\u001b[38;5;241;43m.\u001b[39;49m\u001b[43mget\u001b[49m\u001b[43m(\u001b[49m\u001b[43m_Keys\u001b[49m\u001b[38;5;241;43m.\u001b[39;49m\u001b[43mTARGET\u001b[49m\u001b[43m)\u001b[49m\u001b[43m,\u001b[49m\u001b[43m \u001b[49m\u001b[43mfull_key\u001b[49m\u001b[43m)\u001b[49m\n\u001b[1;32m    326\u001b[0m     kwargs \u001b[38;5;241m=\u001b[39m {}\n\u001b[1;32m    327\u001b[0m     is_partial \u001b[38;5;241m=\u001b[39m node\u001b[38;5;241m.\u001b[39mget(\u001b[38;5;124m\"\u001b[39m\u001b[38;5;124m_partial_\u001b[39m\u001b[38;5;124m\"\u001b[39m, \u001b[38;5;28;01mFalse\u001b[39;00m) \u001b[38;5;129;01mor\u001b[39;00m partial\n",
      "File \u001b[0;32m~/miniconda3/envs/qct_deep_clone/lib/python3.9/site-packages/hydra/_internal/instantiate/_instantiate2.py:139\u001b[0m, in \u001b[0;36m_resolve_target\u001b[0;34m(target, full_key)\u001b[0m\n\u001b[1;32m    137\u001b[0m         \u001b[38;5;28;01mif\u001b[39;00m full_key:\n\u001b[1;32m    138\u001b[0m             msg \u001b[38;5;241m+\u001b[39m\u001b[38;5;241m=\u001b[39m \u001b[38;5;124mf\u001b[39m\u001b[38;5;124m\"\u001b[39m\u001b[38;5;130;01m\\n\u001b[39;00m\u001b[38;5;124mfull_key: \u001b[39m\u001b[38;5;132;01m{\u001b[39;00mfull_key\u001b[38;5;132;01m}\u001b[39;00m\u001b[38;5;124m\"\u001b[39m\n\u001b[0;32m--> 139\u001b[0m         \u001b[38;5;28;01mraise\u001b[39;00m InstantiationException(msg) \u001b[38;5;28;01mfrom\u001b[39;00m \u001b[38;5;21;01me\u001b[39;00m\n\u001b[1;32m    140\u001b[0m \u001b[38;5;28;01mif\u001b[39;00m \u001b[38;5;129;01mnot\u001b[39;00m callable(target):\n\u001b[1;32m    141\u001b[0m     msg \u001b[38;5;241m=\u001b[39m \u001b[38;5;124mf\u001b[39m\u001b[38;5;124m\"\u001b[39m\u001b[38;5;124mExpected a callable target, got \u001b[39m\u001b[38;5;124m'\u001b[39m\u001b[38;5;132;01m{\u001b[39;00mtarget\u001b[38;5;132;01m}\u001b[39;00m\u001b[38;5;124m'\u001b[39m\u001b[38;5;124m of type \u001b[39m\u001b[38;5;124m'\u001b[39m\u001b[38;5;132;01m{\u001b[39;00m\u001b[38;5;28mtype\u001b[39m(target)\u001b[38;5;241m.\u001b[39m\u001b[38;5;18m__name__\u001b[39m\u001b[38;5;132;01m}\u001b[39;00m\u001b[38;5;124m'\u001b[39m\u001b[38;5;124m\"\u001b[39m\n",
      "\u001b[0;31mInstantiationException\u001b[0m: Error locating target 'src.common.nn_modules.nets.classifiers.qnet.Qnet', see chained exception above.\nfull_key: model.net"
     ]
    }
   ],
   "source": [
    "model = hydra.utils.instantiate(model_config['model']['net'])"
   ]
  },
  {
   "cell_type": "code",
   "execution_count": 6,
   "id": "d5a431e6",
   "metadata": {},
   "outputs": [],
   "source": [
    "ckpt_path = \"/data_nas5/qer/shubham/fpr_sl_checkpoints/fpr_sl/runs/2023-12-11_20-07-27/checkpoints/epoch=28_step=667_val_loss=0.09.ckpt\"\n",
    "\n"
   ]
  },
  {
   "cell_type": "code",
   "execution_count": 7,
   "id": "88ea4392",
   "metadata": {},
   "outputs": [],
   "source": [
    "from src.common.nn_modules.nets.segmentation.multitaskfusion import modify_model_state_dict"
   ]
  },
  {
   "cell_type": "code",
   "execution_count": 8,
   "id": "2bbfe175",
   "metadata": {},
   "outputs": [
    {
     "data": {
      "text/plain": [
       "<All keys matched successfully>"
      ]
     },
     "execution_count": 8,
     "metadata": {},
     "output_type": "execute_result"
    }
   ],
   "source": [
    "k= torch.load(ckpt_path, map_location = \"cpu\")\n",
    "state_dict = k['state_dict']\n",
    "new_state_dict = modify_model_state_dict(state_dict , \"net.\" , \"\")\n",
    "\n",
    "model.load_state_dict(new_state_dict)"
   ]
  },
  {
   "cell_type": "code",
   "execution_count": 9,
   "id": "b8c3c084",
   "metadata": {},
   "outputs": [],
   "source": [
    "model = model.to(\"cuda:1\")"
   ]
  },
  {
   "cell_type": "code",
   "execution_count": 10,
   "id": "4284ed96",
   "metadata": {},
   "outputs": [],
   "source": [
    "hydra.core.global_hydra.GlobalHydra.instance().clear()\n",
    "hydra.initialize(\"../configs/datamodule/\", version_base=\"1.2\")\n",
    "data_module = hydra.compose(\"fpr_mae_datamodule.yaml\")"
   ]
  },
  {
   "cell_type": "code",
   "execution_count": 11,
   "id": "747f72c7",
   "metadata": {},
   "outputs": [
    {
     "data": {
      "text/plain": [
       "{'transforms': {'val_transforms': {'_target_': 'monai.transforms.Compose', 'transforms': [{'_target_': 'src.common.transforms.monai_extras.LoadSafeTensor', 'image_key': 'image'}, {'_target_': 'src.common.transforms.monai_extras.ApplyWindowsChannelWise', 'keys': ['image'], 'windows': ['LungA']}]}, 'train_transforms': {'_target_': 'monai.transforms.Compose', 'transforms': [{'_target_': 'src.common.transforms.monai_extras.LoadSafeTensor', 'image_key': 'image'}, {'_target_': 'src.common.transforms.monai_extras.ApplyWindowsChannelWise', 'keys': ['image'], 'windows': ['LungA']}, {'_target_': 'src.common.transforms.monai_extras.RandomHorizontalFlip', 'keys': ['image'], 'prob': 0.5}, {'_target_': 'src.common.transforms.monai_extras.RandomGaussianBlur', 'keys': ['image'], 'kernel_size': 3, 'sigma': [0.1, 2.0], 'prob': 0.5}]}}, '_target_': 'src.datamodules.base_dataloader.MetaClsDataModule', 'data_cfg': {'data_extract_func': 'videomae_data_loader', 'csvs': ['/home/users/shubham.kumar/projects/qct_training_framework/notebooks/fpr_nlst.csv'], 'directorys': ['/cache/fast_data_nas8/qct/shubham/fpr_cache_nlst/'], 'frac': 1, 'oversample_ratios': None}, 'dataloader_cfg': {'batch_size': 32, 'num_workers': 16, 'sample': False, 'sample_fusion': False}}"
      ]
     },
     "execution_count": 11,
     "metadata": {},
     "output_type": "execute_result"
    }
   ],
   "source": [
    "data_module"
   ]
  },
  {
   "cell_type": "code",
   "execution_count": 12,
   "id": "f769c376",
   "metadata": {},
   "outputs": [
    {
     "name": "stdout",
     "output_type": "stream",
     "text": [
      "Unable to find logging config yaml. Configuring fallback values\n",
      "[2023-12-14 16:44:31 +0530] [WARNING] Invalid or unsupported selector 'select:not(:has(option[selected])) option:first-of-type,\n",
      "option[selected]:not(option[selected] ~ option[selected]) ', ('Unknown pseudo-class', 'has')\n"
     ]
    },
    {
     "name": "stderr",
     "output_type": "stream",
     "text": [
      "2023-12-14 16:44:33.467 | INFO     | src.datamodules.base_dataloader:setup:56 - Train set Length: 4715\n",
      "2023-12-14 16:44:33.469 | INFO     | src.datamodules.base_dataloader:setup:57 - Val set Length: 834\n",
      "2023-12-14 16:44:33.469 | INFO     | src.datamodules.base_dataloader:setup:64 - Test set Length: 0\n"
     ]
    }
   ],
   "source": [
    "datamodule = hydra.utils.instantiate(data_module)"
   ]
  },
  {
   "cell_type": "code",
   "execution_count": 13,
   "id": "c5f47e7b",
   "metadata": {},
   "outputs": [],
   "source": [
    "train_ds = datamodule.train_ds\n",
    "val_ds = datamodule.val_ds\n",
    "# test_ds = datamodule.test_ds"
   ]
  },
  {
   "cell_type": "code",
   "execution_count": 14,
   "id": "67fdbfce",
   "metadata": {},
   "outputs": [],
   "source": [
    "from torch.utils.data import DataLoader"
   ]
  },
  {
   "cell_type": "code",
   "execution_count": 15,
   "id": "e6605aba",
   "metadata": {},
   "outputs": [],
   "source": [
    "dataloader = DataLoader(\n",
    "    train_ds,\n",
    "    batch_size= 32,\n",
    "    shuffle=False,\n",
    "    num_workers=16,\n",
    "    drop_last=True,\n",
    "    pin_memory=True,\n",
    ")\n"
   ]
  },
  {
   "cell_type": "code",
   "execution_count": 18,
   "id": "cf83bad7",
   "metadata": {},
   "outputs": [],
   "source": [
    "activation = torch.nn.Softmax(dim = 1)"
   ]
  },
  {
   "cell_type": "code",
   "execution_count": 20,
   "id": "258d3719",
   "metadata": {},
   "outputs": [],
   "source": [
    "result = []\n",
    "for batch in dataloader :\n",
    "    image = batch[\"image\"].to(\"cuda:1\")\n",
    "    output = activation(model.forward(image))[:,0].detach().cpu1()\n",
    "    result.append(output)"
   ]
  },
  {
   "cell_type": "code",
   "execution_count": 21,
   "id": "77918d41",
   "metadata": {},
   "outputs": [],
   "source": [
    "final_out = torch.concat(result)"
   ]
  },
  {
   "cell_type": "code",
   "execution_count": 22,
   "id": "9209e4a1",
   "metadata": {},
   "outputs": [
    {
     "data": {
      "text/plain": [
       "torch.Size([4704])"
      ]
     },
     "execution_count": 22,
     "metadata": {},
     "output_type": "execute_result"
    }
   ],
   "source": [
    "final_out.shape"
   ]
  },
  {
   "cell_type": "code",
   "execution_count": 23,
   "id": "30570537",
   "metadata": {},
   "outputs": [
    {
     "data": {
      "text/plain": [
       "3033"
      ]
     },
     "execution_count": 23,
     "metadata": {},
     "output_type": "execute_result"
    }
   ],
   "source": [
    "len(final_out[final_out > 0.5])"
   ]
  },
  {
   "cell_type": "code",
   "execution_count": null,
   "id": "d2511891",
   "metadata": {},
   "outputs": [],
   "source": []
  },
  {
   "cell_type": "code",
   "execution_count": 65,
   "id": "5e9fdeec",
   "metadata": {},
   "outputs": [
    {
     "data": {
      "text/plain": [
       "514107"
      ]
     },
     "execution_count": 65,
     "metadata": {},
     "output_type": "execute_result"
    }
   ],
   "source": [
    "len(final_out[final_out < 0.5])"
   ]
  },
  {
   "cell_type": "code",
   "execution_count": 49,
   "id": "fad6ade9",
   "metadata": {},
   "outputs": [],
   "source": [
    "specificity = 116381/117952"
   ]
  },
  {
   "cell_type": "code",
   "execution_count": 50,
   "id": "a128a917",
   "metadata": {},
   "outputs": [
    {
     "data": {
      "text/plain": [
       "0.9866810227889311"
      ]
     },
     "execution_count": 50,
     "metadata": {},
     "output_type": "execute_result"
    }
   ],
   "source": [
    "specificity"
   ]
  },
  {
   "cell_type": "code",
   "execution_count": 58,
   "id": "72b6c041",
   "metadata": {},
   "outputs": [
    {
     "data": {
      "text/plain": [
       "0.9849509947337625"
      ]
     },
     "execution_count": 58,
     "metadata": {},
     "output_type": "execute_result"
    }
   ],
   "source": [
    "specificity = len(final_out[final_out < 0.5])/final_out.shape[0]\n",
    "specificity"
   ]
  },
  {
   "cell_type": "code",
   "execution_count": 66,
   "id": "031f05ec",
   "metadata": {},
   "outputs": [
    {
     "data": {
      "text/plain": [
       "0.9744552526232789"
      ]
     },
     "execution_count": 66,
     "metadata": {},
     "output_type": "execute_result"
    }
   ],
   "source": [
    "specificity = len(final_out[final_out < 0.5])/final_out.shape[0]\n",
    "specificity"
   ]
  },
  {
   "cell_type": "code",
   "execution_count": 31,
   "id": "cadf1812",
   "metadata": {},
   "outputs": [
    {
     "data": {
      "text/plain": [
       "0.7908163265306123"
      ]
     },
     "execution_count": 31,
     "metadata": {},
     "output_type": "execute_result"
    }
   ],
   "source": [
    "sensitivity = len(final_out[final_out > 0.1])/final_out.shape[0]\n",
    "sensitivity"
   ]
  },
  {
   "cell_type": "code",
   "execution_count": null,
   "id": "3512910f",
   "metadata": {},
   "outputs": [],
   "source": []
  }
 ],
 "metadata": {
  "kernelspec": {
   "display_name": "Python 3 (ipykernel)",
   "language": "python",
   "name": "python3"
  },
  "language_info": {
   "codemirror_mode": {
    "name": "ipython",
    "version": 3
   },
   "file_extension": ".py",
   "mimetype": "text/x-python",
   "name": "python",
   "nbconvert_exporter": "python",
   "pygments_lexer": "ipython3",
   "version": "3.9.15"
  }
 },
 "nbformat": 4,
 "nbformat_minor": 5
}
