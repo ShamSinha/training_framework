{
 "cells": [
  {
   "cell_type": "code",
   "execution_count": 1,
   "id": "0390e8b9-ccc2-447a-9233-a5c9ed36fe18",
   "metadata": {},
   "outputs": [
    {
     "ename": "ModuleNotFoundError",
     "evalue": "No module named 'qer'",
     "output_type": "error",
     "traceback": [
      "\u001b[0;31m---------------------------------------------------------------------------\u001b[0m",
      "\u001b[0;31mModuleNotFoundError\u001b[0m                       Traceback (most recent call last)",
      "Cell \u001b[0;32mIn[1], line 2\u001b[0m\n\u001b[1;32m      1\u001b[0m \u001b[38;5;28;01mimport\u001b[39;00m \u001b[38;5;21;01mtorch\u001b[39;00m\n\u001b[0;32m----> 2\u001b[0m \u001b[38;5;28;01mfrom\u001b[39;00m \u001b[38;5;21;01mqer\u001b[39;00m\u001b[38;5;21;01m.\u001b[39;00m\u001b[38;5;21;01mai\u001b[39;00m\u001b[38;5;21;01m.\u001b[39;00m\u001b[38;5;21;01mhemorrhages\u001b[39;00m \u001b[38;5;28;01mimport\u001b[39;00m Hemorrhages2DBlend\n\u001b[1;32m      3\u001b[0m \u001b[38;5;28;01mimport\u001b[39;00m \u001b[38;5;21;01mpandas\u001b[39;00m \u001b[38;5;28;01mas\u001b[39;00m \u001b[38;5;21;01mpd\u001b[39;00m\n\u001b[1;32m      4\u001b[0m \u001b[38;5;28;01mfrom\u001b[39;00m \u001b[38;5;21;01mmonai\u001b[39;00m\u001b[38;5;21;01m.\u001b[39;00m\u001b[38;5;21;01mdata\u001b[39;00m \u001b[38;5;28;01mimport\u001b[39;00m Dataset\n",
      "\u001b[0;31mModuleNotFoundError\u001b[0m: No module named 'qer'"
     ]
    }
   ],
   "source": [
    "import torch\n",
    "from qer.ai.hemorrhages import Hemorrhages2DBlend\n",
    "import pandas as pd\n",
    "from monai.data import Dataset\n",
    "from torch.utils.data import DataLoader\n",
    "import monai\n",
    "import random\n",
    "from typing import Any, Dict, List, Sequence, Union, Tuple, Optional\n",
    "\n",
    "import numpy as np\n",
    "import SimpleITK as sitk\n",
    "import torch\n",
    "import time\n",
    "from loguru import logger\n",
    "from monai.transforms import (\n",
    "    DivisiblePadd,\n",
    "    RandomizableTransform,\n",
    "    Transform,\n",
    "    Resize\n",
    ")\n",
    "from qct_utils.cv_ops.mip import create_MIP_numpy\n",
    "from torch.nn.functional import interpolate\n",
    "from skimage.transform import rescale\n",
    "from pydicom import dcmread\n",
    "from torchvision import transforms\n",
    "from torchvision.transforms.functional import InterpolationMode\n",
    "import torch.nn.functional as F\n",
    "import h5py\n",
    "from tqdm.auto import tqdm\n",
    "from scipy import ndimage as ndi\n",
    "\n"
   ]
  },
  {
   "cell_type": "code",
   "execution_count": null,
   "id": "9cbf9a98-996c-4d8a-ab69-87640415a5b4",
   "metadata": {},
   "outputs": [],
   "source": [
    "import SimpleITK as sitk\n",
    "import matplotlib.pyplot as plt\n",
    "\n",
    "from ipywidgets import widgets\n",
    "from ipywidgets import interact\n",
    "\n",
    "\n",
    "def plot_scans(img_arr_list, title_list):\n",
    "    cols = len(img_arr_list)\n",
    "    num_slices = img_arr_list[0].shape[0]\n",
    "\n",
    "    def callback(z=None):\n",
    "        fig, ax = plt.subplots(1, cols, figsize=(5*cols, 5*cols), squeeze=False)\n",
    "        for idx in range(cols):\n",
    "            ax[0][idx].imshow(img_arr_list[idx][z, :, :], cmap='gray')\n",
    "            ax[0][idx].title.set_text(title_list[idx])\n",
    "            ax[0][idx].axis('off')\n",
    "            ax[0][idx].grid(False)\n",
    "\n",
    "        fig.tight_layout()\n",
    "        fig.show()\n",
    "\n",
    "    interact(\n",
    "        callback,\n",
    "        z=widgets.IntSlider(value=0, min=0, max=(num_slices - 1), step=1)\n",
    "    )"
   ]
  }
 ],
 "metadata": {
  "kernelspec": {
   "display_name": "Python 3",
   "language": "python",
   "name": "python3"
  },
  "language_info": {
   "codemirror_mode": {
    "name": "ipython",
    "version": 3
   },
   "file_extension": ".py",
   "mimetype": "text/x-python",
   "name": "python",
   "nbconvert_exporter": "python",
   "pygments_lexer": "ipython3",
   "version": "3.9.15"
  }
 },
 "nbformat": 4,
 "nbformat_minor": 5
}
