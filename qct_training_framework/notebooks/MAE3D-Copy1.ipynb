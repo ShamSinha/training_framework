{
 "cells": [
  {
   "cell_type": "code",
   "execution_count": 1,
   "id": "ddb15f5b",
   "metadata": {},
   "outputs": [],
   "source": [
    "import SimpleITK as sitk\n",
    "import matplotlib.pyplot as plt\n",
    "\n",
    "from ipywidgets import widgets\n",
    "from ipywidgets import interact\n",
    "\n",
    "\n",
    "def plot_scans(img_arr_list, title_list):\n",
    "    cols = len(img_arr_list)\n",
    "    num_slices = img_arr_list[0].shape[0]\n",
    "\n",
    "    def callback(z=None):\n",
    "        fig, ax = plt.subplots(1, cols, figsize=(3*cols, 3*cols), squeeze=False)\n",
    "        for idx in range(cols):\n",
    "            ax[0][idx].imshow(img_arr_list[idx][z, :, :], cmap='gray')\n",
    "            ax[0][idx].title.set_text(title_list[idx])\n",
    "            ax[0][idx].axis('off')\n",
    "            ax[0][idx].grid(False)\n",
    "\n",
    "        fig.tight_layout()\n",
    "        fig.show()\n",
    "\n",
    "    interact(\n",
    "        callback,\n",
    "        z=widgets.IntSlider(value=0, min=0, max=(num_slices - 1), step=1)\n",
    "    )"
   ]
  },
  {
   "cell_type": "code",
   "execution_count": 3,
   "id": "e2ccfa2f",
   "metadata": {},
   "outputs": [],
   "source": [
    "import torch"
   ]
  },
  {
   "cell_type": "code",
   "execution_count": 4,
   "id": "a3bc3bdc",
   "metadata": {},
   "outputs": [],
   "source": [
    "import pyrootutils\n",
    "import hydra\n",
    "\n",
    "root = pyrootutils.setup_root(search_from=\"./\", indicator=[\".git\", \"pyproject.toml\"], pythonpath=True, dotenv=True)\n"
   ]
  },
  {
   "cell_type": "code",
   "execution_count": 5,
   "id": "260062ff",
   "metadata": {},
   "outputs": [],
   "source": [
    "hydra.core.global_hydra.GlobalHydra.instance().clear()\n",
    "hydra.initialize(\"../configs/datamodule/\", version_base=\"1.2\")\n",
    "data_module = hydra.compose(\"fpr_mae_datamodule.yaml\")"
   ]
  },
  {
   "cell_type": "code",
   "execution_count": 6,
   "id": "a558a435",
   "metadata": {},
   "outputs": [
    {
     "name": "stdout",
     "output_type": "stream",
     "text": [
      "Unable to find logging config yaml. Configuring fallback values\n",
      "[2023-11-16 11:56:45 +0530] [WARNING] Invalid or unsupported selector 'select:not(:has(option[selected])) option:first-of-type,\n",
      "option[selected]:not(option[selected] ~ option[selected]) ', ('Unknown pseudo-class', 'has')\n"
     ]
    },
    {
     "name": "stderr",
     "output_type": "stream",
     "text": [
      "2023-11-16 11:56:58.021 | INFO     | src.datamodules.base_dataloader:setup:56 - Train set Length: 10344\n",
      "2023-11-16 11:56:58.022 | INFO     | src.datamodules.base_dataloader:setup:57 - Val set Length: 1799\n",
      "2023-11-16 11:56:58.023 | INFO     | src.datamodules.base_dataloader:setup:64 - Test set Length: 227\n"
     ]
    }
   ],
   "source": [
    "datamodule = hydra.utils.instantiate(data_module)"
   ]
  },
  {
   "cell_type": "code",
   "execution_count": 8,
   "id": "430a534b",
   "metadata": {},
   "outputs": [],
   "source": [
    "train_ds = datamodule.train_ds\n",
    "val_ds = datamodule.val_ds\n",
    "test_ds = datamodule.test_ds"
   ]
  },
  {
   "cell_type": "code",
   "execution_count": 9,
   "id": "67cd51c7",
   "metadata": {},
   "outputs": [
    {
     "data": {
      "text/plain": [
       "10344"
      ]
     },
     "execution_count": 9,
     "metadata": {},
     "output_type": "execute_result"
    }
   ],
   "source": [
    "len(train_ds)"
   ]
  },
  {
   "cell_type": "code",
   "execution_count": 117,
   "id": "60ce9dc8",
   "metadata": {},
   "outputs": [],
   "source": [
    "i = 22334\n",
    "# data = test_ds[i]\n",
    "data = train_ds[i]\n",
    "image = data['image'].squeeze(0)"
   ]
  },
  {
   "cell_type": "code",
   "execution_count": 9,
   "id": "5deaec42",
   "metadata": {},
   "outputs": [],
   "source": [
    "image = data['image'].squeeze(0)"
   ]
  },
  {
   "cell_type": "code",
   "execution_count": 10,
   "id": "7f5d306d",
   "metadata": {},
   "outputs": [
    {
     "data": {
      "text/plain": [
       "torch.Size([16, 48, 48])"
      ]
     },
     "execution_count": 10,
     "metadata": {},
     "output_type": "execute_result"
    }
   ],
   "source": [
    "image.shape"
   ]
  },
  {
   "cell_type": "code",
   "execution_count": 11,
   "id": "b61b4319",
   "metadata": {},
   "outputs": [],
   "source": [
    "import cv2\n",
    "import numpy as np\n",
    "\n",
    "# Assuming 'tensor' is your 16x48x48 tensor\n",
    "smoothed_tensor = np.zeros_like(image)\n",
    "\n",
    "for i in range(image.shape[0]):  # Iterate through each slice\n",
    "    smoothed_tensor[i, :, :] = cv2.GaussianBlur(image[i, :, :].numpy(), (3, 3), 0)\n"
   ]
  },
  {
   "cell_type": "code",
   "execution_count": 12,
   "id": "8d6d1b75",
   "metadata": {},
   "outputs": [
    {
     "data": {
      "text/plain": [
       "(16, 48, 48)"
      ]
     },
     "execution_count": 12,
     "metadata": {},
     "output_type": "execute_result"
    }
   ],
   "source": [
    "smoothed_tensor.shape"
   ]
  },
  {
   "cell_type": "code",
   "execution_count": 48,
   "id": "041b1335",
   "metadata": {},
   "outputs": [
    {
     "data": {
      "text/plain": [
       "torch.Size([16, 48, 48])"
      ]
     },
     "execution_count": 48,
     "metadata": {},
     "output_type": "execute_result"
    }
   ],
   "source": [
    "image.shape"
   ]
  },
  {
   "cell_type": "code",
   "execution_count": 13,
   "id": "f530b0b7",
   "metadata": {},
   "outputs": [
    {
     "data": {
      "application/vnd.jupyter.widget-view+json": {
       "model_id": "b284fec31c184ce29d6aed55b06cabe5",
       "version_major": 2,
       "version_minor": 0
      },
      "text/plain": [
       "interactive(children=(IntSlider(value=0, description='z', max=15), Output()), _dom_classes=('widget-interact',…"
      ]
     },
     "metadata": {},
     "output_type": "display_data"
    }
   ],
   "source": [
    "plot_scans([image , smoothed_tensor] , [\"\" ,\"\"])"
   ]
  },
  {
   "cell_type": "code",
   "execution_count": 14,
   "id": "777f7743",
   "metadata": {},
   "outputs": [],
   "source": [
    "from src.common.nn_modules.nets.mae.mae3d import MAE3D"
   ]
  },
  {
   "cell_type": "code",
   "execution_count": 10,
   "id": "82aa0f82",
   "metadata": {},
   "outputs": [],
   "source": [
    "from src.common.nn_modules.nets.segmentation.multitaskfusion import modify_model_state_dict"
   ]
  },
  {
   "cell_type": "code",
   "execution_count": 11,
   "id": "33a70428",
   "metadata": {},
   "outputs": [],
   "source": [
    "ckpt_path = \"/data_nas5/qer/shubham/mae3d_checkpoints/fpr_mae/runs/2023-11-15_10-15-31/checkpoints/epoch=94_step=49875_val_loss=0.66.ckpt\"\n"
   ]
  },
  {
   "cell_type": "code",
   "execution_count": 24,
   "id": "bedbbb8e",
   "metadata": {},
   "outputs": [
    {
     "name": "stderr",
     "output_type": "stream",
     "text": [
      "/home/users/shubham.kumar/miniconda3/envs/qct_deep/lib/python3.9/site-packages/hydra/_internal/defaults_list.py:251: UserWarning:\n",
      "\n",
      "In 'mae3d.yaml': Defaults list is missing `_self_`. See https://hydra.cc/docs/upgrades/1.0_to_1.1/default_composition_order for more information\n",
      "\n"
     ]
    }
   ],
   "source": [
    "# hydra.core.global_hydra.GlobalHydra.instance().clear()\n",
    "# hydra.initialize(\"../configs/model/\", version_base=\"1.2\")\n",
    "# model_config = hydra.compose(\"mae3d.yaml\")"
   ]
  },
  {
   "cell_type": "code",
   "execution_count": 12,
   "id": "45f3a328",
   "metadata": {},
   "outputs": [],
   "source": [
    "import yaml\n",
    "\n",
    "with open(\"/data_nas5/qer/shubham/mae3d_checkpoints/fpr_mae/runs/2023-11-15_10-15-31/tensorboard/version_0/hparams.yaml\", 'r') as file:\n",
    "    data = yaml.safe_load(file)\n",
    "\n"
   ]
  },
  {
   "cell_type": "code",
   "execution_count": 13,
   "id": "65ba93cc",
   "metadata": {},
   "outputs": [],
   "source": [
    "model_config = data['model']['model']"
   ]
  },
  {
   "cell_type": "code",
   "execution_count": 14,
   "id": "4b6befbc",
   "metadata": {},
   "outputs": [
    {
     "data": {
      "text/plain": [
       "{'_target_': 'src.common.nn_modules.nets.mae.mae3d.MAE3D',\n",
       " 'pos_embed_type': 'sincos',\n",
       " 'mask_ratio': 0.7,\n",
       " 'input_size': [48, 48, 16],\n",
       " 'patch_size': [6, 6, 4],\n",
       " 'in_chans': 1,\n",
       " 'encoder_embed_dim': 576,\n",
       " 'encoder_depth': 6,\n",
       " 'encoder_num_heads': 12,\n",
       " 'decoder_embed_dim': 384,\n",
       " 'decoder_depth': 4,\n",
       " 'decoder_num_heads': 12}"
      ]
     },
     "execution_count": 14,
     "metadata": {},
     "output_type": "execute_result"
    }
   ],
   "source": [
    "model_config"
   ]
  },
  {
   "cell_type": "code",
   "execution_count": 15,
   "id": "c4dde35b",
   "metadata": {},
   "outputs": [
    {
     "name": "stderr",
     "output_type": "stream",
     "text": [
      "/home/users/shubham.kumar/miniconda3/envs/qct_deep/lib/python3.9/site-packages/torch/functional.py:568: UserWarning:\n",
      "\n",
      "torch.meshgrid: in an upcoming release, it will be required to pass the indexing argument. (Triggered internally at  /opt/conda/conda-bld/pytorch_1646756402876/work/aten/src/ATen/native/TensorShape.cpp:2228.)\n",
      "\n"
     ]
    }
   ],
   "source": [
    "model = hydra.utils.instantiate(model_config)"
   ]
  },
  {
   "cell_type": "code",
   "execution_count": 16,
   "id": "62be0661",
   "metadata": {},
   "outputs": [
    {
     "data": {
      "text/plain": [
       "MAE3D(\n",
       "  (encoder): MAEViTEncoder(\n",
       "    (patch_embed): PatchEmbed3D(\n",
       "      (proj): Conv3d(1, 576, kernel_size=(6, 6, 4), stride=(6, 6, 4))\n",
       "      (norm): Identity()\n",
       "    )\n",
       "    (pos_drop): Dropout(p=0.0, inplace=False)\n",
       "    (blocks): ModuleList(\n",
       "      (0): Block(\n",
       "        (norm1): LayerNorm((576,), eps=1e-06, elementwise_affine=True)\n",
       "        (attn): Attention(\n",
       "          (qkv): Linear(in_features=576, out_features=1728, bias=True)\n",
       "          (attn_drop): Dropout(p=0.0, inplace=False)\n",
       "          (proj): Linear(in_features=576, out_features=576, bias=True)\n",
       "          (proj_drop): Dropout(p=0.0, inplace=False)\n",
       "        )\n",
       "        (ls1): Identity()\n",
       "        (drop_path1): Identity()\n",
       "        (norm2): LayerNorm((576,), eps=1e-06, elementwise_affine=True)\n",
       "        (mlp): Mlp(\n",
       "          (fc1): Linear(in_features=576, out_features=2304, bias=True)\n",
       "          (act): GELU()\n",
       "          (drop1): Dropout(p=0.0, inplace=False)\n",
       "          (fc2): Linear(in_features=2304, out_features=576, bias=True)\n",
       "          (drop2): Dropout(p=0.0, inplace=False)\n",
       "        )\n",
       "        (ls2): Identity()\n",
       "        (drop_path2): Identity()\n",
       "      )\n",
       "      (1): Block(\n",
       "        (norm1): LayerNorm((576,), eps=1e-06, elementwise_affine=True)\n",
       "        (attn): Attention(\n",
       "          (qkv): Linear(in_features=576, out_features=1728, bias=True)\n",
       "          (attn_drop): Dropout(p=0.0, inplace=False)\n",
       "          (proj): Linear(in_features=576, out_features=576, bias=True)\n",
       "          (proj_drop): Dropout(p=0.0, inplace=False)\n",
       "        )\n",
       "        (ls1): Identity()\n",
       "        (drop_path1): Identity()\n",
       "        (norm2): LayerNorm((576,), eps=1e-06, elementwise_affine=True)\n",
       "        (mlp): Mlp(\n",
       "          (fc1): Linear(in_features=576, out_features=2304, bias=True)\n",
       "          (act): GELU()\n",
       "          (drop1): Dropout(p=0.0, inplace=False)\n",
       "          (fc2): Linear(in_features=2304, out_features=576, bias=True)\n",
       "          (drop2): Dropout(p=0.0, inplace=False)\n",
       "        )\n",
       "        (ls2): Identity()\n",
       "        (drop_path2): Identity()\n",
       "      )\n",
       "      (2): Block(\n",
       "        (norm1): LayerNorm((576,), eps=1e-06, elementwise_affine=True)\n",
       "        (attn): Attention(\n",
       "          (qkv): Linear(in_features=576, out_features=1728, bias=True)\n",
       "          (attn_drop): Dropout(p=0.0, inplace=False)\n",
       "          (proj): Linear(in_features=576, out_features=576, bias=True)\n",
       "          (proj_drop): Dropout(p=0.0, inplace=False)\n",
       "        )\n",
       "        (ls1): Identity()\n",
       "        (drop_path1): Identity()\n",
       "        (norm2): LayerNorm((576,), eps=1e-06, elementwise_affine=True)\n",
       "        (mlp): Mlp(\n",
       "          (fc1): Linear(in_features=576, out_features=2304, bias=True)\n",
       "          (act): GELU()\n",
       "          (drop1): Dropout(p=0.0, inplace=False)\n",
       "          (fc2): Linear(in_features=2304, out_features=576, bias=True)\n",
       "          (drop2): Dropout(p=0.0, inplace=False)\n",
       "        )\n",
       "        (ls2): Identity()\n",
       "        (drop_path2): Identity()\n",
       "      )\n",
       "      (3): Block(\n",
       "        (norm1): LayerNorm((576,), eps=1e-06, elementwise_affine=True)\n",
       "        (attn): Attention(\n",
       "          (qkv): Linear(in_features=576, out_features=1728, bias=True)\n",
       "          (attn_drop): Dropout(p=0.0, inplace=False)\n",
       "          (proj): Linear(in_features=576, out_features=576, bias=True)\n",
       "          (proj_drop): Dropout(p=0.0, inplace=False)\n",
       "        )\n",
       "        (ls1): Identity()\n",
       "        (drop_path1): Identity()\n",
       "        (norm2): LayerNorm((576,), eps=1e-06, elementwise_affine=True)\n",
       "        (mlp): Mlp(\n",
       "          (fc1): Linear(in_features=576, out_features=2304, bias=True)\n",
       "          (act): GELU()\n",
       "          (drop1): Dropout(p=0.0, inplace=False)\n",
       "          (fc2): Linear(in_features=2304, out_features=576, bias=True)\n",
       "          (drop2): Dropout(p=0.0, inplace=False)\n",
       "        )\n",
       "        (ls2): Identity()\n",
       "        (drop_path2): Identity()\n",
       "      )\n",
       "      (4): Block(\n",
       "        (norm1): LayerNorm((576,), eps=1e-06, elementwise_affine=True)\n",
       "        (attn): Attention(\n",
       "          (qkv): Linear(in_features=576, out_features=1728, bias=True)\n",
       "          (attn_drop): Dropout(p=0.0, inplace=False)\n",
       "          (proj): Linear(in_features=576, out_features=576, bias=True)\n",
       "          (proj_drop): Dropout(p=0.0, inplace=False)\n",
       "        )\n",
       "        (ls1): Identity()\n",
       "        (drop_path1): Identity()\n",
       "        (norm2): LayerNorm((576,), eps=1e-06, elementwise_affine=True)\n",
       "        (mlp): Mlp(\n",
       "          (fc1): Linear(in_features=576, out_features=2304, bias=True)\n",
       "          (act): GELU()\n",
       "          (drop1): Dropout(p=0.0, inplace=False)\n",
       "          (fc2): Linear(in_features=2304, out_features=576, bias=True)\n",
       "          (drop2): Dropout(p=0.0, inplace=False)\n",
       "        )\n",
       "        (ls2): Identity()\n",
       "        (drop_path2): Identity()\n",
       "      )\n",
       "      (5): Block(\n",
       "        (norm1): LayerNorm((576,), eps=1e-06, elementwise_affine=True)\n",
       "        (attn): Attention(\n",
       "          (qkv): Linear(in_features=576, out_features=1728, bias=True)\n",
       "          (attn_drop): Dropout(p=0.0, inplace=False)\n",
       "          (proj): Linear(in_features=576, out_features=576, bias=True)\n",
       "          (proj_drop): Dropout(p=0.0, inplace=False)\n",
       "        )\n",
       "        (ls1): Identity()\n",
       "        (drop_path1): Identity()\n",
       "        (norm2): LayerNorm((576,), eps=1e-06, elementwise_affine=True)\n",
       "        (mlp): Mlp(\n",
       "          (fc1): Linear(in_features=576, out_features=2304, bias=True)\n",
       "          (act): GELU()\n",
       "          (drop1): Dropout(p=0.0, inplace=False)\n",
       "          (fc2): Linear(in_features=2304, out_features=576, bias=True)\n",
       "          (drop2): Dropout(p=0.0, inplace=False)\n",
       "        )\n",
       "        (ls2): Identity()\n",
       "        (drop_path2): Identity()\n",
       "      )\n",
       "    )\n",
       "    (norm): LayerNorm((576,), eps=1e-06, elementwise_affine=True)\n",
       "    (head): Identity()\n",
       "  )\n",
       "  (decoder): MAEViTDecoder(\n",
       "    (pos_drop): Dropout(p=0.0, inplace=False)\n",
       "    (blocks): ModuleList(\n",
       "      (0): Block(\n",
       "        (norm1): LayerNorm((384,), eps=1e-06, elementwise_affine=True)\n",
       "        (attn): Attention(\n",
       "          (qkv): Linear(in_features=384, out_features=1152, bias=True)\n",
       "          (attn_drop): Dropout(p=0.0, inplace=False)\n",
       "          (proj): Linear(in_features=384, out_features=384, bias=True)\n",
       "          (proj_drop): Dropout(p=0.0, inplace=False)\n",
       "        )\n",
       "        (ls1): Identity()\n",
       "        (drop_path1): Identity()\n",
       "        (norm2): LayerNorm((384,), eps=1e-06, elementwise_affine=True)\n",
       "        (mlp): Mlp(\n",
       "          (fc1): Linear(in_features=384, out_features=1536, bias=True)\n",
       "          (act): GELU()\n",
       "          (drop1): Dropout(p=0.0, inplace=False)\n",
       "          (fc2): Linear(in_features=1536, out_features=384, bias=True)\n",
       "          (drop2): Dropout(p=0.0, inplace=False)\n",
       "        )\n",
       "        (ls2): Identity()\n",
       "        (drop_path2): Identity()\n",
       "      )\n",
       "      (1): Block(\n",
       "        (norm1): LayerNorm((384,), eps=1e-06, elementwise_affine=True)\n",
       "        (attn): Attention(\n",
       "          (qkv): Linear(in_features=384, out_features=1152, bias=True)\n",
       "          (attn_drop): Dropout(p=0.0, inplace=False)\n",
       "          (proj): Linear(in_features=384, out_features=384, bias=True)\n",
       "          (proj_drop): Dropout(p=0.0, inplace=False)\n",
       "        )\n",
       "        (ls1): Identity()\n",
       "        (drop_path1): Identity()\n",
       "        (norm2): LayerNorm((384,), eps=1e-06, elementwise_affine=True)\n",
       "        (mlp): Mlp(\n",
       "          (fc1): Linear(in_features=384, out_features=1536, bias=True)\n",
       "          (act): GELU()\n",
       "          (drop1): Dropout(p=0.0, inplace=False)\n",
       "          (fc2): Linear(in_features=1536, out_features=384, bias=True)\n",
       "          (drop2): Dropout(p=0.0, inplace=False)\n",
       "        )\n",
       "        (ls2): Identity()\n",
       "        (drop_path2): Identity()\n",
       "      )\n",
       "      (2): Block(\n",
       "        (norm1): LayerNorm((384,), eps=1e-06, elementwise_affine=True)\n",
       "        (attn): Attention(\n",
       "          (qkv): Linear(in_features=384, out_features=1152, bias=True)\n",
       "          (attn_drop): Dropout(p=0.0, inplace=False)\n",
       "          (proj): Linear(in_features=384, out_features=384, bias=True)\n",
       "          (proj_drop): Dropout(p=0.0, inplace=False)\n",
       "        )\n",
       "        (ls1): Identity()\n",
       "        (drop_path1): Identity()\n",
       "        (norm2): LayerNorm((384,), eps=1e-06, elementwise_affine=True)\n",
       "        (mlp): Mlp(\n",
       "          (fc1): Linear(in_features=384, out_features=1536, bias=True)\n",
       "          (act): GELU()\n",
       "          (drop1): Dropout(p=0.0, inplace=False)\n",
       "          (fc2): Linear(in_features=1536, out_features=384, bias=True)\n",
       "          (drop2): Dropout(p=0.0, inplace=False)\n",
       "        )\n",
       "        (ls2): Identity()\n",
       "        (drop_path2): Identity()\n",
       "      )\n",
       "      (3): Block(\n",
       "        (norm1): LayerNorm((384,), eps=1e-06, elementwise_affine=True)\n",
       "        (attn): Attention(\n",
       "          (qkv): Linear(in_features=384, out_features=1152, bias=True)\n",
       "          (attn_drop): Dropout(p=0.0, inplace=False)\n",
       "          (proj): Linear(in_features=384, out_features=384, bias=True)\n",
       "          (proj_drop): Dropout(p=0.0, inplace=False)\n",
       "        )\n",
       "        (ls1): Identity()\n",
       "        (drop_path1): Identity()\n",
       "        (norm2): LayerNorm((384,), eps=1e-06, elementwise_affine=True)\n",
       "        (mlp): Mlp(\n",
       "          (fc1): Linear(in_features=384, out_features=1536, bias=True)\n",
       "          (act): GELU()\n",
       "          (drop1): Dropout(p=0.0, inplace=False)\n",
       "          (fc2): Linear(in_features=1536, out_features=384, bias=True)\n",
       "          (drop2): Dropout(p=0.0, inplace=False)\n",
       "        )\n",
       "        (ls2): Identity()\n",
       "        (drop_path2): Identity()\n",
       "      )\n",
       "    )\n",
       "    (norm): LayerNorm((384,), eps=1e-06, elementwise_affine=True)\n",
       "    (head): Linear(in_features=384, out_features=144, bias=True)\n",
       "  )\n",
       "  (encoder_to_decoder): Linear(in_features=576, out_features=384, bias=True)\n",
       "  (patch_norm): LayerNorm((144,), eps=1e-06, elementwise_affine=False)\n",
       "  (criterion): MSELoss()\n",
       ")"
      ]
     },
     "execution_count": 16,
     "metadata": {},
     "output_type": "execute_result"
    }
   ],
   "source": [
    "model"
   ]
  },
  {
   "cell_type": "code",
   "execution_count": 17,
   "id": "81f05748",
   "metadata": {},
   "outputs": [],
   "source": [
    "k= torch.load(ckpt_path, map_location = \"cpu\")\n",
    "state_dict = k['state_dict']"
   ]
  },
  {
   "cell_type": "code",
   "execution_count": 18,
   "id": "726fb6f9",
   "metadata": {},
   "outputs": [
    {
     "data": {
      "text/plain": [
       "dict_keys(['epoch', 'global_step', 'pytorch-lightning_version', 'state_dict', 'loops', 'callbacks', 'optimizer_states', 'lr_schedulers', 'MixedPrecisionPlugin'])"
      ]
     },
     "execution_count": 18,
     "metadata": {},
     "output_type": "execute_result"
    }
   ],
   "source": [
    "k.keys()"
   ]
  },
  {
   "cell_type": "code",
   "execution_count": 19,
   "id": "2ebee250",
   "metadata": {},
   "outputs": [],
   "source": [
    "new_state_dict = modify_model_state_dict(state_dict , \"model.\" , \"\")\n"
   ]
  },
  {
   "cell_type": "code",
   "execution_count": 20,
   "id": "1545078e",
   "metadata": {},
   "outputs": [
    {
     "data": {
      "text/plain": [
       "<All keys matched successfully>"
      ]
     },
     "execution_count": 20,
     "metadata": {},
     "output_type": "execute_result"
    }
   ],
   "source": [
    "model.load_state_dict(new_state_dict)"
   ]
  },
  {
   "cell_type": "code",
   "execution_count": null,
   "id": "00215147",
   "metadata": {},
   "outputs": [],
   "source": []
  },
  {
   "cell_type": "code",
   "execution_count": 42,
   "id": "77d5ff0e",
   "metadata": {},
   "outputs": [],
   "source": [
    "i = 339\n",
    "# data = test_ds[i]\n",
    "data = val_ds[i]\n",
    "image = data['image'].squeeze(0)"
   ]
  },
  {
   "cell_type": "code",
   "execution_count": 43,
   "id": "3d61ec10",
   "metadata": {
    "scrolled": true
   },
   "outputs": [
    {
     "data": {
      "text/plain": [
       "1"
      ]
     },
     "execution_count": 43,
     "metadata": {},
     "output_type": "execute_result"
    }
   ],
   "source": [
    "data['label'].numpy()[0]"
   ]
  },
  {
   "cell_type": "code",
   "execution_count": 44,
   "id": "340477e2",
   "metadata": {},
   "outputs": [],
   "source": [
    "x = image.unsqueeze(0).unsqueeze(0)"
   ]
  },
  {
   "cell_type": "code",
   "execution_count": 45,
   "id": "80ea8c2c",
   "metadata": {},
   "outputs": [],
   "source": [
    "x = x.permute(0, 1, 3, 4, 2)"
   ]
  },
  {
   "cell_type": "code",
   "execution_count": 46,
   "id": "e902f803",
   "metadata": {},
   "outputs": [
    {
     "data": {
      "text/plain": [
       "torch.Size([1, 1, 48, 48, 16])"
      ]
     },
     "execution_count": 46,
     "metadata": {},
     "output_type": "execute_result"
    }
   ],
   "source": [
    "x.shape"
   ]
  },
  {
   "cell_type": "code",
   "execution_count": 47,
   "id": "e1d456db",
   "metadata": {},
   "outputs": [],
   "source": [
    "out = model.forward(x, return_image= True)"
   ]
  },
  {
   "cell_type": "code",
   "execution_count": 48,
   "id": "8e349c1f",
   "metadata": {},
   "outputs": [],
   "source": [
    "H, W, D = [48,48,16]  # Original input dimensions\n",
    "Ph, Pw, Pd = [6,6,4]  # Patch dimensions\n",
    "\n",
    "# Compute the number of patches along each dimension\n",
    "num_patches_h = H // Ph\n",
    "num_patches_w = W // Pw\n",
    "num_patches_d = D // Pd"
   ]
  },
  {
   "cell_type": "code",
   "execution_count": 49,
   "id": "8584fa36",
   "metadata": {},
   "outputs": [],
   "source": [
    "unshuffled_all_x = out[1].reshape(1, num_patches_h, num_patches_w, num_patches_d, 1, Ph, Pw, Pd)\n",
    "unshuffled_all_x = unshuffled_all_x.permute(0, 4, 1, 5, 2, 6, 3, 7).reshape(1, 1, H, W, D)\n",
    "final_x = unshuffled_all_x.squeeze()\n",
    "final_x = final_x.permute(2, 0, 1)"
   ]
  },
  {
   "cell_type": "code",
   "execution_count": 50,
   "id": "6877ba09",
   "metadata": {},
   "outputs": [],
   "source": [
    "unshuffled_all_recon = out[2].reshape(1, num_patches_h, num_patches_w, num_patches_d, 1, Ph, Pw, Pd)\n",
    "unshuffled_all_recon = unshuffled_all_recon.permute(0, 4, 1, 5, 2, 6, 3, 7).reshape(1, 1, H, W, D)\n",
    "final_recon = unshuffled_all_recon.squeeze()\n",
    "final_recon = final_recon.permute(2, 0, 1)"
   ]
  },
  {
   "cell_type": "code",
   "execution_count": 51,
   "id": "f2600c1d",
   "metadata": {},
   "outputs": [
    {
     "data": {
      "text/plain": [
       "torch.Size([16, 48, 48])"
      ]
     },
     "execution_count": 51,
     "metadata": {},
     "output_type": "execute_result"
    }
   ],
   "source": [
    "final_recon.shape"
   ]
  },
  {
   "cell_type": "code",
   "execution_count": 52,
   "id": "09d3358d",
   "metadata": {},
   "outputs": [
    {
     "data": {
      "application/vnd.jupyter.widget-view+json": {
       "model_id": "50b961c5b12e4ad3a4bf394819c9c3e4",
       "version_major": 2,
       "version_minor": 0
      },
      "text/plain": [
       "interactive(children=(IntSlider(value=0, description='z', max=15), Output()), _dom_classes=('widget-interact',…"
      ]
     },
     "metadata": {},
     "output_type": "display_data"
    }
   ],
   "source": [
    "plot_scans([final_x , final_recon],[\"\" , \"\"])"
   ]
  },
  {
   "cell_type": "code",
   "execution_count": 63,
   "id": "25e633e5",
   "metadata": {},
   "outputs": [
    {
     "data": {
      "text/plain": [
       "torch.Size([1, 256, 144])"
      ]
     },
     "execution_count": 63,
     "metadata": {},
     "output_type": "execute_result"
    }
   ],
   "source": [
    "out[3].shape"
   ]
  },
  {
   "cell_type": "code",
   "execution_count": null,
   "id": "52ca87ba",
   "metadata": {},
   "outputs": [],
   "source": [
    "plot_scans([])"
   ]
  },
  {
   "cell_type": "code",
   "execution_count": null,
   "id": "ea70fdf4",
   "metadata": {},
   "outputs": [],
   "source": []
  },
  {
   "cell_type": "code",
   "execution_count": 34,
   "id": "53e80bf6",
   "metadata": {},
   "outputs": [],
   "source": [
    "import torch\n",
    "from safetensors import safe_open\n"
   ]
  },
  {
   "cell_type": "code",
   "execution_count": 35,
   "id": "56e33bb4",
   "metadata": {},
   "outputs": [],
   "source": [
    "path = \"/cache/fast_data_nas8/qct/shubham/fpr_cache_lidc/1.3.6.1.4.1.14519.5.2.1.6279.6001.991510467496831189331312523884.safetensors\"\n",
    "\n",
    "with safe_open(path, framework=\"pt\") as f:\n",
    "    tensor_slice = f.get_slice(\"labels\")\n",
    "\n"
   ]
  },
  {
   "cell_type": "code",
   "execution_count": 54,
   "id": "80721cb4",
   "metadata": {},
   "outputs": [],
   "source": [
    "\n",
    "import pandas as pd"
   ]
  },
  {
   "cell_type": "code",
   "execution_count": 76,
   "id": "820662cb",
   "metadata": {},
   "outputs": [],
   "source": [
    "df = pd.read_csv(\"/home/users/shubham.kumar/projects/qct_training_framework/notebooks/fpr_nlst.csv\")"
   ]
  },
  {
   "cell_type": "code",
   "execution_count": 77,
   "id": "953d92ea",
   "metadata": {},
   "outputs": [],
   "source": [
    "df.loc[df[\"Status\"] == \"test\" , \"Status\"] = \"train\""
   ]
  },
  {
   "cell_type": "code",
   "execution_count": 78,
   "id": "339529fd",
   "metadata": {},
   "outputs": [],
   "source": [
    "df.to_csv(\"/home/users/shubham.kumar/projects/qct_training_framework/notebooks/fpr_nlst.csv\" , index =False)"
   ]
  },
  {
   "cell_type": "code",
   "execution_count": 74,
   "id": "bffd3e98",
   "metadata": {},
   "outputs": [
    {
     "data": {
      "text/html": [
       "<div>\n",
       "<style scoped>\n",
       "    .dataframe tbody tr th:only-of-type {\n",
       "        vertical-align: middle;\n",
       "    }\n",
       "\n",
       "    .dataframe tbody tr th {\n",
       "        vertical-align: top;\n",
       "    }\n",
       "\n",
       "    .dataframe thead th {\n",
       "        text-align: right;\n",
       "    }\n",
       "</style>\n",
       "<table border=\"1\" class=\"dataframe\">\n",
       "  <thead>\n",
       "    <tr style=\"text-align: right;\">\n",
       "      <th></th>\n",
       "      <th>SeriesUID</th>\n",
       "      <th>Status</th>\n",
       "    </tr>\n",
       "  </thead>\n",
       "  <tbody>\n",
       "    <tr>\n",
       "      <th>0</th>\n",
       "      <td>1.2.840.113654.2.55.63958747859170795163875361...</td>\n",
       "      <td>train</td>\n",
       "    </tr>\n",
       "    <tr>\n",
       "      <th>1</th>\n",
       "      <td>1.2.840.113654.2.55.15001367599869928485750524...</td>\n",
       "      <td>train</td>\n",
       "    </tr>\n",
       "    <tr>\n",
       "      <th>2</th>\n",
       "      <td>1.2.840.113654.2.55.10331884898838628773326988...</td>\n",
       "      <td>train</td>\n",
       "    </tr>\n",
       "    <tr>\n",
       "      <th>3</th>\n",
       "      <td>1.2.840.113654.2.55.15545085579499669960904803...</td>\n",
       "      <td>train</td>\n",
       "    </tr>\n",
       "    <tr>\n",
       "      <th>4</th>\n",
       "      <td>1.2.840.113654.2.55.38607123543534460221157070...</td>\n",
       "      <td>train</td>\n",
       "    </tr>\n",
       "    <tr>\n",
       "      <th>...</th>\n",
       "      <td>...</td>\n",
       "      <td>...</td>\n",
       "    </tr>\n",
       "    <tr>\n",
       "      <th>344</th>\n",
       "      <td>1.3.6.1.4.1.14519.5.2.1.7009.9004.362228162468...</td>\n",
       "      <td>train</td>\n",
       "    </tr>\n",
       "    <tr>\n",
       "      <th>345</th>\n",
       "      <td>1.2.840.113654.2.55.12192207809952073415380123...</td>\n",
       "      <td>train</td>\n",
       "    </tr>\n",
       "    <tr>\n",
       "      <th>346</th>\n",
       "      <td>1.2.840.113654.2.55.25275808408796599515059773...</td>\n",
       "      <td>train</td>\n",
       "    </tr>\n",
       "    <tr>\n",
       "      <th>347</th>\n",
       "      <td>1.2.840.113654.2.55.30582414251353258917076621...</td>\n",
       "      <td>train</td>\n",
       "    </tr>\n",
       "    <tr>\n",
       "      <th>348</th>\n",
       "      <td>1.2.840.113654.2.55.19509131877792685832498622...</td>\n",
       "      <td>train</td>\n",
       "    </tr>\n",
       "  </tbody>\n",
       "</table>\n",
       "<p>349 rows × 2 columns</p>\n",
       "</div>"
      ],
      "text/plain": [
       "                                             SeriesUID Status\n",
       "0    1.2.840.113654.2.55.63958747859170795163875361...  train\n",
       "1    1.2.840.113654.2.55.15001367599869928485750524...  train\n",
       "2    1.2.840.113654.2.55.10331884898838628773326988...  train\n",
       "3    1.2.840.113654.2.55.15545085579499669960904803...  train\n",
       "4    1.2.840.113654.2.55.38607123543534460221157070...  train\n",
       "..                                                 ...    ...\n",
       "344  1.3.6.1.4.1.14519.5.2.1.7009.9004.362228162468...  train\n",
       "345  1.2.840.113654.2.55.12192207809952073415380123...  train\n",
       "346  1.2.840.113654.2.55.25275808408796599515059773...  train\n",
       "347  1.2.840.113654.2.55.30582414251353258917076621...  train\n",
       "348  1.2.840.113654.2.55.19509131877792685832498622...  train\n",
       "\n",
       "[349 rows x 2 columns]"
      ]
     },
     "execution_count": 74,
     "metadata": {},
     "output_type": "execute_result"
    }
   ],
   "source": [
    "df"
   ]
  },
  {
   "cell_type": "code",
   "execution_count": 97,
   "id": "1e4fb232",
   "metadata": {},
   "outputs": [
    {
     "data": {
      "text/html": [
       "<div>\n",
       "<style scoped>\n",
       "    .dataframe tbody tr th:only-of-type {\n",
       "        vertical-align: middle;\n",
       "    }\n",
       "\n",
       "    .dataframe tbody tr th {\n",
       "        vertical-align: top;\n",
       "    }\n",
       "\n",
       "    .dataframe thead th {\n",
       "        text-align: right;\n",
       "    }\n",
       "</style>\n",
       "<table border=\"1\" class=\"dataframe\">\n",
       "  <thead>\n",
       "    <tr style=\"text-align: right;\">\n",
       "      <th></th>\n",
       "      <th>SeriesUID</th>\n",
       "      <th>Status</th>\n",
       "    </tr>\n",
       "  </thead>\n",
       "  <tbody>\n",
       "    <tr>\n",
       "      <th>0</th>\n",
       "      <td>1.3.6.1.4.1.14519.5.2.1.6279.6001.955688628308...</td>\n",
       "      <td>train</td>\n",
       "    </tr>\n",
       "    <tr>\n",
       "      <th>1</th>\n",
       "      <td>1.3.6.1.4.1.14519.5.2.1.6279.6001.216882370221...</td>\n",
       "      <td>train</td>\n",
       "    </tr>\n",
       "    <tr>\n",
       "      <th>2</th>\n",
       "      <td>1.3.6.1.4.1.14519.5.2.1.6279.6001.168985655485...</td>\n",
       "      <td>train</td>\n",
       "    </tr>\n",
       "    <tr>\n",
       "      <th>3</th>\n",
       "      <td>1.3.6.1.4.1.14519.5.2.1.6279.6001.313835996725...</td>\n",
       "      <td>train</td>\n",
       "    </tr>\n",
       "    <tr>\n",
       "      <th>4</th>\n",
       "      <td>1.3.6.1.4.1.14519.5.2.1.6279.6001.255999614855...</td>\n",
       "      <td>train</td>\n",
       "    </tr>\n",
       "    <tr>\n",
       "      <th>...</th>\n",
       "      <td>...</td>\n",
       "      <td>...</td>\n",
       "    </tr>\n",
       "    <tr>\n",
       "      <th>878</th>\n",
       "      <td>1.3.6.1.4.1.14519.5.2.1.6279.6001.292994770358...</td>\n",
       "      <td>train</td>\n",
       "    </tr>\n",
       "    <tr>\n",
       "      <th>879</th>\n",
       "      <td>1.3.6.1.4.1.14519.5.2.1.6279.6001.112767175295...</td>\n",
       "      <td>train</td>\n",
       "    </tr>\n",
       "    <tr>\n",
       "      <th>880</th>\n",
       "      <td>1.3.6.1.4.1.14519.5.2.1.6279.6001.257383535269...</td>\n",
       "      <td>train</td>\n",
       "    </tr>\n",
       "    <tr>\n",
       "      <th>881</th>\n",
       "      <td>1.3.6.1.4.1.14519.5.2.1.6279.6001.173556680294...</td>\n",
       "      <td>train</td>\n",
       "    </tr>\n",
       "    <tr>\n",
       "      <th>882</th>\n",
       "      <td>1.3.6.1.4.1.14519.5.2.1.6279.6001.670107649586...</td>\n",
       "      <td>train</td>\n",
       "    </tr>\n",
       "  </tbody>\n",
       "</table>\n",
       "<p>883 rows × 2 columns</p>\n",
       "</div>"
      ],
      "text/plain": [
       "                                             SeriesUID Status\n",
       "0    1.3.6.1.4.1.14519.5.2.1.6279.6001.955688628308...  train\n",
       "1    1.3.6.1.4.1.14519.5.2.1.6279.6001.216882370221...  train\n",
       "2    1.3.6.1.4.1.14519.5.2.1.6279.6001.168985655485...  train\n",
       "3    1.3.6.1.4.1.14519.5.2.1.6279.6001.313835996725...  train\n",
       "4    1.3.6.1.4.1.14519.5.2.1.6279.6001.255999614855...  train\n",
       "..                                                 ...    ...\n",
       "878  1.3.6.1.4.1.14519.5.2.1.6279.6001.292994770358...  train\n",
       "879  1.3.6.1.4.1.14519.5.2.1.6279.6001.112767175295...  train\n",
       "880  1.3.6.1.4.1.14519.5.2.1.6279.6001.257383535269...  train\n",
       "881  1.3.6.1.4.1.14519.5.2.1.6279.6001.173556680294...  train\n",
       "882  1.3.6.1.4.1.14519.5.2.1.6279.6001.670107649586...  train\n",
       "\n",
       "[883 rows x 2 columns]"
      ]
     },
     "execution_count": 97,
     "metadata": {},
     "output_type": "execute_result"
    }
   ],
   "source": [
    "pd.read_csv(\"/home/users/shubham.kumar/projects/qct_training_framework/notebooks/fpr_lidc_raw.csv\")"
   ]
  },
  {
   "cell_type": "code",
   "execution_count": null,
   "id": "c541e7ec",
   "metadata": {},
   "outputs": [],
   "source": [
    "def func(array , lung_mask_arr) :\n",
    "    \n",
    "    (48*48*16)\n",
    "    "
   ]
  },
  {
   "cell_type": "code",
   "execution_count": 3,
   "id": "cf5c7de9",
   "metadata": {},
   "outputs": [],
   "source": [
    "hydra.core.global_hydra.GlobalHydra.instance().clear()\n",
    "hydra.initialize(\"../configs/datamodule/\", version_base=\"1.2\")\n",
    "data_module = hydra.compose(\"lung_lobe_segmentation_datamodule.yaml\")"
   ]
  },
  {
   "cell_type": "code",
   "execution_count": 4,
   "id": "90ffc008",
   "metadata": {},
   "outputs": [
    {
     "name": "stdout",
     "output_type": "stream",
     "text": [
      "Unable to find logging config yaml. Configuring fallback values\n",
      "[2023-11-15 13:34:59 +0530] [WARNING] Invalid or unsupported selector 'select:not(:has(option[selected])) option:first-of-type,\n",
      "option[selected]:not(option[selected] ~ option[selected]) ', ('Unknown pseudo-class', 'has')\n"
     ]
    },
    {
     "name": "stderr",
     "output_type": "stream",
     "text": [
      "2023-11-15 13:34:59.757 | INFO     | src.datamodules.load_data.lung_lobe_segmentation:lung_segmentation_data_loader:227 - train /home/users/shubham.kumar/projects/lung_lobe_segmentation/lung_lobe_cct_data.csv\n",
      "2023-11-15 13:35:00.789 | INFO     | src.datamodules.load_data.lung_lobe_segmentation:_load_hdf5_seg_dataset_ctloader:284 - 291\n",
      "2023-11-15 13:35:00.797 | INFO     | src.datamodules.load_data.lung_lobe_segmentation:lung_segmentation_data_loader:227 - train /home/users/shubham.kumar/projects/lung_lobe_segmentation/LCTSC_dataset.csv\n",
      "2023-11-15 13:35:01.358 | INFO     | src.datamodules.load_data.lung_lobe_segmentation:_load_hdf5_seg_dataset_ctloader:284 - 24\n",
      "2023-11-15 13:35:01.366 | INFO     | src.datamodules.load_data.lung_lobe_segmentation:lung_segmentation_data_loader:227 - train /home/users/shubham.kumar/projects/lung_lobe_segmentation/LOLA_dataset.csv\n",
      "2023-11-15 13:35:01.708 | INFO     | src.datamodules.load_data.lung_lobe_segmentation:_load_hdf5_seg_dataset_ctloader:284 - 31\n",
      "2023-11-15 13:35:01.714 | INFO     | src.datamodules.load_data.lung_lobe_segmentation:lung_segmentation_data_loader:227 - train /home/users/shubham.kumar/projects/lung_lobe_segmentation/LIDC_dataset.csv\n",
      "2023-11-15 13:35:01.752 | INFO     | src.datamodules.load_data.lung_lobe_segmentation:_load_hdf5_seg_dataset_ctloader:284 - 31\n",
      "2023-11-15 13:35:01.756 | INFO     | src.datamodules.load_data.lung_lobe_segmentation:lung_segmentation_data_loader:227 - train /home/users/shubham.kumar/projects/lung_lobe_segmentation/NLST_dataset.csv\n",
      "2023-11-15 13:35:01.979 | INFO     | src.datamodules.load_data.lung_lobe_segmentation:_load_hdf5_seg_dataset_ctloader:284 - 66\n",
      "2023-11-15 13:35:01.987 | INFO     | src.datamodules.load_data.lung_lobe_segmentation:lung_segmentation_data_loader:227 - train /home/users/shubham.kumar/projects/lung_lobe_segmentation/VESSEL12_dataset.csv\n",
      "2023-11-15 13:35:02.156 | INFO     | src.datamodules.load_data.lung_lobe_segmentation:_load_hdf5_seg_dataset_ctloader:284 - 12\n",
      "2023-11-15 13:35:02.160 | INFO     | src.datamodules.load_data.lung_lobe_segmentation:lung_segmentation_data_loader:227 - train /home/users/shubham.kumar/projects/lung_lobe_segmentation/RAD_CHEST_dataset.csv\n",
      "2023-11-15 13:35:10.734 | INFO     | src.datamodules.load_data.lung_lobe_segmentation:_load_hdf5_seg_dataset_ctloader:284 - 290\n",
      "2023-11-15 13:35:10.740 | INFO     | src.datamodules.load_data.lung_lobe_segmentation:lung_segmentation_data_loader:227 - val /home/users/shubham.kumar/projects/lung_lobe_segmentation/lung_lobe_cct_data.csv\n",
      "2023-11-15 13:35:11.254 | INFO     | src.datamodules.load_data.lung_lobe_segmentation:_load_hdf5_seg_dataset_ctloader:284 - 63\n",
      "2023-11-15 13:35:11.261 | INFO     | src.datamodules.load_data.lung_lobe_segmentation:lung_segmentation_data_loader:227 - val /home/users/shubham.kumar/projects/lung_lobe_segmentation/LCTSC_dataset.csv\n",
      "2023-11-15 13:35:12.155 | INFO     | src.datamodules.load_data.lung_lobe_segmentation:_load_hdf5_seg_dataset_ctloader:284 - 18\n",
      "2023-11-15 13:35:12.160 | INFO     | src.datamodules.load_data.lung_lobe_segmentation:lung_segmentation_data_loader:227 - val /home/users/shubham.kumar/projects/lung_lobe_segmentation/LOLA_dataset.csv\n",
      "2023-11-15 13:35:12.404 | INFO     | src.datamodules.load_data.lung_lobe_segmentation:_load_hdf5_seg_dataset_ctloader:284 - 12\n",
      "2023-11-15 13:35:12.408 | INFO     | src.datamodules.load_data.lung_lobe_segmentation:lung_segmentation_data_loader:227 - val /home/users/shubham.kumar/projects/lung_lobe_segmentation/LIDC_dataset.csv\n",
      "2023-11-15 13:35:12.423 | INFO     | src.datamodules.load_data.lung_lobe_segmentation:_load_hdf5_seg_dataset_ctloader:284 - 10\n",
      "2023-11-15 13:35:12.427 | INFO     | src.datamodules.load_data.lung_lobe_segmentation:lung_segmentation_data_loader:227 - val /home/users/shubham.kumar/projects/lung_lobe_segmentation/NLST_dataset.csv\n",
      "2023-11-15 13:35:12.471 | INFO     | src.datamodules.load_data.lung_lobe_segmentation:_load_hdf5_seg_dataset_ctloader:284 - 22\n",
      "2023-11-15 13:35:12.476 | INFO     | src.datamodules.load_data.lung_lobe_segmentation:lung_segmentation_data_loader:227 - val /home/users/shubham.kumar/projects/lung_lobe_segmentation/VESSEL12_dataset.csv\n",
      "2023-11-15 13:35:12.484 | INFO     | src.datamodules.load_data.lung_lobe_segmentation:_load_hdf5_seg_dataset_ctloader:284 - 4\n",
      "2023-11-15 13:35:12.489 | INFO     | src.datamodules.load_data.lung_lobe_segmentation:lung_segmentation_data_loader:227 - val /home/users/shubham.kumar/projects/lung_lobe_segmentation/RAD_CHEST_dataset.csv\n",
      "2023-11-15 13:35:17.235 | INFO     | src.datamodules.load_data.lung_lobe_segmentation:_load_hdf5_seg_dataset_ctloader:284 - 129\n",
      "2023-11-15 13:35:17.240 | INFO     | src.datamodules.load_data.lung_lobe_segmentation:lung_segmentation_data_loader:227 - test /home/users/shubham.kumar/projects/lung_lobe_segmentation/lung_lobe_cct_data.csv\n",
      "2023-11-15 13:35:17.890 | INFO     | src.datamodules.load_data.lung_lobe_segmentation:_load_hdf5_seg_dataset_ctloader:284 - 63\n",
      "2023-11-15 13:35:17.895 | INFO     | src.datamodules.load_data.lung_lobe_segmentation:lung_segmentation_data_loader:227 - test /home/users/shubham.kumar/projects/lung_lobe_segmentation/LCTSC_dataset.csv\n",
      "2023-11-15 13:35:18.382 | INFO     | src.datamodules.load_data.lung_lobe_segmentation:_load_hdf5_seg_dataset_ctloader:284 - 18\n",
      "2023-11-15 13:35:18.386 | INFO     | src.datamodules.load_data.lung_lobe_segmentation:lung_segmentation_data_loader:227 - test /home/users/shubham.kumar/projects/lung_lobe_segmentation/LOLA_dataset.csv\n",
      "2023-11-15 13:35:18.847 | INFO     | src.datamodules.load_data.lung_lobe_segmentation:_load_hdf5_seg_dataset_ctloader:284 - 11\n",
      "2023-11-15 13:35:18.852 | INFO     | src.datamodules.load_data.lung_lobe_segmentation:lung_segmentation_data_loader:227 - test /home/users/shubham.kumar/projects/lung_lobe_segmentation/LIDC_dataset.csv\n",
      "2023-11-15 13:35:18.875 | INFO     | src.datamodules.load_data.lung_lobe_segmentation:_load_hdf5_seg_dataset_ctloader:284 - 10\n",
      "2023-11-15 13:35:18.878 | INFO     | src.datamodules.load_data.lung_lobe_segmentation:lung_segmentation_data_loader:227 - test /home/users/shubham.kumar/projects/lung_lobe_segmentation/NLST_dataset.csv\n",
      "2023-11-15 13:35:18.973 | INFO     | src.datamodules.load_data.lung_lobe_segmentation:_load_hdf5_seg_dataset_ctloader:284 - 22\n",
      "2023-11-15 13:35:18.976 | INFO     | src.datamodules.load_data.lung_lobe_segmentation:lung_segmentation_data_loader:227 - test /home/users/shubham.kumar/projects/lung_lobe_segmentation/VESSEL12_dataset.csv\n",
      "2023-11-15 13:35:19.091 | INFO     | src.datamodules.load_data.lung_lobe_segmentation:_load_hdf5_seg_dataset_ctloader:284 - 4\n",
      "2023-11-15 13:35:19.094 | INFO     | src.datamodules.load_data.lung_lobe_segmentation:lung_segmentation_data_loader:227 - test /home/users/shubham.kumar/projects/lung_lobe_segmentation/RAD_CHEST_dataset.csv\n",
      "2023-11-15 13:35:21.735 | INFO     | src.datamodules.load_data.lung_lobe_segmentation:_load_hdf5_seg_dataset_ctloader:284 - 103\n",
      "2023-11-15 13:35:21.736 | INFO     | src.datamodules.base_dataloader:setup:56 - Train set Length: 745\n",
      "2023-11-15 13:35:21.737 | INFO     | src.datamodules.base_dataloader:setup:57 - Val set Length: 258\n",
      "2023-11-15 13:35:21.737 | INFO     | src.datamodules.base_dataloader:setup:64 - Test set Length: 231\n"
     ]
    }
   ],
   "source": [
    "datamodule = hydra.utils.instantiate(data_module)"
   ]
  },
  {
   "cell_type": "code",
   "execution_count": 16,
   "id": "cc718c9e",
   "metadata": {},
   "outputs": [],
   "source": [
    "train_ds = datamodule.train_ds\n",
    "val_ds = datamodule.val_ds\n",
    "test_ds = datamodule.test_ds"
   ]
  },
  {
   "cell_type": "code",
   "execution_count": 17,
   "id": "77e3c099",
   "metadata": {},
   "outputs": [],
   "source": [
    "import torch"
   ]
  },
  {
   "cell_type": "code",
   "execution_count": 6,
   "id": "d1b2e811",
   "metadata": {},
   "outputs": [],
   "source": [
    "i = 0 \n",
    "data = train_ds[i]"
   ]
  },
  {
   "cell_type": "code",
   "execution_count": 7,
   "id": "72bbbf8a",
   "metadata": {},
   "outputs": [],
   "source": [
    "image = data[\"image\"]\n",
    "lung_mask = data[\"lung_label\"]"
   ]
  },
  {
   "cell_type": "code",
   "execution_count": 15,
   "id": "0e3983fc",
   "metadata": {
    "scrolled": true
   },
   "outputs": [
    {
     "data": {
      "application/vnd.jupyter.widget-view+json": {
       "model_id": "1170832978614ce490df8f24fce4cabb",
       "version_major": 2,
       "version_minor": 0
      },
      "text/plain": [
       "interactive(children=(IntSlider(value=0, description='z', max=120), Output()), _dom_classes=('widget-interact'…"
      ]
     },
     "metadata": {},
     "output_type": "display_data"
    }
   ],
   "source": [
    "plot_scans([d, lung_mask] , [\"\", \"\"])"
   ]
  },
  {
   "cell_type": "code",
   "execution_count": 21,
   "id": "94240a32",
   "metadata": {},
   "outputs": [
    {
     "data": {
      "application/json": {
       "ascii": false,
       "bar_format": null,
       "colour": null,
       "elapsed": 0.01039576530456543,
       "initial": 0,
       "n": 0,
       "ncols": null,
       "nrows": 60,
       "postfix": null,
       "prefix": "",
       "rate": null,
       "total": 231,
       "unit": "it",
       "unit_divisor": 1000,
       "unit_scale": false
      },
      "application/vnd.jupyter.widget-view+json": {
       "model_id": "b63c779f2394421fb3b4aeecf79fab5a",
       "version_major": 2,
       "version_minor": 0
      },
      "text/plain": [
       "  0%|          | 0/231 [00:00<?, ?it/s]"
      ]
     },
     "metadata": {},
     "output_type": "display_data"
    }
   ],
   "source": [
    "from safetensors.torch import save_file\n",
    "from tqdm.auto import tqdm\n",
    "save_root = \"/cache/fast_data_nas8/qct/shubham/fpr_lung_lobe_dataset\"\n",
    "\n",
    "for i in tqdm(range(len(test_ds))) : \n",
    "    \n",
    "    data = test_ds[i]\n",
    "    sid = data[\"series_uid\"]\n",
    "\n",
    "    data_to_save = {}\n",
    "    data_to_save[\"image\"] = data[\"image\"].to(torch.int64)\n",
    "    data_to_save[\"lung_mask\"] = data[\"lung_label\"].to(torch.int8)\n",
    "\n",
    "    save_file(data_to_save, f\"{save_root}/{sid}.safetensors\")"
   ]
  },
  {
   "cell_type": "code",
   "execution_count": 53,
   "id": "669f0e24",
   "metadata": {},
   "outputs": [],
   "source": [
    "import numpy as np\n",
    "\n",
    "def generate_3d_patch_indices(image_shape, patch_size, overlap):\n",
    "    H, W, D = image_shape\n",
    "    h, w, d = patch_size\n",
    "    o_h, o_w, o_d = overlap\n",
    "\n",
    "    # Calculate stride based on overlap\n",
    "    s_h = h - o_h\n",
    "    s_w = w - o_w\n",
    "    s_d = d - o_d\n",
    "\n",
    "    # Ensure that stride is not less than 1\n",
    "    s_h, s_w, s_d = max(1, s_h), max(1, s_w), max(1, s_d)\n",
    "\n",
    "    # Generating ranges for start indices\n",
    "    z_starts = np.arange(0, H - h + 1, s_h)\n",
    "    y_starts = np.arange(0, W - w + 1, s_w)\n",
    "    x_starts = np.arange(0, D - d + 1, s_d)\n",
    "\n",
    "    # Creating meshgrid of start indices\n",
    "    z_grid, y_grid, x_grid = np.meshgrid(z_starts, y_starts, x_starts, indexing='ij')\n",
    "\n",
    "    # Flattening the arrays to create a list of start indices\n",
    "    starts = np.vstack([z_grid.ravel(), y_grid.ravel(), x_grid.ravel()]).T\n",
    "\n",
    "    # Calculating the corresponding end indices\n",
    "    ends = starts + np.array([h, w, d])\n",
    "\n",
    "    # Combining start and end indices\n",
    "    patch_indices = np.hstack([starts, ends])\n",
    "\n",
    "    return patch_indices\n",
    "\n",
    "# Example usage:\n",
    "# indices = generate_3d_patch_indices((H, W, D), (h, w, d), (o_h, o_w, o_d))\n"
   ]
  },
  {
   "cell_type": "code",
   "execution_count": 56,
   "id": "44c61404",
   "metadata": {},
   "outputs": [],
   "source": [
    "a = generate_3d_patch_indices((350,350,200), (48,48,16), (4,4,2))"
   ]
  },
  {
   "cell_type": "code",
   "execution_count": 57,
   "id": "fffcb4e3",
   "metadata": {},
   "outputs": [
    {
     "data": {
      "text/plain": [
       "686"
      ]
     },
     "execution_count": 57,
     "metadata": {},
     "output_type": "execute_result"
    }
   ],
   "source": [
    "len(a)"
   ]
  },
  {
   "cell_type": "code",
   "execution_count": 58,
   "id": "c18d25f3",
   "metadata": {},
   "outputs": [
    {
     "data": {
      "text/plain": [
       "array([[  0,   0,   0,  48,  48,  16],\n",
       "       [  0,   0,  14,  48,  48,  30],\n",
       "       [  0,   0,  28,  48,  48,  44],\n",
       "       ...,\n",
       "       [264, 264, 154, 312, 312, 170],\n",
       "       [264, 264, 168, 312, 312, 184],\n",
       "       [264, 264, 182, 312, 312, 198]])"
      ]
     },
     "execution_count": 58,
     "metadata": {},
     "output_type": "execute_result"
    }
   ],
   "source": [
    "a"
   ]
  },
  {
   "cell_type": "code",
   "execution_count": null,
   "id": "becd2015",
   "metadata": {},
   "outputs": [],
   "source": [
    "/data_nas5/qer/shubham/mae3d_checkpoints/fpr_mae/runs/2023-11-14_11-44-42/checkpoints/"
   ]
  }
 ],
 "metadata": {
  "kernelspec": {
   "display_name": "Python 3 (ipykernel)",
   "language": "python",
   "name": "python3"
  },
  "language_info": {
   "codemirror_mode": {
    "name": "ipython",
    "version": 3
   },
   "file_extension": ".py",
   "mimetype": "text/x-python",
   "name": "python",
   "nbconvert_exporter": "python",
   "pygments_lexer": "ipython3",
   "version": "3.9.19"
  }
 },
 "nbformat": 4,
 "nbformat_minor": 5
}
