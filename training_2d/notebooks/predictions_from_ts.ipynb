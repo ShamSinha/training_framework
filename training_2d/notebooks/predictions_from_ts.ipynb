{
 "cells": [
  {
   "cell_type": "markdown",
   "metadata": {},
   "source": [
    "This notebook is designed to directly run predictions from ts files on pngs, instead of converting pngs to dcms & then running from gen_rtr in mono repo."
   ]
  },
  {
   "cell_type": "code",
   "execution_count": 4,
   "metadata": {},
   "outputs": [],
   "source": [
    "from omegaconf import DictConfig\n",
    "import importlib\n",
    "import copy\n",
    "from tqdm import tqdm\n",
    "\n",
    "# import model_files\n",
    "from qxr_utils.dicom.utils import get_array_from_dicom\n",
    "from qxr_utils.image.transforms import scale, resize\n",
    "from torch.utils.data import DataLoader\n",
    "import torch.utils.data as data\n",
    "import torch.nn.functional as fn\n",
    "\n",
    "\n",
    "import cv2\n",
    "import matplotlib.pyplot as plt\n",
    "import pandas as pd\n",
    "import os\n",
    "\n",
    "import torch\n"
   ]
  },
  {
   "cell_type": "code",
   "execution_count": 2,
   "metadata": {},
   "outputs": [],
   "source": [
    "# import importlib\n",
    "# importlib.reload(model_files)\n",
    "\n",
    "# from model_files import *\n"
   ]
  },
  {
   "cell_type": "code",
   "execution_count": 2,
   "metadata": {},
   "outputs": [],
   "source": [
    "test_df = pd.read_csv(\n",
    "    \"/fast_data_e2e_1/cxr/qxr_ln_data/LN_test/combined_test_csv_updated_internal_test_13-08-24.csv\",\n",
    "      index_col=0)\n"
   ]
  },
  {
   "cell_type": "code",
   "execution_count": 4,
   "metadata": {},
   "outputs": [],
   "source": [
    "# df.index.to_list()\n"
   ]
  },
  {
   "cell_type": "code",
   "execution_count": 3,
   "metadata": {},
   "outputs": [],
   "source": [
    "images_dir = \"/data_nas5/models/user_checkpoints/abhishek.rai/backup/projects/sbri_mass_testing/batch_2/dicoms/mass/pngs\"\n"
   ]
  },
  {
   "cell_type": "code",
   "execution_count": 4,
   "metadata": {},
   "outputs": [],
   "source": [
    "# folder_path = \"/data_nas5/models/user_checkpoints/abhishek.rai/mass_v4_upgrade/fp_mass_testcases\"\n"
   ]
  },
  {
   "cell_type": "code",
   "execution_count": 5,
   "metadata": {},
   "outputs": [],
   "source": [
    "# with open('/home/users/abhishek.rai/My_notebooks/model/ribfracture_filenames.txt', 'r') as file:\n",
    "#     filenames = file.read().splitlines()\n"
   ]
  },
  {
   "cell_type": "code",
   "execution_count": 6,
   "metadata": {},
   "outputs": [],
   "source": [
    "class ScanD(data.Dataset):\n",
    "    def __init__(self, imdict, imsize=960):\n",
    "        self.imdict = imdict\n",
    "        self.imsize = imsize\n",
    "        self.indices = list(self.imdict.keys())\n",
    "\n",
    "    def __getitem__(self, index):\n",
    "        imid = self.indices[index]\n",
    "        idx, im = self._get_im(imid)\n",
    "        return {\"id\": idx, \"input\": im}\n",
    "\n",
    "    def __len__(self):\n",
    "        return len(self.indices)\n",
    "\n",
    "    def _get_im(self, idx):\n",
    "        try:\n",
    "            impath = self.imdict[idx]\n",
    "            ext = os.path.splitext(impath)[-1]\n",
    "            if ext == \".dcm\":\n",
    "                try:\n",
    "                    im = get_array_from_dicom(impath)\n",
    "                except Exception as e:\n",
    "                    #                     print(e)\n",
    "                    im = None\n",
    "            else:\n",
    "                im = cv2.imread(impath, 0)\n",
    "            if im is not None:\n",
    "                im = resize(self.imsize, self.imsize)(im)\n",
    "                im = scale(im)\n",
    "                im = torch.Tensor(im).reshape(1, self.imsize, self.imsize)\n",
    "                return idx, im\n",
    "            else:\n",
    "                return \"none\", torch.zeros(1, self.imsize, self.imsize)\n",
    "        except Exception as e:\n",
    "            print(e)\n",
    "            print(idx)\n"
   ]
  },
  {
   "cell_type": "code",
   "execution_count": 7,
   "metadata": {},
   "outputs": [],
   "source": [
    "def dict_to_df(preds):\n",
    "    df = pd.DataFrame.from_dict(preds)\n",
    "    df = df.transpose().reset_index()\n",
    "    df = df.rename(columns={\"index\": \"filename\"})\n",
    "    return df\n"
   ]
  },
  {
   "cell_type": "code",
   "execution_count": 8,
   "metadata": {},
   "outputs": [],
   "source": [
    "# png_dict = {filename: os.path.join(images_dir, filename+\".png\") for filename in df.index.to_list() if os.path.exists(os.path.join(images_dir, filename+\".png\"))}\n",
    "# png_dict = {filename: os.path.join(root, filename) for root, dirs, files in os.walk(images_dir) for filename in files}\n",
    "# png_dict = {filename: os.path.join(images_dir, filename+\".png\") for filename in filenames if os.path.exists(os.path.join(images_dir, filename+\".png\"))}\n",
    "png_dict = {filename.split(\".png\")[0]: os.path.join(images_dir, filename) for filename in os.listdir(images_dir) if filename.endswith(\".png\")}\n",
    "dset = ScanD(png_dict, 960)\n"
   ]
  },
  {
   "cell_type": "code",
   "execution_count": 9,
   "metadata": {},
   "outputs": [
    {
     "data": {
      "text/plain": [
       "{'3273dcf8-5f41bc6c-73c6f829-3fc51e72-a0e10503': '/data_nas5/models/user_checkpoints/abhishek.rai/backup/projects/sbri_mass_testing/batch_2/dicoms/mass/pngs/3273dcf8-5f41bc6c-73c6f829-3fc51e72-a0e10503.png',\n",
       " 'b23d22f7-08a9ef0c-2e63e7ae-2b9e961e-3877eeb2': '/data_nas5/models/user_checkpoints/abhishek.rai/backup/projects/sbri_mass_testing/batch_2/dicoms/mass/pngs/b23d22f7-08a9ef0c-2e63e7ae-2b9e961e-3877eeb2.png',\n",
       " '9ee30fd2-4517f40f-3f6051f6-856a257a-cf06ea9c': '/data_nas5/models/user_checkpoints/abhishek.rai/backup/projects/sbri_mass_testing/batch_2/dicoms/mass/pngs/9ee30fd2-4517f40f-3f6051f6-856a257a-cf06ea9c.png',\n",
       " 'eeea5096-ce10518e-3fda8609-8046b420-6aa31c23': '/data_nas5/models/user_checkpoints/abhishek.rai/backup/projects/sbri_mass_testing/batch_2/dicoms/mass/pngs/eeea5096-ce10518e-3fda8609-8046b420-6aa31c23.png',\n",
       " '55024b1f-9881b0a4-9934a99b-c14107eb-3c190071': '/data_nas5/models/user_checkpoints/abhishek.rai/backup/projects/sbri_mass_testing/batch_2/dicoms/mass/pngs/55024b1f-9881b0a4-9934a99b-c14107eb-3c190071.png',\n",
       " 'e2501c7a-931ec2cb-8f8d019d-a78cb0bd-41bb3c8d': '/data_nas5/models/user_checkpoints/abhishek.rai/backup/projects/sbri_mass_testing/batch_2/dicoms/mass/pngs/e2501c7a-931ec2cb-8f8d019d-a78cb0bd-41bb3c8d.png',\n",
       " 'ae9f9223-24a5f228-8ce40d3f-3890f31e-12b7671b': '/data_nas5/models/user_checkpoints/abhishek.rai/backup/projects/sbri_mass_testing/batch_2/dicoms/mass/pngs/ae9f9223-24a5f228-8ce40d3f-3890f31e-12b7671b.png',\n",
       " '0913e395-7b857183-ac755405-45c2fb34-49e29b65': '/data_nas5/models/user_checkpoints/abhishek.rai/backup/projects/sbri_mass_testing/batch_2/dicoms/mass/pngs/0913e395-7b857183-ac755405-45c2fb34-49e29b65.png',\n",
       " 'fa687408-09313113-181f073c-e5ac81b8-96ffe61c': '/data_nas5/models/user_checkpoints/abhishek.rai/backup/projects/sbri_mass_testing/batch_2/dicoms/mass/pngs/fa687408-09313113-181f073c-e5ac81b8-96ffe61c.png',\n",
       " 'f2ec9434-297b0f72-6802d2c8-57dd74dc-cbb9c7c2': '/data_nas5/models/user_checkpoints/abhishek.rai/backup/projects/sbri_mass_testing/batch_2/dicoms/mass/pngs/f2ec9434-297b0f72-6802d2c8-57dd74dc-cbb9c7c2.png',\n",
       " 'bdfbe80f-17628411-6142f8a8-c02e913f-32af7c97': '/data_nas5/models/user_checkpoints/abhishek.rai/backup/projects/sbri_mass_testing/batch_2/dicoms/mass/pngs/bdfbe80f-17628411-6142f8a8-c02e913f-32af7c97.png',\n",
       " 'e537649a-26a186b8-14759962-99949261-4aef1068': '/data_nas5/models/user_checkpoints/abhishek.rai/backup/projects/sbri_mass_testing/batch_2/dicoms/mass/pngs/e537649a-26a186b8-14759962-99949261-4aef1068.png',\n",
       " '8b5788c7-18b864c7-2dbc1371-0dc09b33-d923982d': '/data_nas5/models/user_checkpoints/abhishek.rai/backup/projects/sbri_mass_testing/batch_2/dicoms/mass/pngs/8b5788c7-18b864c7-2dbc1371-0dc09b33-d923982d.png',\n",
       " '43785b9e-2b96f9a8-36465e71-90b635ac-7a82e432': '/data_nas5/models/user_checkpoints/abhishek.rai/backup/projects/sbri_mass_testing/batch_2/dicoms/mass/pngs/43785b9e-2b96f9a8-36465e71-90b635ac-7a82e432.png',\n",
       " '8b68d636-3f5837e3-1476802f-54004672-d224081b': '/data_nas5/models/user_checkpoints/abhishek.rai/backup/projects/sbri_mass_testing/batch_2/dicoms/mass/pngs/8b68d636-3f5837e3-1476802f-54004672-d224081b.png',\n",
       " '69d8aed0-5eb6d940-36089fe1-ad05a502-bf90a7f9': '/data_nas5/models/user_checkpoints/abhishek.rai/backup/projects/sbri_mass_testing/batch_2/dicoms/mass/pngs/69d8aed0-5eb6d940-36089fe1-ad05a502-bf90a7f9.png',\n",
       " '403f76c4-080aef8f-bd0fda6f-b043e811-b860c38b': '/data_nas5/models/user_checkpoints/abhishek.rai/backup/projects/sbri_mass_testing/batch_2/dicoms/mass/pngs/403f76c4-080aef8f-bd0fda6f-b043e811-b860c38b.png',\n",
       " 'fd0fd429-88e5342f-c5dc6bcf-65eade3e-64adcd8b': '/data_nas5/models/user_checkpoints/abhishek.rai/backup/projects/sbri_mass_testing/batch_2/dicoms/mass/pngs/fd0fd429-88e5342f-c5dc6bcf-65eade3e-64adcd8b.png',\n",
       " 'aeaec322-d5801887-f1210057-b281e276-80158f98': '/data_nas5/models/user_checkpoints/abhishek.rai/backup/projects/sbri_mass_testing/batch_2/dicoms/mass/pngs/aeaec322-d5801887-f1210057-b281e276-80158f98.png',\n",
       " 'eb436ae9-25ea9ab2-7ec1e093-ed2abdb4-21a9c3cf': '/data_nas5/models/user_checkpoints/abhishek.rai/backup/projects/sbri_mass_testing/batch_2/dicoms/mass/pngs/eb436ae9-25ea9ab2-7ec1e093-ed2abdb4-21a9c3cf.png',\n",
       " 'daa1628a-a4568466-7fddd20f-367d004b-f8c354fd': '/data_nas5/models/user_checkpoints/abhishek.rai/backup/projects/sbri_mass_testing/batch_2/dicoms/mass/pngs/daa1628a-a4568466-7fddd20f-367d004b-f8c354fd.png',\n",
       " '5a2067a0-5c197a6e-42ee287f-74485699-517a6c4b': '/data_nas5/models/user_checkpoints/abhishek.rai/backup/projects/sbri_mass_testing/batch_2/dicoms/mass/pngs/5a2067a0-5c197a6e-42ee287f-74485699-517a6c4b.png',\n",
       " '2873922a-c8099bef-c41e04a4-9f17bef6-9c53da41': '/data_nas5/models/user_checkpoints/abhishek.rai/backup/projects/sbri_mass_testing/batch_2/dicoms/mass/pngs/2873922a-c8099bef-c41e04a4-9f17bef6-9c53da41.png',\n",
       " '8da703ff-847c35be-d01987c0-52edce40-900e7b50': '/data_nas5/models/user_checkpoints/abhishek.rai/backup/projects/sbri_mass_testing/batch_2/dicoms/mass/pngs/8da703ff-847c35be-d01987c0-52edce40-900e7b50.png',\n",
       " 'c2cea9d8-b74b0855-1361c5cf-20f51ce6-0ece66f4': '/data_nas5/models/user_checkpoints/abhishek.rai/backup/projects/sbri_mass_testing/batch_2/dicoms/mass/pngs/c2cea9d8-b74b0855-1361c5cf-20f51ce6-0ece66f4.png',\n",
       " '8c144561-0a88c256-e89e7271-9803e0b7-0e509f29': '/data_nas5/models/user_checkpoints/abhishek.rai/backup/projects/sbri_mass_testing/batch_2/dicoms/mass/pngs/8c144561-0a88c256-e89e7271-9803e0b7-0e509f29.png',\n",
       " 'a5dd10a0-7791c8fc-8acfd72e-6b9fa1a0-d93689b1': '/data_nas5/models/user_checkpoints/abhishek.rai/backup/projects/sbri_mass_testing/batch_2/dicoms/mass/pngs/a5dd10a0-7791c8fc-8acfd72e-6b9fa1a0-d93689b1.png',\n",
       " '88895f4d-28286412-094a89f0-6ae0ede0-19e8a63a': '/data_nas5/models/user_checkpoints/abhishek.rai/backup/projects/sbri_mass_testing/batch_2/dicoms/mass/pngs/88895f4d-28286412-094a89f0-6ae0ede0-19e8a63a.png',\n",
       " 'f82e7b64-be8c95dd-b79b39bc-0e05937f-d65a4858': '/data_nas5/models/user_checkpoints/abhishek.rai/backup/projects/sbri_mass_testing/batch_2/dicoms/mass/pngs/f82e7b64-be8c95dd-b79b39bc-0e05937f-d65a4858.png',\n",
       " 'c174c939-68ded7bb-aa4b2bc4-d6f0e590-b9f167fb': '/data_nas5/models/user_checkpoints/abhishek.rai/backup/projects/sbri_mass_testing/batch_2/dicoms/mass/pngs/c174c939-68ded7bb-aa4b2bc4-d6f0e590-b9f167fb.png',\n",
       " '56863509-b4b9d96f-9a40b00a-8cb4dabf-07b61b73': '/data_nas5/models/user_checkpoints/abhishek.rai/backup/projects/sbri_mass_testing/batch_2/dicoms/mass/pngs/56863509-b4b9d96f-9a40b00a-8cb4dabf-07b61b73.png',\n",
       " '1ee23b26-ebb79a1a-b52179c5-24e13ec5-2328cc05': '/data_nas5/models/user_checkpoints/abhishek.rai/backup/projects/sbri_mass_testing/batch_2/dicoms/mass/pngs/1ee23b26-ebb79a1a-b52179c5-24e13ec5-2328cc05.png',\n",
       " 'f022d35c-dd4dda8f-38734ee5-ee25b924-4483d1fe': '/data_nas5/models/user_checkpoints/abhishek.rai/backup/projects/sbri_mass_testing/batch_2/dicoms/mass/pngs/f022d35c-dd4dda8f-38734ee5-ee25b924-4483d1fe.png',\n",
       " 'bea38629-1a1976f7-1f8851ac-fadf60ae-c014e0c5': '/data_nas5/models/user_checkpoints/abhishek.rai/backup/projects/sbri_mass_testing/batch_2/dicoms/mass/pngs/bea38629-1a1976f7-1f8851ac-fadf60ae-c014e0c5.png',\n",
       " 'ba15721e-3d440f64-afb015c9-279b64cf-db13f925': '/data_nas5/models/user_checkpoints/abhishek.rai/backup/projects/sbri_mass_testing/batch_2/dicoms/mass/pngs/ba15721e-3d440f64-afb015c9-279b64cf-db13f925.png',\n",
       " '73a91002-143f5493-a5e020a5-e6e8a39e-319bd7b3': '/data_nas5/models/user_checkpoints/abhishek.rai/backup/projects/sbri_mass_testing/batch_2/dicoms/mass/pngs/73a91002-143f5493-a5e020a5-e6e8a39e-319bd7b3.png',\n",
       " '997154a3-2aff66f9-0a2fbed5-2f6478de-2dee0322': '/data_nas5/models/user_checkpoints/abhishek.rai/backup/projects/sbri_mass_testing/batch_2/dicoms/mass/pngs/997154a3-2aff66f9-0a2fbed5-2f6478de-2dee0322.png',\n",
       " '45cbc454-d3abde19-ad59bcce-91e60367-5ab91ed8': '/data_nas5/models/user_checkpoints/abhishek.rai/backup/projects/sbri_mass_testing/batch_2/dicoms/mass/pngs/45cbc454-d3abde19-ad59bcce-91e60367-5ab91ed8.png',\n",
       " 'bac65dd1-d18db75a-0c8cf3f5-278d3398-db13d160': '/data_nas5/models/user_checkpoints/abhishek.rai/backup/projects/sbri_mass_testing/batch_2/dicoms/mass/pngs/bac65dd1-d18db75a-0c8cf3f5-278d3398-db13d160.png',\n",
       " 'a802843c-6e5b97f7-a751cb92-e04434ac-f130f0c7': '/data_nas5/models/user_checkpoints/abhishek.rai/backup/projects/sbri_mass_testing/batch_2/dicoms/mass/pngs/a802843c-6e5b97f7-a751cb92-e04434ac-f130f0c7.png',\n",
       " '1ec761ac-ebcdcc35-bfb0984d-79733d5b-c62b8fba': '/data_nas5/models/user_checkpoints/abhishek.rai/backup/projects/sbri_mass_testing/batch_2/dicoms/mass/pngs/1ec761ac-ebcdcc35-bfb0984d-79733d5b-c62b8fba.png',\n",
       " '5010a16b-23bf3845-60eafd8d-d4ec6e8b-740fe280': '/data_nas5/models/user_checkpoints/abhishek.rai/backup/projects/sbri_mass_testing/batch_2/dicoms/mass/pngs/5010a16b-23bf3845-60eafd8d-d4ec6e8b-740fe280.png',\n",
       " '6723a89f-1f66ae51-775804ee-713414c7-066dca3b': '/data_nas5/models/user_checkpoints/abhishek.rai/backup/projects/sbri_mass_testing/batch_2/dicoms/mass/pngs/6723a89f-1f66ae51-775804ee-713414c7-066dca3b.png',\n",
       " '1bb42735-a20b16bb-a453cbfa-3d5fb21d-3dc4f7f0': '/data_nas5/models/user_checkpoints/abhishek.rai/backup/projects/sbri_mass_testing/batch_2/dicoms/mass/pngs/1bb42735-a20b16bb-a453cbfa-3d5fb21d-3dc4f7f0.png',\n",
       " '84f23ddc-f71e362d-149d66e9-290fd46d-3be1c64d': '/data_nas5/models/user_checkpoints/abhishek.rai/backup/projects/sbri_mass_testing/batch_2/dicoms/mass/pngs/84f23ddc-f71e362d-149d66e9-290fd46d-3be1c64d.png',\n",
       " 'e46cfeb4-ba92f271-12332865-2d0b1493-91c7c16e': '/data_nas5/models/user_checkpoints/abhishek.rai/backup/projects/sbri_mass_testing/batch_2/dicoms/mass/pngs/e46cfeb4-ba92f271-12332865-2d0b1493-91c7c16e.png',\n",
       " '85206015-4f83407f-eb48fb5a-33974b0d-33deff7a': '/data_nas5/models/user_checkpoints/abhishek.rai/backup/projects/sbri_mass_testing/batch_2/dicoms/mass/pngs/85206015-4f83407f-eb48fb5a-33974b0d-33deff7a.png',\n",
       " '6da87682-64ee2c87-7ee9e1eb-4517d93f-eaf4df0b': '/data_nas5/models/user_checkpoints/abhishek.rai/backup/projects/sbri_mass_testing/batch_2/dicoms/mass/pngs/6da87682-64ee2c87-7ee9e1eb-4517d93f-eaf4df0b.png',\n",
       " '8283c916-ac472af2-49b1c9c6-6397b75a-bfec28ed': '/data_nas5/models/user_checkpoints/abhishek.rai/backup/projects/sbri_mass_testing/batch_2/dicoms/mass/pngs/8283c916-ac472af2-49b1c9c6-6397b75a-bfec28ed.png',\n",
       " 'c8911071-b14e0c08-20f8a537-1c5d4b46-3ad84ef2': '/data_nas5/models/user_checkpoints/abhishek.rai/backup/projects/sbri_mass_testing/batch_2/dicoms/mass/pngs/c8911071-b14e0c08-20f8a537-1c5d4b46-3ad84ef2.png',\n",
       " '32f379c9-8899ea4e-79f600ee-ffe40d32-00eaa072': '/data_nas5/models/user_checkpoints/abhishek.rai/backup/projects/sbri_mass_testing/batch_2/dicoms/mass/pngs/32f379c9-8899ea4e-79f600ee-ffe40d32-00eaa072.png',\n",
       " 'a54e3e7a-5e64577e-e61dfe98-33e9770e-7b5c05ef': '/data_nas5/models/user_checkpoints/abhishek.rai/backup/projects/sbri_mass_testing/batch_2/dicoms/mass/pngs/a54e3e7a-5e64577e-e61dfe98-33e9770e-7b5c05ef.png',\n",
       " '85129f4d-0bc1dbdd-1b385679-120a9c34-c3e30b59': '/data_nas5/models/user_checkpoints/abhishek.rai/backup/projects/sbri_mass_testing/batch_2/dicoms/mass/pngs/85129f4d-0bc1dbdd-1b385679-120a9c34-c3e30b59.png',\n",
       " '08e50a69-24f0bf7c-bdd65ef4-ac18c087-39dcb657': '/data_nas5/models/user_checkpoints/abhishek.rai/backup/projects/sbri_mass_testing/batch_2/dicoms/mass/pngs/08e50a69-24f0bf7c-bdd65ef4-ac18c087-39dcb657.png',\n",
       " '30aa775e-dba44ae2-7920747a-3367e504-6ea47a80': '/data_nas5/models/user_checkpoints/abhishek.rai/backup/projects/sbri_mass_testing/batch_2/dicoms/mass/pngs/30aa775e-dba44ae2-7920747a-3367e504-6ea47a80.png',\n",
       " 'abe31592-572b308d-780bda9f-b48ae86f-4864cafa': '/data_nas5/models/user_checkpoints/abhishek.rai/backup/projects/sbri_mass_testing/batch_2/dicoms/mass/pngs/abe31592-572b308d-780bda9f-b48ae86f-4864cafa.png',\n",
       " '9981c62c-01ab994a-a8ae4ba7-7635ac42-c4bfd1f5': '/data_nas5/models/user_checkpoints/abhishek.rai/backup/projects/sbri_mass_testing/batch_2/dicoms/mass/pngs/9981c62c-01ab994a-a8ae4ba7-7635ac42-c4bfd1f5.png',\n",
       " '2816845f-b3e62dcf-493f3363-2b4272e4-e4266299': '/data_nas5/models/user_checkpoints/abhishek.rai/backup/projects/sbri_mass_testing/batch_2/dicoms/mass/pngs/2816845f-b3e62dcf-493f3363-2b4272e4-e4266299.png',\n",
       " '5a36d7d2-4b06e0a7-68f523a4-8e24eaa9-b7c14f74': '/data_nas5/models/user_checkpoints/abhishek.rai/backup/projects/sbri_mass_testing/batch_2/dicoms/mass/pngs/5a36d7d2-4b06e0a7-68f523a4-8e24eaa9-b7c14f74.png',\n",
       " '1c707a81-90fb9393-ad7b5cf2-b662f9a1-d03793e5': '/data_nas5/models/user_checkpoints/abhishek.rai/backup/projects/sbri_mass_testing/batch_2/dicoms/mass/pngs/1c707a81-90fb9393-ad7b5cf2-b662f9a1-d03793e5.png',\n",
       " '20e11d95-bf3a4a7c-9ee4d385-9e2080bc-09a70bd3': '/data_nas5/models/user_checkpoints/abhishek.rai/backup/projects/sbri_mass_testing/batch_2/dicoms/mass/pngs/20e11d95-bf3a4a7c-9ee4d385-9e2080bc-09a70bd3.png',\n",
       " '3453baec-670dd3dc-4ca301f6-71eb2710-c0afcd17': '/data_nas5/models/user_checkpoints/abhishek.rai/backup/projects/sbri_mass_testing/batch_2/dicoms/mass/pngs/3453baec-670dd3dc-4ca301f6-71eb2710-c0afcd17.png',\n",
       " '4bb13448-df3e4bad-d14844f0-b048afe9-6c239334': '/data_nas5/models/user_checkpoints/abhishek.rai/backup/projects/sbri_mass_testing/batch_2/dicoms/mass/pngs/4bb13448-df3e4bad-d14844f0-b048afe9-6c239334.png',\n",
       " 'cdfb3678-9a12132f-aba632e6-a9d869a1-1c95f092': '/data_nas5/models/user_checkpoints/abhishek.rai/backup/projects/sbri_mass_testing/batch_2/dicoms/mass/pngs/cdfb3678-9a12132f-aba632e6-a9d869a1-1c95f092.png',\n",
       " 'd9db05fb-adb21039-54aa6f96-87765b9e-c2c3134f': '/data_nas5/models/user_checkpoints/abhishek.rai/backup/projects/sbri_mass_testing/batch_2/dicoms/mass/pngs/d9db05fb-adb21039-54aa6f96-87765b9e-c2c3134f.png',\n",
       " '48e31fad-c4423bf0-aae96543-23fd404a-b544c60f': '/data_nas5/models/user_checkpoints/abhishek.rai/backup/projects/sbri_mass_testing/batch_2/dicoms/mass/pngs/48e31fad-c4423bf0-aae96543-23fd404a-b544c60f.png',\n",
       " '5cd9803e-fb8d3316-194be18c-3aaee19c-33cc50f7': '/data_nas5/models/user_checkpoints/abhishek.rai/backup/projects/sbri_mass_testing/batch_2/dicoms/mass/pngs/5cd9803e-fb8d3316-194be18c-3aaee19c-33cc50f7.png',\n",
       " 'f8759a00-7776e9e2-a7219239-bf2a7409-bd9ff5e2': '/data_nas5/models/user_checkpoints/abhishek.rai/backup/projects/sbri_mass_testing/batch_2/dicoms/mass/pngs/f8759a00-7776e9e2-a7219239-bf2a7409-bd9ff5e2.png',\n",
       " '35d8e7fa-64192ea3-468c7257-76ab5fda-c934b78f': '/data_nas5/models/user_checkpoints/abhishek.rai/backup/projects/sbri_mass_testing/batch_2/dicoms/mass/pngs/35d8e7fa-64192ea3-468c7257-76ab5fda-c934b78f.png',\n",
       " '5f9b2aae-04b97ee9-e71c7ca8-a6696533-d400eb70': '/data_nas5/models/user_checkpoints/abhishek.rai/backup/projects/sbri_mass_testing/batch_2/dicoms/mass/pngs/5f9b2aae-04b97ee9-e71c7ca8-a6696533-d400eb70.png',\n",
       " '940a9c38-3c46c6c7-d5e4c022-4eeaeb3a-e162916e': '/data_nas5/models/user_checkpoints/abhishek.rai/backup/projects/sbri_mass_testing/batch_2/dicoms/mass/pngs/940a9c38-3c46c6c7-d5e4c022-4eeaeb3a-e162916e.png',\n",
       " '073633cf-5a5ddda3-e77a0d6d-5bec5ae4-195a5d41': '/data_nas5/models/user_checkpoints/abhishek.rai/backup/projects/sbri_mass_testing/batch_2/dicoms/mass/pngs/073633cf-5a5ddda3-e77a0d6d-5bec5ae4-195a5d41.png',\n",
       " 'e8ca646c-e8ab28e8-be2f727a-a827f299-16bd9cab': '/data_nas5/models/user_checkpoints/abhishek.rai/backup/projects/sbri_mass_testing/batch_2/dicoms/mass/pngs/e8ca646c-e8ab28e8-be2f727a-a827f299-16bd9cab.png'}"
      ]
     },
     "execution_count": 9,
     "metadata": {},
     "output_type": "execute_result"
    }
   ],
   "source": [
    "png_dict\n"
   ]
  },
  {
   "cell_type": "code",
   "execution_count": 10,
   "metadata": {},
   "outputs": [],
   "source": [
    "# def load_subset(dictionary, x):\n",
    "#     return {k: dictionary[k] for k in list(dictionary)[:x]}\n"
   ]
  },
  {
   "cell_type": "code",
   "execution_count": 11,
   "metadata": {},
   "outputs": [],
   "source": [
    "# png_dict_sub = load_subset(png_dict, 10)\n",
    "# dset = model_files.ScanD(png_dict_sub, 960)\n"
   ]
  },
  {
   "cell_type": "code",
   "execution_count": 12,
   "metadata": {},
   "outputs": [
    {
     "data": {
      "text/plain": [
       "torch.Size([1, 960, 960])"
      ]
     },
     "execution_count": 12,
     "metadata": {},
     "output_type": "execute_result"
    }
   ],
   "source": [
    "dset[0]['input'].shape"
   ]
  },
  {
   "cell_type": "code",
   "execution_count": 13,
   "metadata": {},
   "outputs": [
    {
     "data": {
      "text/plain": [
       "73"
      ]
     },
     "execution_count": 13,
     "metadata": {},
     "output_type": "execute_result"
    }
   ],
   "source": [
    "len(dset)\n"
   ]
  },
  {
   "cell_type": "code",
   "execution_count": 14,
   "metadata": {},
   "outputs": [],
   "source": [
    "dloader = DataLoader(dset, batch_size=16, num_workers=8)"
   ]
  },
  {
   "cell_type": "code",
   "execution_count": 15,
   "metadata": {},
   "outputs": [],
   "source": [
    "def show_im(im_id, tag=None, which=\"im\"):\n",
    "    if which==\"im\":\n",
    "        im_path = os.path.join(images_dir, im_id)\n",
    "    elif which==\"annot\":\n",
    "        im_path = os.path.join(annotation_dir, tag, im_id)\n",
    "    \n",
    "    im = cv2.imread(im_path, 0)\n",
    "    plt.imshow(im, cmap='gray')\n",
    "    \n",
    "    \n",
    "def get_tensor(im_id):\n",
    "    im_path = os.path.join(images_dir, im_id)\n",
    "    print(im_path)\n",
    "    im = cv2.imread(im_path, 0)\n",
    "    im = scale(resize(960, 960)(im))\n",
    "    \n",
    "    im = torch.tensor(im, dtype=torch.float32).unsqueeze(0).unsqueeze(0).to(\"cuda:2\")\n",
    "    return im\n"
   ]
  },
  {
   "cell_type": "code",
   "execution_count": 16,
   "metadata": {},
   "outputs": [],
   "source": [
    "model = torch.jit.load('/data_nas5/models/user_checkpoints/abhishek.rai/qureai/packages/python/qxr/traces_ts/v4_mass_cuda.ts', map_location='cuda')\n",
    "# model.eval()\n"
   ]
  },
  {
   "cell_type": "code",
   "execution_count": 17,
   "metadata": {},
   "outputs": [],
   "source": [
    "def run_model(model, dloader, names, seg=False, save_dir=None):\n",
    "    \n",
    "    if seg:\n",
    "        assert save_dir, \"save_dir not provided\"\n",
    "    \n",
    "    preds = {}\n",
    "    for batch in tqdm(dloader):\n",
    "        with torch.no_grad():\n",
    "            ids = batch['id']\n",
    "            inputs = batch['input']\n",
    "        \n",
    "            out = model(inputs.to(\"cuda:0\"))\n",
    "\n",
    "            cls_out = out[0]\n",
    "            seg_out = out[1]\n",
    "            \n",
    "            \n",
    "            for tag in names:\n",
    "                tdata = None\n",
    "                sdata = None\n",
    "                \n",
    "                # if tag in cls_out:\n",
    "                #     tdata = fn.softmax(cls_out[tag].cpu(), dim=1)[:,1]\n",
    "                    \n",
    "                if seg and (tag in seg_out):\n",
    "                    sdata = fn.softmax(seg_out[tag].cpu(), dim=1)[:,1,:,:]\n",
    "                    os.makedirs(os.path.join(save_dir, tag), exist_ok=True)\n",
    "\n",
    "                tdata = cls_out[tag]\n",
    "                sdata = seg_out[tag]\n",
    "\n",
    "                for i, idx in enumerate(ids):\n",
    "                    if not idx in preds:\n",
    "                        preds[idx] = {}\n",
    "                        \n",
    "                    if not (tdata is None):\n",
    "                        preds[idx].update({tag: tdata[i].item()})\n",
    "                        \n",
    "                    if not (sdata is None):\n",
    "                        s_out = sdata[i].detach().cpu().numpy()\n",
    "                        seg_max = s_out.max().item()\n",
    "                        \n",
    "                        preds[idx].update({f\"{tag}_seg\": seg_max})\n",
    "                        cv2.imwrite(f\"{save_dir}/{tag}/{idx}.png\", (s_out)*255)   \n",
    "                        \n",
    "                        \n",
    "    \n",
    "    return dict_to_df(preds)\n"
   ]
  },
  {
   "cell_type": "code",
   "execution_count": 18,
   "metadata": {},
   "outputs": [
    {
     "name": "stderr",
     "output_type": "stream",
     "text": [
      "100%|██████████| 5/5 [00:19<00:00,  3.83s/it]\n"
     ]
    }
   ],
   "source": [
    "out = run_model(model, dloader, #['endotracheal_tube_cls','nasogastric_tube_cls','tracheostomy_tube_cls','central_venous_catheter_tip_cls'],\n",
    "                                 ['mass','mediastinal_mass'],\n",
    "                                  seg=False, save_dir=\"\")\n"
   ]
  },
  {
   "cell_type": "code",
   "execution_count": 19,
   "metadata": {},
   "outputs": [
    {
     "data": {
      "text/html": [
       "<div>\n",
       "<style scoped>\n",
       "    .dataframe tbody tr th:only-of-type {\n",
       "        vertical-align: middle;\n",
       "    }\n",
       "\n",
       "    .dataframe tbody tr th {\n",
       "        vertical-align: top;\n",
       "    }\n",
       "\n",
       "    .dataframe thead th {\n",
       "        text-align: right;\n",
       "    }\n",
       "</style>\n",
       "<table border=\"1\" class=\"dataframe\">\n",
       "  <thead>\n",
       "    <tr style=\"text-align: right;\">\n",
       "      <th></th>\n",
       "      <th>filename</th>\n",
       "      <th>mass</th>\n",
       "      <th>mass_seg</th>\n",
       "      <th>mediastinal_mass</th>\n",
       "      <th>mediastinal_mass_seg</th>\n",
       "    </tr>\n",
       "  </thead>\n",
       "  <tbody>\n",
       "    <tr>\n",
       "      <th>0</th>\n",
       "      <td>3273dcf8-5f41bc6c-73c6f829-3fc51e72-a0e10503</td>\n",
       "      <td>4.308840e-05</td>\n",
       "      <td>0.002474</td>\n",
       "      <td>0.151091</td>\n",
       "      <td>0.066941</td>\n",
       "    </tr>\n",
       "    <tr>\n",
       "      <th>1</th>\n",
       "      <td>b23d22f7-08a9ef0c-2e63e7ae-2b9e961e-3877eeb2</td>\n",
       "      <td>7.768479e-03</td>\n",
       "      <td>0.005317</td>\n",
       "      <td>0.000011</td>\n",
       "      <td>0.000351</td>\n",
       "    </tr>\n",
       "    <tr>\n",
       "      <th>2</th>\n",
       "      <td>9ee30fd2-4517f40f-3f6051f6-856a257a-cf06ea9c</td>\n",
       "      <td>1.780066e-01</td>\n",
       "      <td>0.458210</td>\n",
       "      <td>0.000210</td>\n",
       "      <td>0.001038</td>\n",
       "    </tr>\n",
       "    <tr>\n",
       "      <th>3</th>\n",
       "      <td>eeea5096-ce10518e-3fda8609-8046b420-6aa31c23</td>\n",
       "      <td>2.104375e-07</td>\n",
       "      <td>0.000554</td>\n",
       "      <td>0.000006</td>\n",
       "      <td>0.000326</td>\n",
       "    </tr>\n",
       "    <tr>\n",
       "      <th>4</th>\n",
       "      <td>55024b1f-9881b0a4-9934a99b-c14107eb-3c190071</td>\n",
       "      <td>1.018091e-01</td>\n",
       "      <td>0.762217</td>\n",
       "      <td>0.000094</td>\n",
       "      <td>0.000996</td>\n",
       "    </tr>\n",
       "    <tr>\n",
       "      <th>...</th>\n",
       "      <td>...</td>\n",
       "      <td>...</td>\n",
       "      <td>...</td>\n",
       "      <td>...</td>\n",
       "      <td>...</td>\n",
       "    </tr>\n",
       "    <tr>\n",
       "      <th>68</th>\n",
       "      <td>35d8e7fa-64192ea3-468c7257-76ab5fda-c934b78f</td>\n",
       "      <td>1.342975e-04</td>\n",
       "      <td>0.002843</td>\n",
       "      <td>0.000183</td>\n",
       "      <td>0.000681</td>\n",
       "    </tr>\n",
       "    <tr>\n",
       "      <th>69</th>\n",
       "      <td>5f9b2aae-04b97ee9-e71c7ca8-a6696533-d400eb70</td>\n",
       "      <td>1.042808e-02</td>\n",
       "      <td>0.033077</td>\n",
       "      <td>0.000102</td>\n",
       "      <td>0.000815</td>\n",
       "    </tr>\n",
       "    <tr>\n",
       "      <th>70</th>\n",
       "      <td>940a9c38-3c46c6c7-d5e4c022-4eeaeb3a-e162916e</td>\n",
       "      <td>8.372279e-05</td>\n",
       "      <td>0.003152</td>\n",
       "      <td>0.000006</td>\n",
       "      <td>0.000494</td>\n",
       "    </tr>\n",
       "    <tr>\n",
       "      <th>71</th>\n",
       "      <td>073633cf-5a5ddda3-e77a0d6d-5bec5ae4-195a5d41</td>\n",
       "      <td>1.318888e-03</td>\n",
       "      <td>0.056638</td>\n",
       "      <td>0.000995</td>\n",
       "      <td>0.005184</td>\n",
       "    </tr>\n",
       "    <tr>\n",
       "      <th>72</th>\n",
       "      <td>e8ca646c-e8ab28e8-be2f727a-a827f299-16bd9cab</td>\n",
       "      <td>1.129172e-05</td>\n",
       "      <td>0.001050</td>\n",
       "      <td>0.000004</td>\n",
       "      <td>0.000378</td>\n",
       "    </tr>\n",
       "  </tbody>\n",
       "</table>\n",
       "<p>73 rows × 5 columns</p>\n",
       "</div>"
      ],
      "text/plain": [
       "                                        filename          mass  mass_seg  \\\n",
       "0   3273dcf8-5f41bc6c-73c6f829-3fc51e72-a0e10503  4.308840e-05  0.002474   \n",
       "1   b23d22f7-08a9ef0c-2e63e7ae-2b9e961e-3877eeb2  7.768479e-03  0.005317   \n",
       "2   9ee30fd2-4517f40f-3f6051f6-856a257a-cf06ea9c  1.780066e-01  0.458210   \n",
       "3   eeea5096-ce10518e-3fda8609-8046b420-6aa31c23  2.104375e-07  0.000554   \n",
       "4   55024b1f-9881b0a4-9934a99b-c14107eb-3c190071  1.018091e-01  0.762217   \n",
       "..                                           ...           ...       ...   \n",
       "68  35d8e7fa-64192ea3-468c7257-76ab5fda-c934b78f  1.342975e-04  0.002843   \n",
       "69  5f9b2aae-04b97ee9-e71c7ca8-a6696533-d400eb70  1.042808e-02  0.033077   \n",
       "70  940a9c38-3c46c6c7-d5e4c022-4eeaeb3a-e162916e  8.372279e-05  0.003152   \n",
       "71  073633cf-5a5ddda3-e77a0d6d-5bec5ae4-195a5d41  1.318888e-03  0.056638   \n",
       "72  e8ca646c-e8ab28e8-be2f727a-a827f299-16bd9cab  1.129172e-05  0.001050   \n",
       "\n",
       "    mediastinal_mass  mediastinal_mass_seg  \n",
       "0           0.151091              0.066941  \n",
       "1           0.000011              0.000351  \n",
       "2           0.000210              0.001038  \n",
       "3           0.000006              0.000326  \n",
       "4           0.000094              0.000996  \n",
       "..               ...                   ...  \n",
       "68          0.000183              0.000681  \n",
       "69          0.000102              0.000815  \n",
       "70          0.000006              0.000494  \n",
       "71          0.000995              0.005184  \n",
       "72          0.000004              0.000378  \n",
       "\n",
       "[73 rows x 5 columns]"
      ]
     },
     "execution_count": 19,
     "metadata": {},
     "output_type": "execute_result"
    }
   ],
   "source": [
    "out\n"
   ]
  },
  {
   "cell_type": "code",
   "execution_count": 25,
   "metadata": {},
   "outputs": [],
   "source": [
    "out['mass_avg'] = out[['mass', 'mass_seg']].mean(axis=1)\n",
    "out['mediastinal_mass_avg'] = out[['mediastinal_mass', 'mediastinal_mass_seg']].mean(axis=1)\n"
   ]
  },
  {
   "cell_type": "code",
   "execution_count": null,
   "metadata": {},
   "outputs": [],
   "source": [
    "out['mass_avg']\n"
   ]
  },
  {
   "cell_type": "code",
   "execution_count": 26,
   "metadata": {},
   "outputs": [],
   "source": [
    "out['mass_th'] = 0.5\n"
   ]
  },
  {
   "cell_type": "code",
   "execution_count": 29,
   "metadata": {},
   "outputs": [
    {
     "data": {
      "text/plain": [
       "False    66\n",
       "True      7\n",
       "Name: mass_pred, dtype: int64"
      ]
     },
     "execution_count": 29,
     "metadata": {},
     "output_type": "execute_result"
    }
   ],
   "source": [
    "out['mass_pred'] = out['mass_avg']>out['mass_th']\n",
    "out['mass_pred'].value_counts()\n"
   ]
  },
  {
   "cell_type": "code",
   "execution_count": 29,
   "metadata": {},
   "outputs": [
    {
     "data": {
      "text/html": [
       "<div>\n",
       "<style scoped>\n",
       "    .dataframe tbody tr th:only-of-type {\n",
       "        vertical-align: middle;\n",
       "    }\n",
       "\n",
       "    .dataframe tbody tr th {\n",
       "        vertical-align: top;\n",
       "    }\n",
       "\n",
       "    .dataframe thead th {\n",
       "        text-align: right;\n",
       "    }\n",
       "</style>\n",
       "<table border=\"1\" class=\"dataframe\">\n",
       "  <thead>\n",
       "    <tr style=\"text-align: right;\">\n",
       "      <th></th>\n",
       "      <th>filename</th>\n",
       "      <th>cvc</th>\n",
       "      <th>cvc_seg</th>\n",
       "      <th>ett</th>\n",
       "      <th>ett_seg</th>\n",
       "      <th>ngt</th>\n",
       "      <th>ngt_seg</th>\n",
       "      <th>tst</th>\n",
       "      <th>tst_seg</th>\n",
       "      <th>ca_junction_seg</th>\n",
       "      <th>carina_seg</th>\n",
       "      <th>ge_junction_seg</th>\n",
       "    </tr>\n",
       "  </thead>\n",
       "  <tbody>\n",
       "    <tr>\n",
       "      <th>0</th>\n",
       "      <td>1.2.392.200036.9125.9.0.3827062279.201334784.4...</td>\n",
       "      <td>0.839997</td>\n",
       "      <td>0.229564</td>\n",
       "      <td>0.902936</td>\n",
       "      <td>0.976249</td>\n",
       "      <td>0.050718</td>\n",
       "      <td>0.235887</td>\n",
       "      <td>0.000301</td>\n",
       "      <td>0.016481</td>\n",
       "      <td>0.261661</td>\n",
       "      <td>0.396308</td>\n",
       "      <td>0.360831</td>\n",
       "    </tr>\n",
       "    <tr>\n",
       "      <th>1</th>\n",
       "      <td>1.2.840.113564.101037108.2019042813562815692.2...</td>\n",
       "      <td>0.294064</td>\n",
       "      <td>0.270543</td>\n",
       "      <td>0.600423</td>\n",
       "      <td>0.649254</td>\n",
       "      <td>0.047659</td>\n",
       "      <td>0.135116</td>\n",
       "      <td>0.001217</td>\n",
       "      <td>0.026955</td>\n",
       "      <td>0.160517</td>\n",
       "      <td>0.181411</td>\n",
       "      <td>0.103649</td>\n",
       "    </tr>\n",
       "    <tr>\n",
       "      <th>2</th>\n",
       "      <td>1.2.840.113564.101037108.2020040200182835932.2...</td>\n",
       "      <td>0.125106</td>\n",
       "      <td>0.185917</td>\n",
       "      <td>0.801957</td>\n",
       "      <td>0.953692</td>\n",
       "      <td>0.139789</td>\n",
       "      <td>0.098321</td>\n",
       "      <td>0.020542</td>\n",
       "      <td>0.070726</td>\n",
       "      <td>0.258791</td>\n",
       "      <td>0.387690</td>\n",
       "      <td>0.080401</td>\n",
       "    </tr>\n",
       "    <tr>\n",
       "      <th>3</th>\n",
       "      <td>1.2.840.113564.101037108.2020050503120034323.2...</td>\n",
       "      <td>0.016116</td>\n",
       "      <td>0.049928</td>\n",
       "      <td>0.591601</td>\n",
       "      <td>0.586849</td>\n",
       "      <td>0.037994</td>\n",
       "      <td>0.050890</td>\n",
       "      <td>0.031151</td>\n",
       "      <td>0.074452</td>\n",
       "      <td>0.135088</td>\n",
       "      <td>0.104418</td>\n",
       "      <td>0.049319</td>\n",
       "    </tr>\n",
       "    <tr>\n",
       "      <th>4</th>\n",
       "      <td>esophagealatresiatef04mdnasogastrictubecoiledi...</td>\n",
       "      <td>0.051411</td>\n",
       "      <td>0.034557</td>\n",
       "      <td>0.024583</td>\n",
       "      <td>0.193046</td>\n",
       "      <td>0.199866</td>\n",
       "      <td>0.292335</td>\n",
       "      <td>0.000052</td>\n",
       "      <td>0.013796</td>\n",
       "      <td>0.299180</td>\n",
       "      <td>0.283582</td>\n",
       "      <td>0.271533</td>\n",
       "    </tr>\n",
       "    <tr>\n",
       "      <th>5</th>\n",
       "      <td>malpositioned-nasogastric-tube-6              ...</td>\n",
       "      <td>0.964786</td>\n",
       "      <td>0.358188</td>\n",
       "      <td>0.763829</td>\n",
       "      <td>0.850025</td>\n",
       "      <td>0.479343</td>\n",
       "      <td>0.528655</td>\n",
       "      <td>0.002304</td>\n",
       "      <td>0.029037</td>\n",
       "      <td>0.414213</td>\n",
       "      <td>0.553742</td>\n",
       "      <td>0.376391</td>\n",
       "    </tr>\n",
       "    <tr>\n",
       "      <th>6</th>\n",
       "      <td>nasogastrictubemalfunction04mdnasogastrictubel...</td>\n",
       "      <td>0.091848</td>\n",
       "      <td>0.057803</td>\n",
       "      <td>0.076101</td>\n",
       "      <td>0.448315</td>\n",
       "      <td>0.386027</td>\n",
       "      <td>0.550409</td>\n",
       "      <td>0.000436</td>\n",
       "      <td>0.014891</td>\n",
       "      <td>0.263922</td>\n",
       "      <td>0.444540</td>\n",
       "      <td>0.253929</td>\n",
       "    </tr>\n",
       "  </tbody>\n",
       "</table>\n",
       "</div>"
      ],
      "text/plain": [
       "  filename                                                                                   \\\n",
       "0  1.2.392.200036.9125.9.0.3827062279.201334784.4...                                          \n",
       "1  1.2.840.113564.101037108.2019042813562815692.2...                                          \n",
       "2  1.2.840.113564.101037108.2020040200182835932.2...                                          \n",
       "3  1.2.840.113564.101037108.2020050503120034323.2...                                          \n",
       "4  esophagealatresiatef04mdnasogastrictubecoiledi...                                          \n",
       "5  malpositioned-nasogastric-tube-6              ...                                          \n",
       "6  nasogastrictubemalfunction04mdnasogastrictubel...                                          \n",
       "\n",
       "   cvc                    cvc_seg                ett                    \\\n",
       "0               0.839997               0.229564               0.902936   \n",
       "1               0.294064               0.270543               0.600423   \n",
       "2               0.125106               0.185917               0.801957   \n",
       "3               0.016116               0.049928               0.591601   \n",
       "4               0.051411               0.034557               0.024583   \n",
       "5               0.964786               0.358188               0.763829   \n",
       "6               0.091848               0.057803               0.076101   \n",
       "\n",
       "   ett_seg               ngt                   ngt_seg               \\\n",
       "0              0.976249              0.050718              0.235887   \n",
       "1              0.649254              0.047659              0.135116   \n",
       "2              0.953692              0.139789              0.098321   \n",
       "3              0.586849              0.037994              0.050890   \n",
       "4              0.193046              0.199866              0.292335   \n",
       "5              0.850025              0.479343              0.528655   \n",
       "6              0.448315              0.386027              0.550409   \n",
       "\n",
       "   tst                      tst_seg                ca_junction_seg       \\\n",
       "0                 0.000301               0.016481              0.261661   \n",
       "1                 0.001217               0.026955              0.160517   \n",
       "2                 0.020542               0.070726              0.258791   \n",
       "3                 0.031151               0.074452              0.135088   \n",
       "4                 0.000052               0.013796              0.299180   \n",
       "5                 0.002304               0.029037              0.414213   \n",
       "6                 0.000436               0.014891              0.263922   \n",
       "\n",
       "   carina_seg            ge_junction_seg  \n",
       "0              0.396308         0.360831  \n",
       "1              0.181411         0.103649  \n",
       "2              0.387690         0.080401  \n",
       "3              0.104418         0.049319  \n",
       "4              0.283582         0.271533  \n",
       "5              0.553742         0.376391  \n",
       "6              0.444540         0.253929  "
      ]
     },
     "execution_count": 29,
     "metadata": {},
     "output_type": "execute_result"
    }
   ],
   "source": [
    "df_ = pd.read_csv('/data_nas5/models/user_checkpoints/abhishek.rai/tubes/discordant_cases/ensembled_discordants.csv')\n",
    "df_"
   ]
  },
  {
   "cell_type": "code",
   "execution_count": 32,
   "metadata": {},
   "outputs": [
    {
     "data": {
      "text/plain": [
       "0.9395925"
      ]
     },
     "execution_count": 32,
     "metadata": {},
     "output_type": "execute_result"
    }
   ],
   "source": [
    "(0.902936+0.976249)/2\n"
   ]
  },
  {
   "cell_type": "code",
   "execution_count": null,
   "metadata": {},
   "outputs": [],
   "source": []
  },
  {
   "cell_type": "code",
   "execution_count": null,
   "metadata": {},
   "outputs": [],
   "source": [
    "out.to_csv('/data_nas5/models/user_checkpoints/abhishek.rai/v4_segmentations/pred_scores_v4_ribfracture_positives.csv', index = False)"
   ]
  }
 ],
 "metadata": {
  "kernelspec": {
   "display_name": "QXR",
   "language": "python",
   "name": "python3"
  },
  "language_info": {
   "codemirror_mode": {
    "name": "ipython",
    "version": 3
   },
   "file_extension": ".py",
   "mimetype": "text/x-python",
   "name": "python",
   "nbconvert_exporter": "python",
   "pygments_lexer": "ipython3",
   "version": "3.9.17"
  }
 },
 "nbformat": 4,
 "nbformat_minor": 2
}
