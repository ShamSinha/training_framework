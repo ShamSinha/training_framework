{
 "cells": [
  {
   "cell_type": "code",
   "execution_count": 1,
   "metadata": {},
   "outputs": [],
   "source": [
    "from cxr_training.data.data_utils import data_processing as dpr\n",
    "from cxr_training.nnmodule.models.utils import get_class_from_str\n",
    "from cxr_training.recipes.base_recipe import BaseRecipe\n",
    "from matplotlib import pyplot as plt"
   ]
  },
  {
   "cell_type": "code",
   "execution_count": 2,
   "metadata": {},
   "outputs": [],
   "source": [
    "import hydra\n",
    "from hydra import initialize, compose, core\n",
    "from omegaconf import OmegaConf"
   ]
  },
  {
   "cell_type": "code",
   "execution_count": 3,
   "metadata": {},
   "outputs": [],
   "source": [
    "import omegaconf"
   ]
  },
  {
   "cell_type": "code",
   "execution_count": 4,
   "metadata": {},
   "outputs": [
    {
     "data": {
      "text/plain": [
       "omegaconf.listconfig.ListConfig"
      ]
     },
     "execution_count": 4,
     "metadata": {},
     "output_type": "execute_result"
    }
   ],
   "source": [
    "omegaconf.listconfig.ListConfig"
   ]
  },
  {
   "cell_type": "code",
   "execution_count": 5,
   "metadata": {},
   "outputs": [],
   "source": [
    "hydra.core.global_hydra.GlobalHydra.instance().clear()"
   ]
  },
  {
   "cell_type": "code",
   "execution_count": 6,
   "metadata": {},
   "outputs": [
    {
     "data": {
      "text/plain": [
       "hydra.initialize()"
      ]
     },
     "execution_count": 6,
     "metadata": {},
     "output_type": "execute_result"
    }
   ],
   "source": [
    "initialize(config_path=\"../configs/yaml_files/ashish/\",version_base=\"1.3\")"
   ]
  },
  {
   "cell_type": "code",
   "execution_count": 7,
   "metadata": {},
   "outputs": [],
   "source": [
    "cfg = compose(config_name=\"5_sept_effecientnetb5_unet_old_data_manoj_lr_0.2_rep\")"
   ]
  },
  {
   "cell_type": "code",
   "execution_count": 8,
   "metadata": {},
   "outputs": [
    {
     "data": {
      "text/plain": [
       "'cls_seg'"
      ]
     },
     "execution_count": 8,
     "metadata": {},
     "output_type": "execute_result"
    }
   ],
   "source": [
    "cfg.trainer.recipe"
   ]
  },
  {
   "cell_type": "code",
   "execution_count": 9,
   "metadata": {},
   "outputs": [
    {
     "name": "stderr",
     "output_type": "stream",
     "text": [
      "/home/ubuntu/miniconda3/envs/qtrain/lib/python3.10/site-packages/tqdm/auto.py:21: TqdmWarning: IProgress not found. Please update jupyter and ipywidgets. See https://ipywidgets.readthedocs.io/en/stable/user_install.html\n",
      "  from .autonotebook import tqdm as notebook_tqdm\n"
     ]
    }
   ],
   "source": [
    "br = BaseRecipe(cfg)"
   ]
  },
  {
   "cell_type": "code",
   "execution_count": 10,
   "metadata": {},
   "outputs": [
    {
     "name": "stdout",
     "output_type": "stream",
     "text": [
      "\n",
      " process count is 8 \n",
      "\n",
      "filtered_dfcols:  ['filename', 'solitary', 'nodule', 'normal', 'real']\n",
      "scanning image paths\n",
      "no of images found: 1536648  \n",
      " \n",
      "running the train val split\n",
      "The number of training data points are : 1112195\n",
      "percentage: 87.5396692965941 % \n",
      " \n",
      "The number of validation data points are : 158309\n",
      "percentage: 12.460330703405893 %  \n",
      " \n",
      "Computing Classification weights\n",
      "base class probability based on gts for nodule is 1.576317407248281e-05  \n",
      " \n",
      "base class probability based on gts for normal is 1.547609098701018e-06  \n",
      " \n",
      "base class probability based on gts for solitary is 2.3628372949680346e-05  \n",
      " \n",
      "base class probability based on gts for nota is 1.782826743111099e-06  \n",
      " \n",
      "nodule : 1.576317407248281e-05\n",
      "normal : 1.547609098701018e-06\n",
      "solitary : 2.3628372949680346e-05\n",
      "nota : 3.565653486222198e-06\n",
      "Computing Segmentation weights\n",
      "max_annotation_weights:  [1.]\n",
      "final_sample_wts:  4.999999999955494\n",
      "final_sample_wts:  4.999999999955494\n",
      "value_counts of real :  real\n",
      "1    1242885\n",
      "0      27619\n",
      "Name: count, dtype: int64\n",
      "real_nodule_wt_factor:  1.2397347850362925\n",
      "fake_nodule_wt_factor:  0.6890799811723815\n",
      "no of images after inner join is 1270504\n"
     ]
    }
   ],
   "source": [
    "br.setup_dataloaders()"
   ]
  },
  {
   "cell_type": "code",
   "execution_count": 11,
   "metadata": {},
   "outputs": [],
   "source": [
    "\"\"\"\n",
    "nodule : 0.012632601424794178\n",
    "normal : 0.0012440293801598973\n",
    "homogenous : 0.12407123350807833\n",
    "inhomogenous : 0.020222333269729054\n",
    "solitary : 0.018930915735534414\n",
    "diffuse : 0.05983478637641197\n",
    "regular_border : 0.036827545103981195\n",
    "irregular_border : 0.025785443858050646\n",
    "tinynodule : 0.03996448122763735\n",
    "calcified : 0.0778361009634446\n",
    "cancer : 0.02789199947536382\n",
    "large : 0.02778703322152557\n",
    "nota : 0.0026704507058630377\n",
    "\"\"\"\n",
    "tag_list = [\n",
    "    \"nodule\", \n",
    "    \"normal\", \n",
    "    \"solitary\", \n",
    "    # \"homogenous\", \n",
    "    # \"inhomogenous\", \n",
    "    # \"diffuse\", \n",
    "    # \"regular_border\", \n",
    "    # \"irregular_border\", \n",
    "    # \"tinynodule\", \n",
    "    # \"calcified\", \n",
    "    # \"cancer\", \n",
    "    # \"large\", \n",
    "    \"nota\"\n",
    "]"
   ]
  },
  {
   "cell_type": "code",
   "execution_count": 12,
   "metadata": {},
   "outputs": [
    {
     "name": "stdout",
     "output_type": "stream",
     "text": [
      "nodule 1.6473274504163815\n",
      "normal 0.8752472305521637\n",
      "solitary 1.2858562053076188\n",
      "nota 1.7510852957767484\n"
     ]
    }
   ],
   "source": [
    "total = 0\n",
    "for tag in tag_list:\n",
    "    tag_df = br.dataloader.train_df[br.dataloader.train_df[tag]==1]\n",
    "    print(tag,tag_df[\"final_sample_wts\"].sum())\n",
    "    val = tag_df[\"final_sample_wts\"].sum()\n",
    "    total += val"
   ]
  },
  {
   "cell_type": "code",
   "execution_count": 13,
   "metadata": {},
   "outputs": [
    {
     "name": "stdout",
     "output_type": "stream",
     "text": [
      "nodule 0.38546057931144595\n",
      "normal 0.20480039013743176\n",
      "solitary 0.3008793896342902\n",
      "nota 0.40973903055112226\n"
     ]
    }
   ],
   "source": [
    "tup = []\n",
    "for tag in tag_list:\n",
    "    tag_df = br.dataloader.train_df[br.dataloader.train_df[tag]==1]\n",
    "    # print(tag,tag_df[\"final_sample_wts\"].sum())\n",
    "    val = tag_df[\"final_sample_wts\"].sum()/br.dataloader.train_df[\"final_sample_wts\"].sum()\n",
    "    print(tag,val)\n",
    "    # print(tag_df[\"final_sample_wts\"].value_counts())\n",
    "    # tag_df[\"final_sample_wts\"].hist()\n",
    "    # plt.show()\n",
    "    # tup.append((tag,val))"
   ]
  },
  {
   "cell_type": "code",
   "execution_count": null,
   "metadata": {},
   "outputs": [],
   "source": [
    "br.dataloader.val_df.shape[0] + br.dataloader.train_df.shape[0]"
   ]
  },
  {
   "cell_type": "code",
   "execution_count": null,
   "metadata": {},
   "outputs": [],
   "source": [
    "br.dataloader.train_dataloader"
   ]
  },
  {
   "cell_type": "code",
   "execution_count": null,
   "metadata": {},
   "outputs": [],
   "source": [
    "# tr = iter(br.dataloader.train_dataloader)\n",
    "dl = br.dataloader.train_dataloader()\n",
    "for idx,batch in dl:\n",
    "    print(batch[\"image\"].shape)\n",
    "    break"
   ]
  },
  {
   "cell_type": "code",
   "execution_count": null,
   "metadata": {},
   "outputs": [],
   "source": [
    "tag = \"nodule\"\n",
    "tag_df = br.dataloader.train_df[br.dataloader.train_df[tag]==1]\n",
    "tag_df[\"final_sample_wts\"].hist()"
   ]
  },
  {
   "cell_type": "code",
   "execution_count": null,
   "metadata": {},
   "outputs": [],
   "source": [
    "br.dataloader.train_df.shape"
   ]
  },
  {
   "cell_type": "code",
   "execution_count": null,
   "metadata": {},
   "outputs": [],
   "source": [
    "br.dataloader.train_df.columns"
   ]
  },
  {
   "cell_type": "code",
   "execution_count": null,
   "metadata": {},
   "outputs": [],
   "source": [
    "br.dataloader.train_df[br.dataloader.train_df[\"normal\"]==1].shape[0]"
   ]
  },
  {
   "cell_type": "code",
   "execution_count": null,
   "metadata": {},
   "outputs": [],
   "source": []
  },
  {
   "cell_type": "code",
   "execution_count": null,
   "metadata": {},
   "outputs": [],
   "source": [
    "# dm = get_class_from_str(\"cxr_training.data.dataloader.base_dataloader.DataModule\")"
   ]
  },
  {
   "cell_type": "code",
   "execution_count": null,
   "metadata": {},
   "outputs": [],
   "source": [
    "dpr.ImageLabel()"
   ]
  }
 ],
 "metadata": {
  "kernelspec": {
   "display_name": "qtrain",
   "language": "python",
   "name": "python3"
  },
  "language_info": {
   "codemirror_mode": {
    "name": "ipython",
    "version": 3
   },
   "file_extension": ".py",
   "mimetype": "text/x-python",
   "name": "python",
   "nbconvert_exporter": "python",
   "pygments_lexer": "ipython3",
   "version": "3.10.14"
  }
 },
 "nbformat": 4,
 "nbformat_minor": 2
}
