{
 "cells": [
  {
   "cell_type": "code",
   "execution_count": 1,
   "metadata": {},
   "outputs": [],
   "source": [
    "import pandas as pd \n",
    "import os\n",
    "from sklearn.metrics import roc_curve, auc, precision_score, recall_score,roc_auc_score\n",
    "import numpy as np\n"
   ]
  },
  {
   "cell_type": "code",
   "execution_count": 2,
   "metadata": {},
   "outputs": [],
   "source": [
    "def calculate_AUC(df , gt_tag, pred_tag ):\n",
    "    y_true = df[gt_tag]\n",
    "    y_pred_prob = df[pred_tag]\n",
    "\n",
    "    # Calculate the AUC\n",
    "    auc = roc_auc_score(y_true, y_pred_prob)\n",
    "    return auc\n",
    "    \n",
    "def get_AUC_score(df , gt_tag, pred_tag ):\n",
    "    df = df[(df[gt_tag] != -100) & (df[pred_tag] != -100)]\n",
    "    df = df.dropna(subset=[gt_tag, pred_tag])    \n",
    "    auc = calculate_AUC(df , gt_tag, pred_tag )\n",
    "    \n",
    "    if 'fake' in df.columns: \n",
    "        df_fake = df[df['fake'] == 1] \n",
    "        df_real= df[df['fake'] == 0] \n",
    "        fake_auc =  calculate_AUC(df_fake , gt_tag, pred_tag )\n",
    "        real_auc =  calculate_AUC(df_real , gt_tag, pred_tag )\n",
    "        return auc, fake_auc, real_auc\n",
    "    \n",
    "    return auc"
   ]
  },
  {
   "cell_type": "code",
   "execution_count": 3,
   "metadata": {},
   "outputs": [],
   "source": [
    "test_df_ = pd.read_csv(\"/fast_data_e2e_1/cxr/qxr_ln_data/LN_test/combined_test_csv_w_v4_preds_30-7-24.csv\")\n",
    "jsrt_nlst =  test_df_[test_df_['src'] == 'nlst_jsrt']\n",
    "jsrt_nlst_test =  pd.read_csv(\"/fast_data_e2e11/qxr_ln_trainings/testing/nlst_jsrt.csv\")\n",
    "swin_base_ =  pd.read_csv(\"/fast_data_e2e11/qxr_ln_trainings/checkpoints/results/base_training/14_aug_swin_tiny_only_real_data/model_653-epoch=64-val_loss=1.452712/model_653-epoch=64-val_loss=1.452712.csv\")"
   ]
  },
  {
   "cell_type": "code",
   "execution_count": 6,
   "metadata": {},
   "outputs": [
    {
     "data": {
      "text/plain": [
       "533340"
      ]
     },
     "execution_count": 6,
     "metadata": {},
     "output_type": "execute_result"
    }
   ],
   "source": [
    "len(swin_base_)"
   ]
  },
  {
   "cell_type": "code",
   "execution_count": 4,
   "metadata": {},
   "outputs": [],
   "source": [
    "# v4_auc = get_AUC_score(jsrt_nlst,  gt_tag= 'nodule' , pred_tag = 'nodule_pred')\n",
    "new_model_auc = get_AUC_score(swin_base_,  gt_tag= 'nodule_target' , pred_tag = 'nodule')"
   ]
  },
  {
   "cell_type": "code",
   "execution_count": 5,
   "metadata": {},
   "outputs": [
    {
     "data": {
      "text/plain": [
       "0.7466873094651636"
      ]
     },
     "execution_count": 5,
     "metadata": {},
     "output_type": "execute_result"
    }
   ],
   "source": [
    "new_model_auc"
   ]
  },
  {
   "cell_type": "code",
   "execution_count": 8,
   "metadata": {},
   "outputs": [],
   "source": [
    "swin_base_ = swin_base_.merge(jsrt_nlst[[\"filename\", \"subtlety\"]], on=\"filename\", how=\"left\")\n"
   ]
  },
  {
   "cell_type": "code",
   "execution_count": 7,
   "metadata": {},
   "outputs": [],
   "source": [
    "def get_cutoff_youdens_index(fpr, tpr, thresholds) -> float:\n",
    "    specificity = 1 - fpr\n",
    "    youden_index = tpr + specificity - 1\n",
    "    max_index = np.argmax(youden_index)\n",
    "    best_threshold = thresholds[max_index]\n",
    "    best_youden_index = youden_index[max_index]\n",
    "    return best_youden_index, best_threshold\n",
    "\n",
    "\n",
    "\n",
    "def get_tag_wise_yodens_threshold(df , tags_to_check = [\"nodule\"]):\n",
    "    for tag in tags_to_check:\n",
    "\n",
    "        print(tag)\n",
    "        df_tag_results = df[df[f\"{tag}_target\"]!=-100]\n",
    "        print(len(df_tag_results))\n",
    "        y_true = df_tag_results[f\"{tag}_target\"].values\n",
    "        y_pred = df_tag_results[tag].values\n",
    "\n",
    "        # Calculate FPR, TPR, and thresholds\n",
    "        fpr, tpr, thresholds = roc_curve(y_true, y_pred)\n",
    "\n",
    "        # Calculate AUROC\n",
    "        auroc = auc(fpr, tpr)\n",
    "\n",
    "        # Calculate Youden's Index\n",
    "        youden_index, youden_index_threshold = get_cutoff_youdens_index(fpr, tpr, thresholds)\n",
    "\n",
    "        print(f\"AUROC: {auroc}\")\n",
    "        print(f\"Youden's Index threshold: {youden_index_threshold}\", f\"Youden's Index : {youden_index} \")\n",
    "\n",
    "        specificity = 1 - fpr\n",
    "        for th in np.arange(0, 1.01, 0.01):\n",
    "            # Find the closest threshold index\n",
    "            closest_index = np.argmin(np.abs(thresholds - th))\n",
    "            sens = tpr[closest_index]\n",
    "            spec = specificity[closest_index]\n",
    "            youden_index = sens + spec - 1\n",
    "            y_pred_binary = (y_pred >= th).astype(int)\n",
    "            precision = precision_score(y_true, y_pred_binary)\n",
    "            npv = np.sum((y_true == 0) & (y_pred_binary == 0)) / np.sum(y_pred_binary == 0)\n",
    "\n",
    "            print(f\"Threshold: {th:.2f}, Sensitivity: {sens:.2f}, Specificity: {spec:.2f}, \"\n",
    "                f\"Youden Index: {youden_index:.2f}, Precision: {precision:.2f}, NPV: {npv:.2f}\")"
   ]
  },
  {
   "cell_type": "code",
   "execution_count": 8,
   "metadata": {},
   "outputs": [
    {
     "name": "stdout",
     "output_type": "stream",
     "text": [
      "nodule\n",
      "512384\n",
      "AUROC: 0.7466873094651636\n",
      "Youden's Index threshold: 0.32619905 Youden's Index : 0.3611249188505692 \n",
      "Threshold: 0.00, Sensitivity: 1.00, Specificity: 0.00, Youden Index: 0.00, Precision: 0.03, NPV: nan\n"
     ]
    },
    {
     "name": "stderr",
     "output_type": "stream",
     "text": [
      "/tmp/ipykernel_205938/3942648973.py:41: RuntimeWarning: invalid value encountered in scalar divide\n",
      "  npv = np.sum((y_true == 0) & (y_pred_binary == 0)) / np.sum(y_pred_binary == 0)\n"
     ]
    },
    {
     "name": "stdout",
     "output_type": "stream",
     "text": [
      "Threshold: 0.01, Sensitivity: 0.94, Specificity: 0.25, Youden Index: 0.19, Precision: 0.04, NPV: 0.99\n",
      "Threshold: 0.02, Sensitivity: 0.90, Specificity: 0.34, Youden Index: 0.25, Precision: 0.04, NPV: 0.99\n",
      "Threshold: 0.03, Sensitivity: 0.87, Specificity: 0.40, Youden Index: 0.27, Precision: 0.04, NPV: 0.99\n",
      "Threshold: 0.04, Sensitivity: 0.85, Specificity: 0.44, Youden Index: 0.29, Precision: 0.04, NPV: 0.99\n",
      "Threshold: 0.05, Sensitivity: 0.84, Specificity: 0.47, Youden Index: 0.30, Precision: 0.04, NPV: 0.99\n",
      "Threshold: 0.06, Sensitivity: 0.82, Specificity: 0.49, Youden Index: 0.31, Precision: 0.05, NPV: 0.99\n",
      "Threshold: 0.07, Sensitivity: 0.81, Specificity: 0.51, Youden Index: 0.32, Precision: 0.05, NPV: 0.99\n",
      "Threshold: 0.08, Sensitivity: 0.80, Specificity: 0.53, Youden Index: 0.33, Precision: 0.05, NPV: 0.99\n",
      "Threshold: 0.09, Sensitivity: 0.79, Specificity: 0.54, Youden Index: 0.33, Precision: 0.05, NPV: 0.99\n",
      "Threshold: 0.10, Sensitivity: 0.78, Specificity: 0.56, Youden Index: 0.34, Precision: 0.05, NPV: 0.99\n",
      "Threshold: 0.11, Sensitivity: 0.77, Specificity: 0.57, Youden Index: 0.34, Precision: 0.05, NPV: 0.99\n",
      "Threshold: 0.12, Sensitivity: 0.76, Specificity: 0.58, Youden Index: 0.34, Precision: 0.05, NPV: 0.99\n",
      "Threshold: 0.13, Sensitivity: 0.76, Specificity: 0.59, Youden Index: 0.35, Precision: 0.05, NPV: 0.99\n",
      "Threshold: 0.14, Sensitivity: 0.75, Specificity: 0.60, Youden Index: 0.35, Precision: 0.05, NPV: 0.99\n",
      "Threshold: 0.15, Sensitivity: 0.74, Specificity: 0.61, Youden Index: 0.35, Precision: 0.05, NPV: 0.99\n",
      "Threshold: 0.16, Sensitivity: 0.74, Specificity: 0.61, Youden Index: 0.35, Precision: 0.05, NPV: 0.99\n",
      "Threshold: 0.17, Sensitivity: 0.73, Specificity: 0.62, Youden Index: 0.35, Precision: 0.05, NPV: 0.99\n",
      "Threshold: 0.18, Sensitivity: 0.73, Specificity: 0.63, Youden Index: 0.35, Precision: 0.05, NPV: 0.99\n",
      "Threshold: 0.19, Sensitivity: 0.72, Specificity: 0.63, Youden Index: 0.35, Precision: 0.06, NPV: 0.99\n",
      "Threshold: 0.20, Sensitivity: 0.72, Specificity: 0.64, Youden Index: 0.35, Precision: 0.06, NPV: 0.99\n",
      "Threshold: 0.21, Sensitivity: 0.71, Specificity: 0.64, Youden Index: 0.36, Precision: 0.06, NPV: 0.99\n",
      "Threshold: 0.22, Sensitivity: 0.71, Specificity: 0.65, Youden Index: 0.36, Precision: 0.06, NPV: 0.99\n",
      "Threshold: 0.23, Sensitivity: 0.70, Specificity: 0.65, Youden Index: 0.36, Precision: 0.06, NPV: 0.99\n",
      "Threshold: 0.24, Sensitivity: 0.70, Specificity: 0.66, Youden Index: 0.36, Precision: 0.06, NPV: 0.99\n",
      "Threshold: 0.25, Sensitivity: 0.70, Specificity: 0.66, Youden Index: 0.36, Precision: 0.06, NPV: 0.99\n",
      "Threshold: 0.26, Sensitivity: 0.69, Specificity: 0.67, Youden Index: 0.36, Precision: 0.06, NPV: 0.99\n",
      "Threshold: 0.27, Sensitivity: 0.69, Specificity: 0.67, Youden Index: 0.36, Precision: 0.06, NPV: 0.99\n",
      "Threshold: 0.28, Sensitivity: 0.68, Specificity: 0.68, Youden Index: 0.36, Precision: 0.06, NPV: 0.99\n",
      "Threshold: 0.29, Sensitivity: 0.68, Specificity: 0.68, Youden Index: 0.36, Precision: 0.06, NPV: 0.99\n",
      "Threshold: 0.30, Sensitivity: 0.68, Specificity: 0.68, Youden Index: 0.36, Precision: 0.06, NPV: 0.99\n",
      "Threshold: 0.31, Sensitivity: 0.67, Specificity: 0.69, Youden Index: 0.36, Precision: 0.06, NPV: 0.99\n",
      "Threshold: 0.32, Sensitivity: 0.67, Specificity: 0.69, Youden Index: 0.36, Precision: 0.06, NPV: 0.99\n",
      "Threshold: 0.33, Sensitivity: 0.67, Specificity: 0.69, Youden Index: 0.36, Precision: 0.06, NPV: 0.99\n",
      "Threshold: 0.34, Sensitivity: 0.66, Specificity: 0.70, Youden Index: 0.36, Precision: 0.06, NPV: 0.99\n",
      "Threshold: 0.35, Sensitivity: 0.66, Specificity: 0.70, Youden Index: 0.36, Precision: 0.06, NPV: 0.99\n",
      "Threshold: 0.36, Sensitivity: 0.65, Specificity: 0.71, Youden Index: 0.36, Precision: 0.06, NPV: 0.99\n",
      "Threshold: 0.37, Sensitivity: 0.65, Specificity: 0.71, Youden Index: 0.36, Precision: 0.06, NPV: 0.99\n",
      "Threshold: 0.38, Sensitivity: 0.65, Specificity: 0.71, Youden Index: 0.36, Precision: 0.06, NPV: 0.99\n",
      "Threshold: 0.39, Sensitivity: 0.65, Specificity: 0.71, Youden Index: 0.36, Precision: 0.06, NPV: 0.99\n",
      "Threshold: 0.40, Sensitivity: 0.64, Specificity: 0.72, Youden Index: 0.36, Precision: 0.06, NPV: 0.99\n",
      "Threshold: 0.41, Sensitivity: 0.64, Specificity: 0.72, Youden Index: 0.36, Precision: 0.06, NPV: 0.99\n",
      "Threshold: 0.42, Sensitivity: 0.64, Specificity: 0.72, Youden Index: 0.36, Precision: 0.06, NPV: 0.99\n",
      "Threshold: 0.43, Sensitivity: 0.63, Specificity: 0.73, Youden Index: 0.36, Precision: 0.06, NPV: 0.99\n",
      "Threshold: 0.44, Sensitivity: 0.63, Specificity: 0.73, Youden Index: 0.36, Precision: 0.06, NPV: 0.99\n",
      "Threshold: 0.45, Sensitivity: 0.63, Specificity: 0.73, Youden Index: 0.36, Precision: 0.07, NPV: 0.99\n",
      "Threshold: 0.46, Sensitivity: 0.62, Specificity: 0.74, Youden Index: 0.36, Precision: 0.07, NPV: 0.99\n",
      "Threshold: 0.47, Sensitivity: 0.62, Specificity: 0.74, Youden Index: 0.36, Precision: 0.07, NPV: 0.99\n",
      "Threshold: 0.48, Sensitivity: 0.62, Specificity: 0.74, Youden Index: 0.36, Precision: 0.07, NPV: 0.98\n",
      "Threshold: 0.49, Sensitivity: 0.62, Specificity: 0.74, Youden Index: 0.36, Precision: 0.07, NPV: 0.98\n",
      "Threshold: 0.50, Sensitivity: 0.61, Specificity: 0.75, Youden Index: 0.36, Precision: 0.07, NPV: 0.98\n",
      "Threshold: 0.51, Sensitivity: 0.61, Specificity: 0.75, Youden Index: 0.36, Precision: 0.07, NPV: 0.98\n",
      "Threshold: 0.52, Sensitivity: 0.61, Specificity: 0.75, Youden Index: 0.36, Precision: 0.07, NPV: 0.98\n",
      "Threshold: 0.53, Sensitivity: 0.61, Specificity: 0.75, Youden Index: 0.36, Precision: 0.07, NPV: 0.98\n",
      "Threshold: 0.54, Sensitivity: 0.60, Specificity: 0.76, Youden Index: 0.36, Precision: 0.07, NPV: 0.98\n",
      "Threshold: 0.55, Sensitivity: 0.60, Specificity: 0.76, Youden Index: 0.36, Precision: 0.07, NPV: 0.98\n",
      "Threshold: 0.56, Sensitivity: 0.60, Specificity: 0.76, Youden Index: 0.36, Precision: 0.07, NPV: 0.98\n",
      "Threshold: 0.57, Sensitivity: 0.59, Specificity: 0.77, Youden Index: 0.36, Precision: 0.07, NPV: 0.98\n",
      "Threshold: 0.58, Sensitivity: 0.59, Specificity: 0.77, Youden Index: 0.36, Precision: 0.07, NPV: 0.98\n",
      "Threshold: 0.59, Sensitivity: 0.59, Specificity: 0.77, Youden Index: 0.36, Precision: 0.07, NPV: 0.98\n",
      "Threshold: 0.60, Sensitivity: 0.58, Specificity: 0.77, Youden Index: 0.36, Precision: 0.07, NPV: 0.98\n",
      "Threshold: 0.61, Sensitivity: 0.58, Specificity: 0.78, Youden Index: 0.36, Precision: 0.07, NPV: 0.98\n",
      "Threshold: 0.62, Sensitivity: 0.58, Specificity: 0.78, Youden Index: 0.36, Precision: 0.07, NPV: 0.98\n",
      "Threshold: 0.63, Sensitivity: 0.58, Specificity: 0.78, Youden Index: 0.36, Precision: 0.07, NPV: 0.98\n",
      "Threshold: 0.64, Sensitivity: 0.57, Specificity: 0.78, Youden Index: 0.36, Precision: 0.07, NPV: 0.98\n",
      "Threshold: 0.65, Sensitivity: 0.57, Specificity: 0.79, Youden Index: 0.36, Precision: 0.07, NPV: 0.98\n",
      "Threshold: 0.66, Sensitivity: 0.56, Specificity: 0.79, Youden Index: 0.35, Precision: 0.07, NPV: 0.98\n",
      "Threshold: 0.67, Sensitivity: 0.56, Specificity: 0.79, Youden Index: 0.35, Precision: 0.07, NPV: 0.98\n",
      "Threshold: 0.68, Sensitivity: 0.56, Specificity: 0.79, Youden Index: 0.35, Precision: 0.07, NPV: 0.98\n",
      "Threshold: 0.69, Sensitivity: 0.56, Specificity: 0.80, Youden Index: 0.35, Precision: 0.08, NPV: 0.98\n",
      "Threshold: 0.70, Sensitivity: 0.55, Specificity: 0.80, Youden Index: 0.35, Precision: 0.08, NPV: 0.98\n",
      "Threshold: 0.71, Sensitivity: 0.55, Specificity: 0.80, Youden Index: 0.35, Precision: 0.08, NPV: 0.98\n",
      "Threshold: 0.72, Sensitivity: 0.54, Specificity: 0.81, Youden Index: 0.35, Precision: 0.08, NPV: 0.98\n",
      "Threshold: 0.73, Sensitivity: 0.54, Specificity: 0.81, Youden Index: 0.35, Precision: 0.08, NPV: 0.98\n",
      "Threshold: 0.74, Sensitivity: 0.54, Specificity: 0.81, Youden Index: 0.35, Precision: 0.08, NPV: 0.98\n",
      "Threshold: 0.75, Sensitivity: 0.53, Specificity: 0.81, Youden Index: 0.35, Precision: 0.08, NPV: 0.98\n",
      "Threshold: 0.76, Sensitivity: 0.53, Specificity: 0.82, Youden Index: 0.35, Precision: 0.08, NPV: 0.98\n",
      "Threshold: 0.77, Sensitivity: 0.52, Specificity: 0.82, Youden Index: 0.34, Precision: 0.08, NPV: 0.98\n",
      "Threshold: 0.78, Sensitivity: 0.52, Specificity: 0.82, Youden Index: 0.34, Precision: 0.08, NPV: 0.98\n",
      "Threshold: 0.79, Sensitivity: 0.52, Specificity: 0.83, Youden Index: 0.34, Precision: 0.08, NPV: 0.98\n",
      "Threshold: 0.80, Sensitivity: 0.51, Specificity: 0.83, Youden Index: 0.34, Precision: 0.08, NPV: 0.98\n",
      "Threshold: 0.81, Sensitivity: 0.51, Specificity: 0.83, Youden Index: 0.34, Precision: 0.08, NPV: 0.98\n",
      "Threshold: 0.82, Sensitivity: 0.50, Specificity: 0.84, Youden Index: 0.34, Precision: 0.08, NPV: 0.98\n",
      "Threshold: 0.83, Sensitivity: 0.49, Specificity: 0.84, Youden Index: 0.33, Precision: 0.08, NPV: 0.98\n",
      "Threshold: 0.84, Sensitivity: 0.49, Specificity: 0.84, Youden Index: 0.33, Precision: 0.09, NPV: 0.98\n",
      "Threshold: 0.85, Sensitivity: 0.48, Specificity: 0.85, Youden Index: 0.33, Precision: 0.09, NPV: 0.98\n",
      "Threshold: 0.86, Sensitivity: 0.48, Specificity: 0.85, Youden Index: 0.33, Precision: 0.09, NPV: 0.98\n",
      "Threshold: 0.87, Sensitivity: 0.47, Specificity: 0.86, Youden Index: 0.33, Precision: 0.09, NPV: 0.98\n",
      "Threshold: 0.88, Sensitivity: 0.47, Specificity: 0.86, Youden Index: 0.32, Precision: 0.09, NPV: 0.98\n",
      "Threshold: 0.89, Sensitivity: 0.46, Specificity: 0.86, Youden Index: 0.32, Precision: 0.09, NPV: 0.98\n",
      "Threshold: 0.90, Sensitivity: 0.45, Specificity: 0.87, Youden Index: 0.32, Precision: 0.09, NPV: 0.98\n",
      "Threshold: 0.91, Sensitivity: 0.44, Specificity: 0.87, Youden Index: 0.32, Precision: 0.09, NPV: 0.98\n",
      "Threshold: 0.92, Sensitivity: 0.43, Specificity: 0.88, Youden Index: 0.31, Precision: 0.10, NPV: 0.98\n",
      "Threshold: 0.93, Sensitivity: 0.42, Specificity: 0.88, Youden Index: 0.30, Precision: 0.10, NPV: 0.98\n",
      "Threshold: 0.94, Sensitivity: 0.41, Specificity: 0.89, Youden Index: 0.30, Precision: 0.10, NPV: 0.98\n",
      "Threshold: 0.95, Sensitivity: 0.39, Specificity: 0.90, Youden Index: 0.29, Precision: 0.10, NPV: 0.98\n",
      "Threshold: 0.96, Sensitivity: 0.38, Specificity: 0.91, Youden Index: 0.28, Precision: 0.11, NPV: 0.98\n",
      "Threshold: 0.97, Sensitivity: 0.36, Specificity: 0.92, Youden Index: 0.27, Precision: 0.11, NPV: 0.98\n",
      "Threshold: 0.98, Sensitivity: 0.33, Specificity: 0.93, Youden Index: 0.25, Precision: 0.12, NPV: 0.98\n",
      "Threshold: 0.99, Sensitivity: 0.28, Specificity: 0.95, Youden Index: 0.22, Precision: 0.13, NPV: 0.98\n",
      "Threshold: 1.00, Sensitivity: 0.00, Specificity: 1.00, Youden Index: 0.00, Precision: 0.60, NPV: 0.97\n"
     ]
    }
   ],
   "source": [
    "get_tag_wise_yodens_threshold(swin_base_)"
   ]
  },
  {
   "cell_type": "code",
   "execution_count": 11,
   "metadata": {},
   "outputs": [],
   "source": [
    "def _get_subtelity_count_fns(df, gt_tag , pred_tag, tag_thresh):\n",
    "    # Assuming df has columns 'true_label' and 'predicted_score'\n",
    "    y_true = df[gt_tag]\n",
    "    y_pred = df[pred_tag]\n",
    "\n",
    "    # Apply the threshold to get predicted labels\n",
    "    y_pred_label = (y_pred >= tag_thresh).astype(int)\n",
    "\n",
    "    # Calculate confusion matrix components\n",
    "    TP = ((y_true == 1) & (y_pred_label == 1)).sum()\n",
    "    TN = ((y_true == 0) & (y_pred_label == 0)).sum()\n",
    "    FP = ((y_true == 0) & (y_pred_label == 1)).sum()\n",
    "    FN = ((y_true == 1) & (y_pred_label == 0)).sum()\n",
    "\n",
    "    # Calculate sensitivity and specificity\n",
    "    sensitivity = TP / (TP + FN) if (TP + FN) > 0 else 0\n",
    "    specificity = TN / (TN + FP) if (TN + FP) > 0 else 0\n",
    "\n",
    "    # Subsets of DataFrame for FNs and FPs\n",
    "    df_fns = df[(y_true == 1) & (y_pred_label == 0)]\n",
    "    df_fps = df[(y_true == 0) & (y_pred_label == 1)]\n",
    "\n",
    "    return sensitivity, specificity, df_fns, df_fps"
   ]
  },
  {
   "cell_type": "code",
   "execution_count": 14,
   "metadata": {},
   "outputs": [
    {
     "name": "stdout",
     "output_type": "stream",
     "text": [
      "Sensitivity: 0.593607305936073, Specificity: 0.7724252491694352\n"
     ]
    }
   ],
   "source": [
    "tag_thresh = 0.1\n",
    "sensitivity, specificity, df_fns, df_fps = _get_subtelity_count_fns(swin_base_, 'nodule_target', 'nodule' , tag_thresh)\n",
    "print(f\"Sensitivity: {sensitivity}, Specificity: {specificity}\")"
   ]
  },
  {
   "cell_type": "code",
   "execution_count": 15,
   "metadata": {},
   "outputs": [
    {
     "data": {
      "text/plain": [
       "subtlety\n",
       " 3      28\n",
       " 1      23\n",
       " 2      22\n",
       "-100    11\n",
       " 4       5\n",
       "Name: count, dtype: int64"
      ]
     },
     "execution_count": 15,
     "metadata": {},
     "output_type": "execute_result"
    }
   ],
   "source": [
    "df_fns.subtlety.value_counts()"
   ]
  },
  {
   "cell_type": "code",
   "execution_count": 16,
   "metadata": {},
   "outputs": [
    {
     "data": {
      "text/plain": [
       "subtlety\n",
       "-100    137\n",
       "Name: count, dtype: int64"
      ]
     },
     "execution_count": 16,
     "metadata": {},
     "output_type": "execute_result"
    }
   ],
   "source": [
    "df_fps.subtlety.value_counts()"
   ]
  },
  {
   "cell_type": "code",
   "execution_count": 22,
   "metadata": {},
   "outputs": [],
   "source": [
    "model_pred = pd.read_csv(\"/fast_data_e2e11/qxr_ln_trainings/checkpoints/results/base_training/7_Aug_swinv2_base_unetplusplus_corrected_dice/model_1214-epoch=92-val_loss=0.931579/model_1214-epoch=92-val_loss=0.931579.csv\")\n",
    "testing_csv = pd.read_csv(\"/fast_data_e2e11/qxr_ln_trainings/training/training_csvs/testing_data_20240805_173856_.csv\")"
   ]
  },
  {
   "cell_type": "code",
   "execution_count": 23,
   "metadata": {},
   "outputs": [
    {
     "data": {
      "text/html": [
       "<div>\n",
       "<style scoped>\n",
       "    .dataframe tbody tr th:only-of-type {\n",
       "        vertical-align: middle;\n",
       "    }\n",
       "\n",
       "    .dataframe tbody tr th {\n",
       "        vertical-align: top;\n",
       "    }\n",
       "\n",
       "    .dataframe thead th {\n",
       "        text-align: right;\n",
       "    }\n",
       "</style>\n",
       "<table border=\"1\" class=\"dataframe\">\n",
       "  <thead>\n",
       "    <tr style=\"text-align: right;\">\n",
       "      <th></th>\n",
       "      <th>filename</th>\n",
       "      <th>nodule</th>\n",
       "      <th>nipple_shadow</th>\n",
       "      <th>normal</th>\n",
       "      <th>fake</th>\n",
       "    </tr>\n",
       "  </thead>\n",
       "  <tbody>\n",
       "    <tr>\n",
       "      <th>0</th>\n",
       "      <td>max.dev1.55135465</td>\n",
       "      <td>0</td>\n",
       "      <td>0</td>\n",
       "      <td>1</td>\n",
       "      <td>0</td>\n",
       "    </tr>\n",
       "    <tr>\n",
       "      <th>1</th>\n",
       "      <td>ims.1.2.392.200036.9107.307.15120.20190215.185...</td>\n",
       "      <td>0</td>\n",
       "      <td>0</td>\n",
       "      <td>1</td>\n",
       "      <td>0</td>\n",
       "    </tr>\n",
       "    <tr>\n",
       "      <th>2</th>\n",
       "      <td>diaphragm_20240801_173624_zJWdY8SN</td>\n",
       "      <td>1</td>\n",
       "      <td>0</td>\n",
       "      <td>0</td>\n",
       "      <td>1</td>\n",
       "    </tr>\n",
       "    <tr>\n",
       "      <th>3</th>\n",
       "      <td>krsnaa.1.2.392.200036.9125.9.0.253398181.50341...</td>\n",
       "      <td>0</td>\n",
       "      <td>0</td>\n",
       "      <td>1</td>\n",
       "      <td>0</td>\n",
       "    </tr>\n",
       "    <tr>\n",
       "      <th>4</th>\n",
       "      <td>medanta.630a4a58-e52f7f2a-3855ea0d-f4aa4feb-a8...</td>\n",
       "      <td>1</td>\n",
       "      <td>0</td>\n",
       "      <td>0</td>\n",
       "      <td>0</td>\n",
       "    </tr>\n",
       "    <tr>\n",
       "      <th>...</th>\n",
       "      <td>...</td>\n",
       "      <td>...</td>\n",
       "      <td>...</td>\n",
       "      <td>...</td>\n",
       "      <td>...</td>\n",
       "    </tr>\n",
       "    <tr>\n",
       "      <th>31961</th>\n",
       "      <td>medall.1.3.6.1.4.1.25403.52240747607.2612.2015...</td>\n",
       "      <td>0</td>\n",
       "      <td>0</td>\n",
       "      <td>1</td>\n",
       "      <td>0</td>\n",
       "    </tr>\n",
       "    <tr>\n",
       "      <th>31962</th>\n",
       "      <td>pleura_20240802_201705_33ujawQO</td>\n",
       "      <td>1</td>\n",
       "      <td>0</td>\n",
       "      <td>0</td>\n",
       "      <td>1</td>\n",
       "    </tr>\n",
       "    <tr>\n",
       "      <th>31963</th>\n",
       "      <td>ca.phase4.unit9.2.ed2ad4fa05706cfafc6a95c678a9...</td>\n",
       "      <td>0</td>\n",
       "      <td>0</td>\n",
       "      <td>1</td>\n",
       "      <td>0</td>\n",
       "    </tr>\n",
       "    <tr>\n",
       "      <th>31964</th>\n",
       "      <td>dmims.1.2.840.113564.54.192.168.101.16.2014082...</td>\n",
       "      <td>0</td>\n",
       "      <td>0</td>\n",
       "      <td>1</td>\n",
       "      <td>0</td>\n",
       "    </tr>\n",
       "    <tr>\n",
       "      <th>31965</th>\n",
       "      <td>ims.1.2.392.200036.9107.307.15120.20181219.125...</td>\n",
       "      <td>0</td>\n",
       "      <td>0</td>\n",
       "      <td>1</td>\n",
       "      <td>0</td>\n",
       "    </tr>\n",
       "  </tbody>\n",
       "</table>\n",
       "<p>31966 rows × 5 columns</p>\n",
       "</div>"
      ],
      "text/plain": [
       "                                                filename  nodule  \\\n",
       "0                                      max.dev1.55135465       0   \n",
       "1      ims.1.2.392.200036.9107.307.15120.20190215.185...       0   \n",
       "2                     diaphragm_20240801_173624_zJWdY8SN       1   \n",
       "3      krsnaa.1.2.392.200036.9125.9.0.253398181.50341...       0   \n",
       "4      medanta.630a4a58-e52f7f2a-3855ea0d-f4aa4feb-a8...       1   \n",
       "...                                                  ...     ...   \n",
       "31961  medall.1.3.6.1.4.1.25403.52240747607.2612.2015...       0   \n",
       "31962                    pleura_20240802_201705_33ujawQO       1   \n",
       "31963  ca.phase4.unit9.2.ed2ad4fa05706cfafc6a95c678a9...       0   \n",
       "31964  dmims.1.2.840.113564.54.192.168.101.16.2014082...       0   \n",
       "31965  ims.1.2.392.200036.9107.307.15120.20181219.125...       0   \n",
       "\n",
       "       nipple_shadow  normal  fake  \n",
       "0                  0       1     0  \n",
       "1                  0       1     0  \n",
       "2                  0       0     1  \n",
       "3                  0       1     0  \n",
       "4                  0       0     0  \n",
       "...              ...     ...   ...  \n",
       "31961              0       1     0  \n",
       "31962              0       0     1  \n",
       "31963              0       1     0  \n",
       "31964              0       1     0  \n",
       "31965              0       1     0  \n",
       "\n",
       "[31966 rows x 5 columns]"
      ]
     },
     "execution_count": 23,
     "metadata": {},
     "output_type": "execute_result"
    }
   ],
   "source": [
    "testing_csv"
   ]
  },
  {
   "cell_type": "code",
   "execution_count": 25,
   "metadata": {},
   "outputs": [],
   "source": [
    "model_pred = model_pred.merge(testing_csv[['filename','fake']], on=\"filename\", how =\"left\" )"
   ]
  },
  {
   "cell_type": "code",
   "execution_count": 32,
   "metadata": {},
   "outputs": [
    {
     "name": "stdout",
     "output_type": "stream",
     "text": [
      "Overall AUC: 0.9948711665285848, Fake AUC: 0.9999174638688915, Real AUC: 0.9859044284571565\n"
     ]
    }
   ],
   "source": [
    "auc, fake_auc , real_auc = get_AUC_score(model_pred,  gt_tag= 'nodule_target' , pred_tag = 'nodule')\n",
    "print(f\"Overall AUC: {auc}, Fake AUC: {fake_auc}, Real AUC: {real_auc}\")"
   ]
  },
  {
   "cell_type": "code",
   "execution_count": 21,
   "metadata": {},
   "outputs": [
    {
     "data": {
      "text/plain": [
       "Index(['filename', 'nodule', 'nodule_target', 'nipple_shadow',\n",
       "       'nipple_shadow_target', 'normal', 'normal_target'],\n",
       "      dtype='object')"
      ]
     },
     "execution_count": 21,
     "metadata": {},
     "output_type": "execute_result"
    }
   ],
   "source": [
    "model_pred.columns"
   ]
  },
  {
   "cell_type": "code",
   "execution_count": null,
   "metadata": {},
   "outputs": [
    {
     "data": {
      "text/plain": [
       "Index(['filename', 'nodule', 'nodule_target', 'nipple_shadow',\n",
       "       'nipple_shadow_target', 'normal', 'normal_target'],\n",
       "      dtype='object')"
      ]
     },
     "metadata": {},
     "output_type": "display_data"
    }
   ],
   "source": [
    "model_pred.columns"
   ]
  },
  {
   "cell_type": "code",
   "execution_count": 2,
   "metadata": {},
   "outputs": [],
   "source": [
    "import torch \n",
    "model = torch.jit.load('/home/users/shreshtha.singh/qxr_lungcancer/nbs/testing/v4_model_analysis/v4_weights/v4_nodule_cuda.ts')"
   ]
  },
  {
   "cell_type": "code",
   "execution_count": 3,
   "metadata": {},
   "outputs": [
    {
     "ename": "AttributeError",
     "evalue": "'RecursiveScriptModule' object has no attribute 'keys'",
     "output_type": "error",
     "traceback": [
      "\u001b[0;31m---------------------------------------------------------------------------\u001b[0m",
      "\u001b[0;31mAttributeError\u001b[0m                            Traceback (most recent call last)",
      "\u001b[1;32m/home/users/shreshtha.singh/qxr_training/notebooks/results_analysis.ipynb Cell 20\u001b[0m in \u001b[0;36m<cell line: 1>\u001b[0;34m()\u001b[0m\n\u001b[0;32m----> <a href='vscode-notebook-cell://ssh-remote%2Be2ecloud2.e2e.qure.ai/home/users/shreshtha.singh/qxr_training/notebooks/results_analysis.ipynb#X30sdnNjb2RlLXJlbW90ZQ%3D%3D?line=0'>1</a>\u001b[0m model\u001b[39m.\u001b[39;49mkeys()\n",
      "File \u001b[0;32m~/miniconda3/envs/cxr_new3/lib/python3.9/site-packages/torch/jit/_script.py:823\u001b[0m, in \u001b[0;36mRecursiveScriptModule.__getattr__\u001b[0;34m(self, attr)\u001b[0m\n\u001b[1;32m    820\u001b[0m     \u001b[39mself\u001b[39m\u001b[39m.\u001b[39m\u001b[39m__dict__\u001b[39m[attr] \u001b[39m=\u001b[39m script_method\n\u001b[1;32m    821\u001b[0m     \u001b[39mreturn\u001b[39;00m script_method\n\u001b[0;32m--> 823\u001b[0m \u001b[39mreturn\u001b[39;00m \u001b[39msuper\u001b[39;49m()\u001b[39m.\u001b[39;49m\u001b[39m__getattr__\u001b[39;49m(attr)\n",
      "File \u001b[0;32m~/miniconda3/envs/cxr_new3/lib/python3.9/site-packages/torch/jit/_script.py:530\u001b[0m, in \u001b[0;36mScriptModule.__getattr__\u001b[0;34m(self, attr)\u001b[0m\n\u001b[1;32m    528\u001b[0m \u001b[39mdef\u001b[39;00m \u001b[39m__getattr__\u001b[39m(\u001b[39mself\u001b[39m, attr):\n\u001b[1;32m    529\u001b[0m     \u001b[39mif\u001b[39;00m \u001b[39m\"\u001b[39m\u001b[39m_actual_script_module\u001b[39m\u001b[39m\"\u001b[39m \u001b[39mnot\u001b[39;00m \u001b[39min\u001b[39;00m \u001b[39mself\u001b[39m\u001b[39m.\u001b[39m\u001b[39m__dict__\u001b[39m:\n\u001b[0;32m--> 530\u001b[0m         \u001b[39mreturn\u001b[39;00m \u001b[39msuper\u001b[39;49m()\u001b[39m.\u001b[39;49m\u001b[39m__getattr__\u001b[39;49m(attr)\n\u001b[1;32m    531\u001b[0m     \u001b[39mreturn\u001b[39;00m \u001b[39mgetattr\u001b[39m(\u001b[39mself\u001b[39m\u001b[39m.\u001b[39m_actual_script_module, attr)\n",
      "File \u001b[0;32m~/miniconda3/envs/cxr_new3/lib/python3.9/site-packages/torch/nn/modules/module.py:1688\u001b[0m, in \u001b[0;36mModule.__getattr__\u001b[0;34m(self, name)\u001b[0m\n\u001b[1;32m   1686\u001b[0m     \u001b[39mif\u001b[39;00m name \u001b[39min\u001b[39;00m modules:\n\u001b[1;32m   1687\u001b[0m         \u001b[39mreturn\u001b[39;00m modules[name]\n\u001b[0;32m-> 1688\u001b[0m \u001b[39mraise\u001b[39;00m \u001b[39mAttributeError\u001b[39;00m(\u001b[39mf\u001b[39m\u001b[39m\"\u001b[39m\u001b[39m'\u001b[39m\u001b[39m{\u001b[39;00m\u001b[39mtype\u001b[39m(\u001b[39mself\u001b[39m)\u001b[39m.\u001b[39m\u001b[39m__name__\u001b[39m\u001b[39m}\u001b[39;00m\u001b[39m'\u001b[39m\u001b[39m object has no attribute \u001b[39m\u001b[39m'\u001b[39m\u001b[39m{\u001b[39;00mname\u001b[39m}\u001b[39;00m\u001b[39m'\u001b[39m\u001b[39m\"\u001b[39m)\n",
      "\u001b[0;31mAttributeError\u001b[0m: 'RecursiveScriptModule' object has no attribute 'keys'"
     ]
    }
   ],
   "source": [
    "model.keys()"
   ]
  },
  {
   "cell_type": "code",
   "execution_count": null,
   "metadata": {},
   "outputs": [],
   "source": []
  }
 ],
 "metadata": {
  "kernelspec": {
   "display_name": "qtrain_clone",
   "language": "python",
   "name": "python3"
  },
  "language_info": {
   "codemirror_mode": {
    "name": "ipython",
    "version": 3
   },
   "file_extension": ".py",
   "mimetype": "text/x-python",
   "name": "python",
   "nbconvert_exporter": "python",
   "pygments_lexer": "ipython3",
   "version": "3.9.12"
  },
  "orig_nbformat": 4
 },
 "nbformat": 4,
 "nbformat_minor": 2
}
