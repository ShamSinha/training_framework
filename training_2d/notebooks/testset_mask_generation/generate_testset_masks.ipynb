{
 "cells": [
  {
   "cell_type": "code",
   "execution_count": 1,
   "metadata": {},
   "outputs": [
    {
     "name": "stderr",
     "output_type": "stream",
     "text": [
      "/home/users/shreshtha.singh/miniconda3/envs/qureai/lib/python3.9/site-packages/pydantic/_internal/_fields.py:161: UserWarning: Field \"model_type\" has conflict with protected namespace \"model_\".\n",
      "\n",
      "You may be able to resolve this warning by setting `model_config['protected_namespaces'] = ()`.\n",
      "  warnings.warn(\n",
      "/home/users/shreshtha.singh/miniconda3/envs/qureai/lib/python3.9/site-packages/pydantic/_internal/_fields.py:161: UserWarning: Field \"model_output\" has conflict with protected namespace \"model_\".\n",
      "\n",
      "You may be able to resolve this warning by setting `model_config['protected_namespaces'] = ()`.\n",
      "  warnings.warn(\n",
      "/home/users/shreshtha.singh/miniconda3/envs/qureai/lib/python3.9/site-packages/pydantic/_internal/_fields.py:161: UserWarning: Field \"model_name\" has conflict with protected namespace \"model_\".\n",
      "\n",
      "You may be able to resolve this warning by setting `model_config['protected_namespaces'] = ()`.\n",
      "  warnings.warn(\n",
      "/home/users/shreshtha.singh/miniconda3/envs/qureai/lib/python3.9/site-packages/tqdm/auto.py:22: TqdmWarning: IProgress not found. Please update jupyter and ipywidgets. See https://ipywidgets.readthedocs.io/en/stable/user_install.html\n",
      "  from .autonotebook import tqdm as notebook_tqdm\n"
     ]
    }
   ],
   "source": [
    "from omegaconf import DictConfig\n",
    "import importlib\n",
    "import copy\n",
    "from tqdm import tqdm\n",
    "\n",
    "# import model_files\n",
    "from qxr_utils.dicom.utils import get_array_from_dicom\n",
    "from qxr_utils.image.transforms import scale, resize\n",
    "from torch.utils.data import DataLoader\n",
    "import torch.utils.data as data\n",
    "import torch.nn.functional as fn\n",
    "\n",
    "\n",
    "import cv2\n",
    "import matplotlib.pyplot as plt\n",
    "import pandas as pd\n",
    "import os\n",
    "\n",
    "import torch\n",
    "from torch.utils.data import Subset\n",
    "import numpy as np\n"
   ]
  },
  {
   "cell_type": "code",
   "execution_count": 2,
   "metadata": {},
   "outputs": [],
   "source": [
    "test_df = pd.read_csv(\n",
    "    \"/fast_data_e2e_1/cxr/qxr_ln_data/LN_test/combined_test_csv_updated_internal_test_13-08-24.csv\")\n"
   ]
  },
  {
   "cell_type": "code",
   "execution_count": 3,
   "metadata": {},
   "outputs": [],
   "source": [
    "class ScanD(data.Dataset):\n",
    "    def __init__(self, imdict, imsize=960):\n",
    "        self.imdict = imdict\n",
    "        self.imsize = imsize\n",
    "        self.indices = list(self.imdict.keys())\n",
    "\n",
    "    def __getitem__(self, index):\n",
    "        imid = self.indices[index]\n",
    "        idx, im = self._get_im(imid)\n",
    "        return {\"id\": idx, \"input\": im}\n",
    "\n",
    "    def __len__(self):\n",
    "        return len(self.indices)\n",
    "\n",
    "    def _get_im(self, idx):\n",
    "        try:\n",
    "            impath = self.imdict[idx]\n",
    "            ext = os.path.splitext(impath)[-1]\n",
    "            if ext == \".dcm\":\n",
    "                try:\n",
    "                    im = get_array_from_dicom(impath)\n",
    "                except Exception as e:\n",
    "                    #                     print(e)\n",
    "                    im = None\n",
    "            else:\n",
    "                im = cv2.imread(impath, 0)\n",
    "            if im is not None:\n",
    "                im = resize(self.imsize, self.imsize)(im)\n",
    "                im = scale(im)\n",
    "                im = torch.Tensor(im).reshape(1, self.imsize, self.imsize)\n",
    "                return idx, im\n",
    "            else:\n",
    "                return \"none\", torch.zeros(1, self.imsize, self.imsize)\n",
    "        except Exception as e:\n",
    "            print(e)\n",
    "            print(idx)\n",
    "            \n",
    "            \n",
    "def dict_to_df(preds):\n",
    "    df = pd.DataFrame.from_dict(preds)\n",
    "    df = df.transpose().reset_index()\n",
    "    df = df.rename(columns={\"index\": \"filename\"})\n",
    "    return df\n"
   ]
  },
  {
   "cell_type": "code",
   "execution_count": 10,
   "metadata": {},
   "outputs": [
    {
     "data": {
      "text/plain": [
       "Index(['filename', 'src', 'nodule', 'nippleshadow', 'calcification',\n",
       "       'granuloma', 'mass', 'ribfracture', 'consolidation', 'fibrosis',\n",
       "       'ct recommended', 'solitary', 'artifact', 'subtlety', 'nipple_marker',\n",
       "       'fibronodule', 'fibrolesion', 'miliarypattern', 'infectious_nodule',\n",
       "       'tubr_nodule', 'LN', 'LNMS', 'bbox', 'png_path'],\n",
       "      dtype='object')"
      ]
     },
     "execution_count": 10,
     "metadata": {},
     "output_type": "execute_result"
    }
   ],
   "source": [
    "test_df.columns"
   ]
  },
  {
   "cell_type": "code",
   "execution_count": 4,
   "metadata": {},
   "outputs": [],
   "source": [
    "png_dict = {}\n",
    "for id , row in test_df[:100].iterrows():\n",
    "    filename = row['filename']\n",
    "    png_path = row['png_path']\n",
    "    png_dict[filename] = png_path"
   ]
  },
  {
   "cell_type": "code",
   "execution_count": 5,
   "metadata": {},
   "outputs": [],
   "source": [
    "dset = ScanD(png_dict, 960)"
   ]
  },
  {
   "cell_type": "code",
   "execution_count": 13,
   "metadata": {},
   "outputs": [
    {
     "data": {
      "text/plain": [
       "100"
      ]
     },
     "execution_count": 13,
     "metadata": {},
     "output_type": "execute_result"
    }
   ],
   "source": [
    "len(dset)"
   ]
  },
  {
   "cell_type": "code",
   "execution_count": 14,
   "metadata": {},
   "outputs": [
    {
     "data": {
      "text/plain": [
       "torch.Size([1, 960, 960])"
      ]
     },
     "execution_count": 14,
     "metadata": {},
     "output_type": "execute_result"
    }
   ],
   "source": [
    "dset[0]['input'].shape"
   ]
  },
  {
   "cell_type": "code",
   "execution_count": 6,
   "metadata": {},
   "outputs": [],
   "source": [
    "dloader = DataLoader(dset, batch_size=16, num_workers=8)"
   ]
  },
  {
   "cell_type": "code",
   "execution_count": 16,
   "metadata": {},
   "outputs": [
    {
     "data": {
      "text/plain": [
       "7"
      ]
     },
     "execution_count": 16,
     "metadata": {},
     "output_type": "execute_result"
    }
   ],
   "source": [
    "len(dloader)"
   ]
  },
  {
   "cell_type": "code",
   "execution_count": 7,
   "metadata": {},
   "outputs": [],
   "source": [
    "model = torch.jit.load('/fast_data_e2e11/abhishek/qureai/packages/python/qxr/traces_ts/v4_mass_upgrade_cuda.ts', map_location='cuda')"
   ]
  },
  {
   "cell_type": "code",
   "execution_count": 12,
   "metadata": {},
   "outputs": [],
   "source": [
    "def run_model(model, dloader, names, seg=False, save_dir=None):\n",
    "    \n",
    "    if seg:\n",
    "        assert save_dir, \"save_dir not provided\"\n",
    "    \n",
    "    preds = {}\n",
    "    for batch in tqdm(dloader):\n",
    "        with torch.no_grad():\n",
    "            ids = batch['id']\n",
    "            inputs = batch['input']\n",
    "        \n",
    "            out = model(inputs.to(\"cuda:0\"))\n",
    "\n",
    "            cls_out = out[0]\n",
    "            seg_out = out[1]\n",
    "            \n",
    "            for tag in names:\n",
    "                tdata = None\n",
    "                sdata = None\n",
    "                \n",
    "                    \n",
    "                if seg and (tag in seg_out):\n",
    "                    # sdata = fn.softmax(seg_out[tag].cpu(), dim=1)\n",
    "                    os.makedirs(os.path.join(save_dir, tag), exist_ok=True)\n",
    "\n",
    "                tdata = cls_out[tag]\n",
    "                sdata = seg_out[tag]\n",
    "                ids = ['1.2.392.200036.9125.4.0.2955215972.839066288.762996930', 'f26315bb441a4aeaa6bb5bd6b45c6ad9', '02e743e928ca46909c38e185c854061f', '1c710196ab6e4254b7e31209ce156a01', '1.2.392.200036.9125.4.0.1378179521.4093715120.762996930', 'cb412dd20bfd4eaeb26a573603e98a37', 'f94964de96014302bc09ccfc2a67890f', '251aafb6345448568edbab6eabb05d05', '878d82d9b00e4b82824d85e94b5b52d8', '98a9fea040eb4ca1afcfdf0f30512cb4', 'f5b142784458451d9482e7f6e67c4e88', '29102b9ee63a469496bf3154f756c7d7', '1.2.392.200036.9125.4.0.1378198260.50668208.762996930', \"none\", '1.2.392.200036.9125.4.0.2217063622.2399230572.1521487960', '1.2.392.200036.9125.4.0.3877998013.3875676848.762996930']\n",
    "                for i, idx in enumerate(ids):\n",
    "                    if not idx in preds:\n",
    "                        preds[idx] = {}\n",
    "                        \n",
    "                    if not (tdata is None):\n",
    "                        preds[idx].update({tag: tdata[i].item()})\n",
    "                        \n",
    "                    if not (sdata is None):\n",
    "                        s_out = sdata[i].detach().cpu().numpy()\n",
    "                        binary_mask = (s_out > 0.3).astype(np.uint8) * 255\n",
    "                        seg_max = s_out.max().item()\n",
    "                        \n",
    "                        preds[idx].update({f\"{tag}_seg\": seg_max})\n",
    "                        # cv2.imwrite(f\"{save_dir}/{tag}/{idx}.png\", binary_mask)   \n",
    "                        \n",
    "                        \n",
    "    \n",
    "    return dict_to_df(preds)\n"
   ]
  },
  {
   "cell_type": "code",
   "execution_count": 13,
   "metadata": {},
   "outputs": [
    {
     "name": "stderr",
     "output_type": "stream",
     "text": [
      " 86%|████████▌ | 6/7 [00:25<00:04,  4.31s/it]\n"
     ]
    },
    {
     "ename": "IndexError",
     "evalue": "index 4 is out of bounds for dimension 0 with size 4",
     "output_type": "error",
     "traceback": [
      "\u001b[0;31m---------------------------------------------------------------------------\u001b[0m",
      "\u001b[0;31mIndexError\u001b[0m                                Traceback (most recent call last)",
      "Cell \u001b[0;32mIn[13], line 1\u001b[0m\n\u001b[0;32m----> 1\u001b[0m pred_df \u001b[39m=\u001b[39m run_model(model,dloader, [\u001b[39m'\u001b[39;49m\u001b[39mmass\u001b[39;49m\u001b[39m'\u001b[39;49m], seg\u001b[39m=\u001b[39;49m\u001b[39mTrue\u001b[39;49;00m, save_dir\u001b[39m=\u001b[39;49m\u001b[39m\"\u001b[39;49m\u001b[39m/fast_data_e2e_1/cxr/qxr_ln_data/testing_data_masks/mass\u001b[39;49m\u001b[39m\"\u001b[39;49m)\n",
      "Cell \u001b[0;32mIn[12], line 34\u001b[0m, in \u001b[0;36mrun_model\u001b[0;34m(model, dloader, names, seg, save_dir)\u001b[0m\n\u001b[1;32m     31\u001b[0m     preds[idx] \u001b[39m=\u001b[39m {}\n\u001b[1;32m     33\u001b[0m \u001b[39mif\u001b[39;00m \u001b[39mnot\u001b[39;00m (tdata \u001b[39mis\u001b[39;00m \u001b[39mNone\u001b[39;00m):\n\u001b[0;32m---> 34\u001b[0m     preds[idx]\u001b[39m.\u001b[39mupdate({tag: tdata[i]\u001b[39m.\u001b[39mitem()})\n\u001b[1;32m     36\u001b[0m \u001b[39mif\u001b[39;00m \u001b[39mnot\u001b[39;00m (sdata \u001b[39mis\u001b[39;00m \u001b[39mNone\u001b[39;00m):\n\u001b[1;32m     37\u001b[0m     s_out \u001b[39m=\u001b[39m sdata[i]\u001b[39m.\u001b[39mdetach()\u001b[39m.\u001b[39mcpu()\u001b[39m.\u001b[39mnumpy()\n",
      "\u001b[0;31mIndexError\u001b[0m: index 4 is out of bounds for dimension 0 with size 4"
     ]
    }
   ],
   "source": [
    "pred_df = run_model(model,dloader, ['mass'], seg=True, save_dir=\"/fast_data_e2e_1/cxr/qxr_ln_data/testing_data_masks/mass\")\n"
   ]
  },
  {
   "cell_type": "code",
   "execution_count": 80,
   "metadata": {},
   "outputs": [
    {
     "data": {
      "text/html": [
       "<div>\n",
       "<style scoped>\n",
       "    .dataframe tbody tr th:only-of-type {\n",
       "        vertical-align: middle;\n",
       "    }\n",
       "\n",
       "    .dataframe tbody tr th {\n",
       "        vertical-align: top;\n",
       "    }\n",
       "\n",
       "    .dataframe thead th {\n",
       "        text-align: right;\n",
       "    }\n",
       "</style>\n",
       "<table border=\"1\" class=\"dataframe\">\n",
       "  <thead>\n",
       "    <tr style=\"text-align: right;\">\n",
       "      <th></th>\n",
       "      <th>filename</th>\n",
       "      <th>mass</th>\n",
       "      <th>mass_seg</th>\n",
       "    </tr>\n",
       "  </thead>\n",
       "  <tbody>\n",
       "    <tr>\n",
       "      <th>0</th>\n",
       "      <td>1.2.392.200036.9125.4.0.2955215972.839066288.7...</td>\n",
       "      <td>0.022832</td>\n",
       "      <td>0.020939</td>\n",
       "    </tr>\n",
       "    <tr>\n",
       "      <th>1</th>\n",
       "      <td>f26315bb441a4aeaa6bb5bd6b45c6ad9</td>\n",
       "      <td>0.047018</td>\n",
       "      <td>0.090506</td>\n",
       "    </tr>\n",
       "    <tr>\n",
       "      <th>2</th>\n",
       "      <td>02e743e928ca46909c38e185c854061f</td>\n",
       "      <td>0.001445</td>\n",
       "      <td>0.001478</td>\n",
       "    </tr>\n",
       "    <tr>\n",
       "      <th>3</th>\n",
       "      <td>1c710196ab6e4254b7e31209ce156a01</td>\n",
       "      <td>0.004491</td>\n",
       "      <td>0.002310</td>\n",
       "    </tr>\n",
       "    <tr>\n",
       "      <th>4</th>\n",
       "      <td>1.2.392.200036.9125.4.0.1378179521.4093715120....</td>\n",
       "      <td>0.056682</td>\n",
       "      <td>0.048507</td>\n",
       "    </tr>\n",
       "    <tr>\n",
       "      <th>...</th>\n",
       "      <td>...</td>\n",
       "      <td>...</td>\n",
       "      <td>...</td>\n",
       "    </tr>\n",
       "    <tr>\n",
       "      <th>95</th>\n",
       "      <td>29069285cea0451688182dbb9411b6e9</td>\n",
       "      <td>0.003780</td>\n",
       "      <td>0.002707</td>\n",
       "    </tr>\n",
       "    <tr>\n",
       "      <th>96</th>\n",
       "      <td>3885fdf64e3647ceac474bd3e2554065</td>\n",
       "      <td>0.166193</td>\n",
       "      <td>0.102173</td>\n",
       "    </tr>\n",
       "    <tr>\n",
       "      <th>97</th>\n",
       "      <td>a66652a3a8754c3c9fc4d35bd70d4c83</td>\n",
       "      <td>0.022816</td>\n",
       "      <td>0.003524</td>\n",
       "    </tr>\n",
       "    <tr>\n",
       "      <th>98</th>\n",
       "      <td>1.2.392.200036.9125.4.0.2451942927.1359094448....</td>\n",
       "      <td>0.001884</td>\n",
       "      <td>0.002142</td>\n",
       "    </tr>\n",
       "    <tr>\n",
       "      <th>99</th>\n",
       "      <td>128d6e601c4940e5a67889a890316391</td>\n",
       "      <td>0.003141</td>\n",
       "      <td>0.003121</td>\n",
       "    </tr>\n",
       "  </tbody>\n",
       "</table>\n",
       "<p>100 rows × 3 columns</p>\n",
       "</div>"
      ],
      "text/plain": [
       "                                             filename      mass  mass_seg\n",
       "0   1.2.392.200036.9125.4.0.2955215972.839066288.7...  0.022832  0.020939\n",
       "1                    f26315bb441a4aeaa6bb5bd6b45c6ad9  0.047018  0.090506\n",
       "2                    02e743e928ca46909c38e185c854061f  0.001445  0.001478\n",
       "3                    1c710196ab6e4254b7e31209ce156a01  0.004491  0.002310\n",
       "4   1.2.392.200036.9125.4.0.1378179521.4093715120....  0.056682  0.048507\n",
       "..                                                ...       ...       ...\n",
       "95                   29069285cea0451688182dbb9411b6e9  0.003780  0.002707\n",
       "96                   3885fdf64e3647ceac474bd3e2554065  0.166193  0.102173\n",
       "97                   a66652a3a8754c3c9fc4d35bd70d4c83  0.022816  0.003524\n",
       "98  1.2.392.200036.9125.4.0.2451942927.1359094448....  0.001884  0.002142\n",
       "99                   128d6e601c4940e5a67889a890316391  0.003141  0.003121\n",
       "\n",
       "[100 rows x 3 columns]"
      ]
     },
     "execution_count": 80,
     "metadata": {},
     "output_type": "execute_result"
    }
   ],
   "source": [
    "pred_df"
   ]
  },
  {
   "cell_type": "markdown",
   "metadata": {},
   "source": [
    "testset - 7 lakhs - internal ....\n",
    "mass \n",
    "- cls thresh - (mass) - yoden index (thresh) - 0.72 (internal)\n",
    "- seg thresh - mass_seg - yoden index (thresh) -  0.3 (internal)\n",
    "- pixel threshold - set manually \n",
    "\n",
    "ribfracture - \n",
    "- cls thresh - (mass) - yoden index (thresh) - 0.6 \n",
    "- seg thresh - mass_seg - yoden index (thresh) -  0.3\n",
    "\n"
   ]
  },
  {
   "cell_type": "code",
   "execution_count": 7,
   "metadata": {},
   "outputs": [
    {
     "name": "stdout",
     "output_type": "stream",
     "text": [
      "44\n"
     ]
    },
    {
     "data": {
      "image/png": "[encoded data removed]",
      "text/plain": [
       "<Figure size 640x480 with 1 Axes>"
      ]
     },
     "metadata": {},
     "output_type": "display_data"
    }
   ],
   "source": [
    "# Load the image in grayscale mode\n",
    "img = cv2.imread(\"/fast_data_e2e_1/cxr/qxr_ln_data/testing_data_masks/mass/mass/fd217a225b4045818481c16462989f14.png\", cv2.IMREAD_GRAYSCALE)\n",
    "print(np.max(img))\n",
    "# Normalize the image\n",
    "img_normalized = img / 255.0\n",
    "\n",
    "# Create a binary mask where the condition is true\n",
    "mask = img_normalized > 0.3\n",
    "\n",
    "# Apply the mask to the original image (optional: normalize for better visualization)\n",
    "masked_img = img_normalized * mask\n",
    "\n",
    "# Display the result\n",
    "plt.imshow(masked_img, cmap='gray')\n",
    "plt.show()"
   ]
  },
  {
   "cell_type": "code",
   "execution_count": null,
   "metadata": {},
   "outputs": [],
   "source": []
  }
 ],
 "metadata": {
  "kernelspec": {
   "display_name": "qtrain_clone",
   "language": "python",
   "name": "python3"
  },
  "language_info": {
   "codemirror_mode": {
    "name": "ipython",
    "version": 3
   },
   "file_extension": ".py",
   "mimetype": "text/x-python",
   "name": "python",
   "nbconvert_exporter": "python",
   "pygments_lexer": "ipython3",
   "version": "3.9.17"
  },
  "orig_nbformat": 4
 },
 "nbformat": 4,
 "nbformat_minor": 2
}
