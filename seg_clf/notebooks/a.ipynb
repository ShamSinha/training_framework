{
 "cells": [
  {
   "cell_type": "code",
   "execution_count": 15,
   "metadata": {},
   "outputs": [],
   "source": [
    "import numpy as np\n",
    "class Solution(object):\n",
    "    def candy(self, ratings):\n",
    "        \"\"\"\n",
    "        :type ratings: List[int]\n",
    "        :rtype: int\n",
    "        \"\"\"\n",
    "\n",
    "        # ans = ratings\n",
    "        # if 0 in ans :\n",
    "        #     ans = [x+1 for x in ans]\n",
    "\n",
    "        m = len(ratings)\n",
    "\n",
    "        ans = [1]*m\n",
    "\n",
    "        minima_index = []\n",
    "        maxima_index = []\n",
    "        increasing_index = []\n",
    "        decreasing_index = []\n",
    "\n",
    "        if m > 1 : \n",
    "            if ratings[1] > ratings[0] : \n",
    "                ans[1] = ans[1] + 1\n",
    "            else :\n",
    "                ans[0] = ans[0] + 1\n",
    "\n",
    "            if ratings[m-1] > ratings[m-2] :\n",
    "                ans[m-1] = ans[m-1] + 1\n",
    "\n",
    "            if ratings[m-1] < ratings[m-2] :\n",
    "                ans[m-2] = ans[m-2] + 1\n",
    "        else :\n",
    "            return np.sum(ans)\n",
    "\n",
    "\n",
    "        for i in range(m):\n",
    "            if i > 0 and i < m-1:\n",
    "                if ratings[i] > ratings[i-1] and ratings[i] > ratings[i+1] :\n",
    "                    maxima_index.append(i)\n",
    "\n",
    "                if ratings[i] < ratings[i-1] and ratings[i] < ratings[i+1] :\n",
    "                    minima_index.append(i)\n",
    "\n",
    "                if ratings[i-1] > ratings[i] and ratings[i] > ratings[i+1] :\n",
    "                    decreasing_index.append(i)\n",
    "\n",
    "                if ratings[i-1] < ratings[i] and ratings[i] < ratings[i+1] :\n",
    "                    increasing_index.append(i)\n",
    "\n",
    "        # new_ans = ans\n",
    "\n",
    "        for idx in maxima_index :\n",
    "            while((ans[idx] <= ans[idx + 1]) or (ans[idx] <= ans[idx-1])) :\n",
    "                ans[idx] = ans[idx] + 1\n",
    "\n",
    "        for idx in minima_index :\n",
    "            while((ans[idx] >= ans[idx + 1]) or (ans[idx] >= ans[idx-1])) :\n",
    "                if ans[idx] >= ans[idx + 1] : \n",
    "                    ans[idx+1] = ans[idx] + 1\n",
    "                if ans[idx] >= ans[idx - 1] :\n",
    "                    ans[idx-1] = ans[idx] + 1\n",
    "\n",
    "        for idx in decreasing_index :\n",
    "            while((ans[idx] > ans[idx-1]) or (ans[idx] < ans[idx+1])) :\n",
    "                if ans[idx] > ans[idx-1] :\n",
    "                    ans[idx-1] = ans[idx] + 1\n",
    "                if ans[idx] < ans[idx+1] :\n",
    "                    ans[idx] = ans[idx+1] + 1\n",
    "\n",
    "\n",
    "        for idx in increasing_index :\n",
    "            while((ans[idx] < ans[idx-1]) or (ans[idx] > ans[idx+1])) :\n",
    "                if ans[idx] < ans[idx-1] :\n",
    "                    ans[idx] = ans[idx-1] + 1\n",
    "                if ans[idx] > ans[idx+1] :\n",
    "                    ans[idx+1] = ans[idx] + 1\n",
    "\n",
    "        \n",
    "            \n",
    "        return np.sum(ans)\n",
    "\n",
    "        \n",
    "            "
   ]
  },
  {
   "cell_type": "code",
   "execution_count": 16,
   "metadata": {},
   "outputs": [],
   "source": [
    "sol = Solution()"
   ]
  },
  {
   "cell_type": "code",
   "execution_count": 17,
   "metadata": {},
   "outputs": [
    {
     "name": "stdout",
     "output_type": "stream",
     "text": [
      "[1]\n",
      "[5]\n",
      "[]\n",
      "[]\n",
      "[2, 1, 1, 1, 1, 1, 1]\n",
      "[2, 2, 2, 1, 1, 1, 1]\n"
     ]
    }
   ],
   "source": [
    "ans = sol.candy(ratings = [1,2,87,87,87,2,1])"
   ]
  },
  {
   "cell_type": "code",
   "execution_count": 14,
   "metadata": {},
   "outputs": [
    {
     "data": {
      "text/plain": [
       "True"
      ]
     },
     "execution_count": 14,
     "metadata": {},
     "output_type": "execute_result"
    }
   ],
   "source": [
    "5>4>3\n"
   ]
  },
  {
   "cell_type": "code",
   "execution_count": 18,
   "metadata": {},
   "outputs": [
    {
     "data": {
      "text/plain": [
       "10"
      ]
     },
     "execution_count": 18,
     "metadata": {},
     "output_type": "execute_result"
    }
   ],
   "source": [
    "np.sum(ans)"
   ]
  },
  {
   "cell_type": "code",
   "execution_count": null,
   "metadata": {},
   "outputs": [],
   "source": []
  }
 ],
 "metadata": {
  "kernelspec": {
   "display_name": "qct_deep",
   "language": "python",
   "name": "python3"
  },
  "language_info": {
   "codemirror_mode": {
    "name": "ipython",
    "version": 3
   },
   "file_extension": ".py",
   "mimetype": "text/x-python",
   "name": "python",
   "nbconvert_exporter": "python",
   "pygments_lexer": "ipython3",
   "version": "3.9.15"
  },
  "orig_nbformat": 4
 },
 "nbformat": 4,
 "nbformat_minor": 2
}
