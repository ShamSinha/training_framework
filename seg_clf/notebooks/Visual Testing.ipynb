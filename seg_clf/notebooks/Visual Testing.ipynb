{
 "cells": [
  {
   "cell_type": "code",
   "execution_count": 2,
   "id": "dbf78f8b",
   "metadata": {},
   "outputs": [
    {
     "name": "stdout",
     "output_type": "stream",
     "text": [
      "Unable to find logging config yaml. Configuring fallback values\n"
     ]
    }
   ],
   "source": [
    "import os\n",
    "import pandas as pd\n",
    "from qer_utils.db import get_mongo_db\n",
    "from qure_dicom_utils.dicom.series import geometry\n",
    "from qer.ai.predictor.get_predictions import load_and_run_model ,load_model\n",
    "from skimage.morphology import ball , disk , binary_erosion , binary_dilation, binary_closing, binary_opening\n",
    "import h5py\n",
    "db = get_mongo_db()\n",
    "import numpy as np\n",
    "import SimpleITK as sitk\n",
    "from tqdm.auto import tqdm\n",
    "import matplotlib.pyplot as plt\n",
    "import torch\n",
    "from torchvision import transforms\n",
    "from torchvision.transforms.functional import InterpolationMode\n",
    "from loguru import logger\n",
    "import pickle"
   ]
  },
  {
   "cell_type": "code",
   "execution_count": 3,
   "id": "16883832",
   "metadata": {},
   "outputs": [],
   "source": [
    "import SimpleITK as sitk\n",
    "from ipywidgets import widgets\n",
    "from ipywidgets import interact\n",
    "import matplotlib.pyplot as plt\n",
    "\n",
    "\n",
    "def plot_scans(img_arr_list, title_list):\n",
    "    cols = len(img_arr_list)\n",
    "    num_slices = img_arr_list[0].shape[0]\n",
    "\n",
    "    def callback(z=None):\n",
    "        fig, ax = plt.subplots(1, cols, figsize=(5*cols, 5*cols), squeeze=False)\n",
    "        for idx in range(cols):\n",
    "            if idx == 0 : \n",
    "                ax[0][idx].imshow(img_arr_list[idx][z, :, :], cmap='gray')\n",
    "            else :\n",
    "                ax[0][idx].imshow(img_arr_list[idx][z, :, :])\n",
    "            ax[0][idx].title.set_text(title_list[idx])\n",
    "            ax[0][idx].axis('off')\n",
    "            ax[0][idx].grid(False)\n",
    "\n",
    "        fig.tight_layout()\n",
    "        fig.show()\n",
    "\n",
    "    interact(\n",
    "        callback,\n",
    "        z=widgets.IntSlider(value=0, min=0, max=(num_slices - 1), step=1)\n",
    "    )"
   ]
  },
  {
   "cell_type": "code",
   "execution_count": null,
   "id": "ca6cc825",
   "metadata": {},
   "outputs": [],
   "source": []
  },
  {
   "cell_type": "code",
   "execution_count": 4,
   "id": "9f2e73f8",
   "metadata": {},
   "outputs": [],
   "source": [
    "def get_dev_headct_arr(study_uid) : \n",
    "    base_path = '/cache/fast_data_nas8/qer/shubham/ich'\n",
    "    path = os.path.join(base_path, study_uid)\n",
    "    h5_data = path + '.h5'\n",
    "    \n",
    "    if os.path.exists(h5_data) :\n",
    "        f2 = h5py.File(h5_data, 'r')\n",
    "\n",
    "        if \"mask\" not in f2.keys():\n",
    "            base_path = \"/cache/fast_data_nas8/qer/shubham/ich_seg_train_val\"\n",
    "            path = os.path.join(base_path, study_uid)\n",
    "            h5_data = path + '.h5'\n",
    "            f2 = h5py.File(h5_data, 'r')\n",
    "            image = f2['image']\n",
    "            mask = f2[\"mask\"]\n",
    "            arr = np.array(image)\n",
    "            mask = np.array(mask)\n",
    "            f2.close()\n",
    "            return arr ,mask\n",
    "        \n",
    "        image = f2['image']\n",
    "        mask = f2[\"mask\"]\n",
    "        arr = np.array(image)\n",
    "        mask = np.array(mask)\n",
    "        f2.close()\n",
    "        return arr, mask\n",
    "    else:\n",
    "        return None\n",
    "    \n",
    "def get_fda_spacing(study_uid): \n",
    "    rows = df_fda_test[df_fda_test.StudyUID == study_uid]\n",
    "    if len(rows) > 0 :\n",
    "        series_uid = rows.iloc[0].SeriesUID\n",
    "        series_dict = db.dicoms.find_one({'_id' : series_uid })\n",
    "        ftrs = geometry.get_features(series_dict)\n",
    "        return (ftrs['delta_x'], ftrs['delta_y'], 5)\n",
    "    \n",
    "    \n",
    "def get_dev_spacing(study_uid): \n",
    "    rows = df_hemorrhage_mask[df_hemorrhage_mask.StudyUID == study_uid]\n",
    "    if len(rows) > 0 :\n",
    "        series_uid = rows.iloc[0].SeriesUID_x\n",
    "        series_dict = db.dicoms.find_one({'_id' : series_uid })\n",
    "        ftrs = geometry.get_features(series_dict)\n",
    "        return (ftrs['delta_x'], ftrs['delta_y'], 5)\n",
    "\n",
    "\n",
    "def get_fda_headct_arr(study_uid):\n",
    "    base_path = '/cache/fast_data_nas8/qer/shubham/ich_seg'\n",
    "    path = os.path.join(base_path, study_uid)\n",
    "    h5_data = path + '.h5'\n",
    "    \n",
    "    if os.path.exists(h5_data) :\n",
    "        f2 = h5py.File(h5_data, 'r')\n",
    "        image = f2['image']\n",
    "        mask = f2[\"mask\"]\n",
    "        arr = np.array(image)\n",
    "        mask = np.array(mask)\n",
    "        f2.close()\n",
    "        return arr, mask\n",
    "    else:\n",
    "        return None"
   ]
  },
  {
   "cell_type": "code",
   "execution_count": 5,
   "id": "264ba226",
   "metadata": {},
   "outputs": [],
   "source": [
    "from qer.utils.preprocessing.windowing import window_generator\n",
    "brain_window = window_generator(80 , 40)\n",
    "blood_window = window_generator(175 , 50)\n",
    "bone_window = window_generator(3000 , 500)"
   ]
  },
  {
   "cell_type": "code",
   "execution_count": 16,
   "id": "6bdb46b6",
   "metadata": {},
   "outputs": [],
   "source": [
    "df_fda = pd.read_csv(\"/home/users/shubham.kumar/projects/ICH_classification_segmentation/ICH_analyis_fda.csv\")\n",
    "df_val = pd.read_csv(\"/home/users/shubham.kumar/projects/ICH_classification_segmentation/ICH_analyis_val.csv\")\n",
    "df_train = pd.read_csv(\"/home/users/shubham.kumar/projects/ICH_classification_segmentation/ICH_analyis_train.csv\")"
   ]
  },
  {
   "cell_type": "code",
   "execution_count": 25,
   "id": "1a7a9e4d",
   "metadata": {},
   "outputs": [],
   "source": [
    "random_train_uids = df_train[df_train[\"threshold\"] == 0.5].sample(n= 7, random_state=12).StudyUID.values"
   ]
  },
  {
   "cell_type": "code",
   "execution_count": 33,
   "id": "7c2d9532",
   "metadata": {},
   "outputs": [],
   "source": [
    "random_val_uids = df_val[df_val[\"threshold\"] == 0.5].sample(n= 8, random_state=90).StudyUID.values"
   ]
  },
  {
   "cell_type": "code",
   "execution_count": 37,
   "id": "6d453ae4",
   "metadata": {},
   "outputs": [],
   "source": [
    "random_fda_uids = df_fda[df_fda[\"threshold\"] == 0.5].sample(n= 15, random_state=90).StudyUID.values"
   ]
  },
  {
   "cell_type": "code",
   "execution_count": null,
   "id": "4fea197b",
   "metadata": {},
   "outputs": [],
   "source": [
    "random_fda_uids = df_fda[df_fda[\"threshold\"] == 0.5].sample(n= 8, random_state=90).StudyUID.values"
   ]
  },
  {
   "cell_type": "code",
   "execution_count": 95,
   "id": "cacd9681",
   "metadata": {},
   "outputs": [],
   "source": [
    "df_fda_test = pd.read_csv(\"/home/users/shubham.kumar/projects/ICH_classification_segmentation/qquantFDA_qure25k.csv\")\n",
    "fda_study_uids = list(df_fda_test.StudyUID.values)"
   ]
  },
  {
   "cell_type": "code",
   "execution_count": 6,
   "id": "d9123bae",
   "metadata": {},
   "outputs": [
    {
     "data": {
      "application/json": {
       "ascii": false,
       "bar_format": null,
       "colour": null,
       "elapsed": 0.011883735656738281,
       "initial": 0,
       "n": 0,
       "ncols": null,
       "nrows": 24,
       "postfix": null,
       "prefix": "",
       "rate": null,
       "total": 372,
       "unit": "it",
       "unit_divisor": 1000,
       "unit_scale": false
      },
      "application/vnd.jupyter.widget-view+json": {
       "model_id": "e4344bdd7ce4492c8bdc8e087806df3a",
       "version_major": 2,
       "version_minor": 0
      },
      "text/plain": [
       "  0%|          | 0/372 [00:00<?, ?it/s]"
      ]
     },
     "metadata": {},
     "output_type": "display_data"
    },
    {
     "name": "stdout",
     "output_type": "stream",
     "text": [
      "1.2.276.0.7230010.3.1.2.8323329.1346.1548393578.926171\n",
      "1.2.276.0.7230010.3.1.2.8323329.1346.1548926903.1086689\n",
      "1.2.840.113564.99.1.105263729736.54070.20191115216097.323543.2\n",
      "1.2.840.113619.2.182.1080861679195.1574600414.4688478\n",
      "1.2.840.113619.2.25.4.42240456.1573604637.315\n",
      "1.2.840.113619.2.340.3.3523929760.378.1573470040.420\n",
      "1.2.840.113619.2.404.3.397167661.400.1573911584.263\n",
      "1.2.840.113696.513556.510.1357561.20191112205144\n",
      "1.2.840.113711.514916.1.52896.595568019.26.2116281012.10\n",
      "1.2.840.113704.1.111.2420.1577870635.1\n",
      "1.2.840.114350.2.186.2.798268.2.302025995.1\n",
      "1.2.410.200010.1221145.764.9387094.13429727.13429727\n",
      "1.2.840.113619.2.290.3.1091212033.737.1558069955.845\n",
      "1.2.840.113619.2.404.3.296508012.72.1551083430.193\n",
      "1.2.840.113619.2.437.3.2215261088.102.1578560302.751\n",
      "1.2.840.113619.2.437.3.2215261088.81.1593904570.318\n",
      "1.2.840.113619.2.437.3.420137064.70.1596354183.183\n",
      "1.2.840.113619.2.55.3.1762297613.729.1568604659.760\n",
      "1.2.392.200036.9116.2.6.1.44063.1805253169.1603522061.843163\n"
     ]
    }
   ],
   "source": [
    "uids0ml = []\n",
    "for uid in tqdm(fda_study_uids) : \n",
    "    if os.path.exists(f\"/cache/fast_data_nas8/qer/shubham/ICH_analysis/{uid}.h5\") : \n",
    "        h5f = h5py.File(f\"/cache/fast_data_nas8/qer/shubham/ICH_analysis/{uid}.h5\" , \"r\")\n",
    "        if np.array(h5f[\"acute_real_vol\"]) == 0  :\n",
    "            print(uid)\n",
    "            uids0ml.append(uid)\n",
    "        h5f.close()"
   ]
  },
  {
   "cell_type": "code",
   "execution_count": 92,
   "id": "b08dd4a1",
   "metadata": {},
   "outputs": [],
   "source": [
    "zeroml_uids = df_fda[(df_fda[\"threshold\"] == 0.5) & (df_fda[\"StudyUID\"].isin(uids0ml)) & (df_fda[\"dice_score\"]>0)].StudyUID.values\n"
   ]
  },
  {
   "cell_type": "code",
   "execution_count": 74,
   "id": "cc9ff58f",
   "metadata": {},
   "outputs": [
    {
     "data": {
      "text/plain": [
       "8"
      ]
     },
     "execution_count": 74,
     "metadata": {},
     "output_type": "execute_result"
    }
   ],
   "source": [
    "len(df_fda[(df_fda[\"threshold\"] == 0.5) & (df_fda[\"StudyUID\"].isin(uids0ml)) & (df_fda[\"dice_score\"] == 0) & (df_fda[\"pred_volume\"] ==0 )])\n",
    "\n",
    "\n"
   ]
  },
  {
   "cell_type": "code",
   "execution_count": 78,
   "id": "382ab0b3",
   "metadata": {},
   "outputs": [
    {
     "data": {
      "text/plain": [
       "15"
      ]
     },
     "execution_count": 78,
     "metadata": {},
     "output_type": "execute_result"
    }
   ],
   "source": [
    "len(df_val[(df_val[\"pred_volume\"] ==0) & (df_val[\"threshold\"] == 0.5)])"
   ]
  },
  {
   "cell_type": "code",
   "execution_count": 13,
   "id": "602fa428",
   "metadata": {},
   "outputs": [],
   "source": [
    "activation = torch.nn.Softmax(dim =1)"
   ]
  },
  {
   "cell_type": "code",
   "execution_count": 94,
   "id": "d50bcf16",
   "metadata": {
    "scrolled": false
   },
   "outputs": [
    {
     "data": {
      "application/json": {
       "ascii": false,
       "bar_format": null,
       "colour": null,
       "elapsed": 0.007321596145629883,
       "initial": 0,
       "n": 0,
       "ncols": null,
       "nrows": 24,
       "postfix": null,
       "prefix": "",
       "rate": null,
       "total": 8,
       "unit": "it",
       "unit_divisor": 1000,
       "unit_scale": false
      },
      "application/vnd.jupyter.widget-view+json": {
       "model_id": "36d70ff63d414891b5c8bb90efa8db68",
       "version_major": 2,
       "version_minor": 0
      },
      "text/plain": [
       "  0%|          | 0/8 [00:00<?, ?it/s]"
      ]
     },
     "metadata": {},
     "output_type": "display_data"
    },
    {
     "name": "stdout",
     "output_type": "stream",
     "text": [
      "1.2.276.0.7230010.3.1.2.8323329.1346.1548393578.926171\n"
     ]
    },
    {
     "data": {
      "application/vnd.jupyter.widget-view+json": {
       "model_id": "3dbf73a16e49424ea93e145afe452e1d",
       "version_major": 2,
       "version_minor": 0
      },
      "text/plain": [
       "interactive(children=(IntSlider(value=0, description='z', max=31), Output()), _dom_classes=('widget-interact',…"
      ]
     },
     "metadata": {},
     "output_type": "display_data"
    },
    {
     "name": "stdout",
     "output_type": "stream",
     "text": [
      "1.2.840.113619.2.25.4.42240456.1573604637.315\n"
     ]
    },
    {
     "data": {
      "application/vnd.jupyter.widget-view+json": {
       "model_id": "22b8732ef6424e418ceb73589a15a016",
       "version_major": 2,
       "version_minor": 0
      },
      "text/plain": [
       "interactive(children=(IntSlider(value=0, description='z', max=31), Output()), _dom_classes=('widget-interact',…"
      ]
     },
     "metadata": {},
     "output_type": "display_data"
    },
    {
     "name": "stdout",
     "output_type": "stream",
     "text": [
      "1.2.840.113696.513556.510.1357561.20191112205144\n"
     ]
    },
    {
     "data": {
      "application/vnd.jupyter.widget-view+json": {
       "model_id": "e38fec76dca4429eb0cbbafbd97066fc",
       "version_major": 2,
       "version_minor": 0
      },
      "text/plain": [
       "interactive(children=(IntSlider(value=0, description='z', max=30), Output()), _dom_classes=('widget-interact',…"
      ]
     },
     "metadata": {},
     "output_type": "display_data"
    },
    {
     "name": "stdout",
     "output_type": "stream",
     "text": [
      "1.2.840.113711.514916.1.52896.595568019.26.2116281012.10\n"
     ]
    },
    {
     "data": {
      "application/vnd.jupyter.widget-view+json": {
       "model_id": "a37b9b48e8154260b50395c225f519e0",
       "version_major": 2,
       "version_minor": 0
      },
      "text/plain": [
       "interactive(children=(IntSlider(value=0, description='z', max=32), Output()), _dom_classes=('widget-interact',…"
      ]
     },
     "metadata": {},
     "output_type": "display_data"
    },
    {
     "name": "stdout",
     "output_type": "stream",
     "text": [
      "1.2.840.113704.1.111.2420.1577870635.1\n"
     ]
    },
    {
     "data": {
      "application/vnd.jupyter.widget-view+json": {
       "model_id": "0a1b697b8fbc44aab7bbf657fab14c98",
       "version_major": 2,
       "version_minor": 0
      },
      "text/plain": [
       "interactive(children=(IntSlider(value=0, description='z', max=26), Output()), _dom_classes=('widget-interact',…"
      ]
     },
     "metadata": {},
     "output_type": "display_data"
    },
    {
     "name": "stdout",
     "output_type": "stream",
     "text": [
      "1.2.840.114350.2.186.2.798268.2.302025995.1\n"
     ]
    },
    {
     "data": {
      "application/vnd.jupyter.widget-view+json": {
       "model_id": "789c104fa31a4f1baf710864721cf49b",
       "version_major": 2,
       "version_minor": 0
      },
      "text/plain": [
       "interactive(children=(IntSlider(value=0, description='z', max=31), Output()), _dom_classes=('widget-interact',…"
      ]
     },
     "metadata": {},
     "output_type": "display_data"
    },
    {
     "name": "stdout",
     "output_type": "stream",
     "text": [
      "1.2.840.113619.2.437.3.2215261088.81.1593904570.318\n"
     ]
    },
    {
     "data": {
      "application/vnd.jupyter.widget-view+json": {
       "model_id": "2c2e9ff556494823acd752f969f30d66",
       "version_major": 2,
       "version_minor": 0
      },
      "text/plain": [
       "interactive(children=(IntSlider(value=0, description='z', max=39), Output()), _dom_classes=('widget-interact',…"
      ]
     },
     "metadata": {},
     "output_type": "display_data"
    },
    {
     "name": "stdout",
     "output_type": "stream",
     "text": [
      "1.2.392.200036.9116.2.6.1.44063.1805253169.1603522061.843163\n"
     ]
    },
    {
     "data": {
      "application/vnd.jupyter.widget-view+json": {
       "model_id": "1194ec21e92342389d73741f8dd35b5f",
       "version_major": 2,
       "version_minor": 0
      },
      "text/plain": [
       "interactive(children=(IntSlider(value=0, description='z', max=27), Output()), _dom_classes=('widget-interact',…"
      ]
     },
     "metadata": {},
     "output_type": "display_data"
    }
   ],
   "source": [
    "for uid in tqdm(zeroml_uids) : \n",
    "    if os.path.exists(f\"/cache/fast_data_nas8/qer/shubham/ICH_analysis/{uid}.h5\") : \n",
    "        h5f = h5py.File(f\"/cache/fast_data_nas8/qer/shubham/ICH_analysis/{uid}.h5\" , \"r\")\n",
    "        print(uid)\n",
    "\n",
    "        logits = np.array(h5f[\"logits\"])[:,0,:,:]\n",
    "        logits_out = torch.stack([torch.Tensor(-logits) , torch.Tensor(logits)],dim = 1)\n",
    "\n",
    "        c = activation(logits_out).numpy()\n",
    "        pred = c[:,1,:,:]\n",
    "        mask = pred > 0.5\n",
    "        arr ,gt_arr = get_fda_headct_arr(uid)\n",
    "        plot_scans([brain_window(arr),gt_arr,logits,mask, logits > 0.3], [\"scan\",\"gt\",\"logits\",\"softmax on logits\",\"model pred\"])\n"
   ]
  },
  {
   "cell_type": "code",
   "execution_count": 29,
   "id": "9ca5f494",
   "metadata": {
    "scrolled": false
   },
   "outputs": [
    {
     "data": {
      "application/json": {
       "ascii": false,
       "bar_format": null,
       "colour": null,
       "elapsed": 0.008973836898803711,
       "initial": 0,
       "n": 0,
       "ncols": null,
       "nrows": 24,
       "postfix": null,
       "prefix": "",
       "rate": null,
       "total": 7,
       "unit": "it",
       "unit_divisor": 1000,
       "unit_scale": false
      },
      "application/vnd.jupyter.widget-view+json": {
       "model_id": "6166b4236e244bce8c8ab6f80b09f1ff",
       "version_major": 2,
       "version_minor": 0
      },
      "text/plain": [
       "  0%|          | 0/7 [00:00<?, ?it/s]"
      ]
     },
     "metadata": {},
     "output_type": "display_data"
    },
    {
     "data": {
      "application/vnd.jupyter.widget-view+json": {
       "model_id": "03355d59826844ee9935a0605f432c49",
       "version_major": 2,
       "version_minor": 0
      },
      "text/plain": [
       "interactive(children=(IntSlider(value=0, description='z', max=39), Output()), _dom_classes=('widget-interact',…"
      ]
     },
     "metadata": {},
     "output_type": "display_data"
    },
    {
     "data": {
      "application/vnd.jupyter.widget-view+json": {
       "model_id": "d280853e8e76406faad6fd0df71883d4",
       "version_major": 2,
       "version_minor": 0
      },
      "text/plain": [
       "interactive(children=(IntSlider(value=0, description='z', max=31), Output()), _dom_classes=('widget-interact',…"
      ]
     },
     "metadata": {},
     "output_type": "display_data"
    },
    {
     "data": {
      "application/vnd.jupyter.widget-view+json": {
       "model_id": "113f19e7fed14139a6c2c261ec87ee9e",
       "version_major": 2,
       "version_minor": 0
      },
      "text/plain": [
       "interactive(children=(IntSlider(value=0, description='z', max=43), Output()), _dom_classes=('widget-interact',…"
      ]
     },
     "metadata": {},
     "output_type": "display_data"
    },
    {
     "data": {
      "application/vnd.jupyter.widget-view+json": {
       "model_id": "e69f314c5d36412a86dfbde5068f2876",
       "version_major": 2,
       "version_minor": 0
      },
      "text/plain": [
       "interactive(children=(IntSlider(value=0, description='z', max=35), Output()), _dom_classes=('widget-interact',…"
      ]
     },
     "metadata": {},
     "output_type": "display_data"
    },
    {
     "data": {
      "application/vnd.jupyter.widget-view+json": {
       "model_id": "93ee1175c80049eebf8b9c861dc0c05a",
       "version_major": 2,
       "version_minor": 0
      },
      "text/plain": [
       "interactive(children=(IntSlider(value=0, description='z', max=27), Output()), _dom_classes=('widget-interact',…"
      ]
     },
     "metadata": {},
     "output_type": "display_data"
    },
    {
     "data": {
      "application/vnd.jupyter.widget-view+json": {
       "model_id": "bb1fc990b7b44c11853b31445bddb5f3",
       "version_major": 2,
       "version_minor": 0
      },
      "text/plain": [
       "interactive(children=(IntSlider(value=0, description='z', max=33), Output()), _dom_classes=('widget-interact',…"
      ]
     },
     "metadata": {},
     "output_type": "display_data"
    },
    {
     "data": {
      "application/vnd.jupyter.widget-view+json": {
       "model_id": "50bdbdab7d15447ebcb5f9121f65d233",
       "version_major": 2,
       "version_minor": 0
      },
      "text/plain": [
       "interactive(children=(IntSlider(value=0, description='z', max=31), Output()), _dom_classes=('widget-interact',…"
      ]
     },
     "metadata": {},
     "output_type": "display_data"
    }
   ],
   "source": [
    "for uid in tqdm(random_train_uids) : \n",
    "    if os.path.exists(f\"/cache/fast_data_nas8/qer/shubham/ICH_analysis/{uid}.h5\") : \n",
    "        h5f = h5py.File(f\"/cache/fast_data_nas8/qer/shubham/ICH_analysis/{uid}.h5\" , \"r\")\n",
    "\n",
    "        logits = np.array(h5f[\"logits\"])\n",
    "        logits_out = torch.stack([torch.Tensor(-logits) , torch.Tensor(logits)],dim = 1)\n",
    "\n",
    "        c = activation(logits_out).numpy()\n",
    "        pred = c[:,1,:,:]\n",
    "        mask = pred > 0.5\n",
    "        arr ,gt_arr = get_dev_headct_arr(uid)\n",
    "        plot_scans([brain_window(arr),gt_arr,logits,mask, logits > 0.3], [\"scan\",\"gt\",\"logits\",\"softmax on logits\",\"model pred\"])\n"
   ]
  },
  {
   "cell_type": "code",
   "execution_count": 34,
   "id": "acea205e",
   "metadata": {
    "scrolled": false
   },
   "outputs": [
    {
     "data": {
      "application/json": {
       "ascii": false,
       "bar_format": null,
       "colour": null,
       "elapsed": 0.007666826248168945,
       "initial": 0,
       "n": 0,
       "ncols": null,
       "nrows": 24,
       "postfix": null,
       "prefix": "",
       "rate": null,
       "total": 8,
       "unit": "it",
       "unit_divisor": 1000,
       "unit_scale": false
      },
      "application/vnd.jupyter.widget-view+json": {
       "model_id": "9c181f9cc109408984433c197b9e5505",
       "version_major": 2,
       "version_minor": 0
      },
      "text/plain": [
       "  0%|          | 0/8 [00:00<?, ?it/s]"
      ]
     },
     "metadata": {},
     "output_type": "display_data"
    },
    {
     "data": {
      "application/vnd.jupyter.widget-view+json": {
       "model_id": "8c0b5bce8f854caf97029bf2298221e6",
       "version_major": 2,
       "version_minor": 0
      },
      "text/plain": [
       "interactive(children=(IntSlider(value=0, description='z', max=31), Output()), _dom_classes=('widget-interact',…"
      ]
     },
     "metadata": {},
     "output_type": "display_data"
    },
    {
     "data": {
      "application/vnd.jupyter.widget-view+json": {
       "model_id": "40c6eb4ae94647b89b530de46124dd4d",
       "version_major": 2,
       "version_minor": 0
      },
      "text/plain": [
       "interactive(children=(IntSlider(value=0, description='z', max=23), Output()), _dom_classes=('widget-interact',…"
      ]
     },
     "metadata": {},
     "output_type": "display_data"
    },
    {
     "data": {
      "application/vnd.jupyter.widget-view+json": {
       "model_id": "3e02bcc8bffc415298b360a720755de1",
       "version_major": 2,
       "version_minor": 0
      },
      "text/plain": [
       "interactive(children=(IntSlider(value=0, description='z', max=35), Output()), _dom_classes=('widget-interact',…"
      ]
     },
     "metadata": {},
     "output_type": "display_data"
    },
    {
     "data": {
      "application/vnd.jupyter.widget-view+json": {
       "model_id": "ed8ed2d32532460abc0b7083beab9537",
       "version_major": 2,
       "version_minor": 0
      },
      "text/plain": [
       "interactive(children=(IntSlider(value=0, description='z', max=45), Output()), _dom_classes=('widget-interact',…"
      ]
     },
     "metadata": {},
     "output_type": "display_data"
    },
    {
     "data": {
      "application/vnd.jupyter.widget-view+json": {
       "model_id": "13587a38f5b6453e9c50540bbab59e40",
       "version_major": 2,
       "version_minor": 0
      },
      "text/plain": [
       "interactive(children=(IntSlider(value=0, description='z', max=24), Output()), _dom_classes=('widget-interact',…"
      ]
     },
     "metadata": {},
     "output_type": "display_data"
    },
    {
     "data": {
      "application/vnd.jupyter.widget-view+json": {
       "model_id": "faff4a8cc7c74ef4ac411c8207113a4e",
       "version_major": 2,
       "version_minor": 0
      },
      "text/plain": [
       "interactive(children=(IntSlider(value=0, description='z', max=33), Output()), _dom_classes=('widget-interact',…"
      ]
     },
     "metadata": {},
     "output_type": "display_data"
    },
    {
     "data": {
      "application/vnd.jupyter.widget-view+json": {
       "model_id": "7baf4d1606e144e18bee02a3a38ef038",
       "version_major": 2,
       "version_minor": 0
      },
      "text/plain": [
       "interactive(children=(IntSlider(value=0, description='z', max=30), Output()), _dom_classes=('widget-interact',…"
      ]
     },
     "metadata": {},
     "output_type": "display_data"
    },
    {
     "data": {
      "application/vnd.jupyter.widget-view+json": {
       "model_id": "d8eaa82c16a044c7b4d7f0fcd3bb1e3f",
       "version_major": 2,
       "version_minor": 0
      },
      "text/plain": [
       "interactive(children=(IntSlider(value=0, description='z', max=31), Output()), _dom_classes=('widget-interact',…"
      ]
     },
     "metadata": {},
     "output_type": "display_data"
    }
   ],
   "source": [
    "for uid in tqdm(random_val_uids) : \n",
    "    if os.path.exists(f\"/cache/fast_data_nas8/qer/shubham/ICH_analysis/{uid}.h5\") : \n",
    "        h5f = h5py.File(f\"/cache/fast_data_nas8/qer/shubham/ICH_analysis/{uid}.h5\" , \"r\")\n",
    "\n",
    "        logits = np.array(h5f[\"logits\"])\n",
    "        logits_out = torch.stack([torch.Tensor(-logits) , torch.Tensor(logits)],dim = 1)\n",
    "\n",
    "        c = activation(logits_out).numpy()\n",
    "        pred = c[:,1,:,:]\n",
    "        mask = pred > 0.5\n",
    "        arr ,gt_arr = get_dev_headct_arr(uid)\n",
    "        plot_scans([brain_window(arr),gt_arr,logits,mask, logits > 0.3], [\"scan\",\"gt\",\"logits\",\"softmax on logits\",\"model pred\"])\n"
   ]
  },
  {
   "cell_type": "code",
   "execution_count": 39,
   "id": "d91a9cc1",
   "metadata": {
    "scrolled": true
   },
   "outputs": [
    {
     "data": {
      "application/json": {
       "ascii": false,
       "bar_format": null,
       "colour": null,
       "elapsed": 0.007512331008911133,
       "initial": 0,
       "n": 0,
       "ncols": null,
       "nrows": 24,
       "postfix": null,
       "prefix": "",
       "rate": null,
       "total": 15,
       "unit": "it",
       "unit_divisor": 1000,
       "unit_scale": false
      },
      "application/vnd.jupyter.widget-view+json": {
       "model_id": "e5cda328bccc4c3187f42320098384ea",
       "version_major": 2,
       "version_minor": 0
      },
      "text/plain": [
       "  0%|          | 0/15 [00:00<?, ?it/s]"
      ]
     },
     "metadata": {},
     "output_type": "display_data"
    },
    {
     "data": {
      "application/vnd.jupyter.widget-view+json": {
       "model_id": "b088325348624e329310bed152973684",
       "version_major": 2,
       "version_minor": 0
      },
      "text/plain": [
       "interactive(children=(IntSlider(value=0, description='z', max=33), Output()), _dom_classes=('widget-interact',…"
      ]
     },
     "metadata": {},
     "output_type": "display_data"
    },
    {
     "data": {
      "application/vnd.jupyter.widget-view+json": {
       "model_id": "738fdc869aa04000b31c6e20730929c8",
       "version_major": 2,
       "version_minor": 0
      },
      "text/plain": [
       "interactive(children=(IntSlider(value=0, description='z', max=34), Output()), _dom_classes=('widget-interact',…"
      ]
     },
     "metadata": {},
     "output_type": "display_data"
    },
    {
     "data": {
      "application/vnd.jupyter.widget-view+json": {
       "model_id": "fa350eb103f34015a012537291061efe",
       "version_major": 2,
       "version_minor": 0
      },
      "text/plain": [
       "interactive(children=(IntSlider(value=0, description='z', max=32), Output()), _dom_classes=('widget-interact',…"
      ]
     },
     "metadata": {},
     "output_type": "display_data"
    },
    {
     "data": {
      "application/vnd.jupyter.widget-view+json": {
       "model_id": "d68f9190adab420686987e6648bcf73b",
       "version_major": 2,
       "version_minor": 0
      },
      "text/plain": [
       "interactive(children=(IntSlider(value=0, description='z', max=31), Output()), _dom_classes=('widget-interact',…"
      ]
     },
     "metadata": {},
     "output_type": "display_data"
    },
    {
     "data": {
      "application/vnd.jupyter.widget-view+json": {
       "model_id": "2e91c85a55874221933c0049e43b290f",
       "version_major": 2,
       "version_minor": 0
      },
      "text/plain": [
       "interactive(children=(IntSlider(value=0, description='z', max=35), Output()), _dom_classes=('widget-interact',…"
      ]
     },
     "metadata": {},
     "output_type": "display_data"
    },
    {
     "data": {
      "application/vnd.jupyter.widget-view+json": {
       "model_id": "3e5aa01c8cf14b989383e369723eec1a",
       "version_major": 2,
       "version_minor": 0
      },
      "text/plain": [
       "interactive(children=(IntSlider(value=0, description='z', max=35), Output()), _dom_classes=('widget-interact',…"
      ]
     },
     "metadata": {},
     "output_type": "display_data"
    },
    {
     "data": {
      "application/vnd.jupyter.widget-view+json": {
       "model_id": "bdfa802b87d046f89dcff7f654f54624",
       "version_major": 2,
       "version_minor": 0
      },
      "text/plain": [
       "interactive(children=(IntSlider(value=0, description='z', max=41), Output()), _dom_classes=('widget-interact',…"
      ]
     },
     "metadata": {},
     "output_type": "display_data"
    },
    {
     "data": {
      "application/vnd.jupyter.widget-view+json": {
       "model_id": "1b52b1666cad491e92c0add51c871761",
       "version_major": 2,
       "version_minor": 0
      },
      "text/plain": [
       "interactive(children=(IntSlider(value=0, description='z', max=35), Output()), _dom_classes=('widget-interact',…"
      ]
     },
     "metadata": {},
     "output_type": "display_data"
    },
    {
     "data": {
      "application/vnd.jupyter.widget-view+json": {
       "model_id": "f6579a3a992049f48dcece99ad78642b",
       "version_major": 2,
       "version_minor": 0
      },
      "text/plain": [
       "interactive(children=(IntSlider(value=0, description='z', max=27), Output()), _dom_classes=('widget-interact',…"
      ]
     },
     "metadata": {},
     "output_type": "display_data"
    },
    {
     "data": {
      "application/vnd.jupyter.widget-view+json": {
       "model_id": "5f528020fc564fc98f2ac6ce03a35240",
       "version_major": 2,
       "version_minor": 0
      },
      "text/plain": [
       "interactive(children=(IntSlider(value=0, description='z', max=30), Output()), _dom_classes=('widget-interact',…"
      ]
     },
     "metadata": {},
     "output_type": "display_data"
    },
    {
     "data": {
      "application/vnd.jupyter.widget-view+json": {
       "model_id": "0e5db1671143456b962c510ff7fd54d1",
       "version_major": 2,
       "version_minor": 0
      },
      "text/plain": [
       "interactive(children=(IntSlider(value=0, description='z', max=31), Output()), _dom_classes=('widget-interact',…"
      ]
     },
     "metadata": {},
     "output_type": "display_data"
    },
    {
     "data": {
      "application/vnd.jupyter.widget-view+json": {
       "model_id": "91933742e1b44516ab0db88e6fcc5f30",
       "version_major": 2,
       "version_minor": 0
      },
      "text/plain": [
       "interactive(children=(IntSlider(value=0, description='z', max=29), Output()), _dom_classes=('widget-interact',…"
      ]
     },
     "metadata": {},
     "output_type": "display_data"
    },
    {
     "data": {
      "application/vnd.jupyter.widget-view+json": {
       "model_id": "f447eeebb4904fbaa581e1e8ea82aa33",
       "version_major": 2,
       "version_minor": 0
      },
      "text/plain": [
       "interactive(children=(IntSlider(value=0, description='z', max=27), Output()), _dom_classes=('widget-interact',…"
      ]
     },
     "metadata": {},
     "output_type": "display_data"
    },
    {
     "data": {
      "application/vnd.jupyter.widget-view+json": {
       "model_id": "cb2b448dac564f6086c602f6f11da9db",
       "version_major": 2,
       "version_minor": 0
      },
      "text/plain": [
       "interactive(children=(IntSlider(value=0, description='z', max=25), Output()), _dom_classes=('widget-interact',…"
      ]
     },
     "metadata": {},
     "output_type": "display_data"
    },
    {
     "data": {
      "application/vnd.jupyter.widget-view+json": {
       "model_id": "ee3fb14e45b0499ba3389fe655230a37",
       "version_major": 2,
       "version_minor": 0
      },
      "text/plain": [
       "interactive(children=(IntSlider(value=0, description='z', max=27), Output()), _dom_classes=('widget-interact',…"
      ]
     },
     "metadata": {},
     "output_type": "display_data"
    }
   ],
   "source": [
    "for uid in tqdm(random_fda_uids) : \n",
    "    if os.path.exists(f\"/cache/fast_data_nas8/qer/shubham/ICH_analysis/{uid}.h5\") : \n",
    "        h5f = h5py.File(f\"/cache/fast_data_nas8/qer/shubham/ICH_analysis/{uid}.h5\" , \"r\")\n",
    "\n",
    "        logits = np.array(h5f[\"logits\"])[:,0,:,:]\n",
    "        logits_out = torch.stack([torch.Tensor(-logits) , torch.Tensor(logits)],dim = 1)\n",
    "\n",
    "        c = activation(logits_out).numpy()\n",
    "        pred = c[:,1,:,:]\n",
    "        mask = pred > 0.5\n",
    "        arr ,gt_arr = get_fda_headct_arr(uid)\n",
    "        plot_scans([brain_window(arr),gt_arr,logits,mask, logits > 0.3], [\"scan\",\"gt\",\"logits\",\"softmax on logits\",\"model pred\"])\n"
   ]
  },
  {
   "cell_type": "code",
   "execution_count": 81,
   "id": "0ebc6ba5",
   "metadata": {},
   "outputs": [],
   "source": [
    "train_study_uids = df_train[df_train[\"threshold\"] == 0.5].StudyUID.values"
   ]
  },
  {
   "cell_type": "code",
   "execution_count": 82,
   "id": "1a24bffe",
   "metadata": {},
   "outputs": [
    {
     "data": {
      "application/json": {
       "ascii": false,
       "bar_format": null,
       "colour": null,
       "elapsed": 0.006416797637939453,
       "initial": 0,
       "n": 0,
       "ncols": null,
       "nrows": 24,
       "postfix": null,
       "prefix": "",
       "rate": null,
       "total": 1516,
       "unit": "it",
       "unit_divisor": 1000,
       "unit_scale": false
      },
      "application/vnd.jupyter.widget-view+json": {
       "model_id": "11d97ce3edeb4c3bac0839f930c2441a",
       "version_major": 2,
       "version_minor": 0
      },
      "text/plain": [
       "  0%|          | 0/1516 [00:00<?, ?it/s]"
      ]
     },
     "metadata": {},
     "output_type": "display_data"
    }
   ],
   "source": [
    "uids0ml_train = []\n",
    "for uid in tqdm(train_study_uids) : \n",
    "    if os.path.exists(f\"/cache/fast_data_nas8/qer/shubham/ICH_analysis/{uid}.h5\") : \n",
    "        h5f = h5py.File(f\"/cache/fast_data_nas8/qer/shubham/ICH_analysis/{uid}.h5\" , \"r\")\n",
    "        if np.array(h5f[\"acute_real_vol\"]) == 0  :\n",
    "            uids0ml_train.append(uid)\n",
    "        h5f.close()"
   ]
  },
  {
   "cell_type": "code",
   "execution_count": 85,
   "id": "ad9616de",
   "metadata": {},
   "outputs": [
    {
     "data": {
      "text/plain": [
       "178"
      ]
     },
     "execution_count": 85,
     "metadata": {},
     "output_type": "execute_result"
    }
   ],
   "source": [
    "len(uids0ml_train)"
   ]
  },
  {
   "cell_type": "code",
   "execution_count": 83,
   "id": "9511a8d3",
   "metadata": {},
   "outputs": [],
   "source": [
    "zeroml_uids_train = df_train[(df_train[\"threshold\"] == 0.5) & (df_train[\"StudyUID\"].isin(uids0ml_train)) & (df_train[\"dice_score\"]==0)].StudyUID.values\n",
    "\n",
    "\n"
   ]
  },
  {
   "cell_type": "code",
   "execution_count": 84,
   "id": "c7a55e3d",
   "metadata": {},
   "outputs": [
    {
     "data": {
      "text/plain": [
       "103"
      ]
     },
     "execution_count": 84,
     "metadata": {},
     "output_type": "execute_result"
    }
   ],
   "source": [
    "len(zeroml_uids_train)"
   ]
  },
  {
   "cell_type": "code",
   "execution_count": 88,
   "id": "a8025f41",
   "metadata": {},
   "outputs": [
    {
     "data": {
      "text/plain": [
       "75"
      ]
     },
     "execution_count": 88,
     "metadata": {},
     "output_type": "execute_result"
    }
   ],
   "source": [
    "len(df_train[(df_train[\"threshold\"] == 0.5) & (df_train[\"StudyUID\"].isin(uids0ml_train)) & (df_train[\"dice_score\"]>0) & (df_train[\"pred_volume\"] > 0)])\n",
    "\n",
    "\n"
   ]
  },
  {
   "cell_type": "code",
   "execution_count": 91,
   "id": "412ad2ff",
   "metadata": {},
   "outputs": [
    {
     "data": {
      "text/html": [
       "<div>\n",
       "<style scoped>\n",
       "    .dataframe tbody tr th:only-of-type {\n",
       "        vertical-align: middle;\n",
       "    }\n",
       "\n",
       "    .dataframe tbody tr th {\n",
       "        vertical-align: top;\n",
       "    }\n",
       "\n",
       "    .dataframe thead th {\n",
       "        text-align: right;\n",
       "    }\n",
       "</style>\n",
       "<table border=\"1\" class=\"dataframe\">\n",
       "  <thead>\n",
       "    <tr style=\"text-align: right;\">\n",
       "      <th></th>\n",
       "      <th>StudyUID</th>\n",
       "      <th>Dataset</th>\n",
       "      <th>threshold</th>\n",
       "      <th>dice_score</th>\n",
       "      <th>pred_volume</th>\n",
       "      <th>abs_vol_error</th>\n",
       "      <th>dice_score_pp</th>\n",
       "      <th>pred_volume_pp</th>\n",
       "      <th>abs_vol_error_pp</th>\n",
       "      <th>dice_score_pp_no_dilation</th>\n",
       "      <th>pred_volume_pp_no_dilation</th>\n",
       "      <th>abs_vol_error_pp_no_dilation</th>\n",
       "    </tr>\n",
       "  </thead>\n",
       "  <tbody>\n",
       "    <tr>\n",
       "      <th>427</th>\n",
       "      <td>1.2.840.113619.2.278.3.2831165748.949.13619138...</td>\n",
       "      <td>train</td>\n",
       "      <td>0.5</td>\n",
       "      <td>0.0</td>\n",
       "      <td>0.0</td>\n",
       "      <td>1.465051</td>\n",
       "      <td>0.0</td>\n",
       "      <td>0.0</td>\n",
       "      <td>1.465051</td>\n",
       "      <td>0.0</td>\n",
       "      <td>0.0</td>\n",
       "      <td>1.465051</td>\n",
       "    </tr>\n",
       "    <tr>\n",
       "      <th>655</th>\n",
       "      <td>1.2.840.113619.2.278.3.2831165736.312.13517400...</td>\n",
       "      <td>train</td>\n",
       "      <td>0.5</td>\n",
       "      <td>0.0</td>\n",
       "      <td>0.0</td>\n",
       "      <td>1.975296</td>\n",
       "      <td>0.0</td>\n",
       "      <td>0.0</td>\n",
       "      <td>1.975296</td>\n",
       "      <td>0.0</td>\n",
       "      <td>0.0</td>\n",
       "      <td>1.975296</td>\n",
       "    </tr>\n",
       "    <tr>\n",
       "      <th>1453</th>\n",
       "      <td>1.2.840.113619.2.81.290.1.1361.20140329.292857</td>\n",
       "      <td>train</td>\n",
       "      <td>0.5</td>\n",
       "      <td>0.0</td>\n",
       "      <td>0.0</td>\n",
       "      <td>0.033379</td>\n",
       "      <td>0.0</td>\n",
       "      <td>0.0</td>\n",
       "      <td>0.033379</td>\n",
       "      <td>0.0</td>\n",
       "      <td>0.0</td>\n",
       "      <td>0.033379</td>\n",
       "    </tr>\n",
       "    <tr>\n",
       "      <th>1776</th>\n",
       "      <td>1.2.840.113619.2.81.290.1.3224.20130930.222302</td>\n",
       "      <td>train</td>\n",
       "      <td>0.5</td>\n",
       "      <td>0.0</td>\n",
       "      <td>0.0</td>\n",
       "      <td>10.801552</td>\n",
       "      <td>0.0</td>\n",
       "      <td>0.0</td>\n",
       "      <td>10.801552</td>\n",
       "      <td>0.0</td>\n",
       "      <td>0.0</td>\n",
       "      <td>10.801552</td>\n",
       "    </tr>\n",
       "    <tr>\n",
       "      <th>2042</th>\n",
       "      <td>1.2.840.113619.2.334.3.2831165721.797.14035760...</td>\n",
       "      <td>train</td>\n",
       "      <td>0.5</td>\n",
       "      <td>0.0</td>\n",
       "      <td>0.0</td>\n",
       "      <td>1.415039</td>\n",
       "      <td>0.0</td>\n",
       "      <td>0.0</td>\n",
       "      <td>1.415039</td>\n",
       "      <td>0.0</td>\n",
       "      <td>0.0</td>\n",
       "      <td>1.415039</td>\n",
       "    </tr>\n",
       "    <tr>\n",
       "      <th>...</th>\n",
       "      <td>...</td>\n",
       "      <td>...</td>\n",
       "      <td>...</td>\n",
       "      <td>...</td>\n",
       "      <td>...</td>\n",
       "      <td>...</td>\n",
       "      <td>...</td>\n",
       "      <td>...</td>\n",
       "      <td>...</td>\n",
       "      <td>...</td>\n",
       "      <td>...</td>\n",
       "      <td>...</td>\n",
       "    </tr>\n",
       "    <tr>\n",
       "      <th>26609</th>\n",
       "      <td>1.2.840.113619.2.81.290.1.5993.20141222.221031</td>\n",
       "      <td>train</td>\n",
       "      <td>0.5</td>\n",
       "      <td>0.0</td>\n",
       "      <td>0.0</td>\n",
       "      <td>12.634990</td>\n",
       "      <td>0.0</td>\n",
       "      <td>0.0</td>\n",
       "      <td>12.634990</td>\n",
       "      <td>0.0</td>\n",
       "      <td>0.0</td>\n",
       "      <td>12.634990</td>\n",
       "    </tr>\n",
       "    <tr>\n",
       "      <th>27407</th>\n",
       "      <td>1.2.840.10008.1.474972.919176969.309843930.204...</td>\n",
       "      <td>train</td>\n",
       "      <td>0.5</td>\n",
       "      <td>0.0</td>\n",
       "      <td>0.0</td>\n",
       "      <td>0.954865</td>\n",
       "      <td>0.0</td>\n",
       "      <td>0.0</td>\n",
       "      <td>0.954865</td>\n",
       "      <td>0.0</td>\n",
       "      <td>0.0</td>\n",
       "      <td>0.954865</td>\n",
       "    </tr>\n",
       "    <tr>\n",
       "      <th>27882</th>\n",
       "      <td>1.3.6.1.4.1.25403.52240747607.2744.20150518060...</td>\n",
       "      <td>train</td>\n",
       "      <td>0.5</td>\n",
       "      <td>0.0</td>\n",
       "      <td>0.0</td>\n",
       "      <td>0.089237</td>\n",
       "      <td>0.0</td>\n",
       "      <td>0.0</td>\n",
       "      <td>0.089237</td>\n",
       "      <td>0.0</td>\n",
       "      <td>0.0</td>\n",
       "      <td>0.089237</td>\n",
       "    </tr>\n",
       "    <tr>\n",
       "      <th>28243</th>\n",
       "      <td>1.2.840.113619.2.278.3.2831165736.236.13543298...</td>\n",
       "      <td>train</td>\n",
       "      <td>0.5</td>\n",
       "      <td>0.0</td>\n",
       "      <td>0.0</td>\n",
       "      <td>3.908869</td>\n",
       "      <td>0.0</td>\n",
       "      <td>0.0</td>\n",
       "      <td>3.908869</td>\n",
       "      <td>0.0</td>\n",
       "      <td>0.0</td>\n",
       "      <td>3.908869</td>\n",
       "    </tr>\n",
       "    <tr>\n",
       "      <th>28414</th>\n",
       "      <td>1.2.840.113619.2.55.3.2831165742.939.146250206...</td>\n",
       "      <td>train</td>\n",
       "      <td>0.5</td>\n",
       "      <td>0.0</td>\n",
       "      <td>0.0</td>\n",
       "      <td>0.000000</td>\n",
       "      <td>0.0</td>\n",
       "      <td>0.0</td>\n",
       "      <td>0.000000</td>\n",
       "      <td>0.0</td>\n",
       "      <td>0.0</td>\n",
       "      <td>0.000000</td>\n",
       "    </tr>\n",
       "  </tbody>\n",
       "</table>\n",
       "<p>62 rows × 12 columns</p>\n",
       "</div>"
      ],
      "text/plain": [
       "                                                StudyUID Dataset  threshold  \\\n",
       "427    1.2.840.113619.2.278.3.2831165748.949.13619138...   train        0.5   \n",
       "655    1.2.840.113619.2.278.3.2831165736.312.13517400...   train        0.5   \n",
       "1453      1.2.840.113619.2.81.290.1.1361.20140329.292857   train        0.5   \n",
       "1776      1.2.840.113619.2.81.290.1.3224.20130930.222302   train        0.5   \n",
       "2042   1.2.840.113619.2.334.3.2831165721.797.14035760...   train        0.5   \n",
       "...                                                  ...     ...        ...   \n",
       "26609     1.2.840.113619.2.81.290.1.5993.20141222.221031   train        0.5   \n",
       "27407  1.2.840.10008.1.474972.919176969.309843930.204...   train        0.5   \n",
       "27882  1.3.6.1.4.1.25403.52240747607.2744.20150518060...   train        0.5   \n",
       "28243  1.2.840.113619.2.278.3.2831165736.236.13543298...   train        0.5   \n",
       "28414  1.2.840.113619.2.55.3.2831165742.939.146250206...   train        0.5   \n",
       "\n",
       "       dice_score  pred_volume  abs_vol_error  dice_score_pp  pred_volume_pp  \\\n",
       "427           0.0          0.0       1.465051            0.0             0.0   \n",
       "655           0.0          0.0       1.975296            0.0             0.0   \n",
       "1453          0.0          0.0       0.033379            0.0             0.0   \n",
       "1776          0.0          0.0      10.801552            0.0             0.0   \n",
       "2042          0.0          0.0       1.415039            0.0             0.0   \n",
       "...           ...          ...            ...            ...             ...   \n",
       "26609         0.0          0.0      12.634990            0.0             0.0   \n",
       "27407         0.0          0.0       0.954865            0.0             0.0   \n",
       "27882         0.0          0.0       0.089237            0.0             0.0   \n",
       "28243         0.0          0.0       3.908869            0.0             0.0   \n",
       "28414         0.0          0.0       0.000000            0.0             0.0   \n",
       "\n",
       "       abs_vol_error_pp  dice_score_pp_no_dilation  \\\n",
       "427            1.465051                        0.0   \n",
       "655            1.975296                        0.0   \n",
       "1453           0.033379                        0.0   \n",
       "1776          10.801552                        0.0   \n",
       "2042           1.415039                        0.0   \n",
       "...                 ...                        ...   \n",
       "26609         12.634990                        0.0   \n",
       "27407          0.954865                        0.0   \n",
       "27882          0.089237                        0.0   \n",
       "28243          3.908869                        0.0   \n",
       "28414          0.000000                        0.0   \n",
       "\n",
       "       pred_volume_pp_no_dilation  abs_vol_error_pp_no_dilation  \n",
       "427                           0.0                      1.465051  \n",
       "655                           0.0                      1.975296  \n",
       "1453                          0.0                      0.033379  \n",
       "1776                          0.0                     10.801552  \n",
       "2042                          0.0                      1.415039  \n",
       "...                           ...                           ...  \n",
       "26609                         0.0                     12.634990  \n",
       "27407                         0.0                      0.954865  \n",
       "27882                         0.0                      0.089237  \n",
       "28243                         0.0                      3.908869  \n",
       "28414                         0.0                      0.000000  \n",
       "\n",
       "[62 rows x 12 columns]"
      ]
     },
     "execution_count": 91,
     "metadata": {},
     "output_type": "execute_result"
    }
   ],
   "source": [
    "df_train[(df_train[\"pred_volume\"] == 0) & (df_train[\"threshold\"] == 0.5)]"
   ]
  },
  {
   "cell_type": "code",
   "execution_count": 59,
   "id": "8fef1033",
   "metadata": {
    "scrolled": false
   },
   "outputs": [
    {
     "data": {
      "text/plain": [
       "40"
      ]
     },
     "execution_count": 59,
     "metadata": {},
     "output_type": "execute_result"
    }
   ],
   "source": [
    "len(df_val[(df_val[\"threshold\"] == 0.5) & (df_val[\"StudyUID\"].isin(uids0ml_val))])"
   ]
  },
  {
   "cell_type": "code",
   "execution_count": 50,
   "id": "6972afd1",
   "metadata": {
    "scrolled": false
   },
   "outputs": [
    {
     "data": {
      "application/json": {
       "ascii": false,
       "bar_format": null,
       "colour": null,
       "elapsed": 0.01023721694946289,
       "initial": 0,
       "n": 0,
       "ncols": null,
       "nrows": 24,
       "postfix": null,
       "prefix": "",
       "rate": null,
       "total": 15,
       "unit": "it",
       "unit_divisor": 1000,
       "unit_scale": false
      },
      "application/vnd.jupyter.widget-view+json": {
       "model_id": "e14f93d401c74bfe8b2b36a421438b59",
       "version_major": 2,
       "version_minor": 0
      },
      "text/plain": [
       "  0%|          | 0/15 [00:00<?, ?it/s]"
      ]
     },
     "metadata": {},
     "output_type": "display_data"
    },
    {
     "data": {
      "application/vnd.jupyter.widget-view+json": {
       "model_id": "bdd8e7998e0c4e83bcf0f39c9ff6a3ec",
       "version_major": 2,
       "version_minor": 0
      },
      "text/plain": [
       "interactive(children=(IntSlider(value=0, description='z', max=30), Output()), _dom_classes=('widget-interact',…"
      ]
     },
     "metadata": {},
     "output_type": "display_data"
    },
    {
     "data": {
      "application/vnd.jupyter.widget-view+json": {
       "model_id": "426fb4800c054cf49f1eac37ac2ae099",
       "version_major": 2,
       "version_minor": 0
      },
      "text/plain": [
       "interactive(children=(IntSlider(value=0, description='z', max=31), Output()), _dom_classes=('widget-interact',…"
      ]
     },
     "metadata": {},
     "output_type": "display_data"
    },
    {
     "data": {
      "application/vnd.jupyter.widget-view+json": {
       "model_id": "d5b8055b40ee4bf1a5f5286fdc785ebf",
       "version_major": 2,
       "version_minor": 0
      },
      "text/plain": [
       "interactive(children=(IntSlider(value=0, description='z', max=35), Output()), _dom_classes=('widget-interact',…"
      ]
     },
     "metadata": {},
     "output_type": "display_data"
    },
    {
     "data": {
      "application/vnd.jupyter.widget-view+json": {
       "model_id": "908c285568dc4ee29f2d4b5ec9b8d515",
       "version_major": 2,
       "version_minor": 0
      },
      "text/plain": [
       "interactive(children=(IntSlider(value=0, description='z', max=33), Output()), _dom_classes=('widget-interact',…"
      ]
     },
     "metadata": {},
     "output_type": "display_data"
    },
    {
     "data": {
      "application/vnd.jupyter.widget-view+json": {
       "model_id": "b13e97fae68a4557b2d9971857eb0796",
       "version_major": 2,
       "version_minor": 0
      },
      "text/plain": [
       "interactive(children=(IntSlider(value=0, description='z', max=35), Output()), _dom_classes=('widget-interact',…"
      ]
     },
     "metadata": {},
     "output_type": "display_data"
    },
    {
     "data": {
      "application/vnd.jupyter.widget-view+json": {
       "model_id": "893db24b2fa44e489261c3a9edb3bc3c",
       "version_major": 2,
       "version_minor": 0
      },
      "text/plain": [
       "interactive(children=(IntSlider(value=0, description='z', max=35), Output()), _dom_classes=('widget-interact',…"
      ]
     },
     "metadata": {},
     "output_type": "display_data"
    },
    {
     "data": {
      "application/vnd.jupyter.widget-view+json": {
       "model_id": "3f9b0a1798ee44a9bedee3dfd5a5e8fb",
       "version_major": 2,
       "version_minor": 0
      },
      "text/plain": [
       "interactive(children=(IntSlider(value=0, description='z', max=35), Output()), _dom_classes=('widget-interact',…"
      ]
     },
     "metadata": {},
     "output_type": "display_data"
    },
    {
     "data": {
      "application/vnd.jupyter.widget-view+json": {
       "model_id": "7bb1a8055f934d40904d8d1bdc978a23",
       "version_major": 2,
       "version_minor": 0
      },
      "text/plain": [
       "interactive(children=(IntSlider(value=0, description='z', max=30), Output()), _dom_classes=('widget-interact',…"
      ]
     },
     "metadata": {},
     "output_type": "display_data"
    },
    {
     "data": {
      "application/vnd.jupyter.widget-view+json": {
       "model_id": "6f26055fd1264c8b98ed7beb37924b8b",
       "version_major": 2,
       "version_minor": 0
      },
      "text/plain": [
       "interactive(children=(IntSlider(value=0, description='z', max=33), Output()), _dom_classes=('widget-interact',…"
      ]
     },
     "metadata": {},
     "output_type": "display_data"
    },
    {
     "data": {
      "application/vnd.jupyter.widget-view+json": {
       "model_id": "c7ff5a6e5d6e48088023fbbdb69b42b1",
       "version_major": 2,
       "version_minor": 0
      },
      "text/plain": [
       "interactive(children=(IntSlider(value=0, description='z', max=32), Output()), _dom_classes=('widget-interact',…"
      ]
     },
     "metadata": {},
     "output_type": "display_data"
    },
    {
     "data": {
      "application/vnd.jupyter.widget-view+json": {
       "model_id": "aa08da1faf9642ee8884facb9970ac32",
       "version_major": 2,
       "version_minor": 0
      },
      "text/plain": [
       "interactive(children=(IntSlider(value=0, description='z', max=35), Output()), _dom_classes=('widget-interact',…"
      ]
     },
     "metadata": {},
     "output_type": "display_data"
    },
    {
     "data": {
      "application/vnd.jupyter.widget-view+json": {
       "model_id": "927fdf74760f4d00b16d5d6611691ba4",
       "version_major": 2,
       "version_minor": 0
      },
      "text/plain": [
       "interactive(children=(IntSlider(value=0, description='z', max=31), Output()), _dom_classes=('widget-interact',…"
      ]
     },
     "metadata": {},
     "output_type": "display_data"
    },
    {
     "data": {
      "application/vnd.jupyter.widget-view+json": {
       "model_id": "1115317d6c4d49e2913ce526df2b0dfa",
       "version_major": 2,
       "version_minor": 0
      },
      "text/plain": [
       "interactive(children=(IntSlider(value=0, description='z', max=34), Output()), _dom_classes=('widget-interact',…"
      ]
     },
     "metadata": {},
     "output_type": "display_data"
    },
    {
     "data": {
      "application/vnd.jupyter.widget-view+json": {
       "model_id": "483d495a49db4fc1970633fb7e8e142e",
       "version_major": 2,
       "version_minor": 0
      },
      "text/plain": [
       "interactive(children=(IntSlider(value=0, description='z', max=33), Output()), _dom_classes=('widget-interact',…"
      ]
     },
     "metadata": {},
     "output_type": "display_data"
    },
    {
     "data": {
      "application/vnd.jupyter.widget-view+json": {
       "model_id": "35198713a8b44dd6ae30315ff8b91fbc",
       "version_major": 2,
       "version_minor": 0
      },
      "text/plain": [
       "interactive(children=(IntSlider(value=0, description='z', max=30), Output()), _dom_classes=('widget-interact',…"
      ]
     },
     "metadata": {},
     "output_type": "display_data"
    }
   ],
   "source": [
    "for uid in tqdm(zeroml_uids_val) : \n",
    "    if os.path.exists(f\"/cache/fast_data_nas8/qer/shubham/ICH_analysis/{uid}.h5\") : \n",
    "        h5f = h5py.File(f\"/cache/fast_data_nas8/qer/shubham/ICH_analysis/{uid}.h5\" , \"r\")\n",
    "\n",
    "        logits = np.array(h5f[\"logits\"])\n",
    "        logits_out = torch.stack([torch.Tensor(-logits) , torch.Tensor(logits)],dim = 1)\n",
    "\n",
    "        c = activation(logits_out).numpy()\n",
    "        pred = c[:,1,:,:]\n",
    "        mask = pred > 0.5\n",
    "        arr ,gt_arr = get_dev_headct_arr(uid)\n",
    "        plot_scans([brain_window(arr),gt_arr,logits,mask, logits > 0.3], [\"scan\",\"gt\",\"logits\",\"softmax on logits\",\"model pred\"])\n"
   ]
  },
  {
   "cell_type": "code",
   "execution_count": 1,
   "id": "92eb3fff",
   "metadata": {},
   "outputs": [],
   "source": [
    "uid0 = \"1.2.840.114350.2.186.2.798268.2.302025995.1\"\n",
    "uid1= \"1.2.276.0.7230010.3.1.2.8323329.1346.1548393578.926171\""
   ]
  },
  {
   "cell_type": "code",
   "execution_count": 102,
   "id": "2a29f5c3",
   "metadata": {},
   "outputs": [],
   "source": [
    "uids = [uid0 , uid1]"
   ]
  },
  {
   "cell_type": "code",
   "execution_count": 97,
   "id": "5182f1b5",
   "metadata": {},
   "outputs": [],
   "source": [
    "rows = df_fda_test[df_fda_test.StudyUID == uid0]\n",
    "if len(rows) > 0 :\n",
    "    series_uid = rows.iloc[0].SeriesUID\n",
    "    series_dict = db.dicoms.find_one({'_id' : series_uid })"
   ]
  },
  {
   "cell_type": "code",
   "execution_count": 101,
   "id": "6906a14f",
   "metadata": {},
   "outputs": [
    {
     "data": {
      "text/plain": [
       "64"
      ]
     },
     "execution_count": 101,
     "metadata": {},
     "output_type": "execute_result"
    }
   ],
   "source": [
    "len([x[\"FilePath\"] for x in series_dict[\"InstancesList\"]])"
   ]
  },
  {
   "cell_type": "code",
   "execution_count": 6,
   "id": "ec6f832d",
   "metadata": {},
   "outputs": [],
   "source": [
    "df_ans = pd.read_csv(\"/home/users/shubham.kumar/projects/ICH_classification_segmentation/ICH_analyis_sdh_test_set.csv\")\n",
    "study_uids = df_ans[df_ans[\"pred_volume_pp\"] < 0.2].StudyUID.values\n",
    "df_test = pd.read_csv(\"/home/users/shubham.kumar/projects/ICH_classification_segmentation/ICH_dataset_test.csv\")\n"
   ]
  },
  {
   "cell_type": "code",
   "execution_count": 7,
   "id": "ce3a35c1",
   "metadata": {},
   "outputs": [
    {
     "data": {
      "text/html": [
       "<div>\n",
       "<style scoped>\n",
       "    .dataframe tbody tr th:only-of-type {\n",
       "        vertical-align: middle;\n",
       "    }\n",
       "\n",
       "    .dataframe tbody tr th {\n",
       "        vertical-align: top;\n",
       "    }\n",
       "\n",
       "    .dataframe thead th {\n",
       "        text-align: right;\n",
       "    }\n",
       "</style>\n",
       "<table border=\"1\" class=\"dataframe\">\n",
       "  <thead>\n",
       "    <tr style=\"text-align: right;\">\n",
       "      <th></th>\n",
       "      <th>StudyUID</th>\n",
       "      <th>old_volume</th>\n",
       "      <th>pred_volume</th>\n",
       "      <th>old_volume_pp</th>\n",
       "      <th>pred_volume_pp</th>\n",
       "    </tr>\n",
       "  </thead>\n",
       "  <tbody>\n",
       "    <tr>\n",
       "      <th>0</th>\n",
       "      <td>1.2.840.113619.2.22.288.1.8523.20181130.202036</td>\n",
       "      <td>&lt;HDF5 dataset \"acute_real_vol\": shape (), type...</td>\n",
       "      <td>0.361204</td>\n",
       "      <td>&lt;HDF5 dataset \"acute_pp_vol\": shape (), type \"...</td>\n",
       "      <td>2.371072</td>\n",
       "    </tr>\n",
       "    <tr>\n",
       "      <th>1</th>\n",
       "      <td>1.2.840.113619.2.22.288.1.8530.20181201.302306</td>\n",
       "      <td>&lt;HDF5 dataset \"acute_real_vol\": shape (), type...</td>\n",
       "      <td>0.009537</td>\n",
       "      <td>&lt;HDF5 dataset \"acute_pp_vol\": shape (), type \"...</td>\n",
       "      <td>0.243187</td>\n",
       "    </tr>\n",
       "    <tr>\n",
       "      <th>2</th>\n",
       "      <td>1.2.840.113619.2.81.290.1.14251.20180730.250058</td>\n",
       "      <td>&lt;HDF5 dataset \"acute_real_vol\": shape (), type...</td>\n",
       "      <td>7.481262</td>\n",
       "      <td>&lt;HDF5 dataset \"acute_pp_vol\": shape (), type \"...</td>\n",
       "      <td>19.640160</td>\n",
       "    </tr>\n",
       "    <tr>\n",
       "      <th>3</th>\n",
       "      <td>1.2.840.113619.2.81.290.1.14661.20181119.191432</td>\n",
       "      <td>&lt;HDF5 dataset \"acute_real_vol\": shape (), type...</td>\n",
       "      <td>3.176582</td>\n",
       "      <td>&lt;HDF5 dataset \"acute_pp_vol\": shape (), type \"...</td>\n",
       "      <td>9.789154</td>\n",
       "    </tr>\n",
       "    <tr>\n",
       "      <th>4</th>\n",
       "      <td>1.2.840.113619.2.81.290.1.14694.20181126.325919</td>\n",
       "      <td>&lt;HDF5 dataset \"acute_real_vol\": shape (), type...</td>\n",
       "      <td>0.869036</td>\n",
       "      <td>&lt;HDF5 dataset \"acute_pp_vol\": shape (), type \"...</td>\n",
       "      <td>3.623962</td>\n",
       "    </tr>\n",
       "    <tr>\n",
       "      <th>...</th>\n",
       "      <td>...</td>\n",
       "      <td>...</td>\n",
       "      <td>...</td>\n",
       "      <td>...</td>\n",
       "      <td>...</td>\n",
       "    </tr>\n",
       "    <tr>\n",
       "      <th>325</th>\n",
       "      <td>1.2.840.113619.2.22.288.1.5207.20121213.211634</td>\n",
       "      <td>&lt;HDF5 dataset \"acute_real_vol\": shape (), type...</td>\n",
       "      <td>9.366272</td>\n",
       "      <td>&lt;HDF5 dataset \"acute_pp_vol\": shape (), type \"...</td>\n",
       "      <td>12.533662</td>\n",
       "    </tr>\n",
       "    <tr>\n",
       "      <th>326</th>\n",
       "      <td>1.2.840.113619.2.332.3.2831168304.466.14186133...</td>\n",
       "      <td>&lt;HDF5 dataset \"acute_real_vol\": shape (), type...</td>\n",
       "      <td>0.273255</td>\n",
       "      <td>&lt;HDF5 dataset \"acute_pp_vol\": shape (), type \"...</td>\n",
       "      <td>0.390496</td>\n",
       "    </tr>\n",
       "    <tr>\n",
       "      <th>327</th>\n",
       "      <td>1.3.6.1.4.1.25403.52235783370.4220.20151210072...</td>\n",
       "      <td>&lt;HDF5 dataset \"acute_real_vol\": shape (), type...</td>\n",
       "      <td>7.611513</td>\n",
       "      <td>&lt;HDF5 dataset \"acute_pp_vol\": shape (), type \"...</td>\n",
       "      <td>23.922920</td>\n",
       "    </tr>\n",
       "    <tr>\n",
       "      <th>328</th>\n",
       "      <td>1.2.840.113619.2.55.3.2831165733.497.138699982...</td>\n",
       "      <td>&lt;HDF5 dataset \"acute_real_vol\": shape (), type...</td>\n",
       "      <td>10.823000</td>\n",
       "      <td>&lt;HDF5 dataset \"acute_pp_vol\": shape (), type \"...</td>\n",
       "      <td>16.272051</td>\n",
       "    </tr>\n",
       "    <tr>\n",
       "      <th>329</th>\n",
       "      <td>1.2.840.113619.2.55.3.2831165733.497.138699982...</td>\n",
       "      <td>&lt;HDF5 dataset \"acute_real_vol\": shape (), type...</td>\n",
       "      <td>51.330275</td>\n",
       "      <td>&lt;HDF5 dataset \"acute_pp_vol\": shape (), type \"...</td>\n",
       "      <td>62.557395</td>\n",
       "    </tr>\n",
       "  </tbody>\n",
       "</table>\n",
       "<p>330 rows × 5 columns</p>\n",
       "</div>"
      ],
      "text/plain": [
       "                                              StudyUID  \\\n",
       "0       1.2.840.113619.2.22.288.1.8523.20181130.202036   \n",
       "1       1.2.840.113619.2.22.288.1.8530.20181201.302306   \n",
       "2      1.2.840.113619.2.81.290.1.14251.20180730.250058   \n",
       "3      1.2.840.113619.2.81.290.1.14661.20181119.191432   \n",
       "4      1.2.840.113619.2.81.290.1.14694.20181126.325919   \n",
       "..                                                 ...   \n",
       "325     1.2.840.113619.2.22.288.1.5207.20121213.211634   \n",
       "326  1.2.840.113619.2.332.3.2831168304.466.14186133...   \n",
       "327  1.3.6.1.4.1.25403.52235783370.4220.20151210072...   \n",
       "328  1.2.840.113619.2.55.3.2831165733.497.138699982...   \n",
       "329  1.2.840.113619.2.55.3.2831165733.497.138699982...   \n",
       "\n",
       "                                            old_volume  pred_volume  \\\n",
       "0    <HDF5 dataset \"acute_real_vol\": shape (), type...     0.361204   \n",
       "1    <HDF5 dataset \"acute_real_vol\": shape (), type...     0.009537   \n",
       "2    <HDF5 dataset \"acute_real_vol\": shape (), type...     7.481262   \n",
       "3    <HDF5 dataset \"acute_real_vol\": shape (), type...     3.176582   \n",
       "4    <HDF5 dataset \"acute_real_vol\": shape (), type...     0.869036   \n",
       "..                                                 ...          ...   \n",
       "325  <HDF5 dataset \"acute_real_vol\": shape (), type...     9.366272   \n",
       "326  <HDF5 dataset \"acute_real_vol\": shape (), type...     0.273255   \n",
       "327  <HDF5 dataset \"acute_real_vol\": shape (), type...     7.611513   \n",
       "328  <HDF5 dataset \"acute_real_vol\": shape (), type...    10.823000   \n",
       "329  <HDF5 dataset \"acute_real_vol\": shape (), type...    51.330275   \n",
       "\n",
       "                                         old_volume_pp  pred_volume_pp  \n",
       "0    <HDF5 dataset \"acute_pp_vol\": shape (), type \"...        2.371072  \n",
       "1    <HDF5 dataset \"acute_pp_vol\": shape (), type \"...        0.243187  \n",
       "2    <HDF5 dataset \"acute_pp_vol\": shape (), type \"...       19.640160  \n",
       "3    <HDF5 dataset \"acute_pp_vol\": shape (), type \"...        9.789154  \n",
       "4    <HDF5 dataset \"acute_pp_vol\": shape (), type \"...        3.623962  \n",
       "..                                                 ...             ...  \n",
       "325  <HDF5 dataset \"acute_pp_vol\": shape (), type \"...       12.533662  \n",
       "326  <HDF5 dataset \"acute_pp_vol\": shape (), type \"...        0.390496  \n",
       "327  <HDF5 dataset \"acute_pp_vol\": shape (), type \"...       23.922920  \n",
       "328  <HDF5 dataset \"acute_pp_vol\": shape (), type \"...       16.272051  \n",
       "329  <HDF5 dataset \"acute_pp_vol\": shape (), type \"...       62.557395  \n",
       "\n",
       "[330 rows x 5 columns]"
      ]
     },
     "execution_count": 7,
     "metadata": {},
     "output_type": "execute_result"
    }
   ],
   "source": [
    "df_ans"
   ]
  },
  {
   "cell_type": "code",
   "execution_count": 15,
   "id": "36a99a3b",
   "metadata": {},
   "outputs": [
    {
     "data": {
      "text/html": [
       "<div>\n",
       "<style scoped>\n",
       "    .dataframe tbody tr th:only-of-type {\n",
       "        vertical-align: middle;\n",
       "    }\n",
       "\n",
       "    .dataframe tbody tr th {\n",
       "        vertical-align: top;\n",
       "    }\n",
       "\n",
       "    .dataframe thead th {\n",
       "        text-align: right;\n",
       "    }\n",
       "</style>\n",
       "<table border=\"1\" class=\"dataframe\">\n",
       "  <thead>\n",
       "    <tr style=\"text-align: right;\">\n",
       "      <th></th>\n",
       "      <th>StudyUID</th>\n",
       "      <th>PatientID</th>\n",
       "      <th>Status</th>\n",
       "      <th>Filepath</th>\n",
       "      <th>SeriesUID</th>\n",
       "      <th>Batch</th>\n",
       "      <th>Remarks</th>\n",
       "      <th>ICH</th>\n",
       "      <th>SDH</th>\n",
       "      <th>EDH</th>\n",
       "      <th>...</th>\n",
       "      <th>CALVARIAL</th>\n",
       "      <th>FRAC</th>\n",
       "      <th>CONFIRMED_HCT</th>\n",
       "      <th>POSTOP</th>\n",
       "      <th>NORMAL_BRAIN</th>\n",
       "      <th>UNCERTAIN_REPORT</th>\n",
       "      <th>ANY</th>\n",
       "      <th>crop</th>\n",
       "      <th>PATIENT_AGE</th>\n",
       "      <th>MANUFACTURER</th>\n",
       "    </tr>\n",
       "  </thead>\n",
       "  <tbody>\n",
       "    <tr>\n",
       "      <th>930</th>\n",
       "      <td>1.3.12.2.1107.5.1.4.46190.4.0.636527019451476</td>\n",
       "      <td>6454</td>\n",
       "      <td>qure25k</td>\n",
       "      <td>test_set_fts/sampled/1.3.12.2.1107.5.1.4.46190...</td>\n",
       "      <td>1.3.12.2.1107.5.1.4.46190.4.0.636960227214541</td>\n",
       "      <td>test_set_fts</td>\n",
       "      <td>nii.gz attempted</td>\n",
       "      <td>0</td>\n",
       "      <td>1</td>\n",
       "      <td>0</td>\n",
       "      <td>...</td>\n",
       "      <td>0</td>\n",
       "      <td>0</td>\n",
       "      <td>1</td>\n",
       "      <td>0</td>\n",
       "      <td>0</td>\n",
       "      <td>0.0</td>\n",
       "      <td>1</td>\n",
       "      <td>NaN</td>\n",
       "      <td>60.0</td>\n",
       "      <td>SIEMENS</td>\n",
       "    </tr>\n",
       "  </tbody>\n",
       "</table>\n",
       "<p>1 rows × 28 columns</p>\n",
       "</div>"
      ],
      "text/plain": [
       "                                          StudyUID PatientID   Status  \\\n",
       "930  1.3.12.2.1107.5.1.4.46190.4.0.636527019451476      6454  qure25k   \n",
       "\n",
       "                                              Filepath  \\\n",
       "930  test_set_fts/sampled/1.3.12.2.1107.5.1.4.46190...   \n",
       "\n",
       "                                         SeriesUID         Batch  \\\n",
       "930  1.3.12.2.1107.5.1.4.46190.4.0.636960227214541  test_set_fts   \n",
       "\n",
       "              Remarks  ICH  SDH  EDH  ...  CALVARIAL  FRAC  CONFIRMED_HCT  \\\n",
       "930  nii.gz attempted    0    1    0  ...          0     0              1   \n",
       "\n",
       "     POSTOP  NORMAL_BRAIN  UNCERTAIN_REPORT  ANY  crop  PATIENT_AGE  \\\n",
       "930       0             0               0.0    1   NaN         60.0   \n",
       "\n",
       "     MANUFACTURER  \n",
       "930       SIEMENS  \n",
       "\n",
       "[1 rows x 28 columns]"
      ]
     },
     "execution_count": 15,
     "metadata": {},
     "output_type": "execute_result"
    }
   ],
   "source": [
    "df_test[df_test.StudyUID == study_uids[0]]"
   ]
  },
  {
   "cell_type": "code",
   "execution_count": 29,
   "id": "5c38a82a",
   "metadata": {},
   "outputs": [],
   "source": [
    "study_uids = [\"1.2.840.113619.2.55.3.2831165748.830.1452395338.951\"]"
   ]
  },
  {
   "cell_type": "code",
   "execution_count": 30,
   "id": "9c228b68",
   "metadata": {},
   "outputs": [
    {
     "data": {
      "application/json": {
       "ascii": false,
       "bar_format": null,
       "colour": null,
       "elapsed": 0.06905651092529297,
       "initial": 0,
       "n": 0,
       "ncols": null,
       "nrows": 60,
       "postfix": null,
       "prefix": "",
       "rate": null,
       "total": 1,
       "unit": "it",
       "unit_divisor": 1000,
       "unit_scale": false
      },
      "application/vnd.jupyter.widget-view+json": {
       "model_id": "c307d8c883f94b809661463836913bbb",
       "version_major": 2,
       "version_minor": 0
      },
      "text/plain": [
       "  0%|          | 0/1 [00:00<?, ?it/s]"
      ]
     },
     "metadata": {},
     "output_type": "display_data"
    },
    {
     "name": "stdout",
     "output_type": "stream",
     "text": [
      "File copied successfully.\n",
      "File copied successfully.\n",
      "File copied successfully.\n",
      "File copied successfully.\n",
      "File copied successfully.\n",
      "File copied successfully.\n",
      "File copied successfully.\n",
      "File copied successfully.\n",
      "File copied successfully.\n",
      "File copied successfully.\n",
      "File copied successfully.\n",
      "File copied successfully.\n",
      "File copied successfully.\n",
      "File copied successfully.\n",
      "File copied successfully.\n",
      "File copied successfully.\n",
      "File copied successfully.\n",
      "File copied successfully.\n",
      "File copied successfully.\n",
      "File copied successfully.\n",
      "File copied successfully.\n",
      "File copied successfully.\n",
      "File copied successfully.\n",
      "File copied successfully.\n",
      "File copied successfully.\n",
      "File copied successfully.\n",
      "File copied successfully.\n",
      "File copied successfully.\n",
      "File copied successfully.\n",
      "File copied successfully.\n",
      "File copied successfully.\n",
      "File copied successfully.\n",
      "File copied successfully.\n",
      "File copied successfully.\n",
      "File copied successfully.\n",
      "File copied successfully.\n"
     ]
    }
   ],
   "source": [
    "import shutil\n",
    "for uid in tqdm(study_uids) : \n",
    "    rows = df_test[df_test.StudyUID == uid]\n",
    "    if len(rows) > 0:\n",
    "        series_uid = rows.iloc[0].SeriesUID\n",
    "        series_dict = db.dicoms.find_one({'_id' : series_uid })\n",
    "        filepaths = [x['FilePath'] for x in series_dict[\"InstancesList\"]]\n",
    "        filepaths = [filepath.replace( \"/data_nas2/raw/\" , \"/data_nas3/raw/hct/\")  for filepath in filepaths]\n",
    "\n",
    "        new_filepaths = [filepath.replace( \"/data_nas2/raw/\" , \"/data_nas3/raw/hct/\")  for filepath in filepaths]\n",
    "\n",
    "        invalid_paths = False\n",
    "        for path in new_filepaths :\n",
    "            if not os.path.exists(path) :\n",
    "                invalid_paths = True\n",
    "                break\n",
    "\n",
    "        if invalid_paths : \n",
    "            new_filepaths = [filepath.replace( \"/data_nas2/processed/HeadCT/\" , \"/data_nas3/processed/hct/\")  for filepath in filepaths]\n",
    "\n",
    "\n",
    "\n",
    "        # Source path\n",
    "        for i in range(len(new_filepaths)): \n",
    "            source = new_filepaths[i]\n",
    "\n",
    "            # Destination path\n",
    "            dest_dir = f\"/home/users/shubham.kumar/projects/ICH_classification_segmentation/tbr_test/{uid}\"\n",
    "            if not os.path.exists(dest_dir) :\n",
    "                os.mkdir(dest_dir)\n",
    "            destination = f\"/home/users/shubham.kumar/projects/ICH_classification_segmentation/tbr_test/{uid}/{os.path.basename(source)}\"\n",
    "\n",
    "            # Copy the content of\n",
    "            # source to destination\n",
    "\n",
    "            try:\n",
    "                shutil.copy(source, destination)\n",
    "                print(\"File copied successfully.\")\n",
    "\n",
    "            # If source and destination are same\n",
    "            except shutil.SameFileError:\n",
    "                print(\"Source and destination represents the same file.\")\n",
    "\n",
    "            # If there is any permission issue\n",
    "            except PermissionError:\n",
    "                print(\"Permission denied.\")\n",
    "\n",
    "            # For other errors\n",
    "            except:\n",
    "                print(\"Error occurred while copying file.\")\n"
   ]
  },
  {
   "cell_type": "code",
   "execution_count": 6,
   "id": "6f1c0927",
   "metadata": {},
   "outputs": [],
   "source": [
    "pa = f\"/home/users/shubham.kumar/projects/ICH_classification_segmentation/prod_test_cases/{uid0}\"\n"
   ]
  },
  {
   "cell_type": "code",
   "execution_count": 7,
   "id": "0911c88c",
   "metadata": {},
   "outputs": [
    {
     "data": {
      "text/plain": [
       "'1.2.276.0.7230010.3.1.2.8323329.1346.1548393578.926171'"
      ]
     },
     "execution_count": 7,
     "metadata": {},
     "output_type": "execute_result"
    }
   ],
   "source": [
    "uid1"
   ]
  },
  {
   "cell_type": "code",
   "execution_count": 8,
   "id": "9295234f",
   "metadata": {},
   "outputs": [],
   "source": [
    "from skimage import morphology\n",
    "def _post_process(mask, img_arr):\n",
    "    mask = morphology.dilation(mask, morphology.ball(2))\n",
    "    mask = np.array(\n",
    "        [\n",
    "            morphology.dilation(mask[i], morphology.disk(3))\n",
    "            for i in range(mask.shape[0])\n",
    "        ]\n",
    "    )\n",
    "\n",
    "    mask = mask * img_arr\n",
    "    mask[mask < 40] = 0\n",
    "    mask[mask > 100] = 0\n",
    "    mask[mask > 0] = 1\n",
    "\n",
    "    return mask"
   ]
  },
  {
   "cell_type": "code",
   "execution_count": 9,
   "id": "01f5d6b7",
   "metadata": {},
   "outputs": [
    {
     "name": "stdout",
     "output_type": "stream",
     "text": [
      "<Instance of ModelConfig at address 140225865392080:\n",
      "\tname=hemorrhages_quantification\n",
      "\tclass_name=HemorrhagesQuantificationModel\n",
      "\tinit_kwargs={'checkpoint_path': 'hemorrhages_quantification/FDA_approved_mixed_mask.pth', 'mixed': True, 'img_size': 224, 'use_crop': True, 'threshold': 0.5}\n",
      "\tpredict_kwargs={'sitk_img': <SimpleITK.SimpleITK.Image; proxy of <Swig Object of type 'std::vector< itk::simple::Image >::value_type *' at 0x7f88dedd7270> >}\n",
      "\tdependencies=[]\n",
      "\tencrypted=False\n",
      "\tscan_preprocessing={'resample_thin': False, 'smooth_thin': True}\n",
      ">\n",
      "[2023-09-11 17:48:33 +0530] [INFO] Correcting image z spacing using median of slice positions from 2.65 to 2.65\n",
      "[2023-09-11 17:48:33 +0530] [INFO] Loading model hemorrhages_quantification\n"
     ]
    },
    {
     "name": "stderr",
     "output_type": "stream",
     "text": [
      "WARNING: In /tmp/SimpleITK-build/ITK-prefix/include/ITK-5.2/itkImageSeriesReader.hxx, line 480\n",
      "ImageSeriesReader (0x2b009da0): Non uniform sampling or missing slices detected,  maximum nonuniformity:0.000873016\n",
      "\n"
     ]
    },
    {
     "name": "stdout",
     "output_type": "stream",
     "text": [
      "11.3257\n",
      "3.991110964957827\n"
     ]
    }
   ],
   "source": [
    "from qer.ai.predictor.get_predictions import load_and_run_model\n",
    "import numpy as np\n",
    "import SimpleITK as sitk\n",
    "from os import path\n",
    "import shutil\n",
    "import zipfile\n",
    "import glob\n",
    "from qer.ai.utils.preprocessing import get_preprocessed_sitk_img\n",
    "from qer.ai.predictor.utils.model_config import  default_model_configs\n",
    "\n",
    "model_config  = default_model_configs[\"hemorrhages_quantification\"]\n",
    "print(model_config)\n",
    "\n",
    "\n",
    "img = get_preprocessed_sitk_img(pa,model_config)\n",
    "\n",
    "# img  = sitk.ReadImage(\"/home/users/shubham.kumar/projects/qureai/packages/python/qer/tests/ai/example_files/hemorrhages_quantification/zeroml_test.nii.gz\") \n",
    "quant_output = load_and_run_model(\"hemorrhages_quantification\",img,debug_mode = True)[\"results\"]\n",
    "acute_pp_vol = quant_output['quantification value'][\"acute_pp\"]\n",
    "acute_logits = quant_output['heatmaps'][\"acute_logits\"]\n",
    "\n",
    "threshold = 0.3\n",
    "acute_old_mask = sitk.GetArrayFromImage(acute_logits)\n",
    "acute_old_mask[acute_old_mask > threshold] = 1\n",
    "acute_old_mask[acute_old_mask < threshold] = 0\n",
    "print(acute_pp_vol)\n",
    "\n",
    "acute_old_mask_pp = _post_process(acute_old_mask, sitk.GetArrayFromImage(img))\n",
    "# acute_old_mask_pp*\n",
    "\n",
    "a,b,c = img.GetSpacing()\n",
    "print((np.sum(acute_old_mask_pp)*a*b*c)/1000)\n",
    "\n"
   ]
  },
  {
   "cell_type": "code",
   "execution_count": 8,
   "id": "4de18e3b",
   "metadata": {},
   "outputs": [],
   "source": [
    "df_test_sdh_vol =pd.read_csv(\"quant_SDH_volume_logits_correction_v4.csv\")\n"
   ]
  },
  {
   "cell_type": "code",
   "execution_count": 18,
   "id": "58ef8b29",
   "metadata": {},
   "outputs": [],
   "source": [
    "df_quant_SDH_test = pd.read_csv(\"/home/users/shubham.kumar/projects/ICH_classification_segmentation/quant_SDH_q25k_outputs.csv\")\n",
    "df_test = pd.read_csv(\"/home/users/shubham.kumar/projects/ICH_classification_segmentation/ICH_dataset_test.csv\")\n",
    "a = df_test[df_test.StudyUID.isin(df_quant_SDH_test.StudyUID.values)].StudyUID.values\n",
    "df_test_SDH = df_quant_SDH_test[df_quant_SDH_test[\"StudyUID\"].isin(a)]\n"
   ]
  },
  {
   "cell_type": "code",
   "execution_count": 20,
   "id": "900aade5",
   "metadata": {},
   "outputs": [
    {
     "data": {
      "text/html": [
       "<div>\n",
       "<style scoped>\n",
       "    .dataframe tbody tr th:only-of-type {\n",
       "        vertical-align: middle;\n",
       "    }\n",
       "\n",
       "    .dataframe tbody tr th {\n",
       "        vertical-align: top;\n",
       "    }\n",
       "\n",
       "    .dataframe thead th {\n",
       "        text-align: right;\n",
       "    }\n",
       "</style>\n",
       "<table border=\"1\" class=\"dataframe\">\n",
       "  <thead>\n",
       "    <tr style=\"text-align: right;\">\n",
       "      <th></th>\n",
       "      <th>StudyUID</th>\n",
       "      <th>SeriesUID</th>\n",
       "      <th>volume</th>\n",
       "      <th>unit</th>\n",
       "    </tr>\n",
       "  </thead>\n",
       "  <tbody>\n",
       "    <tr>\n",
       "      <th>656</th>\n",
       "      <td>1.2.840.113619.2.22.288.1.8523.20181130.202036</td>\n",
       "      <td>1.2.840.113619.2.22.288.1.8523.2.20181130.202149</td>\n",
       "      <td>0.0</td>\n",
       "      <td>ml</td>\n",
       "    </tr>\n",
       "    <tr>\n",
       "      <th>657</th>\n",
       "      <td>1.2.840.113619.2.22.288.1.8530.20181201.302306</td>\n",
       "      <td>1.2.840.113619.2.22.288.1.8530.2.20181201.302350</td>\n",
       "      <td>0.0</td>\n",
       "      <td>ml</td>\n",
       "    </tr>\n",
       "    <tr>\n",
       "      <th>828</th>\n",
       "      <td>1.2.840.113619.2.22.287.1.28929.20180715.194705</td>\n",
       "      <td>1.2.840.113619.2.22.287.1.28929.2.20180715.194747</td>\n",
       "      <td>0.0</td>\n",
       "      <td>ml</td>\n",
       "    </tr>\n",
       "    <tr>\n",
       "      <th>988</th>\n",
       "      <td>1.3.12.2.1107.5.1.4.34169.4.0.6061104312655291</td>\n",
       "      <td>1.3.12.2.1107.5.1.4.34169.4.0.6075330012385363</td>\n",
       "      <td>0.0</td>\n",
       "      <td>ml</td>\n",
       "    </tr>\n",
       "    <tr>\n",
       "      <th>1000</th>\n",
       "      <td>1.3.12.2.1107.5.1.4.46190.4.0.636527019451476</td>\n",
       "      <td>1.3.12.2.1107.5.1.4.46190.4.0.636960227214541</td>\n",
       "      <td>0.0</td>\n",
       "      <td>ml</td>\n",
       "    </tr>\n",
       "    <tr>\n",
       "      <th>...</th>\n",
       "      <td>...</td>\n",
       "      <td>...</td>\n",
       "      <td>...</td>\n",
       "      <td>...</td>\n",
       "    </tr>\n",
       "    <tr>\n",
       "      <th>6218</th>\n",
       "      <td>1.2.840.113619.2.55.3.252322801.331.1595058597...</td>\n",
       "      <td>1.2.840.113619.2.55.3.252322801.331.1595058597...</td>\n",
       "      <td>0.0</td>\n",
       "      <td>ml</td>\n",
       "    </tr>\n",
       "    <tr>\n",
       "      <th>6238</th>\n",
       "      <td>1.2.392.200036.9116.2.6.1.37.2429916378.160279...</td>\n",
       "      <td>1.2.392.200036.9116.2.6.1.37.2429916378.160279...</td>\n",
       "      <td>0.0</td>\n",
       "      <td>ml</td>\n",
       "    </tr>\n",
       "    <tr>\n",
       "      <th>6245</th>\n",
       "      <td>1.2.840.113619.2.404.3.1695215947.106.16025908...</td>\n",
       "      <td>1.2.840.113619.2.404.3.1695215947.106.16025908...</td>\n",
       "      <td>0.0</td>\n",
       "      <td>ml</td>\n",
       "    </tr>\n",
       "    <tr>\n",
       "      <th>6256</th>\n",
       "      <td>1.2.840.113711.169414.1.11948.622984925.26.211...</td>\n",
       "      <td>1.3.12.2.1107.5.1.4.55491.30000020101602562214...</td>\n",
       "      <td>0.0</td>\n",
       "      <td>ml</td>\n",
       "    </tr>\n",
       "    <tr>\n",
       "      <th>6262</th>\n",
       "      <td>1.3.12.2.1107.5.1.4.59737.30000020101411304368...</td>\n",
       "      <td>1.3.12.2.1107.5.1.4.59737.30000020101411321649...</td>\n",
       "      <td>0.0</td>\n",
       "      <td>ml</td>\n",
       "    </tr>\n",
       "  </tbody>\n",
       "</table>\n",
       "<p>587 rows × 4 columns</p>\n",
       "</div>"
      ],
      "text/plain": [
       "                                               StudyUID  \\\n",
       "656      1.2.840.113619.2.22.288.1.8523.20181130.202036   \n",
       "657      1.2.840.113619.2.22.288.1.8530.20181201.302306   \n",
       "828     1.2.840.113619.2.22.287.1.28929.20180715.194705   \n",
       "988      1.3.12.2.1107.5.1.4.34169.4.0.6061104312655291   \n",
       "1000      1.3.12.2.1107.5.1.4.46190.4.0.636527019451476   \n",
       "...                                                 ...   \n",
       "6218  1.2.840.113619.2.55.3.252322801.331.1595058597...   \n",
       "6238  1.2.392.200036.9116.2.6.1.37.2429916378.160279...   \n",
       "6245  1.2.840.113619.2.404.3.1695215947.106.16025908...   \n",
       "6256  1.2.840.113711.169414.1.11948.622984925.26.211...   \n",
       "6262  1.3.12.2.1107.5.1.4.59737.30000020101411304368...   \n",
       "\n",
       "                                              SeriesUID  volume unit  \n",
       "656    1.2.840.113619.2.22.288.1.8523.2.20181130.202149     0.0   ml  \n",
       "657    1.2.840.113619.2.22.288.1.8530.2.20181201.302350     0.0   ml  \n",
       "828   1.2.840.113619.2.22.287.1.28929.2.20180715.194747     0.0   ml  \n",
       "988      1.3.12.2.1107.5.1.4.34169.4.0.6075330012385363     0.0   ml  \n",
       "1000      1.3.12.2.1107.5.1.4.46190.4.0.636960227214541     0.0   ml  \n",
       "...                                                 ...     ...  ...  \n",
       "6218  1.2.840.113619.2.55.3.252322801.331.1595058597...     0.0   ml  \n",
       "6238  1.2.392.200036.9116.2.6.1.37.2429916378.160279...     0.0   ml  \n",
       "6245  1.2.840.113619.2.404.3.1695215947.106.16025908...     0.0   ml  \n",
       "6256  1.3.12.2.1107.5.1.4.55491.30000020101602562214...     0.0   ml  \n",
       "6262  1.3.12.2.1107.5.1.4.59737.30000020101411321649...     0.0   ml  \n",
       "\n",
       "[587 rows x 4 columns]"
      ]
     },
     "execution_count": 20,
     "metadata": {},
     "output_type": "execute_result"
    }
   ],
   "source": [
    "df_test_SDH[df_test_SDH[\"volume\"] == 0]"
   ]
  },
  {
   "cell_type": "code",
   "execution_count": 1,
   "id": "9947a3d5",
   "metadata": {},
   "outputs": [],
   "source": [
    "# dcm_path = \"/home/users/shubham.kumar/projects/ICH_classification_segmentation/santhi/\"\n",
    "\n",
    "dcm_path = \"/home/users/shubham.kumar/projects/qct_training_framework/notebooks/1.2.840.113619.2.22.287.1.28929.20180715.194705\"\n",
    "\n"
   ]
  },
  {
   "cell_type": "code",
   "execution_count": 2,
   "id": "1371c9d1",
   "metadata": {},
   "outputs": [
    {
     "name": "stdout",
     "output_type": "stream",
     "text": [
      "Wed Sep 20 17:01:24 2023       \r\n",
      "+-----------------------------------------------------------------------------+\r\n",
      "| NVIDIA-SMI 470.199.02   Driver Version: 470.199.02   CUDA Version: 11.4     |\r\n",
      "|-------------------------------+----------------------+----------------------+\r\n",
      "| GPU  Name        Persistence-M| Bus-Id        Disp.A | Volatile Uncorr. ECC |\r\n",
      "| Fan  Temp  Perf  Pwr:Usage/Cap|         Memory-Usage | GPU-Util  Compute M. |\r\n",
      "|                               |                      |               MIG M. |\r\n",
      "|===============================+======================+======================|\r\n",
      "|   0  NVIDIA GeForce ...  Off  | 00000000:01:00.0 Off |                  N/A |\r\n",
      "| 33%   32C    P8    22W / 350W |      5MiB / 24268MiB |      0%      Default |\r\n",
      "|                               |                      |                  N/A |\r\n",
      "+-------------------------------+----------------------+----------------------+\r\n",
      "|   1  NVIDIA GeForce ...  Off  | 00000000:41:00.0 Off |                  N/A |\r\n",
      "| 33%   38C    P8    37W / 350W |      5MiB / 24268MiB |      0%      Default |\r\n",
      "|                               |                      |                  N/A |\r\n",
      "+-------------------------------+----------------------+----------------------+\r\n",
      "|   2  NVIDIA GeForce ...  Off  | 00000000:61:00.0 Off |                  N/A |\r\n",
      "| 33%   35C    P8    23W / 350W |      5MiB / 24268MiB |      0%      Default |\r\n",
      "|                               |                      |                  N/A |\r\n",
      "+-------------------------------+----------------------+----------------------+\r\n",
      "                                                                               \r\n",
      "+-----------------------------------------------------------------------------+\r\n",
      "| Processes:                                                                  |\r\n",
      "|  GPU   GI   CI        PID   Type   Process name                  GPU Memory |\r\n",
      "|        ID   ID                                                   Usage      |\r\n",
      "|=============================================================================|\r\n",
      "|    0   N/A  N/A      4761      G   /usr/lib/xorg/Xorg                  4MiB |\r\n",
      "|    1   N/A  N/A      4761      G   /usr/lib/xorg/Xorg                  4MiB |\r\n",
      "|    2   N/A  N/A      4761      G   /usr/lib/xorg/Xorg                  4MiB |\r\n",
      "+-----------------------------------------------------------------------------+\r\n"
     ]
    }
   ],
   "source": [
    "!nvidia-smi\n"
   ]
  },
  {
   "cell_type": "code",
   "execution_count": 20,
   "id": "504964c7",
   "metadata": {
    "scrolled": true
   },
   "outputs": [
    {
     "data": {
      "application/json": {
       "ascii": false,
       "bar_format": null,
       "colour": null,
       "elapsed": 0.009441137313842773,
       "initial": 0,
       "n": 0,
       "ncols": null,
       "nrows": 60,
       "postfix": null,
       "prefix": "",
       "rate": null,
       "total": 22,
       "unit": "it",
       "unit_divisor": 1000,
       "unit_scale": false
      },
      "application/vnd.jupyter.widget-view+json": {
       "model_id": "41f6133be2d3493abf3c0079a2e623c7",
       "version_major": 2,
       "version_minor": 0
      },
      "text/plain": [
       "  0%|          | 0/22 [00:00<?, ?it/s]"
      ]
     },
     "metadata": {},
     "output_type": "display_data"
    },
    {
     "name": "stdout",
     "output_type": "stream",
     "text": [
      "[2023-09-20 18:19:14 +0530] [INFO] Loading model hemorrhages_v3\n",
      "list index out of range\n",
      "[2023-09-20 18:19:14 +0530] [INFO] Loading model hemorrhages_v3\n",
      "[2023-09-20 18:19:15 +0530] [INFO] Correcting image z spacing using median of slice positions from 5.04 to 5.04\n"
     ]
    },
    {
     "name": "stderr",
     "output_type": "stream",
     "text": [
      "WARNING: In /tmp/SimpleITK-build/ITK-prefix/include/ITK-5.2/itkImageSeriesReader.hxx, line 480\n",
      "ImageSeriesReader (0xe740ac40): Non uniform sampling or missing slices detected,  maximum nonuniformity:0.000514286\n",
      "\n"
     ]
    },
    {
     "name": "stdout",
     "output_type": "stream",
     "text": [
      "[2023-09-20 18:19:17 +0530] [INFO] Loading model hemorrhages_quantification\n"
     ]
    },
    {
     "name": "stderr",
     "output_type": "stream",
     "text": [
      "Note that order of the arguments: ceil_mode and return_indices will changeto match the args list in nn.MaxPool2d in a future release.\n"
     ]
    },
    {
     "name": "stdout",
     "output_type": "stream",
     "text": [
      "[2023-09-20 18:19:17 +0530] [INFO] Correcting image z spacing using median of slice positions from 5.04 to 5.04\n"
     ]
    },
    {
     "name": "stderr",
     "output_type": "stream",
     "text": [
      "WARNING: In /tmp/SimpleITK-build/ITK-prefix/include/ITK-5.2/itkImageSeriesReader.hxx, line 480\n",
      "ImageSeriesReader (0xe740ac40): Non uniform sampling or missing slices detected,  maximum nonuniformity:0.000514286\n",
      "\n"
     ]
    },
    {
     "name": "stdout",
     "output_type": "stream",
     "text": [
      "[2023-09-20 18:19:22 +0530] [INFO] Loading model hemorrhages_v3\n",
      "[2023-09-20 18:19:23 +0530] [INFO] Correcting image z spacing using median of slice positions from 5.00 to 5.00\n",
      "[2023-09-20 18:19:24 +0530] [INFO] Loading model hemorrhages_quantification\n",
      "[2023-09-20 18:19:25 +0530] [INFO] Correcting image z spacing using median of slice positions from 5.00 to 5.00\n",
      "[2023-09-20 18:19:28 +0530] [INFO] Loading model hemorrhages_v3\n",
      "[2023-09-20 18:19:29 +0530] [INFO] Correcting image z spacing using median of slice positions from 5.00 to 5.00\n",
      "[2023-09-20 18:19:30 +0530] [INFO] Loading model hemorrhages_quantification\n",
      "[2023-09-20 18:19:31 +0530] [INFO] Correcting image z spacing using median of slice positions from 5.00 to 5.00\n",
      "[2023-09-20 18:19:33 +0530] [INFO] Loading model hemorrhages_v3\n",
      "[2023-09-20 18:19:34 +0530] [INFO] Correcting image z spacing using median of slice positions from 5.00 to 5.00\n",
      "[2023-09-20 18:19:35 +0530] [INFO] Loading model hemorrhages_quantification\n",
      "[2023-09-20 18:19:35 +0530] [INFO] Correcting image z spacing using median of slice positions from 5.00 to 5.00\n",
      "[2023-09-20 18:19:38 +0530] [INFO] Loading model hemorrhages_v3\n",
      "[2023-09-20 18:19:39 +0530] [INFO] Correcting image z spacing using median of slice positions from 5.09 to 5.09\n"
     ]
    },
    {
     "name": "stderr",
     "output_type": "stream",
     "text": [
      "WARNING: In /tmp/SimpleITK-build/ITK-prefix/include/ITK-5.2/itkImageSeriesReader.hxx, line 480\n",
      "ImageSeriesReader (0xe740ac40): Non uniform sampling or missing slices detected,  maximum nonuniformity:0.00154286\n",
      "\n"
     ]
    },
    {
     "name": "stdout",
     "output_type": "stream",
     "text": [
      "[2023-09-20 18:19:40 +0530] [INFO] Loading model hemorrhages_quantification\n",
      "[2023-09-20 18:19:41 +0530] [INFO] Correcting image z spacing using median of slice positions from 5.09 to 5.09\n"
     ]
    },
    {
     "name": "stderr",
     "output_type": "stream",
     "text": [
      "WARNING: In /tmp/SimpleITK-build/ITK-prefix/include/ITK-5.2/itkImageSeriesReader.hxx, line 480\n",
      "ImageSeriesReader (0xe740ac40): Non uniform sampling or missing slices detected,  maximum nonuniformity:0.00154286\n",
      "\n"
     ]
    },
    {
     "name": "stdout",
     "output_type": "stream",
     "text": [
      "[2023-09-20 18:19:44 +0530] [INFO] Loading model hemorrhages_v3\n",
      "[2023-09-20 18:19:45 +0530] [INFO] Correcting image z spacing using median of slice positions from 5.00 to 5.00\n",
      "[2023-09-20 18:19:46 +0530] [INFO] Loading model hemorrhages_quantification\n",
      "[2023-09-20 18:19:47 +0530] [INFO] Correcting image z spacing using median of slice positions from 5.00 to 5.00\n",
      "[2023-09-20 18:19:51 +0530] [INFO] Loading model hemorrhages_v3\n",
      "[2023-09-20 18:19:52 +0530] [INFO] Correcting image z spacing using median of slice positions from 5.03 to 5.03\n"
     ]
    },
    {
     "name": "stderr",
     "output_type": "stream",
     "text": [
      "WARNING: In /tmp/SimpleITK-build/ITK-prefix/include/ITK-5.2/itkImageSeriesReader.hxx, line 480\n",
      "ImageSeriesReader (0xe740ac40): Non uniform sampling or missing slices detected,  maximum nonuniformity:0.000516129\n",
      "\n"
     ]
    },
    {
     "name": "stdout",
     "output_type": "stream",
     "text": [
      "[2023-09-20 18:19:52 +0530] [INFO] Loading model hemorrhages_quantification\n",
      "[2023-09-20 18:19:53 +0530] [INFO] Correcting image z spacing using median of slice positions from 5.03 to 5.03\n"
     ]
    },
    {
     "name": "stderr",
     "output_type": "stream",
     "text": [
      "WARNING: In /tmp/SimpleITK-build/ITK-prefix/include/ITK-5.2/itkImageSeriesReader.hxx, line 480\n",
      "ImageSeriesReader (0xe740ac40): Non uniform sampling or missing slices detected,  maximum nonuniformity:0.000516129\n",
      "\n"
     ]
    },
    {
     "name": "stdout",
     "output_type": "stream",
     "text": [
      "[2023-09-20 18:19:54 +0530] [INFO] Loading model hemorrhages_v3\n",
      "[2023-09-20 18:19:55 +0530] [INFO] Correcting image z spacing using median of slice positions from 5.04 to 5.04\n",
      "[2023-09-20 18:19:55 +0530] [INFO] Loading model hemorrhages_quantification\n"
     ]
    },
    {
     "name": "stderr",
     "output_type": "stream",
     "text": [
      "WARNING: In /tmp/SimpleITK-build/ITK-prefix/include/ITK-5.2/itkImageSeriesReader.hxx, line 480\n",
      "ImageSeriesReader (0xe740ac40): Non uniform sampling or missing slices detected,  maximum nonuniformity:0.000516129\n",
      "\n"
     ]
    },
    {
     "name": "stdout",
     "output_type": "stream",
     "text": [
      "[2023-09-20 18:19:56 +0530] [INFO] Correcting image z spacing using median of slice positions from 5.04 to 5.04\n"
     ]
    },
    {
     "name": "stderr",
     "output_type": "stream",
     "text": [
      "WARNING: In /tmp/SimpleITK-build/ITK-prefix/include/ITK-5.2/itkImageSeriesReader.hxx, line 480\n",
      "ImageSeriesReader (0xe740ac40): Non uniform sampling or missing slices detected,  maximum nonuniformity:0.000516129\n",
      "\n"
     ]
    },
    {
     "name": "stdout",
     "output_type": "stream",
     "text": [
      "[2023-09-20 18:19:57 +0530] [INFO] Loading model hemorrhages_v3\n",
      "[2023-09-20 18:19:58 +0530] [INFO] Correcting image z spacing using median of slice positions from 5.00 to 5.00\n",
      "[2023-09-20 18:19:59 +0530] [INFO] Loading model hemorrhages_quantification\n",
      "[2023-09-20 18:19:59 +0530] [INFO] Correcting image z spacing using median of slice positions from 5.00 to 5.00\n",
      "[2023-09-20 18:20:01 +0530] [INFO] Loading model hemorrhages_v3\n",
      "[2023-09-20 18:20:02 +0530] [INFO] Correcting image z spacing using median of slice positions from 5.09 to 5.09\n"
     ]
    },
    {
     "name": "stderr",
     "output_type": "stream",
     "text": [
      "WARNING: In /tmp/SimpleITK-build/ITK-prefix/include/ITK-5.2/itkImageSeriesReader.hxx, line 480\n",
      "ImageSeriesReader (0xe740ac40): Non uniform sampling or missing slices detected,  maximum nonuniformity:0.00154286\n",
      "\n"
     ]
    },
    {
     "name": "stdout",
     "output_type": "stream",
     "text": [
      "[2023-09-20 18:20:02 +0530] [INFO] Loading model hemorrhages_quantification\n",
      "[2023-09-20 18:20:03 +0530] [INFO] Correcting image z spacing using median of slice positions from 5.09 to 5.09\n"
     ]
    },
    {
     "name": "stderr",
     "output_type": "stream",
     "text": [
      "WARNING: In /tmp/SimpleITK-build/ITK-prefix/include/ITK-5.2/itkImageSeriesReader.hxx, line 480\n",
      "ImageSeriesReader (0xe740ac40): Non uniform sampling or missing slices detected,  maximum nonuniformity:0.00154286\n",
      "\n"
     ]
    },
    {
     "name": "stdout",
     "output_type": "stream",
     "text": [
      "[2023-09-20 18:20:04 +0530] [INFO] Loading model hemorrhages_v3\n"
     ]
    },
    {
     "name": "stderr",
     "output_type": "stream",
     "text": [
      "Invalid value for VR IS: '+1.00'. Please see <https://dicom.nema.org/medical/dicom/current/output/html/part05.html#table_6.2-1> for allowed values for each VR.\n"
     ]
    },
    {
     "name": "stdout",
     "output_type": "stream",
     "text": [
      "[2023-09-20 18:20:05 +0530] [INFO] Correcting image z spacing using median of slice positions from 5.01 to 5.00\n",
      "[2023-09-20 18:20:05 +0530] [INFO] Loading model hemorrhages_quantification\n"
     ]
    },
    {
     "name": "stderr",
     "output_type": "stream",
     "text": [
      "WARNING: In /tmp/SimpleITK-build/ITK-prefix/include/ITK-5.2/itkImageSeriesReader.hxx, line 480\n",
      "ImageSeriesReader (0xe740ac40): Non uniform sampling or missing slices detected,  maximum nonuniformity:0.0103704\n",
      "\n"
     ]
    },
    {
     "name": "stdout",
     "output_type": "stream",
     "text": [
      "[2023-09-20 18:20:06 +0530] [INFO] Correcting image z spacing using median of slice positions from 5.01 to 5.00\n"
     ]
    },
    {
     "name": "stderr",
     "output_type": "stream",
     "text": [
      "WARNING: In /tmp/SimpleITK-build/ITK-prefix/include/ITK-5.2/itkImageSeriesReader.hxx, line 480\n",
      "ImageSeriesReader (0xe740ac40): Non uniform sampling or missing slices detected,  maximum nonuniformity:0.0103704\n",
      "\n"
     ]
    },
    {
     "name": "stdout",
     "output_type": "stream",
     "text": [
      "[2023-09-20 18:20:07 +0530] [INFO] Loading model hemorrhages_v3\n",
      "[2023-09-20 18:20:08 +0530] [INFO] Correcting image z spacing using median of slice positions from 5.00 to 5.00\n",
      "[2023-09-20 18:20:08 +0530] [INFO] Loading model hemorrhages_quantification\n",
      "[2023-09-20 18:20:09 +0530] [INFO] Correcting image z spacing using median of slice positions from 5.00 to 5.00\n",
      "[2023-09-20 18:20:10 +0530] [INFO] Loading model hemorrhages_v3\n",
      "list index out of range\n",
      "[2023-09-20 18:20:11 +0530] [INFO] Loading model hemorrhages_v3\n",
      "[2023-09-20 18:20:12 +0530] [INFO] Correcting image z spacing using median of slice positions from 5.00 to 5.00\n",
      "[2023-09-20 18:20:12 +0530] [INFO] Loading model hemorrhages_quantification\n"
     ]
    },
    {
     "name": "stderr",
     "output_type": "stream",
     "text": [
      "WARNING: In /tmp/SimpleITK-build/ITK-prefix/include/ITK-5.2/itkImageSeriesReader.hxx, line 480\n",
      "ImageSeriesReader (0xe740ac40): Non uniform sampling or missing slices detected,  maximum nonuniformity:0.00130435\n",
      "\n"
     ]
    },
    {
     "name": "stdout",
     "output_type": "stream",
     "text": [
      "[2023-09-20 18:20:12 +0530] [INFO] Correcting image z spacing using median of slice positions from 5.00 to 5.00\n"
     ]
    },
    {
     "name": "stderr",
     "output_type": "stream",
     "text": [
      "WARNING: In /tmp/SimpleITK-build/ITK-prefix/include/ITK-5.2/itkImageSeriesReader.hxx, line 480\n",
      "ImageSeriesReader (0xe740ac40): Non uniform sampling or missing slices detected,  maximum nonuniformity:0.00130435\n",
      "\n"
     ]
    },
    {
     "name": "stdout",
     "output_type": "stream",
     "text": [
      "[2023-09-20 18:20:13 +0530] [INFO] Loading model hemorrhages_v3\n",
      "[2023-09-20 18:20:14 +0530] [INFO] Correcting image z spacing using median of slice positions from 5.14 to 5.14\n",
      "[2023-09-20 18:20:14 +0530] [INFO] Loading model hemorrhages_quantification\n",
      "[2023-09-20 18:20:15 +0530] [INFO] Correcting image z spacing using median of slice positions from 5.14 to 5.14\n",
      "[2023-09-20 18:20:17 +0530] [INFO] Loading model hemorrhages_v3\n",
      "[2023-09-20 18:20:17 +0530] [INFO] Correcting image z spacing using median of slice positions from 5.00 to 5.00\n",
      "[2023-09-20 18:20:18 +0530] [INFO] Loading model hemorrhages_quantification\n",
      "[2023-09-20 18:20:18 +0530] [INFO] Correcting image z spacing using median of slice positions from 5.00 to 5.00\n",
      "[2023-09-20 18:20:19 +0530] [INFO] Loading model hemorrhages_v3\n",
      "[2023-09-20 18:20:20 +0530] [INFO] Correcting image z spacing using median of slice positions from 5.00 to 5.00\n",
      "[2023-09-20 18:20:20 +0530] [INFO] Loading model hemorrhages_quantification\n",
      "[2023-09-20 18:20:21 +0530] [INFO] Correcting image z spacing using median of slice positions from 5.00 to 5.00\n",
      "[2023-09-20 18:20:22 +0530] [INFO] Loading model hemorrhages_v3\n",
      "[2023-09-20 18:20:23 +0530] [INFO] Correcting image z spacing using median of slice positions from 5.04 to 5.04\n",
      "[2023-09-20 18:20:23 +0530] [INFO] Loading model hemorrhages_quantification\n"
     ]
    },
    {
     "name": "stderr",
     "output_type": "stream",
     "text": [
      "WARNING: In /tmp/SimpleITK-build/ITK-prefix/include/ITK-5.2/itkImageSeriesReader.hxx, line 480\n",
      "ImageSeriesReader (0xe740ac40): Non uniform sampling or missing slices detected,  maximum nonuniformity:0.000516129\n",
      "\n"
     ]
    },
    {
     "name": "stdout",
     "output_type": "stream",
     "text": [
      "[2023-09-20 18:20:24 +0530] [INFO] Correcting image z spacing using median of slice positions from 5.04 to 5.04\n"
     ]
    },
    {
     "name": "stderr",
     "output_type": "stream",
     "text": [
      "WARNING: In /tmp/SimpleITK-build/ITK-prefix/include/ITK-5.2/itkImageSeriesReader.hxx, line 480\n",
      "ImageSeriesReader (0xe740ac40): Non uniform sampling or missing slices detected,  maximum nonuniformity:0.000516129\n",
      "\n"
     ]
    },
    {
     "name": "stdout",
     "output_type": "stream",
     "text": [
      "[2023-09-20 18:20:25 +0530] [INFO] Loading model hemorrhages_v3\n",
      "[2023-09-20 18:20:26 +0530] [INFO] Correcting image z spacing using median of slice positions from 5.00 to 5.00\n",
      "[2023-09-20 18:20:26 +0530] [INFO] Loading model hemorrhages_quantification\n",
      "[2023-09-20 18:20:26 +0530] [INFO] Correcting image z spacing using median of slice positions from 5.00 to 5.00\n",
      "[2023-09-20 18:20:28 +0530] [INFO] Loading model hemorrhages_v3\n",
      "[2023-09-20 18:20:28 +0530] [INFO] Correcting image z spacing using median of slice positions from 5.30 to 5.30\n",
      "[2023-09-20 18:20:29 +0530] [INFO] Loading model hemorrhages_quantification\n"
     ]
    },
    {
     "name": "stderr",
     "output_type": "stream",
     "text": [
      "WARNING: In /tmp/SimpleITK-build/ITK-prefix/include/ITK-5.2/itkImageSeriesReader.hxx, line 480\n",
      "ImageSeriesReader (0xe740ac40): Non uniform sampling or missing slices detected,  maximum nonuniformity:0.00180645\n",
      "\n"
     ]
    },
    {
     "name": "stdout",
     "output_type": "stream",
     "text": [
      "[2023-09-20 18:20:29 +0530] [INFO] Correcting image z spacing using median of slice positions from 5.30 to 5.30\n"
     ]
    },
    {
     "name": "stderr",
     "output_type": "stream",
     "text": [
      "WARNING: In /tmp/SimpleITK-build/ITK-prefix/include/ITK-5.2/itkImageSeriesReader.hxx, line 480\n",
      "ImageSeriesReader (0xe740ac40): Non uniform sampling or missing slices detected,  maximum nonuniformity:0.00180645\n",
      "\n"
     ]
    },
    {
     "name": "stdout",
     "output_type": "stream",
     "text": [
      "[2023-09-20 18:20:30 +0530] [INFO] Loading model hemorrhages_v3\n",
      "[2023-09-20 18:20:31 +0530] [INFO] Correcting image z spacing using median of slice positions from 5.00 to 5.00\n",
      "[2023-09-20 18:20:31 +0530] [INFO] Loading model hemorrhages_quantification\n"
     ]
    },
    {
     "name": "stderr",
     "output_type": "stream",
     "text": [
      "WARNING: In /tmp/SimpleITK-build/ITK-prefix/include/ITK-5.2/itkImageSeriesReader.hxx, line 480\n",
      "ImageSeriesReader (0xe740ac40): Non uniform sampling or missing slices detected,  maximum nonuniformity:0.00518519\n",
      "\n"
     ]
    },
    {
     "name": "stdout",
     "output_type": "stream",
     "text": [
      "[2023-09-20 18:20:32 +0530] [INFO] Correcting image z spacing using median of slice positions from 5.00 to 5.00\n"
     ]
    },
    {
     "name": "stderr",
     "output_type": "stream",
     "text": [
      "WARNING: In /tmp/SimpleITK-build/ITK-prefix/include/ITK-5.2/itkImageSeriesReader.hxx, line 480\n",
      "ImageSeriesReader (0xe740ac40): Non uniform sampling or missing slices detected,  maximum nonuniformity:0.00518519\n",
      "\n"
     ]
    }
   ],
   "source": [
    "li = []\n",
    "for uid in tqdm(study_uids) :\n",
    "    try : \n",
    "        dcm_path = os.path.join(\"/home/users/shubham.kumar/projects/ICH_classification_segmentation/tbr_test\" , uid)\n",
    "        out = load_and_run_model(\"hemorrhages_v3\" , dcm_path)\n",
    "        quant_out = load_and_run_model(\"hemorrhages_quantification\" , dcm_path)\n",
    "        li.append({\"StudyUID\" : uid , \"v3_score\" : out['results']['scores']['ICH'] , \"volume\" : quant_out['results']['quantification value']['ICH']})\n",
    "    except Exception as e :\n",
    "        print(e)\n",
    "        continue\n",
    "    except KeyboardInterrupt :\n",
    "        break\n",
    "\n",
    "    "
   ]
  },
  {
   "cell_type": "code",
   "execution_count": 26,
   "id": "75980b52",
   "metadata": {},
   "outputs": [
    {
     "data": {
      "text/plain": [
       "'1.2.840.113619.2.55.3.2831165748.830.1452395338.951'"
      ]
     },
     "execution_count": 26,
     "metadata": {},
     "output_type": "execute_result"
    }
   ],
   "source": [
    "pd.DataFrame(li).iloc[0].StudyUID"
   ]
  },
  {
   "cell_type": "code",
   "execution_count": null,
   "id": "b7f638c6",
   "metadata": {},
   "outputs": [],
   "source": []
  },
  {
   "cell_type": "code",
   "execution_count": null,
   "id": "8631d989",
   "metadata": {},
   "outputs": [],
   "source": []
  },
  {
   "cell_type": "code",
   "execution_count": 9,
   "id": "2d94f43c",
   "metadata": {},
   "outputs": [
    {
     "data": {
      "text/plain": [
       "{'ICH': 0.9605829119682312}"
      ]
     },
     "execution_count": 9,
     "metadata": {},
     "output_type": "execute_result"
    }
   ],
   "source": [
    "out['results']['scores']['ICH']\n"
   ]
  },
  {
   "cell_type": "code",
   "execution_count": 10,
   "id": "29630ca3",
   "metadata": {},
   "outputs": [
    {
     "name": "stdout",
     "output_type": "stream",
     "text": [
      "[2023-09-20 17:02:10 +0530] [INFO] Loading model hemorrhages_quantification\n",
      "[2023-09-20 17:02:12 +0530] [INFO] Correcting image z spacing using median of slice positions from 6.39 to 5.00\n"
     ]
    },
    {
     "name": "stderr",
     "output_type": "stream",
     "text": [
      "WARNING: In /tmp/SimpleITK-build/ITK-prefix/include/ITK-5.2/itkImageSeriesReader.hxx, line 480\n",
      "ImageSeriesReader (0xe3a89070): Non uniform sampling or missing slices detected,  maximum nonuniformity:6.38889\n",
      "\n"
     ]
    }
   ],
   "source": [
    "quant_out = load_and_run_model(\"hemorrhages_quantification\" , dcm_path)"
   ]
  },
  {
   "cell_type": "code",
   "execution_count": 11,
   "id": "ddb7b4d6",
   "metadata": {},
   "outputs": [
    {
     "data": {
      "text/plain": [
       "{'results': {'heatmaps': {'ICH': <SimpleITK.SimpleITK.Image; proxy of <Swig Object of type 'std::vector< itk::simple::Image >::value_type *' at 0x7f1a3f9cc390> >},\n",
       "  'quantification value': {'ICH': 1.031160143432628},\n",
       "  'quantification units': {'ICH': 'ml'}}}"
      ]
     },
     "execution_count": 11,
     "metadata": {},
     "output_type": "execute_result"
    }
   ],
   "source": [
    "quant_out['results']['quantification value']['ICH']"
   ]
  },
  {
   "cell_type": "code",
   "execution_count": 16,
   "id": "7dd48edd",
   "metadata": {},
   "outputs": [],
   "source": [
    "from qer.utils.imageoperations.resampler import load_raw_sitk_img"
   ]
  },
  {
   "cell_type": "code",
   "execution_count": 17,
   "id": "42dcf9af",
   "metadata": {},
   "outputs": [
    {
     "name": "stdout",
     "output_type": "stream",
     "text": [
      "[2023-09-18 21:18:10 +0530] [INFO] Correcting image z spacing using median of slice positions from 0.75 to 0.75\n"
     ]
    }
   ],
   "source": [
    "arr = sitk.GetArrayFromImage(load_raw_sitk_img(dcm_path))"
   ]
  },
  {
   "cell_type": "code",
   "execution_count": 25,
   "id": "e5f1454c",
   "metadata": {},
   "outputs": [],
   "source": [
    "oo = quant_out[\"results\"][\"heatmaps\"][\"ICH\"]"
   ]
  },
  {
   "cell_type": "code",
   "execution_count": 26,
   "id": "16905f41",
   "metadata": {},
   "outputs": [
    {
     "data": {
      "application/vnd.jupyter.widget-view+json": {
       "model_id": "a1d0bba32f754e3aafbebe01ebf08831",
       "version_major": 2,
       "version_minor": 0
      },
      "text/plain": [
       "interactive(children=(IntSlider(value=0, description='z', max=210), Output()), _dom_classes=('widget-interact'…"
      ]
     },
     "metadata": {},
     "output_type": "display_data"
    }
   ],
   "source": [
    "plot_scans([brain_window(arr) , sitk.GetArrayFromImage(oo)] , [\"\" , \"\"]  )"
   ]
  },
  {
   "cell_type": "code",
   "execution_count": 8,
   "id": "ea4913ef",
   "metadata": {},
   "outputs": [
    {
     "name": "stdout",
     "output_type": "stream",
     "text": [
      "[2023-09-18 21:14:05 +0530] [INFO] Loading model hemorrhages_blend\n",
      "[2023-09-18 21:14:06 +0530] [INFO] Correcting image z spacing using median of slice positions from 0.75 to 0.75\n",
      "[2023-09-18 21:14:06 +0530] [INFO] Loading model hemorrhages_v3\n",
      "[2023-09-18 21:14:08 +0530] [INFO] Loading model hemorrhages\n",
      "[2023-09-18 21:14:08 +0530] [INFO] Resampling image; original thickness: 0.75; target thickness:  5.25\n",
      "[2023-09-18 21:14:09 +0530] [INFO] Loading model hemorrhages_vjun23\n",
      "[2023-09-18 21:14:09 +0530] [INFO] Loading pretrained weights from url (https://download.pytorch.org/models/resnet18-5c106cde.pth)\n"
     ]
    },
    {
     "name": "stderr",
     "output_type": "stream",
     "text": [
      "Implicit dimension choice for softmax has been deprecated. Change the call to include dim=X as an argument.\n",
      "Implicit dimension choice for softmax has been deprecated. Change the call to include dim=X as an argument.\n"
     ]
    }
   ],
   "source": [
    "blend_out = load_and_run_model(\"hemorrhages_blend\" , dcm_path)"
   ]
  },
  {
   "cell_type": "code",
   "execution_count": 10,
   "id": "e71e68fb",
   "metadata": {},
   "outputs": [
    {
     "data": {
      "text/plain": [
       "{'results': {'scores': {'ICH': 0.5047220413883527}}}"
      ]
     },
     "execution_count": 10,
     "metadata": {},
     "output_type": "execute_result"
    }
   ],
   "source": [
    "blend_out"
   ]
  },
  {
   "cell_type": "code",
   "execution_count": 22,
   "id": "ee7bf141",
   "metadata": {},
   "outputs": [
    {
     "name": "stdout",
     "output_type": "stream",
     "text": [
      "[2023-09-20 14:45:33 +0530] [INFO] Loading model hemorrhages_subtypes\n",
      "[2023-09-20 14:45:37 +0530] [INFO] Correcting image z spacing using median of slice positions from 0.75 to 0.75\n",
      "[2023-09-20 14:45:37 +0530] [INFO] Resampling image; original thickness: 0.75; target thickness:  5.25\n"
     ]
    }
   ],
   "source": [
    "subtypes_out = load_and_run_model(\"hemorrhages_subtypes\" , dcm_path)"
   ]
  },
  {
   "cell_type": "code",
   "execution_count": 23,
   "id": "3b4202eb",
   "metadata": {},
   "outputs": [
    {
     "data": {
      "text/plain": [
       "{'results': {'scores': {'IPH': 0.2849116623401642,\n",
       "   'IVH': 0.13028332591056824,\n",
       "   'SAH': 0.48488178849220276,\n",
       "   'SDH': 0.543889582157135,\n",
       "   'EDH': 0.07927291095256805},\n",
       "  'slice_scores': {'IPH': tensor([-26.5221, -23.5581, -21.9383, -17.8051, -10.4454,  -6.4038,  -5.7627,\n",
       "            -3.9698,  -1.9539,  -2.1181,  -0.5817,  -0.4912,  -0.5231,  -0.1522,\n",
       "            -0.4841,   0.2147,  -0.7072,  -0.2804,  -0.6144,  -0.5005,  -2.8482,\n",
       "            -3.7969,  -3.4757,  -4.4790,  -6.6325,  -7.7006, -11.0229, -12.7239,\n",
       "           -14.5327,     -inf]),\n",
       "   'IVH': tensor([-14.8211, -12.9666, -11.7993,  -9.3912,  -5.6782,  -3.3055,  -2.8759,\n",
       "            -2.2885,  -1.2560,  -1.4160,  -0.6732,  -0.8387,  -1.0863,  -0.7978,\n",
       "            -0.1519,  -1.0344,  -1.2660,  -0.7494,  -1.0114,  -0.5753,  -2.3547,\n",
       "            -3.0854,  -2.8602,  -3.5442,  -4.3623,  -4.7406,  -6.0132,  -7.3775,\n",
       "            -8.8265,     -inf]),\n",
       "   'SAH': tensor([-12.5325, -11.8497, -10.7486,  -9.2783,  -6.0791,  -4.0338,  -3.8274,\n",
       "            -2.3980,  -1.3919,  -1.2993,  -0.3499,  -0.8217,   0.2152,  -0.1103,\n",
       "             0.6532,  -0.5431,  -0.0521,  -0.1758,   0.0401,   0.8664,  -0.5568,\n",
       "            -0.5173,  -0.2723,  -0.1112,  -1.1968,  -1.4921,  -3.6336,  -4.9706,\n",
       "            -6.4857,     -inf]),\n",
       "   'SDH': tensor([-1.2882e+01, -1.2125e+01, -1.0726e+01, -8.6925e+00, -5.2989e+00,\n",
       "           -3.6373e+00, -3.1586e+00, -2.0406e+00, -1.4440e+00, -1.4605e+00,\n",
       "           -1.1079e+00, -1.2514e+00,  4.0913e-01,  1.7713e-03,  5.0308e-01,\n",
       "           -1.1064e-01,  9.7582e-01,  4.6059e-02,  2.7605e-01,  4.4680e-01,\n",
       "           -7.9414e-01, -2.2566e-01, -3.2155e-01, -3.4331e-01, -1.5257e+00,\n",
       "           -2.1538e+00, -3.9752e+00, -5.0316e+00, -6.1797e+00,        -inf]),\n",
       "   'EDH': tensor([-13.9380, -13.0486, -11.2550,  -8.6066,  -5.4661,  -3.1971,  -2.7364,\n",
       "            -1.9150,  -1.9333,  -2.1975,  -1.8330,  -1.8441,  -0.4121,  -0.6221,\n",
       "            -0.9172,  -1.5367,  -0.8283,  -1.4451,  -0.9552,  -0.8258,  -2.2804,\n",
       "            -2.4638,  -2.2696,  -2.6676,  -3.3876,  -3.5840,  -4.4229,  -5.7916,\n",
       "            -6.9411,     -inf])}}}"
      ]
     },
     "execution_count": 23,
     "metadata": {},
     "output_type": "execute_result"
    }
   ],
   "source": [
    "subtypes_out"
   ]
  },
  {
   "cell_type": "code",
   "execution_count": null,
   "id": "b1684d4e",
   "metadata": {},
   "outputs": [],
   "source": [
    "SDH TEST case - 5000 0-ml cases pick that"
   ]
  },
  {
   "cell_type": "code",
   "execution_count": 32,
   "id": "ae1ccb02",
   "metadata": {},
   "outputs": [],
   "source": [
    "k  = {}"
   ]
  },
  {
   "cell_type": "code",
   "execution_count": 35,
   "id": "4759e35e",
   "metadata": {},
   "outputs": [],
   "source": [
    "k[\"a\"] = 1"
   ]
  },
  {
   "cell_type": "code",
   "execution_count": 33,
   "id": "ce87b019",
   "metadata": {},
   "outputs": [
    {
     "name": "stdout",
     "output_type": "stream",
     "text": [
      "yes\n"
     ]
    }
   ],
   "source": [
    "if isinstance(k, dict) :\n",
    "    print(\"yes\")"
   ]
  },
  {
   "cell_type": "code",
   "execution_count": 36,
   "id": "e7fc88ad",
   "metadata": {},
   "outputs": [
    {
     "data": {
      "text/plain": [
       "1"
      ]
     },
     "execution_count": 36,
     "metadata": {},
     "output_type": "execute_result"
    }
   ],
   "source": [
    "len(k)"
   ]
  },
  {
   "cell_type": "code",
   "execution_count": 41,
   "id": "e57bbfcc",
   "metadata": {},
   "outputs": [
    {
     "data": {
      "text/plain": [
       "('a', 1)"
      ]
     },
     "execution_count": 41,
     "metadata": {},
     "output_type": "execute_result"
    }
   ],
   "source": [
    "list(k.items())[0]"
   ]
  },
  {
   "cell_type": "code",
   "execution_count": 46,
   "id": "93422adb",
   "metadata": {},
   "outputs": [
    {
     "data": {
      "text/plain": [
       "'a'"
      ]
     },
     "execution_count": 46,
     "metadata": {},
     "output_type": "execute_result"
    }
   ],
   "source": [
    "list(k.keys())[0]"
   ]
  },
  {
   "cell_type": "code",
   "execution_count": 47,
   "id": "eabcc78d",
   "metadata": {},
   "outputs": [
    {
     "name": "stdout",
     "output_type": "stream",
     "text": [
      "{'student_math': 'Bob', 'student_english': 'Eve'}\n"
     ]
    }
   ],
   "source": [
    "original_dict = {\n",
    "    \"teacher1\": \"John\",\n",
    "    \"teacher2\": \"Alice\",\n",
    "    \"student_math\": \"Bob\",\n",
    "    \"student_english\": \"Eve\",\n",
    "}\n",
    "\n",
    "# Remove items with keys starting with \"teacher\"\n",
    "keys_to_remove = [key for key in original_dict.keys() if key.startswith(\"teacher\")]\n",
    "for key in keys_to_remove:\n",
    "    original_dict.pop(key)\n",
    "\n",
    "# Rename keys starting with \"student_\" by replacing the label key\n",
    "for key in list(original_dict.keys()):\n",
    "    if key.startswith(\"student_\"):\n",
    "        label_key = key.split(\"_\")[1]\n",
    "        original_dict[f\"student_{label_key}\"] = original_dict.pop(key)\n",
    "\n",
    "print(original_dict)\n"
   ]
  },
  {
   "cell_type": "code",
   "execution_count": 50,
   "id": "4b497bc7",
   "metadata": {},
   "outputs": [
    {
     "name": "stdout",
     "output_type": "stream",
     "text": [
      "a\n"
     ]
    }
   ],
   "source": [
    "my_dict = {\n",
    "    \"a\": \"value\"\n",
    "}\n",
    "\n",
    "# Get the value from the dictionary\n",
    "value = next(iter(my_dict.keys()))\n",
    "\n",
    "print(value)\n"
   ]
  },
  {
   "cell_type": "code",
   "execution_count": 6,
   "id": "35683462",
   "metadata": {},
   "outputs": [],
   "source": [
    "\n",
    "\n"
   ]
  },
  {
   "cell_type": "code",
   "execution_count": 4,
   "id": "b1416922",
   "metadata": {},
   "outputs": [
    {
     "data": {
      "application/json": {
       "ascii": false,
       "bar_format": null,
       "colour": null,
       "elapsed": 0.014225244522094727,
       "initial": 0,
       "n": 0,
       "ncols": null,
       "nrows": 60,
       "postfix": null,
       "prefix": "",
       "rate": null,
       "total": null,
       "unit": "it",
       "unit_divisor": 1000,
       "unit_scale": false
      },
      "application/vnd.jupyter.widget-view+json": {
       "model_id": "a40aa1a74d8d4c129a49e0c89a64f1a8",
       "version_major": 2,
       "version_minor": 0
      },
      "text/plain": [
       "0it [00:00, ?it/s]"
      ]
     },
     "metadata": {},
     "output_type": "display_data"
    }
   ],
   "source": [
    "from typing import Optional, List, Dict\n",
    "import numpy as np\n",
    "import pandas as pd\n",
    "import os\n",
    "import os\n",
    "import ast\n",
    "from tqdm.auto import tqdm\n",
    "import h5py\n",
    "from loguru import logger\n",
    "import random\n",
    "import SimpleITK as sitk\n",
    "\n",
    "root_dir = \"/data_nas3/processed/hct/Cache/all_imgs_cache.dcm/\"\n",
    "\n",
    "df_hemorrhage_mask = pd.read_csv(\"/home/users/shubham.kumar/projects/ICH_classification_segmentation/final_train_val_bleed_pos_seg_dataset.csv\")\n",
    "df_hemorrhage_mask = df_hemorrhage_mask[df_hemorrhage_mask.POSTOP==0]\n",
    "df_hemorrhage_mask = df_hemorrhage_mask[df_hemorrhage_mask.Intensity==\"acute\"]\n",
    "study_uids_having_bleed_mask = list(set(df_hemorrhage_mask.StudyUID.values))\n",
    "\n",
    "df_bleed_seg_bbox = pd.read_csv(\"/home/users/shubham.kumar/projects/ICH_classification_segmentation/bleed_seg_bbox.csv\")\n",
    "df_normal = pd.read_csv(\"/home/users/shubham.kumar/projects/qct_training_framework/notebooks/train_normal_ncct.csv\")\n",
    "normal_study_uids = list(df_normal.sample(5000,random_state=85).StudyUID.values)\n",
    "\n",
    "\n",
    "df_train = pd.read_csv(\"/home/users/shubham.kumar/projects/ICH_classification_segmentation/ICH_dataset_train.csv\")\n",
    "df_train = df_train[df_train[\"StudyUID\"].isin(study_uids_having_bleed_mask)]\n",
    "\n",
    "def get_mls_icv(sitk_img):\n",
    "    output = load_and_run_model(\"mls_helper_icv_quant\",sitk_img)\n",
    "    icv_mask = output['results']['heatmaps']['ICV']\n",
    "    icv_mask_arr = sitk.GetArrayFromImage(icv_mask)\n",
    "#     midline_output = load_and_run_model(\"mls_quantification\" ,sitk_img)\n",
    "#     mls_arr = sitk.GetArrayFromImage(midline_output['results']['heatmaps']['MLS'])\n",
    "#     return mls_arr , icv_mask_arr\n",
    "    return icv_mask_arr\n",
    "\n",
    "def _load_cls_data(df: pd.DataFrame, phase: str):\n",
    "    data_dict = []\n",
    "\n",
    "    for ind, row in tqdm(df.iterrows()):\n",
    "        temp_dict = {}\n",
    "        if phase == \"test\":\n",
    "            base_path = \"/cache/fast_data_nas8/qer/shubham/ich_seg\"\n",
    "            path = os.path.join(base_path, row[\"StudyUID\"])\n",
    "            temp_dict[\"datapath\"] = path + \".h5\"\n",
    "            temp_dict[\"study_uid\"] = row[\"StudyUID\"]\n",
    "        else:\n",
    "            if row[\"ANY\"] == 100:\n",
    "                continue\n",
    "            temp_dict[\"scan_label\"] = row[\"ANY\"]\n",
    "            temp_dict[\"study_uid\"] = row[\"StudyUID\"]\n",
    "            temp_dict[\"IPH\"] = row[\"ICH\"] or row[\"CONT\"]\n",
    "            temp_dict[\"SDH\"] = row[\"SDH\"]\n",
    "            temp_dict[\"SAH\"] = row[\"SAH\"]\n",
    "            temp_dict[\"EDH\"] = row[\"EDH\"]\n",
    "            temp_dict[\"IVH\"] = row[\"IVH\"]\n",
    "            base_path = \"/cache/fast_data_nas8/qer/shubham/ich\"\n",
    "            path = os.path.join(base_path, row[\"StudyUID\"])\n",
    "            temp_dict[\"datapath\"] = path + \".h5\"\n",
    "            if temp_dict[\"scan_label\"] == 1 and temp_dict[\"study_uid\"] in study_uids_having_bleed_mask: \n",
    "                try : \n",
    "                    f2 = h5py.File(temp_dict[\"datapath\"], \"r+\")\n",
    "                    if \"mask\" not in f2.keys():\n",
    "                        base_path = \"/cache/fast_data_nas8/qer/shubham/ich_seg_train_val\"\n",
    "                        path = os.path.join(base_path, row[\"StudyUID\"])\n",
    "                        temp_dict[\"datapath\"] = path + \".h5\"\n",
    "\n",
    "                        # row = df_bleed_seg_bbox.loc[df_bleed_seg_bbox[\"StudyUID\"]== temp_dict[\"study_uid\"]]\n",
    "                        # if len(row) > 0:\n",
    "                        #     temp_dict[\"lower\"] = int(row.z1.values[0])\n",
    "                        #     temp_dict[\"upper\"] = int(row.z2.values[0])\n",
    "\n",
    "                    f2.close()\n",
    "                except:\n",
    "                    logger.debug(temp_dict[\"datapath\"])\n",
    "                    continue\n",
    "\n",
    "            if row[\"StudyUID\"] in normal_study_uids :\n",
    "                base_path = \"/cache/fast_data_nas8/qer/shubham/new_test\"\n",
    "                valid_paths = []\n",
    "                study_uid =  row[\"StudyUID\"]\n",
    "                for perp_dist in range(0,30) : \n",
    "                    path = os.path.join(base_path, f\"{study_uid}_{perp_dist}.h5\" )\n",
    "                    if os.path.exists(path) :\n",
    "                        valid_paths.append(path)\n",
    "                if len(valid_paths) > 0 : \n",
    "                    temp_dict[\"datapath\"] = random.choice(valid_paths)\n",
    "                    temp_dict[\"SDH\"] = row[\"SDH\"]\n",
    "                    temp_dict[\"scan_label\"] = 1\n",
    "                else :\n",
    "                    continue\n",
    "            try:\n",
    "                temp_dict[\"crop\"] = np.array(ast.literal_eval(row[\"crop\"]))\n",
    "            except:\n",
    "                temp_dict[\"crop\"] = None\n",
    "\n",
    "        if os.path.exists(temp_dict[\"datapath\"]):\n",
    "            if temp_dict[\"datapath\"] in [\"/cache/fast_data_nas8/qer/shubham/ich/1.2.840.113619.2.55.3.2831165742.939.1462502069.683.h5\",\n",
    "                                         \"/cache/fast_data_nas8/qer/shubham/ich/1.2.840.113619.2.81.290.1.930.20140413.223950.h5\",\n",
    "                                         \"/cache/fast_data_nas8/qer/shubham/test/1.3.6.1.4.1.25403.52234692458.1372.20150116103719.1_7.h5\"]:\n",
    "                continue\n",
    "            data_dict.append(temp_dict)\n",
    "    return data_dict\n",
    "\n",
    "\n",
    "\n",
    "data_dict = _load_cls_data(df_train, \"train\")\n",
    "\n",
    "for data in tqdm(data_dict) :\n",
    "    try :\n",
    "        \n",
    "        datapath = data[\"datapath\"]\n",
    "        f2 = h5py.File(datapath, \"r+\")\n",
    "        if \"icv_mask\" in f2.keys() :\n",
    "            continue\n",
    "        arr = np.array(f2[\"image\"])\n",
    "        img = sitk.GetImageFromArray(arr)\n",
    "        img.SetSpacing((1,1,5))\n",
    "        icv_arr = get_mls_icv(img)\n",
    "\n",
    "\n",
    "#         slices_to_pick = np.unique(np.argwhere(mls_arr ==1)[:,0])\n",
    "#         random.shuffle(slices_to_pick)\n",
    "#         slice_to_pick = slices_to_pick[0]\n",
    "#         req_mls_arr = mls_arr[slice_to_pick]\n",
    "\n",
    "#         ml_coordinates = np.argwhere(req_mls_arr==1)\n",
    "#         (x1,y1) = ml_coordinates[0]\n",
    "#         (x2,y2) = ml_coordinates[-1]\n",
    "\n",
    "#         # Calculate the slope (m) and y-intercept (b)\n",
    "#         m = (y2 - y1) / (x2 - x1)\n",
    "#         b = y1 - m * x1\n",
    "\n",
    "#         # Create an empty mask\n",
    "#         seperator_mask = np.zeros(req_mls_arr.shape, dtype=np.uint8)\n",
    "\n",
    "#         for x in range(req_mls_arr.shape[0]):\n",
    "#             for y in range(req_mls_arr.shape[1]):\n",
    "#                 if y >= m * x + b:\n",
    "#                     seperator_mask[x, y] = 2\n",
    "#                 else :\n",
    "#                     seperator_mask[x, y] = 1\n",
    "\n",
    "        dseta = f2.create_dataset(\"icv_mask\", data= icv_arr)\n",
    "#         dseta = f2.create_dataset(\"hemi_seperator_mask\", data= seperator_mask)\n",
    "\n",
    "        f2.close()\n",
    "    except KeyboardInterrupt:\n",
    "        break\n",
    "    except Exception as e :\n",
    "        logger.debug(e)\n",
    "\n",
    "    "
   ]
  },
  {
   "cell_type": "code",
   "execution_count": 7,
   "id": "ac86cf82",
   "metadata": {},
   "outputs": [],
   "source": []
  },
  {
   "cell_type": "code",
   "execution_count": null,
   "id": "08380c45",
   "metadata": {},
   "outputs": [
    {
     "data": {
      "application/json": {
       "ascii": false,
       "bar_format": null,
       "colour": null,
       "elapsed": 0.00873875617980957,
       "initial": 0,
       "n": 0,
       "ncols": null,
       "nrows": 60,
       "postfix": null,
       "prefix": "",
       "rate": null,
       "total": 1515,
       "unit": "it",
       "unit_divisor": 1000,
       "unit_scale": false
      },
      "application/vnd.jupyter.widget-view+json": {
       "model_id": "4e0fede880884a8081c3b987c7f3720b",
       "version_major": 2,
       "version_minor": 0
      },
      "text/plain": [
       "  0%|          | 0/1515 [00:00<?, ?it/s]"
      ]
     },
     "metadata": {},
     "output_type": "display_data"
    },
    {
     "name": "stdout",
     "output_type": "stream",
     "text": [
      "[2023-09-24 11:46:40 +0530] [INFO] Loading model mls_helper_icv_quant\n",
      "[2023-09-24 11:46:49 +0530] [INFO] Loading model mls_helper_icv_quant\n",
      "[2023-09-24 11:46:52 +0530] [INFO] Loading model mls_helper_icv_quant\n",
      "[2023-09-24 11:47:27 +0530] [INFO] Loading model mls_helper_icv_quant\n",
      "[2023-09-24 11:47:32 +0530] [INFO] Loading model mls_helper_icv_quant\n",
      "[2023-09-24 11:47:41 +0530] [INFO] Loading model mls_helper_icv_quant\n",
      "[2023-09-24 11:47:46 +0530] [INFO] Loading model mls_helper_icv_quant\n",
      "[2023-09-24 11:47:49 +0530] [INFO] Loading model mls_helper_icv_quant\n",
      "[2023-09-24 11:47:52 +0530] [INFO] Loading model mls_helper_icv_quant\n",
      "[2023-09-24 11:48:20 +0530] [INFO] Loading model mls_helper_icv_quant\n",
      "[2023-09-24 11:48:23 +0530] [INFO] Loading model mls_helper_icv_quant\n",
      "[2023-09-24 11:50:16 +0530] [INFO] Loading model mls_helper_icv_quant\n",
      "[2023-09-24 11:50:19 +0530] [INFO] Loading model mls_helper_icv_quant\n",
      "[2023-09-24 11:50:23 +0530] [INFO] Loading model mls_helper_icv_quant\n",
      "[2023-09-24 11:50:25 +0530] [INFO] Loading model mls_helper_icv_quant\n",
      "[2023-09-24 11:50:29 +0530] [INFO] Loading model mls_helper_icv_quant\n"
     ]
    }
   ],
   "source": [
    "for data in tqdm(data_dict) :\n",
    "    try :\n",
    "        \n",
    "        datapath = data[\"datapath\"]\n",
    "        f2 = h5py.File(datapath, \"r+\")\n",
    "        if \"icv_mask\" in f2.keys() :\n",
    "            continue\n",
    "        arr = np.array(f2[\"image\"])\n",
    "        img = sitk.GetImageFromArray(arr)\n",
    "        img.SetSpacing((1,1,5))\n",
    "        icv_arr = get_mls_icv(img)\n",
    "\n",
    "\n",
    "#         slices_to_pick = np.unique(np.argwhere(mls_arr ==1)[:,0])\n",
    "#         random.shuffle(slices_to_pick)\n",
    "#         slice_to_pick = slices_to_pick[0]\n",
    "#         req_mls_arr = mls_arr[slice_to_pick]\n",
    "\n",
    "#         ml_coordinates = np.argwhere(req_mls_arr==1)\n",
    "#         (x1,y1) = ml_coordinates[0]\n",
    "#         (x2,y2) = ml_coordinates[-1]\n",
    "\n",
    "#         # Calculate the slope (m) and y-intercept (b)\n",
    "#         m = (y2 - y1) / (x2 - x1)\n",
    "#         b = y1 - m * x1\n",
    "\n",
    "#         # Create an empty mask\n",
    "#         seperator_mask = np.zeros(req_mls_arr.shape, dtype=np.uint8)\n",
    "\n",
    "#         for x in range(req_mls_arr.shape[0]):\n",
    "#             for y in range(req_mls_arr.shape[1]):\n",
    "#                 if y >= m * x + b:\n",
    "#                     seperator_mask[x, y] = 2\n",
    "#                 else :\n",
    "#                     seperator_mask[x, y] = 1\n",
    "\n",
    "        dseta = f2.create_dataset(\"icv_mask\", data= icv_arr)\n",
    "#         dseta = f2.create_dataset(\"hemi_seperator_mask\", data= seperator_mask)\n",
    "\n",
    "        f2.close()\n",
    "    except KeyboardInterrupt:\n",
    "        break\n",
    "    except Exception as e :\n",
    "        logger.debug(e)\n",
    "\n",
    "    "
   ]
  },
  {
   "cell_type": "code",
   "execution_count": null,
   "id": "6a73dd2f",
   "metadata": {},
   "outputs": [],
   "source": []
  }
 ],
 "metadata": {
  "kernelspec": {
   "display_name": "Python 3 (ipykernel)",
   "language": "python",
   "name": "python3"
  },
  "language_info": {
   "codemirror_mode": {
    "name": "ipython",
    "version": 3
   },
   "file_extension": ".py",
   "mimetype": "text/x-python",
   "name": "python",
   "nbconvert_exporter": "python",
   "pygments_lexer": "ipython3",
   "version": "3.9.15"
  }
 },
 "nbformat": 4,
 "nbformat_minor": 5
}
